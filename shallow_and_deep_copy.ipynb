{
 "cells": [
  {
   "cell_type": "code",
   "execution_count": 29,
   "id": "95df68b9",
   "metadata": {},
   "outputs": [
    {
     "name": "stdout",
     "output_type": "stream",
     "text": [
      "True\n"
     ]
    }
   ],
   "source": [
    "x = [1,2,3,4]\n",
    "y = x\n",
    "print(x is y)"
   ]
  },
  {
   "cell_type": "markdown",
   "id": "4e2c7396",
   "metadata": {},
   "source": [
    "In Python, the 'is' operator checks whether two variables point to the same object in memory. In this case, y = x makes 'y' a reference to the same list object that 'x' refers to. Therefore, 'x' is 'y' is True because both x and y refer to the same list object."
   ]
  },
  {
   "cell_type": "code",
   "execution_count": 30,
   "id": "ea8b970e",
   "metadata": {},
   "outputs": [
    {
     "name": "stdout",
     "output_type": "stream",
     "text": [
      "1384006312384\n",
      "1384006312384\n"
     ]
    }
   ],
   "source": [
    "print(id(x))\n",
    "print(id(y))"
   ]
  },
  {
   "cell_type": "code",
   "execution_count": null,
   "id": "087d6b30",
   "metadata": {},
   "outputs": [],
   "source": []
  },
  {
   "cell_type": "markdown",
   "id": "28793489",
   "metadata": {},
   "source": [
    "## shallow copy"
   ]
  },
  {
   "cell_type": "code",
   "execution_count": 31,
   "id": "ce202283",
   "metadata": {},
   "outputs": [
    {
     "name": "stdout",
     "output_type": "stream",
     "text": [
      "False\n"
     ]
    }
   ],
   "source": [
    "import copy\n",
    "x = [1,2,3,4,5]\n",
    "y = copy.copy(x)\n",
    "print(x is y)"
   ]
  },
  {
   "cell_type": "code",
   "execution_count": 32,
   "id": "281b5cfc",
   "metadata": {},
   "outputs": [
    {
     "name": "stdout",
     "output_type": "stream",
     "text": [
      "1384006463360\n",
      "1384003187904\n"
     ]
    }
   ],
   "source": [
    "print(id(x))\n",
    "print(id(y))"
   ]
  },
  {
   "cell_type": "raw",
   "id": "7c31e878",
   "metadata": {},
   "source": [
    "Shallow Copy: A shallow copy creates a new object, but does not create copies of nested objects. Instead, it only copies references to those nested objects."
   ]
  },
  {
   "cell_type": "code",
   "execution_count": 33,
   "id": "4ef9da2c",
   "metadata": {},
   "outputs": [],
   "source": [
    "import copy\n",
    "\n",
    "original = [[1, 2, 3], [4, 5, 6]]\n",
    "shallow_copy = copy.copy(original)\n",
    "\n",
    "shallow_copy[0][0] = 'A'\n"
   ]
  },
  {
   "cell_type": "code",
   "execution_count": 34,
   "id": "66cb3c76",
   "metadata": {},
   "outputs": [
    {
     "name": "stdout",
     "output_type": "stream",
     "text": [
      "[['A', 2, 3], [4, 5, 6]]\n",
      "[['A', 2, 3], [4, 5, 6]]\n"
     ]
    }
   ],
   "source": [
    "print(original)\n",
    "print(shallow_copy)"
   ]
  },
  {
   "cell_type": "raw",
   "id": "0f28eb8c",
   "metadata": {},
   "source": [
    "when you modify the 'shallow_copy', changes to the nested objects will also appear in the 'original' because they share same references."
   ]
  },
  {
   "cell_type": "markdown",
   "id": "c0d4e13e",
   "metadata": {},
   "source": [
    "## Deep copy"
   ]
  },
  {
   "cell_type": "code",
   "execution_count": 35,
   "id": "c3fd1ec7",
   "metadata": {},
   "outputs": [
    {
     "name": "stdout",
     "output_type": "stream",
     "text": [
      "False\n"
     ]
    }
   ],
   "source": [
    "import copy\n",
    "a = [1,2,3,4,5]\n",
    "b = copy.deepcopy(a)\n",
    "print(a is b)"
   ]
  },
  {
   "cell_type": "code",
   "execution_count": 36,
   "id": "803b1305",
   "metadata": {},
   "outputs": [
    {
     "name": "stdout",
     "output_type": "stream",
     "text": [
      "1384006319168\n",
      "1384003350720\n"
     ]
    }
   ],
   "source": [
    "print(id(a))\n",
    "print(id(b))"
   ]
  },
  {
   "cell_type": "raw",
   "id": "fff10c04",
   "metadata": {},
   "source": [
    "Deep Copy: A deep copy creates a new object and in contrast to shallow copy, it copies all nested objects, ensuring that changes to the copy do not affect the original."
   ]
  },
  {
   "cell_type": "code",
   "execution_count": 37,
   "id": "b1279ed8",
   "metadata": {},
   "outputs": [],
   "source": [
    "import copy\n",
    "\n",
    "original = [[1, 2, 3], [4, 5, 6]]\n",
    "deep_copy = copy.deepcopy(original)\n",
    "\n",
    "deep_copy[1][1] = 'B'\n"
   ]
  },
  {
   "cell_type": "code",
   "execution_count": 38,
   "id": "8031209f",
   "metadata": {},
   "outputs": [
    {
     "name": "stdout",
     "output_type": "stream",
     "text": [
      "[[1, 2, 3], [4, 5, 6]]\n",
      "[['A', 2, 3], [4, 5, 6]]\n"
     ]
    }
   ],
   "source": [
    "print(original)\n",
    "print(shallow_copy)"
   ]
  },
  {
   "cell_type": "raw",
   "id": "3eb81512",
   "metadata": {},
   "source": [
    "the changes to the 'deep_copy' do not affect the 'original' because it has completely independent copies of all nested objects."
   ]
  }
 ],
 "metadata": {
  "kernelspec": {
   "display_name": "Python 3 (ipykernel)",
   "language": "python",
   "name": "python3"
  },
  "language_info": {
   "codemirror_mode": {
    "name": "ipython",
    "version": 3
   },
   "file_extension": ".py",
   "mimetype": "text/x-python",
   "name": "python",
   "nbconvert_exporter": "python",
   "pygments_lexer": "ipython3",
   "version": "3.11.5"
  }
 },
 "nbformat": 4,
 "nbformat_minor": 5
}
