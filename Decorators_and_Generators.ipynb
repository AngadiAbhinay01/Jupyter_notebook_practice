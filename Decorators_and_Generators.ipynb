{
 "cells": [
  {
   "cell_type": "markdown",
   "id": "ff1ebe68",
   "metadata": {},
   "source": [
    "## Decoratrs"
   ]
  },
  {
   "cell_type": "markdown",
   "id": "3f1baea0",
   "metadata": {},
   "source": [
    "Decorator is a function which can take a function as argument and extend its functionality \n",
    "and returns modified function with extended functionality."
   ]
  },
  {
   "cell_type": "code",
   "execution_count": 1,
   "id": "69f51a75",
   "metadata": {},
   "outputs": [
    {
     "name": "stdout",
     "output_type": "stream",
     "text": [
      "hello tony good morning\n",
      "hello steve good morning\n",
      "hello thor good morning\n"
     ]
    }
   ],
   "source": [
    "def wish(name):\n",
    "    print('hello',name,'good morning')\n",
    "    \n",
    "wish('tony')\n",
    "wish('steve')\n",
    "wish('thor')"
   ]
  },
  {
   "cell_type": "code",
   "execution_count": 4,
   "id": "ac5dad15",
   "metadata": {},
   "outputs": [
    {
     "name": "stdout",
     "output_type": "stream",
     "text": [
      "hello tony good morning\n",
      "hello steve good morning\n",
      "hello thor bad morning\n"
     ]
    }
   ],
   "source": [
    "def decor(fun):\n",
    "    def inner(name):\n",
    "        if name == 'thor':\n",
    "            print('hello',name,'bad morning')\n",
    "        else:\n",
    "            fun(name)\n",
    "    return inner\n",
    "\n",
    "@decor\n",
    "def wish(name):\n",
    "    print('hello',name,'good morning')\n",
    "    \n",
    "wish('tony')\n",
    "wish('steve')\n",
    "wish('thor')"
   ]
  },
  {
   "cell_type": "code",
   "execution_count": 8,
   "id": "82d25e1b",
   "metadata": {},
   "outputs": [
    {
     "name": "stdout",
     "output_type": "stream",
     "text": [
      "hello tony good morning\n",
      "hello steve good morning\n",
      "hello thor good morning\n",
      "hello bruce prick\n",
      "hello thor good morning\n",
      "hello clint good morning\n"
     ]
    }
   ],
   "source": [
    "# How to call Same Function with Decorator and without Decorator:\n",
    "\n",
    "def decor(fun):\n",
    "    def inner(name):\n",
    "        if name == 'bruce':\n",
    "            print('hello',name,'prick')\n",
    "        else:\n",
    "            fun(name)\n",
    "    return inner\n",
    "\n",
    "def wish(name):\n",
    "    print('hello',name,'good morning')\n",
    "    \n",
    "decor_function = decor(wish)\n",
    "\n",
    "wish('tony')           #decorator wont be executed \n",
    "wish('steve')          #decorator wont be executed \n",
    "wish('thor')           #decorator wont be executed \n",
    "\n",
    "decor_function('bruce')      #decorator will be executed \n",
    "decor_function('thor')       #decorator will be executed\n",
    "decor_function('clint')      #decorator will be executed"
   ]
  },
  {
   "cell_type": "code",
   "execution_count": null,
   "id": "d141c77e",
   "metadata": {},
   "outputs": [],
   "source": []
  },
  {
   "cell_type": "code",
   "execution_count": 13,
   "id": "d94d0391",
   "metadata": {},
   "outputs": [
    {
     "name": "stdout",
     "output_type": "stream",
     "text": [
      "2.0\n",
      "division not possible\n",
      "None\n"
     ]
    }
   ],
   "source": [
    "def smart_division(fun):\n",
    "    def inner(a,b):\n",
    "        if b == 0:\n",
    "            print('division not possible')\n",
    "            return\n",
    "        else:\n",
    "            return fun(a,b)\n",
    "    return inner\n",
    "\n",
    "@smart_division\n",
    "def division(a,b):\n",
    "    return a/b\n",
    "\n",
    "print(division(20,10))\n",
    "print(division(20,0))\n",
    "    "
   ]
  },
  {
   "cell_type": "code",
   "execution_count": null,
   "id": "bc7b3062",
   "metadata": {},
   "outputs": [],
   "source": []
  },
  {
   "cell_type": "markdown",
   "id": "e3ea549a",
   "metadata": {},
   "source": [
    "## Generators"
   ]
  },
  {
   "cell_type": "raw",
   "id": "c8328503",
   "metadata": {},
   "source": [
    "Generator is a function which is responsible to generate a sequence of values.\n",
    "We can write generator functions just like ordinary functions, but it uses yield keyword to \n",
    "return values."
   ]
  },
  {
   "cell_type": "code",
   "execution_count": 17,
   "id": "27a43e0e",
   "metadata": {},
   "outputs": [
    {
     "name": "stdout",
     "output_type": "stream",
     "text": [
      "[1, 2, 3, 4, 5, 6, 7, 8, 9, 10]\n"
     ]
    }
   ],
   "source": [
    "def generator_fun(num):\n",
    "    n=1\n",
    "    while n<=num:\n",
    "        yield n\n",
    "        n = n+1\n",
    "        \n",
    "values = generator_fun(10)\n",
    "print(list(values))"
   ]
  },
  {
   "cell_type": "code",
   "execution_count": 22,
   "id": "24c6350f",
   "metadata": {},
   "outputs": [
    {
     "name": "stdout",
     "output_type": "stream",
     "text": [
      "0\n",
      "1\n",
      "1\n",
      "2\n",
      "3\n",
      "5\n",
      "8\n",
      "13\n",
      "21\n",
      "34\n",
      "55\n",
      "89\n"
     ]
    }
   ],
   "source": [
    "def generator_fun_1(num):\n",
    "    a = 0\n",
    "    b = 1\n",
    "    yield a\n",
    "    yield b\n",
    "    while num>0:\n",
    "        yield a+b\n",
    "        a,b = b, a+b\n",
    "        num = num -1\n",
    "for i in generator_fun_1(100):\n",
    "    if i > 100:\n",
    "        break\n",
    "    print(i)"
   ]
  },
  {
   "cell_type": "code",
   "execution_count": 2,
   "id": "6069848e",
   "metadata": {},
   "outputs": [
    {
     "name": "stdout",
     "output_type": "stream",
     "text": [
      "[1, 2, 3, 4, 5, 6, 7, 8, 9, 10]\n"
     ]
    }
   ],
   "source": [
    "def generate_fun(n):\n",
    "    for i in range(1,n+1):\n",
    "        yield i\n",
    "res = generate_fun(10)\n",
    "print(list(res))"
   ]
  },
  {
   "cell_type": "code",
   "execution_count": null,
   "id": "de60d1a0",
   "metadata": {},
   "outputs": [],
   "source": []
  },
  {
   "cell_type": "code",
   "execution_count": null,
   "id": "08d52d4f",
   "metadata": {},
   "outputs": [],
   "source": []
  },
  {
   "cell_type": "code",
   "execution_count": null,
   "id": "7636c2cf",
   "metadata": {},
   "outputs": [],
   "source": []
  }
 ],
 "metadata": {
  "kernelspec": {
   "display_name": "Python 3 (ipykernel)",
   "language": "python",
   "name": "python3"
  },
  "language_info": {
   "codemirror_mode": {
    "name": "ipython",
    "version": 3
   },
   "file_extension": ".py",
   "mimetype": "text/x-python",
   "name": "python",
   "nbconvert_exporter": "python",
   "pygments_lexer": "ipython3",
   "version": "3.11.5"
  }
 },
 "nbformat": 4,
 "nbformat_minor": 5
}
