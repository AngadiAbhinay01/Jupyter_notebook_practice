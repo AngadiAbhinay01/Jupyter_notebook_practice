{
 "cells": [
  {
   "cell_type": "code",
   "execution_count": 6,
   "metadata": {},
   "outputs": [
    {
     "name": "stdout",
     "output_type": "stream",
     "text": [
      "Enter the string : the quick brown fox jumps over the lazy dog\n",
      "It is a pangram string\n"
     ]
    }
   ],
   "source": [
    "#Python Program to Check if a String is a Pangram or Not\n",
    "import string\n",
    "inputString = input(\"Enter the string : \")\n",
    "allAlphabets = 'abcdefghijklmnopqrstuvwxyz'\n",
    "flag = 1\n",
    "for char in allAlphabets:\n",
    "    if char not in inputString:\n",
    "        flag = 0\n",
    "if flag == 0:\n",
    "    print(\"This is not a pangram string\");\n",
    "else:\n",
    "    print(\"It is a pangram string\")"
   ]
  },
  {
   "cell_type": "code",
   "execution_count": 2,
   "metadata": {},
   "outputs": [
    {
     "data": {
      "text/plain": [
       "True"
      ]
     },
     "execution_count": 2,
     "metadata": {},
     "output_type": "execute_result"
    }
   ],
   "source": [
    "def is_pangram(s1):\n",
    "    all_alpha = set('abcdefghijklmnopqrstuvwxyz')\n",
    "    string_set = set(s1.lower())\n",
    "    \n",
    "    return all_alpha.issubset(string_set)\n",
    "    \n",
    "    \n",
    "s1 = 'the quick brown fox jumps over lazy dog'\n",
    "is_pangram(s1)"
   ]
  },
  {
   "cell_type": "code",
   "execution_count": 1,
   "metadata": {},
   "outputs": [
    {
     "name": "stdout",
     "output_type": "stream",
     "text": [
      "enter a string\n",
      "abhi\n",
      "ah"
     ]
    }
   ],
   "source": [
    "#Python Program to Remove Odd Indexed Characters in a string\n",
    "str1 = input(\"enter a string\\n\")\n",
    "str2 = \"\"\n",
    "for char in range(len(str1)):\n",
    "    if char % 2 == 0:\n",
    "        str2 = str2 + str1[char]\n",
    "print(str2,end = \"\")        "
   ]
  },
  {
   "cell_type": "code",
   "execution_count": 13,
   "metadata": {},
   "outputs": [
    {
     "name": "stdout",
     "output_type": "stream",
     "text": [
      "enter the srting:\n",
      "abhi\n",
      "enter the char index to remove:\n",
      "2\n",
      "abi\n"
     ]
    }
   ],
   "source": [
    "#Python Program to Remove the nth Index Character from a Non-Empty String\n",
    "\n",
    "str1 = input(\"enter the srting:\\n\")\n",
    "modified_str = \"\"\n",
    "n = int(input(\"enter the char index to remove:\\n\"))\n",
    "for char in range(0,len(str1)):\n",
    "    if char != n:\n",
    "        modified_str = modified_str + str1[char]\n",
    "        \n",
    "print(modified_str)"
   ]
  },
  {
   "cell_type": "code",
   "execution_count": 41,
   "metadata": {},
   "outputs": [
    {
     "name": "stdout",
     "output_type": "stream",
     "text": [
      "enter the srting:\n",
      "angadi abhinay\n",
      "@ng@di @bhin@y\n"
     ]
    }
   ],
   "source": [
    "#Python Program to Replace All Occurrences of ‘a’ with $ in a String\n",
    "string = input(\"enter the srting:\\n\")\n",
    "new_str = \"\"\n",
    "for i in range(0,len(string)):\n",
    "    if string[i] == 'a':\n",
    "        new_str = new_str + \"@\"\n",
    "    else:\n",
    "        new_str = new_str + string[i]\n",
    "print(new_str)"
   ]
  },
  {
   "cell_type": "code",
   "execution_count": 56,
   "metadata": {},
   "outputs": [
    {
     "name": "stdout",
     "output_type": "stream",
     "text": [
      "enter a stringi cann do this all day\n",
      "i-cann-do-this-all-day\n"
     ]
    }
   ],
   "source": [
    "#Python Program to Replace Every Blank Space with Hyphen in a String\n",
    "str1 = input(\"enter a string\")\n",
    "str2 = str1.replace(' ','-')\n",
    "print(str2)"
   ]
  },
  {
   "cell_type": "code",
   "execution_count": 53,
   "metadata": {},
   "outputs": [
    {
     "name": "stdout",
     "output_type": "stream",
     "text": [
      "Please Enter your Own String : i can do this all day\n",
      "Modified String :   i_can_do_this_all_day\n"
     ]
    }
   ],
   "source": [
    "str1 = input(\"Please Enter your Own String : \")\n",
    "str2 = ''\n",
    "for i in range(len(str1)):\n",
    "    if(str1[i] == ' '):\n",
    "        str2 = str2 + '_'\n",
    "    else:\n",
    "        str2 = str2 + str1[i]\n",
    "        \n",
    "print(\"Modified String :  \", str2)"
   ]
  },
  {
   "cell_type": "code",
   "execution_count": 55,
   "metadata": {},
   "outputs": [
    {
     "name": "stdout",
     "output_type": "stream",
     "text": [
      "Please Enter your Own String : sdfkjn dfjsdf dsfdsif knfidshf\n",
      "Modified String :   sdfkjn_dfjsdf_dsfdsif_knfidshf\n"
     ]
    }
   ],
   "source": [
    "str1 = input(\"Please Enter your Own String : \")\n",
    "str2 = ''\n",
    "for i in str1:\n",
    "    if(i == ' '):\n",
    "        str2 = str2 + '_'\n",
    "    else:\n",
    "        str2 = str2 + i        \n",
    "print(\"Modified String :  \", str2)"
   ]
  },
  {
   "cell_type": "code",
   "execution_count": 65,
   "metadata": {},
   "outputs": [
    {
     "name": "stdout",
     "output_type": "stream",
     "text": [
      "Please Enter your Own String:\n",
      " ironman\n",
      "namnori\n"
     ]
    }
   ],
   "source": [
    "#Python Program to Reverse a String\n",
    "str1 = input(\"Please Enter your Own String:\\n \")\n",
    "str2 = \"\"\n",
    "for char in range(len(str1)-1,-1,-1):\n",
    "    str2 = str2 + str1[char]\n",
    "print(str2)"
   ]
  },
  {
   "cell_type": "code",
   "execution_count": 60,
   "metadata": {},
   "outputs": [
    {
     "name": "stdout",
     "output_type": "stream",
     "text": [
      "The original string  is :  Geeksforgeeks\n",
      "The reversed string(using reversed) is :  skeegrofskeeG\n"
     ]
    }
   ],
   "source": [
    "def reverse(string):\n",
    "    string = list(string)\n",
    "    string.reverse()\n",
    "    return \"\".join(string)\n",
    "s = \"Geeksforgeeks\" \n",
    "print(\"The original string  is : \", s)\n",
    "print(\"The reversed string(using reversed) is : \", reverse(s))"
   ]
  },
  {
   "cell_type": "code",
   "execution_count": 1,
   "metadata": {},
   "outputs": [
    {
     "name": "stdout",
     "output_type": "stream",
     "text": [
      "Please Enter your own String:\n",
      " mississipi\n",
      "enter which char u want to check :i\n",
      "4\n"
     ]
    }
   ],
   "source": [
    "#Python Program to Determine How Many Times a Given Letter Occurs in a String\n",
    "str1 = input(\"Please Enter your own String:\\n \")\n",
    "char = input(\"enter which char u want to check :\")\n",
    "count = 0\n",
    "for i in range(len(str1)):\n",
    "    if str1[i] == char:\n",
    "        count = count + 1\n",
    "print(count)"
   ]
  },
  {
   "cell_type": "code",
   "execution_count": 70,
   "metadata": {},
   "outputs": [
    {
     "name": "stdout",
     "output_type": "stream",
     "text": [
      "Please Enter your own String:\n",
      " angadiabhinay\n",
      "13\n"
     ]
    }
   ],
   "source": [
    "#Python Program to Find the Length of a String without Library Function\n",
    "str1 = input(\"Please Enter your own String:\\n \")\n",
    "count = 0\n",
    "for char in range(len(str1)):\n",
    "    count = count + 1\n",
    "print(count)"
   ]
  },
  {
   "cell_type": "code",
   "execution_count": 2,
   "metadata": {},
   "outputs": [
    {
     "name": "stdout",
     "output_type": "stream",
     "text": [
      "Please Enter your own String:\n",
      " kavali likitha\n",
      "14\n",
      "2\n"
     ]
    }
   ],
   "source": [
    "#Python Program to Count the Number of Words and Characters in a String\n",
    "\n",
    "string = input(\"Please Enter your own String:\\n \")\n",
    "char_count = 0\n",
    "word_count = 1\n",
    "for i in string:\n",
    "    char_count += 1\n",
    "    if i == ' ':\n",
    "        word_count += 1\n",
    "print(char_count)\n",
    "print(word_count)"
   ]
  },
  {
   "cell_type": "code",
   "execution_count": 87,
   "metadata": {},
   "outputs": [
    {
     "name": "stdout",
     "output_type": "stream",
     "text": [
      "Please Enter your own String:\n",
      "I Can Do ThiS aLL dAY\n",
      "no of lowercase characters:\n",
      "7\n"
     ]
    }
   ],
   "source": [
    "#Python Program to Count Number of Lowercase Characters in a String\n",
    "\n",
    "str1 = input(\"Please Enter your own String:\\n\")\n",
    "count = 0\n",
    "for char in str1:\n",
    "    if char.islower():\n",
    "        count = count + 1\n",
    "print(\"no of lowercase characters:\")\n",
    "print(count)"
   ]
  },
  {
   "cell_type": "code",
   "execution_count": 89,
   "metadata": {},
   "outputs": [
    {
     "name": "stdout",
     "output_type": "stream",
     "text": [
      "Please Enter your own String:\n",
      "ICanDoThiSaLLdAY\n",
      "7 are the lower case characters\n",
      "9 are the upper case characters\n"
     ]
    }
   ],
   "source": [
    "#Python program to count upper and lower case characters without using inbuilt functions\n",
    "string = input(\"Please Enter your own String:\\n\")\n",
    "lower = 0\n",
    "upper = 0\n",
    "for char in string:\n",
    "    if char.islower():\n",
    "        lower = lower + 1\n",
    "    else:\n",
    "        upper = upper + 1\n",
    "print(lower,\"are the lower case characters\")\n",
    "print(upper,\"are the upper case characters\")\n"
   ]
  },
  {
   "cell_type": "code",
   "execution_count": 5,
   "metadata": {},
   "outputs": [
    {
     "name": "stdout",
     "output_type": "stream",
     "text": [
      "vowels in given string: 6\n"
     ]
    }
   ],
   "source": [
    "#Python Program to Count the Number of Vowels in a String\n",
    "\n",
    "str1 = \"angadi abhinay\"\n",
    "count = 0\n",
    "for i in str1:\n",
    "    if i == 'a' or i == 'e' or i == 'i' or i == 'o' or i == 'u':\n",
    "        count = count +1\n",
    "print(\"vowels in given string:\",count)"
   ]
  },
  {
   "cell_type": "code",
   "execution_count": 4,
   "metadata": {},
   "outputs": [
    {
     "data": {
      "text/plain": [
       "3"
      ]
     },
     "execution_count": 4,
     "metadata": {},
     "output_type": "execute_result"
    }
   ],
   "source": [
    "def no_vowels(s):\n",
    "    vowels = set('aeiou')\n",
    "    count = 0\n",
    "    for char in s:\n",
    "        if char in vowels:\n",
    "            count += 1\n",
    "    return count\n",
    "\n",
    "s = 'abhinay'\n",
    "no_vowels(s)"
   ]
  },
  {
   "cell_type": "code",
   "execution_count": 11,
   "metadata": {},
   "outputs": [
    {
     "name": "stdout",
     "output_type": "stream",
     "text": [
      "Total letters found :- 18\n",
      "Total digits found :- 4\n"
     ]
    }
   ],
   "source": [
    "#Python Program to Count the Number of Digits and Letters in a String\n",
    "\n",
    "all_digits = ['0', '1', '2', '3', '4', '5', '6', '7', '8', '9']\n",
    "all_letters = ['a', 'b', 'c', 'd', 'e', 'f', 'g', 'h', 'i', 'j', 'k', 'l','m', 'n', 'o', 'p', 'q', 'r', 's', \n",
    "               't', 'u', 'v', 'w', 'x', 'y', 'z']\n",
    "\n",
    "string = \"angadiabhinay2001gmail\"\n",
    "total_digits = 0\n",
    "total_letters = 0\n",
    "\n",
    "for i in string:\n",
    "    if i in all_digits:\n",
    "        total_digits += 1\n",
    "    elif i in all_letters:\n",
    "        total_letters += 1\n",
    "print(\"Total letters found :-\", total_letters)\n",
    "print(\"Total digits found :-\", total_digits)\n"
   ]
  },
  {
   "cell_type": "code",
   "execution_count": 13,
   "metadata": {},
   "outputs": [
    {
     "name": "stdout",
     "output_type": "stream",
     "text": [
      "Letters: 14\n",
      "Digits: 1\n"
     ]
    }
   ],
   "source": [
    "str = \"avenger endgame 4\"\n",
    "digit=letter=0\n",
    "for ch in str:\n",
    "   if ch.isdigit():\n",
    "      digit=digit+1\n",
    "   elif ch.isalpha():\n",
    "      letter=letter+1\n",
    "   else:\n",
    "      pass\n",
    "print(\"Letters:\", letter)\n",
    "print(\"Digits:\", digit)"
   ]
  },
  {
   "cell_type": "code",
   "execution_count": 1,
   "metadata": {},
   "outputs": [
    {
     "name": "stdout",
     "output_type": "stream",
     "text": [
      "ABC\n",
      "ACB\n",
      "BAC\n",
      "BCA\n",
      "CAB\n",
      "CBA\n"
     ]
    }
   ],
   "source": [
    "#Python Program to Print All Permutations of a String in Lexicographic Order\n",
    "\n",
    "ans = []\n",
    "def permute(a, l, r):\n",
    "    if l == r:\n",
    "        ans.append(''.join(a))\n",
    "    else:\n",
    "        for i in range(l, r):\n",
    "            a[l], a[i] = a[i], a[l]\n",
    "            permute(a, l + 1, r)\n",
    "            a[l], a[i] = a[i], a[l]\n",
    "string = \"ABC\"\n",
    "n = len(string)\n",
    "a = list(string)\n",
    "permute(a, 0, n)\n",
    "for i in sorted(ans):\n",
    "    print(i)\n"
   ]
  },
  {
   "cell_type": "code",
   "execution_count": 1,
   "metadata": {},
   "outputs": [
    {
     "name": "stdout",
     "output_type": "stream",
     "text": [
      "geek is in string\n"
     ]
    }
   ],
   "source": [
    "#Python Program to Check if the Substring is Present in the Given String\n",
    "string = \"A geek in need is a geek indeed\"\n",
    "substring = \"geek\"\n",
    "\n",
    "if substring in string:\n",
    "    print(substring,\"is in string\")\n",
    "else:\n",
    "    print(substring,\"isn't present in the string\")"
   ]
  },
  {
   "cell_type": "code",
   "execution_count": 5,
   "metadata": {},
   "outputs": [
    {
     "name": "stdout",
     "output_type": "stream",
     "text": [
      "yes\n"
     ]
    }
   ],
   "source": [
    "string = \"geeks for geeks\"\n",
    "substring = \"geeks\"  \n",
    "s = string.split()\n",
    "if substring in s:\n",
    "    print(\"yes\")\n",
    "else:\n",
    "    print(\"no\")"
   ]
  },
  {
   "cell_type": "code",
   "execution_count": 12,
   "metadata": {},
   "outputs": [
    {
     "name": "stdout",
     "output_type": "stream",
     "text": [
      "enter a string1:nina\n",
      "enter a string2:neena\n",
      "['n', 'a']\n"
     ]
    }
   ],
   "source": [
    "#Python Program to Find Common Characters in Two Strings\n",
    "def common_char(str1,str2):\n",
    "    s1 = set(str1)\n",
    "    s2 = set(str2)\n",
    "    list1 = list(s1 & s2)\n",
    "    return list1\n",
    "str1 = input(\"enter a string1:\")\n",
    "str2 = input(\"enter a string2:\")    \n",
    "x = common_char(str1,str2)\n",
    "print(x)"
   ]
  },
  {
   "cell_type": "code",
   "execution_count": 13,
   "metadata": {},
   "outputs": [
    {
     "name": "stdout",
     "output_type": "stream",
     "text": [
      "enter a string1:abhi\n",
      "enter a string2:ishu\n",
      "{'h', 'i'}\n"
     ]
    }
   ],
   "source": [
    "str1 = input(\"enter a string1:\")\n",
    "str2 = input(\"enter a string2:\") \n",
    "s1 = set(str1)\n",
    "s2 = set(str2)\n",
    "x = []\n",
    "for i in s1:\n",
    "    for j in s2:\n",
    "        if i == j:\n",
    "            x.append(i)\n",
    "print(set(x))            "
   ]
  },
  {
   "cell_type": "code",
   "execution_count": 26,
   "metadata": {},
   "outputs": [
    {
     "name": "stdout",
     "output_type": "stream",
     "text": [
      "enter a string1:berry mango cherry\n",
      "enter a string2:berry peach cherry\n",
      "['p', 'g', 'n', 'o', 'm']\n"
     ]
    }
   ],
   "source": [
    "#Python Program to Find unCommon Characters in Two Strings\n",
    "str1 = input(\"enter a string1:\")\n",
    "str2 = input(\"enter a string2:\") \n",
    "s1 = set(str1)\n",
    "s2 = set(str2)\n",
    "list1 = list(s1^s2)\n",
    "print(list1)"
   ]
  },
  {
   "cell_type": "code",
   "execution_count": 3,
   "metadata": {},
   "outputs": [
    {
     "name": "stdout",
     "output_type": "stream",
     "text": [
      "enter a string1:abhi\n",
      "enter a string2:ishu\n",
      "{'u', 's', 'b', 'a'}\n"
     ]
    }
   ],
   "source": [
    "str1 = input(\"enter a string1:\")\n",
    "str2 = input(\"enter a string2:\") \n",
    "s1 = set(str1)\n",
    "s2 = set(str2)\n",
    "x = []\n",
    "for i in s1:\n",
    "    if i not in s2:\n",
    "        x.append(i)\n",
    "for j in s2:\n",
    "    if j not in s1:\n",
    "        x.append(j)\n",
    "print(set(x))"
   ]
  },
  {
   "cell_type": "code",
   "execution_count": 14,
   "metadata": {},
   "outputs": [
    {
     "name": "stdout",
     "output_type": "stream",
     "text": [
      "['mango', 'peach']\n"
     ]
    }
   ],
   "source": [
    "#Python Program to Find unCommon words in Two Strings\n",
    "def uncommon(s1,s2):\n",
    "    list_s1 = s1.split()\n",
    "    list_s2 = s2.split()\n",
    "    uc_words = []\n",
    "    for i in list_s1:\n",
    "        if i not in list_s2:\n",
    "            uc_words.append(i)\n",
    "    for j in list_s2:\n",
    "        if j not in list_s1:\n",
    "             uc_words.append(j)\n",
    "  \n",
    "    return  uc_words\n",
    "  \n",
    "\n",
    "a = \"berry mango cherry\"\n",
    "b = \"berry peach cherry\"\n",
    "print(uncommon(a,b))\n"
   ]
  },
  {
   "cell_type": "code",
   "execution_count": 15,
   "metadata": {},
   "outputs": [
    {
     "name": "stdout",
     "output_type": "stream",
     "text": [
      "['berry', 'cherry']\n"
     ]
    }
   ],
   "source": [
    "#Python Program to Find Common words in Two Strings\n",
    "\n",
    "def common(str1,str2):\n",
    "    l1 = str1.split()\n",
    "    l2 = str2.split()\n",
    "    z = []\n",
    "    for i in l1:\n",
    "        for j in l2:\n",
    "            if i == j:\n",
    "                z.append(i)\n",
    "    return z\n",
    "s1 = \"berry mango cherry\"\n",
    "s2 = \"berry peach cherry\"\n",
    "print(common(s1,s2))"
   ]
  },
  {
   "cell_type": "code",
   "execution_count": 3,
   "metadata": {},
   "outputs": [
    {
     "name": "stdout",
     "output_type": "stream",
     "text": [
      "enter a string:tony\n",
      "enter a string:sony\n",
      "{'t', 'o', 'n', 'y', 's'}\n"
     ]
    }
   ],
   "source": [
    "#Python Program to Print All Letters Present in Both Strings\n",
    "\n",
    "string1 = input(\"enter a string:\")\n",
    "string2 = input(\"enter a string:\")\n",
    "\n",
    "#total_char = string1 + string2\n",
    "#print(total_char)\n",
    "s1 = set(string1)\n",
    "s2 = set(string2)\n",
    "total_char = (s1 | s2)\n",
    "print(total_char)"
   ]
  },
  {
   "cell_type": "code",
   "execution_count": 25,
   "metadata": {},
   "outputs": [
    {
     "name": "stdout",
     "output_type": "stream",
     "text": [
      "enter string :tony\n",
      "enter another :honey\n",
      "{'t'}\n"
     ]
    }
   ],
   "source": [
    "#Python Program that Displays Letters which are in First String but not in Second\n",
    "\n",
    "str1 = input(\"enter string :\")\n",
    "str2 = input(\"enter another :\")\n",
    "s1 = set(str1)\n",
    "s2 = set(str2)\n",
    "res = s1 - s2\n",
    "print(res)"
   ]
  },
  {
   "cell_type": "code",
   "execution_count": 28,
   "metadata": {},
   "outputs": [
    {
     "name": "stdout",
     "output_type": "stream",
     "text": [
      "angadiabhinay\n",
      "anay\n"
     ]
    }
   ],
   "source": [
    "#Python Program to Create a New String Made up of First and Last 2 Characters\n",
    "\n",
    "str1 = \"angadiabhinay\"\n",
    "count = 0\n",
    "for i in str1:\n",
    "    count = count + 1\n",
    "    new_string = str1[0:2] + str1[count-2:count]\n",
    "print(str1)\n",
    "print(new_string)"
   ]
  },
  {
   "cell_type": "code",
   "execution_count": 15,
   "metadata": {},
   "outputs": [
    {
     "name": "stdout",
     "output_type": "stream",
     "text": [
      "avrs\n"
     ]
    }
   ],
   "source": [
    "string = \"avengers\"\n",
    "x = list(string)\n",
    "for i in x:\n",
    "    res = x[0:2] + x[-2:]\n",
    "print(\"\".join(res))"
   ]
  },
  {
   "cell_type": "code",
   "execution_count": 38,
   "metadata": {},
   "outputs": [
    {
     "name": "stdout",
     "output_type": "stream",
     "text": [
      "str1 is larger\n"
     ]
    }
   ],
   "source": [
    "#Python Program to Find the Larger String without using Built-in Functions\n",
    "\n",
    "str1  = \"i can do this all day\"\n",
    "str2 = \"i am god of thunder\"\n",
    "count1 = 0\n",
    "count2 = 0\n",
    "for i in str1:\n",
    "    count1 = count1 + 1\n",
    "for j in str2:\n",
    "    count2 = count2 + 1\n",
    "\n",
    "if count1 > count2:\n",
    "    print(\"str1 is larger\")\n",
    "else:\n",
    "    print(\"str2 is larger\")\n",
    "    "
   ]
  },
  {
   "cell_type": "code",
   "execution_count": 2,
   "metadata": {},
   "outputs": [
    {
     "name": "stdout",
     "output_type": "stream",
     "text": [
      "ushi\n"
     ]
    }
   ],
   "source": [
    "#Python Program to Swap the First and the Last Character of a String\n",
    "\n",
    "st1 = \"ishu\"\n",
    "start = st1[0]\n",
    "end = st1[-1]\n",
    "middle = st1[1:-1]\n",
    "\n",
    "result = st1[-1] + st1[1:-1] + st1[0]\n",
    "print(result)\n"
   ]
  },
  {
   "cell_type": "code",
   "execution_count": 6,
   "metadata": {},
   "outputs": [
    {
     "name": "stdout",
     "output_type": "stream",
     "text": [
      "enter a word to count:am\n",
      "2\n"
     ]
    }
   ],
   "source": [
    "#Python Program to Count the Occurrences of Each Word in a String\n",
    "\n",
    "string = \"I am programmer. I am student.\"\n",
    "word = input(\"enter a word to count:\")\n",
    "words = string.split()\n",
    "count = 0\n",
    "for w in words:\n",
    "    if w == word:\n",
    "        count = count + 1\n",
    "print(count)"
   ]
  },
  {
   "cell_type": "code",
   "execution_count": 7,
   "metadata": {},
   "outputs": [
    {
     "name": "stdout",
     "output_type": "stream",
     "text": [
      "Enter word:am\n",
      "Count of the word is:\n",
      "2\n"
     ]
    }
   ],
   "source": [
    "string = \"I am programmer. I am student\"\n",
    "word = input(\"Enter word:\")\n",
    "a = []\n",
    "count = 0\n",
    "a = string.split(\" \")\n",
    "for i in range(0,len(a)):\n",
    "      if(word == a[i]):\n",
    "            count = count + 1\n",
    "print(\"Count of the word is:\")\n",
    "print(count)\n"
   ]
  },
  {
   "cell_type": "code",
   "execution_count": 12,
   "metadata": {},
   "outputs": [
    {
     "name": "stdout",
     "output_type": "stream",
     "text": [
      "{'the': 2, 'quick': 1, 'brown': 1, 'fox': 1, 'jumps': 1, 'over': 1, 'lazy': 1, 'dog.': 1}\n"
     ]
    }
   ],
   "source": [
    "def word_count(str):\n",
    "    counts = dict()\n",
    "    words = str.split()\n",
    "    for word in words:\n",
    "        if word in counts:\n",
    "            counts[word] += 1\n",
    "        else:\n",
    "            counts[word] = 1\n",
    "    return counts\n",
    "print( word_count('the quick brown fox jumps over the lazy dog.'))"
   ]
  },
  {
   "cell_type": "code",
   "execution_count": 2,
   "metadata": {},
   "outputs": [
    {
     "name": "stdout",
     "output_type": "stream",
     "text": [
      "['t', 'h', 'e', ' ', 'q', 'u', 'i', 'c', 'k', ' ', 'b', 'r', 'o', 'w', 'n', ' ', 'f', 'o', 'x', ' ', 'j', 'u', 'm', 'p', 's', ' ', 'o', 'v', 'e', 'r', ' ', 'l', 'a', 'z', 'y', ' ', 'd', 'o', 'g', '.']\n"
     ]
    }
   ],
   "source": [
    "x = 'the quick brown fox jumps over lazy dog.'\n",
    "y = list(x)\n",
    "print(y)"
   ]
  },
  {
   "cell_type": "code",
   "execution_count": 7,
   "metadata": {},
   "outputs": [
    {
     "name": "stdout",
     "output_type": "stream",
     "text": [
      "Enter string:ishu\n",
      "Count of the vowels is:\n",
      "2\n"
     ]
    }
   ],
   "source": [
    "#Python Program to Count Number of Vowels in a String using Sets\n",
    "\n",
    "s = input(\"Enter string:\")\n",
    "count = 0\n",
    "vowels = set(\"aeiou\")\n",
    "for alphabet in vowels:\n",
    "    if alphabet in s:\n",
    "        count += 1\n",
    "print(\"Count of the vowels is:\")\n",
    "print(count)"
   ]
  },
  {
   "cell_type": "code",
   "execution_count": 18,
   "metadata": {},
   "outputs": [
    {
     "name": "stdout",
     "output_type": "stream",
     "text": [
      "Enter a string:malayalam\n",
      "The string is a palindrome\n"
     ]
    }
   ],
   "source": [
    "#Python Program to Check if a Given String is Palindrome\n",
    "\n",
    "string = input((\"Enter a string:\"))\n",
    "if(string == string[::-1]):\n",
    "      print(\"The string is a palindrome\")\n",
    "else:\n",
    "      print(\"Not a palindrome\")"
   ]
  },
  {
   "cell_type": "code",
   "execution_count": 8,
   "metadata": {},
   "outputs": [
    {
     "name": "stdout",
     "output_type": "stream",
     "text": [
      "4\n"
     ]
    }
   ],
   "source": [
    "#python program for the longest substring without repeating characters\n",
    "\n",
    "s = \"abdabcbb\"\n",
    "\n",
    "start = 0\n",
    "max_len = 0\n",
    "dict1 = {}\n",
    "\n",
    "for end in range(len(s)):\n",
    "    if s[end] in dict1 and start <= dict1[s[end]]:\n",
    "        start = dict1[s[end]] + 1\n",
    "    else:\n",
    "        max_len = max(max_len, end - start + 1)\n",
    "    dict1[s[end]] = end\n",
    "print(max_len)"
   ]
  },
  {
   "cell_type": "code",
   "execution_count": 9,
   "metadata": {},
   "outputs": [
    {
     "name": "stdout",
     "output_type": "stream",
     "text": [
      "10\n"
     ]
    }
   ],
   "source": [
    "s = \"longest substring present in given substring\"\n",
    "\n",
    "start = 0\n",
    "max_len = 0\n",
    "dict1 = {}\n",
    "\n",
    "for end in range(len(s)):\n",
    "    if s[end] in dict1 and start <= dict1[s[end]]:\n",
    "        start = dict1[s[end]] + 1\n",
    "    else:\n",
    "        max_len = max(max_len, end-start+1)\n",
    "    dict1[s[end]] = end\n",
    "print(max_len)"
   ]
  },
  {
   "cell_type": "code",
   "execution_count": 4,
   "metadata": {},
   "outputs": [
    {
     "name": "stdout",
     "output_type": "stream",
     "text": [
      "bab\n"
     ]
    }
   ],
   "source": [
    "# longest palindrome substring in given string\n",
    "s = \"bbaba\"\n",
    "revs = s[::-1]\n",
    "ans = \"\"\n",
    "\n",
    "for char in range(len(s)):\n",
    "    if s[char] == revs[char]:\n",
    "        ans = ans+s[char]\n",
    "print(ans)\n"
   ]
  },
  {
   "cell_type": "code",
   "execution_count": 20,
   "metadata": {},
   "outputs": [
    {
     "name": "stdout",
     "output_type": "stream",
     "text": [
      "malayalam is a palindrome\n"
     ]
    }
   ],
   "source": [
    "stirng = \"malayalam\"\n",
    "rev = \"\".join(reversed(string))\n",
    "if string == rev:\n",
    "    print(string,\"is a palindrome\")\n",
    "else:\n",
    "    print(string,\"isn't a paiindrome\")"
   ]
  },
  {
   "cell_type": "code",
   "execution_count": 2,
   "metadata": {},
   "outputs": [
    {
     "data": {
      "text/plain": [
       "'uhsi'"
      ]
     },
     "execution_count": 2,
     "metadata": {},
     "output_type": "execute_result"
    }
   ],
   "source": [
    "x = \"ishu\"\n",
    "y = \"\".join(reversed(x))\n",
    "y"
   ]
  },
  {
   "cell_type": "code",
   "execution_count": 23,
   "metadata": {},
   "outputs": [
    {
     "name": "stdout",
     "output_type": "stream",
     "text": [
      "Yes\n"
     ]
    }
   ],
   "source": [
    "x = \"malayalam\"\n",
    "w = \"\"\n",
    "for i in x:\n",
    "    w = w + i\n",
    "if (x == w):\n",
    "    print(\"Yes\")\n",
    "else:\n",
    "    print(\"No\")"
   ]
  },
  {
   "cell_type": "code",
   "execution_count": 31,
   "metadata": {},
   "outputs": [
    {
     "data": {
      "text/plain": [
       "[1, 2, 3, 4, 5, 7, 8, 9]"
      ]
     },
     "execution_count": 31,
     "metadata": {},
     "output_type": "execute_result"
    }
   ],
   "source": [
    "x = [7,4,9,2,8,3,5,1]\n",
    "x.sort()\n",
    "x"
   ]
  },
  {
   "cell_type": "code",
   "execution_count": 33,
   "metadata": {},
   "outputs": [
    {
     "data": {
      "text/plain": [
       "['e', 'm', 'o', 'z']"
      ]
     },
     "execution_count": 33,
     "metadata": {},
     "output_type": "execute_result"
    }
   ],
   "source": [
    "s = \"zemo\"\n",
    "y = sorted(s)\n",
    "y"
   ]
  },
  {
   "cell_type": "code",
   "execution_count": 6,
   "metadata": {},
   "outputs": [
    {
     "data": {
      "text/plain": [
       "['h', 'i', 's', 'u']"
      ]
     },
     "execution_count": 6,
     "metadata": {},
     "output_type": "execute_result"
    }
   ],
   "source": [
    "s = 'ishu'\n",
    "res = sorted(s)\n",
    "res"
   ]
  },
  {
   "cell_type": "code",
   "execution_count": 36,
   "metadata": {},
   "outputs": [
    {
     "name": "stdout",
     "output_type": "stream",
     "text": [
      "race and care are anagram.\n"
     ]
    }
   ],
   "source": [
    "#Python Program to Check whether two Strings are Anagrams\n",
    "str1 = \"race\"\n",
    "str2 = \"care\"\n",
    "#str1 = str1.lower()\n",
    "#str2 = str2.lower()\n",
    "if(len(str1) == len(str2)):\n",
    "    sorted_str1 = sorted(str1)\n",
    "    sorted_str2 = sorted(str2)\n",
    "    if(sorted_str1 == sorted_str2):\n",
    "        print(str1 + \" and \" + str2 + \" are anagram.\")\n",
    "    else:\n",
    "        print(str1 + \" and \" + str2 + \" are not anagram.\")\n",
    "else:\n",
    "    print(str1 + \" and \" + str2 + \" are not anagram.\")"
   ]
  },
  {
   "cell_type": "code",
   "execution_count": 9,
   "metadata": {},
   "outputs": [
    {
     "name": "stdout",
     "output_type": "stream",
     "text": [
      "enter a string :abhi\n",
      "enter another string :abhi\n",
      "abhi and abhi are anagrams\n",
      "None\n"
     ]
    }
   ],
   "source": [
    "def anagram(s1,s2):\n",
    "    if (len(s1) == len(s2)):\n",
    "        sorted_s1 = sorted(s1)\n",
    "        sorted_s2 = sorted(s2)\n",
    "        \n",
    "        if (sorted_s1 == sorted_s2):\n",
    "            print(s1 + \" and \" + s2 + \" are anagrams\")\n",
    "        else:\n",
    "            print(s1 + \" and \" + s2 + \" are not anagrams\")\n",
    "s1 = input(\"enter a string :\")\n",
    "s2 = input(\"enter another string :\")\n",
    "res = anagram(s1,s2)\n",
    "print(res)"
   ]
  },
  {
   "cell_type": "code",
   "execution_count": 39,
   "metadata": {},
   "outputs": [
    {
     "name": "stdout",
     "output_type": "stream",
     "text": [
      "enter a starting point1\n",
      "enter a ending point100\n",
      "1   3   5   7   9   11   33   55   77   99   "
     ]
    }
   ],
   "source": [
    "#Python Program to Find All Odd Palindrome Numbers in a Range\n",
    "start = int(input(\"enter a starting point\"))\n",
    "end = int(input(\"enter a ending point\"))\n",
    "\n",
    "for num in range(start,end):\n",
    "    temp = num\n",
    "    result = 0\n",
    "    \n",
    "    while(num > 0):\n",
    "        last = temp % 10\n",
    "        result = (result * 10) + last\n",
    "        num = num //10\n",
    "\n",
    "    if(temp == result):\n",
    "        if temp%2 != 0:\n",
    "            print(\"%d \" %temp, end = '  ')\n"
   ]
  },
  {
   "cell_type": "code",
   "execution_count": 2,
   "metadata": {},
   "outputs": [
    {
     "name": "stdout",
     "output_type": "stream",
     "text": [
      "{'aet': ['eat', 'tea', 'ate'], 'ant': ['tan', 'nat'], 'abt': ['bat']}\n"
     ]
    }
   ],
   "source": [
    "#given an array of strings,group anagrams together\n",
    "\n",
    "def group_anagrams(str1):\n",
    "    dict = {}\n",
    "    for word in str1:\n",
    "        sorted_word = \"\".join(sorted(word))\n",
    "\n",
    "        if sorted_word not in dict:\n",
    "            dict[sorted_word] = [word]\n",
    "        else:\n",
    "            dict[sorted_word].append(word)\n",
    "    \n",
    "    output = []\n",
    "    for item in dict.values():\n",
    "        output.append(item)\n",
    "    return dict\n",
    "\n",
    "str1 = [\"eat\",\"tea\",\"tan\",\"ate\",\"nat\",\"bat\"]\n",
    "res = group_anagrams(str1)\n",
    "print(res)"
   ]
  },
  {
   "cell_type": "code",
   "execution_count": 1,
   "metadata": {},
   "outputs": [
    {
     "name": "stdout",
     "output_type": "stream",
     "text": [
      "{'u': 1, 'n': 1, 'i': 1, 'v': 1, 'e': 2, 'r': 1, 's': 1}\n"
     ]
    }
   ],
   "source": [
    "x = 'universe'\n",
    "x = list(x)\n",
    "count = {}\n",
    "for i in x:\n",
    "    if i in count:\n",
    "        count[i] += 1\n",
    "    else:\n",
    "        count[i] = 1\n",
    "print(count)"
   ]
  },
  {
   "cell_type": "code",
   "execution_count": 3,
   "metadata": {},
   "outputs": [
    {
     "data": {
      "text/plain": [
       "'ate bat eat nat tan tea'"
      ]
     },
     "execution_count": 3,
     "metadata": {},
     "output_type": "execute_result"
    }
   ],
   "source": [
    "str1 = [\"eat\",\"tea\",\"tan\",\"ate\",\"nat\",\"bat\"]\n",
    "x = \" \".join(sorted(str1))\n",
    "x"
   ]
  },
  {
   "cell_type": "code",
   "execution_count": 13,
   "metadata": {},
   "outputs": [
    {
     "name": "stdout",
     "output_type": "stream",
     "text": [
      "[['eat', 'tea', 'ate'], ['tan', 'nat'], ['bat']]\n"
     ]
    }
   ],
   "source": [
    "def groupAnagrams(strs):\n",
    "    # Create a dictionary to store the anagrams\n",
    "    anagram_dict = {}\n",
    "\n",
    "    # Iterate through each string in the array\n",
    "    for s in strs:\n",
    "        # Sort the string alphabetically\n",
    "        sorted_s = ''.join(sorted(s))\n",
    "\n",
    "        # Check if the sorted string already exists in the dictionary\n",
    "        if sorted_s in anagram_dict:\n",
    "            # If it does, add the original string to the list\n",
    "            anagram_dict[sorted_s].append(s)\n",
    "        else:\n",
    "            # If it doesn't, create a new list with the sorted string as the key\n",
    "            anagram_dict[sorted_s] = [s]\n",
    "\n",
    "    # Return the values (lists of anagrams) in the dictionary\n",
    "    return list(anagram_dict.values())\n",
    "\n",
    "# Test the function with an example array\n",
    "print(groupAnagrams([\"eat\", \"tea\", \"tan\", \"ate\", \"nat\", \"bat\"]))"
   ]
  },
  {
   "cell_type": "code",
   "execution_count": 17,
   "metadata": {},
   "outputs": [
    {
     "name": "stdout",
     "output_type": "stream",
     "text": [
      "{'aet': ['eat', 'tea', 'ate'], 'ant': ['tan', 'nat'], 'abt': ['bat']}\n"
     ]
    }
   ],
   "source": [
    "def group_anagrams(str1):\n",
    "    dict = {}\n",
    "    for word in str1:\n",
    "        sorted_word = \"\".join(sorted(word))\n",
    "\n",
    "        if sorted_word not in dict:\n",
    "            dict[sorted_word] = [word]\n",
    "        else:\n",
    "            dict[sorted_word].append(word)\n",
    "    \n",
    "    output = []\n",
    "    for item in dict.values():\n",
    "        output.append(item)\n",
    "    return dict\n",
    "\n",
    "str1 = [\"eat\",\"tea\",\"tan\",\"ate\",\"nat\",\"bat\"]\n",
    "res = group_anagrams(str1)\n",
    "print(res)"
   ]
  },
  {
   "cell_type": "code",
   "execution_count": 14,
   "metadata": {},
   "outputs": [
    {
     "name": "stdout",
     "output_type": "stream",
     "text": [
      "a2b2c\n"
     ]
    }
   ],
   "source": [
    "x = 'aabbc'\n",
    "count = 1\n",
    "s = \"\"\n",
    "prev = x[0]\n",
    "for i in range(1,len(x)):\n",
    "    if x[i] == prev:\n",
    "        count += 1\n",
    "    else:\n",
    "        s = s + prev\n",
    "        prev = x[i]\n",
    "        if count > 1:\n",
    "            s = s + str(count)\n",
    "            count = 1\n",
    "if x[-2]!=x[-1]:\n",
    "    s += x[-1]\n",
    "print(s)"
   ]
  },
  {
   "cell_type": "code",
   "execution_count": 30,
   "metadata": {},
   "outputs": [
    {
     "data": {
      "text/plain": [
       "'ab2c'"
      ]
     },
     "execution_count": 30,
     "metadata": {},
     "output_type": "execute_result"
    }
   ],
   "source": [
    "#consecutive character count in a string\n",
    "\n",
    "def char_count(x):\n",
    "    count = 1\n",
    "    str1 = \"\"\n",
    "    for i in range(1,len(x)):\n",
    "        if x[i] == x[i-1]:\n",
    "            count = count + 1\n",
    "        else:\n",
    "            #count = count if count>1 else \"\"\n",
    "            str1 = str1 + x[i-1] + (str(count) if count>1 else \"\")\n",
    "            count = 1\n",
    "    #count = count if count>1 else \"\"\n",
    "    str1 = str1 + x[-1] + (str(count) if count>1 else \"\")\n",
    "    return str1\n",
    "x = \"abbc\"\n",
    "res = char_count(x)\n",
    "res                        "
   ]
  },
  {
   "cell_type": "code",
   "execution_count": 10,
   "metadata": {},
   "outputs": [
    {
     "name": "stdout",
     "output_type": "stream",
     "text": [
      "{'u': 1, 'n': 2, 'i': 1, 'v': 1, 'e': 2, 'r': 1, 's': 2}\n",
      "u 1 n 2 i 1 v 1 e 2 r 1 s 2 "
     ]
    }
   ],
   "source": [
    "x = 'universse'\n",
    "x = list(x)\n",
    "count = {}\n",
    "for i in x:\n",
    "    if i in count:\n",
    "        count[i] += 1\n",
    "    else:\n",
    "        count[i] = 1\n",
    "print(count)\n",
    "\n",
    "for key,values in count.items():\n",
    "    print(key,values,end = \" \")\n",
    "    "
   ]
  },
  {
   "cell_type": "code",
   "execution_count": 37,
   "metadata": {},
   "outputs": [
    {
     "name": "stdout",
     "output_type": "stream",
     "text": [
      "entre a stringabhi\n",
      "a is present at positive 0 index and present at negative -4\n",
      "b is present at positive 1 index and present at negative -3\n",
      "h is present at positive 2 index and present at negative -2\n",
      "i is present at positive 3 index and present at negative -1\n"
     ]
    }
   ],
   "source": [
    "st1 = input('entre a string')\n",
    "x = len(st1)\n",
    "for i in range(x):\n",
    "    print(st1[i],'is present at positive',i,'index and present at negative',i-x)"
   ]
  },
  {
   "cell_type": "code",
   "execution_count": 38,
   "metadata": {},
   "outputs": [
    {
     "name": "stdout",
     "output_type": "stream",
     "text": [
      "ago hours 3 Checkpoint Last "
     ]
    }
   ],
   "source": [
    "st = \"Last Checkpoint 3 hours ago\"\n",
    "words = st.split()\n",
    "for i in range(len(words)-1,-1,-1):\n",
    "    print(words[i],end = \" \")"
   ]
  },
  {
   "cell_type": "code",
   "execution_count": 1,
   "metadata": {},
   "outputs": [
    {
     "name": "stdout",
     "output_type": "stream",
     "text": [
      "agruDerawtfoSsnoituloS\n"
     ]
    }
   ],
   "source": [
    "#reverse each word in a sentence\n",
    "\n",
    "st = \"Durga Software Solutions\"\n",
    "res = []\n",
    "words = st.split()\n",
    "\n",
    "for i in words:\n",
    "    for j in range(len(i)-1,-1,-1):\n",
    "        res.append(i[j])\n",
    "x = ''.join(res)\n",
    "print(x)\n"
   ]
  },
  {
   "cell_type": "code",
   "execution_count": 2,
   "metadata": {},
   "outputs": [
    {
     "name": "stdout",
     "output_type": "stream",
     "text": [
      "agruD erawtfoS snoituloS\n"
     ]
    }
   ],
   "source": [
    "s = \"Durga Software Solutions\"\n",
    "s = s.split()\n",
    "res = []\n",
    "for i in range(len(s)):\n",
    "    res.append(s[i][::-1])\n",
    "out = ' '.join(res)\n",
    "print(out)\n",
    "    "
   ]
  },
  {
   "cell_type": "code",
   "execution_count": 55,
   "metadata": {},
   "outputs": [
    {
     "name": "stdout",
     "output_type": "stream",
     "text": [
      "agruD erawtfoS snoituloS\n"
     ]
    }
   ],
   "source": [
    "s=\"Durga Software Solutions\"\n",
    "l=s.split()\n",
    "l1=[]\n",
    "i=0\n",
    "while i<len(l):\n",
    "    l1.append(l[i][::-1])\n",
    "    i=i+1\n",
    "output=' '.join(l1)\n",
    "print(output)"
   ]
  },
  {
   "cell_type": "code",
   "execution_count": 20,
   "metadata": {},
   "outputs": [
    {
     "name": "stdout",
     "output_type": "stream",
     "text": [
      "a a o d n\n",
      "c\n",
      "n\n",
      "a\n"
     ]
    }
   ],
   "source": [
    "s1 = \"anaconda\"\n",
    "for i in range(len(s1)):\n",
    "    if i%2 == 0:\n",
    "        print(s1[i],end = \" \")\n",
    "        \n",
    "for i in range(len(s1)):\n",
    "    if i%2 != 0:\n",
    "        print(s1[i])\n",
    "\n"
   ]
  },
  {
   "cell_type": "code",
   "execution_count": 32,
   "metadata": {},
   "outputs": [
    {
     "name": "stdout",
     "output_type": "stream",
     "text": [
      "Enter Some String:anaconda\n",
      "Characters at Even Position:\n",
      "a,a,o,d,\n",
      "Characters at Odd Position:\n",
      "n,c,n,a,"
     ]
    }
   ],
   "source": [
    "s=input(\"Enter Some String:\")\n",
    "i=0\n",
    "print(\"Characters at Even Position:\")\n",
    "while i< len(s):\n",
    "    print(s[i],end=',')\n",
    "    i=i+2\n",
    "print()\n",
    "print(\"Characters at Odd Position:\")\n",
    "i=1\n",
    "while i< len(s):\n",
    "    print(s[i],end=',')\n",
    "    i=i+2"
   ]
  },
  {
   "cell_type": "code",
   "execution_count": 20,
   "metadata": {},
   "outputs": [
    {
     "name": "stdout",
     "output_type": "stream",
     "text": [
      "abhimaru\n",
      "ambahriu\n"
     ]
    }
   ],
   "source": [
    "def merge_strings(s1, s2):\n",
    "    result = \"\"\n",
    "    print(s1+s2)\n",
    "    \n",
    "    for i in range(min(len(s1),len(s2))):\n",
    "        result += s1[i] + s2[i]\n",
    "        \n",
    "    \n",
    "    #result += s1[i+1:] + s2[i+1:]\n",
    "    return result\n",
    "\n",
    "# Example usage\n",
    "s1 = \"abhi\"\n",
    "s2 = \"maru\"\n",
    "merged = merge_strings(s1, s2)\n",
    "print(merged)"
   ]
  },
  {
   "cell_type": "code",
   "execution_count": 9,
   "metadata": {},
   "outputs": [
    {
     "name": "stdout",
     "output_type": "stream",
     "text": [
      "BAD\n",
      "017\n",
      "ABD017\n"
     ]
    }
   ],
   "source": [
    "#input: B0A1D7\n",
    "#Output: ABD134\n",
    "\n",
    "st1 = \"B0A1D7\"\n",
    "res1 = res2 = output = \"\"\n",
    "\n",
    "for i in st1:\n",
    "    if i.isalpha():\n",
    "        res1 = res1 + i\n",
    "    else:\n",
    "        res2 = res2 + i\n",
    "        \n",
    "for i in sorted(res1):\n",
    "    output = output + i\n",
    "for i in sorted(res2):\n",
    "    output = output + i\n",
    "print(res1)\n",
    "print(res2)\n",
    "print(output)"
   ]
  },
  {
   "cell_type": "code",
   "execution_count": 1,
   "metadata": {},
   "outputs": [
    {
     "name": "stdout",
     "output_type": "stream",
     "text": [
      "[2, 1, 4, 3, 6, 5]\n"
     ]
    }
   ],
   "source": [
    "x = [1,2,3,4,5,6]\n",
    "for i in range(0,len(x)-1,2):\n",
    "    x[i] ,x[i+1] = x[i+1] ,x[i]\n",
    "print(x)"
   ]
  },
  {
   "cell_type": "code",
   "execution_count": 25,
   "metadata": {},
   "outputs": [
    {
     "name": "stdout",
     "output_type": "stream",
     "text": [
      "ACE\n",
      "BDF\n",
      "BADCFE\n"
     ]
    }
   ],
   "source": [
    "#input = \"ABCDEF\"\n",
    "#OUPUT = \"BADCFE\"\n",
    "\n",
    "str1 = \"ABCDEF\"\n",
    "s1 = s2 = res = \"\"\n",
    "\n",
    "for i in range(len(str1)):\n",
    "    if i%2 == 0:\n",
    "        s1 = s1 + str1[i]\n",
    "    else:\n",
    "        s2 = s2 + str1[i]\n",
    "print(s1)\n",
    "print(s2)\n",
    "\n",
    "for i in range(min(len(s1),len(s2))):\n",
    "    res = res + s2[i] + s1[i]\n",
    "res = res + s2[i+1:] + s1[i+1:]\n",
    "\n",
    "print(res)\n",
    "    "
   ]
  },
  {
   "cell_type": "code",
   "execution_count": 35,
   "metadata": {},
   "outputs": [
    {
     "name": "stdout",
     "output_type": "stream",
     "text": [
      "BADCFE\n"
     ]
    }
   ],
   "source": [
    "s = \"ABCDEF\"\n",
    "s1 = list(s)\n",
    "for i in range(0,len(s1)-1,2):\n",
    "    temp = s1[i]\n",
    "    s1[i] = s1[i+1]\n",
    "    s1[i+1] = temp\n",
    "print(\"\".join(s1))"
   ]
  },
  {
   "cell_type": "code",
   "execution_count": 35,
   "metadata": {},
   "outputs": [
    {
     "name": "stdout",
     "output_type": "stream",
     "text": [
      "aaaabbbcc\n"
     ]
    }
   ],
   "source": [
    "#input: a4b3c2\n",
    "#output: aaaabbbcc\n",
    "\n",
    "sr1 = \"a4b3c2\"\n",
    "res = \"\"\n",
    "\n",
    "for i in sr1:\n",
    "    if i.isalpha():\n",
    "        res = res + i\n",
    "        previous = i\n",
    "    else:\n",
    "        res = res + previous*(int(i)-1)\n",
    "print(res)"
   ]
  },
  {
   "cell_type": "code",
   "execution_count": 30,
   "metadata": {},
   "outputs": [
    {
     "name": "stdout",
     "output_type": "stream",
     "text": [
      "a4b3c\n"
     ]
    }
   ],
   "source": [
    "#input: aaaabbbcc\n",
    "#output: a4b3c2\n",
    "\n",
    "s1 = \"aaaabbbc\"\n",
    "out = \"\"\n",
    "count = 1\n",
    "\n",
    "for i in range(1,len(s1)):\n",
    "    if s1[i] == s1[i-1]:\n",
    "        count = count + 1\n",
    "    else:\n",
    "        count = count if count>1 else \"\"\n",
    "        out = out + s1[i-1] + str(count)\n",
    "        count = 1\n",
    "count = count if count>1 else \"\"\n",
    "out = out + s1[-1] + str(count)\n",
    "\n",
    "print(out)"
   ]
  },
  {
   "cell_type": "code",
   "execution_count": 18,
   "metadata": {},
   "outputs": [
    {
     "name": "stdout",
     "output_type": "stream",
     "text": [
      "3\n"
     ]
    }
   ],
   "source": [
    "#Input: s = \"abcabcbbd\"\n",
    "#Output: 4\n",
    "\n",
    "s = \"abcabcbbd\"\n",
    "start = 0\n",
    "max_len = 0\n",
    "dict1 = {}\n",
    "\n",
    "for i in range(len(s)):\n",
    "    if s[i] in dict1 and start <= dict1[s[i]]:\n",
    "        start =  dict1[s[i]] + 1\n",
    "    \n",
    "    else:\n",
    "        max_len = max(max_len,i-start+1)\n",
    "    dict1[s[i]] = i\n",
    "\n",
    "print(max_len)\n",
    "\n",
    "    "
   ]
  },
  {
   "cell_type": "code",
   "execution_count": 40,
   "metadata": {},
   "outputs": [
    {
     "name": "stdout",
     "output_type": "stream",
     "text": [
      "aeknbd\n"
     ]
    }
   ],
   "source": [
    "#input: a4k3b2\n",
    "#output: aeknbd\n",
    "\n",
    "st1 = \"a4k3b2\"\n",
    "res = \"\"\n",
    "\n",
    "for i in st1:\n",
    "    if i.isalpha():\n",
    "        res = res + i\n",
    "        previous = i\n",
    "    else:\n",
    "        res = res + chr(ord(previous)+int(i))\n",
    "print(res)"
   ]
  },
  {
   "cell_type": "code",
   "execution_count": 44,
   "metadata": {},
   "outputs": [
    {
     "name": "stdout",
     "output_type": "stream",
     "text": [
      "ABCDEF\n"
     ]
    }
   ],
   "source": [
    "#input: ABCDABBCDABBBCCCDDEEEF\n",
    "#output: ABCDEF\n",
    "\n",
    "s1 = \"ABCDABBCDABBBCCCDDEEEF\"\n",
    "x = \"\"\n",
    "\n",
    "for i in s1:\n",
    "    if i not in x:\n",
    "        x = x + i\n",
    "print(x)"
   ]
  },
  {
   "cell_type": "code",
   "execution_count": 53,
   "metadata": {},
   "outputs": [
    {
     "name": "stdout",
     "output_type": "stream",
     "text": [
      "{'A': 3, 'B': 4, 'C': 3, 'D': 1, 'E': 1}\n",
      "A-3 B-4 C-3 D-1 E-1 "
     ]
    }
   ],
   "source": [
    "#input: ABCABCABBCDE\n",
    "#output: A-3,B-4,C-3,D-1,E-1\n",
    "\n",
    "s1 = \"ABCABCABBCDE\"\n",
    "counts = {}\n",
    "\n",
    "for i in s1:\n",
    "    if i in counts:\n",
    "        counts[i] = counts[i] + 1\n",
    "    else:\n",
    "        counts[i] = 1\n",
    "print(counts)\n",
    "\n",
    "\n",
    "for key,value in counts.items():\n",
    "    print(\"{}-{}\".format(key,value),end = \" \")"
   ]
  },
  {
   "cell_type": "code",
   "execution_count": 6,
   "metadata": {},
   "outputs": [
    {
     "name": "stdout",
     "output_type": "stream",
     "text": [
      "enter a stringabhi\n",
      "ABHI\n"
     ]
    }
   ],
   "source": [
    "#lower to upper\n",
    "s = input('enter a string')\n",
    "res = s.upper()\n",
    "print(res)"
   ]
  },
  {
   "cell_type": "code",
   "execution_count": 3,
   "metadata": {},
   "outputs": [
    {
     "name": "stdout",
     "output_type": "stream",
     "text": [
      "enter a stringabhi\n",
      "ABHI\n"
     ]
    }
   ],
   "source": [
    "s = input(\"enter a string\")\n",
    "res = \"\"\n",
    "for char in s:\n",
    "    if ord(char)>96 and ord(char)<=122:\n",
    "        res = res + chr(ord(char)-32)\n",
    "print(res)"
   ]
  },
  {
   "cell_type": "code",
   "execution_count": 1,
   "metadata": {},
   "outputs": [
    {
     "data": {
      "text/plain": [
       "31"
      ]
     },
     "execution_count": 1,
     "metadata": {},
     "output_type": "execute_result"
    }
   ],
   "source": [
    "96-65"
   ]
  },
  {
   "cell_type": "code",
   "execution_count": 10,
   "metadata": {},
   "outputs": [
    {
     "name": "stdout",
     "output_type": "stream",
     "text": [
      "enter a stringSjJDFjhd\n",
      "sjjdfjhd\n"
     ]
    }
   ],
   "source": [
    "#upper to lower\n",
    "s = input('enter a string')\n",
    "res = s.lower()\n",
    "print(res)"
   ]
  },
  {
   "cell_type": "code",
   "execution_count": 11,
   "metadata": {},
   "outputs": [
    {
     "name": "stdout",
     "output_type": "stream",
     "text": [
      "enter a stringTONY\n",
      "tony\n"
     ]
    }
   ],
   "source": [
    "s = input(\"enter a string\")\n",
    "lower = \"\"\n",
    "for i in s:\n",
    "    if ord(i)>=65 and ord(i)<=91:\n",
    "        lower = lower + chr(ord(i)+32)\n",
    "print(lower)"
   ]
  },
  {
   "cell_type": "code",
   "execution_count": 32,
   "metadata": {},
   "outputs": [
    {
     "name": "stdout",
     "output_type": "stream",
     "text": [
      "angdibhy\n"
     ]
    }
   ],
   "source": [
    "#remove dulicates from the string\n",
    "\n",
    "s = \"angadiabhinay\"\n",
    "res = \"\"\n",
    "for i in s:\n",
    "    if i not in res:\n",
    "        res = res + i\n",
    "print(res)\n"
   ]
  },
  {
   "cell_type": "code",
   "execution_count": 17,
   "metadata": {},
   "outputs": [
    {
     "name": "stdout",
     "output_type": "stream",
     "text": [
      "Codeforwin at programming learning love I\n"
     ]
    }
   ],
   "source": [
    "s = \"I love learning programming at Codeforwin\"\n",
    "res = []\n",
    "words = s.split()\n",
    "n = len(words)\n",
    "for i in range(len(words)//2):\n",
    "    temp = words[i]\n",
    "    words[i] = words[n-i-1]\n",
    "    words[n-i-1] = temp\n",
    "print(\" \".join(words))"
   ]
  },
  {
   "cell_type": "code",
   "execution_count": null,
   "metadata": {},
   "outputs": [],
   "source": [
    "s = \"I love learning programming at Codeforwin\"\n",
    "res = \"\"\n",
    "for char in range(l)"
   ]
  },
  {
   "cell_type": "code",
   "execution_count": 21,
   "metadata": {},
   "outputs": [
    {
     "name": "stdout",
     "output_type": "stream",
     "text": [
      "{'a': 4, 'n': 2, 'g': 1, 'd': 1, 'i': 2, 'b': 1, 'h': 1, 'y': 1}\n",
      "a\n"
     ]
    }
   ],
   "source": [
    "s = \"angadiabhinay\"\n",
    "counts = {}\n",
    "for i in s:\n",
    "    if i in counts:\n",
    "        counts[i] += 1\n",
    "    else:\n",
    "        counts[i] = 1\n",
    "print(counts)\n",
    "\n",
    "maximum = max(counts.values())\n",
    "\n",
    "for i in counts:\n",
    "    if maximum == counts[i]:\n",
    "        high = i\n",
    "print(high)"
   ]
  },
  {
   "cell_type": "code",
   "execution_count": null,
   "metadata": {},
   "outputs": [],
   "source": []
  },
  {
   "cell_type": "code",
   "execution_count": null,
   "metadata": {},
   "outputs": [],
   "source": []
  },
  {
   "cell_type": "code",
   "execution_count": null,
   "metadata": {},
   "outputs": [],
   "source": []
  },
  {
   "cell_type": "code",
   "execution_count": null,
   "metadata": {},
   "outputs": [],
   "source": []
  },
  {
   "cell_type": "code",
   "execution_count": null,
   "metadata": {},
   "outputs": [],
   "source": []
  },
  {
   "cell_type": "code",
   "execution_count": null,
   "metadata": {},
   "outputs": [],
   "source": []
  },
  {
   "cell_type": "code",
   "execution_count": null,
   "metadata": {},
   "outputs": [],
   "source": []
  },
  {
   "cell_type": "code",
   "execution_count": null,
   "metadata": {},
   "outputs": [],
   "source": []
  },
  {
   "cell_type": "code",
   "execution_count": null,
   "metadata": {},
   "outputs": [],
   "source": []
  }
 ],
 "metadata": {
  "kernelspec": {
   "display_name": "Python 3 (ipykernel)",
   "language": "python",
   "name": "python3"
  },
  "language_info": {
   "codemirror_mode": {
    "name": "ipython",
    "version": 3
   },
   "file_extension": ".py",
   "mimetype": "text/x-python",
   "name": "python",
   "nbconvert_exporter": "python",
   "pygments_lexer": "ipython3",
   "version": "3.11.5"
  }
 },
 "nbformat": 4,
 "nbformat_minor": 4
}
