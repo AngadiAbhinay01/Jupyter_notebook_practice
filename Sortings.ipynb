{
 "cells": [
  {
   "cell_type": "markdown",
   "metadata": {},
   "source": [
    "# selection sorting"
   ]
  },
  {
   "cell_type": "markdown",
   "metadata": {},
   "source": [
    "Selection sort is a simple and efficient sorting algorithm that works by repeatedly selecting the smallest (or largest) element from the unsorted portion of the list and moving it to the sorted portion of the list. "
   ]
  },
  {
   "cell_type": "code",
   "execution_count": 12,
   "metadata": {},
   "outputs": [
    {
     "name": "stdout",
     "output_type": "stream",
     "text": [
      "Sorted array is: [11, 12, 22, 22, 25, 34, 64, 90]\n"
     ]
    }
   ],
   "source": [
    "#optimized selection sort\n",
    "def selection_sort(arr):\n",
    "    n = len(arr)\n",
    "    \n",
    "    for i in range(n):\n",
    "        # Find the minimum element in the unsorted part of the list.\n",
    "        min_idx = i\n",
    "        for j in range(i+1, n):\n",
    "            if arr[j] < arr[min_idx]:\n",
    "                min_idx = j\n",
    "        \n",
    "        # Swap the found minimum element with the first element in the unsorted part.\n",
    "        arr[i], arr[min_idx] = arr[min_idx], arr[i]\n",
    "\n",
    "# Example usage:\n",
    "my_list = [64, 34, 25, 12, 22, 22, 11, 90]\n",
    "selection_sort(my_list)\n",
    "print(\"Sorted array is:\", my_list)"
   ]
  },
  {
   "cell_type": "markdown",
   "metadata": {},
   "source": [
    "Original List: `[64, 34, 25, 12, 22, 11, 90]`\n",
    "\n",
    "**Iteration 1:**\n",
    "- The first pass through the list. The algorithm finds the minimum element in the unsorted part and moves it to the beginning of the sorted part.\n",
    "- Start with the list as it is: `[64, 34, 25, 12, 22, 11, 90]`.\n",
    "- Find the minimum element in the unsorted part (from index 0 to the end): `11` is the minimum.\n",
    "- Swap the minimum element (`11`) with the first element in the unsorted part (`64`).\n",
    "- After the first pass: `[11, 34, 25, 12, 22, 64, 90]`\n",
    "\n",
    "**Iteration 2:**\n",
    "- The second pass through the list. The minimum element in the unsorted part is found and moved to the beginning of the sorted part.\n",
    "- Start with the list after the first pass: `[11, 34, 25, 12, 22, 64, 90]`.\n",
    "- Find the minimum element in the unsorted part (from index 1 to the end): `12` is the minimum.\n",
    "- Swap the minimum element (`12`) with the second element in the unsorted part (`34`).\n",
    "- After the second pass: `[11, 12, 25, 34, 22, 64, 90]`\n",
    "\n",
    "**Iteration 3:**\n",
    "- The third pass through the list. The minimum element in the unsorted part is found and moved to the beginning of the sorted part.\n",
    "- Start with the list after the second pass: `[11, 12, 25, 34, 22, 64, 90]`.\n",
    "- Find the minimum element in the unsorted part (from index 2 to the end): `22` is the minimum.\n",
    "- Swap the minimum element (`22`) with the third element in the unsorted part (`25`).\n",
    "- After the third pass: `[11, 12, 22, 34, 25, 64, 90]`\n",
    "\n",
    "**Iteration 4:**\n",
    "- Continue the process for the fourth pass.\n",
    "- Start with the list after the third pass: `[11, 12, 22, 34, 25, 64, 90]`.\n",
    "- Find the minimum element in the unsorted part (from index 3 to the end): `25` is the minimum.\n",
    "- Swap the minimum element (`25`) with the fourth element in the unsorted part (`34`).\n",
    "- After the fourth pass: `[11, 12, 22, 25, 34, 64, 90]`\n",
    "\n",
    "**Iteration 5:**\n",
    "- Continue the process for the fifth pass.\n",
    "- Start with the list after the fourth pass: `[11, 12, 22, 25, 34, 64, 90]`.\n",
    "- Find the minimum element in the unsorted part (from index 4 to the end): `34` is the minimum.\n",
    "- Swap the minimum element (`34`) with the fifth element in the unsorted part (`64`).\n",
    "- After the fifth pass: `[11, 12, 22, 25, 34, 64, 90]`\n",
    "\n",
    "**Iteration 6:**\n",
    "- Continue the process for the sixth pass.\n",
    "- Start with the list after the fifth pass: `[11, 12, 22, 25, 34, 64, 90]`.\n",
    "- Find the minimum element in the unsorted part (from index 5 to the end): `64` is the minimum.\n",
    "- Swap the minimum element (`64`) with the sixth element in the unsorted part (`90`).\n",
    "- After the sixth pass: `[11, 12, 22, 25, 34, 64, 90]`\n",
    "\n",
    "**Iteration 7:**\n",
    "- In the final pass, the algorithm determines that the list is sorted, as no swaps are needed. It breaks early, having sorted the entire list.\n",
    "\n",
    "Sorted List: `[11, 12, 22, 25, 34, 64, 90]`\n",
    "\n",
    "The selection sort algorithm repeatedly finds the minimum element in the unsorted part and moves it to the beginning of the sorted part until the entire list is sorted."
   ]
  },
  {
   "cell_type": "code",
   "execution_count": 9,
   "metadata": {},
   "outputs": [
    {
     "name": "stdout",
     "output_type": "stream",
     "text": [
      "[64, 34, 25, 12, 22, 22, 11, 90]\n",
      "[11, 12, 22, 22, 25, 34, 64, 90]\n"
     ]
    }
   ],
   "source": [
    "x = [64, 34, 25, 12, 22, 22, 11, 90]\n",
    "print(x)\n",
    "\n",
    "for i in range(len(x)-1):\n",
    "    min_ind = i\n",
    "    for j in range(i+1,len(x)):\n",
    "        if x[j] < x[min_ind]:\n",
    "            min_ind = j\n",
    "\n",
    "    if x[i] != x[min_ind]:\n",
    "        temp = x[i]\n",
    "        x[i] = x[min_ind]\n",
    "        x[min_ind] = temp\n",
    "print(x)"
   ]
  },
  {
   "cell_type": "code",
   "execution_count": 6,
   "metadata": {},
   "outputs": [
    {
     "data": {
      "text/plain": [
       "[11, 12, 22, 25, 34, 64, 90]"
      ]
     },
     "execution_count": 6,
     "metadata": {},
     "output_type": "execute_result"
    }
   ],
   "source": [
    "def select(arr):\n",
    "    n = len(arr)\n",
    "    for i in range(n):\n",
    "        min_index = i\n",
    "        \n",
    "        for j in range(i+1,n):\n",
    "            if arr[j] < arr[min_index]:\n",
    "                min_index = j\n",
    "        \n",
    "        arr[i], arr[min_index] = arr[min_index], arr[i]\n",
    "\n",
    "\n",
    "    return arr\n",
    "\n",
    "list1 = [64, 34, 25, 12, 22, 11, 90]\n",
    "select(list1)"
   ]
  },
  {
   "cell_type": "markdown",
   "metadata": {},
   "source": [
    "# bubble sorting"
   ]
  },
  {
   "cell_type": "markdown",
   "metadata": {},
   "source": [
    "Bubble Sort is the simplest sorting algorithm that works by repeatedly swapping the adjacent elements if they are in the wrong order. This algorithm is not suitable for large data sets as its average and worst-case time complexity is quite high."
   ]
  },
  {
   "cell_type": "code",
   "execution_count": 6,
   "metadata": {},
   "outputs": [
    {
     "name": "stdout",
     "output_type": "stream",
     "text": [
      "Sorted array is: [11, 12, 22, 25, 34, 64, 90]\n"
     ]
    }
   ],
   "source": [
    "#optimized bubble sortingn\n",
    "def bubble_sort(arr):\n",
    "    n = len(arr)\n",
    "    for i in range(n):\n",
    "        # Flag to optimize; if no swaps are made in a pass, the list is already sorted.\n",
    "        swapped = False\n",
    "        \n",
    "        # Last i elements are already sorted, so no need to check them again.\n",
    "        for j in range(0, n - i - 1):\n",
    "            # Compare adjacent elements.\n",
    "            if arr[j] > arr[j + 1]:\n",
    "                # Swap them.\n",
    "                arr[j], arr[j + 1] = arr[j + 1], arr[j]\n",
    "                swapped = True\n",
    "        \n",
    "        # If no swaps were made, the list is already sorted, and we can break early.\n",
    "        if not swapped:\n",
    "            break\n",
    "\n",
    "# Example usage:\n",
    "my_list = [64, 34, 25, 12, 22, 11, 90]\n",
    "bubble_sort(my_list)\n",
    "print(\"Sorted array is:\", my_list)"
   ]
  },
  {
   "cell_type": "markdown",
   "metadata": {},
   "source": [
    "Original List: `[64, 34, 25, 12, 22, 11, 90]`\n",
    "\n",
    "**Iteration 1:**\n",
    "- In the first pass through the list, the largest unsorted element will \"bubble\" to the end. Here, it starts with `64`.\n",
    "- Comparisons and swaps:\n",
    "    - Compare 64 and 34: Swap (64 is greater).\n",
    "    - Compare 64 and 25: Swap (64 is greater).\n",
    "    - Compare 64 and 12: Swap (64 is greater).\n",
    "    - Compare 64 and 22: Swap (64 is greater).\n",
    "    - Compare 64 and 11: Swap (64 is greater).\n",
    "    - Compare 64 and 90: No swap (90 is smaller).\n",
    "- After the first pass: `[34, 25, 12, 22, 11, 64, 90]`\n",
    "\n",
    "**Iteration 2:**\n",
    "- In the second pass, the next largest unsorted element (`64`) is moved to its correct position.\n",
    "- Comparisons and swaps:\n",
    "    - Compare 34 and 25: Swap (34 is greater).\n",
    "    - Compare 34 and 12: Swap (34 is greater).\n",
    "    - Compare 34 and 22: Swap (34 is greater).\n",
    "    - Compare 34 and 11: Swap (34 is greater).\n",
    "    - Compare 34 and 64: No swap (34 is smaller).\n",
    "    - Compare 64 and 90: No swap (64 is smaller).\n",
    "- After the second pass: `[25, 12, 22, 11, 34, 64, 90]`\n",
    "\n",
    "**Iteration 3:**\n",
    "- Continue the process to move the next largest unsorted element (`64`) to its correct position.\n",
    "- Comparisons and swaps:\n",
    "    - Compare 25 and 12: Swap (25 is greater).\n",
    "    - Compare 25 and 22: Swap (25 is greater).\n",
    "    - Compare 25 and 11: Swap (25 is greater).\n",
    "    - Compare 25 and 34: No swap (25 is smaller).\n",
    "    - Compare 34 and 64: No swap (34 is smaller).\n",
    "    - Compare 64 and 90: No swap (64 is smaller).\n",
    "- After the third pass: `[12, 22, 11, 25, 34, 64, 90]`\n",
    "\n",
    "**Iteration 4:**\n",
    "- Continue moving the next largest unsorted element (`34`) to its correct position.\n",
    "- Comparisons and swaps:\n",
    "    - Compare 12 and 22: No swap (12 is smaller).\n",
    "    - Compare 22 and 11: Swap (22 is greater).\n",
    "    - Compare 22 and 25: Swap (25 is greater).\n",
    "    - Compare 25 and 34: No swap (25 is smaller).\n",
    "    - Compare 34 and 64: No swap (34 is smaller).\n",
    "    - Compare 64 and 90: No swap (64 is smaller).\n",
    "- After the fourth pass: `[12, 11, 22, 25, 34, 64, 90]`\n",
    "\n",
    "**Iteration 5:**\n",
    "- Continue moving the next largest unsorted element (`34`) to its correct position.\n",
    "- Comparisons and swaps:\n",
    "    - Compare 12 and 11: Swap (12 is greater).\n",
    "    - Compare 12 and 22: No swap (12 is smaller).\n",
    "    - Compare 22 and 25: No swap (22 is smaller).\n",
    "    - Compare 25 and 34: No swap (25 is smaller).\n",
    "    - Compare 34 and 64: No swap (34 is smaller).\n",
    "    - Compare 64 and 90: No swap (64 is smaller).\n",
    "- After the fifth pass: `[11, 12, 22, 25, 34, 64, 90]`\n",
    "\n",
    "**Iteration 6:**\n",
    "- Continue moving the next largest unsorted element (`34`) to its correct position.\n",
    "- Comparisons and swaps:\n",
    "    - Compare 11 and 12: No swap (11 is smaller).\n",
    "    - Compare 12 and 22: No swap (12 is smaller).\n",
    "    - Compare 22 and 25: No swap (22 is smaller).\n",
    "    - Compare 25 and 34: No swap (25 is smaller).\n",
    "    - Compare 34 and 64: No swap (34 is smaller).\n",
    "    - Compare 64 and 90: No swap (64 is smaller).\n",
    "- After the sixth pass: `[11, 12, 22, 25, 34, 64, 90]`\n",
    "\n",
    "**Iteration 7:**\n",
    "- In the seventh pass, no swaps are needed because the list is already sorted.\n",
    "- The algorithm detects this by the `swapped` flag and breaks early.\n",
    "- The list remains unchanged, and the algorithm terminates.\n",
    "\n",
    "Sorted List: `[11, 12, 22, 25, 34, 64, 90]`\n",
    "\n",
    "The list is now fully sorted in ascending order. The bubble sort algorithm compares and swaps adjacent elements until no more swaps are needed, indicating that the list is sorted."
   ]
  },
  {
   "cell_type": "code",
   "execution_count": 5,
   "metadata": {},
   "outputs": [
    {
     "name": "stdout",
     "output_type": "stream",
     "text": [
      "Original list: [64, 34, 25, 12, 22, 11, 90]\n",
      "Sorted list: [11, 12, 22, 25, 34, 64, 90]\n"
     ]
    }
   ],
   "source": [
    "def bubble_sort(arr):\n",
    "    n = len(arr)\n",
    "    for i in range(n):\n",
    "        for j in range(0, n - i -1):\n",
    "            if arr[j] > arr[j + 1]:\n",
    "                arr[j], arr[j + 1] = arr[j + 1], arr[j]\n",
    "\n",
    "my_list = [64, 34, 25, 12, 22, 11, 90]\n",
    "\n",
    "print(\"Original list:\", my_list)\n",
    "bubble_sort(my_list)\n",
    "print(\"Sorted list:\", my_list)\n"
   ]
  },
  {
   "cell_type": "code",
   "execution_count": 3,
   "metadata": {},
   "outputs": [
    {
     "name": "stdout",
     "output_type": "stream",
     "text": [
      "Original list: [64, 34, 25, 12, 22, 11, 90]\n",
      "Sorted list: [64, 11, 12, 22, 25, 34, 90]\n"
     ]
    }
   ],
   "source": [
    "def bubble_sort(arr):\n",
    "    n = len(arr)\n",
    "    for i in range(n):\n",
    "        for j in range(1, n-i-1):\n",
    "            if arr[j]>arr[j+1]:\n",
    "                arr[j], arr[j+1] = arr[j+1], arr[j]\n",
    "    return arr\n",
    "    \n",
    "    \n",
    "my_list = [64, 34, 25, 12, 22, 11, 90]\n",
    "print(\"Original list:\", my_list)\n",
    "bubble_sort(my_list)\n",
    "print(\"Sorted list:\", my_list)"
   ]
  },
  {
   "cell_type": "markdown",
   "metadata": {},
   "source": [
    "# insertion sorting"
   ]
  },
  {
   "cell_type": "markdown",
   "metadata": {},
   "source": [
    "Insertion sort is another simple comparison-based sorting algorithm. It works by dividing the input list into two parts: the sorted part at the beginning and the unsorted part at the end. The algorithm iterates through the unsorted part, taking one element at a time and inserting it into its correct position within the sorted part. This process is repeated until the entire list is sorted."
   ]
  },
  {
   "cell_type": "code",
   "execution_count": 15,
   "metadata": {},
   "outputs": [
    {
     "name": "stdout",
     "output_type": "stream",
     "text": [
      "Sorted array is: [11, 12, 22, 25, 34, 64, 90]\n"
     ]
    }
   ],
   "source": [
    "#optimized insertion sorting\n",
    "def insertion_sort(arr):\n",
    "    for i in range(1, len(arr)):\n",
    "        key = arr[i]  # Element to be inserted.\n",
    "        j = i - 1     # Index of the previous element in the sorted part.\n",
    "\n",
    "        # Move elements of the sorted part that are greater than the key,\n",
    "        # to one position ahead of their current position.\n",
    "        while j >= 0 and key < arr[j]:\n",
    "            arr[j + 1] = arr[j]\n",
    "            j = j - 1\n",
    "        \n",
    "        # Insert the key into its correct position within the sorted part.\n",
    "        arr[j + 1] = key\n",
    "\n",
    "# Example usage:\n",
    "my_list = [64, 34, 25, 12, 22, 11, 90]\n",
    "insertion_sort(my_list)\n",
    "print(\"Sorted array is:\", my_list)\n"
   ]
  },
  {
   "cell_type": "markdown",
   "metadata": {},
   "source": [
    "Original List: `[64, 34, 25, 12, 22, 11, 90]`\n",
    "\n",
    "**Iteration 1:**\n",
    "- Start with the second element (index 1, value 34).\n",
    "- The key is `34`.\n",
    "- Compare `34` with `64` in the sorted part (which is just `64` at this point).\n",
    "- Since `34` is smaller, move `64` one position ahead.\n",
    "- After the first pass: `[34, 64, 25, 12, 22, 11, 90]`\n",
    "\n",
    "**Iteration 2:**\n",
    "- Start with the third element (index 2, value 25).\n",
    "- The key is `25`.\n",
    "- Compare `25` with `64`. `64` is larger, so leave `64` where it is.\n",
    "- Compare `25` with `34`. `34` is larger, so leave `34` where it is.\n",
    "- The key `25` belongs at the beginning of the sorted part.\n",
    "- After the second pass: `[25, 34, 64, 12, 22, 11, 90]`\n",
    "\n",
    "**Iteration 3:**\n",
    "- Continue this process for the next element.\n",
    "- The key is `12`.\n",
    "- Compare `12` with elements in the sorted part (`64`, `34`, and `25`).\n",
    "- All of them are larger, so they are moved one position ahead.\n",
    "- The key `12` belongs at the beginning of the sorted part.\n",
    "- After the third pass: `[12, 25, 34, 64, 22, 11, 90]`\n",
    "\n",
    "**Iteration 4:**\n",
    "- Continue for the next element (index 4, value 22).\n",
    "- The key is `22`.\n",
    "- Compare `22` with elements in the sorted part (`64`, `34`, `25`, `12`).\n",
    "- They are all larger, so they are moved one position ahead.\n",
    "- The key `22` belongs at the beginning of the sorted part.\n",
    "- After the fourth pass: `[12, 22, 25, 34, 64, 11, 90]`\n",
    "\n",
    "**Iteration 5:**\n",
    "- Continue for the next element (index 5, value 11).\n",
    "- The key is `11`.\n",
    "- Compare `11` with elements in the sorted part (`64`, `34`, `25`, `22`, `12`).\n",
    "- They are all larger, so they are moved one position ahead.\n",
    "- The key `11` belongs at the beginning of the sorted part.\n",
    "- After the fifth pass: `[11, 12, 22, 25, 34, 64, 90]`\n",
    "\n",
    "**Iteration 6:**\n",
    "- In the last iteration, the algorithm processes the final element (index 6, value 90).\n",
    "- The key is `90`.\n",
    "- Compare `90` with elements in the sorted part (`64`, `34`, `25`, `22`, `12`, `11`).\n",
    "- All of them are smaller, so leave them where they are.\n",
    "- The key `90` is already in its correct position.\n",
    "- After the final pass, the list remains unchanged.\n",
    "\n",
    "Sorted List: `[11, 12, 22, 25, 34, 64, 90]`\n",
    "\n",
    "The insertion sort algorithm iterates through the unsorted part of the list, moving elements in the sorted part one position ahead until the correct position for each element is found. This process continues until the entire list is sorted."
   ]
  },
  {
   "cell_type": "code",
   "execution_count": 39,
   "metadata": {},
   "outputs": [
    {
     "name": "stdout",
     "output_type": "stream",
     "text": [
      "[1, 2, 3, 4, 5]\n"
     ]
    }
   ],
   "source": [
    "def insertion_sort(x):\n",
    "    for i in range(1,len(x)):\n",
    "        curr_ele = x[i]\n",
    "        pos = i\n",
    "        while curr_ele < x[pos-1] and pos > 0:\n",
    "            x[pos] = x[pos-1]\n",
    "            pos = pos-1\n",
    "        x[pos] = curr_ele\n",
    "x = [2,4,3,5,1]\n",
    "insertion_sort(x)\n",
    "print(x)"
   ]
  },
  {
   "cell_type": "markdown",
   "metadata": {},
   "source": [
    "Original List: [2, 4, 3, 5, 1]\n",
    "\n",
    "**Iteration 1:**\n",
    "- Start with the second element (index 1, value 4).\n",
    "- The key (current element) is `4`.\n",
    "- Compare `4` with the previous element in the sorted part (`2`). Since `4` is greater, leave it in place.\n",
    "- After the first pass: `[2, 4, 3, 5, 1]`\n",
    "\n",
    "**Iteration 2:**\n",
    "- Continue with the third element (index 2, value 3).\n",
    "- The key is `3`.\n",
    "- Compare `3` with the previous element in the sorted part (`4`). Since `3` is smaller, move `4` one position ahead.\n",
    "- Now compare `3` with the previous element (`2`). Since `3` is smaller, move `2` one position ahead.\n",
    "- The key `3` belongs at the beginning of the sorted part.\n",
    "- After the second pass: `[2, 3, 4, 5, 1]`\n",
    "\n",
    "**Iteration 3:**\n",
    "- Continue with the fourth element (index 3, value 5).\n",
    "- The key is `5`.\n",
    "- Compare `5` with the previous element in the sorted part (`4`). Since `5` is greater, leave it in place.\n",
    "- The key `5` is already in its correct position in the sorted part.\n",
    "- The list remains unchanged after this pass.\n",
    "\n",
    "**Iteration 4:**\n",
    "- Finally, process the last element (index 4, value 1).\n",
    "- The key is `1`.\n",
    "- Compare `1` with the previous element in the sorted part (`5`). Since `1` is smaller, move `5` one position ahead.\n",
    "- Now compare `1` with `4`. Move `4` one position ahead.\n",
    "- Continue with `3` and `2`, moving them one position ahead.\n",
    "- The key `1` belongs at the beginning of the sorted part.\n",
    "- After the fourth pass: `[1, 2, 3, 4, 5]`\n",
    "\n",
    "The code successfully sorts the list using the insertion sort algorithm. In each iteration, the key element is compared with elements in the sorted part, and elements greater than the key are shifted one position ahead until the key finds its correct position. This process continues until the entire list is sorted.\n",
    "\n",
    "The sorted list is `[1, 2, 3, 4, 5]`, which is the final output of the code."
   ]
  },
  {
   "cell_type": "markdown",
   "metadata": {},
   "source": [
    "# linear search"
   ]
  },
  {
   "cell_type": "code",
   "execution_count": 3,
   "metadata": {},
   "outputs": [
    {
     "data": {
      "text/plain": [
       "3"
      ]
     },
     "execution_count": 3,
     "metadata": {},
     "output_type": "execute_result"
    }
   ],
   "source": [
    "def linear(arr,target):\n",
    "    for i in range(len(arr)):\n",
    "        if arr[i] == target:\n",
    "            return i\n",
    "    return -1\n",
    "\n",
    "my_list = [64, 34, 25, 12, 22, 11, 90]\n",
    "target = 12\n",
    "linear(my_list,target)"
   ]
  },
  {
   "cell_type": "markdown",
   "metadata": {},
   "source": [
    "# Binary search"
   ]
  },
  {
   "cell_type": "code",
   "execution_count": 12,
   "metadata": {},
   "outputs": [
    {
     "name": "stdout",
     "output_type": "stream",
     "text": [
      "Target 7 found at index 6\n"
     ]
    }
   ],
   "source": [
    "def binary_search(arr, target):\n",
    "    low = 0\n",
    "    high = len(arr) - 1\n",
    "\n",
    "    while low <= high:\n",
    "        mid = (low + high) // 2\n",
    "        guess = arr[mid]\n",
    "\n",
    "        if guess == target:\n",
    "            return mid  # Target found, return the index\n",
    "        elif guess < target:\n",
    "            low = mid + 1  # Adjust the search range to the right half\n",
    "        else:\n",
    "            high = mid - 1  # Adjust the search range to the left half\n",
    "\n",
    "    return -1  # Target not found\n",
    "\n",
    "# Example usage:\n",
    "sorted_list = [1, 2, 3, 4, 5, 6, 7, 8, 9, 10]\n",
    "target_value = 7\n",
    "\n",
    "result = binary_search(sorted_list, target_value)\n",
    "\n",
    "if result != -1:\n",
    "    print(f\"Target {target_value} found at index {result}\")\n",
    "else:\n",
    "    print(f\"Target {target_value} not found in the list\")\n"
   ]
  },
  {
   "cell_type": "code",
   "execution_count": 14,
   "metadata": {},
   "outputs": [
    {
     "data": {
      "text/plain": [
       "1"
      ]
     },
     "execution_count": 14,
     "metadata": {},
     "output_type": "execute_result"
    }
   ],
   "source": [
    "def binary(arr,target):\n",
    "    low = 0\n",
    "    high = len(arr)-1\n",
    "    while low<=high:\n",
    "        mid = (low+high) //2\n",
    "\n",
    "        if arr[mid] == target:\n",
    "            return mid\n",
    "        elif arr[mid] < target:\n",
    "            low = mid+1\n",
    "        else:\n",
    "            high = mid-1\n",
    "    return -1\n",
    "\n",
    "my_list = [64, 34, 25, 12, 22, 11, 90]\n",
    "my_list.sort()\n",
    "target = 12\n",
    "binary(my_list,target)"
   ]
  },
  {
   "cell_type": "code",
   "execution_count": 13,
   "metadata": {},
   "outputs": [
    {
     "data": {
      "text/plain": [
       "3"
      ]
     },
     "execution_count": 13,
     "metadata": {},
     "output_type": "execute_result"
    }
   ],
   "source": [
    "def binary(arr,tar):\n",
    "    low = 0\n",
    "    high = len(arr)-1\n",
    "    \n",
    "    while low <=high:\n",
    "        mid = (low+high)//2\n",
    "        \n",
    "        if arr[mid] == tar:\n",
    "            return mid\n",
    "        elif arr[mid] < tar:\n",
    "            low = mid+1\n",
    "        else:\n",
    "            high = mid-1\n",
    "    return -1\n",
    "sorted_list = [64, 34, 25, 12, 22, 11, 90]\n",
    "target_value = 12\n",
    "binary(sorted_list, target_value)"
   ]
  },
  {
   "cell_type": "code",
   "execution_count": null,
   "metadata": {},
   "outputs": [],
   "source": []
  }
 ],
 "metadata": {
  "kernelspec": {
   "display_name": "Python 3 (ipykernel)",
   "language": "python",
   "name": "python3"
  },
  "language_info": {
   "codemirror_mode": {
    "name": "ipython",
    "version": 3
   },
   "file_extension": ".py",
   "mimetype": "text/x-python",
   "name": "python",
   "nbconvert_exporter": "python",
   "pygments_lexer": "ipython3",
   "version": "3.11.5"
  }
 },
 "nbformat": 4,
 "nbformat_minor": 4
}
