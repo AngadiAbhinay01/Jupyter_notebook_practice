{
 "cells": [
  {
   "cell_type": "code",
   "execution_count": 1,
   "metadata": {},
   "outputs": [
    {
     "name": "stdout",
     "output_type": "stream",
     "text": [
      "('Beijing', 'London', 'Rio', 'Tokyo')\n"
     ]
    }
   ],
   "source": [
    "# Create a tuple called olympics with four elements: “Beijing”, “London”, “Rio”, “Tokyo”.\n",
    "t = (\"Beijing\", \"London\", \"Rio\", \"Tokyo\")\n",
    "print(t)"
   ]
  },
  {
   "cell_type": "code",
   "execution_count": 3,
   "metadata": {},
   "outputs": [
    {
     "name": "stdout",
     "output_type": "stream",
     "text": [
      "Beijing\n",
      "London\n",
      "Rio\n",
      "Tokyo\n"
     ]
    }
   ],
   "source": [
    "# The list below, tuples_lst, is a list of tuples. Create a list of the second elements of each tuple and\n",
    "#assign this list to the variable country.\n",
    "\n",
    "tuples_lst = [('Beijing','China',2008),('London','England',2012),('Rio','Brazil',2016,'Current'),('Tokyo','Japan',2020, 'Future')]\n",
    "for element in tuples_lst:\n",
    "    print(element[0])"
   ]
  },
  {
   "cell_type": "code",
   "execution_count": 15,
   "metadata": {},
   "outputs": [
    {
     "name": "stdout",
     "output_type": "stream",
     "text": [
      "('Rio', 'Brazil', 2016)\n"
     ]
    }
   ],
   "source": [
    "# With only one line of code, assign the variables city, country, and year to the values of the tuple olymp.\n",
    "olymp = ('Rio', 'Brazil', 2016)\n",
    "city,country,year = olymp\n",
    "print(olymp)"
   ]
  },
  {
   "cell_type": "code",
   "execution_count": 28,
   "metadata": {},
   "outputs": [
    {
     "name": "stdout",
     "output_type": "stream",
     "text": [
      "31\n",
      "19\n",
      "19\n",
      "13\n",
      "12\n",
      "10\n",
      "8\n",
      "8\n"
     ]
    }
   ],
   "source": [
    "#Given is the dictionary, gold, which shows the country and the number of gold medals they have earned so far \n",
    "#in the 2016 Olympics. Create a list, num_medals, that contains only the number of medals for each country. \n",
    "#You must use the .items() method. Note: The .items() method provides a list of tuples. Do not use .keys() method\n",
    "\n",
    "gold = {'USA':31, 'Great Britain':19, 'China':19, 'Germany':13, 'Russia':12, 'Japan':10, 'France':8, 'Italy':8}\n",
    "list = gold.items()\n",
    "for num in list:\n",
    "    print(num[1])\n"
   ]
  }
 ],
 "metadata": {
  "kernelspec": {
   "display_name": "Python 3 (ipykernel)",
   "language": "python",
   "name": "python3"
  },
  "language_info": {
   "codemirror_mode": {
    "name": "ipython",
    "version": 3
   },
   "file_extension": ".py",
   "mimetype": "text/x-python",
   "name": "python",
   "nbconvert_exporter": "python",
   "pygments_lexer": "ipython3",
   "version": "3.11.5"
  }
 },
 "nbformat": 4,
 "nbformat_minor": 4
}
