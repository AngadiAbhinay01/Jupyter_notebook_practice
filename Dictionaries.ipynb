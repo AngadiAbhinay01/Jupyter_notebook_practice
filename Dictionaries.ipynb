{
 "cells": [
  {
   "cell_type": "code",
   "execution_count": 1,
   "metadata": {},
   "outputs": [
    {
     "name": "stdout",
     "output_type": "stream",
     "text": [
      "{'united states': 70, 'Great britain': 38, 'china': 45, 'russia': 30, 'germany': 17}\n"
     ]
    }
   ],
   "source": [
    "# At the halfway point during the Rio Olympics, the United States had 70 medals, Great Britain had 38 medals, \n",
    "#China had 45 medals, Russia had 30 medals, and Germany had 17 medals. Create a dictionary assigned to the variable\n",
    "#medal_count with the country names as the keys and the number of medals the country had as each key’s value.\n",
    "medal_count = {'united states': 70,'Great britain':38,'china':45,'russia':30,'germany':17}\n",
    "print(medal_count)"
   ]
  },
  {
   "cell_type": "code",
   "execution_count": 4,
   "metadata": {},
   "outputs": [
    {
     "name": "stdout",
     "output_type": "stream",
     "text": [
      "{'Manuel': 4, 'Lochte': 12, 'Adrian': 7, 'Ledecky': 5, 'Dirado': 4, 'phelps': 23}\n"
     ]
    }
   ],
   "source": [
    "# Given the dictionary swimmers, add an additional key-value pair to the dictionary with \"Phelps\" as the key and \n",
    "#the integer 23 as the value. Do not rewrite the entire dictionary.\n",
    "swimmers = {'Manuel':4, 'Lochte':12, 'Adrian':7, 'Ledecky':5, 'Dirado':4}\n",
    "swimmers['phelps'] = 23\n",
    "print(swimmers)\n",
    "\n"
   ]
  },
  {
   "cell_type": "code",
   "execution_count": 1,
   "metadata": {},
   "outputs": [
    {
     "name": "stdout",
     "output_type": "stream",
     "text": [
      "{'baseball': 9, 'basketball': 4, 'soccer': 4, 'cricket': 2, 'hockey': 3}\n"
     ]
    }
   ],
   "source": [
    "# Add the string “hockey” as a key to the dictionary sports_periods and assign it the value of 3. \n",
    "#Do not rewrite the entire dictionary.\n",
    "sports_periods = {'baseball': 9, 'basketball': 4, 'soccer': 4, 'cricket': 2}\n",
    "sports_periods['hockey'] = 3\n",
    "print(sports_periods)\n"
   ]
  },
  {
   "cell_type": "code",
   "execution_count": 7,
   "metadata": {},
   "outputs": [
    {
     "name": "stdout",
     "output_type": "stream",
     "text": [
      "{'Italy': 12, 'USA': 33, 'Brazil': 15, 'China': 27, 'Spain': 21, 'Canada': 22, 'Argentina': 8, 'England': 29}\n"
     ]
    }
   ],
   "source": [
    "# The dictionary golds contains information about how many gold medals each country won in the 2016 Olympics. \n",
    "#But today, Spain won 2 more gold medals. Update golds to reflect this information.\n",
    "golds = {\"Italy\": 12, \"USA\": 33, \"Brazil\": 15, \"China\": 27, \"Spain\": 19, \"Canada\": 22, \"Argentina\": 8, \"England\": 29}\n",
    "golds['Spain'] += 2\n",
    "print(golds)"
   ]
  },
  {
   "cell_type": "code",
   "execution_count": 9,
   "metadata": {},
   "outputs": [
    {
     "name": "stdout",
     "output_type": "stream",
     "text": [
      "dict_keys(['Italy', 'USA', 'Brazil', 'China', 'Spain', 'Canada', 'Argentina', 'England'])\n"
     ]
    }
   ],
   "source": [
    "# Create a list of the countries that are in the dictionary golds, and assign that list to the variable name \n",
    "#countries. Do not hard code this.\n",
    "golds = {\"Italy\": 12, \"USA\": 33, \"Brazil\": 15, \"China\": 27, \"Spain\": 19, \"Canada\": 22, \"Argentina\": 8, \"England\": 29}\n",
    "countries = golds.keys()\n",
    "print(countries)"
   ]
  },
  {
   "cell_type": "code",
   "execution_count": 1,
   "metadata": {},
   "outputs": [
    {
     "name": "stdout",
     "output_type": "stream",
     "text": [
      "18\n"
     ]
    }
   ],
   "source": [
    "# The dictionary Junior shows a schedule for a junior year semester. The key is the course name and the value is \n",
    "#the number of credits. Find the total number of credits taken this semester and assign it to the variable credits.\n",
    "junior = {'SI 206':4, 'SI 310':4, 'BL 300':3, 'TO 313':3, 'BCOM 350':1, 'MO 300':3}\n",
    "credits = 0\n",
    "for value in junior:\n",
    "    credits = credits  + junior[value]\n",
    "print(credits)"
   ]
  },
  {
   "cell_type": "code",
   "execution_count": 3,
   "metadata": {},
   "outputs": [
    {
     "name": "stdout",
     "output_type": "stream",
     "text": [
      "{'a': 3, 'n': 1, 'g': 0, 'd': 0, 'i': 1, ' ': 0, 'b': 0, 'h': 0, 'y': 0}\n"
     ]
    }
   ],
   "source": [
    "# Create a dictionary, freq, that displays each character in string str1 as the key and its frequency as the value\n",
    "freq = {}\n",
    "string = \"angadi abhinay\"\n",
    "for char in string:\n",
    "    if char not in freq:\n",
    "        freq[char] = 0\n",
    "    else:\n",
    "        freq[char] = freq[char]+1\n",
    "print(freq)"
   ]
  },
  {
   "cell_type": "code",
   "execution_count": 22,
   "metadata": {},
   "outputs": [
    {
     "name": "stdout",
     "output_type": "stream",
     "text": [
      "enter a stringangadi abhinay\n",
      "{'a': 4, 'n': 2, 'g': 1, 'd': 1, 'i': 2, ' ': 1, 'b': 1, 'h': 1, 'y': 1}\n"
     ]
    }
   ],
   "source": [
    "#Provided is a string saved to the variable name s1. Create a dictionary named counts that contains each letter in\n",
    "#s1 and the number of times it occurs.\n",
    "\n",
    "counts = {}\n",
    "s1 = input(\"enter a string\")\n",
    "\n",
    "for i in s1:\n",
    "    if i not in counts:\n",
    "        counts[i] = 0\n",
    "    counts[i] = counts[i]+1 \n",
    "print(counts)\n",
    "    "
   ]
  },
  {
   "cell_type": "code",
   "execution_count": 2,
   "metadata": {},
   "outputs": [
    {
     "name": "stdout",
     "output_type": "stream",
     "text": [
      "{'Select': 1, 'items': 1, 'to': 2, 'perform': 1, 'actions': 1, 'on': 1, 'them': 1}\n"
     ]
    }
   ],
   "source": [
    "#Create a dictionary, freq_words, that contains each word in string str1 as the key and its frequency as the value.\n",
    "\n",
    "freq_words = {}\n",
    "str1 = \"Select items to perform actions on to them\"\n",
    "list = str1.split()\n",
    "for word in list:\n",
    "    if word not in freq_words:\n",
    "        freq_words[word] = 0\n",
    "    freq_words[word] += 1\n",
    "print(freq_words)"
   ]
  },
  {
   "cell_type": "code",
   "execution_count": 26,
   "metadata": {},
   "outputs": [
    {
     "data": {
      "text/plain": [
       "['Select', 'items', 'to', 'perform', 'actions', 'on', 'them']"
      ]
     },
     "execution_count": 26,
     "metadata": {},
     "output_type": "execute_result"
    }
   ],
   "source": [
    "s = \"Select items to perform actions on them\"\n",
    "y = s.split()\n",
    "y"
   ]
  },
  {
   "cell_type": "code",
   "execution_count": 31,
   "metadata": {},
   "outputs": [
    {
     "name": "stdout",
     "output_type": "stream",
     "text": [
      "{'avengers': 2, 'a': 1, 'group': 2, 'of': 2, 'people,': 1, 'working': 1, 'external': 1, 'threats': 1, 'the': 1}\n"
     ]
    }
   ],
   "source": [
    "# Create a dictionary called wrd_d from the string sent, so that the key is a word and the value is how many \n",
    "#times you have seen that word.\n",
    "\n",
    "wrd_d = {}\n",
    "sent = \"avengers a group of people, working avengers external threats of the group\"\n",
    "list1 = sent.split()\n",
    "for i in list1:\n",
    "    if i not in wrd_d:\n",
    "        wrd_d[i] = 0\n",
    "    wrd_d[i] += 1\n",
    "print(wrd_d)"
   ]
  },
  {
   "cell_type": "code",
   "execution_count": 11,
   "metadata": {},
   "outputs": [
    {
     "name": "stdout",
     "output_type": "stream",
     "text": [
      "{'s': 8, 'a': 3, 'l': 6, 'y': 2, ' ': 7, 'e': 6, 'h': 3, 'b': 1, 't': 1, 'o': 1, 'r': 1}\n",
      "most frequency letter:\n",
      "s\n"
     ]
    }
   ],
   "source": [
    "## Create the dictionary characters that shows each character from the string sally and its frequency. \n",
    "#Then, find the most frequent letter based on the dictionary. Assign this letter to the variable best_char.\n",
    "\n",
    "sally = \"sally sells sea shells by the sea shore\"\n",
    "characters = {}\n",
    "for i in sally:\n",
    "    if i not in characters:\n",
    "        characters[i] = 0\n",
    "    characters[i] += 1\n",
    "print(characters)\n",
    "maximum = max(characters.values())\n",
    "for i in characters:\n",
    "        if maximum == characters[i]:\n",
    "            best_char = i\n",
    "print(\"most frequency letter:\")\n",
    "print(best_char)"
   ]
  },
  {
   "cell_type": "code",
   "execution_count": 18,
   "metadata": {},
   "outputs": [
    {
     "name": "stdout",
     "output_type": "stream",
     "text": [
      "{'s': 8, 'a': 3, 'l': 6, 'y': 2, ' ': 7, 'e': 6, 'h': 3, 'b': 1, 't': 1, 'o': 1, 'r': 1}\n",
      "lest occured character in string:\n",
      "r\n"
     ]
    }
   ],
   "source": [
    "# Find the least frequent letter. Create the dictionary characters that shows each character from string sally and\n",
    "#its frequency. Then, find the least frequent letter in the string and assign the letter to the variable worst_char\n",
    "\n",
    "sally = \"sally sells sea shells by the sea shore\"\n",
    "char = {}\n",
    "for i in sally:\n",
    "    if i not in char:\n",
    "        char[i] = 0\n",
    "    char[i] += 1\n",
    "print(char)\n",
    "minimum = min(char.values())\n",
    "for i in char:\n",
    "    if minimum == char[i]:\n",
    "        least_char = i\n",
    "print(\"lest occured character in string:\")\n",
    "print(least_char)"
   ]
  },
  {
   "cell_type": "code",
   "execution_count": 27,
   "metadata": {},
   "outputs": [
    {
     "name": "stdout",
     "output_type": "stream",
     "text": [
      "{'t': 8, 'h': 5, 'e': 9, 'r': 3, ' ': 17, 'i': 5, 's': 3, 'a': 6, 'd': 3, 'n': 5, 'f': 5, 'o': 6, 'm': 1, ',': 2, 'w': 1, 'c': 1, 'k': 1, 'l': 2, 'u': 1}\n"
     ]
    }
   ],
   "source": [
    "# Create a dictionary named letter_counts that contains each letter and the number of times it occurs in string1.\n",
    "#Challenge: Letters should not be counted separately as upper-case and lower-case. Intead, all of them should be \n",
    "#counted as lower-case.\n",
    "\n",
    "string1 = \"There is a tide in the affairs of men, Which taken at the flood, leads on to fortune\"\n",
    "string1 = string1.lower()\n",
    "letters_count = {}\n",
    "for i in string1:\n",
    "    if i not in letters_count:\n",
    "        letters_count[i] = 0\n",
    "    letters_count[i] += 1\n",
    "print(letters_count)\n",
    "\n",
    "\n"
   ]
  },
  {
   "cell_type": "code",
   "execution_count": 30,
   "metadata": {},
   "outputs": [
    {
     "name": "stdout",
     "output_type": "stream",
     "text": [
      "{'s': 5, 'u': 7, 'm': 3, 'e': 12, 'r': 3, ' ': 20, 'i': 3, 'a': 6, 'g': 3, 't': 9, 'o': 8, 'd': 1, '.': 2, 'y': 1, 'h': 6, 'v': 1, 'b': 2, 'c': 2, 'f': 3, 'l': 1, 'n': 1}\n"
     ]
    }
   ],
   "source": [
    "# Create a dictionary called low_d that keeps track of all the characters in the string p and notes how many \n",
    "#times each character was seen. Make sure that there are no repeats of characters as keys, such that “T” and\n",
    "#“t” are both seen as a “t” for example.\n",
    "\n",
    "p = \"Summer is a great time to go outside. You have to be careful of the sun though because of the heat.\"\n",
    "newStr = p.lower()\n",
    "low_d = {}\n",
    "for i in newStr:\n",
    "    if i not in low_d:\n",
    "        low_d[i] = 0\n",
    "    low_d[i] += 1\n",
    "print(low_d)"
   ]
  },
  {
   "cell_type": "code",
   "execution_count": 2,
   "metadata": {},
   "outputs": [
    {
     "name": "stdout",
     "output_type": "stream",
     "text": [
      "enter a key to delete:1699\n",
      "{1601: 'aman', 1602: 'roshini', 1603: 'usha'}\n"
     ]
    }
   ],
   "source": [
    "dict1 = {1601:'aman',1602:'roshini',1603:'usha',1699:'krishna'}\n",
    "x = int(input('enter a key to delete:'))\n",
    "dict2 = {}\n",
    "for key,value in dict1.items():\n",
    "    if key != x:\n",
    "        dict2[key] = value\n",
    "print(dict2)"
   ]
  },
  {
   "cell_type": "code",
   "execution_count": 31,
   "metadata": {},
   "outputs": [
    {
     "name": "stdout",
     "output_type": "stream",
     "text": [
      "enter a key to deleteamma\n",
      "key is not found\n"
     ]
    }
   ],
   "source": [
    "dict1 = {1601:'aman',1602:'roshini',1603:'usha',1699:'krishna'}\n",
    "x = input('enter a key to delete')\n",
    "try:\n",
    "    res = dict1.pop(x)\n",
    "    print(res)\n",
    "except:\n",
    "    print(\"key is not found\")"
   ]
  },
  {
   "cell_type": "markdown",
   "metadata": {},
   "source": [
    "# defaultdict()"
   ]
  },
  {
   "cell_type": "code",
   "execution_count": 16,
   "metadata": {},
   "outputs": [
    {
     "name": "stdout",
     "output_type": "stream",
     "text": [
      "1\n",
      "2\n",
      "not present\n"
     ]
    }
   ],
   "source": [
    "## It provides a default value for the key that does not exists\n",
    "\n",
    "\n",
    "from collections import defaultdict\n",
    "\n",
    "d = defaultdict(lambda:\"not present\")\n",
    "d['a'] = 1\n",
    "d['b'] = 2\n",
    "print(d['a'])\n",
    "print(d['b'])\n",
    "print(d['c'])"
   ]
  },
  {
   "cell_type": "code",
   "execution_count": 5,
   "metadata": {},
   "outputs": [
    {
     "name": "stdout",
     "output_type": "stream",
     "text": [
      "defaultdict(<function <lambda> at 0x0000025C6971D9E0>, {'a': 'animal', 'k': 'kalki'})\n",
      "deadpool\n"
     ]
    }
   ],
   "source": [
    "from collections import defaultdict\n",
    "res = defaultdict(lambda : 'deadpool')\n",
    "res['a'] = 'animal'\n",
    "res['k'] = 'kalki'\n",
    "print(res)\n",
    "print(res['d'])"
   ]
  },
  {
   "cell_type": "code",
   "execution_count": 1,
   "metadata": {},
   "outputs": [
    {
     "name": "stdout",
     "output_type": "stream",
     "text": [
      "{'a': 1, 'b': 3, 'c': 4}\n"
     ]
    }
   ],
   "source": [
    "dict_a = {'a': 1, 'b': 2}\n",
    "dict_b = {'b': 3, 'c': 4}\n",
    "res = dict_a | dict_b\n",
    "print(res)"
   ]
  },
  {
   "cell_type": "code",
   "execution_count": 10,
   "metadata": {},
   "outputs": [
    {
     "name": "stdout",
     "output_type": "stream",
     "text": [
      "4\n"
     ]
    }
   ],
   "source": [
    "from collections import defaultdict\n",
    "\n",
    "my_dict = defaultdict(lambda: 4)\n",
    "my_dict.update({'a': 1, 'b': 2})\n",
    "print(my_dict['c'])"
   ]
  },
  {
   "cell_type": "code",
   "execution_count": 9,
   "metadata": {},
   "outputs": [
    {
     "name": "stdout",
     "output_type": "stream",
     "text": [
      "{'c', 'b'}\n"
     ]
    }
   ],
   "source": [
    "dict_a = {'a': 1, 'b': 2, 'c': 3}\n",
    "dict_b = {'b': 3, 'c': 4, 'd': 5}\n",
    "common_keys = dict_a.keys() & dict_b.keys()\n",
    "print(common_keys)"
   ]
  },
  {
   "cell_type": "code",
   "execution_count": 14,
   "metadata": {},
   "outputs": [
    {
     "ename": "ModuleNotFoundError",
     "evalue": "No module named 'filters'",
     "output_type": "error",
     "traceback": [
      "\u001b[1;31m---------------------------------------------------------------------------\u001b[0m",
      "\u001b[1;31mModuleNotFoundError\u001b[0m                       Traceback (most recent call last)",
      "Cell \u001b[1;32mIn[14], line 1\u001b[0m\n\u001b[1;32m----> 1\u001b[0m \u001b[38;5;28;01mfrom\u001b[39;00m \u001b[38;5;21;01mfilters\u001b[39;00m \u001b[38;5;28;01mimport\u001b[39;00m filter_dict\n\u001b[0;32m      2\u001b[0m \u001b[38;5;66;03m# Example function to filter out key-value pairs where the value is greater than 2\u001b[39;00m\n\u001b[0;32m      3\u001b[0m \u001b[38;5;28;01mdef\u001b[39;00m \u001b[38;5;21mcondition\u001b[39m(key, value):\n",
      "\u001b[1;31mModuleNotFoundError\u001b[0m: No module named 'filters'"
     ]
    }
   ],
   "source": [
    "from filters import filter_dict\n",
    "# Example function to filter out key-value pairs where the value is greater than 2\n",
    "def condition(key, value):\n",
    "    return value > 2\n",
    "\n",
    "my_dict = {'a': 1, 'b': 3, 'c': 2, 'd': 5}\n",
    "filtered_dict = filter_dict(my_dict, condition)\n",
    "\n",
    "print(filtered_dict)\n",
    "# Output: {'b': 3, 'd': 5}\n"
   ]
  },
  {
   "cell_type": "code",
   "execution_count": 18,
   "metadata": {},
   "outputs": [
    {
     "ename": "NameError",
     "evalue": "name 'filter_dict' is not defined",
     "output_type": "error",
     "traceback": [
      "\u001b[1;31m---------------------------------------------------------------------------\u001b[0m",
      "\u001b[1;31mNameError\u001b[0m                                 Traceback (most recent call last)",
      "Cell \u001b[1;32mIn[18], line 5\u001b[0m\n\u001b[0;32m      2\u001b[0m     \u001b[38;5;28;01mreturn\u001b[39;00m value\u001b[38;5;241m%\u001b[39m\u001b[38;5;241m2\u001b[39m \u001b[38;5;241m==\u001b[39m \u001b[38;5;241m0\u001b[39m\n\u001b[0;32m      4\u001b[0m my_dict \u001b[38;5;241m=\u001b[39m {\u001b[38;5;124m'\u001b[39m\u001b[38;5;124ma\u001b[39m\u001b[38;5;124m'\u001b[39m: \u001b[38;5;241m4\u001b[39m, \u001b[38;5;124m'\u001b[39m\u001b[38;5;124mb\u001b[39m\u001b[38;5;124m'\u001b[39m: \u001b[38;5;241m3\u001b[39m, \u001b[38;5;124m'\u001b[39m\u001b[38;5;124mc\u001b[39m\u001b[38;5;124m'\u001b[39m: \u001b[38;5;241m2\u001b[39m, \u001b[38;5;124m'\u001b[39m\u001b[38;5;124md\u001b[39m\u001b[38;5;124m'\u001b[39m: \u001b[38;5;241m5\u001b[39m}\n\u001b[1;32m----> 5\u001b[0m res \u001b[38;5;241m=\u001b[39m filter_dict(my_dict,condition)\n\u001b[0;32m      6\u001b[0m \u001b[38;5;28mprint\u001b[39m(res)\n",
      "\u001b[1;31mNameError\u001b[0m: name 'filter_dict' is not defined"
     ]
    }
   ],
   "source": [
    "def condition(key,value):\n",
    "    return value%2 == 0\n",
    "\n",
    "my_dict = {'a': 4, 'b': 3, 'c': 2, 'd': 5}\n",
    "res = filter_dict(my_dict,condition)\n",
    "print(res)"
   ]
  },
  {
   "cell_type": "code",
   "execution_count": 3,
   "metadata": {},
   "outputs": [
    {
     "name": "stdout",
     "output_type": "stream",
     "text": [
      "42\n"
     ]
    }
   ],
   "source": [
    "my_dict = {'a': {'b': {'c': 42}}}\n",
    "print(my_dict['a']['b']['c'])"
   ]
  },
  {
   "cell_type": "code",
   "execution_count": 5,
   "metadata": {},
   "outputs": [
    {
     "name": "stdout",
     "output_type": "stream",
     "text": [
      "[('a', 2), ('b', 3), ('d', 5), ('f', 4)]\n"
     ]
    }
   ],
   "source": [
    "#Q: Write a function to sort a dictionary based on its keys.\n",
    "def fun(my_dict):\n",
    "    return sorted(my_dict.items())\n",
    "    \n",
    "    \n",
    "my_dict = {'f': 4, 'b': 3, 'a': 2, 'd': 5}\n",
    "res = fun(my_dict)\n",
    "print(res)"
   ]
  },
  {
   "cell_type": "code",
   "execution_count": 24,
   "metadata": {},
   "outputs": [
    {
     "name": "stdout",
     "output_type": "stream",
     "text": [
      "[{'id': 1, 'name': 'Alice'}, {'id': 2, 'name': 'Bob'}, {'id': 3, 'name': 'David'}]\n"
     ]
    }
   ],
   "source": [
    "#Given a list of dictionaries, how would you remove duplicates based on a specific key?\n",
    "\n",
    "\n",
    "def remove_duplicates(lst, key):\n",
    "    seen = set()\n",
    "    result = []\n",
    "    \n",
    "    for d in lst:\n",
    "        current_key = d[key]\n",
    "        \n",
    "        if current_key not in seen:\n",
    "            seen.add(current_key)\n",
    "            result.append(d)\n",
    "    \n",
    "    return result\n",
    "\n",
    "# Example usage:\n",
    "list_of_dicts = [\n",
    "    {'id': 1, 'name': 'Alice'},\n",
    "    {'id': 2, 'name': 'Bob'},\n",
    "    {'id': 1, 'name': 'Charlie'},\n",
    "    {'id': 3, 'name': 'David'},\n",
    "]\n",
    "\n",
    "unique_list = remove_duplicates(list_of_dicts, 'id')\n",
    "print(unique_list)"
   ]
  },
  {
   "cell_type": "code",
   "execution_count": 25,
   "metadata": {},
   "outputs": [
    {
     "name": "stdout",
     "output_type": "stream",
     "text": [
      "{'a': 5, 'b': 5, 'c': 7}\n"
     ]
    }
   ],
   "source": [
    "#Q: Is there a straightforward way to subtract the values of one dictionary from another, based on their keys?\n",
    "def subtract_dicts(dict_a, dict_b):\n",
    "    return {key: dict_a[key] - dict_b.get(key, 0) for key in dict_a}\n",
    "\n",
    "# Example usage:\n",
    "dict_a = {'a': 5, 'b': 8, 'c': 12}\n",
    "dict_b = {'b': 3, 'c': 5}\n",
    "\n",
    "result_dict = subtract_dicts(dict_a, dict_b)\n",
    "print(result_dict)\n"
   ]
  },
  {
   "cell_type": "code",
   "execution_count": 28,
   "metadata": {},
   "outputs": [
    {
     "name": "stdout",
     "output_type": "stream",
     "text": [
      "{'a': 5, 'b': 5, 'c': 7}\n"
     ]
    }
   ],
   "source": [
    "dict_a = {'a': 5, 'b': 8, 'c': 12}\n",
    "dict_b = {'b': 3, 'c': 5}\n",
    "\n",
    "res = {}\n",
    "for key in dict_a:\n",
    "    res[key] = dict_a[key]-dict_b.get(key,0)\n",
    "print(res)\n",
    "    "
   ]
  },
  {
   "cell_type": "code",
   "execution_count": 4,
   "metadata": {},
   "outputs": [
    {
     "name": "stdout",
     "output_type": "stream",
     "text": [
      "{'a': 5, 'b': 8, 'c': 12, 'd': 3}\n"
     ]
    }
   ],
   "source": [
    "dict_a = {'a': 5, 'b': 8, 'c': 12}\n",
    "dict_a['d'] = 3\n",
    "print(dict_a)"
   ]
  },
  {
   "cell_type": "code",
   "execution_count": 1,
   "metadata": {},
   "outputs": [
    {
     "name": "stdout",
     "output_type": "stream",
     "text": [
      "Counter({'l': 3, 'o': 2, 'h': 1, 'e': 1, ' ': 1, 'w': 1, 'r': 1, 'd': 1})\n"
     ]
    }
   ],
   "source": [
    "from collections import Counter\n",
    "def count_frequency_counter(input_str):\n",
    "    res = Counter(input_str)\n",
    "    return res\n",
    "\n",
    "input_str = \"hello world\"\n",
    "frequency_counter = count_frequency_counter(input_str)\n",
    "print(frequency_counter)"
   ]
  },
  {
   "cell_type": "code",
   "execution_count": 2,
   "metadata": {},
   "outputs": [
    {
     "name": "stdout",
     "output_type": "stream",
     "text": [
      "defaultdict(<class 'int'>, {'h': 1, 'e': 1, 'l': 3, 'o': 2, ' ': 1, 'w': 1, 'r': 1, 'd': 1})\n"
     ]
    }
   ],
   "source": [
    "from collections import defaultdict\n",
    "def count_frequency_counter(input_str):\n",
    "    res = defaultdict(int)\n",
    "    \n",
    "    for char in input_str:\n",
    "        res[char] += 1\n",
    "    return res\n",
    "\n",
    "\n",
    "input_str = \"hello world\"\n",
    "frequency_counter = count_frequency_counter(input_str)\n",
    "print(frequency_counter)"
   ]
  },
  {
   "cell_type": "code",
   "execution_count": null,
   "metadata": {},
   "outputs": [],
   "source": []
  },
  {
   "cell_type": "code",
   "execution_count": null,
   "metadata": {},
   "outputs": [],
   "source": []
  },
  {
   "cell_type": "code",
   "execution_count": null,
   "metadata": {},
   "outputs": [],
   "source": []
  },
  {
   "cell_type": "code",
   "execution_count": null,
   "metadata": {},
   "outputs": [],
   "source": []
  },
  {
   "cell_type": "code",
   "execution_count": null,
   "metadata": {},
   "outputs": [],
   "source": []
  },
  {
   "cell_type": "code",
   "execution_count": null,
   "metadata": {},
   "outputs": [],
   "source": []
  },
  {
   "cell_type": "code",
   "execution_count": null,
   "metadata": {},
   "outputs": [],
   "source": []
  },
  {
   "cell_type": "markdown",
   "metadata": {},
   "source": [
    "# "
   ]
  }
 ],
 "metadata": {
  "kernelspec": {
   "display_name": "Python 3 (ipykernel)",
   "language": "python",
   "name": "python3"
  },
  "language_info": {
   "codemirror_mode": {
    "name": "ipython",
    "version": 3
   },
   "file_extension": ".py",
   "mimetype": "text/x-python",
   "name": "python",
   "nbconvert_exporter": "python",
   "pygments_lexer": "ipython3",
   "version": "3.11.5"
  }
 },
 "nbformat": 4,
 "nbformat_minor": 4
}
