{
 "cells": [
  {
   "cell_type": "code",
   "execution_count": 2,
   "metadata": {},
   "outputs": [
    {
     "name": "stdout",
     "output_type": "stream",
     "text": [
      "enter a num5\n",
      "120\n"
     ]
    }
   ],
   "source": [
    "def fact(n):\n",
    "    if n < 0:\n",
    "        return 0\n",
    "    elif n==0 or n==1:\n",
    "        return 1\n",
    "    else:\n",
    "        fact = 1\n",
    "        while n>1:\n",
    "            fact = fact*n\n",
    "            n = n -1\n",
    "    return fact\n",
    "\n",
    "n = int(input('enter a num'))\n",
    "res = fact(n)\n",
    "print(res)"
   ]
  },
  {
   "cell_type": "code",
   "execution_count": 9,
   "metadata": {},
   "outputs": [
    {
     "name": "stdout",
     "output_type": "stream",
     "text": [
      "enter a num3\n",
      "3 is a prime\n"
     ]
    }
   ],
   "source": [
    "num = int(input('enter a num'))\n",
    "if num>1:\n",
    "    for i in range(2,num):\n",
    "        if num % i == 0:\n",
    "            print(num,'is not a prime num')\n",
    "            break\n",
    "    else:\n",
    "        print(num,'is a prime')\n",
    "else:\n",
    "    print(num,'is not prime')"
   ]
  },
  {
   "cell_type": "code",
   "execution_count": 11,
   "metadata": {},
   "outputs": [
    {
     "name": "stdout",
     "output_type": "stream",
     "text": [
      "enter a num11\n",
      "enter a num20\n",
      "11\n",
      "13\n",
      "17\n",
      "19\n"
     ]
    }
   ],
   "source": [
    "start = int(input('enter a num'))\n",
    "stop = int(input('enter a num'))\n",
    "for i in range(start,stop):\n",
    "    if i > 1:\n",
    "        for j in range(2,i):\n",
    "            if i%j == 0:\n",
    "                break\n",
    "        else:\n",
    "            print(i)"
   ]
  },
  {
   "cell_type": "code",
   "execution_count": 14,
   "metadata": {},
   "outputs": [
    {
     "name": "stdout",
     "output_type": "stream",
     "text": [
      "enter a num10\n",
      "0\n",
      "1\n",
      "1\n",
      "2\n",
      "3\n",
      "5\n",
      "8\n",
      "13\n",
      "21\n",
      "34\n",
      "55\n"
     ]
    }
   ],
   "source": [
    "n = int(input('enter a num'))\n",
    "fn = 0\n",
    "sn = 1\n",
    "print(fn)\n",
    "print(sn)\n",
    "\n",
    "for i in range(1,n):\n",
    "    print(fn + sn)\n",
    "    fn,sn = sn , fn +sn"
   ]
  },
  {
   "cell_type": "code",
   "execution_count": 15,
   "metadata": {},
   "outputs": [
    {
     "name": "stdout",
     "output_type": "stream",
     "text": [
      "enter num to check30\n",
      "2\n",
      "3\n",
      "5\n",
      "8\n",
      "13\n",
      "21\n",
      "34\n",
      "30 isnot a fibonacci\n"
     ]
    }
   ],
   "source": [
    "n = int(input('enter num to check'))\n",
    "fn = 0\n",
    "sn = 1\n",
    "res = 1\n",
    "if n == 0 or n == 1:\n",
    "    print(n,'is a fibonacci')\n",
    "else:\n",
    "    while res<n:\n",
    "        fn = sn\n",
    "        sn = res\n",
    "        res = fn+sn\n",
    "        print(res)\n",
    "    if res == n:\n",
    "        print(n,'is a fibonacci')\n",
    "    else:\n",
    "        print(n,'isnot a fibonacci')"
   ]
  },
  {
   "cell_type": "code",
   "execution_count": 5,
   "metadata": {},
   "outputs": [
    {
     "name": "stdout",
     "output_type": "stream",
     "text": [
      "1\n",
      "2\n",
      "3\n",
      "4\n",
      "5\n",
      "6\n",
      "7\n",
      "8\n",
      "9\n",
      "10\n",
      "11\n",
      "12\n",
      "13\n",
      "14\n"
     ]
    }
   ],
   "source": [
    "n = 20\n",
    "for i in range(1,n+1):\n",
    "    if i==15:\n",
    "        break\n",
    "    print(i)"
   ]
  },
  {
   "cell_type": "code",
   "execution_count": 2,
   "metadata": {},
   "outputs": [
    {
     "name": "stdout",
     "output_type": "stream",
     "text": [
      "{'aet': ['eat', 'tea', 'ate'], 'ant': ['tan', 'nat'], 'abt': ['bat']}\n"
     ]
    }
   ],
   "source": [
    "def group_anagrams(str1):\n",
    "    dict1 = {}\n",
    "    for word in str1:\n",
    "        sorted_word = \"\".join(sorted(word))\n",
    "        if sorted_word not in dict1:\n",
    "            dict1[sorted_word] = [word]\n",
    "        else:\n",
    "            dict1[sorted_word].append(word)\n",
    "    \n",
    "    return dict1\n",
    "\n",
    "\n",
    "str1 = [\"eat\",\"tea\",\"tan\",\"ate\",\"nat\",\"bat\"]\n",
    "res = group_anagrams(str1)\n",
    "print(res)"
   ]
  },
  {
   "cell_type": "code",
   "execution_count": null,
   "metadata": {},
   "outputs": [],
   "source": [
    "# abbc\n",
    "# ab2c\n",
    "\n"
   ]
  },
  {
   "cell_type": "code",
   "execution_count": 22,
   "metadata": {},
   "outputs": [
    {
     "name": "stdout",
     "output_type": "stream",
     "text": [
      "a g r u D e r a w t f o S s n o i t u l o S\n"
     ]
    }
   ],
   "source": [
    "st = \"Durga Software Solutions\"\n",
    "res = []\n",
    "words = st.split()\n",
    "for i in words:\n",
    "    for j in range(len(i)-1,-1,-1):\n",
    "        res.append(i[j])\n",
    "print(\" \".join(res))"
   ]
  },
  {
   "cell_type": "code",
   "execution_count": 26,
   "metadata": {},
   "outputs": [
    {
     "name": "stdout",
     "output_type": "stream",
     "text": [
      "BAD\n",
      "413\n",
      "ABD134\n"
     ]
    }
   ],
   "source": [
    "#input: B4A1D3\n",
    "#Output: ABD134\n",
    "\n",
    "s = \"B4A1D3\"\n",
    "l1 = l2 = out = \"\"\n",
    "\n",
    "for i in s:\n",
    "    if i.isalpha():\n",
    "        l1 = l1 + i\n",
    "    else:\n",
    "        l2 = l2 + i\n",
    "        \n",
    "for i in sorted(l1):\n",
    "    out = out+i\n",
    "for i in sorted(l2):\n",
    "    out = out + i\n",
    "print(l1)\n",
    "print(l2)\n",
    "print(out)"
   ]
  },
  {
   "cell_type": "code",
   "execution_count": 27,
   "metadata": {},
   "outputs": [
    {
     "name": "stdout",
     "output_type": "stream",
     "text": [
      "[2, 1, 4, 3, 6, 5]\n"
     ]
    }
   ],
   "source": [
    "#input = \"ABCDEF\"\n",
    "#OUPUT = \"BADCFE\"\n",
    "\n",
    "x = [1,2,3,4,5,6]\n",
    "for i in range(0,len(x)-1,2):\n",
    "    temp = x[i]\n",
    "    x[i] = x[i+1]\n",
    "    x[i+1] = temp\n",
    "print(x)"
   ]
  },
  {
   "cell_type": "code",
   "execution_count": 28,
   "metadata": {},
   "outputs": [
    {
     "ename": "TypeError",
     "evalue": "'str' object does not support item assignment",
     "output_type": "error",
     "traceback": [
      "\u001b[0;31m---------------------------------------------------------------------------\u001b[0m",
      "\u001b[0;31mTypeError\u001b[0m                                 Traceback (most recent call last)",
      "\u001b[0;32m<ipython-input-28-f92ddf50e224>\u001b[0m in \u001b[0;36m<module>\u001b[0;34m\u001b[0m\n\u001b[1;32m      3\u001b[0m \u001b[0;32mfor\u001b[0m \u001b[0mi\u001b[0m \u001b[0;32min\u001b[0m \u001b[0mrange\u001b[0m\u001b[0;34m(\u001b[0m\u001b[0;36m0\u001b[0m\u001b[0;34m,\u001b[0m\u001b[0mlen\u001b[0m\u001b[0;34m(\u001b[0m\u001b[0ms\u001b[0m\u001b[0;34m)\u001b[0m\u001b[0;34m-\u001b[0m\u001b[0;36m1\u001b[0m\u001b[0;34m,\u001b[0m\u001b[0;36m2\u001b[0m\u001b[0;34m)\u001b[0m\u001b[0;34m:\u001b[0m\u001b[0;34m\u001b[0m\u001b[0;34m\u001b[0m\u001b[0m\n\u001b[1;32m      4\u001b[0m     \u001b[0mtemp\u001b[0m \u001b[0;34m=\u001b[0m \u001b[0ms\u001b[0m\u001b[0;34m[\u001b[0m\u001b[0mi\u001b[0m\u001b[0;34m]\u001b[0m\u001b[0;34m\u001b[0m\u001b[0;34m\u001b[0m\u001b[0m\n\u001b[0;32m----> 5\u001b[0;31m     \u001b[0ms\u001b[0m\u001b[0;34m[\u001b[0m\u001b[0mi\u001b[0m\u001b[0;34m]\u001b[0m \u001b[0;34m=\u001b[0m \u001b[0ms\u001b[0m\u001b[0;34m[\u001b[0m\u001b[0mi\u001b[0m\u001b[0;34m+\u001b[0m\u001b[0;36m1\u001b[0m\u001b[0;34m]\u001b[0m\u001b[0;34m\u001b[0m\u001b[0;34m\u001b[0m\u001b[0m\n\u001b[0m\u001b[1;32m      6\u001b[0m     \u001b[0ms\u001b[0m\u001b[0;34m[\u001b[0m\u001b[0mi\u001b[0m\u001b[0;34m+\u001b[0m\u001b[0;36m1\u001b[0m\u001b[0;34m]\u001b[0m \u001b[0;34m=\u001b[0m \u001b[0mtemp\u001b[0m\u001b[0;34m\u001b[0m\u001b[0;34m\u001b[0m\u001b[0m\n\u001b[1;32m      7\u001b[0m \u001b[0mprint\u001b[0m\u001b[0;34m(\u001b[0m\u001b[0ms\u001b[0m\u001b[0;34m)\u001b[0m\u001b[0;34m\u001b[0m\u001b[0;34m\u001b[0m\u001b[0m\n",
      "\u001b[0;31mTypeError\u001b[0m: 'str' object does not support item assignment"
     ]
    }
   ],
   "source": [
    "s = \"ABCDEF\"\n",
    "out = \"\"\n",
    "for i in range(0,len(s)-1,2):\n",
    "    temp = s[i]\n",
    "    s[i] = s[i+1]\n",
    "    s[i+1] = temp\n",
    "print(s)"
   ]
  },
  {
   "cell_type": "code",
   "execution_count": 29,
   "metadata": {},
   "outputs": [
    {
     "name": "stdout",
     "output_type": "stream",
     "text": [
      "aaaabbbcc\n"
     ]
    }
   ],
   "source": [
    "#input: a4b3c2\n",
    "#output: aaaabbbcc\n",
    "\n",
    "s1 = \"a4b3c2\"\n",
    "res = \"\"\n",
    "for i in s1:\n",
    "    if i.isalpha():\n",
    "        res = res + i\n",
    "        previous = i\n",
    "    else:\n",
    "        res = res + previous*(int(i)-1)\n",
    "print(res)"
   ]
  },
  {
   "cell_type": "code",
   "execution_count": 31,
   "metadata": {},
   "outputs": [
    {
     "name": "stdout",
     "output_type": "stream",
     "text": [
      "a4b3c2\n"
     ]
    }
   ],
   "source": [
    "#input: aaaabbbcc\n",
    "#output: a4b3c2\n",
    "\n",
    "s = \"aaaabbbcc\"\n",
    "res = \"\"\n",
    "count = 1\n",
    "\n",
    "for i in range(1,len(s)):\n",
    "    if s[i] == s[i-1]:\n",
    "        count = count + 1\n",
    "    else:\n",
    "        res = res + s[i-1] + str(count)\n",
    "        count = 1\n",
    "res = res + s[-1] + str(count)\n",
    "print(res)\n"
   ]
  },
  {
   "cell_type": "code",
   "execution_count": 38,
   "metadata": {},
   "outputs": [
    {
     "name": "stdout",
     "output_type": "stream",
     "text": [
      "aeknbd\n"
     ]
    }
   ],
   "source": [
    "#input: a4k3b2\n",
    "#output: aeknbd\n",
    "\n",
    "st1 = \"a4k3b2\"\n",
    "res = \"\"\n",
    "\n",
    "for i in st1:\n",
    "    if i.isalpha():\n",
    "        res = res + i\n",
    "        previous = i\n",
    "    else:\n",
    "        res = res + chr(ord(previous)+int(i))\n",
    "print(res)\n"
   ]
  },
  {
   "cell_type": "code",
   "execution_count": null,
   "metadata": {},
   "outputs": [],
   "source": []
  },
  {
   "cell_type": "code",
   "execution_count": null,
   "metadata": {},
   "outputs": [],
   "source": []
  },
  {
   "cell_type": "code",
   "execution_count": null,
   "metadata": {},
   "outputs": [],
   "source": []
  },
  {
   "cell_type": "code",
   "execution_count": null,
   "metadata": {},
   "outputs": [],
   "source": []
  },
  {
   "cell_type": "code",
   "execution_count": null,
   "metadata": {},
   "outputs": [],
   "source": []
  },
  {
   "cell_type": "code",
   "execution_count": null,
   "metadata": {},
   "outputs": [],
   "source": []
  },
  {
   "cell_type": "code",
   "execution_count": null,
   "metadata": {},
   "outputs": [],
   "source": []
  },
  {
   "cell_type": "code",
   "execution_count": null,
   "metadata": {},
   "outputs": [],
   "source": []
  },
  {
   "cell_type": "code",
   "execution_count": null,
   "metadata": {},
   "outputs": [],
   "source": []
  }
 ],
 "metadata": {
  "kernelspec": {
   "display_name": "Python 3",
   "language": "python",
   "name": "python3"
  },
  "language_info": {
   "codemirror_mode": {
    "name": "ipython",
    "version": 3
   },
   "file_extension": ".py",
   "mimetype": "text/x-python",
   "name": "python",
   "nbconvert_exporter": "python",
   "pygments_lexer": "ipython3",
   "version": "3.8.5"
  }
 },
 "nbformat": 4,
 "nbformat_minor": 4
}
