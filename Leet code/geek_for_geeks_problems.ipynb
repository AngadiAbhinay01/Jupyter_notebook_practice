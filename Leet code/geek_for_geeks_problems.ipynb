{
 "cells": [
  {
   "cell_type": "code",
   "execution_count": 1,
   "id": "2ef76f62",
   "metadata": {},
   "outputs": [
    {
     "data": {
      "text/plain": [
       "20"
      ]
     },
     "execution_count": 1,
     "metadata": {},
     "output_type": "execute_result"
    }
   ],
   "source": [
    "\"\"\"Input: array[]= {5, 10, 20, 15}\n",
    "Output: 20\n",
    "Explanation: The element 20 has neighbors 10 and 15, both of them are less than 20.\"\"\"\n",
    "\n",
    "def fun(arr):\n",
    "    n = len(arr)\n",
    "    low = 0\n",
    "    high = n-1\n",
    "    \n",
    "    while low<=high:\n",
    "        mid = (low+high)//2\n",
    "        \n",
    "        if arr[mid] < arr[mid+1]:\n",
    "            low = mid+1\n",
    "        else:\n",
    "            high = mid-1\n",
    "    return arr[low]\n",
    "    \n",
    "arr = [5,10,20,15]\n",
    "fun(arr)"
   ]
  },
  {
   "cell_type": "code",
   "execution_count": 4,
   "id": "23be99f0",
   "metadata": {},
   "outputs": [
    {
     "data": {
      "text/plain": [
       "(67, 1)"
      ]
     },
     "execution_count": 4,
     "metadata": {},
     "output_type": "execute_result"
    }
   ],
   "source": [
    "\"\"\"Program to find the minimum (or maximum) element of an array\"\"\"\n",
    "def fun(arr):\n",
    "    max1 = arr[0]\n",
    "    min1 = arr[0]\n",
    "    for i in range(len(arr)):\n",
    "        if arr[i] > max1:\n",
    "            max1 = arr[i]\n",
    "        elif arr[i] < min1:\n",
    "            min1 = arr[i]\n",
    "    return max1, min1\n",
    "    \n",
    "arr = [12, 14, 45, 67, 1]\n",
    "fun(arr)"
   ]
  },
  {
   "cell_type": "code",
   "execution_count": 7,
   "id": "61532727",
   "metadata": {},
   "outputs": [
    {
     "data": {
      "text/plain": [
       "[2, 1, 5, 4]"
      ]
     },
     "execution_count": 7,
     "metadata": {},
     "output_type": "execute_result"
    }
   ],
   "source": [
    "\"\"\"Input: original_array[] = {1, 2, 3} Output: array_reversed[] = {3, 2, 1}\n",
    "\n",
    "Input: original_array[] = {4, 5, 1, 2}\n",
    "Output: array_reversed[] = {2, 1, 5, 4}\"\"\"\n",
    "\n",
    "def fun(arr):\n",
    "    res = []\n",
    "    for i in range(len(arr)):\n",
    "        res.insert(0,arr[i])\n",
    "    return res\n",
    "\n",
    "arr = [4, 5, 1, 2]\n",
    "fun(arr)"
   ]
  },
  {
   "cell_type": "code",
   "execution_count": 10,
   "id": "32819f41",
   "metadata": {},
   "outputs": [
    {
     "data": {
      "text/plain": [
       "[2, 1, 5, 4]"
      ]
     },
     "execution_count": 10,
     "metadata": {},
     "output_type": "execute_result"
    }
   ],
   "source": [
    "def fun(arr):\n",
    "    res = []\n",
    "    for i in range(len(arr)-1,-1,-1):\n",
    "        res.append(arr[i])\n",
    "    return res\n",
    "\n",
    "arr = [4, 5, 1, 2]\n",
    "fun(arr)"
   ]
  },
  {
   "cell_type": "code",
   "execution_count": 24,
   "id": "7a12d3ca",
   "metadata": {},
   "outputs": [
    {
     "name": "stdout",
     "output_type": "stream",
     "text": [
      "[0, 9, 12, 14, 23]\n"
     ]
    }
   ],
   "source": [
    "\"\"\"sorting\"\"\"\n",
    "\n",
    "arr = [0,23,14,12,9]\n",
    "arr.sort()\n",
    "print(arr)"
   ]
  },
  {
   "cell_type": "code",
   "execution_count": 25,
   "id": "dfce53e9",
   "metadata": {},
   "outputs": [
    {
     "data": {
      "text/plain": [
       "[0, 9, 12, 14, 23]"
      ]
     },
     "execution_count": 25,
     "metadata": {},
     "output_type": "execute_result"
    }
   ],
   "source": [
    "def fun(arr):\n",
    "    n = len(arr)\n",
    "    for i in range(n):\n",
    "        for j in range(n-i-1):\n",
    "            if arr[j] > arr[j+1]:\n",
    "                arr[j], arr[j+1] = arr[j+1], arr[j]\n",
    "    return arr\n",
    "arr = [0,23,14,12,9]\n",
    "fun(arr)"
   ]
  },
  {
   "cell_type": "code",
   "execution_count": 26,
   "id": "001f66b1",
   "metadata": {},
   "outputs": [
    {
     "data": {
      "text/plain": [
       "[0, 9, 12, 14, 23]"
      ]
     },
     "execution_count": 26,
     "metadata": {},
     "output_type": "execute_result"
    }
   ],
   "source": [
    "def fun(arr):\n",
    "    n = len(arr)\n",
    "    for i in range(n-1):\n",
    "        min_index = i\n",
    "        \n",
    "        for j in range(i+1,n):\n",
    "            if arr[j] < arr[min_index]:\n",
    "                min_index = j\n",
    "        arr[i], arr[min_index] = arr[min_index], arr[i]\n",
    "    return arr\n",
    "arr = [0,23,14,12,9]\n",
    "fun(arr)"
   ]
  },
  {
   "cell_type": "code",
   "execution_count": 33,
   "id": "7a673001",
   "metadata": {},
   "outputs": [
    {
     "name": "stdout",
     "output_type": "stream",
     "text": [
      "[3, 4, 7, 10, 15, 20]\n"
     ]
    },
    {
     "data": {
      "text/plain": [
       "10"
      ]
     },
     "execution_count": 33,
     "metadata": {},
     "output_type": "execute_result"
    }
   ],
   "source": [
    "\"\"\"Input: arr[] = {7, 10, 4, 3, 20, 15}, K = 3 \n",
    "Output: 7\n",
    "\n",
    "Input: arr[] = {7, 10, 4, 3, 20, 15}, K = 4 \n",
    "Output: 10 \"\"\"\n",
    "\n",
    "def fun(arr,k):\n",
    "    if k<=0 or k>len(arr):\n",
    "        return -1\n",
    "    arr.sort()\n",
    "    print(arr)\n",
    "    return arr[k-1]\n",
    "    \n",
    "arr = [7,10,4,3,20,15]\n",
    "k = 4\n",
    "fun(arr,k)"
   ]
  },
  {
   "cell_type": "code",
   "execution_count": 29,
   "id": "8c0b3080",
   "metadata": {},
   "outputs": [
    {
     "data": {
      "text/plain": [
       "[20, 15, 10]"
      ]
     },
     "execution_count": 29,
     "metadata": {},
     "output_type": "execute_result"
    }
   ],
   "source": [
    "def fun(arr,n):\n",
    "    res = []\n",
    "    \n",
    "    for i in range(n):\n",
    "        max1 = 0\n",
    "        for j in range(len(arr)):\n",
    "            if arr[j] > max1:\n",
    "                max1 = arr[j]\n",
    "        res.append(max1)\n",
    "        arr.remove(max1)\n",
    "    return res\n",
    "    \n",
    "    \n",
    "arr = [7,10,4,3,20,15]\n",
    "n = 3\n",
    "fun(arr,n)"
   ]
  },
  {
   "cell_type": "code",
   "execution_count": 36,
   "id": "27621730",
   "metadata": {},
   "outputs": [
    {
     "data": {
      "text/plain": [
       "4"
      ]
     },
     "execution_count": 36,
     "metadata": {},
     "output_type": "execute_result"
    }
   ],
   "source": [
    "def fun(arr,n,x):\n",
    "    count = 0\n",
    "    for i in range(n):\n",
    "        if arr[i] == x:\n",
    "            count += 1\n",
    "    return count\n",
    "\n",
    "arr = [1, 1, 2, 2, 2, 2, 3]\n",
    "n = len(arr)\n",
    "x = 2\n",
    "fun(arr,n,x)"
   ]
  },
  {
   "cell_type": "code",
   "execution_count": 56,
   "id": "c5539130",
   "metadata": {},
   "outputs": [
    {
     "data": {
      "text/plain": [
       "('sum found at indices', 2, 'and', 4)"
      ]
     },
     "execution_count": 56,
     "metadata": {},
     "output_type": "execute_result"
    }
   ],
   "source": [
    "\"\"\"Input: arr[] = {1, 4, 20, 3, 10, 5}, sum = 33\n",
    "Output: Sum found between indexes 2 and 4\n",
    "Explanation: Sum of elements between indices 2 and 4 is 20 + 3 + 10 = 33\"\"\"\n",
    "\n",
    "def fun(nums,n,target):\n",
    "    for i in range(n):\n",
    "        current_sum = nums[i]\n",
    "        if current_sum == target:\n",
    "            return 'sum found at indices',i\n",
    "        else:\n",
    "            for j in range(i+1, n):\n",
    "                current_sum += nums[j]\n",
    "                if current_sum == target:\n",
    "                    return 'sum found at indices',i,'and',j\n",
    "nums = [1, 4, 20, 3, 10, 5]\n",
    "target = 33\n",
    "n = len(nums)\n",
    "fun(nums,n,target)"
   ]
  },
  {
   "cell_type": "code",
   "execution_count": 58,
   "id": "44abdc38",
   "metadata": {},
   "outputs": [
    {
     "data": {
      "text/plain": [
       "[-13, -12, -7, -6, -5, -3, 5, 6, 11]"
      ]
     },
     "execution_count": 58,
     "metadata": {},
     "output_type": "execute_result"
    }
   ],
   "source": [
    "\"\"\"Input: -12, 11, -13, -5, 6, -7, 5, -3, -6\n",
    "Output: -12 -13 -5 -7 -3 -6 11 6 5\"\"\"\n",
    "\n",
    "def fun(arr):\n",
    "    arr.sort()\n",
    "    return arr\n",
    "arr = [-12, 11, -13, -5, 6, -7, 5, -3, -6]\n",
    "fun(arr)"
   ]
  },
  {
   "cell_type": "code",
   "execution_count": 71,
   "id": "45516f2b",
   "metadata": {},
   "outputs": [
    {
     "data": {
      "text/plain": [
       "[-13, -5, -7, -3, -12, -6, 5, 11, 6]"
      ]
     },
     "execution_count": 71,
     "metadata": {},
     "output_type": "execute_result"
    }
   ],
   "source": [
    "def fun(arr,n):\n",
    "    j = -1\n",
    "    for i in range(n):\n",
    "        if arr[i]<0:\n",
    "            temp = arr[i]\n",
    "            arr[i] = arr[j]\n",
    "            arr[j] = temp\n",
    "            j += 1\n",
    "    return arr\n",
    "\n",
    "\n",
    "arr = [-12, 11, -13, -5, 6, -7, 5, -3, -6]\n",
    "n = len(arr)\n",
    "fun(arr,n)"
   ]
  },
  {
   "cell_type": "code",
   "execution_count": 74,
   "id": "9dc97f3b",
   "metadata": {},
   "outputs": [
    {
     "name": "stdout",
     "output_type": "stream",
     "text": [
      "Union: [1, 2, 3, 4, 5, 6, 7]\n",
      "Intersection: [3, 5]\n"
     ]
    }
   ],
   "source": [
    "\"\"\"Input: arr1[] = {1, 3, 4, 5, 7}\n",
    "        arr2[] = {2, 3, 5, 6} \n",
    "Output: Union : {1, 2, 3, 4, 5, 6, 7} \n",
    "         Intersection : {3, 5}\n",
    "\n",
    "Input: arr1[] = {2, 5, 6}\n",
    "        arr2[] = {4, 6, 8, 10} \n",
    "Output: Union : {2, 4, 5, 6, 8, 10} \n",
    "         Intersection : {6}\"\"\"\n",
    "\n",
    "def find_union_intersection(arr1, arr2):\n",
    "    union_set = set()\n",
    "    intersection_set = set()\n",
    "    \n",
    "    # Add elements from arr1 to union_set\n",
    "    for num in arr1:\n",
    "        union_set.add(num)\n",
    "    \n",
    "    # Add elements from arr2 to union_set and intersection_set\n",
    "    for num in arr2:\n",
    "        if num in union_set:\n",
    "            intersection_set.add(num)\n",
    "        union_set.add(num)\n",
    "    \n",
    "    return union_set, intersection_set\n",
    "arr1_1 = [1, 3, 4, 5, 7]\n",
    "arr2_1 = [2, 3, 5, 6]\n",
    "union_1, intersection_1 = find_union_intersection(arr1_1, arr2_1)\n",
    "print(\"Union:\", sorted(union_1))\n",
    "print(\"Intersection:\", sorted(intersection_1))"
   ]
  },
  {
   "cell_type": "code",
   "execution_count": 77,
   "id": "411a1937",
   "metadata": {},
   "outputs": [
    {
     "data": {
      "text/plain": [
       "({1, 2, 3, 4, 5, 6, 7}, {3, 5})"
      ]
     },
     "execution_count": 77,
     "metadata": {},
     "output_type": "execute_result"
    }
   ],
   "source": [
    "def fun(arr1_1,arr2_1):\n",
    "    union_set = set()\n",
    "    inter_set = set()\n",
    "    \n",
    "    for num in arr1_1:\n",
    "        union_set.add(num)\n",
    "    \n",
    "    for num in arr2_1:\n",
    "        if num in arr1_1:\n",
    "            inter_set.add(num)\n",
    "        else:\n",
    "            union_set.add(num)\n",
    "    return union_set, inter_set\n",
    "    \n",
    "arr1_1 = [1, 3, 4, 5, 7]\n",
    "arr2_1 = [2, 3, 5, 6]\n",
    "fun(arr1_1,arr2_1)"
   ]
  },
  {
   "cell_type": "code",
   "execution_count": null,
   "id": "54b9af57",
   "metadata": {},
   "outputs": [],
   "source": []
  },
  {
   "cell_type": "code",
   "execution_count": null,
   "id": "9f7c231e",
   "metadata": {},
   "outputs": [],
   "source": []
  },
  {
   "cell_type": "code",
   "execution_count": null,
   "id": "8a6f117c",
   "metadata": {},
   "outputs": [],
   "source": []
  },
  {
   "cell_type": "code",
   "execution_count": null,
   "id": "b65b27c0",
   "metadata": {},
   "outputs": [],
   "source": []
  },
  {
   "cell_type": "code",
   "execution_count": null,
   "id": "49aed262",
   "metadata": {},
   "outputs": [],
   "source": []
  },
  {
   "cell_type": "code",
   "execution_count": null,
   "id": "ce1ffd23",
   "metadata": {},
   "outputs": [],
   "source": []
  }
 ],
 "metadata": {
  "kernelspec": {
   "display_name": "Python 3 (ipykernel)",
   "language": "python",
   "name": "python3"
  },
  "language_info": {
   "codemirror_mode": {
    "name": "ipython",
    "version": 3
   },
   "file_extension": ".py",
   "mimetype": "text/x-python",
   "name": "python",
   "nbconvert_exporter": "python",
   "pygments_lexer": "ipython3",
   "version": "3.11.5"
  }
 },
 "nbformat": 4,
 "nbformat_minor": 5
}
