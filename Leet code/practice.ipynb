{
 "cells": [
  {
   "cell_type": "code",
   "execution_count": 1,
   "id": "5752a645",
   "metadata": {},
   "outputs": [
    {
     "name": "stdout",
     "output_type": "stream",
     "text": [
      "30\n"
     ]
    }
   ],
   "source": [
    "from datetime import date\n",
    "f_date = date(2023,11,30)\n",
    "l_date = date(2023,12,30)\n",
    "\n",
    "delta = l_date - f_date\n",
    "print(delta.days)"
   ]
  },
  {
   "cell_type": "code",
   "execution_count": 2,
   "id": "4ccb7e3a",
   "metadata": {},
   "outputs": [
    {
     "data": {
      "text/plain": [
       "10"
      ]
     },
     "execution_count": 2,
     "metadata": {},
     "output_type": "execute_result"
    }
   ],
   "source": [
    "def fun(n):\n",
    "    multiple = max(n,2)\n",
    "    while True:\n",
    "        if multiple%n == 0 and multiple%2 == 0:\n",
    "            return multiple\n",
    "        multiple+=1\n",
    "    \n",
    "n = 5\n",
    "fun(n)"
   ]
  },
  {
   "cell_type": "code",
   "execution_count": 3,
   "id": "a44f0a50",
   "metadata": {},
   "outputs": [
    {
     "data": {
      "text/plain": [
       "4"
      ]
     },
     "execution_count": 3,
     "metadata": {},
     "output_type": "execute_result"
    }
   ],
   "source": [
    "def gcd(n1,n2):\n",
    "    while n2:\n",
    "        n1,n2 = n2,n1%n2\n",
    "    return n1\n",
    "    \n",
    "gcd(4,8)"
   ]
  },
  {
   "cell_type": "code",
   "execution_count": 4,
   "id": "488d386c",
   "metadata": {},
   "outputs": [
    {
     "data": {
      "text/plain": [
       "6"
      ]
     },
     "execution_count": 4,
     "metadata": {},
     "output_type": "execute_result"
    }
   ],
   "source": [
    "def no_match(n):\n",
    "    matches = 0\n",
    "    if n<1:\n",
    "        return \"\"\n",
    "    while n>1:\n",
    "        matches = matches + n//2\n",
    "        if n%2 == 0:\n",
    "            n = n//2\n",
    "        else:\n",
    "            n = (n-1)//2 + 1\n",
    "    return matches \n",
    "no_match(7)"
   ]
  },
  {
   "cell_type": "code",
   "execution_count": 5,
   "id": "8b5cfa28",
   "metadata": {},
   "outputs": [
    {
     "data": {
      "text/plain": [
       "4"
      ]
     },
     "execution_count": 5,
     "metadata": {},
     "output_type": "execute_result"
    }
   ],
   "source": [
    "def fun(n1,n2):\n",
    "    res = []\n",
    "    min1 = min(n1,n2)\n",
    "    for i in range(1,min1+1):\n",
    "        if min1%i == 0:\n",
    "            res.append(i)\n",
    "    return len(res)\n",
    "fun(12,6)"
   ]
  },
  {
   "cell_type": "code",
   "execution_count": 6,
   "id": "87e5b34f",
   "metadata": {},
   "outputs": [
    {
     "data": {
      "text/plain": [
       "[2, 3, 5, 7]"
      ]
     },
     "execution_count": 6,
     "metadata": {},
     "output_type": "execute_result"
    }
   ],
   "source": [
    "def count_prime(n):\n",
    "    res = []\n",
    "    for i in range(2,n):\n",
    "        for j in range(2,i):\n",
    "            if i%j == 0:\n",
    "                break\n",
    "        else:\n",
    "            res.append(i)\n",
    "    return res\n",
    "    \n",
    "n = 10\n",
    "count_prime(n)"
   ]
  },
  {
   "cell_type": "code",
   "execution_count": 7,
   "id": "10b0290f",
   "metadata": {},
   "outputs": [
    {
     "data": {
      "text/plain": [
       "False"
      ]
     },
     "execution_count": 7,
     "metadata": {},
     "output_type": "execute_result"
    }
   ],
   "source": [
    "def fun(n):\n",
    "    for i in range(len(n)-1):\n",
    "        if n[i] > n[i+1]:\n",
    "            r = n[i+1:]+n[:i+1]\n",
    "            return r == sorted(n)\n",
    "    return True\n",
    "    \n",
    "n = [3, 1, 5, 1, 2]\n",
    "fun(n)"
   ]
  },
  {
   "cell_type": "code",
   "execution_count": 8,
   "id": "578eb8ac",
   "metadata": {},
   "outputs": [
    {
     "name": "stdout",
     "output_type": "stream",
     "text": [
      "-3\n"
     ]
    }
   ],
   "source": [
    "num = \"25\"\n",
    "for i in range(len(num)-1):\n",
    "    n1 = int(num[i])\n",
    "    n2 = int(num[i+1])\n",
    "    diff = n1 - n2\n",
    "print(diff)"
   ]
  },
  {
   "cell_type": "code",
   "execution_count": 9,
   "id": "19d81029",
   "metadata": {},
   "outputs": [
    {
     "name": "stdout",
     "output_type": "stream",
     "text": [
      "[1, 3, 6, 10]\n"
     ]
    }
   ],
   "source": [
    "nums = [1,2,3,4]\n",
    "res = []\n",
    "run_sum = 0\n",
    "for n in nums:\n",
    "    run_sum = run_sum + n\n",
    "    res.append(run_sum)\n",
    "print(res)"
   ]
  },
  {
   "cell_type": "code",
   "execution_count": 10,
   "id": "419dfa57",
   "metadata": {},
   "outputs": [
    {
     "name": "stdout",
     "output_type": "stream",
     "text": [
      "[1, 2, 4, 1, 3, 4]\n",
      "[1, 1, 2, 3, 4, 4]\n"
     ]
    }
   ],
   "source": [
    "list1 = [1,2,4]\n",
    "list2 = [1,3,4]\n",
    "res = []\n",
    "print(list1+list2)\n",
    "\n",
    "for i in range(min(len(list1),len(list2))):\n",
    "    res.append(list1[i])\n",
    "    res.append(list2[i])\n",
    "print(res)"
   ]
  },
  {
   "cell_type": "code",
   "execution_count": 11,
   "id": "cdc43b43",
   "metadata": {},
   "outputs": [
    {
     "data": {
      "text/plain": [
       "(1, 2)"
      ]
     },
     "execution_count": 11,
     "metadata": {},
     "output_type": "execute_result"
    }
   ],
   "source": [
    "def fun(mat):\n",
    "    res = []\n",
    "    ones = 0\n",
    "    index = 0\n",
    "    for it, row in enumerate(mat):\n",
    "        c = row.count(1)\n",
    "        if ones<c:\n",
    "            ones = c\n",
    "            index = it\n",
    "    return (index,ones)\n",
    "        \n",
    "        \n",
    "\n",
    "mat = [[0,0],[1,1],[0,0]]\n",
    "fun(mat)"
   ]
  },
  {
   "cell_type": "code",
   "execution_count": 12,
   "id": "41740019",
   "metadata": {},
   "outputs": [
    {
     "data": {
      "text/plain": [
       "'leetcode'"
      ]
     },
     "execution_count": 12,
     "metadata": {},
     "output_type": "execute_result"
    }
   ],
   "source": [
    "def restoreString(s,indices):\n",
    "    res = [\"\"]*len(s)\n",
    "    for i in range(len(s)):\n",
    "        res[indices[i]] = s[i]\n",
    "    return \"\".join(res)\n",
    "\n",
    "s = \"codeleet\"\n",
    "indices = [4,5,6,7,0,2,1,3]\n",
    "restoreString(s, indices)"
   ]
  },
  {
   "cell_type": "code",
   "execution_count": 13,
   "id": "8453d9c3",
   "metadata": {},
   "outputs": [
    {
     "data": {
      "text/plain": [
       "[2, 4, 4, 4]"
      ]
     },
     "execution_count": 13,
     "metadata": {},
     "output_type": "execute_result"
    }
   ],
   "source": [
    "def fun(nums1):\n",
    "    res = []\n",
    "    for i in range(0,len(nums1),2):\n",
    "        freq = nums1[i]\n",
    "        val = nums1[i+1]\n",
    "        \n",
    "        x = [val]*freq\n",
    "        res.extend(x)\n",
    "    return res\n",
    "\n",
    "nums1 = [1, 2, 3, 4]\n",
    "fun(nums1)"
   ]
  },
  {
   "cell_type": "code",
   "execution_count": 14,
   "id": "2ba5ab1c",
   "metadata": {},
   "outputs": [
    {
     "name": "stdout",
     "output_type": "stream",
     "text": [
      "[4, 4, 3, 2, 1, 1]\n"
     ]
    }
   ],
   "source": [
    "l = [1, 2, 4, 1, 3, 4]\n",
    "l.sort(reverse = True)\n",
    "print(l)\n",
    "    "
   ]
  },
  {
   "cell_type": "code",
   "execution_count": 15,
   "id": "2cd7aaae",
   "metadata": {},
   "outputs": [
    {
     "name": "stdout",
     "output_type": "stream",
     "text": [
      "odd\n"
     ]
    }
   ],
   "source": [
    "l = 7\n",
    "x = 'even' if l%2==0 else 'odd'\n",
    "print(x)"
   ]
  },
  {
   "cell_type": "code",
   "execution_count": 16,
   "id": "67987243",
   "metadata": {},
   "outputs": [
    {
     "name": "stdout",
     "output_type": "stream",
     "text": [
      "1\n",
      "2\n",
      "3\n"
     ]
    }
   ],
   "source": [
    "def fun(*args):\n",
    "    for a in args:\n",
    "        print(a)\n",
    "fun(1,2,3)"
   ]
  },
  {
   "cell_type": "code",
   "execution_count": 17,
   "id": "c275b705",
   "metadata": {},
   "outputs": [
    {
     "name": "stdout",
     "output_type": "stream",
     "text": [
      "name abhi\n",
      "id 2\n",
      "year 2017\n"
     ]
    }
   ],
   "source": [
    "def fun(**kwargs):\n",
    "    for key, val in kwargs.items():\n",
    "        print(key,val)\n",
    "fun(name='abhi',id=2,year=2017)"
   ]
  },
  {
   "cell_type": "code",
   "execution_count": 18,
   "id": "8829957c",
   "metadata": {},
   "outputs": [
    {
     "name": "stdout",
     "output_type": "stream",
     "text": [
      "Checking number: 1\n",
      "End of loop iteration.\n",
      "Checking number: 3\n",
      "End of loop iteration.\n",
      "Checking number: 5\n",
      "End of loop iteration.\n",
      "Checking number: 7\n",
      "Found 7! Breaking the loop.\n"
     ]
    }
   ],
   "source": [
    "# Using break and continue together in a loop\n",
    "for i in range(1, 11):\n",
    "    if i % 2 == 0:\n",
    "        # Skip even numbers\n",
    "        continue\n",
    "\n",
    "    print(f\"Checking number: {i}\")\n",
    "\n",
    "    if i == 7:\n",
    "        # Break the loop when i is 7\n",
    "        print(\"Found 7! Breaking the loop.\")\n",
    "        break\n",
    "\n",
    "    print(\"End of loop iteration.\")\n"
   ]
  },
  {
   "cell_type": "code",
   "execution_count": 19,
   "id": "d55bd8ba",
   "metadata": {},
   "outputs": [
    {
     "name": "stdout",
     "output_type": "stream",
     "text": [
      "Abhi\n"
     ]
    }
   ],
   "source": [
    "s1 = \"abhi\"\n",
    "res = s1[0].upper() + s1[1:]\n",
    "print(res)\n"
   ]
  },
  {
   "cell_type": "code",
   "execution_count": 20,
   "id": "1119ebff",
   "metadata": {},
   "outputs": [
    {
     "name": "stdout",
     "output_type": "stream",
     "text": [
      "Abhi\n"
     ]
    }
   ],
   "source": [
    "s1 = 'abhi'\n",
    "res = s1.capitalize()\n",
    "print(res)"
   ]
  },
  {
   "cell_type": "code",
   "execution_count": 21,
   "id": "44474840",
   "metadata": {},
   "outputs": [
    {
     "name": "stdout",
     "output_type": "stream",
     "text": [
      "[17, 11, 15]\n"
     ]
    }
   ],
   "source": [
    "mat = [[2,8,7],[7,1,3],[1,9,5]]\n",
    "res = []\n",
    "\n",
    "for i in range(len(mat)):\n",
    "    sum1 = 0\n",
    "    for j in range(len(mat[0])):\n",
    "        sum1 = sum1 + mat[i][j]\n",
    "    res.append(sum1)\n",
    "print(res)"
   ]
  },
  {
   "cell_type": "code",
   "execution_count": 22,
   "id": "919467b3",
   "metadata": {},
   "outputs": [
    {
     "name": "stdout",
     "output_type": "stream",
     "text": [
      "17\n",
      "11\n",
      "15\n",
      "10\n",
      "18\n",
      "15\n"
     ]
    }
   ],
   "source": [
    "arr = [[2,8,7],[7,1,3],[1,9,5]]\n",
    "mat = []\n",
    "\n",
    "res = [[0,0,0],[0,0,0],[0,0,0]]\n",
    "row_sum = 0\n",
    "col_sum = 0\n",
    "\n",
    "for i in range(len(arr)):\n",
    "    for j in range(len(arr[0])):\n",
    "        row_sum = row_sum + arr[i][j]\n",
    "    print(row_sum)\n",
    "    row_sum = 0\n",
    "\n",
    "for j in range(len(arr)):\n",
    "    for i in range(len(arr[0])):\n",
    "        col_sum = col_sum + arr[i][j]\n",
    "    print(col_sum)\n",
    "    col_sum = 0\n",
    "\n",
    "        "
   ]
  },
  {
   "cell_type": "code",
   "execution_count": 23,
   "id": "ab82d214",
   "metadata": {},
   "outputs": [
    {
     "name": "stdout",
     "output_type": "stream",
     "text": [
      "[2, 1, 1]\n"
     ]
    },
    {
     "data": {
      "text/plain": [
       "0"
      ]
     },
     "execution_count": 23,
     "metadata": {},
     "output_type": "execute_result"
    }
   ],
   "source": [
    "def fun(num):\n",
    "    num.sort(reverse=True)\n",
    "    print(num)\n",
    "    \n",
    "    for i in range(len(num)-2):\n",
    "        a,b,c = num[i],num[i+1],num[i+2]\n",
    "        \n",
    "        if a<b+c:\n",
    "            return a+b+c\n",
    "    return 0\n",
    "    \n",
    "num = [1,2,1]\n",
    "fun(num)"
   ]
  },
  {
   "cell_type": "code",
   "execution_count": 24,
   "id": "3b89da71",
   "metadata": {},
   "outputs": [
    {
     "data": {
      "text/plain": [
       "[[1, 0, 0], [0, 1, 0], [1, 1, 1]]"
      ]
     },
     "execution_count": 24,
     "metadata": {},
     "output_type": "execute_result"
    }
   ],
   "source": [
    "def flipAndInvertImage(image):\n",
    "    for i in range(len(image)):\n",
    "        image[i] = image[i][::-1]\n",
    "        \n",
    "        for j in range(len(image[i])):\n",
    "            if image[i][j] == 0:\n",
    "                image[i][j] = 1\n",
    "            else:\n",
    "                image[i][j] = 0        \n",
    "    return image\n",
    "\n",
    "image = [[1,1,0],[1,0,1],[0,0,0]]\n",
    "flipAndInvertImage(image)"
   ]
  },
  {
   "cell_type": "code",
   "execution_count": 25,
   "id": "e052f2ee",
   "metadata": {},
   "outputs": [
    {
     "name": "stdout",
     "output_type": "stream",
     "text": [
      "[[ 3  7  8]\n",
      " [ 9 11 13]\n",
      " [15 16 17]]\n",
      "[15]\n"
     ]
    }
   ],
   "source": [
    "import numpy as np\n",
    "matrix = np.array([[3,7,8],[9,11,13],[15,16,17]])\n",
    "print(matrix)\n",
    "\n",
    "res = []\n",
    "\n",
    "m = len(matrix)\n",
    "n = len(matrix[0])\n",
    "\n",
    "row_min = [min(row) for row in matrix]\n",
    "\n",
    "col_max = []\n",
    "for j in range(n):\n",
    "    max_val = float('-inf')\n",
    "    for i in range(m):\n",
    "        max_val = max(max_val,matrix[i][j])\n",
    "    col_max.append(max_val)\n",
    "for i in range(m):\n",
    "    for j in range(n):\n",
    "        if matrix[i][j] == row_min[i] == col_max[j]:\n",
    "            res.append(matrix[i][j])\n",
    "print(res)\n",
    "            "
   ]
  },
  {
   "cell_type": "code",
   "execution_count": 26,
   "id": "5ed987d5",
   "metadata": {},
   "outputs": [
    {
     "name": "stdout",
     "output_type": "stream",
     "text": [
      "i is True\n"
     ]
    }
   ],
   "source": [
    "i = 'a'\n",
    "\n",
    "if i:\n",
    "    print(\"i is True\")\n",
    "else:\n",
    "    print(\"i is False\")\n"
   ]
  },
  {
   "cell_type": "code",
   "execution_count": 27,
   "id": "1958e2aa",
   "metadata": {},
   "outputs": [
    {
     "data": {
      "text/plain": [
       "'uavaw'"
      ]
     },
     "execution_count": 27,
     "metadata": {},
     "output_type": "execute_result"
    }
   ],
   "source": [
    "def fun(s):\n",
    "    s = list(s)\n",
    "    n = len(s)\n",
    "    \n",
    "    for i in range(n):\n",
    "        if s[i] == '?':\n",
    "            for c in \"abcefghijklmnopqrstuvwxyz\":\n",
    "                if (i==0 or s[i-1]!=c) and (i==n-1 or s[i+1]!=c):\n",
    "                    s[i] = c\n",
    "                    break\n",
    "    return \"\".join(s)\n",
    "\n",
    "\n",
    "s = \"u?v?w\"\n",
    "fun(s)"
   ]
  },
  {
   "cell_type": "code",
   "execution_count": 28,
   "id": "2585fe74",
   "metadata": {},
   "outputs": [
    {
     "name": "stdout",
     "output_type": "stream",
     "text": [
      "Capitalize The Title\n"
     ]
    }
   ],
   "source": [
    "title = \"capiTalIze tHe titLe\"\n",
    "words = title.split()\n",
    "res = []\n",
    "for w in words:\n",
    "    res.append(w.capitalize())\n",
    "print(\" \".join(res))"
   ]
  },
  {
   "cell_type": "code",
   "execution_count": 29,
   "id": "7584b2e2",
   "metadata": {},
   "outputs": [
    {
     "data": {
      "text/plain": [
       "True"
      ]
     },
     "execution_count": 29,
     "metadata": {},
     "output_type": "execute_result"
    }
   ],
   "source": [
    "def fun(s):\n",
    "    res = \"\"\n",
    "    for char in s:\n",
    "        if char.isalpha():\n",
    "            res = res + char.lower()\n",
    "    return res == res[::-1]\n",
    "    \n",
    "    \n",
    "s = \"A man, a plan, a canal: Panama\"\n",
    "fun(s)"
   ]
  },
  {
   "cell_type": "code",
   "execution_count": 30,
   "id": "088e3087",
   "metadata": {},
   "outputs": [
    {
     "data": {
      "text/plain": [
       "'s'"
      ]
     },
     "execution_count": 30,
     "metadata": {},
     "output_type": "execute_result"
    }
   ],
   "source": [
    "def findTheDifference(s,t):\n",
    "    dict1 = {}\n",
    "    for char in s:\n",
    "        if char not in dict1:\n",
    "            dict1[char] = 1\n",
    "        else:\n",
    "            dict1[char] += 1\n",
    "    \n",
    "    for char in t:\n",
    "        if char in dict1 and dict1[char]>0:\n",
    "            dict1[char] -= 1\n",
    "        else:\n",
    "            return char\n",
    "\n",
    "s = \"abhi\"\n",
    "t = \"ishu\"\n",
    "findTheDifference(s,t)"
   ]
  },
  {
   "cell_type": "code",
   "execution_count": 31,
   "id": "0e348689",
   "metadata": {},
   "outputs": [
    {
     "name": "stdout",
     "output_type": "stream",
     "text": [
      "2019 1 9\n",
      "9\n"
     ]
    }
   ],
   "source": [
    "def dayOfYear(date1):\n",
    "    year, month, date = map(int, date1.split('-'))\n",
    "    print(year, month, date)\n",
    "    \n",
    "    no_days = [0,31,28,31,30,31,30,31,31,30,31,30,31]\n",
    "    \n",
    "    if year%4 == 0 and  (year%100!=0 or year%400==0):\n",
    "        no_days[2] = 29\n",
    "    \n",
    "    res = sum(no_days[:month])+date\n",
    "    return res\n",
    "\n",
    "date1 = \"2019-01-09\"\n",
    "print(dayOfYear(date1))  # Output: 9"
   ]
  },
  {
   "cell_type": "code",
   "execution_count": 32,
   "id": "f4a759b1",
   "metadata": {},
   "outputs": [
    {
     "name": "stdout",
     "output_type": "stream",
     "text": [
      "204\n"
     ]
    }
   ],
   "source": [
    "from datetime import date\n",
    "date1 = date(2023,5,10)\n",
    "date2 = date(2023,11,30)\n",
    "\n",
    "delta = date2-date1\n",
    "print(delta.days)"
   ]
  },
  {
   "cell_type": "code",
   "execution_count": 33,
   "id": "ff823593",
   "metadata": {},
   "outputs": [
    {
     "data": {
      "text/plain": [
       "False"
      ]
     },
     "execution_count": 33,
     "metadata": {},
     "output_type": "execute_result"
    }
   ],
   "source": [
    "def fun(x):\n",
    "    if ord(x[0])%2==0 and int(x[1])%2==0:\n",
    "        return True\n",
    "    else:\n",
    "        return False\n",
    "\n",
    "x = 'c4'\n",
    "fun(x)"
   ]
  },
  {
   "cell_type": "code",
   "execution_count": 34,
   "id": "2e7902de",
   "metadata": {},
   "outputs": [
    {
     "data": {
      "text/plain": [
       "True"
      ]
     },
     "execution_count": 34,
     "metadata": {},
     "output_type": "execute_result"
    }
   ],
   "source": [
    "def fun(x):\n",
    "    col, row = x[0], int(x[1])\n",
    "    \n",
    "    col_ind = ord(col)-ord('a')\n",
    "    \n",
    "    if (row+col_ind)%2==0:\n",
    "        return True\n",
    "    else:\n",
    "        return False\n",
    "\n",
    "x = 'c4'\n",
    "fun(x)"
   ]
  },
  {
   "cell_type": "code",
   "execution_count": 35,
   "id": "f190e671",
   "metadata": {},
   "outputs": [],
   "source": [
    "all_coordinates = []\n",
    "for i in range(8):\n",
    "    for j in range(1,9):\n",
    "        all_coordinates.append(chr(ord('a')+i)+str(j))\n"
   ]
  },
  {
   "cell_type": "code",
   "execution_count": 36,
   "id": "b505ba65",
   "metadata": {},
   "outputs": [
    {
     "name": "stdout",
     "output_type": "stream",
     "text": [
      "7\n"
     ]
    }
   ],
   "source": [
    "num = 43\n",
    "while num >= 10:\n",
    "    sum1 = 0\n",
    "    while num>0:\n",
    "        sum1 = sum1 + num%10\n",
    "        num = num //10\n",
    "    num = sum1\n",
    "print(sum1)"
   ]
  },
  {
   "cell_type": "code",
   "execution_count": 37,
   "id": "4a2d9f84",
   "metadata": {},
   "outputs": [
    {
     "name": "stdout",
     "output_type": "stream",
     "text": [
      "6\n"
     ]
    }
   ],
   "source": [
    "x = [2,2,3,2,4,5,6,5,6,4]\n",
    "candidate = None\n",
    "count = 0\n",
    "\n",
    "for num in x:\n",
    "    if count == 0:\n",
    "        candidate = num\n",
    "    if num == candidate:\n",
    "        count = count+1\n",
    "    else:\n",
    "        count -= 1\n",
    "print(candidate)\n",
    "\n"
   ]
  },
  {
   "cell_type": "code",
   "execution_count": 38,
   "id": "dbfe1545",
   "metadata": {},
   "outputs": [
    {
     "name": "stdout",
     "output_type": "stream",
     "text": [
      "{4: 4, 2: 1}\n"
     ]
    },
    {
     "data": {
      "text/plain": [
       "4"
      ]
     },
     "execution_count": 38,
     "metadata": {},
     "output_type": "execute_result"
    }
   ],
   "source": [
    "def fun(nums):\n",
    "    dict1 = {}\n",
    "    \n",
    "    for n in nums:\n",
    "        if n%2 == 0:\n",
    "            if n in dict1:\n",
    "                dict1[n] += 1\n",
    "            else:\n",
    "                dict1[n] = 1\n",
    "    print(dict1)\n",
    "    \n",
    "    max_freq = 0\n",
    "    max_freq_ele = -1\n",
    "    \n",
    "    for key, val in dict1.items():\n",
    "        if val> max_freq:\n",
    "            max_freq = val\n",
    "            max_freq_ele = key\n",
    "        elif val == max_freq and key<max_freq_ele:\n",
    "            max_freq_ele = key\n",
    "    return max_freq_ele\n",
    "\n",
    "\n",
    "nums = [4,4,4,9,2,4]\n",
    "fun(nums)"
   ]
  },
  {
   "cell_type": "code",
   "execution_count": 39,
   "id": "9733f6f6",
   "metadata": {},
   "outputs": [
    {
     "name": "stdout",
     "output_type": "stream",
     "text": [
      "a\n",
      "ab\n",
      "abc\n"
     ]
    },
    {
     "data": {
      "text/plain": [
       "3"
      ]
     },
     "execution_count": 39,
     "metadata": {},
     "output_type": "execute_result"
    }
   ],
   "source": [
    "def countPrefixes(words,s):\n",
    "    count = 0\n",
    "    for w in words:\n",
    "        if w == s[:len(w)]:\n",
    "            count += 1\n",
    "            print(w)\n",
    "    return count\n",
    "\n",
    "words = [\"a\",\"b\",\"c\",\"ab\",\"bc\",\"abc\"]\n",
    "s = \"abc\"\n",
    "countPrefixes(words,s)"
   ]
  },
  {
   "cell_type": "code",
   "execution_count": 40,
   "id": "96ddc561",
   "metadata": {},
   "outputs": [
    {
     "ename": "SyntaxError",
     "evalue": "unmatched ')' (1096970136.py, line 1)",
     "output_type": "error",
     "traceback": [
      "\u001b[1;36m  Cell \u001b[1;32mIn[40], line 1\u001b[1;36m\u001b[0m\n\u001b[1;33m    1) sorting methods of an array,\u001b[0m\n\u001b[1;37m     ^\u001b[0m\n\u001b[1;31mSyntaxError\u001b[0m\u001b[1;31m:\u001b[0m unmatched ')'\n"
     ]
    }
   ],
   "source": [
    "1) sorting methods of an array,\n",
    "2) finding frequency of an element\n",
    "2) few questions on probability\n",
    "3) some questions on mathematics exact ga gurthu ledra\n",
    "4) different methods of finding frequency of an element\n",
    "Inka konnevo adigaru gurthuledra avi"
   ]
  },
  {
   "cell_type": "code",
   "execution_count": null,
   "id": "c18b4d2f",
   "metadata": {},
   "outputs": [],
   "source": [
    "def bubble_sort(arr):\n",
    "    n = len(arr)\n",
    "    for i in range(n):\n",
    "        for j in range(n-i-1):\n",
    "            if arr[j] > arr[j+1]:\n",
    "                arr[j], arr[j+1] = arr[j+1], arr[j]\n",
    "    return arr\n",
    "my_list = [64, 34, 25, 12, 22, 11, 90]\n",
    "bubble_sort(my_list)\n",
    "print(\"Sorted array is:\", my_list)"
   ]
  },
  {
   "cell_type": "code",
   "execution_count": null,
   "id": "f7b546c2",
   "metadata": {},
   "outputs": [],
   "source": [
    "def select_sort(arr):\n",
    "    n = len(arr)\n",
    "    for i in range(n-1):\n",
    "        min_ind = i\n",
    "        for j in range(i+1,n):\n",
    "            if arr[j]<arr[min_ind]:\n",
    "                min_ind = j\n",
    "                \n",
    "        arr[i],arr[min_ind] = arr[min_ind],arr[i]\n",
    "    return arr\n",
    "    \n",
    "\n",
    "my_list = [64, 34, 25, 12, 22, 11, 90]\n",
    "print(my_list)\n",
    "select_sort(my_list)\n",
    "print(\"Sorted array is:\", my_list)"
   ]
  },
  {
   "cell_type": "code",
   "execution_count": null,
   "id": "c7b1a4b2",
   "metadata": {},
   "outputs": [],
   "source": [
    "def fun(n):\n",
    "    multiple = max(n,2)\n",
    "    \n",
    "    while True:\n",
    "        if multiple%n == 0 and multiple%2 == 0:\n",
    "            return multiple\n",
    "        multiple += 1\n",
    "    \n",
    "n = 9\n",
    "res = fun(n)\n",
    "print(res)"
   ]
  },
  {
   "cell_type": "code",
   "execution_count": null,
   "id": "74b14bf7",
   "metadata": {},
   "outputs": [],
   "source": [
    "def gcdOfStrings(str1, str2):\n",
    "    def gcd(a,b):\n",
    "        while b:\n",
    "            a, b = b, a%b\n",
    "        return a\n",
    "    common_length = gcd(len(str1),len(str2))\n",
    "    return str1[:common_length]\n",
    "\n",
    "\n",
    "\n",
    "str1 = \"ABCABC\"\n",
    "str2 = \"ABC\"\n",
    "result = gcdOfStrings(str1, str2)\n",
    "print(f\"The largest string that divides both '{str1}' and '{str2}' is '{result}'.\")"
   ]
  },
  {
   "cell_type": "code",
   "execution_count": null,
   "id": "dc391fa8",
   "metadata": {},
   "outputs": [],
   "source": [
    "def fun(n):\n",
    "    matches = 0\n",
    "    while n>1:\n",
    "        matches = matches + n//2\n",
    "        \n",
    "        if n%2 == 0:\n",
    "            n = n//2\n",
    "        else:\n",
    "            n = (n-1)//2 + 1\n",
    "    return matches\n",
    "    \n",
    "n = 7\n",
    "fun(n)"
   ]
  },
  {
   "cell_type": "code",
   "execution_count": null,
   "id": "70868fc2",
   "metadata": {},
   "outputs": [],
   "source": [
    "def fun(n):\n",
    "    nums = [n]\n",
    "    for x in nums:\n",
    "        for i in range(1,x):\n",
    "            if x%i == 1 and i not in nums:\n",
    "                nums.append(i)\n",
    "    return nums\n",
    "    \n",
    "n = 5\n",
    "fun(n)"
   ]
  },
  {
   "cell_type": "code",
   "execution_count": null,
   "id": "6b62f62d",
   "metadata": {},
   "outputs": [],
   "source": [
    "s1 = 1\n",
    "s2 = 10\n",
    "for i in range(s1,s2):\n",
    "    if i > 1:\n",
    "        isprime = 1\n",
    "        for j in range(2,i):\n",
    "            if i%j == 0:\n",
    "                isprime = 0\n",
    "                break\n",
    "        if isprime==1:\n",
    "            print(i,'is a prime factors')"
   ]
  },
  {
   "cell_type": "code",
   "execution_count": null,
   "id": "63fde551",
   "metadata": {},
   "outputs": [],
   "source": [
    "def fun(nums1):\n",
    "    for i in range(len(nums1)-1):\n",
    "        if nums1[i] > nums1[i+1]:\n",
    "            rotated = nums1[i+1:] + nums1[:i+1]\n",
    "    return rotated == sorted(rotated)\n",
    "nums1 = [3, 4, 5, 1, 2]\n",
    "fun(nums1)"
   ]
  },
  {
   "cell_type": "code",
   "execution_count": null,
   "id": "33723099",
   "metadata": {},
   "outputs": [],
   "source": [
    "nums = [2,7,11,15,1]\n",
    "target = 16\n",
    "\n",
    "if len(nums)<0:\n",
    "    print(False)\n",
    "dict1 = {}\n",
    "for i in range(len(nums)):\n",
    "    if nums[i] in dict1:\n",
    "        print(dict1[nums[i]],i)\n",
    "    else:\n",
    "        dict1[target-nums[i]] = i"
   ]
  },
  {
   "cell_type": "code",
   "execution_count": null,
   "id": "c77c5b34",
   "metadata": {},
   "outputs": [],
   "source": [
    "def max_subarray(nums):\n",
    "    curr_sum = nums[0]\n",
    "    max_sum = nums[0]\n",
    "    \n",
    "    for i in range(1, len(nums)):\n",
    "        curr_sum = max(nums[i], curr_sum+nums[i])\n",
    "        max_sum = max(max_sum,curr_sum)\n",
    "    return max_sum\n",
    "\n",
    "nums = [-2,1,-3,4,-1,2,1,-5,4]\n",
    "res = max_subarray(nums)\n",
    "print(res)"
   ]
  },
  {
   "cell_type": "code",
   "execution_count": null,
   "id": "753012b1",
   "metadata": {},
   "outputs": [],
   "source": [
    "def fun(col_num):\n",
    "    col_name = \"\"\n",
    "    while col_num > 0:\n",
    "        rem = (col_num-1)%26\n",
    "        col_name = chr(ord('A')+rem) + col_name\n",
    "        col_num = (col_num-1)//26\n",
    "    return col_name\n",
    "    \n",
    "    \n",
    "col_num = 28\n",
    "fun(col_num)"
   ]
  },
  {
   "cell_type": "code",
   "execution_count": null,
   "id": "fb6fa5d2",
   "metadata": {},
   "outputs": [],
   "source": [
    "def fun(col_name):\n",
    "    col_num = 0\n",
    "    \n",
    "    for char in col_name:\n",
    "        val = ord(char) - ord('A') + 1\n",
    "        col_num = col_num*26 + val\n",
    "    return col_num\n",
    "    \n",
    "col_name = 'AI'\n",
    "fun(col_name)"
   ]
  },
  {
   "cell_type": "code",
   "execution_count": null,
   "id": "e3c55dbc",
   "metadata": {},
   "outputs": [],
   "source": [
    "def fun(nums):\n",
    "    out = 0\n",
    "    for i in nums:\n",
    "        out = out*10 + i\n",
    "    out += 1\n",
    "    res = []\n",
    "    while out>0:\n",
    "        \n",
    "        res.insert(0,out%10)\n",
    "        out = out//10\n",
    "    return res\n",
    "    \n",
    "nums = [1,2,4]\n",
    "fun(nums)"
   ]
  },
  {
   "cell_type": "code",
   "execution_count": null,
   "id": "0a0feb9e",
   "metadata": {},
   "outputs": [],
   "source": [
    "def fun(nums):\n",
    "    non_zero_index = 0\n",
    "    for i in range(len(nums)):\n",
    "        if nums[i] != 0:\n",
    "            nums[non_zero_index] = nums[i]\n",
    "            non_zero_index+=1\n",
    "    for i in range(non_zero_index,len(nums)):\n",
    "        nums[i] = 0\n",
    "    return nums\n",
    "    \n",
    "    \n",
    "nums = [0,2,3,0]\n",
    "fun(nums)\n"
   ]
  },
  {
   "cell_type": "code",
   "execution_count": null,
   "id": "f428dd13",
   "metadata": {},
   "outputs": [],
   "source": [
    "def fun(nums,val):\n",
    "\n",
    "    while val in nums:\n",
    "        nums.remove(val)\n",
    "    return len(nums), nums\n",
    "    \n",
    "nums = [0,1,2,2,3,0,4,2]\n",
    "val  = 2\n",
    "fun(nums,val)"
   ]
  },
  {
   "cell_type": "code",
   "execution_count": null,
   "id": "6f566abf",
   "metadata": {},
   "outputs": [],
   "source": [
    "def fun(nums):\n",
    "    dup_index = 1\n",
    "    \n",
    "    for i in range(1,len(nums)):\n",
    "        if nums[i] != nums[i-1]:\n",
    "            nums[dup_index] = nums[i]\n",
    "            dup_index += 1\n",
    "    return dup_index\n",
    "        \n",
    "\n",
    "nums = [1,1,2]\n",
    "length= fun(nums)\n",
    "print(lenght, nums[:length])"
   ]
  },
  {
   "cell_type": "code",
   "execution_count": null,
   "id": "fece832b",
   "metadata": {},
   "outputs": [],
   "source": [
    "def group_anagrams(str1):\n",
    "    dict1 = {}\n",
    "    for word in str1:\n",
    "        sorted_word = \"\".join(sorted(word))\n",
    "        \n",
    "        if sorted_word not in dict1:\n",
    "            dict1[sorted_word] = [word]\n",
    "        else:\n",
    "            dict1[sorted_word].append(word)\n",
    "    output = []\n",
    "    for item in dict1.values():\n",
    "        output.append(item)\n",
    "    return dict1\n",
    "\n",
    "\n",
    "str1 = [\"eat\",\"tea\",\"tan\",\"ate\",\"nat\",\"bat\"]\n",
    "res = group_anagrams(str1)\n",
    "print(res)"
   ]
  },
  {
   "cell_type": "code",
   "execution_count": null,
   "id": "15710efe",
   "metadata": {},
   "outputs": [],
   "source": [
    "t1 = \"abcde\"\n",
    "t2 = \"acde\"\n",
    "m = len(t1)\n",
    "n = len(t2)\n",
    "\n",
    "mat = [[0]*(n+1) for _ in range(m+1)]\n",
    "for i in range(m):\n",
    "    for j in range(n):\n",
    "        if t1[i] == t2[j]:\n",
    "            mat[i+1][j+1] = mat[i][j] +1\n",
    "        else:\n",
    "            mat[i+1][j+1] = max(mat[i+1][j], mat[i][j+1])\n",
    "print(mat[-1][-1])"
   ]
  },
  {
   "cell_type": "code",
   "execution_count": null,
   "id": "1378f973",
   "metadata": {},
   "outputs": [],
   "source": [
    "s = 'babad'\n",
    "rev = s[::-1]\n",
    "res = ''\n",
    "for i in range(len(s)):\n",
    "    if s[i] == rev[i]:\n",
    "        res = res + s[i]\n",
    "print(res)"
   ]
  },
  {
   "cell_type": "code",
   "execution_count": null,
   "id": "4dcc9843",
   "metadata": {},
   "outputs": [],
   "source": [
    "def longestCommonPrefix(strs):\n",
    "    lcp =\"\"\n",
    "    \n",
    "    min_length = len(strs[0])\n",
    "    for i in range(1,len(strs)):\n",
    "        min_length = min(min_length,len(strs[i]))\n",
    "    \n",
    "    for i in range(0,min_length):\n",
    "        current = strs[0][i]\n",
    "        for j in range(0,len(strs)):\n",
    "            if strs[j][i] != current:\n",
    "                return lcp\n",
    "        lcp+=current\n",
    "    return lcp\n",
    "\n",
    "strs =  [\"flower\",\"flow\",\"flight\"]\n",
    "longestCommonPrefix(strs)"
   ]
  },
  {
   "cell_type": "code",
   "execution_count": null,
   "id": "16aff4bd",
   "metadata": {},
   "outputs": [],
   "source": [
    "nums = [2,7,11,15]\n",
    "target = 18\n",
    "count = {}\n",
    "\n",
    "for i in range(len(nums)):\n",
    "    if nums[i] in count:\n",
    "        print(count[nums[i]],i)\n",
    "        \n",
    "    else:\n",
    "        count[target-nums[i]] = i\n",
    "        print(count)\n"
   ]
  },
  {
   "cell_type": "code",
   "execution_count": null,
   "id": "4933598a",
   "metadata": {},
   "outputs": [],
   "source": [
    "nums = [1,4,20,3,10,5]\n",
    "target = 23\n",
    "\n",
    "for i in range(len(nums)):\n",
    "    current_sum = nums[i]\n",
    "    if current_sum == target:\n",
    "        print('target found at index',i)\n",
    "    else:\n",
    "        for j in range(i+1, len(nums)):\n",
    "            current_sum = current_sum + nums[j]\n",
    "            if current_sum == target:\n",
    "                print('target foung at index',i,'and',j)"
   ]
  },
  {
   "cell_type": "code",
   "execution_count": null,
   "id": "1299380b",
   "metadata": {},
   "outputs": [],
   "source": [
    "s1 = \"length of the longest substring without repeating character\"\n",
    "s = 'papavvn'\n",
    "max_length = 0\n",
    "start = 0\n",
    "visited = dict()\n",
    "\n",
    "for i in range(len(s)):\n",
    "    if s[i] in visited and start <= visited[s[i]]:\n",
    "        start = visited[s[i]] + 1\n",
    "    else:\n",
    "        max_length = max(max_length, i-start+1)\n",
    "    visited[s[i]] = i\n",
    "print(max_length)\n",
    "print(visited)"
   ]
  },
  {
   "cell_type": "code",
   "execution_count": null,
   "id": "892e4b08",
   "metadata": {},
   "outputs": [],
   "source": [
    "s = 'papavvn'\n",
    "max_length = 0\n",
    "start = 0\n",
    "visited = dict()\n",
    "longest_str = \"\"\n",
    "\n",
    "for i in range(len(s)):\n",
    "    if s[i] in visited and start <= visited[s[i]]:\n",
    "        start = visited[s[i]] + 1\n",
    "    else:\n",
    "        current_length = i-start+1\n",
    "        if current_length > max_length:\n",
    "            max_length = current_length\n",
    "            longest_str = s[start:i+1]\n",
    "    visited[s[i]] = i\n",
    "print(longest_str)\n",
    "        "
   ]
  },
  {
   "cell_type": "code",
   "execution_count": null,
   "id": "003a37cd",
   "metadata": {},
   "outputs": [],
   "source": [
    "def subarray(nums, k):\n",
    "    count = 0\n",
    "    pre_sum = 0\n",
    "    sum_count = {0: 1}\n",
    "    \n",
    "    for num in nums:\n",
    "        pre_sum = pre_sum + num\n",
    "        \n",
    "        if pre_sum - k in sum_count:\n",
    "            count = count + sum_count[pre_sum - k]\n",
    "            print(count)\n",
    "            \n",
    "        if pre_sum in sum_count:\n",
    "            sum_count[pre_sum] += 1\n",
    "            print(sum_count)\n",
    "        \n",
    "        else:\n",
    "            sum_count[pre_sum] = 1\n",
    "            print(sum_count)\n",
    "    return count\n",
    "\n",
    "nums = [1, 1, 1, 1, 2]\n",
    "k = 3\n",
    "res = subarray(nums, k)\n",
    "print(res)\n"
   ]
  },
  {
   "cell_type": "code",
   "execution_count": null,
   "id": "b100ce80",
   "metadata": {},
   "outputs": [],
   "source": [
    "nums = [1,1,1,1,2]\n",
    "k = 3\n",
    "\n",
    "count = 0\n",
    "pre_sum = 0\n",
    "dict1 = {0:1}\n",
    "\n",
    "for num in nums:\n",
    "    pre_sum = pre_sum + num\n",
    "    \n",
    "    if pre_sum - k in dict1:\n",
    "        count = count + dict1[pre_sum-k]\n",
    "    if pre_sum in dict1:\n",
    "        dict1[pre_sum] += 1\n",
    "    else:\n",
    "        dict1[pre_sum] = 1\n",
    "        \n",
    "print(count)        "
   ]
  },
  {
   "cell_type": "code",
   "execution_count": null,
   "id": "c47d08fb",
   "metadata": {},
   "outputs": [],
   "source": [
    "s = {1,3,5,7,6}\n",
    "s.discard(4)\n",
    "print(s)"
   ]
  },
  {
   "cell_type": "code",
   "execution_count": null,
   "id": "f16aa843",
   "metadata": {},
   "outputs": [],
   "source": [
    "s = { }\n",
    "t = {1,2,3,4,5}\n",
    "print(type(s))"
   ]
  },
  {
   "cell_type": "code",
   "execution_count": null,
   "id": "060fae9b",
   "metadata": {},
   "outputs": [],
   "source": [
    "s = \"ishu\"\n",
    "print(s[-0])"
   ]
  },
  {
   "cell_type": "code",
   "execution_count": null,
   "id": "c62f90e3",
   "metadata": {},
   "outputs": [],
   "source": [
    "3%-2"
   ]
  },
  {
   "cell_type": "code",
   "execution_count": null,
   "id": "ebb9af57",
   "metadata": {},
   "outputs": [],
   "source": [
    "print(round(1/3,2))"
   ]
  },
  {
   "cell_type": "code",
   "execution_count": null,
   "id": "0cc8595f",
   "metadata": {},
   "outputs": [],
   "source": [
    "l = [[1,2],[3,4]]\n",
    "res = [p+q for p]"
   ]
  },
  {
   "cell_type": "code",
   "execution_count": null,
   "id": "2cd9339d",
   "metadata": {},
   "outputs": [],
   "source": [
    "s = \"XIXD\"\n",
    "\n",
    "dict1 = {'I':1,'V':5,'X':10,'L':50,'C':100,'D':500,'M':1000}\n",
    "pre = 0\n",
    "curr = 0\n",
    "total = 0\n",
    "\n",
    "for i in range(len(s)):\n",
    "    curr = dict1[s[i]]\n",
    "    if curr > pre:\n",
    "        total = total + curr - 2*pre\n",
    "    else:\n",
    "        total = total + curr\n",
    "    curr = pre\n",
    "print(total)"
   ]
  },
  {
   "cell_type": "code",
   "execution_count": null,
   "id": "e4521533",
   "metadata": {},
   "outputs": [],
   "source": [
    "def max_subarray(nums):\n",
    "    curr_sum = nums[0]\n",
    "    max_sum = nums[0]\n",
    "    \n",
    "    for i in range(len(nums)):\n",
    "        curr_sum = max(nums[i], nums[i]+curr_sum)\n",
    "        max_sum = max(curr_sum, max_sum)\n",
    "    return max_sum\n",
    "\n",
    "nums = [-2,1,-3,4,-1,2,1,-5,4]\n",
    "res = max_subarray(nums)\n",
    "print(res)"
   ]
  },
  {
   "cell_type": "code",
   "execution_count": null,
   "id": "16418b6c",
   "metadata": {},
   "outputs": [],
   "source": [
    "s =  [\"flower\",\"flow\",\"flight\"]\n",
    "min_len = len(s[0])\n",
    "for i in range(len(s)):\n",
    "    min_len = min(min_len, len(s[i]))\n",
    "print(min_len)"
   ]
  },
  {
   "cell_type": "code",
   "execution_count": null,
   "id": "b9ca35a6",
   "metadata": {},
   "outputs": [],
   "source": [
    "def longestCommonPrefix(s):\n",
    "    lcp = \"\"\n",
    "    \n",
    "    min_len = len(s[0])\n",
    "    for i in range(len(s)):\n",
    "        min_len = min(min_len, len(s[i]))\n",
    "        \n",
    "    for i in range(0, min_len):\n",
    "        current = s[0][i]\n",
    "        \n",
    "        for j in range(0,len(s)):\n",
    "            if s[j][i] != current:\n",
    "                return lcp\n",
    "        lcp += current\n",
    "    return lcp\n",
    "\n",
    "s =  [\"flower\",\"flow\",\"floight\"]\n",
    "longestCommonPrefix(s)"
   ]
  },
  {
   "cell_type": "code",
   "execution_count": null,
   "id": "ea07b7bc",
   "metadata": {},
   "outputs": [],
   "source": [
    "def _3sum(num):\n",
    "    n = len(num)\n",
    "    triplets = []\n",
    "    \n",
    "    num.sort()\n",
    "    \n",
    "    for i in range(n-2):\n",
    "        if i>0 and num[i]==num[i-1]:\n",
    "            continue\n",
    "            \n",
    "        left = i+1\n",
    "        right = n-1\n",
    "        \n",
    "        while left<right:\n",
    "            total = num[i] + num[right] + num[left]\n",
    "            \n",
    "            if total<0:\n",
    "                left = left+1\n",
    "            elif total >0:\n",
    "                right = right -1\n",
    "            else:\n",
    "                triplets.append([num[i],num[left],num[right]])\n",
    "                \n",
    "                while left<right and num[left] == num[left+1]:\n",
    "                    left = left+1\n",
    "                while left<right and num[right] == num[right-1]:\n",
    "                    right = right-1\n",
    "                \n",
    "                left += 1\n",
    "                right -+ 1\n",
    "    return triplets\n",
    "                \n",
    "                \n",
    "\n",
    "num = [-1, 0, 1, 2, -1, -4]\n",
    "result = _3sum(num)\n",
    "print(result)"
   ]
  },
  {
   "cell_type": "code",
   "execution_count": null,
   "id": "5e6b2d3d",
   "metadata": {},
   "outputs": [],
   "source": [
    "\"\"\"input= 'babad'\n",
    "output = \"bab\" or \"aba\" \"\"\"\n",
    "\n",
    "s = \"babad\"\n",
    "rev_s = s[::-1]\n",
    "res = \"\"\n",
    "\n",
    "for i in range(len(s)):\n",
    "    if s[i] == rev_s[i]:\n",
    "        res = res + s[i]\n",
    "print(res)"
   ]
  },
  {
   "cell_type": "code",
   "execution_count": null,
   "id": "2ec06dc6",
   "metadata": {},
   "outputs": [],
   "source": [
    "t1 = \"abcde\"\n",
    "t2 = \"ace\"\n",
    "import numpy as np\n",
    "m = len(t1)\n",
    "n = len(t2)\n",
    "\n",
    "mat = [[0]*(n+1) for _ in range(m+1)]\n",
    "\n",
    "for i in range(m):\n",
    "    for j in range(n):\n",
    "        if t1[i] == t2[j]:\n",
    "            mat[i+1][j+1] = mat[i][j]+1\n",
    "            print(np.array(mat))\n",
    "        else:\n",
    "            mat[i+1][j+1] = max(mat[i][j+1], mat[i+1][j])\n",
    "            print(np.array(mat))\n",
    "print(mat[-1][-1])"
   ]
  },
  {
   "cell_type": "code",
   "execution_count": null,
   "id": "9f41c939",
   "metadata": {},
   "outputs": [],
   "source": [
    "def group_anagrams(str1):\n",
    "    dict1 = {}\n",
    "    \n",
    "    for word in str1:\n",
    "        sorted_word = \"\".join(sorted(word))\n",
    "        \n",
    "        if sorted_word not in dict1:\n",
    "            dict1[sorted_word] = [word]\n",
    "        else:\n",
    "            dict1[sorted_word].append(word)\n",
    "    \n",
    "    return dict1\n",
    "    \n",
    "str1 = [\"eat\",\"tea\",\"tan\",\"ate\",\"nat\",\"bat\"]\n",
    "res = group_anagrams(str1)\n",
    "print(res)"
   ]
  },
  {
   "cell_type": "code",
   "execution_count": null,
   "id": "f747c02c",
   "metadata": {},
   "outputs": [],
   "source": [
    "def valid(s,t):\n",
    "    if len(s) == len(t):\n",
    "        sorted_s = sorted(s)\n",
    "        sorted_t = sorted(t)\n",
    "        \n",
    "        if sorted_s == sorted_t:\n",
    "            print('s and t are valid')\n",
    "        else:\n",
    "            print('s abd t are not valid')\n",
    "s = \"anagram\"\n",
    "t = \"nagaram\"\n",
    "valid(s,t)"
   ]
  },
  {
   "cell_type": "code",
   "execution_count": null,
   "id": "32d1d9f5",
   "metadata": {},
   "outputs": [],
   "source": [
    "nums = [0,0,1,1,1,2,2,3,3,4]\n",
    "res = []\n",
    "\n",
    "for num in nums:\n",
    "    if num not in res:\n",
    "        res.append(num)\n",
    "print(res)"
   ]
  },
  {
   "cell_type": "code",
   "execution_count": null,
   "id": "cbb77d84",
   "metadata": {},
   "outputs": [],
   "source": [
    "def remove(nums,val):\n",
    "    for num in nums:\n",
    "        if num == val:\n",
    "            nums.remove(num)\n",
    "    return len(nums), nums\n",
    "\n",
    "nums = [3,2,2,3]\n",
    "val = 3\n",
    "ans = remove(nums,val)\n",
    "print(ans)"
   ]
  },
  {
   "cell_type": "code",
   "execution_count": null,
   "id": "b920194c",
   "metadata": {},
   "outputs": [],
   "source": [
    "def move_zeros(nums1):\n",
    "    non_zero_index = 0\n",
    "    \n",
    "    for i in range(len(nums1)):\n",
    "        if nums1[i] != 0:\n",
    "            nums1[non_zero_index] = nums1[i]\n",
    "            non_zero_index += 1\n",
    "    for i in range(non_zero_index,len(nums1)):\n",
    "        nums1[i] = 0\n",
    "    return nums1\n",
    "\n",
    "\n",
    "nums1 = [0, 1, 0, 3, 12]\n",
    "move_zeros(nums1)\n",
    "print(nums1)"
   ]
  },
  {
   "cell_type": "code",
   "execution_count": null,
   "id": "4e708e5a",
   "metadata": {},
   "outputs": [],
   "source": [
    "def  excel_col(col_num):\n",
    "    col_name = \"\"\n",
    "    \n",
    "    while col_num > 0:\n",
    "        rem = (col_num-1) % 26\n",
    "        col_name = chr(ord('A')+rem) + col_name\n",
    "        col_num = (col_num-1) // 26\n",
    "    return col_name\n",
    "\n",
    "print(excel_col(28))  \n"
   ]
  },
  {
   "cell_type": "code",
   "execution_count": null,
   "id": "198bffe8",
   "metadata": {},
   "outputs": [],
   "source": [
    "def excel_name(col_name):\n",
    "    col_num = 0\n",
    "    \n",
    "    for char in col_name:\n",
    "        val = ord(char) - ord('A') + 1\n",
    "        col_num = col_num * 26 + val\n",
    "    return col_num\n",
    "\n",
    "\n",
    "print(excel_name('AB'))  \n"
   ]
  },
  {
   "cell_type": "code",
   "execution_count": null,
   "id": "6a421b4f",
   "metadata": {},
   "outputs": [],
   "source": [
    "def increment(digits):\n",
    "    num = 0\n",
    "    for digit in digits:\n",
    "        num = num*10 + digit\n",
    "    num += 1\n",
    "    \n",
    "    res = []\n",
    "    for i in str(num):\n",
    "        res.insert(0,int(i)%10)\n",
    "        i = int(i)//10\n",
    "    return res\n",
    "digits = [1,2,3]\n",
    "increment(digits) "
   ]
  },
  {
   "cell_type": "code",
   "execution_count": null,
   "id": "00c64048",
   "metadata": {},
   "outputs": [],
   "source": [
    "dnum = 4\n",
    "bnum = []\n",
    "\n",
    "while dnum > 0:\n",
    "    rem = dnum % 2\n",
    "    bnum.append(rem)\n",
    "    dnum = dnum //2\n",
    "bnum.reverse()\n",
    "\n",
    "for i in bnum:\n",
    "    print(i,end = \"\")"
   ]
  },
  {
   "cell_type": "code",
   "execution_count": null,
   "id": "1b7449b8",
   "metadata": {},
   "outputs": [],
   "source": [
    "bnum = str(100)\n",
    "res = 0\n",
    "\n",
    "dnum = list(bnum)\n",
    "dnum.reverse()\n",
    "\n",
    "for i in range(len(dnum)):\n",
    "    res = res + int(dnum[i]) * pow(2,i)\n",
    "print(res)"
   ]
  },
  {
   "cell_type": "code",
   "execution_count": null,
   "id": "eddf53fc",
   "metadata": {},
   "outputs": [],
   "source": [
    "def num_of_matches(n):\n",
    "    matches = 0\n",
    "    \n",
    "    while n>1:\n",
    "        matches = matches+n//2\n",
    "        if n%2==0:\n",
    "            n = n//2\n",
    "        else:\n",
    "            n = (n-1)//2 +1\n",
    "    return matches\n",
    "\n",
    "n = 7\n",
    "num_of_matches(n)"
   ]
  },
  {
   "cell_type": "code",
   "execution_count": null,
   "id": "e10fedce",
   "metadata": {},
   "outputs": [],
   "source": [
    "def count_factors(n1):\n",
    "    res = []\n",
    "    for i in range(1,n+1):\n",
    "        if n%i == 0:\n",
    "            res.append(i)\n",
    "    return res\n",
    "    \n",
    "n1 = 12\n",
    "n2 = 6\n",
    "count_factors(n1)\n",
    "count_factors(n2)"
   ]
  },
  {
   "cell_type": "code",
   "execution_count": null,
   "id": "a8e798df",
   "metadata": {},
   "outputs": [],
   "source": [
    "num = 9\n",
    "if num > 0:\n",
    "    for i in range(2,num):\n",
    "        if num %i == 0:\n",
    "            print(num,'is not a prime')\n",
    "            break\n",
    "    else:\n",
    "        print(num,'is a prime')"
   ]
  },
  {
   "cell_type": "code",
   "execution_count": null,
   "id": "99e50c88",
   "metadata": {},
   "outputs": [],
   "source": [
    "def count_prime(n):\n",
    "    res = []\n",
    "    \n",
    "    for i in range(2,n+1):\n",
    "        for j in range(2,i):\n",
    "            if i%j == 0:\n",
    "                break\n",
    "        else:\n",
    "            res.append(i)\n",
    "    return res\n",
    "n = 10\n",
    "count_prime(n)"
   ]
  },
  {
   "cell_type": "code",
   "execution_count": null,
   "id": "db987e5d",
   "metadata": {},
   "outputs": [],
   "source": [
    "def xor_array(n, start):\n",
    "    nums = []\n",
    "    for i in range(0,n):\n",
    "        nums.append(start+2*i)\n",
    "        \n",
    "    res = 0\n",
    "    for i in nums:\n",
    "        res = res ^ i\n",
    "    return res\n",
    "    \n",
    "\n",
    "n = 2\n",
    "start = 0\n",
    "xor_array(n,start)"
   ]
  },
  {
   "cell_type": "code",
   "execution_count": null,
   "id": "f8895d2c",
   "metadata": {},
   "outputs": [],
   "source": [
    "def rotate_array(nums1):\n",
    "    for i in range(len(nums1)-1):\n",
    "        if nums1[i] > nums1[i+1]:\n",
    "            res = nums1[i+1:]+nums1[:i+1]\n",
    "            return res == sorted(nums1)\n",
    "    return res\n",
    "\n",
    "nums1 = [3, 4, 5, 1, 2]\n",
    "rotate_array(nums1)"
   ]
  },
  {
   "cell_type": "code",
   "execution_count": null,
   "id": "288ac1cd",
   "metadata": {},
   "outputs": [],
   "source": [
    "def fun(n):\n",
    "    res = []\n",
    "    \n",
    "    for i in range(1, n+1):\n",
    "        if i%3 == 0 and i%5 == 0:\n",
    "            res.append('FizzBuzz')\n",
    "        elif i%3 == 0:\n",
    "            res.append('Fizz')\n",
    "        elif i%5 == 0:\n",
    "            res.append('Buzz')\n",
    "        else:\n",
    "            res.append(str(i))\n",
    "    return res\n",
    "\n",
    "\n",
    "n = 10\n",
    "fun(n)"
   ]
  },
  {
   "cell_type": "code",
   "execution_count": null,
   "id": "b00836ab",
   "metadata": {},
   "outputs": [],
   "source": [
    "n = 1439\n",
    "sum1 = 1\n",
    "\n",
    "while n>0:\n",
    "    sum1 = sum1 * (n%10)\n",
    "    n = n//10\n",
    "print(sum1)"
   ]
  },
  {
   "cell_type": "code",
   "execution_count": null,
   "id": "df880c85",
   "metadata": {},
   "outputs": [],
   "source": [
    "def palindromic_words(words):\n",
    "    for word in words:\n",
    "        if word == word[::-1]:\n",
    "            return word\n",
    "    return \"\"\n",
    "\n",
    "words = [\"aba\",\"car\",\"ada\",\"racecar\",\"cool\"]\n",
    "palindromic_words(words)"
   ]
  },
  {
   "cell_type": "code",
   "execution_count": null,
   "id": "e7dcb9b6",
   "metadata": {},
   "outputs": [],
   "source": [
    "def runningSum(nums):\n",
    "    res = []\n",
    "    sum1 = 0\n",
    "    for num in nums:\n",
    "        sum1 = sum1 + num\n",
    "        res.append(sum1)\n",
    "    return res\n",
    "        \n",
    "\n",
    "nums = [1,2,5,4]\n",
    "runningSum(nums)"
   ]
  },
  {
   "cell_type": "code",
   "execution_count": null,
   "id": "e9d15b66",
   "metadata": {},
   "outputs": [],
   "source": [
    "def mergeTwoLists(l1, l2):\n",
    "    res = []\n",
    "    i = 0\n",
    "    j = 0\n",
    "    \n",
    "    while i<len(l1) and j<len(l2):\n",
    "        if l1[i] < l2[j]:\n",
    "            res.append(l1[i])\n",
    "            i = i +1\n",
    "        \n",
    "        else:\n",
    "            res.append(l2[j])\n",
    "            j = j + 1\n",
    "            \n",
    "    res.extend(l1[i:])\n",
    "    res.extend(l2[j:])\n",
    "    \n",
    "    return res\n",
    "\n",
    "list1 = [1,2,4]\n",
    "list2 = [1,3,4]\n",
    "mergeTwoLists(list1,list2)"
   ]
  },
  {
   "cell_type": "code",
   "execution_count": null,
   "id": "8a5d4595",
   "metadata": {},
   "outputs": [],
   "source": [
    "list1 = [1,2,4]\n",
    "list2 = [1,3,4]\n",
    "list1.extend(list2)\n",
    "list1.sort()\n",
    "list1"
   ]
  },
  {
   "cell_type": "code",
   "execution_count": null,
   "id": "e8f3254f",
   "metadata": {},
   "outputs": [],
   "source": [
    "def mostWordsFound(sentences):\n",
    "    count = []\n",
    "    for line in sentences:\n",
    "        words = line.split()\n",
    "        count.append(len(words))\n",
    "        \n",
    "    return max(count)\n",
    "        \n",
    "    \n",
    "\n",
    "sentences = [\"alice and bob love leetcode\", \"i think so too\", \"this is great thanks very much\"]    \n",
    "mostWordsFound(sentences)"
   ]
  },
  {
   "cell_type": "code",
   "execution_count": null,
   "id": "758e6113",
   "metadata": {},
   "outputs": [],
   "source": [
    "nums = [1, 2, 2, 3, 4, 4, 5]\n",
    "res = []\n",
    "duplicates = []\n",
    "\n",
    "for num in nums:\n",
    "    if num not in res:\n",
    "        res.append(num)\n",
    "    else:\n",
    "        duplicates.append(num)\n",
    "print(res)\n",
    "print(duplicates)"
   ]
  },
  {
   "cell_type": "code",
   "execution_count": null,
   "id": "558aa907",
   "metadata": {},
   "outputs": [],
   "source": [
    "nums = [1, 2, 2, 3, 4, 4, 5]\n",
    "print(list(set(nums)))"
   ]
  },
  {
   "cell_type": "code",
   "execution_count": null,
   "id": "95cb11d5",
   "metadata": {},
   "outputs": [],
   "source": [
    "string = 'abhinay'\n",
    "vowels = set('aeiou')\n",
    "res = \"\"\n",
    "\n",
    "for i in range(len(string)):\n",
    "    if string[i] in vowels:\n",
    "        res = res + string[i+1]\n",
    "    else:\n",
    "        res = res + string[i]\n",
    "print(res)"
   ]
  },
  {
   "cell_type": "code",
   "execution_count": null,
   "id": "a6bf4350",
   "metadata": {},
   "outputs": [],
   "source": [
    "mat = [[0,0],[1,1],[0,0]]\n",
    "ones = 0\n",
    "index = 0\n",
    "\n",
    "for it, row in enumerate(mat):\n",
    "    c = row.count(1)\n",
    "    \n",
    "    if ones < c:\n",
    "        ones = c\n",
    "        index = it\n",
    "print([index, ones])"
   ]
  },
  {
   "cell_type": "code",
   "execution_count": null,
   "id": "d340f712",
   "metadata": {},
   "outputs": [],
   "source": [
    "def restoreString(s,indices):\n",
    "    res = [\"\"] * len(s)\n",
    "    \n",
    "    for i in range(len(s)):\n",
    "        res[indices[i]]=s[i]\n",
    "    return \"\".join(res)\n",
    "\n",
    "s = \"codeleet\"\n",
    "indices = [4,5,6,7,0,2,1,3]\n",
    "restoreString(s, indices)"
   ]
  },
  {
   "cell_type": "code",
   "execution_count": null,
   "id": "bb860cf9",
   "metadata": {},
   "outputs": [],
   "source": [
    "def cellsInRange(s):\n",
    "    start, end = s.split(':')\n",
    "    res = []\n",
    "    \n",
    "    start_col, start_row = start[0], int(start[1:])\n",
    "    end_col, end_row = end[0], int(end[1:])\n",
    "    \n",
    "    for col in range(ord(start_col), ord(end_col)+1):\n",
    "        for row in range(start_row, end_row+1):\n",
    "            res.append(chr(col)+str(row))\n",
    "    print(res)\n",
    "\n",
    "s = \"A1:F1\"\n",
    "cellsInRange(s)"
   ]
  },
  {
   "cell_type": "code",
   "execution_count": null,
   "id": "3904c26e",
   "metadata": {},
   "outputs": [],
   "source": [
    "nums = [0,0,1,1,1,2,2,3,3,4]\n",
    "res = []\n",
    "dup = []\n",
    "count = 0\n",
    "\n",
    "for i in range(len(nums)):\n",
    "    if nums[i] not in res:\n",
    "        res.append(nums[i])\n",
    "    else:\n",
    "        count += 1\n",
    "print(res,count)\n",
    "        "
   ]
  },
  {
   "cell_type": "code",
   "execution_count": null,
   "id": "b27b96dc",
   "metadata": {},
   "outputs": [],
   "source": [
    "def generateArray(nums1):\n",
    "    result = []\n",
    "    \n",
    "    for i in range(0, len(nums1),2):\n",
    "        freq = nums1[i]\n",
    "        val = nums1[i+1]\n",
    "        \n",
    "        sub_array = freq * [val]\n",
    "        result.extend(sub_array)\n",
    "    return result\n",
    "        \n",
    "nums1 = [1, 2, 3, 4]\n",
    "generateArray(nums1)"
   ]
  },
  {
   "cell_type": "code",
   "execution_count": null,
   "id": "1d3a5bb7",
   "metadata": {},
   "outputs": [],
   "source": [
    "def maximumWealth(accounts):\n",
    "    m = len(accounts)\n",
    "    n = len(accounts[0])\n",
    "    res = []\n",
    "    \n",
    "    for i in range(m):\n",
    "        sum1 = 0\n",
    "        for j in range(n):\n",
    "            sum1 = sum1 + accounts[i][j]\n",
    "            res.append(sum1)\n",
    "    return max(res)\n",
    "            \n",
    "accounts = [[2,8,7],[7,1,3],[1,9,5]]\n",
    "maximumWealth(accounts)"
   ]
  },
  {
   "cell_type": "code",
   "execution_count": null,
   "id": "4077d029",
   "metadata": {},
   "outputs": [],
   "source": [
    "def largestPerimeter(nums):\n",
    "    nums.sort(reverse=True)\n",
    "    print(nums)\n",
    "    \n",
    "    for i in range(len(nums)-2):\n",
    "        a, b, c = nums[i], nums[i+1], nums[i+2]\n",
    "        \n",
    "        if b+c>a:\n",
    "            return a+b+c\n",
    "    return 0\n",
    "\n",
    "\n",
    "nums = [1,2,1,10]\n",
    "largestPerimeter(nums)"
   ]
  },
  {
   "cell_type": "code",
   "execution_count": null,
   "id": "8bbff48f",
   "metadata": {},
   "outputs": [],
   "source": [
    "def flipAndInvertImage(image):\n",
    "    \n",
    "    for i in range(len(image)):\n",
    "        image[i] = image[i][::-1]\n",
    "        \n",
    "        for j in range(len(image)):\n",
    "            if image[i][j] == 0:\n",
    "                image[i][j] = 1\n",
    "            else:\n",
    "                image[i][j] = 0\n",
    "    return image\n",
    "            \n",
    "image = [[1,1,0],[1,0,1],[0,1,0]]\n",
    "flipAndInvertImage(image)"
   ]
  },
  {
   "cell_type": "code",
   "execution_count": null,
   "id": "7ba2dde6",
   "metadata": {},
   "outputs": [],
   "source": [
    "import numpy as np\n",
    "def luckyNumbers(matrix):\n",
    "    print(np.array(matrix))\n",
    "    res = []\n",
    "    m = len(matrix)\n",
    "    n = len(matrix[0])\n",
    "    \n",
    "    row_min = [min(row) for row in matrix]\n",
    "    print(row_min)\n",
    "            \n",
    "    col_max = []\n",
    "    for col in range(n):\n",
    "        max_val = matrix[0][col]\n",
    "        for row in range(n):\n",
    "            max_val = max(max_val, matrix[row][col])\n",
    "        col_max.append(max_val)\n",
    "    \n",
    "    for i in range(m):\n",
    "        for j in range(n):\n",
    "            if matrix[i][j] == row_min[i] == col_max[j]:\n",
    "                res.append(matrix[i][j])\n",
    "    return res\n",
    "\n",
    "\n",
    "matrix = [[3,7,8],[13,11,9],[15,16,17]]\n",
    "luckyNumbers(matrix)"
   ]
  },
  {
   "cell_type": "code",
   "execution_count": null,
   "id": "788b2f86",
   "metadata": {},
   "outputs": [],
   "source": [
    "\n",
    "def luckyNumbers(matrix):\n",
    "    m = len(matrix)\n",
    "    n = len(matrix[0])\n",
    "    res = []\n",
    "    \n",
    "    row_min = [min(row) for row in matrix]\n",
    "    print('row min:',row_min)\n",
    "    \n",
    "    col_max = []\n",
    "    for j in range(n):\n",
    "        max_val = float('-inf')\n",
    "        for i in range(m):\n",
    "            max_val = max(max_val, matrix[i][j])\n",
    "        col_max.append(max_val)\n",
    "    print('col max', col_max)\n",
    "        \n",
    "    for i in range(m):\n",
    "        for j in range(n):\n",
    "            if matrix[i][j] == row_min[i] == col_max[j]:\n",
    "                res.append(matrix[i][j])\n",
    "    return res\n",
    "                \n",
    "            \n",
    "matrix = [[3,7,8],[13,11,9],[15,16,17]]\n",
    "luckyNumbers(matrix)"
   ]
  },
  {
   "cell_type": "code",
   "execution_count": null,
   "id": "45501455",
   "metadata": {},
   "outputs": [],
   "source": []
  },
  {
   "cell_type": "code",
   "execution_count": null,
   "id": "6343b146",
   "metadata": {},
   "outputs": [],
   "source": []
  },
  {
   "cell_type": "code",
   "execution_count": null,
   "id": "88c77729",
   "metadata": {},
   "outputs": [],
   "source": []
  },
  {
   "cell_type": "code",
   "execution_count": null,
   "id": "0d8aff34",
   "metadata": {},
   "outputs": [],
   "source": []
  },
  {
   "cell_type": "code",
   "execution_count": null,
   "id": "ca0018e6",
   "metadata": {},
   "outputs": [],
   "source": []
  },
  {
   "cell_type": "code",
   "execution_count": null,
   "id": "ab8a19cd",
   "metadata": {},
   "outputs": [],
   "source": []
  },
  {
   "cell_type": "code",
   "execution_count": null,
   "id": "21a90559",
   "metadata": {},
   "outputs": [],
   "source": []
  },
  {
   "cell_type": "code",
   "execution_count": null,
   "id": "d65793f4",
   "metadata": {},
   "outputs": [],
   "source": []
  },
  {
   "cell_type": "code",
   "execution_count": null,
   "id": "c3e7444c",
   "metadata": {},
   "outputs": [],
   "source": []
  },
  {
   "cell_type": "code",
   "execution_count": null,
   "id": "5f0016f4",
   "metadata": {},
   "outputs": [],
   "source": [
    "import numpy as np\n",
    "matrix = [[3,7,8],[9,11,13],[15,16,17]]\n",
    "print(np.array(matrix))\n",
    "\n",
    "m = len(matrix)\n",
    "n = len(matrix[0])\n",
    "res = []\n",
    "\n",
    "\n",
    "row_min = [min(row) for row in matrix]\n",
    "print(row_min)\n",
    "\n",
    "col_max = []\n",
    "for j in range(n):\n",
    "    max_val = matrix[0][j]\n",
    "    \n",
    "    for i in range(m):\n",
    "        max_val = max(max_val, matrix[i][j])\n",
    "    col_max.append(max_val)\n",
    "print(col_max)\n",
    "        \n",
    "row_min.extend(col_max)\n",
    "row_min\n",
    "\n",
    "#for num in row_min:\n",
    "#    res = row_min.count(num)\n",
    "#   if res == 2:\n",
    "#        print(num)\n",
    "#        break\n",
    "\n",
    "for i in range(m):\n",
    "    for j in range(n):\n",
    "        if matrix[i][j] == row_min[i] == col_max[j]:\n",
    "            res.append(matrix[i][j])\n",
    "print(res)"
   ]
  },
  {
   "cell_type": "code",
   "execution_count": null,
   "id": "e415a4ef",
   "metadata": {},
   "outputs": [],
   "source": [
    "s = \"abaadbd\"\n",
    "res = \"\"\n",
    "\n",
    "max_length = 0\n",
    "start = 0\n",
    "visited = {}\n",
    "res = \"\"\n",
    "\n",
    "\n",
    "for i in range(len(s)):\n",
    "    if s[i] in visited and start <= visited[s[i]]:\n",
    "        start = visited[s[i]] + 1\n",
    "    \n",
    "    else:\n",
    "        current_length = i-start+1\n",
    "        if current_length > max_length:\n",
    "            max_length = current_length\n",
    "            res = s[start:i+1]\n",
    "    visited[s[i]] = i\n",
    "\n",
    "print(res)\n"
   ]
  },
  {
   "cell_type": "code",
   "execution_count": null,
   "id": "0ee130ef",
   "metadata": {},
   "outputs": [],
   "source": [
    "res = {'a':0,'b':2}\n",
    "if 'a' in res:\n",
    "    print(True)"
   ]
  },
  {
   "cell_type": "code",
   "execution_count": null,
   "id": "f9547d01",
   "metadata": {},
   "outputs": [],
   "source": [
    "s = 'abaadbd'\n",
    "\n",
    "start = 0\n",
    "max_length = 0\n",
    "visited = {}\n",
    "res = \"\"\n",
    "\n",
    "for i in range(len(s)):\n",
    "    if s[i] in visited and start<= visited[s[i]]:\n",
    "        start = visited[s[i]] + 1\n",
    "        \n",
    "    else:\n",
    "        current_length = i-start+1\n",
    "        if current_length>max_length:\n",
    "            max_length = current_length\n",
    "        res = s[start:i+1]\n",
    "        \n",
    "    visited[s[i]] = i\n",
    "print(res)"
   ]
  },
  {
   "cell_type": "code",
   "execution_count": null,
   "id": "9256c9d8",
   "metadata": {},
   "outputs": [],
   "source": [
    "s = \"abaadbd\"\n",
    "res = []\n",
    "substring = \"\"\n",
    "\n",
    "for i in range(len(s)):\n",
    "    if s[i] not in substring:\n",
    "        substring += s[i]\n",
    "    else:\n",
    "        res.append(substring)\n",
    "        substring = s[i]\n",
    "res.append(substring)\n",
    "print(res)"
   ]
  },
  {
   "cell_type": "code",
   "execution_count": null,
   "id": "c698eb0a",
   "metadata": {},
   "outputs": [],
   "source": [
    "res = 'ghee'\n",
    "for c in \"abcdefghijklmnopqrstuvwxyz\":  \n",
    "    print(res[0] != c)\n",
    "        "
   ]
  },
  {
   "cell_type": "code",
   "execution_count": null,
   "id": "5356c859",
   "metadata": {},
   "outputs": [],
   "source": [
    "def last_len(s):\n",
    "    words = s.split()\n",
    "    if words:\n",
    "        last_word = words[-1]\n",
    "    return len(last_word)\n",
    "    \n",
    "s = \"   fly me   to   the moon  \"\n",
    "last_len(s)"
   ]
  },
  {
   "cell_type": "code",
   "execution_count": null,
   "id": "59472517",
   "metadata": {},
   "outputs": [],
   "source": [
    "def fun(s):\n",
    "    s = list(s)\n",
    "    n = len(s)\n",
    "\n",
    "    for i in range(len(s)):\n",
    "        if s[i] == '?':\n",
    "            for c in 'abcdefghijklmnopqrstuvwxyz':\n",
    "                if (i==0 or s[i-1]!=c) and (i==n-1 or s[i+1]!=c):\n",
    "                    s[i] = c\n",
    "                    break\n",
    "    return \"\".join(s)\n",
    "s = \"u?v?w\"\n",
    "fun(s)"
   ]
  },
  {
   "cell_type": "code",
   "execution_count": null,
   "id": "5fdfc67e",
   "metadata": {},
   "outputs": [],
   "source": [
    "def upper_lower(s):\n",
    "    res = \"\"\n",
    "    \n",
    "    for char in s:\n",
    "        if char.isupper():\n",
    "            res = res + chr(ord(char)+32)\n",
    "        else:\n",
    "            res = res + char\n",
    "    return res\n",
    "\n",
    "s = 'HeRe'\n",
    "upper_lower(s)"
   ]
  },
  {
   "cell_type": "code",
   "execution_count": null,
   "id": "0a3fdf59",
   "metadata": {},
   "outputs": [],
   "source": [
    "def ispalindrome(s):\n",
    "    res = \"\"\n",
    "    \n",
    "    for char in s:\n",
    "        if char.isalnum():\n",
    "            res = res + char.lower()\n",
    "    return res == res[::-1]\n",
    "s = \"A man, a plan, a canal: Panama\"\n",
    "ispalindrome(s)"
   ]
  },
  {
   "cell_type": "code",
   "execution_count": null,
   "id": "ac5dc83c",
   "metadata": {},
   "outputs": [],
   "source": [
    "def is_palindrome_with_one_deletion(s1):\n",
    "    p1 = 0\n",
    "    p2 = len(s1)-1\n",
    "    \n",
    "    while p1<=p2:\n",
    "        if s1[p1] != s1[p2]:\n",
    "            string1 = s1[:p1] + s1[p1+1:]\n",
    "            string2 = s1[:p2] + s1[p2+1:]\n",
    "            return string1 == string1[::-1] or string2 == string2[::-1]\n",
    "            \n",
    "            \n",
    "        p1 += 1\n",
    "        p2 -= 1\n",
    "    return True\n",
    "            \n",
    "\n",
    "s1 = \"cbbc\"\n",
    "s2 = \"abca\"\n",
    "s3 = \"abc\"\n",
    "\n",
    "print(is_palindrome_with_one_deletion(s1))  # Output: True\n",
    "print(is_palindrome_with_one_deletion(s2))  # Output: True\n",
    "print(is_palindrome_with_one_deletion(s3))  # Output: False\n"
   ]
  },
  {
   "cell_type": "code",
   "execution_count": null,
   "id": "99fe5c12",
   "metadata": {},
   "outputs": [],
   "source": [
    "def repeatedSubstringPattern(s):\n",
    "    n = len(s)\n",
    "    \n",
    "    for i in range(1,n//2+1):\n",
    "        if n%i == 0:\n",
    "            substring = s[:i]\n",
    "            if substring * (n//i) == s:\n",
    "                return True\n",
    "    return False\n",
    "\n",
    "\n",
    "s1 = \"aba\"\n",
    "result1 = repeatedSubstringPattern(s1)\n",
    "print(result1)"
   ]
  },
  {
   "cell_type": "code",
   "execution_count": null,
   "id": "1a29b1b6",
   "metadata": {},
   "outputs": [],
   "source": [
    "def findTheDifference(s,t):\n",
    "    count = {}\n",
    "    for i in range(len(s)):\n",
    "        if s[i] in count:\n",
    "            count[s[i]] += 1\n",
    "        else:\n",
    "            count[s[i]] = 1\n",
    "\n",
    "    for i in range(len(t)):\n",
    "        if t[i] in count and count[t[i]] > 0:\n",
    "            count[t[i]] -= 1\n",
    "        else:\n",
    "            return t[i]\n",
    "\n",
    "\n",
    "s = \"abhi\"\n",
    "t = \"ishu\"\n",
    "findTheDifference(s,t)"
   ]
  },
  {
   "cell_type": "code",
   "execution_count": null,
   "id": "e3e09d5c",
   "metadata": {},
   "outputs": [],
   "source": [
    "def dayOfYear(date):\n",
    "    year, month, day = map(int,date.split('.'))\n",
    "    \n",
    "    days_in_months = [0,31,28,31,30,31,30,31,31,30,31,30,31]\n",
    "    \n",
    "    if (year%4==0) and (year%400!=0 or year%100!=0):\n",
    "        days_in_months[2] = 29\n",
    "    \n",
    "    no_of_days = sum(days_in_months[:month])+day\n",
    "    return no_of_days\n",
    "    \n",
    "    \n",
    "date1 = \"2019.01.09\"\n",
    "dayOfYear(date1)"
   ]
  },
  {
   "cell_type": "code",
   "execution_count": null,
   "id": "acb432b3",
   "metadata": {},
   "outputs": [],
   "source": [
    "def isWhiteSquare(s):\n",
    "    col, row = s[0], int(s[1])\n",
    "    \n",
    "    col_index = ord(col) - ord('a')\n",
    "    \n",
    "    if (col_index + row)%2 == 0:\n",
    "        return True\n",
    "    else:    \n",
    "        return False\n",
    "\n",
    "coordinates2 = \"h3\"\n",
    "isWhiteSquare(coordinates2)"
   ]
  },
  {
   "cell_type": "code",
   "execution_count": null,
   "id": "43165ad5",
   "metadata": {},
   "outputs": [],
   "source": [
    "s = 'h3'\n",
    "res = ord('h') - ord('a')\n",
    "res"
   ]
  },
  {
   "cell_type": "code",
   "execution_count": null,
   "id": "a7f92ff5",
   "metadata": {},
   "outputs": [],
   "source": [
    "def addDigits(num1):\n",
    "    sum1 = 0\n",
    "    for i in str(num1):\n",
    "        sum1 = sum1 + num1%10\n",
    "        num1 = num1//10\n",
    "    return sum1\n",
    "num1 = 38\n",
    "addDigits(num1)"
   ]
  },
  {
   "cell_type": "code",
   "execution_count": null,
   "id": "d3f54d8a",
   "metadata": {},
   "outputs": [],
   "source": [
    "def addDigits(num):\n",
    "    \n",
    "    while num>=10:\n",
    "        sum1 = 0\n",
    "        while num>0:\n",
    "            sum1 = sum1 + num%10\n",
    "            num = num//10\n",
    "        num = sum1\n",
    "    return sum1\n",
    "    \n",
    "num1 = 38\n",
    "num2 = 145\n",
    "print(addDigits(num1))\n",
    "print(addDigits(num2))"
   ]
  },
  {
   "cell_type": "code",
   "execution_count": null,
   "id": "2c790f30",
   "metadata": {},
   "outputs": [],
   "source": [
    "def majorityElement(nums2):\n",
    "    count = {}\n",
    "    for num in nums2:\n",
    "        if num in count:\n",
    "            count[num] += 1\n",
    "        else:  \n",
    "            count[num] = 1\n",
    "    return max(count)\n",
    "        \n",
    "        \n",
    "        \n",
    "nums2 = [2, 2, 1, 1, 1, 2, 2]\n",
    "majorityElement(nums2)"
   ]
  },
  {
   "cell_type": "code",
   "execution_count": null,
   "id": "9f6499cb",
   "metadata": {},
   "outputs": [],
   "source": [
    "def mostFrequentEven(nums1):\n",
    "    even_count = {}\n",
    "    \n",
    "    for num in nums1:\n",
    "        if num%2 == 0:\n",
    "            if num in even_count:\n",
    "                even_count[num] += 1\n",
    "            else:\n",
    "                even_count[num] = 1\n",
    "    max_val = max(even_count.values())\n",
    "\n",
    "    for i in even_count:\n",
    "        if max_val == even_count[i]:\n",
    "            print(i)\n",
    "    \n",
    "    \n",
    "nums1 = [0, 1, 2, 2, 4, 4, 1]\n",
    "mostFrequentEven(nums1)  "
   ]
  },
  {
   "cell_type": "code",
   "execution_count": null,
   "id": "a1df7af0",
   "metadata": {},
   "outputs": [],
   "source": [
    "def mostFrequentEven(nums1):\n",
    "    even_count = {}\n",
    "    \n",
    "    for num in nums1:\n",
    "        if num%2 == 0:\n",
    "            if num in even_count:\n",
    "                even_count[num] += 1\n",
    "            else:\n",
    "                even_count[num] = 1\n",
    "    print(even_count)\n",
    "    \n",
    "    max_freq = 0\n",
    "    most_freq_even = -1\n",
    "    \n",
    "    for num, count in even_count.items():\n",
    "        if count > max_freq:\n",
    "            max_freq = count\n",
    "            most_freq_even = num\n",
    "        elif count == max_freq and num<most_freq_even:\n",
    "            most_freq_even = num\n",
    "    return most_freq_even\n",
    "            \n",
    "    \n",
    "nums1 = [0, 1, 2, 2, 4, 4, 1]\n",
    "mostFrequentEven(nums1)"
   ]
  },
  {
   "cell_type": "code",
   "execution_count": null,
   "id": "64179fad",
   "metadata": {},
   "outputs": [],
   "source": [
    "def isPrefixOfWord(sentence, searchWord):\n",
    "    words = sentence.split()\n",
    "    res = []\n",
    "    for index, word in enumerate(words):\n",
    "        if searchWord == word[:len(searchWord)]:\n",
    "            return index+1\n",
    "    return -1\n",
    "            \n",
    "sentence = \"i love eating burger\"\n",
    "searchWord = \"burg\"\n",
    "isPrefixOfWord(sentence,searchWord)"
   ]
  },
  {
   "cell_type": "code",
   "execution_count": null,
   "id": "7f09d6ad",
   "metadata": {},
   "outputs": [],
   "source": [
    "def prefixCount(words, pref):\n",
    "    res = []\n",
    "    count = 0\n",
    "    for word in words:\n",
    "        if pref == word[:len(pref)]:\n",
    "            count += 1\n",
    "            res.append(word)\n",
    "    return res, count\n",
    "            \n",
    "\n",
    "words1 = [\"pay\",\"attention\",\"practice\",\"attend\"]\n",
    "pref1 = \"at\"\n",
    "words2 = [\"leetcode\",\"win\",\"loops\",\"success\"]\n",
    "pref2 = \"code\"\n",
    "\n",
    "print(prefixCount(words1,pref1))\n",
    "print(prefixCount(words2,pref2))"
   ]
  },
  {
   "cell_type": "code",
   "execution_count": null,
   "id": "39961de1",
   "metadata": {},
   "outputs": [],
   "source": [
    "def countPrefixes(words,s):\n",
    "    count = 0\n",
    "    for word in words:\n",
    "        if word == s[:len(word)]:\n",
    "            count += 1\n",
    "    return count\n",
    "\n",
    "\n",
    "\n",
    "words = [\"a\",\"b\",\"c\",\"ab\",\"bc\",\"abc\"]\n",
    "s = \"abc\"\n",
    "countPrefixes(words,s)"
   ]
  },
  {
   "cell_type": "code",
   "execution_count": null,
   "id": "3a49a2e7",
   "metadata": {},
   "outputs": [],
   "source": [
    "def fun(nums,n,target):\n",
    "    for i in range(n):\n",
    "        c_sum = nums[i]\n",
    "        if c_sum == target:\n",
    "            print(\"sum found at index\",i)\n",
    "        else:\n",
    "            for j in range(i+1,n):\n",
    "                c_sum = c_sum + nums[j]\n",
    "                if c_sum == target:\n",
    "                    print(\"sum found at index\",i,j)\n",
    "                    \n",
    "        \n",
    "\n",
    "nums = [1,4,20,3,10,5]\n",
    "target = 5\n",
    "n = len(nums)\n",
    "fun(nums, n, target)"
   ]
  },
  {
   "cell_type": "code",
   "execution_count": null,
   "id": "fbba32bb",
   "metadata": {},
   "outputs": [],
   "source": [
    "s = '{}()'\n",
    "dict1 = {')': '(','}': '{',']': '['}\n",
    "stack = []\n",
    "\n",
    "for char in s:\n",
    "    if char in dict1.values():\n",
    "        stack.append(char)\n",
    "    elif char in dict1.keys():\n",
    "        if stack.pop() != dict1[char]:\n",
    "            pass\n",
    "print(len(stack)==0)"
   ]
  },
  {
   "cell_type": "code",
   "execution_count": null,
   "id": "21e0842e",
   "metadata": {},
   "outputs": [],
   "source": [
    "#1)two sum\n",
    "#Input: nums = [2,7,11,15], target = 9\n",
    "#Output: [0,1]\n",
    "\n",
    "def fun(nums, target):\n",
    "    dict1 = {}\n",
    "    \n",
    "    for i in range(len(nums)):\n",
    "        if nums[i] in dict1:\n",
    "            print(dict1[nums[i]],i)\n",
    "        \n",
    "        else:\n",
    "            dict1[target-nums[i]] = i\n",
    "    \n",
    "    \n",
    "nums = [2,7,11,15]\n",
    "target = 9\n",
    "fun(nums, target)"
   ]
  },
  {
   "cell_type": "code",
   "execution_count": null,
   "id": "cde0ba29",
   "metadata": {},
   "outputs": [],
   "source": [
    "def fun(nums, target):\n",
    "    dict1 = {}\n",
    "    for i in range(len(nums)):\n",
    "        if nums[i] in dict1:\n",
    "            print(dict1[nums[i]],i)\n",
    "        else:\n",
    "            dict1[target-nums[i]] = i\n",
    "\n",
    "nums = [2,7,11,15]\n",
    "target = 9\n",
    "fun(nums, target)"
   ]
  },
  {
   "cell_type": "code",
   "execution_count": null,
   "id": "23083bdf",
   "metadata": {},
   "outputs": [],
   "source": [
    "def fun(nums, target):\n",
    "    n = len(nums)\n",
    "    \n",
    "    for i in range(n):\n",
    "        current_sum = nums[i]\n",
    "        if current_sum == target:\n",
    "            print('sum found at',i)\n",
    "        else:\n",
    "            for j in range(i+1,n):\n",
    "                current_sum = current_sum + nums[j]\n",
    "                if current_sum == target:\n",
    "                    print('sum found at',i,'and',j)\n",
    "                    \n",
    "\n",
    "\n",
    "nums = [1,4,20,3,10,5]\n",
    "target = 3\n",
    "fun(nums, target)"
   ]
  },
  {
   "cell_type": "code",
   "execution_count": null,
   "id": "1f185357",
   "metadata": {},
   "outputs": [],
   "source": [
    "def fun(s):\n",
    "    start = 0\n",
    "    max_length = 0\n",
    "    dict1 = {}\n",
    "    \n",
    "    for i in range(len(s)):\n",
    "        if s[i] in dict1 and start <= dict1[s[i]]:\n",
    "            start = dict1[s[i]] + 1\n",
    "            \n",
    "        else:\n",
    "            max_length = max(max_length, i-start + 1)\n",
    "        dict1[s[i]] = i\n",
    "    return max_length\n",
    "\n",
    "s = 'ababba'\n",
    "fun(s)"
   ]
  },
  {
   "cell_type": "code",
   "execution_count": null,
   "id": "1e0d67db",
   "metadata": {},
   "outputs": [],
   "source": [
    "s = 'missisipi'\n",
    "\n",
    "start = 0\n",
    "max_len = 0\n",
    "dict1 = {}\n",
    "res = \"\"\n",
    "\n",
    "for i in range(len(s)):\n",
    "    if s[i] in dict1 and start <= dict1[s[i]]:\n",
    "        start = dict1[s[i]]+1\n",
    "    else:\n",
    "        curr_len = i-start+1\n",
    "        if curr_len > max_len:\n",
    "            max_len = curr_len\n",
    "        res = s[start:i+1]\n",
    "    dict1[s[i]] = i\n",
    "print(max_len)\n",
    "print(res)"
   ]
  },
  {
   "cell_type": "code",
   "execution_count": null,
   "id": "f6c89d2b",
   "metadata": {},
   "outputs": [],
   "source": [
    "def subarray(nums,k):\n",
    "    count = 0\n",
    "    pre_sum = 0\n",
    "    dict1 = {0:1}\n",
    "    \n",
    "    for num in nums:\n",
    "        pre_sum = pre_sum + num\n",
    "        \n",
    "        if pre_sum - k in dict1:\n",
    "            count = count + dict1[pre_sum - k]\n",
    "            \n",
    "        if pre_sum in dict1:\n",
    "            dict1[pre_sum] = dict1[pre_sum] + 1\n",
    "            \n",
    "        else:\n",
    "            dict1[pre_sum] = 1\n",
    "            print(dict1)\n",
    "    return count\n",
    "\n",
    "\n",
    "nums = [1,1,1,1,2]\n",
    "k = 3\n",
    "res = subarray(nums,k)\n",
    "print(res)"
   ]
  },
  {
   "cell_type": "code",
   "execution_count": null,
   "id": "2878e48f",
   "metadata": {},
   "outputs": [],
   "source": [
    "#53. Maximum Subarray sum\n",
    "#Input: nums = [-2,1,-3,4,-1,2,1,-5,4]\n",
    "#Output: 6\n",
    "#Explanation: The subarray [4,-1,2,1] has the largest sum 6.\n",
    "\n",
    "def fun(nums):\n",
    "    curr_sum = nums[0]\n",
    "    max_sum = nums[0]\n",
    "    res = []\n",
    "    \n",
    "    for i in range(1,len(nums)):\n",
    "        curr_sum = max(nums[i], curr_sum + nums[i])\n",
    "        max_sum = max(max_sum, curr_sum)\n",
    "        \n",
    "    return max_sum\n",
    "\n",
    "nums = [-2,1,-3,4,-1,2,1,-5,4]\n",
    "fun(nums)"
   ]
  },
  {
   "cell_type": "code",
   "execution_count": null,
   "id": "8aa9bb18",
   "metadata": {},
   "outputs": [],
   "source": [
    "def fun(nums):\n",
    "    curr_sum = nums[0]\n",
    "    max_sum = nums[0]\n",
    "    \n",
    "    start = end = s = 0\n",
    "    \n",
    "    for i in range(1,len(nums)):\n",
    "        if nums[i] > curr_sum + nums[i]:\n",
    "            curr_sum = nums[i]\n",
    "            s = i\n",
    "        else:\n",
    "            curr_sum = curr_sum + nums[i]\n",
    "        if curr_sum > max_sum:\n",
    "            max_sum = curr_sum\n",
    "            start = s\n",
    "            end= i\n",
    "    return nums[start:end+1], max_sum\n",
    "\n",
    "nums = [-2,1,-3,4,1]\n",
    "fun(nums)"
   ]
  },
  {
   "cell_type": "code",
   "execution_count": null,
   "id": "3963e6a4",
   "metadata": {},
   "outputs": [],
   "source": [
    "def max_subarray(nums):\n",
    "    curr_sum = max_sum = nums[0]\n",
    "    start = end = s = 0\n",
    "    \n",
    "    for i in range(1, len(nums)):\n",
    "        if nums[i] > curr_sum + nums[i]:\n",
    "            curr_sum = nums[i]\n",
    "            s = i\n",
    "        else:\n",
    "            curr_sum = curr_sum + nums[i]\n",
    "        \n",
    "        if curr_sum > max_sum:\n",
    "            max_sum = curr_sum\n",
    "            start = s\n",
    "            end = i\n",
    "    return nums[start:end+1], max_sum\n",
    "\n",
    "nums = [-2,1,-3,4,-1,2,1,-5,4]\n",
    "res = max_subarray(nums)\n",
    "print(res)"
   ]
  },
  {
   "cell_type": "code",
   "execution_count": null,
   "id": "e05bce11",
   "metadata": {},
   "outputs": [],
   "source": [
    "def longest_common_prefix(s):\n",
    "    \n",
    "    lcp = \"\"\n",
    "    min_len_str = len(s[0])\n",
    "    \n",
    "    for i in range(len(s)):\n",
    "        min_len_str = min(min_len_str, len(s[i]))\n",
    "        \n",
    "    for i in range(0,min_len_str):\n",
    "        curr_len = s[0][i]\n",
    "        for j in range(0,len(s)):\n",
    "            if s[j][i] != curr_len:\n",
    "                return lcp\n",
    "        lcp += curr_len\n",
    "    return lcp\n",
    "        \n",
    "\n",
    "\n",
    "str = ['flower','flow','flight']\n",
    "longest_common_prefix(str)"
   ]
  },
  {
   "cell_type": "code",
   "execution_count": null,
   "id": "4f79b597",
   "metadata": {},
   "outputs": [],
   "source": [
    "s = \"missippi\"\n",
    "rev = s[::-1]\n",
    "\n",
    "res = \"\"\n",
    "\n",
    "for char in range(len(s)):\n",
    "    if s[char] == rev[char]:\n",
    "        res = res + s[char]\n",
    "print(res)"
   ]
  },
  {
   "cell_type": "code",
   "execution_count": null,
   "id": "3c92d21a",
   "metadata": {},
   "outputs": [],
   "source": [
    "import numpy as np\n",
    "t1 = \"abcde\"\n",
    "t2 = \"ace\"\n",
    "\n",
    "m = len(t1)\n",
    "n = len(t2)\n",
    "\n",
    "mat = [[0]*(n+1) for _ in range(m+1)]\n",
    "\n",
    "for i in range(m):\n",
    "    for j in range(n):\n",
    "        if t1[i] == t2[j]:\n",
    "            mat[i+1][j+1] = mat[i][j] + 1\n",
    "        else:\n",
    "            mat[i+1][j+1] = max(mat[i][j+1], mat[i+1][j])\n",
    "print(np.array(mat))\n",
    "print(mat[-1][-1])"
   ]
  },
  {
   "cell_type": "code",
   "execution_count": null,
   "id": "7e97ed17",
   "metadata": {},
   "outputs": [],
   "source": [
    "def group_anagrams(s):\n",
    "    dict1 = {}\n",
    "    for word in s:\n",
    "        sorted_word = \"\".join(sorted(word))\n",
    "        \n",
    "        if sorted_word not in dict1:\n",
    "            dict1[sorted_word] = [word]\n",
    "        else:\n",
    "            dict1[sorted_word].append(word)\n",
    "    return dict1\n",
    "\n",
    "\n",
    "str1 = [\"eat\",\"tea\",\"tan\",\"ate\",\"nat\",\"bat\"]\n",
    "res = group_anagrams(str1)\n",
    "print(res)"
   ]
  },
  {
   "cell_type": "code",
   "execution_count": null,
   "id": "fd47c0a9",
   "metadata": {},
   "outputs": [],
   "source": [
    "nums = [0,0,1,1,1,2,2,3,3,4]\n",
    "res = []\n",
    "\n",
    "for num in nums:\n",
    "    if num not in res:\n",
    "        res.append(num)\n",
    "print(res)"
   ]
  },
  {
   "cell_type": "code",
   "execution_count": null,
   "id": "a737538f",
   "metadata": {},
   "outputs": [],
   "source": [
    "def fun(nums):\n",
    "    index = 1\n",
    "    \n",
    "    for i in range(1,len(nums)):\n",
    "        if nums[i] != nums[i-1]:\n",
    "            nums[index] = nums[i]\n",
    "            index += 1\n",
    "    return index, nums[:index]\n",
    "\n",
    "nums = [0,0,1,1,1,2,2,3,3,4]\n",
    "fun(nums)"
   ]
  },
  {
   "cell_type": "code",
   "execution_count": null,
   "id": "a351d59c",
   "metadata": {},
   "outputs": [],
   "source": [
    "#Input: nums = [3,2,2,3], val = 3\n",
    "#Output: 2, nums = [2,2,_,_]\n",
    "\n",
    "def fun(nums, val):\n",
    "    count = 0\n",
    "    for num in nums:\n",
    "        if num == val:\n",
    "            nums.remove(val)\n",
    "    return len(nums), nums\n",
    "\n",
    "nums = [3,2,2,3]\n",
    "val = 3\n",
    "fun(nums, val)"
   ]
  },
  {
   "cell_type": "code",
   "execution_count": null,
   "id": "b7977c7b",
   "metadata": {},
   "outputs": [],
   "source": [
    "def move_zeros(nums):\n",
    "    non_zero_index = 0\n",
    "    \n",
    "    for i in range(len(nums)):\n",
    "        if nums[i] != 0:\n",
    "            nums[non_zero_index] = nums[i]\n",
    "            non_zero_index += 1\n",
    "    for i in range(non_zero_index,len(nums)):\n",
    "        nums[i] = 0\n",
    "\n",
    "nums1 = [0, 1, 0, 3, 12]\n",
    "move_zeros(nums1)\n",
    "print(nums1)"
   ]
  },
  {
   "cell_type": "code",
   "execution_count": null,
   "id": "1f975733",
   "metadata": {},
   "outputs": [],
   "source": [
    "def excel_col(col_num):\n",
    "    col_name = \"\"\n",
    "    \n",
    "    while col_num>0:\n",
    "        rem = (col_num-1) % 26\n",
    "        col_name = chr(ord(\"A\") +rem) + col_name\n",
    "        col_num = (col_num-1)//26\n",
    "    return col_name\n",
    "\n",
    "\n",
    "print(excel_col(1))  \n",
    "print(excel_col(28))  \n",
    "\n",
    "print(excel_col(701))"
   ]
  },
  {
   "cell_type": "code",
   "execution_count": null,
   "id": "b5109ab6",
   "metadata": {},
   "outputs": [],
   "source": [
    "def excel_name(col_name):\n",
    "    col_num = 0\n",
    "    \n",
    "    for char in col_name:\n",
    "        val = ord(char) - ord(\"A\") +1\n",
    "        col_num = col_num *26 + val\n",
    "    return col_num\n",
    "\n",
    "\n",
    "print(excel_name('A'))  \n",
    "print(excel_name('AB'))  \n",
    "print(excel_name('ZY'))"
   ]
  },
  {
   "cell_type": "code",
   "execution_count": null,
   "id": "81be836a",
   "metadata": {},
   "outputs": [],
   "source": [
    "def increment(digits):\n",
    "    res = 0\n",
    "    for digit in digits:\n",
    "        res = res*10 + digit\n",
    "    res = res+1\n",
    "    \n",
    "    ans = []\n",
    "    while res > 0:\n",
    "        ans.insert(0,res%10)\n",
    "        res = res // 10\n",
    "    return ans\n",
    "        \n",
    "\n",
    "digits = [1,2,3]\n",
    "increment(digits) "
   ]
  },
  {
   "cell_type": "code",
   "execution_count": null,
   "id": "9658567b",
   "metadata": {},
   "outputs": [],
   "source": [
    "from datetime import date\n",
    "x1 = date(2024,1,1)\n",
    "x2 = date(2024,1,31)\n",
    "\n",
    "diff = abs(x1-x2)\n",
    "print(diff.days)"
   ]
  },
  {
   "cell_type": "code",
   "execution_count": null,
   "id": "45657ed2",
   "metadata": {},
   "outputs": [],
   "source": [
    "def fun(n1,n2):\n",
    "    while n2:\n",
    "        if n1>0:\n",
    "            n1,n2 = n2, n1%n2\n",
    "    return n1\n",
    "\n",
    "n1,n2 = 6,12\n",
    "fun(n1,n2)"
   ]
  },
  {
   "cell_type": "code",
   "execution_count": null,
   "id": "23ac88ac",
   "metadata": {},
   "outputs": [],
   "source": [
    "def fun(n1,n2):\n",
    "    maximum = max(n1,n2)\n",
    "    \n",
    "    while True:\n",
    "        if maximum%n1 == 0 and maximum%n2 == 0:\n",
    "            lcm = maximum \n",
    "            break\n",
    "        maximum+= 1\n",
    "    return lcm\n",
    "\n",
    "n1,n2 = 3,8\n",
    "fun(n1,n2)"
   ]
  },
  {
   "cell_type": "code",
   "execution_count": null,
   "id": "22065a81",
   "metadata": {},
   "outputs": [],
   "source": [
    "def gcdOfStrings(s1,s2):\n",
    "    def gcd(a,b):\n",
    "        while b:\n",
    "            if a > 0:\n",
    "                a, b = b, a%b\n",
    "        return a\n",
    "    common_len = gcd(len(s1),len(s2))\n",
    "    \n",
    "    return s1[:common_len]\n",
    "\n",
    "str1 = \"ABCABC\"\n",
    "str2 = \"ABC\"\n",
    "result = gcdOfStrings(str1, str2)\n",
    "print(f\"The largest string that divides both '{str1}' and '{str2}' is '{result}'.\")"
   ]
  },
  {
   "cell_type": "code",
   "execution_count": null,
   "id": "f378c4bb",
   "metadata": {},
   "outputs": [],
   "source": [
    "def numberOfMatches(n):\n",
    "    matches = 0\n",
    "    \n",
    "    while n > 1:\n",
    "        matches = matches + n//2\n",
    "        if n%2 == 0:\n",
    "            n = n // 2\n",
    "        else:\n",
    "            n = (n-1)//2+1\n",
    "    return matches\n",
    "\n",
    "\n",
    "numberOfMatches(7)"
   ]
  },
  {
   "cell_type": "code",
   "execution_count": null,
   "id": "e919beeb",
   "metadata": {},
   "outputs": [],
   "source": [
    "def common_fac(a,b):\n",
    "    count = 0\n",
    "    min_val = min(a,b)\n",
    "    res = []\n",
    "    \n",
    "    for i in range(1,min_val+1):\n",
    "        if a%i == 0 and b%i == 0:\n",
    "            res.append(i)\n",
    "    return res\n",
    "\n",
    "a,b = 12,6\n",
    "common_fac(a,b)"
   ]
  },
  {
   "cell_type": "code",
   "execution_count": null,
   "id": "98762171",
   "metadata": {},
   "outputs": [],
   "source": [
    "def prime_count(n):\n",
    "    res = []\n",
    "    \n",
    "    for i in range(2,n):\n",
    "        for j in range(2,i):\n",
    "            if i%j == 0:\n",
    "                break\n",
    "        else:\n",
    "            res.append(i)\n",
    "    return res\n",
    "\n",
    "\n",
    "n = 100\n",
    "count = prime_count(n)\n",
    "print(f\"The number of prime numbers less than or equal to {n} is: {count}\")"
   ]
  },
  {
   "cell_type": "code",
   "execution_count": null,
   "id": "8fd05bb9",
   "metadata": {},
   "outputs": [],
   "source": [
    "s1 = 0\n",
    "s2 = 10\n",
    "\n",
    "for i in range(s1,s2):\n",
    "    if i > 1:\n",
    "        for j in range(2,i):\n",
    "            if i % j == 0:\n",
    "                break\n",
    "        else:\n",
    "            print(i)"
   ]
  },
  {
   "cell_type": "code",
   "execution_count": null,
   "id": "03515f55",
   "metadata": {},
   "outputs": [],
   "source": [
    "0^2^4^6^8"
   ]
  },
  {
   "cell_type": "code",
   "execution_count": null,
   "id": "303b4407",
   "metadata": {},
   "outputs": [],
   "source": [
    "def xor_array(n, start):\n",
    "    list1 = []\n",
    "    for i in range(1,n+1):\n",
    "        list1.append(start+2*i)\n",
    "\n",
    "    res = 0\n",
    "    for i in list1:\n",
    "        res = res ^ i\n",
    "    return res\n",
    "    \n",
    "n = 5\n",
    "start = 0\n",
    "xor_array(n,start)"
   ]
  },
  {
   "cell_type": "code",
   "execution_count": null,
   "id": "b3af2145",
   "metadata": {},
   "outputs": [],
   "source": [
    "2^4^6^8^10"
   ]
  },
  {
   "cell_type": "code",
   "execution_count": null,
   "id": "fd2b2b7a",
   "metadata": {},
   "outputs": [],
   "source": [
    "def checkSortedRotation(n):\n",
    "    for i in range(len(n)-1):\n",
    "        if n[i] > n[i+1]:\n",
    "            rotated = n[i+1:]+n[:i+1]\n",
    "            return rotated == sorted(n)\n",
    "nums1 = [3, 4, 5, 1, 2]\n",
    "nums2 = [2, 1, 3, 4]\n",
    "nums3 = [1,2,3]\n",
    "\n",
    "print(checkSortedRotation(nums1))\n",
    "print(checkSortedRotation(nums2))  \n",
    "print(checkSortedRotation(nums3))"
   ]
  },
  {
   "cell_type": "code",
   "execution_count": null,
   "id": "dad3e5e5",
   "metadata": {},
   "outputs": [],
   "source": [
    "def runningSum(nums):\n",
    "    res = []\n",
    "    sum1 = 0\n",
    "    \n",
    "    for num in nums:\n",
    "        sum1 = sum1 + num\n",
    "        res.append(sum1)\n",
    "    return res\n",
    "\n",
    "\n",
    "nums = [1,2,3,4]\n",
    "runningSum(nums)"
   ]
  },
  {
   "cell_type": "code",
   "execution_count": null,
   "id": "8525ec38",
   "metadata": {},
   "outputs": [],
   "source": [
    "def mergeTwoLists(l1,l2):\n",
    "    m = len(l1)\n",
    "    n = len(l2)\n",
    "    res = []\n",
    "    \n",
    "    for i in range(m):\n",
    "        res.append(l1[i])\n",
    "    for i in range(n):\n",
    "        res.append(l2[i])\n",
    "    res.sort()\n",
    "    return res\n",
    "            \n",
    "\n",
    "list1 = [1,2,4]\n",
    "list2 = [1,3,4]\n",
    "mergeTwoLists(list1,list2)"
   ]
  },
  {
   "cell_type": "code",
   "execution_count": null,
   "id": "0c70d5c1",
   "metadata": {},
   "outputs": [],
   "source": [
    "def mergeTwoLists(l1,l2):\n",
    "    res = []\n",
    "    i = 0\n",
    "    j = 0\n",
    "    \n",
    "    while i<len(l1) and j<len(l2):\n",
    "        if l1[i] < l2[j]:\n",
    "            res.append(l1[i])\n",
    "            i = i + 1\n",
    "        else:\n",
    "            res.append(l2[j])\n",
    "            j = j +1\n",
    "    res.extend(l1[i:])\n",
    "    res.extend(l2[j:])\n",
    "    \n",
    "    return res\n",
    "\n",
    "\n",
    "\n",
    "list1 = [1,2,4]\n",
    "list2 = [1,3,4]\n",
    "mergeTwoLists(list1,list2)"
   ]
  },
  {
   "cell_type": "code",
   "execution_count": null,
   "id": "ffc32211",
   "metadata": {},
   "outputs": [],
   "source": [
    "def rowAndMaximumOnes(mat):\n",
    "    ones = 0\n",
    "    index = 0\n",
    "    \n",
    "    for ind, row in enumerate(mat):\n",
    "        c = row.count(1)\n",
    "        \n",
    "        if ones < c:\n",
    "            ones = c\n",
    "            index = ind\n",
    "    return (index, ones)\n",
    "\n",
    "mat = [[0,0],[1,1],[0,0]]\n",
    "rowAndMaximumOnes(mat)"
   ]
  },
  {
   "cell_type": "code",
   "execution_count": null,
   "id": "06996135",
   "metadata": {},
   "outputs": [],
   "source": [
    "def restoreString(s,indices):\n",
    "    \n",
    "    res = [\"\"] * len(s)\n",
    "    \n",
    "    for i in range(len(s)):\n",
    "        res[indices[i]] = s[i]\n",
    "    return \"\".join(res)\n",
    "\n",
    "s = \"codeleet\"\n",
    "indices = [4,5,6,7,0,2,1,3]\n",
    "restoreString(s, indices)"
   ]
  },
  {
   "cell_type": "code",
   "execution_count": null,
   "id": "1fd76e48",
   "metadata": {},
   "outputs": [],
   "source": [
    "def generateArray(nums):\n",
    "    res = []\n",
    "        \n",
    "    for i in range(0, len(nums),2):\n",
    "        freq = nums[i]\n",
    "        val= nums[i+1]\n",
    "        \n",
    "        subarray = [val]*freq\n",
    "        \n",
    "        res.extend(subarray)\n",
    "    return res\n",
    "\n",
    "nums1 = [1, 2, 3, 4]\n",
    "output1 = generateArray(nums1)\n",
    "print(output1)  # Output: [2, 4, 4, 4]"
   ]
  },
  {
   "cell_type": "code",
   "execution_count": null,
   "id": "f3588805",
   "metadata": {},
   "outputs": [],
   "source": [
    "def generateArray(nums):\n",
    "    res = []\n",
    "    \n",
    "    for i in range(0,len(nums),2):\n",
    "        freq = nums[i]\n",
    "        val = nums[i+1]\n",
    "        \n",
    "        subarray = [val]*freq\n",
    "        \n",
    "        res.extend(subarray)\n",
    "    return res\n",
    "\n",
    "nums2 = [1, 1, 2, 3]\n",
    "output2 = generateArray(nums2)\n",
    "print(output2)  # Output: [1, 3, 3]"
   ]
  },
  {
   "cell_type": "code",
   "execution_count": null,
   "id": "81ed6974",
   "metadata": {},
   "outputs": [],
   "source": [
    "def luckyNumbers(mat):\n",
    "    m = len(mat)\n",
    "    n = len(mat[0])\n",
    "    \n",
    "    #minimum in each row\n",
    "    row_min = []\n",
    "    for i in range(m):\n",
    "        val = min(mat[i])\n",
    "        row_min.append(val)\n",
    "    print(row_min)\n",
    "\n",
    "    col_max = []\n",
    "    for j in range(n):\n",
    "        max_in_col = mat[0][j]\n",
    "        for i in range(1,m):\n",
    "            if mat[i][j] > max_in_col:\n",
    "                max_in_col = mat[i][j]\n",
    "        col_max.append(max_in_col)\n",
    "    print(col_max)\n",
    "    \n",
    "    lucky_num = []\n",
    "    \n",
    "    for i in range(m):\n",
    "        for j in range(n):\n",
    "            if mat[i][j] == row_min[i] and mat[i][j] == col_max[j]:\n",
    "                lucky_num.append(mat[i][j])\n",
    "    return lucky_num\n",
    "        \n",
    "matrix = [[3,7,8],[9,11,13],[15,16,17]]\n",
    "luckyNumbers(matrix)"
   ]
  },
  {
   "cell_type": "code",
   "execution_count": null,
   "id": "aa462d93",
   "metadata": {},
   "outputs": [],
   "source": [
    "def fun(s):\n",
    "    s = list(s)\n",
    "    n = len(s)\n",
    "\n",
    "    for i in range(n):\n",
    "        if s[i] == '?':\n",
    "            for char in \"abcdefghijklmnopqrstuvwxyz\":\n",
    "                if (i>0 and s[i-1]!=char) or (i<n-1 and s[i+1]!=char):\n",
    "                    s[i] = char\n",
    "                    break\n",
    "    return \"\".join(s)\n",
    "\n",
    "s = \"u?v?w\"\n",
    "fun(s)"
   ]
  },
  {
   "cell_type": "code",
   "execution_count": null,
   "id": "d4966f12",
   "metadata": {},
   "outputs": [],
   "source": [
    "def upper_lower(s):\n",
    "    res = \"\"\n",
    "    \n",
    "    for char in s:\n",
    "        if ord(char)>64 and ord(char)<97:\n",
    "            res = res + chr(ord(char)+32)\n",
    "        else:\n",
    "            res = res + char\n",
    "    return res\n",
    "\n",
    "s = 'AbHi'\n",
    "upper_lower(s)"
   ]
  },
  {
   "cell_type": "code",
   "execution_count": null,
   "id": "5d125cba",
   "metadata": {},
   "outputs": [],
   "source": [
    "chr(ord('A')+32)"
   ]
  },
  {
   "cell_type": "code",
   "execution_count": null,
   "id": "609e9c9c",
   "metadata": {},
   "outputs": [],
   "source": [
    "65+32"
   ]
  },
  {
   "cell_type": "code",
   "execution_count": null,
   "id": "04083a00",
   "metadata": {},
   "outputs": [],
   "source": [
    "def ispalindrome(s):\n",
    "    res = \"\"\n",
    "    \n",
    "    for char in s:\n",
    "        if char.isalpha():\n",
    "            res = res + char.lower()\n",
    "    return res == res[::-1]\n",
    "\n",
    "\n",
    "s = \"A man, a plan, a canal: Panama\"\n",
    "ispalindrome(s)"
   ]
  },
  {
   "cell_type": "code",
   "execution_count": null,
   "id": "d0b22cfe",
   "metadata": {},
   "outputs": [],
   "source": [
    "def is_palindrome_with_one_deletion(s):\n",
    "    p1 = 0\n",
    "    p2 = len(s)-1\n",
    "    \n",
    "    while p1<=p2:\n",
    "        if s[p1] != s[p2]:\n",
    "            res1 = s[:p1]+s[p1+1:]\n",
    "            print(res1)\n",
    "            res2 = s[:p2]+s[p2+1:]\n",
    "            print(res2)\n",
    "            \n",
    "            return res1 == res1[::-1] and res2 == res2[::-1]\n",
    "        \n",
    "        p1 = p1+1\n",
    "        p2 = p2-1\n",
    "    return True\n",
    "        \n",
    "#s1 = \"cbbc\"\n",
    "#s2 = \"abca\"\n",
    "s3 = \"abc\"\n",
    "\n",
    "#print(is_palindrome_with_one_deletion(s1))  # Output: True\n",
    "#print(is_palindrome_with_one_deletion(s2))  # Output: True\n",
    "print(is_palindrome_with_one_deletion(s3))  # Output: False"
   ]
  },
  {
   "cell_type": "code",
   "execution_count": null,
   "id": "cae7d78f",
   "metadata": {},
   "outputs": [],
   "source": [
    "def repeatedSubstringPattern(s):\n",
    "    n = len(s)\n",
    "    for i in range(1,n//2+1):\n",
    "        if n%i==0:\n",
    "            substring = s[:i]\n",
    "            if s == substring * (n//2):\n",
    "                return True\n",
    "    return False\n",
    "\n",
    "\n",
    "s1 = \"abab\"\n",
    "result1 = repeatedSubstringPattern(s1)\n",
    "print(result1)"
   ]
  },
  {
   "cell_type": "code",
   "execution_count": null,
   "id": "5ac61207",
   "metadata": {},
   "outputs": [],
   "source": [
    "def findTheDifference(s,t):\n",
    "    char_count = {}\n",
    "    \n",
    "    for char in s:\n",
    "        if char in char_count:\n",
    "            char_count[char] += 1\n",
    "        else:\n",
    "            char_count[char] = 1\n",
    "    print(char_count)\n",
    "\n",
    "    for char in t:\n",
    "        if char in char_count and char_count[char]>0:\n",
    "            char_count[char] -= 1\n",
    "        else:\n",
    "            print(char)\n",
    "    print(char_count)\n",
    "\n",
    "\n",
    "s = \"abcd\"\n",
    "t = \"abcde\"\n",
    "findTheDifference(s,t)"
   ]
  },
  {
   "cell_type": "code",
   "execution_count": null,
   "id": "614883e0",
   "metadata": {},
   "outputs": [],
   "source": [
    "def dayOfYear(date):\n",
    "    \n",
    "    year, month, day = map(int, date.split('-'))\n",
    "\n",
    "    days_in_months = [0,31,28,31,30,31,30,31,31,30,31,30,31]\n",
    "    \n",
    "    if (year%4==0) and (year%400==0 or year%100!=0):\n",
    "        days_in_months[2] = 29\n",
    "        \n",
    "    number_of_days = sum(days_in_months[:month]) + day\n",
    "    \n",
    "    return number_of_days\n",
    "\n",
    "date1 = '2001-12-31'\n",
    "dayOfYear(date1)"
   ]
  },
  {
   "cell_type": "code",
   "execution_count": 43,
   "id": "71c5e399",
   "metadata": {},
   "outputs": [
    {
     "name": "stdout",
     "output_type": "stream",
     "text": [
      "True\n"
     ]
    }
   ],
   "source": [
    "def isWhiteSquare(x):\n",
    "    col, row = x[0], int(x[1])\n",
    "    \n",
    "    col_index = ord(col)-ord('a')\n",
    "\n",
    "    if (row + col_index) %2 == 0:\n",
    "        return True\n",
    "    else:\n",
    "        return False\n",
    "\n",
    "coordinates1 = \"b1\"\n",
    "print(isWhiteSquare(coordinates1))  # Output: False"
   ]
  },
  {
   "cell_type": "code",
   "execution_count": 1,
   "id": "52eae14b",
   "metadata": {},
   "outputs": [
    {
     "name": "stdout",
     "output_type": "stream",
     "text": [
      "2\n"
     ]
    }
   ],
   "source": [
    "def addDigits(num):\n",
    "    while num>=10:\n",
    "        sum1 = 0\n",
    "        while num>0:\n",
    "            rem = num%10\n",
    "            sum1 = sum1 + rem\n",
    "            num = num//10\n",
    "        num = sum1\n",
    "    return sum1\n",
    "\n",
    "num1 = 38\n",
    "print(addDigits(num1))  # Output: 2"
   ]
  },
  {
   "cell_type": "code",
   "execution_count": 6,
   "id": "9e86c5e6",
   "metadata": {},
   "outputs": [
    {
     "name": "stdout",
     "output_type": "stream",
     "text": [
      "1\n"
     ]
    }
   ],
   "source": [
    "def majorityElement(nums):\n",
    "    candi = None\n",
    "    count = 0\n",
    "    \n",
    "    for num in nums:\n",
    "        if count == 0:\n",
    "            candi = num\n",
    "        if num == candi:\n",
    "            count += 1\n",
    "        else:\n",
    "            count -= 1\n",
    "    return candi\n",
    "\n",
    "\n",
    "nums1 = [1,2,1,2,3,2,1,1,1,5,5,5]\n",
    "result1 = majorityElement(nums1)\n",
    "print(result1) "
   ]
  },
  {
   "cell_type": "code",
   "execution_count": 8,
   "id": "b0471c91",
   "metadata": {},
   "outputs": [
    {
     "name": "stdout",
     "output_type": "stream",
     "text": [
      "{0: 1, 2: 2, 4: 2}\n",
      "2\n",
      "None\n"
     ]
    }
   ],
   "source": [
    "def mostFrequentEven(nums):\n",
    "    even_counts = {}\n",
    "    \n",
    "    for num in nums:\n",
    "        if num%2==0:\n",
    "            if num in even_counts:\n",
    "                even_counts[num] += 1\n",
    "            else:\n",
    "                even_counts[num] = 1\n",
    "    print(even_counts)\n",
    "\n",
    "    max_freq = 0\n",
    "    most_freq_even = -1\n",
    "    \n",
    "    for key, val in even_counts.items():\n",
    "        if val>max_freq:\n",
    "            max_freq = val\n",
    "            most_freq_even = key\n",
    "        elif val == max_freq and key<most_freq_even:\n",
    "            most_freq_even = key\n",
    "    print(most_freq_even)\n",
    "\n",
    "\n",
    "nums1 = [0, 1, 2, 2, 4, 4, 1]\n",
    "result1 = mostFrequentEven(nums1)\n",
    "print(result1)  # Output: 2"
   ]
  },
  {
   "cell_type": "code",
   "execution_count": 21,
   "id": "43f4e8ad",
   "metadata": {},
   "outputs": [
    {
     "data": {
      "text/plain": [
       "4"
      ]
     },
     "execution_count": 21,
     "metadata": {},
     "output_type": "execute_result"
    }
   ],
   "source": [
    "def isPrefixOfWord(sentence, searchWord):\n",
    "    words = sentence.split()\n",
    "    \n",
    "    for index, word in enumerate(words):\n",
    "        if searchWord == word[:len(searchWord)]:\n",
    "            return index+1\n",
    "sentence = \"i love eating burger\"\n",
    "searchWord = \"burg\"\n",
    "isPrefixOfWord(sentence,searchWord)"
   ]
  },
  {
   "cell_type": "code",
   "execution_count": null,
   "id": "e54d1ac4",
   "metadata": {},
   "outputs": [],
   "source": []
  },
  {
   "cell_type": "code",
   "execution_count": null,
   "id": "00d2de17",
   "metadata": {},
   "outputs": [],
   "source": []
  },
  {
   "cell_type": "code",
   "execution_count": null,
   "id": "8ffe055b",
   "metadata": {},
   "outputs": [],
   "source": []
  },
  {
   "cell_type": "code",
   "execution_count": null,
   "id": "7ffcbcf2",
   "metadata": {},
   "outputs": [],
   "source": []
  },
  {
   "cell_type": "code",
   "execution_count": null,
   "id": "98a00019",
   "metadata": {},
   "outputs": [],
   "source": []
  },
  {
   "cell_type": "code",
   "execution_count": null,
   "id": "8c85e530",
   "metadata": {},
   "outputs": [],
   "source": []
  },
  {
   "cell_type": "code",
   "execution_count": null,
   "id": "5ec7ab06",
   "metadata": {},
   "outputs": [],
   "source": []
  },
  {
   "cell_type": "code",
   "execution_count": null,
   "id": "15379326",
   "metadata": {},
   "outputs": [],
   "source": []
  },
  {
   "cell_type": "code",
   "execution_count": null,
   "id": "ca264d3d",
   "metadata": {},
   "outputs": [],
   "source": []
  },
  {
   "cell_type": "code",
   "execution_count": null,
   "id": "2eb59d50",
   "metadata": {},
   "outputs": [],
   "source": []
  },
  {
   "cell_type": "code",
   "execution_count": null,
   "id": "063acfbc",
   "metadata": {},
   "outputs": [],
   "source": []
  },
  {
   "cell_type": "code",
   "execution_count": null,
   "id": "13afcca7",
   "metadata": {},
   "outputs": [],
   "source": []
  },
  {
   "cell_type": "code",
   "execution_count": null,
   "id": "60d31d1e",
   "metadata": {},
   "outputs": [],
   "source": []
  },
  {
   "cell_type": "code",
   "execution_count": null,
   "id": "f3322a4d",
   "metadata": {},
   "outputs": [],
   "source": []
  },
  {
   "cell_type": "code",
   "execution_count": null,
   "id": "fa98d24e",
   "metadata": {},
   "outputs": [],
   "source": []
  },
  {
   "cell_type": "code",
   "execution_count": null,
   "id": "3c30769b",
   "metadata": {},
   "outputs": [],
   "source": []
  },
  {
   "cell_type": "code",
   "execution_count": null,
   "id": "3cac1950",
   "metadata": {},
   "outputs": [],
   "source": []
  },
  {
   "cell_type": "code",
   "execution_count": null,
   "id": "c9ed5796",
   "metadata": {},
   "outputs": [],
   "source": []
  },
  {
   "cell_type": "code",
   "execution_count": null,
   "id": "d1a236de",
   "metadata": {},
   "outputs": [],
   "source": []
  },
  {
   "cell_type": "code",
   "execution_count": null,
   "id": "9ad2c2d5",
   "metadata": {},
   "outputs": [],
   "source": []
  },
  {
   "cell_type": "code",
   "execution_count": null,
   "id": "c00e65af",
   "metadata": {},
   "outputs": [],
   "source": []
  },
  {
   "cell_type": "code",
   "execution_count": null,
   "id": "78d81379",
   "metadata": {},
   "outputs": [],
   "source": []
  },
  {
   "cell_type": "code",
   "execution_count": null,
   "id": "573d931d",
   "metadata": {},
   "outputs": [],
   "source": []
  },
  {
   "cell_type": "code",
   "execution_count": null,
   "id": "362770be",
   "metadata": {},
   "outputs": [],
   "source": []
  },
  {
   "cell_type": "code",
   "execution_count": null,
   "id": "c95516f8",
   "metadata": {},
   "outputs": [],
   "source": []
  },
  {
   "cell_type": "code",
   "execution_count": null,
   "id": "c1018fee",
   "metadata": {},
   "outputs": [],
   "source": []
  },
  {
   "cell_type": "code",
   "execution_count": null,
   "id": "43a9c530",
   "metadata": {},
   "outputs": [],
   "source": []
  },
  {
   "cell_type": "code",
   "execution_count": null,
   "id": "2bf535fb",
   "metadata": {},
   "outputs": [],
   "source": []
  },
  {
   "cell_type": "code",
   "execution_count": null,
   "id": "fa1ec75a",
   "metadata": {},
   "outputs": [],
   "source": []
  },
  {
   "cell_type": "code",
   "execution_count": null,
   "id": "66857ce7",
   "metadata": {},
   "outputs": [],
   "source": []
  },
  {
   "cell_type": "code",
   "execution_count": null,
   "id": "e4cc1eba",
   "metadata": {},
   "outputs": [],
   "source": []
  },
  {
   "cell_type": "code",
   "execution_count": null,
   "id": "99497393",
   "metadata": {},
   "outputs": [],
   "source": []
  },
  {
   "cell_type": "code",
   "execution_count": null,
   "id": "ac3a3d8a",
   "metadata": {},
   "outputs": [],
   "source": []
  },
  {
   "cell_type": "code",
   "execution_count": null,
   "id": "b34f6661",
   "metadata": {},
   "outputs": [],
   "source": []
  },
  {
   "cell_type": "code",
   "execution_count": null,
   "id": "201a09a4",
   "metadata": {},
   "outputs": [],
   "source": []
  },
  {
   "cell_type": "code",
   "execution_count": null,
   "id": "da65cece",
   "metadata": {},
   "outputs": [],
   "source": []
  },
  {
   "cell_type": "code",
   "execution_count": null,
   "id": "70af65ca",
   "metadata": {},
   "outputs": [],
   "source": []
  },
  {
   "cell_type": "code",
   "execution_count": null,
   "id": "a3f6fc41",
   "metadata": {},
   "outputs": [],
   "source": []
  },
  {
   "cell_type": "code",
   "execution_count": null,
   "id": "229984d2",
   "metadata": {},
   "outputs": [],
   "source": []
  },
  {
   "cell_type": "code",
   "execution_count": null,
   "id": "34f51485",
   "metadata": {},
   "outputs": [],
   "source": []
  },
  {
   "cell_type": "code",
   "execution_count": null,
   "id": "f59430b9",
   "metadata": {},
   "outputs": [],
   "source": []
  },
  {
   "cell_type": "code",
   "execution_count": null,
   "id": "7631f294",
   "metadata": {},
   "outputs": [],
   "source": []
  },
  {
   "cell_type": "code",
   "execution_count": null,
   "id": "91848132",
   "metadata": {},
   "outputs": [],
   "source": []
  },
  {
   "cell_type": "code",
   "execution_count": null,
   "id": "b74aa39c",
   "metadata": {},
   "outputs": [],
   "source": []
  },
  {
   "cell_type": "code",
   "execution_count": null,
   "id": "5b509113",
   "metadata": {},
   "outputs": [],
   "source": []
  },
  {
   "cell_type": "code",
   "execution_count": null,
   "id": "92e3f506",
   "metadata": {},
   "outputs": [],
   "source": []
  },
  {
   "cell_type": "code",
   "execution_count": null,
   "id": "2a8ed580",
   "metadata": {},
   "outputs": [],
   "source": []
  },
  {
   "cell_type": "code",
   "execution_count": null,
   "id": "0a9b547f",
   "metadata": {},
   "outputs": [],
   "source": []
  },
  {
   "cell_type": "code",
   "execution_count": null,
   "id": "9d4d2b78",
   "metadata": {},
   "outputs": [],
   "source": []
  },
  {
   "cell_type": "code",
   "execution_count": null,
   "id": "d6fa3ad5",
   "metadata": {},
   "outputs": [],
   "source": []
  },
  {
   "cell_type": "code",
   "execution_count": null,
   "id": "617362fe",
   "metadata": {},
   "outputs": [],
   "source": []
  },
  {
   "cell_type": "code",
   "execution_count": null,
   "id": "6bb30bd5",
   "metadata": {},
   "outputs": [],
   "source": []
  },
  {
   "cell_type": "code",
   "execution_count": null,
   "id": "798d9761",
   "metadata": {},
   "outputs": [],
   "source": []
  },
  {
   "cell_type": "code",
   "execution_count": null,
   "id": "d163fe9d",
   "metadata": {},
   "outputs": [],
   "source": []
  },
  {
   "cell_type": "code",
   "execution_count": null,
   "id": "8d0b812c",
   "metadata": {},
   "outputs": [],
   "source": []
  },
  {
   "cell_type": "code",
   "execution_count": null,
   "id": "76d35e8a",
   "metadata": {},
   "outputs": [],
   "source": []
  },
  {
   "cell_type": "code",
   "execution_count": null,
   "id": "1c1cf0e5",
   "metadata": {},
   "outputs": [],
   "source": []
  },
  {
   "cell_type": "code",
   "execution_count": null,
   "id": "4e0b7606",
   "metadata": {},
   "outputs": [],
   "source": []
  },
  {
   "cell_type": "code",
   "execution_count": null,
   "id": "4a7e01ae",
   "metadata": {},
   "outputs": [],
   "source": []
  },
  {
   "cell_type": "code",
   "execution_count": null,
   "id": "731f1258",
   "metadata": {},
   "outputs": [],
   "source": []
  },
  {
   "cell_type": "code",
   "execution_count": null,
   "id": "0ad073bc",
   "metadata": {},
   "outputs": [],
   "source": []
  },
  {
   "cell_type": "code",
   "execution_count": null,
   "id": "84c18f27",
   "metadata": {},
   "outputs": [],
   "source": []
  },
  {
   "cell_type": "code",
   "execution_count": null,
   "id": "5d397e35",
   "metadata": {},
   "outputs": [],
   "source": []
  },
  {
   "cell_type": "code",
   "execution_count": null,
   "id": "ca9523f9",
   "metadata": {},
   "outputs": [],
   "source": []
  },
  {
   "cell_type": "code",
   "execution_count": null,
   "id": "496cb015",
   "metadata": {},
   "outputs": [],
   "source": []
  },
  {
   "cell_type": "code",
   "execution_count": null,
   "id": "85bc8d2f",
   "metadata": {},
   "outputs": [],
   "source": []
  },
  {
   "cell_type": "code",
   "execution_count": null,
   "id": "f8d77be4",
   "metadata": {},
   "outputs": [],
   "source": []
  },
  {
   "cell_type": "code",
   "execution_count": null,
   "id": "6c594369",
   "metadata": {},
   "outputs": [],
   "source": []
  },
  {
   "cell_type": "code",
   "execution_count": null,
   "id": "b8ecd3fc",
   "metadata": {},
   "outputs": [],
   "source": []
  },
  {
   "cell_type": "code",
   "execution_count": null,
   "id": "eec54f7f",
   "metadata": {},
   "outputs": [],
   "source": []
  },
  {
   "cell_type": "code",
   "execution_count": null,
   "id": "c57aef7b",
   "metadata": {},
   "outputs": [],
   "source": []
  },
  {
   "cell_type": "code",
   "execution_count": null,
   "id": "b0ef04a6",
   "metadata": {},
   "outputs": [],
   "source": []
  },
  {
   "cell_type": "code",
   "execution_count": null,
   "id": "99749a38",
   "metadata": {},
   "outputs": [],
   "source": []
  },
  {
   "cell_type": "code",
   "execution_count": null,
   "id": "ab4359bc",
   "metadata": {},
   "outputs": [],
   "source": []
  },
  {
   "cell_type": "code",
   "execution_count": null,
   "id": "560e4408",
   "metadata": {},
   "outputs": [],
   "source": []
  },
  {
   "cell_type": "code",
   "execution_count": null,
   "id": "c38f34ec",
   "metadata": {},
   "outputs": [],
   "source": []
  },
  {
   "cell_type": "code",
   "execution_count": null,
   "id": "1854a151",
   "metadata": {},
   "outputs": [],
   "source": []
  },
  {
   "cell_type": "code",
   "execution_count": null,
   "id": "4cbe9c18",
   "metadata": {},
   "outputs": [],
   "source": []
  },
  {
   "cell_type": "code",
   "execution_count": null,
   "id": "e971b603",
   "metadata": {},
   "outputs": [],
   "source": []
  },
  {
   "cell_type": "code",
   "execution_count": null,
   "id": "ddcf8971",
   "metadata": {},
   "outputs": [],
   "source": []
  },
  {
   "cell_type": "code",
   "execution_count": null,
   "id": "49287014",
   "metadata": {},
   "outputs": [],
   "source": []
  },
  {
   "cell_type": "code",
   "execution_count": null,
   "id": "a5aa3e2d",
   "metadata": {},
   "outputs": [],
   "source": []
  },
  {
   "cell_type": "code",
   "execution_count": null,
   "id": "6873142f",
   "metadata": {},
   "outputs": [],
   "source": []
  },
  {
   "cell_type": "code",
   "execution_count": null,
   "id": "66fb2747",
   "metadata": {},
   "outputs": [],
   "source": []
  },
  {
   "cell_type": "code",
   "execution_count": null,
   "id": "aeec3421",
   "metadata": {},
   "outputs": [],
   "source": []
  },
  {
   "cell_type": "code",
   "execution_count": null,
   "id": "380913a8",
   "metadata": {},
   "outputs": [],
   "source": []
  },
  {
   "cell_type": "code",
   "execution_count": null,
   "id": "10800635",
   "metadata": {},
   "outputs": [],
   "source": []
  },
  {
   "cell_type": "code",
   "execution_count": null,
   "id": "2e657a17",
   "metadata": {},
   "outputs": [],
   "source": []
  },
  {
   "cell_type": "code",
   "execution_count": null,
   "id": "74b89521",
   "metadata": {},
   "outputs": [],
   "source": []
  },
  {
   "cell_type": "code",
   "execution_count": null,
   "id": "8afcc458",
   "metadata": {},
   "outputs": [],
   "source": []
  },
  {
   "cell_type": "code",
   "execution_count": null,
   "id": "1a59d2fa",
   "metadata": {},
   "outputs": [],
   "source": []
  },
  {
   "cell_type": "code",
   "execution_count": null,
   "id": "38cb1ca3",
   "metadata": {},
   "outputs": [],
   "source": []
  },
  {
   "cell_type": "code",
   "execution_count": null,
   "id": "032454af",
   "metadata": {},
   "outputs": [],
   "source": []
  },
  {
   "cell_type": "code",
   "execution_count": null,
   "id": "09239e04",
   "metadata": {},
   "outputs": [],
   "source": []
  },
  {
   "cell_type": "code",
   "execution_count": null,
   "id": "973fec1d",
   "metadata": {},
   "outputs": [],
   "source": []
  },
  {
   "cell_type": "code",
   "execution_count": null,
   "id": "82bcbc89",
   "metadata": {},
   "outputs": [],
   "source": []
  },
  {
   "cell_type": "code",
   "execution_count": null,
   "id": "a30ed36d",
   "metadata": {},
   "outputs": [],
   "source": []
  },
  {
   "cell_type": "code",
   "execution_count": null,
   "id": "c1ad008f",
   "metadata": {},
   "outputs": [],
   "source": []
  },
  {
   "cell_type": "code",
   "execution_count": null,
   "id": "bb7ef05e",
   "metadata": {},
   "outputs": [],
   "source": []
  },
  {
   "cell_type": "code",
   "execution_count": null,
   "id": "4a9fed1a",
   "metadata": {},
   "outputs": [],
   "source": []
  },
  {
   "cell_type": "code",
   "execution_count": null,
   "id": "9c4416c1",
   "metadata": {},
   "outputs": [],
   "source": []
  },
  {
   "cell_type": "code",
   "execution_count": null,
   "id": "56994493",
   "metadata": {},
   "outputs": [],
   "source": []
  },
  {
   "cell_type": "code",
   "execution_count": null,
   "id": "0e123ce5",
   "metadata": {},
   "outputs": [],
   "source": []
  },
  {
   "cell_type": "code",
   "execution_count": null,
   "id": "b63f9921",
   "metadata": {},
   "outputs": [],
   "source": []
  },
  {
   "cell_type": "code",
   "execution_count": null,
   "id": "96fd9ab0",
   "metadata": {},
   "outputs": [],
   "source": []
  },
  {
   "cell_type": "code",
   "execution_count": null,
   "id": "4fb58046",
   "metadata": {},
   "outputs": [],
   "source": []
  },
  {
   "cell_type": "code",
   "execution_count": null,
   "id": "67e1a808",
   "metadata": {},
   "outputs": [],
   "source": []
  },
  {
   "cell_type": "code",
   "execution_count": null,
   "id": "7e4aab09",
   "metadata": {},
   "outputs": [],
   "source": []
  },
  {
   "cell_type": "code",
   "execution_count": null,
   "id": "cd3a01f7",
   "metadata": {},
   "outputs": [],
   "source": []
  },
  {
   "cell_type": "code",
   "execution_count": null,
   "id": "c19a606e",
   "metadata": {},
   "outputs": [],
   "source": []
  },
  {
   "cell_type": "code",
   "execution_count": null,
   "id": "fc498a62",
   "metadata": {},
   "outputs": [],
   "source": []
  },
  {
   "cell_type": "code",
   "execution_count": null,
   "id": "93ec5142",
   "metadata": {},
   "outputs": [],
   "source": []
  },
  {
   "cell_type": "code",
   "execution_count": null,
   "id": "7a821f37",
   "metadata": {},
   "outputs": [],
   "source": []
  },
  {
   "cell_type": "code",
   "execution_count": null,
   "id": "db0e5ab2",
   "metadata": {},
   "outputs": [],
   "source": []
  },
  {
   "cell_type": "code",
   "execution_count": null,
   "id": "8e06a220",
   "metadata": {},
   "outputs": [],
   "source": []
  },
  {
   "cell_type": "code",
   "execution_count": null,
   "id": "0b068fd5",
   "metadata": {},
   "outputs": [],
   "source": []
  },
  {
   "cell_type": "code",
   "execution_count": null,
   "id": "9c3e6464",
   "metadata": {},
   "outputs": [],
   "source": []
  },
  {
   "cell_type": "code",
   "execution_count": null,
   "id": "e4dfa344",
   "metadata": {},
   "outputs": [],
   "source": []
  },
  {
   "cell_type": "code",
   "execution_count": null,
   "id": "89901bda",
   "metadata": {},
   "outputs": [],
   "source": []
  },
  {
   "cell_type": "code",
   "execution_count": null,
   "id": "a68a8a77",
   "metadata": {},
   "outputs": [],
   "source": []
  },
  {
   "cell_type": "code",
   "execution_count": null,
   "id": "b1e2e822",
   "metadata": {},
   "outputs": [],
   "source": []
  },
  {
   "cell_type": "code",
   "execution_count": null,
   "id": "9793f4bc",
   "metadata": {},
   "outputs": [],
   "source": []
  },
  {
   "cell_type": "code",
   "execution_count": null,
   "id": "ec3b3f5f",
   "metadata": {},
   "outputs": [],
   "source": []
  },
  {
   "cell_type": "code",
   "execution_count": null,
   "id": "be987391",
   "metadata": {},
   "outputs": [],
   "source": []
  },
  {
   "cell_type": "code",
   "execution_count": null,
   "id": "6acac35b",
   "metadata": {},
   "outputs": [],
   "source": []
  },
  {
   "cell_type": "code",
   "execution_count": null,
   "id": "6964e435",
   "metadata": {},
   "outputs": [],
   "source": []
  },
  {
   "cell_type": "code",
   "execution_count": null,
   "id": "3403c6a0",
   "metadata": {},
   "outputs": [],
   "source": []
  },
  {
   "cell_type": "code",
   "execution_count": null,
   "id": "5e591786",
   "metadata": {},
   "outputs": [],
   "source": []
  },
  {
   "cell_type": "code",
   "execution_count": null,
   "id": "9f448738",
   "metadata": {},
   "outputs": [],
   "source": []
  },
  {
   "cell_type": "code",
   "execution_count": null,
   "id": "4bb87437",
   "metadata": {},
   "outputs": [],
   "source": []
  },
  {
   "cell_type": "code",
   "execution_count": null,
   "id": "c2195aea",
   "metadata": {},
   "outputs": [],
   "source": []
  },
  {
   "cell_type": "code",
   "execution_count": null,
   "id": "dd4f1be0",
   "metadata": {},
   "outputs": [],
   "source": []
  },
  {
   "cell_type": "code",
   "execution_count": null,
   "id": "628d43f0",
   "metadata": {},
   "outputs": [],
   "source": []
  },
  {
   "cell_type": "code",
   "execution_count": null,
   "id": "fdd7503a",
   "metadata": {},
   "outputs": [],
   "source": []
  },
  {
   "cell_type": "code",
   "execution_count": null,
   "id": "9f16c6bf",
   "metadata": {},
   "outputs": [],
   "source": []
  },
  {
   "cell_type": "code",
   "execution_count": null,
   "id": "f529765c",
   "metadata": {},
   "outputs": [],
   "source": []
  },
  {
   "cell_type": "code",
   "execution_count": null,
   "id": "aec1ef22",
   "metadata": {},
   "outputs": [],
   "source": []
  },
  {
   "cell_type": "code",
   "execution_count": null,
   "id": "23f2e96e",
   "metadata": {},
   "outputs": [],
   "source": []
  },
  {
   "cell_type": "code",
   "execution_count": null,
   "id": "d233d628",
   "metadata": {},
   "outputs": [],
   "source": []
  },
  {
   "cell_type": "code",
   "execution_count": null,
   "id": "58031b76",
   "metadata": {},
   "outputs": [],
   "source": []
  },
  {
   "cell_type": "code",
   "execution_count": null,
   "id": "6a38a9ca",
   "metadata": {},
   "outputs": [],
   "source": []
  },
  {
   "cell_type": "code",
   "execution_count": null,
   "id": "f91c3951",
   "metadata": {},
   "outputs": [],
   "source": []
  },
  {
   "cell_type": "code",
   "execution_count": null,
   "id": "bf6c1477",
   "metadata": {},
   "outputs": [],
   "source": []
  },
  {
   "cell_type": "code",
   "execution_count": null,
   "id": "1fbe0691",
   "metadata": {},
   "outputs": [],
   "source": []
  },
  {
   "cell_type": "code",
   "execution_count": null,
   "id": "4a9e14fd",
   "metadata": {},
   "outputs": [],
   "source": []
  },
  {
   "cell_type": "code",
   "execution_count": null,
   "id": "25a35cd7",
   "metadata": {},
   "outputs": [],
   "source": []
  },
  {
   "cell_type": "code",
   "execution_count": null,
   "id": "7d1055d8",
   "metadata": {},
   "outputs": [],
   "source": []
  },
  {
   "cell_type": "code",
   "execution_count": null,
   "id": "83185dfb",
   "metadata": {},
   "outputs": [],
   "source": []
  },
  {
   "cell_type": "code",
   "execution_count": null,
   "id": "32df0908",
   "metadata": {},
   "outputs": [],
   "source": []
  },
  {
   "cell_type": "code",
   "execution_count": null,
   "id": "6fa47022",
   "metadata": {},
   "outputs": [],
   "source": []
  },
  {
   "cell_type": "code",
   "execution_count": null,
   "id": "b9e7a934",
   "metadata": {},
   "outputs": [],
   "source": []
  },
  {
   "cell_type": "code",
   "execution_count": null,
   "id": "49b7c004",
   "metadata": {},
   "outputs": [],
   "source": []
  },
  {
   "cell_type": "code",
   "execution_count": null,
   "id": "c97336b8",
   "metadata": {},
   "outputs": [],
   "source": []
  },
  {
   "cell_type": "code",
   "execution_count": null,
   "id": "4519a64b",
   "metadata": {},
   "outputs": [],
   "source": []
  },
  {
   "cell_type": "code",
   "execution_count": null,
   "id": "48d8b183",
   "metadata": {},
   "outputs": [],
   "source": []
  },
  {
   "cell_type": "code",
   "execution_count": null,
   "id": "e0c1504c",
   "metadata": {},
   "outputs": [],
   "source": []
  },
  {
   "cell_type": "code",
   "execution_count": null,
   "id": "8145d450",
   "metadata": {},
   "outputs": [],
   "source": []
  },
  {
   "cell_type": "code",
   "execution_count": null,
   "id": "9d462336",
   "metadata": {},
   "outputs": [],
   "source": []
  },
  {
   "cell_type": "code",
   "execution_count": null,
   "id": "76295126",
   "metadata": {},
   "outputs": [],
   "source": []
  },
  {
   "cell_type": "code",
   "execution_count": null,
   "id": "9caa6fa3",
   "metadata": {},
   "outputs": [],
   "source": []
  },
  {
   "cell_type": "code",
   "execution_count": null,
   "id": "61813420",
   "metadata": {},
   "outputs": [],
   "source": []
  },
  {
   "cell_type": "code",
   "execution_count": null,
   "id": "8b3992bc",
   "metadata": {},
   "outputs": [],
   "source": []
  },
  {
   "cell_type": "code",
   "execution_count": null,
   "id": "cfb0b23e",
   "metadata": {},
   "outputs": [],
   "source": []
  },
  {
   "cell_type": "code",
   "execution_count": null,
   "id": "dcec4822",
   "metadata": {},
   "outputs": [],
   "source": []
  },
  {
   "cell_type": "code",
   "execution_count": null,
   "id": "b13b730b",
   "metadata": {},
   "outputs": [],
   "source": []
  },
  {
   "cell_type": "code",
   "execution_count": null,
   "id": "ac3be2b0",
   "metadata": {},
   "outputs": [],
   "source": []
  },
  {
   "cell_type": "code",
   "execution_count": null,
   "id": "84cae322",
   "metadata": {},
   "outputs": [],
   "source": []
  },
  {
   "cell_type": "code",
   "execution_count": null,
   "id": "c28b55a6",
   "metadata": {},
   "outputs": [],
   "source": []
  },
  {
   "cell_type": "code",
   "execution_count": null,
   "id": "38fba58b",
   "metadata": {},
   "outputs": [],
   "source": []
  },
  {
   "cell_type": "code",
   "execution_count": null,
   "id": "ff663a67",
   "metadata": {},
   "outputs": [],
   "source": []
  },
  {
   "cell_type": "code",
   "execution_count": null,
   "id": "ff097eff",
   "metadata": {},
   "outputs": [],
   "source": []
  },
  {
   "cell_type": "code",
   "execution_count": null,
   "id": "7293aa1e",
   "metadata": {},
   "outputs": [],
   "source": []
  },
  {
   "cell_type": "code",
   "execution_count": null,
   "id": "e5200527",
   "metadata": {},
   "outputs": [],
   "source": []
  },
  {
   "cell_type": "code",
   "execution_count": null,
   "id": "5303827f",
   "metadata": {},
   "outputs": [],
   "source": []
  },
  {
   "cell_type": "code",
   "execution_count": null,
   "id": "149587a5",
   "metadata": {},
   "outputs": [],
   "source": []
  },
  {
   "cell_type": "code",
   "execution_count": null,
   "id": "06e6659f",
   "metadata": {},
   "outputs": [],
   "source": []
  },
  {
   "cell_type": "code",
   "execution_count": null,
   "id": "90d83485",
   "metadata": {},
   "outputs": [],
   "source": []
  },
  {
   "cell_type": "code",
   "execution_count": null,
   "id": "13f450c3",
   "metadata": {},
   "outputs": [],
   "source": []
  },
  {
   "cell_type": "code",
   "execution_count": null,
   "id": "f781aa4b",
   "metadata": {},
   "outputs": [],
   "source": []
  },
  {
   "cell_type": "code",
   "execution_count": null,
   "id": "c70fc2ca",
   "metadata": {},
   "outputs": [],
   "source": []
  },
  {
   "cell_type": "code",
   "execution_count": null,
   "id": "a8cc4efa",
   "metadata": {},
   "outputs": [],
   "source": []
  },
  {
   "cell_type": "code",
   "execution_count": null,
   "id": "4f66f745",
   "metadata": {},
   "outputs": [],
   "source": []
  },
  {
   "cell_type": "code",
   "execution_count": null,
   "id": "f56992ac",
   "metadata": {},
   "outputs": [],
   "source": []
  },
  {
   "cell_type": "code",
   "execution_count": null,
   "id": "bdec5af2",
   "metadata": {},
   "outputs": [],
   "source": []
  },
  {
   "cell_type": "code",
   "execution_count": null,
   "id": "0060a7c8",
   "metadata": {},
   "outputs": [],
   "source": []
  },
  {
   "cell_type": "code",
   "execution_count": null,
   "id": "d4b1d6b3",
   "metadata": {},
   "outputs": [],
   "source": []
  },
  {
   "cell_type": "code",
   "execution_count": null,
   "id": "02457b48",
   "metadata": {},
   "outputs": [],
   "source": []
  },
  {
   "cell_type": "code",
   "execution_count": null,
   "id": "54cfc660",
   "metadata": {},
   "outputs": [],
   "source": []
  },
  {
   "cell_type": "code",
   "execution_count": null,
   "id": "a487e7b1",
   "metadata": {},
   "outputs": [],
   "source": []
  },
  {
   "cell_type": "code",
   "execution_count": null,
   "id": "54a1d85b",
   "metadata": {},
   "outputs": [],
   "source": []
  },
  {
   "cell_type": "code",
   "execution_count": null,
   "id": "c7ef5209",
   "metadata": {},
   "outputs": [],
   "source": []
  },
  {
   "cell_type": "code",
   "execution_count": null,
   "id": "98298501",
   "metadata": {},
   "outputs": [],
   "source": []
  },
  {
   "cell_type": "code",
   "execution_count": null,
   "id": "a844e554",
   "metadata": {},
   "outputs": [],
   "source": []
  },
  {
   "cell_type": "code",
   "execution_count": null,
   "id": "91d92463",
   "metadata": {},
   "outputs": [],
   "source": []
  },
  {
   "cell_type": "code",
   "execution_count": null,
   "id": "0fb53e6c",
   "metadata": {},
   "outputs": [],
   "source": []
  },
  {
   "cell_type": "code",
   "execution_count": null,
   "id": "079dc0e5",
   "metadata": {},
   "outputs": [],
   "source": []
  },
  {
   "cell_type": "code",
   "execution_count": null,
   "id": "9d10b9e8",
   "metadata": {},
   "outputs": [],
   "source": []
  },
  {
   "cell_type": "code",
   "execution_count": null,
   "id": "2822ac93",
   "metadata": {},
   "outputs": [],
   "source": []
  },
  {
   "cell_type": "code",
   "execution_count": null,
   "id": "a11395e3",
   "metadata": {},
   "outputs": [],
   "source": []
  },
  {
   "cell_type": "code",
   "execution_count": null,
   "id": "56a7f158",
   "metadata": {},
   "outputs": [],
   "source": []
  },
  {
   "cell_type": "code",
   "execution_count": null,
   "id": "be56ee83",
   "metadata": {},
   "outputs": [],
   "source": []
  },
  {
   "cell_type": "code",
   "execution_count": null,
   "id": "b1d670c3",
   "metadata": {},
   "outputs": [],
   "source": []
  },
  {
   "cell_type": "code",
   "execution_count": null,
   "id": "ac7da771",
   "metadata": {},
   "outputs": [],
   "source": []
  },
  {
   "cell_type": "code",
   "execution_count": null,
   "id": "5c546ac2",
   "metadata": {},
   "outputs": [],
   "source": []
  },
  {
   "cell_type": "code",
   "execution_count": null,
   "id": "cd11ab6a",
   "metadata": {},
   "outputs": [],
   "source": []
  },
  {
   "cell_type": "code",
   "execution_count": null,
   "id": "f13c3885",
   "metadata": {},
   "outputs": [],
   "source": []
  },
  {
   "cell_type": "code",
   "execution_count": null,
   "id": "f91877ac",
   "metadata": {},
   "outputs": [],
   "source": []
  },
  {
   "cell_type": "code",
   "execution_count": null,
   "id": "7761f607",
   "metadata": {},
   "outputs": [],
   "source": []
  },
  {
   "cell_type": "code",
   "execution_count": null,
   "id": "2100509f",
   "metadata": {},
   "outputs": [],
   "source": []
  },
  {
   "cell_type": "code",
   "execution_count": null,
   "id": "3a2dfca5",
   "metadata": {},
   "outputs": [],
   "source": []
  }
 ],
 "metadata": {
  "kernelspec": {
   "display_name": "Python 3 (ipykernel)",
   "language": "python",
   "name": "python3"
  },
  "language_info": {
   "codemirror_mode": {
    "name": "ipython",
    "version": 3
   },
   "file_extension": ".py",
   "mimetype": "text/x-python",
   "name": "python",
   "nbconvert_exporter": "python",
   "pygments_lexer": "ipython3",
   "version": "3.11.5"
  }
 },
 "nbformat": 4,
 "nbformat_minor": 5
}
