{
 "cells": [
  {
   "cell_type": "code",
   "execution_count": 39,
   "id": "0f716956",
   "metadata": {},
   "outputs": [
    {
     "data": {
      "text/plain": [
       "(309.65, 97.7)"
      ]
     },
     "execution_count": 39,
     "metadata": {},
     "output_type": "execute_result"
    }
   ],
   "source": [
    "#2469. Convert the Temperature\n",
    "#Input: celsius = 36.50\n",
    "#Output: [309.65000,97.70000]\n",
    "\n",
    "def convertTemperature(celsius):\n",
    "        Kelvin = celsius + 273.15\n",
    "        Fahrenheit = celsius * 1.80 + 32.00\n",
    "        return Kelvin, Fahrenheit\n",
    "convertTemperature(36.50)"
   ]
  },
  {
   "cell_type": "code",
   "execution_count": 40,
   "id": "e6a06c55",
   "metadata": {},
   "outputs": [
    {
     "name": "stdout",
     "output_type": "stream",
     "text": [
      "1\n"
     ]
    }
   ],
   "source": [
    "#1360. Number of Days Between Two Dates\n",
    "#Input: date1 = \"2019-06-29\", date2 = \"2019-06-30\"\n",
    "#Output: 1\n",
    "\n",
    "from datetime import datetime\n",
    "date1 = \"2019-06-29\"\n",
    "date2 = \"2019-06-30\"\n",
    "\n",
    "date1_obj = datetime.strptime(date1,\"%Y-%m-%d\")\n",
    "date2_obj = datetime.strptime(date2,\"%Y-%m-%d\")\n",
    "\n",
    "diff = date2_obj - date1_obj\n",
    "print(diff.days)"
   ]
  },
  {
   "cell_type": "code",
   "execution_count": 4,
   "id": "1e07e949",
   "metadata": {},
   "outputs": [
    {
     "name": "stdout",
     "output_type": "stream",
     "text": [
      "430\n"
     ]
    }
   ],
   "source": [
    "from datetime import date\n",
    "\n",
    "d1 = date(2023,5,11)\n",
    "d2 = date(2024,7,14)\n",
    "\n",
    "diff = abs(d1-d2)\n",
    "print(diff.days)"
   ]
  },
  {
   "cell_type": "code",
   "execution_count": 41,
   "id": "9108d0f3",
   "metadata": {},
   "outputs": [
    {
     "name": "stdout",
     "output_type": "stream",
     "text": [
      "3\n"
     ]
    }
   ],
   "source": [
    "#2409. Count Days Spent Together\n",
    "#Input: arriveAlice = \"08-15\", leaveAlice = \"08-18\", arriveBob = \"08-16\", leaveBob = \"08-19\"\n",
    "#Output: 3\n",
    "\n",
    "from datetime import datetime\n",
    "arriveAlice = \"08-15\"\n",
    "leaveAlice = \"08-18\"\n",
    "arriveBob = \"08-16\"\n",
    "leaveBob = \"08-19\"\n",
    "\n",
    "start = max(arriveAlice, arriveBob)\n",
    "end = min(leaveAlice, leaveBob)\n",
    "\n",
    "if start > end:\n",
    "    print(False)\n",
    "x = datetime.strptime(start,'%m-%d')\n",
    "y = datetime.strptime(end, '%m-%d')\n",
    "print(abs(y-x).days+1)"
   ]
  },
  {
   "cell_type": "code",
   "execution_count": 2,
   "id": "627666cb",
   "metadata": {},
   "outputs": [
    {
     "name": "stdout",
     "output_type": "stream",
     "text": [
      "The smallest multiple of both 3 and 2 is 6.\n"
     ]
    }
   ],
   "source": [
    "#2413. Smallest Even Multiple\n",
    "#Input: n = 5\n",
    "#Output: 10\n",
    "#Explanation: The smallest multiple of both 5 and 2 is 10.\n",
    "def find_smallest_multiple(n):\n",
    "    # Start with the larger of n and 2\n",
    "    multiple = max(n, 2)\n",
    "\n",
    "    while True:\n",
    "        # Check if the current multiple is divisible by both n and 2\n",
    "        if multiple % n == 0 and multiple % 2 == 0:\n",
    "            return multiple\n",
    "        multiple += 1\n",
    "\n",
    "# Input\n",
    "n = 3\n",
    "\n",
    "# Call the function and print the result\n",
    "result = find_smallest_multiple(n)\n",
    "print(f\"The smallest multiple of both {n} and 2 is {result}.\")\n"
   ]
  },
  {
   "cell_type": "code",
   "execution_count": 5,
   "id": "90127889",
   "metadata": {},
   "outputs": [
    {
     "data": {
      "text/plain": [
       "4"
      ]
     },
     "execution_count": 5,
     "metadata": {},
     "output_type": "execute_result"
    }
   ],
   "source": [
    "#GCD of two numbers\n",
    "\n",
    "def gcd(n1,n2):\n",
    "    while n2:\n",
    "        n1, n2 = n2, n1%n2\n",
    "    return n1\n",
    "gcd(4,8)"
   ]
  },
  {
   "cell_type": "code",
   "execution_count": 1,
   "id": "ebb9fe51",
   "metadata": {},
   "outputs": [
    {
     "data": {
      "text/plain": [
       "6"
      ]
     },
     "execution_count": 1,
     "metadata": {},
     "output_type": "execute_result"
    }
   ],
   "source": [
    "def lcm(n1, n2):\n",
    "    max_num = max(n1,n2)\n",
    "    \n",
    "    while True:\n",
    "        if max_num%n1 == 0 and max_num%n2 == 0:\n",
    "            lc = max_num\n",
    "            break\n",
    "        max_num += 1\n",
    "    return lc\n",
    "\n",
    "\n",
    "n1, n2 = 3, 6\n",
    "lcm(n1,n2)"
   ]
  },
  {
   "cell_type": "code",
   "execution_count": 7,
   "id": "292264ab",
   "metadata": {},
   "outputs": [
    {
     "data": {
      "text/plain": [
       "6"
      ]
     },
     "execution_count": 7,
     "metadata": {},
     "output_type": "execute_result"
    }
   ],
   "source": [
    "#lcm of three numbers\n",
    "\n",
    "def fun(n1,n2,n3):\n",
    "    max_num = max(n1,n2,n3)\n",
    "    \n",
    "    while True:\n",
    "        if max_num%n1 == 0 and max_num%n2 == 0 and max_num%n3 == 0:\n",
    "            lcm = max_num\n",
    "            break\n",
    "        max_num += 1\n",
    "    return max_num\n",
    "    \n",
    "fun(2,3,6)"
   ]
  },
  {
   "cell_type": "code",
   "execution_count": 44,
   "id": "6adf4763",
   "metadata": {},
   "outputs": [
    {
     "name": "stdout",
     "output_type": "stream",
     "text": [
      "The largest string that divides both 'ABCABC' and 'ABC' is 'ABC'.\n"
     ]
    }
   ],
   "source": [
    "#1071. Greatest Common Divisor of Strings\n",
    "#Input: str1 = \"ABCABC\", str2 = \"ABC\"\n",
    "#Output: \"ABC\"\n",
    "\n",
    "def gcdOfStrings(str1, str2):\n",
    "    if str1 + str2 != str2 + str1:\n",
    "        return \"\"\n",
    "    \n",
    "    def gcd(a, b):\n",
    "        while b:\n",
    "            a, b = b, a % b\n",
    "        return a\n",
    "    \n",
    "    common_len = gcd(len(str1), len(str2))\n",
    "    \n",
    "    return str1[:common_len]\n",
    "\n",
    "# Example usage\n",
    "str1 = \"ABCABC\"\n",
    "str2 = \"ABC\"\n",
    "result = gcdOfStrings(str1, str2)\n",
    "print(f\"The largest string that divides both '{str1}' and '{str2}' is '{result}'.\")"
   ]
  },
  {
   "cell_type": "code",
   "execution_count": 49,
   "id": "3befc8e3",
   "metadata": {},
   "outputs": [
    {
     "name": "stdout",
     "output_type": "stream",
     "text": [
      "1\n"
     ]
    }
   ],
   "source": [
    "#1979. Find Greatest Common Divisor of Array\n",
    "#Input: nums = [2,5,6,9,10]\n",
    "#Output: 2\n",
    "#Explanation:The smallest number in nums is 2.The largest number in nums is 10.The greatest common divisor of 2 and 10 is 2.\n",
    "\n",
    "def gcd_array(nums):\n",
    "    nums.sort()\n",
    "    x = min(nums)\n",
    "    y = max(nums)\n",
    "    \n",
    "    def gcd(x, y):\n",
    "        while y:\n",
    "            x, y = y, x % y\n",
    "        return x\n",
    "    return gcd(x,y)\n",
    "    \n",
    "nums = [7,5,6,8,3]  \n",
    "print(gcd_array(nums))"
   ]
  },
  {
   "cell_type": "code",
   "execution_count": 58,
   "id": "64041dc6",
   "metadata": {},
   "outputs": [
    {
     "name": "stdout",
     "output_type": "stream",
     "text": [
      "3\n"
     ]
    }
   ],
   "source": [
    "#2011. Final Value of Variable After Performing Operations\n",
    "#Input: operations = [\"--X\",\"X++\",\"X++\"]\n",
    "#Output: 1\n",
    "#Explanation: The operations are performed as follows:\n",
    "#Initially, X = 0.\n",
    "#--X: X is decremented by 1, X =  0 - 1 = -1.\n",
    "#X++: X is incremented by 1, X = -1 + 1 =  0.\n",
    "#X++: X is incremented by 1, X =  0 + 1 =  1.\n",
    "\n",
    "def fun(operations):\n",
    "    X = 0\n",
    "    for op in operations:\n",
    "        if '--X' == op or 'X--' == op:\n",
    "            X = X-1\n",
    "        elif \"X++\" == op or '++X' == op:\n",
    "            X = X + 1\n",
    "    return X\n",
    "    \n",
    "operations = [\"++X\",\"++X\",\"X++\"]\n",
    "print(fun(operations))"
   ]
  },
  {
   "cell_type": "code",
   "execution_count": 1,
   "id": "3ef7dda5",
   "metadata": {},
   "outputs": [
    {
     "data": {
      "text/plain": [
       "6"
      ]
     },
     "execution_count": 1,
     "metadata": {},
     "output_type": "execute_result"
    }
   ],
   "source": [
    "#1688. Count of Matches in Tournament\n",
    "\"\"\"\"Input: n = 7\n",
    "Output: 6\n",
    "Explanation: Details of the tournament: \n",
    "- 1st Round: Teams = 7, Matches = 3, and 4 teams advance.\n",
    "- 2nd Round: Teams = 4, Matches = 2, and 2 teams advance.\n",
    "- 3rd Round: Teams = 2, Matches = 1, and 1 team is declared the winner.\n",
    "Total number of matches = 3 + 2 + 1 = 6.\"\"\"\n",
    "\n",
    "\"\"\"If the current number of teams is even, each team gets paired with another team. A total of n / 2 matches are played,\n",
    "and n / 2 teams advance to the next round.\n",
    "If the current number of teams is odd, one team randomly advances in the tournament, and the rest gets paired. A total of\n",
    "(n - 1) / 2 matches are played, and (n - 1) / 2 + 1 teams advance to the next round.\"\"\"\n",
    "\n",
    "def numberOfMatches(n):\n",
    "    matches = 0\n",
    "    \n",
    "    if n<1:\n",
    "        return False\n",
    "    while n > 1:\n",
    "        matches = matches + n//2\n",
    "        if n%2 == 0:\n",
    "            n = n //2\n",
    "        else:\n",
    "            n = (n-1)//2 + 1\n",
    "    return matches\n",
    "    \n",
    "numberOfMatches(7)"
   ]
  },
  {
   "cell_type": "code",
   "execution_count": 9,
   "id": "cccf5985",
   "metadata": {},
   "outputs": [
    {
     "data": {
      "text/plain": [
       "4"
      ]
     },
     "execution_count": 9,
     "metadata": {},
     "output_type": "execute_result"
    }
   ],
   "source": [
    "#2549. Count Distinct Numbers on Board\n",
    "\"\"\"Input: n = 5\n",
    "Output: 4\n",
    "Explanation: Initially, 5 is present on the board. \n",
    "The next day, 2 and 4 will be added since 5 % 2 == 1 and 5 % 4 == 1. \n",
    "After that day, 3 will be added to the board because 4 % 3 == 1. \n",
    "At the end of a billion days, the distinct numbers on the board will be 2, 3, 4, and 5. \n",
    "\"\"\"\n",
    "def distinctIntegers(n):\n",
    "        nums = [n]\n",
    "        for x in nums:\n",
    "            for i in range(1,x):\n",
    "                if x%i == 1 and i not in nums:\n",
    "                    nums.append(i)\n",
    "        return len(nums)\n",
    "    \n",
    "n = 5\n",
    "distinctIntegers(n)"
   ]
  },
  {
   "cell_type": "code",
   "execution_count": 12,
   "id": "accdce3f",
   "metadata": {},
   "outputs": [
    {
     "data": {
      "text/plain": [
       "4"
      ]
     },
     "execution_count": 12,
     "metadata": {},
     "output_type": "execute_result"
    }
   ],
   "source": [
    "def distinctIntegers(n):\n",
    "        if n == 1:\n",
    "            return 1\n",
    "        else:\n",
    "            return n-1\n",
    "n = 5\n",
    "distinctIntegers(n)"
   ]
  },
  {
   "cell_type": "code",
   "execution_count": 3,
   "id": "db44c11d",
   "metadata": {},
   "outputs": [
    {
     "name": "stdout",
     "output_type": "stream",
     "text": [
      "[1, 2, 3, 4, 6, 12]\n",
      "[1, 2, 3, 6]\n"
     ]
    }
   ],
   "source": [
    "# finding the factors of a number\n",
    "\n",
    "def factors(n):\n",
    "    res = []\n",
    "    for i in range(1,n+1):\n",
    "        if n%i == 0:\n",
    "            res.append(i)\n",
    "    return res\n",
    "print(factors(12))\n",
    "print(factors(6))"
   ]
  },
  {
   "cell_type": "code",
   "execution_count": 19,
   "id": "1c755a62",
   "metadata": {},
   "outputs": [
    {
     "name": "stdout",
     "output_type": "stream",
     "text": [
      "[1, 2, 3, 6]\n"
     ]
    },
    {
     "data": {
      "text/plain": [
       "4"
      ]
     },
     "execution_count": 19,
     "metadata": {},
     "output_type": "execute_result"
    }
   ],
   "source": [
    "#2427. Number of Common Factors\n",
    "\"\"\"Input: a = 12, b = 6\n",
    "Output: 4\n",
    "Explanation: The common factors of 12 and 6 are 1, 2, 3, 6.\"\"\"\n",
    "\n",
    "def common_fac(a,b):\n",
    "    res = []\n",
    "    com_fact = 0\n",
    "    min1 = min(a,b)\n",
    "    for i in range(1,min1+1):\n",
    "        if a%i==0 and b%i==0:\n",
    "            res.append(i)\n",
    "            com_fact += 1\n",
    "    print(res)\n",
    "    return com_fact\n",
    "    \n",
    "a,b = 12,6\n",
    "common_fac(a,b)"
   ]
  },
  {
   "cell_type": "code",
   "execution_count": 53,
   "id": "4bd6a79b",
   "metadata": {},
   "outputs": [
    {
     "name": "stdout",
     "output_type": "stream",
     "text": [
      "The number of prime numbers less than or equal to 10 is: 4\n"
     ]
    }
   ],
   "source": [
    "#204. Count Primes\n",
    "\"\"\"Input: n = 10\n",
    "Output: 4\n",
    "Explanation: There are 4 prime numbers less than 10, they are 2, 3, 5, 7.\"\"\"\n",
    "def prime_count(n):\n",
    "    res = []\n",
    "    for i in range(2, n + 1):  # Start from 2, as 1 is not a prime number\n",
    "        for j in range(2, int(i ** 0.5) + 1):\n",
    "            if i % j == 0:\n",
    "                break\n",
    "        else:\n",
    "            res.append(i)\n",
    "    return len(res)\n",
    "\n",
    "n = 10\n",
    "count = prime_count(n)\n",
    "print(f\"The number of prime numbers less than or equal to {n} is: {count}\")\n"
   ]
  },
  {
   "cell_type": "code",
   "execution_count": 59,
   "id": "3a055714",
   "metadata": {},
   "outputs": [
    {
     "name": "stdout",
     "output_type": "stream",
     "text": [
      "[False, False, True, True, False, True, False, True, False, False, False]\n"
     ]
    },
    {
     "data": {
      "text/plain": [
       "4"
      ]
     },
     "execution_count": 59,
     "metadata": {},
     "output_type": "execute_result"
    }
   ],
   "source": [
    "def prime_count(n):\n",
    "    if n <= 2:\n",
    "        return 0\n",
    "\n",
    "    # Initialize a list to mark whether each number is prime or not.\n",
    "    is_prime = [True] * (n + 1)\n",
    "\n",
    "    # 0 and 1 are not prime, so mark them as False.\n",
    "    is_prime[0] = is_prime[1] = False\n",
    "\n",
    "    # Iterate through numbers from 2 to the square root of n.\n",
    "    for p in range(2, int(n**0.5) + 1):\n",
    "        # If the current number (p) is marked as prime, mark its multiples as not prime.\n",
    "        if is_prime[p]:\n",
    "            # Start from p squared and mark every multiple of p as not prime.\n",
    "            for i in range(p * p, n + 1, p):\n",
    "                is_prime[i] = False\n",
    "\n",
    "    # Count the number of True values in the is_prime list, which correspond to prime numbers.\n",
    "    print(is_prime)\n",
    "    return sum(is_prime)\n",
    "n = 10\n",
    "prime_count(n)"
   ]
  },
  {
   "cell_type": "code",
   "execution_count": 3,
   "id": "027711bb",
   "metadata": {},
   "outputs": [
    {
     "data": {
      "text/plain": [
       "8"
      ]
     },
     "execution_count": 3,
     "metadata": {},
     "output_type": "execute_result"
    }
   ],
   "source": [
    "#1486. XOR Operation in an Array\n",
    "\"\"\"Example 1:\n",
    "Input: n = 5, start = 0\n",
    "Output: 8\n",
    "Explanation: Array nums is equal to [0, 2, 4, 6, 8] where (0 ^ 2 ^ 4 ^ 6 ^ 8) = 8.\n",
    "Where \"^\" corresponds to bitwise XOR operator.\"\"\"\n",
    "\n",
    "def xor_array(n,start):\n",
    "    nums = []\n",
    "    for i in range(0,n):\n",
    "        nums.append(start + 2 *i)\n",
    "    res = 0\n",
    "    for i in nums:\n",
    "        res = res ^ i\n",
    "    return res\n",
    "        \n",
    "n = 4\n",
    "start = 3\n",
    "xor_array(n,start)"
   ]
  },
  {
   "cell_type": "code",
   "execution_count": 43,
   "id": "a1a4d902",
   "metadata": {},
   "outputs": [
    {
     "name": "stdout",
     "output_type": "stream",
     "text": [
      "[[5, 7], [4, 0]]\n",
      "7\n"
     ]
    }
   ],
   "source": [
    "#1738. Find Kth Largest XOR Coordinate Value\n",
    "\"\"\"Example 1:\n",
    "\n",
    "Input: matrix = [[5,2],[1,6]], k = 1\n",
    "Output: 7\n",
    "Explanation: The value of coordinate (0,1) is 5 XOR 2 = 7, which is the largest value.\n",
    "Example 2:\n",
    "\n",
    "Input: matrix = [[5,2],[1,6]], k = 2\n",
    "Output: 5\n",
    "Explanation: The value of coordinate (0,0) is 5 = 5, which is the 2nd largest value.\"\"\"\n",
    "\n",
    "def kthLargestValue(matrix, k):\n",
    "    m, n = len(matrix), len(matrix[0])\n",
    "    xor_matrix = [[0] * n for _ in range(m)]\n",
    "\n",
    "    # Calculate XOR values for each coordinate in the matrix\n",
    "    for i in range(m):\n",
    "        for j in range(n):\n",
    "            if i > 0:\n",
    "                xor_matrix[i][j] = xor_matrix[i][j]^xor_matrix[i - 1][j]\n",
    "            if j > 0:\n",
    "                xor_matrix[i][j] = xor_matrix[i][j]^xor_matrix[i][j - 1]\n",
    "            if i > 0 and j > 0:\n",
    "                xor_matrix[i][j] = xor_matrix[i][j]^xor_matrix[i - 1][j - 1]\n",
    "            xor_matrix[i][j] = xor_matrix[i][j]^matrix[i][j]\n",
    "    \n",
    "    print(xor_matrix)\n",
    "    # Flatten the list of XOR values and sort it in descending order\n",
    "    xor_values = [xor_matrix[i][j] for i in range(m) for j in range(n)]\n",
    "    xor_values.sort(reverse=True)\n",
    "\n",
    "    # Return the kth largest value\n",
    "    return xor_values[k - 1]\n",
    "\n",
    "\n",
    "matrix1 = [[5, 2], [1, 6]]\n",
    "k1 = 1\n",
    "print(kthLargestValue(matrix1, k1))"
   ]
  },
  {
   "cell_type": "code",
   "execution_count": 7,
   "id": "e474e39c",
   "metadata": {},
   "outputs": [
    {
     "name": "stdout",
     "output_type": "stream",
     "text": [
      "True\n",
      "False\n",
      "True\n"
     ]
    }
   ],
   "source": [
    "#1752. Check if Array Is Sorted and Rotated\n",
    "\"\"\"Input: nums = [3,4,5,1,2]\n",
    "Output: true\n",
    "Explanation: [1,2,3,4,5] is the original sorted array.\n",
    "You can rotate the array by x = 3 positions to begin on the the element of value 3: [3,4,5,1,2].\n",
    "Example 2:\n",
    "\n",
    "Input: nums = [2,1,3,4]\n",
    "Output: false\n",
    "Explanation: There is no sorted array once rotated that can make nums.\"\"\"\n",
    "\n",
    "def checkSortedRotation(nums):\n",
    "    n = len(nums)\n",
    "    for i in range(n - 1):\n",
    "        if nums[i] > nums[i + 1]:\n",
    "            rotated = nums[i+1:]+nums[:i+1]\n",
    "            return rotated == sorted(nums)\n",
    "    return True\n",
    "nums1 = [3, 4, 5, 1, 2]\n",
    "nums2 = [2, 1, 3, 4]\n",
    "nums3 = [1,2,3]\n",
    "\n",
    "print(checkSortedRotation(nums1))\n",
    "print(checkSortedRotation(nums2))  \n",
    "print(checkSortedRotation(nums3))"
   ]
  },
  {
   "cell_type": "code",
   "execution_count": 3,
   "id": "17a6db27",
   "metadata": {},
   "outputs": [
    {
     "data": {
      "text/plain": [
       "['1', '2', 'Fizz']"
      ]
     },
     "execution_count": 3,
     "metadata": {},
     "output_type": "execute_result"
    }
   ],
   "source": [
    "#412. Fizz Buzz\n",
    "\"\"\"Given an integer n, return a string array answer (1-indexed) where:\n",
    "answer[i] == \"FizzBuzz\" if i is divisible by 3 and 5.\n",
    "answer[i] == \"Fizz\" if i is divisible by 3.\n",
    "answer[i] == \"Buzz\" if i is divisible by 5.\n",
    "answer[i] == i (as a string) if none of the above conditions are true.\n",
    "Example 1:\n",
    "Input: n = 3\n",
    "Output: [\"1\",\"2\",\"Fizz\"]\n",
    "Example 2:\n",
    "Input: n = 5\n",
    "Output: [\"1\",\"2\",\"Fizz\",\"4\",\"Buzz\"]\n",
    "Example 3:\n",
    "Input: n = 15\n",
    "Output: [\"1\",\"2\",\"Fizz\",\"4\",\"Buzz\",\"Fizz\",\"7\",\"8\",\"Fizz\",\"Buzz\",\"11\",\"Fizz\",\"13\",\"14\",\"FizzBuzz\"]\"\"\"\n",
    "\n",
    "def fizzBuzz(n):\n",
    "    res = []\n",
    "    for i in range(1,n+1):\n",
    "        if i%3 == 0 and i%5 == 0:\n",
    "            res.append('FizzBuzz')\n",
    "        elif i%3 == 0:\n",
    "            res.append('Fizz')\n",
    "        elif i%5 == 0:\n",
    "            res.append('Buzz')\n",
    "        else:\n",
    "            res.append(str(i))\n",
    "    return res\n",
    "    \n",
    "n = 3\n",
    "fizzBuzz(n)"
   ]
  },
  {
   "cell_type": "code",
   "execution_count": 1,
   "id": "2c9b097d",
   "metadata": {},
   "outputs": [
    {
     "name": "stdout",
     "output_type": "stream",
     "text": [
      "12\n"
     ]
    }
   ],
   "source": [
    "num = 34\n",
    "digit_pro = 1\n",
    "\n",
    "while num > 0:\n",
    "    digit_pro = digit_pro * (num % 10)\n",
    "    num = num // 10\n",
    "\n",
    "print(digit_pro)\n"
   ]
  },
  {
   "cell_type": "code",
   "execution_count": 2,
   "id": "777a5844",
   "metadata": {},
   "outputs": [
    {
     "name": "stdout",
     "output_type": "stream",
     "text": [
      "11\n",
      "32\n",
      "21\n"
     ]
    }
   ],
   "source": [
    "#1281. Subtract the Product and Sum of Digits of an Integer\n",
    "\"\"\"Example 1:\n",
    "Input: n = 234\n",
    "Output: 15 \n",
    "Explanation: \n",
    "Product of digits = 2 * 3 * 4 = 24 \n",
    "Sum of digits = 2 + 3 + 4 = 9 \n",
    "Result = 24 - 9 = 15\n",
    "Example 2:\n",
    "Input: n = 4421\n",
    "Output: 21\n",
    "Explanation: \n",
    "Product of digits = 4 * 4 * 2 * 1 = 32 \n",
    "Sum of digits = 4 + 4 + 2 + 1 = 11 \n",
    "Result = 32 - 11 = 21\"\"\"\n",
    "\n",
    "num = 4421\n",
    "digit_sum = 0\n",
    "digit_pro = 1\n",
    "while num > 0:\n",
    "    digit_sum = digit_sum + num %10\n",
    "    digit_pro = digit_pro * (num %10)\n",
    "    num = num // 10\n",
    "print(digit_sum)\n",
    "print(digit_pro)\n",
    "print(abs(digit_sum-digit_pro))"
   ]
  },
  {
   "cell_type": "code",
   "execution_count": 27,
   "id": "b00a5f6a",
   "metadata": {},
   "outputs": [
    {
     "data": {
      "text/plain": [
       "''"
      ]
     },
     "execution_count": 27,
     "metadata": {},
     "output_type": "execute_result"
    }
   ],
   "source": [
    "#2108. Find First Palindromic String in the Array\n",
    "\"\"\"Example 1:\n",
    "\n",
    "Input: words = [\"abc\",\"car\",\"ada\",\"racecar\",\"cool\"]\n",
    "Output: \"ada\"\n",
    "Explanation: The first string that is palindromic is \"ada\".\n",
    "Note that \"racecar\" is also palindromic, but it is not the first.\n",
    "Example 2:\n",
    "\n",
    "Input: words = [\"notapalindrome\",\"racecar\"]\n",
    "Output: \"racecar\"\n",
    "Explanation: The first and only string that is palindromic is \"racecar\".\n",
    "Example 3:\n",
    "\n",
    "Input: words = [\"def\",\"ghi\"]\n",
    "Output: \"\"\n",
    "Explanation: There are no palindromic strings, so the empty string is returned.\"\"\"\n",
    "\n",
    "def firstPalindrome(words):\n",
    "    for w in words:\n",
    "        if w == w[::-1]:\n",
    "            return w\n",
    "    return \"\"\n",
    "words = [\"def\",\"ghi\"]\n",
    "firstPalindrome(words)"
   ]
  },
  {
   "cell_type": "code",
   "execution_count": 30,
   "id": "13dd40cb",
   "metadata": {},
   "outputs": [
    {
     "data": {
      "text/plain": [
       "[1, 3, 6, 10]"
      ]
     },
     "execution_count": 30,
     "metadata": {},
     "output_type": "execute_result"
    }
   ],
   "source": [
    "#1480. Running Sum of 1d Array\n",
    "\"\"\"Example 1:\n",
    "\n",
    "Input: nums = [1,2,3,4]\n",
    "Output: [1,3,6,10]\n",
    "Explanation: Running sum is obtained as follows: [1, 1+2, 1+2+3, 1+2+3+4].\n",
    "Example 2:\n",
    "\n",
    "Input: nums = [1,1,1,1,1]\n",
    "Output: [1,2,3,4,5]\n",
    "Explanation: Running sum is obtained as follows: [1, 1+1, 1+1+1, 1+1+1+1, 1+1+1+1+1].\n",
    "Example 3:\n",
    "\n",
    "Input: nums = [3,1,2,10,1]\n",
    "Output: [3,4,6,16,17]\n",
    "\"\"\"\n",
    "def runningSum(nums):\n",
    "    res = []\n",
    "    run_sum = 0\n",
    "    for num in nums:\n",
    "        run_sum = run_sum + num\n",
    "        res.append(run_sum)\n",
    "    return res\n",
    "    \n",
    "nums = [1,2,3,4]\n",
    "runningSum(nums)"
   ]
  },
  {
   "cell_type": "code",
   "execution_count": 33,
   "id": "d22e6a93",
   "metadata": {},
   "outputs": [
    {
     "data": {
      "text/plain": [
       "[1, 1, 2, 3, 4, 4]"
      ]
     },
     "execution_count": 33,
     "metadata": {},
     "output_type": "execute_result"
    }
   ],
   "source": [
    "#21. Merge Two Sorted Lists\n",
    "\"\"\"Input: list1 = [1,2,4], list2 = [1,3,4]\n",
    "Output: [1,1,2,3,4,4]\n",
    "Example 2:\n",
    "\n",
    "Input: list1 = [], list2 = []\n",
    "Output: []\n",
    "Example 3:\n",
    "\n",
    "Input: list1 = [], list2 = [0]\n",
    "Output: [0]\"\"\"\n",
    "def mergeTwoLists(list1, list2):\n",
    "    res = []\n",
    "    i = 0\n",
    "    j = 0\n",
    "    \n",
    "    while i<len(list1) and j<len(list2):\n",
    "        if list1[i] < list2[j]:\n",
    "            res.append(list1[i])\n",
    "            i = i + 1\n",
    "        else:\n",
    "            res.append(list2[j])\n",
    "            j = j + 1\n",
    "    res.extend(list1[i:])\n",
    "    res.extend(list2[j:])\n",
    "    \n",
    "    return res\n",
    "    \n",
    "list1 = [1,2,4]\n",
    "list2 = [1,3,4]\n",
    "mergeTwoLists(list1,list2)"
   ]
  },
  {
   "cell_type": "code",
   "execution_count": 35,
   "id": "7b654c8a",
   "metadata": {},
   "outputs": [
    {
     "data": {
      "text/plain": [
       "6"
      ]
     },
     "execution_count": 35,
     "metadata": {},
     "output_type": "execute_result"
    }
   ],
   "source": [
    "#2114. Maximum Number of Words Found in Sentences\n",
    "\"\"\"Example 1:\n",
    "\n",
    "Input: sentences = [\"alice and bob love leetcode\", \"i think so too\", \"this is great thanks very much\"]\n",
    "Output: 6\n",
    "Explanation: \n",
    "- The first sentence, \"alice and bob love leetcode\", has 5 words in total.\n",
    "- The second sentence, \"i think so too\", has 4 words in total.\n",
    "- The third sentence, \"this is great thanks very much\", has 6 words in total.\n",
    "Thus, the maximum number of words in a single sentence comes from the third sentence, which has 6 words.\n",
    "Example 2:\n",
    "\n",
    "Input: sentences = [\"please wait\", \"continue to fight\", \"continue to win\"]\n",
    "Output: 3\n",
    "Explanation: It is possible that multiple sentences contain the same number of words. \n",
    "In this example, the second and third sentences (underlined) have the same number of words.\n",
    " \"\"\"\n",
    "\n",
    "def mostWordsFound(sentences):\n",
    "    res = []\n",
    "    for line in sentences:\n",
    "        words = line.split()\n",
    "        res.append(len(words))\n",
    "    return max(res)\n",
    "\n",
    "sentences = [\"alice and bob love leetcode\", \"i think so too\", \"this is great thanks very much\"]    \n",
    "mostWordsFound(sentences)"
   ]
  },
  {
   "cell_type": "code",
   "execution_count": 4,
   "id": "f11466ce",
   "metadata": {},
   "outputs": [
    {
     "data": {
      "text/plain": [
       "[2, 3, 5, 4, 1, 7]"
      ]
     },
     "execution_count": 4,
     "metadata": {},
     "output_type": "execute_result"
    }
   ],
   "source": [
    "#1470. Shuffle the Array\n",
    "\"\"\"Given the array nums consisting of 2n elements in the form [x1,x2,...,xn,y1,y2,...,yn].\n",
    "Return the array in the form [x1,y1,x2,y2,...,xn,yn].\n",
    "Example 1:\n",
    "Input: nums = [2,5,1,3,4,7], n = 3\n",
    "Output: [2,3,5,4,1,7] \n",
    "Explanation: Since x1=2, x2=5, x3=1, y1=3, y2=4, y3=7 then the answer is [2,3,5,4,1,7].\n",
    "Example 2:\n",
    "Input: nums = [1,2,3,4,4,3,2,1], n = 4\n",
    "Output: [1,4,2,3,3,2,4,1]\n",
    "Example 3:\n",
    "Input: nums = [1,1,2,2], n = 2\n",
    "Output: [1,2,1,2]\n",
    " \"\"\"\n",
    "def shuffle(nums, n):\n",
    "    res = []\n",
    "    for i in range(n):\n",
    "        res.append(nums[i])\n",
    "        res.append(nums[i+n])\n",
    "    return res\n",
    "    \n",
    "nums = [2,5,1,3,4,7]\n",
    "n = 3\n",
    "shuffle(nums,n)"
   ]
  },
  {
   "cell_type": "code",
   "execution_count": 14,
   "id": "565106cb",
   "metadata": {},
   "outputs": [
    {
     "data": {
      "text/plain": [
       "2"
      ]
     },
     "execution_count": 14,
     "metadata": {},
     "output_type": "execute_result"
    }
   ],
   "source": [
    "#929. Unique Email Addresses\n",
    "\"\"\"Every valid email consists of a local name and a domain name, separated by the '@' sign. Besides lowercase letters, the email may contain one or more '.' or '+'.\n",
    "\n",
    "For example, in \"alice@leetcode.com\", \"alice\" is the local name, and \"leetcode.com\" is the domain name.\n",
    "If you add periods '.' between some characters in the local name part of an email address, mail sent there will be forwarded to the same address without dots in the local name. Note that this rule does not apply to domain names.\n",
    "\n",
    "For example, \"alice.z@leetcode.com\" and \"alicez@leetcode.com\" forward to the same email address.\n",
    "If you add a plus '+' in the local name, everything after the first plus sign will be ignored. This allows certain emails to be filtered. Note that this rule does not apply to domain names.\n",
    "\n",
    "For example, \"m.y+name@email.com\" will be forwarded to \"my@email.com\".\n",
    "It is possible to use both of these rules at the same time.\n",
    "\n",
    "Given an array of strings emails where we send one email to each emails[i], return the number of different addresses that actually receive mails.\n",
    "\n",
    "Example 1:\n",
    "\n",
    "Input: emails = [\"test.email+alex@leetcode.com\",\"test.e.mail+bob.cathy@leetcode.com\",\"testemail+david@lee.tcode.com\"]\n",
    "Output: 2\n",
    "Explanation: \"testemail@leetcode.com\" and \"testemail@lee.tcode.com\" actually receive mails.\n",
    "Example 2:\n",
    "\n",
    "Input: emails = [\"a@leetcode.com\",\"b@leetcode.com\",\"c@leetcode.com\"]\n",
    "Output: 3\"\"\"\n",
    "\n",
    "def numUniqueEmails(emails):\n",
    "    unique_set = set()\n",
    "    for email in emails:\n",
    "        local, domain = email.split('@')\n",
    "        local = local.replace('.','')\n",
    "        local = local.split('+')[0]\n",
    "        normalized_mails = local + '@' + domain\n",
    "        unique_set.add(normalized_mails)\n",
    "    return len(unique_set)\n",
    "\n",
    "emails = [\"test.email+alex@leetcode.com\",\"test.e.mail+bob.cathy@leetcode.com\",\"testemail+david@lee.tcode.com\"]\n",
    "numUniqueEmails(emails)"
   ]
  },
  {
   "cell_type": "code",
   "execution_count": 4,
   "id": "38a99272",
   "metadata": {},
   "outputs": [
    {
     "data": {
      "text/plain": [
       "[1, 2]"
      ]
     },
     "execution_count": 4,
     "metadata": {},
     "output_type": "execute_result"
    }
   ],
   "source": [
    "#2643. Row With Maximum Ones\n",
    "\"\"\"Example 1:\n",
    "\n",
    "Input: mat = [[0,1],[1,0]]\n",
    "Output: [0,1]\n",
    "Explanation: Both rows have the same number of 1's. So we return the index of the smaller row, 0, and the maximum count of ones (1). So, the answer is [0,1]. \n",
    "Example 2:\n",
    "\n",
    "Input: mat = [[0,0,0],[0,1,1]]\n",
    "Output: [1,2]\n",
    "Explanation: The row indexed 1 has the maximum count of ones (2). So we return its index, 1, and the count. So, the answer is [1,2].\n",
    "Example 3:\n",
    "\n",
    "Input: mat = [[0,0],[1,1],[0,0]]\n",
    "Output: [1,2]\n",
    "Explanation: The row indexed 1 has the maximum count of ones (2). So the answer is [1,2].\"\"\"\n",
    "\n",
    "def rowAndMaximumOnes(mat):\n",
    "    ones = 0 \n",
    "    index = 0\n",
    "    for it, row in enumerate(mat):\n",
    "        c = row.count(1)\n",
    "        if ones < c:\n",
    "            ones = c\n",
    "            index = it\n",
    "        \n",
    "    return [index,ones]\n",
    "    \n",
    "mat = [[0,0],[1,1],[0,0]]\n",
    "rowAndMaximumOnes(mat)"
   ]
  },
  {
   "cell_type": "code",
   "execution_count": 6,
   "id": "22f072b5",
   "metadata": {},
   "outputs": [
    {
     "name": "stdout",
     "output_type": "stream",
     "text": [
      "0\n",
      "2\n",
      "0\n"
     ]
    }
   ],
   "source": [
    "mat = [[0,0],[1,1],[0,0]]\n",
    "\n",
    "for it, row in enumerate(mat):\n",
    "    c = row.count(1)\n",
    "    print(c)"
   ]
  },
  {
   "cell_type": "code",
   "execution_count": 9,
   "id": "7766ac49",
   "metadata": {},
   "outputs": [
    {
     "data": {
      "text/plain": [
       "'leetcode'"
      ]
     },
     "execution_count": 9,
     "metadata": {},
     "output_type": "execute_result"
    }
   ],
   "source": [
    "#1528. Shuffle String\n",
    "\"\"\"Input: s = \"codeleet\", indices = [4,5,6,7,0,2,1,3]\n",
    "Output: \"leetcode\"\n",
    "Explanation: As shown, \"codeleet\" becomes \"leetcode\" after shuffling.\n",
    "Example 2:\n",
    "\n",
    "Input: s = \"abc\", indices = [0,1,2]\n",
    "Output: \"abc\"\n",
    "Explanation: After shuffling, each character remains in its position.\n",
    " \"\"\"\n",
    "def restoreString(s, indices):\n",
    "    res = [''] * len(s)\n",
    "    for i in range(len(s)):\n",
    "        res[indices[i]] = s[i]\n",
    "    return \"\".join(res)\n",
    "\n",
    "s = \"codeleet\"\n",
    "indices = [4,5,6,7,0,2,1,3]\n",
    "restoreString(s, indices)"
   ]
  },
  {
   "cell_type": "code",
   "execution_count": 25,
   "id": "24ea8644",
   "metadata": {},
   "outputs": [
    {
     "data": {
      "text/plain": [
       "['A1', 'B1', 'C1', 'D1', 'E1', 'F1']"
      ]
     },
     "execution_count": 25,
     "metadata": {},
     "output_type": "execute_result"
    }
   ],
   "source": [
    "#2194. Cells in a Range on an Excel Sheet\n",
    "\"\"\"Input: s = \"K1:L2\"\n",
    "Output: [\"K1\",\"K2\",\"L1\",\"L2\"]\n",
    "Explanation:\n",
    "The above diagram shows the cells which should be present in the list.\n",
    "The red arrows denote the order in which the cells should be presented.\n",
    "Example 2:\n",
    "Input: s = \"A1:F1\"\n",
    "Output: [\"A1\",\"B1\",\"C1\",\"D1\",\"E1\",\"F1\"]\n",
    "Explanation:\n",
    "The above diagram shows the cells which should be present in the list.\n",
    "The red arrow denotes the order in which the cells should be presented.\"\"\"\n",
    "def cellsInRange(s):\n",
    "    start, end = s.split(':')\n",
    "    res = []\n",
    "    \n",
    "    start_col, start_row = start[0], int(start[1:])\n",
    "    end_col, end_row = end[0], int(end[1:])\n",
    "    \n",
    "    for col in range(ord(start_col),ord(end_col)+1):\n",
    "        for row in range(start_row,end_row+1):\n",
    "            res.append(chr(col)+str(row))\n",
    "    return res\n",
    "    \n",
    "s = \"A1:F1\"\n",
    "cellsInRange(s)"
   ]
  },
  {
   "cell_type": "code",
   "execution_count": 8,
   "id": "5b519ebf",
   "metadata": {},
   "outputs": [
    {
     "name": "stdout",
     "output_type": "stream",
     "text": [
      "1\n"
     ]
    }
   ],
   "source": [
    "for i in range(1,2):\n",
    "    print(i)"
   ]
  },
  {
   "cell_type": "code",
   "execution_count": 32,
   "id": "88e2bb65",
   "metadata": {},
   "outputs": [
    {
     "name": "stdout",
     "output_type": "stream",
     "text": [
      "[[1, 2], [0, 2], [1, 1], [0, 1], [1, 0], [0, 0]]\n"
     ]
    }
   ],
   "source": [
    "#1030. Matrix Cells in Distance Order\n",
    "\"\"\"Example 1:\n",
    "\n",
    "Input: rows = 1, cols = 2, rCenter = 0, cCenter = 0\n",
    "Output: [[0,0],[0,1]]\n",
    "Explanation: The distances from (0, 0) to other cells are: [0,1]\n",
    "Example 2:\n",
    "\n",
    "Input: rows = 2, cols = 2, rCenter = 0, cCenter = 1\n",
    "Output: [[0,1],[0,0],[1,1],[1,0]]\n",
    "Explanation: The distances from (0, 1) to other cells are: [0,1,1,2]\n",
    "The answer [[0,1],[1,1],[0,0],[1,0]] would also be accepted as correct.\n",
    "Example 3:\n",
    "\n",
    "Input: rows = 2, cols = 3, rCenter = 1, cCenter = 2\n",
    "Output: [[1,2],[0,2],[1,1],[0,1],[1,0],[0,0]]\n",
    "Explanation: The distances from (1, 2) to other cells are: [0,1,1,2,2,3]\n",
    "There are other answers that would also be accepted as correct, such as [[1,2],[1,1],[0,2],[1,0],[0,1],[0,0]].\"\"\"\n",
    "\n",
    "def allCellsDistOrder(rows, cols, rCenter, cCenter):\n",
    "    # Create a list to store the cells and their distances\n",
    "    cell_distances = []\n",
    "\n",
    "    # Iterate through all cells in the matrix\n",
    "    for r in range(rows):\n",
    "        for c in range(cols):\n",
    "            # Calculate the distance from (rCenter, cCenter) to the current cell\n",
    "            distance = abs(r - rCenter) + abs(c - cCenter)\n",
    "            cell_distances.append(([r, c], distance))\n",
    "\n",
    "    # Sort the cells based on their distances\n",
    "    cell_distances.sort(key=lambda x: x[1])\n",
    "\n",
    "    # Extract and return the sorted cells without the distances\n",
    "    result = [cell[0] for cell in cell_distances]\n",
    "    return result\n",
    "\n",
    "rows3, cols3, rCenter3, cCenter3 = 2, 3, 1, 2\n",
    "output3 = allCellsDistOrder(rows3, cols3, rCenter3, cCenter3)\n",
    "print(output3)  \n"
   ]
  },
  {
   "cell_type": "code",
   "execution_count": 29,
   "id": "cf7af714",
   "metadata": {},
   "outputs": [
    {
     "name": "stdout",
     "output_type": "stream",
     "text": [
      "[2, 4, 4, 4]\n",
      "[1, 3, 3]\n"
     ]
    }
   ],
   "source": [
    "#1313. Decompress Run-Length Encoded List\n",
    "\"\"\"Example 1:\n",
    "\n",
    "Input: nums = [1,2,3,4]\n",
    "Output: [2,4,4,4]\n",
    "Explanation: The first pair [1,2] means we have freq = 1 and val = 2 so we generate the array [2].\n",
    "The second pair [3,4] means we have freq = 3 and val = 4 so we generate [4,4,4].\n",
    "At the end the concatenation [2] + [4,4,4] is [2,4,4,4].\n",
    "Example 2:\n",
    "\n",
    "Input: nums = [1,1,2,3]\n",
    "Output: [1,3,3]\"\"\"\n",
    "def generateArray(nums):\n",
    "    result = []\n",
    "    \n",
    "    # Iterate through the list in pairs\n",
    "    for i in range(0, len(nums), 2):\n",
    "        freq = nums[i]\n",
    "        val = nums[i + 1]\n",
    "        \n",
    "        # Generate an array with 'freq' copies of 'val'\n",
    "        subarray = [val] * freq\n",
    "        \n",
    "        # Extend the result list with the subarray\n",
    "        result.extend(subarray)\n",
    "    \n",
    "    return result\n",
    "\n",
    "# Example 1\n",
    "nums1 = [1, 2, 3, 4]\n",
    "output1 = generateArray(nums1)\n",
    "print(output1)  # Output: [2, 4, 4, 4]\n",
    "\n",
    "# Example 2\n",
    "nums2 = [1, 1, 2, 3]\n",
    "output2 = generateArray(nums2)\n",
    "print(output2)  # Output: [1, 3, 3]\n"
   ]
  },
  {
   "cell_type": "code",
   "execution_count": 1,
   "id": "cfa5980b",
   "metadata": {},
   "outputs": [
    {
     "name": "stdout",
     "output_type": "stream",
     "text": [
      "0\n",
      "2\n"
     ]
    }
   ],
   "source": [
    "for i in range(0,4,2):\n",
    "    print(i)"
   ]
  },
  {
   "cell_type": "markdown",
   "id": "6644e08a",
   "metadata": {},
   "source": [
    "# 2d Array"
   ]
  },
  {
   "cell_type": "code",
   "execution_count": 2,
   "id": "e482f0af",
   "metadata": {},
   "outputs": [
    {
     "data": {
      "text/plain": [
       "17"
      ]
     },
     "execution_count": 2,
     "metadata": {},
     "output_type": "execute_result"
    }
   ],
   "source": [
    "#1672. Richest Customer Wealth\n",
    "\"\"\"You are given an m x n integer grid accounts where accounts[i][j] is the amount of money the i​​​​​​​​​​​th​​​​ \n",
    "customer has in the j​​​​​​​​​​​th​​​​ bank. Return the wealth that the richest customer has.\n",
    "\n",
    "A customer's wealth is the amount of money they have in all their bank accounts. The richest customer is the customer \n",
    "that has the maximum wealth.\n",
    "Example 1:\n",
    "\n",
    "Input: accounts = [[1,2,3],[3,2,1]]\n",
    "Output: 6\n",
    "Explanation:\n",
    "1st customer has wealth = 1 + 2 + 3 = 6\n",
    "2nd customer has wealth = 3 + 2 + 1 = 6\n",
    "Both customers are considered the richest with a wealth of 6 each, so return 6.\n",
    "Example 2:\n",
    "\n",
    "Input: accounts = [[1,5],[7,3],[3,5]]\n",
    "Output: 10\n",
    "Explanation: \n",
    "1st customer has wealth = 6\n",
    "2nd customer has wealth = 10 \n",
    "3rd customer has wealth = 8\n",
    "The 2nd customer is the richest with a wealth of 10.\n",
    "\n",
    "Example 3:\n",
    "Input: accounts = [[2,8,7],[7,1,3],[1,9,5]]\n",
    "Output: 17\"\"\"\n",
    "\n",
    "def maximumWealth(accounts):\n",
    "    m = len(accounts)\n",
    "    n = len(accounts[0])\n",
    "    res = []\n",
    "    \n",
    "    for i in range(m):\n",
    "        sum1 = 0\n",
    "        for j in range(n):\n",
    "            sum1 = sum1 + accounts[i][j]\n",
    "        res.append(sum1)\n",
    "    return max(res)\n",
    "\n",
    "accounts = [[2,8,7],[7,1,3],[1,9,5]]\n",
    "maximumWealth(accounts)"
   ]
  },
  {
   "cell_type": "code",
   "execution_count": 4,
   "id": "bdfc8929",
   "metadata": {},
   "outputs": [
    {
     "name": "stdout",
     "output_type": "stream",
     "text": [
      "[10, 2, 1, 1]\n"
     ]
    },
    {
     "data": {
      "text/plain": [
       "0"
      ]
     },
     "execution_count": 4,
     "metadata": {},
     "output_type": "execute_result"
    }
   ],
   "source": [
    "#976. Largest Perimeter Triangle\n",
    "\"\"\"Given an integer array nums, return the largest perimeter of a triangle with a non-zero area, formed from three of these \n",
    "lengths. If it is impossible to form any triangle of a non-zero area, return 0.\n",
    "Example 1:\n",
    "\n",
    "Input: nums = [2,1,2]\n",
    "Output: 5\n",
    "Explanation: You can form a triangle with three side lengths: 1, 2, and 2.\n",
    "Example 2:\n",
    "\n",
    "Input: nums = [1,2,1,10]\n",
    "Output: 0\n",
    "Explanation: \n",
    "You cannot use the side lengths 1, 1, and 2 to form a triangle.\n",
    "You cannot use the side lengths 1, 1, and 10 to form a triangle.\n",
    "You cannot use the side lengths 1, 2, and 10 to form a triangle.\n",
    "As we cannot use any three side lengths to form a triangle of non-zero area, we return 0.\n",
    " \"\"\"\n",
    "def largestPerimeter(nums):\n",
    "    nums.sort(reverse=True)\n",
    "    print(nums)\n",
    "    \n",
    "    for i in range(len(nums)-2):\n",
    "        a,b,c = nums[i],nums[i+1],nums[i+2]\n",
    "        \n",
    "        if a<b+c:\n",
    "            return a+b+c\n",
    "    return 0\n",
    "\n",
    "nums = [1,2,1,10]\n",
    "largestPerimeter(nums)"
   ]
  },
  {
   "cell_type": "code",
   "execution_count": 15,
   "id": "ac246e1d",
   "metadata": {},
   "outputs": [
    {
     "name": "stdout",
     "output_type": "stream",
     "text": [
      "0.5\n"
     ]
    }
   ],
   "source": [
    "#812. Largest Triangle Area\n",
    "\"\"\"Given an array of points on the X-Y plane points where points[i] = [xi, yi], return the area of the largest triangle that\n",
    "can be formed by any three different points. Answers within 10-5 of the actual answer will be accepted.\n",
    "Example 1:\n",
    "Input: points = [[0,0],[0,1],[1,0],[0,2],[2,0]]\n",
    "Output: 2.00000\n",
    "Explanation: The five points are shown in the above figure. The red triangle is the largest.\n",
    "Example 2:\n",
    "Input: points = [[1,0],[0,0],[0,1]]\n",
    "Output: 0.50000\n",
    "\n",
    "I used my highschool determinants formula of area of a triangle\n",
    "if coordinates are given\n",
    "1/2(x1*(y2-y3)+x2*(y3-y1)+x3*(y1-y2))\n",
    "\n",
    "\"\"\"\n",
    "def largestTriangleArea(points):\n",
    "    def calculate_area(p1, p2, p3):\n",
    "        # Calculate the area of a triangle given three points using the determinant formula\n",
    "        return 0.5 * abs(p1[0] * (p2[1] - p3[1]) + p2[0] * (p3[1] - p1[1]) + p3[0] * (p1[1] - p2[1]))\n",
    "    \n",
    "    max_area = 0.0\n",
    "    \n",
    "    # Iterate through all combinations of three points\n",
    "    for i in range(len(points)):\n",
    "        for j in range(i + 1, len(points)):\n",
    "            for k in range(j + 1, len(points)):\n",
    "                p1, p2, p3 = points[i], points[j], points[k]\n",
    "                \n",
    "                area = calculate_area(p1, p2, p3)\n",
    "                max_area = max(max_area, area)\n",
    "    \n",
    "    return max_area\n",
    "\n",
    "# Example 1\n",
    "points1 =  [[1,0],[0,0],[0,1]]\n",
    "output1 = largestTriangleArea(points1)\n",
    "print(output1)  "
   ]
  },
  {
   "cell_type": "code",
   "execution_count": 3,
   "id": "9e0f9d9d",
   "metadata": {},
   "outputs": [
    {
     "data": {
      "text/plain": [
       "[[1, 0, 0], [0, 1, 0], [1, 1, 1]]"
      ]
     },
     "execution_count": 3,
     "metadata": {},
     "output_type": "execute_result"
    }
   ],
   "source": [
    "#832. Flipping an Image\n",
    "\"\"\"Given an n x n binary matrix image, flip the image horizontally, then invert it, and return the resulting image.\n",
    "\n",
    "To flip an image horizontally means that each row of the image is reversed.\n",
    "\n",
    "For example, flipping [1,1,0] horizontally results in [0,1,1].\n",
    "To invert an image means that each 0 is replaced by 1, and each 1 is replaced by 0.\n",
    "\n",
    "For example, inverting [0,1,1] results in [1,0,0].\n",
    " \n",
    "Example 1:\n",
    "\n",
    "Input: image = [[1,1,0],[1,0,1],[0,0,0]]\n",
    "Output: [[1,0,0],[0,1,0],[1,1,1]]\n",
    "Explanation: First reverse each row: [[0,1,1],[1,0,1],[0,0,0]].\n",
    "Then, invert the image: [[1,0,0],[0,1,0],[1,1,1]]\n",
    "Example 2:\n",
    "\n",
    "Input: image = [[1,1,0,0],[1,0,0,1],[0,1,1,1],[1,0,1,0]]\n",
    "Output: [[1,1,0,0],[0,1,1,0],[0,0,0,1],[1,0,1,0]]\n",
    "Explanation: First reverse each row: [[0,0,1,1],[1,0,0,1],[1,1,1,0],[0,1,0,1]].\n",
    "Then invert the image: [[1,1,0,0],[0,1,1,0],[0,0,0,1],[1,0,1,0]]\"\"\"\n",
    "\n",
    "def flipAndInvertImage(image):\n",
    "    for i in range(len(image)):\n",
    "        image[i]  = image[i][::-1]\n",
    "        \n",
    "        for j in range(len(image[i])):\n",
    "            if image[i][j] == 0:\n",
    "                image[i][j] = 1\n",
    "            else:\n",
    "                image[i][j] = 0\n",
    "    return image\n",
    "    \n",
    "    \n",
    "image = [[1,1,0],[1,0,1],[0,0,0]]\n",
    "flipAndInvertImage(image)"
   ]
  },
  {
   "cell_type": "code",
   "execution_count": 19,
   "id": "c09cac24",
   "metadata": {},
   "outputs": [
    {
     "name": "stdout",
     "output_type": "stream",
     "text": [
      "Minimum values in rows: [3, 9, 15]\n",
      "Maximum values in rows: [15, 16, 17]\n"
     ]
    },
    {
     "data": {
      "text/plain": [
       "[15]"
      ]
     },
     "execution_count": 19,
     "metadata": {},
     "output_type": "execute_result"
    }
   ],
   "source": [
    "#1380. Lucky Numbers in a Matrix\n",
    "\"\"\"Given an m x n matrix of distinct numbers, return all lucky numbers in the matrix in any order.\n",
    "A lucky number is an element of the matrix such that it is the minimum element in its row and maximum in its column.\n",
    "Example 1:\n",
    "\n",
    "Input: matrix = [[3,7,8],[9,11,13],[15,16,17]]\n",
    "Output: [15]\n",
    "Explanation: 15 is the only lucky number since it is the minimum in its row and the maximum in its column.\n",
    "Example 2:\n",
    "\n",
    "Input: matrix = [[1,10,4,2],[9,3,8,7],[15,16,17,12]]\n",
    "Output: [12]\n",
    "Explanation: 12 is the only lucky number since it is the minimum in its row and the maximum in its column.\n",
    "Example 3:\n",
    "\n",
    "Input: matrix = [[7,8],[1,2]]\n",
    "Output: [7]\n",
    "Explanation: 7 is the only lucky number since it is the minimum in its row and the maximum in its column.\"\"\"\\\n",
    "\n",
    "def luckyNumbers(mat):\n",
    "    m = len(mat)\n",
    "    n = len(mat[0])\n",
    "    \n",
    "    # minimum values in each row\n",
    "    min_in_rows = [min(mat[i]) for i in range(m)]\n",
    "    print(\"Minimum values in rows:\", min_in_rows)\n",
    "    \n",
    "    #maximum values in each column\n",
    "    max_in_cols = [max(mat[i][j] for i in range(m)) for j in range(n)]\n",
    "    print(\"Maximum values in rows:\", max_in_cols)\n",
    "    \n",
    "    lucky_num = []\n",
    "    for i in range(m):\n",
    "        for j in range(n):\n",
    "            if mat[i][j] == min_in_rows[i] == max_in_cols[j]:\n",
    "                lucky_num.append(mat[i][j])\n",
    "    return lucky_num\n",
    "\n",
    "matrix = [[3,7,8],[9,11,13],[15,16,17]]\n",
    "luckyNumbers(matrix)"
   ]
  },
  {
   "cell_type": "code",
   "execution_count": 8,
   "id": "88ae769c",
   "metadata": {},
   "outputs": [
    {
     "name": "stdout",
     "output_type": "stream",
     "text": [
      "[[ 3  7  8]\n",
      " [ 9 11 13]\n",
      " [15 16 17]]\n",
      "min values in rows : [3, 9, 15]\n",
      "max values in columns : [15, 16, 17]\n"
     ]
    },
    {
     "data": {
      "text/plain": [
       "[15]"
      ]
     },
     "execution_count": 8,
     "metadata": {},
     "output_type": "execute_result"
    }
   ],
   "source": [
    "import numpy as np\n",
    "def lukcyNumbers(mat):\n",
    "    m = len(mat)\n",
    "    n = len(mat[0])\n",
    "    \n",
    "    #min values in each row\n",
    "    row_min = []\n",
    "    for i in range(m):\n",
    "        min_in_row = min(mat[i])\n",
    "        row_min.append(min_in_row)\n",
    "    print(\"min values in rows :\",row_min)\n",
    "\n",
    "    #max values in each col\n",
    "    col_max = []\n",
    "    for j in range(n):\n",
    "        max_in_col = mat[0][j]\n",
    "        for i in range(1,m):\n",
    "            if mat[i][j] > max_in_col:\n",
    "                max_in_col = mat[i][j]\n",
    "        col_max.append(max_in_col)\n",
    "    print(\"max values in columns :\",col_max)\n",
    "    \n",
    "    #finding the lucky number from matrix\n",
    "    lucky_num = []\n",
    "    \n",
    "    for i in range(m):\n",
    "        for j in range(n):\n",
    "            if mat[i][j] == row_min[i] == col_max[j]:\n",
    "                lucky_num.append(mat[i][j])\n",
    "    return lucky_num\n",
    "    \n",
    "\n",
    "matrix = [[3,7,8],[9,11,13],[15,16,17]]\n",
    "print(np.array(matrix))\n",
    "lukcyNumbers(matrix)"
   ]
  },
  {
   "cell_type": "code",
   "execution_count": 28,
   "id": "4d947d11",
   "metadata": {},
   "outputs": [
    {
     "name": "stdout",
     "output_type": "stream",
     "text": [
      "[[9, 1, 2], [3, 4, 5], [6, 7, 8]]\n",
      "[[12, 0, 21, 13], [3, 8, 1, 9], [19, 7, 2, 5], [4, 6, 11, 10]]\n",
      "[[1, 2, 3], [4, 5, 6], [7, 8, 9]]\n"
     ]
    }
   ],
   "source": [
    "#1260. Shift 2D Grid\n",
    "\"\"\"Given a 2D grid of size m x n and an integer k. You need to shift the grid k times.\n",
    "\n",
    "In one shift operation:\n",
    "\n",
    "Element at grid[i][j] moves to grid[i][j + 1].\n",
    "Element at grid[i][n - 1] moves to grid[i + 1][0].\n",
    "Element at grid[m - 1][n - 1] moves to grid[0][0].\n",
    "Return the 2D grid after applying shift operation k times.\n",
    "\n",
    "Example 1:\n",
    "Input: grid = [[1,2,3],[4,5,6],[7,8,9]], k = 1\n",
    "Output: [[9,1,2],[3,4,5],[6,7,8]]\n",
    "Example 2:\n",
    "Input: grid = [[3,8,1,9],[19,7,2,5],[4,6,11,10],[12,0,21,13]], k = 4\n",
    "Output: [[12,0,21,13],[3,8,1,9],[19,7,2,5],[4,6,11,10]]\n",
    "Example 3:\n",
    "Input: grid = [[1,2,3],[4,5,6],[7,8,9]], k = 9\n",
    "Output: [[1,2,3],[4,5,6],[7,8,9]]\"\"\"\n",
    "\n",
    "def shiftGrid(grid, k):\n",
    "    m, n = len(grid), len(grid[0])\n",
    "\n",
    "    # Flatten the grid into a 1D list\n",
    "    flattened_grid = [cell for row in grid for cell in row]\n",
    "\n",
    "    # Calculate the total number of elements in the grid\n",
    "    total_elements = m * n\n",
    "\n",
    "    # Calculate the effective shift (k % total_elements) to avoid unnecessary shifts\n",
    "    effective_shift = k % total_elements\n",
    "\n",
    "    # Perform the shift by slicing the flattened grid\n",
    "    shifted_grid = flattened_grid[-effective_shift:] + flattened_grid[:-effective_shift]\n",
    "\n",
    "    # Reshape the shifted 1D list into a 2D grid\n",
    "    result = []\n",
    "    for i in range(m):\n",
    "        row = shifted_grid[i * n:(i + 1) * n]\n",
    "        result.append(row)\n",
    "\n",
    "    return result\n",
    "\n",
    "# Test cases\n",
    "grid1 = [[1,2,3],[4,5,6],[7,8,9]]\n",
    "k1 = 1\n",
    "print(shiftGrid(grid1, k1))  # Output: [[9, 1, 2], [3, 4, 5], [6, 7, 8]]\n",
    "\n",
    "grid2 = [[3,8,1,9],[19,7,2,5],[4,6,11,10],[12,0,21,13]]\n",
    "k2 = 4\n",
    "print(shiftGrid(grid2, k2))  # Output: [[12, 0, 21, 13], [3, 8, 1, 9], [19, 7, 2, 5], [4, 6, 11, 10]]\n",
    "\n",
    "grid3 = [[1,2,3],[4,5,6],[7,8,9]]\n",
    "k3 = 9\n",
    "print(shiftGrid(grid3, k3))  # Output: [[1, 2, 3], [4, 5, 6], [7, 8, 9]]\n"
   ]
  },
  {
   "cell_type": "code",
   "execution_count": 12,
   "id": "6d9b9828",
   "metadata": {},
   "outputs": [
    {
     "name": "stdout",
     "output_type": "stream",
     "text": [
      "[1, 1, 2, 6]\n",
      "[24, 12, 8, 6]\n"
     ]
    },
    {
     "data": {
      "text/plain": [
       "[24, 12, 8, 6]"
      ]
     },
     "execution_count": 12,
     "metadata": {},
     "output_type": "execute_result"
    }
   ],
   "source": [
    "#238. Product of Array Except Self\n",
    "\n",
    "\"\"\"Given an integer array nums, return an array answer such that answer[i] is equal to the product of all the elements of nums except nums[i].\n",
    "\n",
    "The product of any prefix or suffix of nums is guaranteed to fit in a 32-bit integer.\n",
    "\n",
    "You must write an algorithm that runs in O(n) time and without using the division operation.\n",
    "\n",
    " \n",
    "\n",
    "Example 1:\n",
    "\n",
    "Input: nums = [1,2,3,4]\n",
    "Output: [24,12,8,6]\n",
    "Example 2:\n",
    "\n",
    "Input: nums = [-1,1,0,-3,3]\n",
    "Output: [0,0,9,0,0]\"\"\"\n",
    "\n",
    "def productExceptSelf(nums):\n",
    "    n = len(nums)\n",
    "    res = [1]*n\n",
    "    \n",
    "    left_product = 1\n",
    "    for i in range(n):\n",
    "        res[i] = left_product\n",
    "        left_product = left_product * nums[i]\n",
    "    print(res)\n",
    "    \n",
    "    right_product = 1\n",
    "    for i in range(n-1,-1,-1):\n",
    "        res[i] = res[i] * right_product\n",
    "        right_product = right_product * nums[i]\n",
    "    print(res)\n",
    "    \n",
    "    return res\n",
    "\n",
    "    \n",
    "nums = [1,2,3,4]\n",
    "productExceptSelf(nums)\n"
   ]
  },
  {
   "cell_type": "code",
   "execution_count": 24,
   "id": "8ab87daa",
   "metadata": {},
   "outputs": [
    {
     "data": {
      "text/plain": [
       "[5, 6, 7, 1, 2, 3, 4]"
      ]
     },
     "execution_count": 24,
     "metadata": {},
     "output_type": "execute_result"
    }
   ],
   "source": [
    "#189. Rotate an array\n",
    "\"\"\"Given an integer array nums, rotate the array to the right by k steps, where k is non-negative.\n",
    "Example 1:\n",
    "\n",
    "Input: nums = [1,2,3,4,5,6,7], k = 3\n",
    "Output: [5,6,7,1,2,3,4]\n",
    "Explanation:\n",
    "rotate 1 steps to the right: [7,1,2,3,4,5,6]\n",
    "rotate 2 steps to the right: [6,7,1,2,3,4,5]\n",
    "rotate 3 steps to the right: [5,6,7,1,2,3,4]\n",
    "Example 2:\n",
    "\n",
    "Input: nums = [-1,-100,3,99], k = 2\n",
    "Output: [3,99,-1,-100]\n",
    "Explanation: \n",
    "rotate 1 steps to the right: [99,-1,-100,3]\n",
    "rotate 2 steps to the right: [3,99,-1,-100]\"\"\"\n",
    "\n",
    "\n",
    "def rotate(nums,k):\n",
    "    n = len(nums)\n",
    "    k = k%n\n",
    "    nums[:] = nums[-k:] + nums[:-k]\n",
    "    return nums\n",
    "    \n",
    "nums = [1,2,3,4,5,6,7]\n",
    "k = 3\n",
    "rotate(nums,k)"
   ]
  },
  {
   "cell_type": "code",
   "execution_count": 23,
   "id": "f7254bfe",
   "metadata": {},
   "outputs": [
    {
     "data": {
      "text/plain": [
       "3"
      ]
     },
     "execution_count": 23,
     "metadata": {},
     "output_type": "execute_result"
    }
   ],
   "source": [
    "3%7"
   ]
  },
  {
   "cell_type": "code",
   "execution_count": null,
   "id": "d55a741b",
   "metadata": {},
   "outputs": [],
   "source": []
  },
  {
   "cell_type": "code",
   "execution_count": null,
   "id": "4abee192",
   "metadata": {},
   "outputs": [],
   "source": []
  },
  {
   "cell_type": "markdown",
   "id": "76f7df8e",
   "metadata": {},
   "source": [
    "## EASY LEVEL PROBLEMS"
   ]
  },
  {
   "cell_type": "code",
   "execution_count": 2,
   "id": "8d4e2d43",
   "metadata": {},
   "outputs": [
    {
     "data": {
      "text/plain": [
       "[1, 2, 1, 1, 2, 1]"
      ]
     },
     "execution_count": 2,
     "metadata": {},
     "output_type": "execute_result"
    }
   ],
   "source": [
    "# 1929 concatenation of array\n",
    "\"\"\"Example 1:\n",
    "\n",
    "Input: nums = [1,2,1]\n",
    "Output: [1,2,1,1,2,1]\n",
    "Explanation: The array ans is formed as follows:\n",
    "- ans = [nums[0],nums[1],nums[2],nums[0],nums[1],nums[2]]\n",
    "- ans = [1,2,1,1,2,1]\n",
    "Example 2:\n",
    "\n",
    "Input: nums = [1,3,2,1]\n",
    "Output: [1,3,2,1,1,3,2,1]\n",
    "Explanation: The array ans is formed as follows:\n",
    "- ans = [nums[0],nums[1],nums[2],nums[3],nums[0],nums[1],nums[2],nums[3]]\n",
    "- ans = [1,3,2,1,1,3,2,1]\"\"\"\n",
    "\n",
    "def getConcatenation(nums):\n",
    "    n = len(nums)\n",
    "    ans = []\n",
    "    \n",
    "    for i in range(n):\n",
    "        ans.append(nums[i])\n",
    "    ans.extend(nums)\n",
    "    return ans\n",
    "nums = [1,2,1]\n",
    "getConcatenation(nums)"
   ]
  },
  {
   "cell_type": "code",
   "execution_count": 3,
   "id": "7e54a0b0",
   "metadata": {},
   "outputs": [
    {
     "data": {
      "text/plain": [
       "[1, 2, 1, 1, 2, 1]"
      ]
     },
     "execution_count": 3,
     "metadata": {},
     "output_type": "execute_result"
    }
   ],
   "source": [
    "def getConcatenation(nums):\n",
    "    return nums + nums\n",
    "nums = [1,2,1]\n",
    "getConcatenation(nums)"
   ]
  },
  {
   "cell_type": "code",
   "execution_count": 6,
   "id": "4d82c211",
   "metadata": {},
   "outputs": [
    {
     "data": {
      "text/plain": [
       "[0, 1, 2, 4, 5, 3]"
      ]
     },
     "execution_count": 6,
     "metadata": {},
     "output_type": "execute_result"
    }
   ],
   "source": [
    "# 1920. Build array from permutation\n",
    "\"\"\"Example 1:\n",
    "\n",
    "Input: nums = [0,2,1,5,3,4]\n",
    "Output: [0,1,2,4,5,3]\n",
    "Explanation: The array ans is built as follows: \n",
    "ans = [nums[nums[0]], nums[nums[1]], nums[nums[2]], nums[nums[3]], nums[nums[4]], nums[nums[5]]]\n",
    "    = [nums[0], nums[2], nums[1], nums[5], nums[3], nums[4]]\n",
    "    = [0,1,2,4,5,3]\n",
    "Example 2:\n",
    "\n",
    "Input: nums = [5,0,1,2,3,4]\n",
    "Output: [4,5,0,1,2,3]\n",
    "Explanation: The array ans is built as follows:\n",
    "ans = [nums[nums[0]], nums[nums[1]], nums[nums[2]], nums[nums[3]], nums[nums[4]], nums[nums[5]]]\n",
    "    = [nums[5], nums[0], nums[1], nums[2], nums[3], nums[4]]\n",
    "    = [4,5,0,1,2,3]\"\"\"\n",
    "\n",
    "def buildArray(nums):\n",
    "    ans = [0]*len(nums)\n",
    "    \n",
    "    for i in range(len(nums)):\n",
    "        ans[i] = nums[nums[i]]\n",
    "    return ans\n",
    "\n",
    "nums = [0,2,1,5,3,4]\n",
    "buildArray(nums)"
   ]
  },
  {
   "cell_type": "code",
   "execution_count": 8,
   "id": "9a44e803",
   "metadata": {},
   "outputs": [
    {
     "data": {
      "text/plain": [
       "3"
      ]
     },
     "execution_count": 8,
     "metadata": {},
     "output_type": "execute_result"
    }
   ],
   "source": [
    "# 3190 find minimum operations to make all elements divisible by three\n",
    "\"\"\"Example 1:\n",
    "Input: nums = [1,2,3,4]\n",
    "Output: 3\n",
    "Explanation:\n",
    "All array elements can be made divisible by 3 using 3 operations:\n",
    "Subtract 1 from 1.\n",
    "Add 1 to 2.\n",
    "Subtract 1 from 4.\n",
    "\n",
    "Example 2:\n",
    "Input: nums = [3,6,9]\n",
    "Output: 0\"\"\"\n",
    "\n",
    "def minimumOperations(nums):\n",
    "    operations = 0\n",
    "    for num in nums:\n",
    "        rem = num%3\n",
    "        if rem ==1:  # Subtract 1 to make it divisible by 3\n",
    "            operations += 1\n",
    "        elif rem == 2:  # Add 1 to make it divisible by 3\n",
    "            operations += 1\n",
    "    return operations\n",
    "        \n",
    "nums = [1,2,3,4]\n",
    "minimumOperations(nums)"
   ]
  },
  {
   "cell_type": "code",
   "execution_count": 13,
   "id": "ab37100a",
   "metadata": {},
   "outputs": [
    {
     "name": "stdout",
     "output_type": "stream",
     "text": [
      "(0, 3)\n",
      "(0, 4)\n",
      "(2, 5)\n",
      "(3, 4)\n"
     ]
    },
    {
     "data": {
      "text/plain": [
       "4"
      ]
     },
     "execution_count": 13,
     "metadata": {},
     "output_type": "execute_result"
    }
   ],
   "source": [
    "# 1512 number of good pairs\n",
    "\"\"\"Given an array of integers nums, return the number of good pairs.\n",
    "\n",
    "A pair (i, j) is called good if nums[i] == nums[j] and i < j.\n",
    "Example 1:\n",
    "Input: nums = [1,2,3,1,1,3]\n",
    "Output: 4\n",
    "Explanation: There are 4 good pairs (0,3), (0,4), (3,4), (2,5) 0-indexed.\n",
    "Example 2:\n",
    "Input: nums = [1,1,1,1]\n",
    "Output: 6\n",
    "Explanation: Each pair in the array are good.\n",
    "Example 3:\n",
    "Input: nums = [1,2,3]\n",
    "Output: 0\"\"\"\n",
    "\n",
    "def numIdenticalPairs(nums):\n",
    "    n = len(nums)\n",
    "    res = []\n",
    "    \n",
    "    for i in range(n):\n",
    "        for j in range(i+1,n):\n",
    "            if nums[i] == nums[j] and i<j:\n",
    "                ans = (i,j)\n",
    "                print(ans)\n",
    "                res.append(ans)\n",
    "    return len(res)\n",
    "\n",
    "nums = [1,2,3,1,1,3]\n",
    "numIdenticalPairs(nums)"
   ]
  },
  {
   "cell_type": "code",
   "execution_count": 15,
   "id": "2998da08",
   "metadata": {},
   "outputs": [
    {
     "data": {
      "text/plain": [
       "[0, 2]"
      ]
     },
     "execution_count": 15,
     "metadata": {},
     "output_type": "execute_result"
    }
   ],
   "source": [
    "# 2942 find words containing character\n",
    "\"\"\"You are given a 0-indexed array of strings words and a character x.\n",
    "Return an array of indices representing the words that contain the character x.\n",
    "Note that the returned array may be in any order.\n",
    "\n",
    "Example 1:\n",
    "Input: words = [\"leet\",\"code\"], x = \"e\"\n",
    "Output: [0,1]\n",
    "Explanation: \"e\" occurs in both words: \"leet\", and \"code\". Hence, we return indices 0 and 1.\n",
    "\n",
    "Example 2:\n",
    "Input: words = [\"abc\",\"bcd\",\"aaaa\",\"cbc\"], x = \"a\"\n",
    "Output: [0,2]\n",
    "Explanation: \"a\" occurs in \"abc\", and \"aaaa\". Hence, we return indices 0 and 2.\n",
    "\n",
    "Example 3:\n",
    "Input: words = [\"abc\",\"bcd\",\"aaaa\",\"cbc\"], x = \"z\"\n",
    "Output: []\n",
    "Explanation: \"z\" does not occur in any of the words. Hence, we return an empty array.\"\"\"\n",
    "\n",
    "def findWordsContaining(words, x):\n",
    "    res = []\n",
    "    \n",
    "    for word in words:\n",
    "        if x in word:\n",
    "            res.append(words.index(word))\n",
    "    return res\n",
    "\n",
    "    \n",
    "words = [\"abc\",\"bcd\",\"aaaa\",\"cbc\"]\n",
    "x = \"a\"\n",
    "findWordsContaining(words, x)"
   ]
  },
  {
   "cell_type": "code",
   "execution_count": 16,
   "id": "ac656316",
   "metadata": {},
   "outputs": [
    {
     "data": {
      "text/plain": [
       "[0, 2]"
      ]
     },
     "execution_count": 16,
     "metadata": {},
     "output_type": "execute_result"
    }
   ],
   "source": [
    "def findWordsContaining(words, x):\n",
    "    res = []\n",
    "    \n",
    "    for idx, word in enumerate(words):\n",
    "        if x in word:\n",
    "            res.append(idx)\n",
    "    return res\n",
    "\n",
    "    \n",
    "words = [\"abc\",\"bcd\",\"aaaa\",\"cbc\"]\n",
    "x = \"a\"\n",
    "findWordsContaining(words, x)"
   ]
  },
  {
   "cell_type": "code",
   "execution_count": 32,
   "id": "36ce6e09",
   "metadata": {},
   "outputs": [
    {
     "data": {
      "text/plain": [
       "[[2, 2, 2], [2, 2, 2], [2, 2, 2]]"
      ]
     },
     "execution_count": 32,
     "metadata": {},
     "output_type": "execute_result"
    }
   ],
   "source": [
    "# 2373 largest local values in a matrix\n",
    "\"\"\"You are given an n x n integer matrix grid.\n",
    "Generate an integer matrix maxLocal of size (n - 2) x (n - 2) such that:\n",
    "maxLocal[i][j] is equal to the largest value of the 3 x 3 matrix in grid centered around row i + 1 and column j + 1.\n",
    "In other words, we want to find the largest value in every contiguous 3 x 3 matrix in grid.\n",
    "Return the generated matrix.\n",
    "\n",
    "Example 1:\n",
    "Input: grid = [[9,9,8,1],[5,6,2,6],[8,2,6,4],[6,2,2,2]]\n",
    "Output: [[9,9],[8,6]]\n",
    "Explanation: The diagram above shows the original matrix and the generated matrix.\n",
    "Notice that each value in the generated matrix corresponds to the largest value of a contiguous 3 x 3 matrix in grid.\n",
    "\n",
    "Example 2:\n",
    "Input: grid = [[1,1,1,1,1],[1,1,1,1,1],[1,1,2,1,1],[1,1,1,1,1],[1,1,1,1,1]]\n",
    "Output: [[2,2,2],[2,2,2],[2,2,2]]\n",
    "Explanation: Notice that the 2 is contained within every contiguous 3 x 3 matrix in grid.\"\"\"\n",
    "\n",
    "def largestLocal(grid):\n",
    "    m = len(grid)\n",
    "    n = len(grid[0])\n",
    "    res = []\n",
    "        \n",
    "    for i in range(m-2):\n",
    "        row = []\n",
    "        for j in range(n-2):\n",
    "            maxLocal = max(grid[i][j],grid[i][j+1],grid[i][j+2],\n",
    "                          grid[i+1][j],grid[i+1][j+1],grid[i+1][j+2],\n",
    "                          grid[i+2][j],grid[i+2][j+1],grid[i+2][j+2])\n",
    "            row.append(maxLocal)\n",
    "        res.append(row)\n",
    "    return res\n",
    "        \n",
    "grid = [[1,1,1,1,1],[1,1,1,1,1],[1,1,2,1,1],[1,1,1,1,1],[1,1,1,1,1]]\n",
    "largestLocal(grid)"
   ]
  },
  {
   "cell_type": "code",
   "execution_count": 35,
   "id": "1c5e5077",
   "metadata": {},
   "outputs": [
    {
     "data": {
      "text/plain": [
       "6"
      ]
     },
     "execution_count": 35,
     "metadata": {},
     "output_type": "execute_result"
    }
   ],
   "source": [
    "# 1863 Sum of all subsets XOR totals\n",
    "\"\"\"Example 1:\n",
    "Input: nums = [1,3]\n",
    "Output: 6\n",
    "Explanation: The 4 subsets of [1,3] are:\n",
    "- The empty subset has an XOR total of 0.\n",
    "- [1] has an XOR total of 1.\n",
    "- [3] has an XOR total of 3.\n",
    "- [1,3] has an XOR total of 1 XOR 3 = 2.\n",
    "0 + 1 + 3 + 2 = 6\n",
    "\n",
    "Example 2:\n",
    "Input: nums = [5,1,6]\n",
    "Output: 28\n",
    "Explanation: The 8 subsets of [5,1,6] are:\n",
    "- The empty subset has an XOR total of 0.\n",
    "- [5] has an XOR total of 5.\n",
    "- [1] has an XOR total of 1.\n",
    "- [6] has an XOR total of 6.\n",
    "- [5,1] has an XOR total of 5 XOR 1 = 4.\n",
    "- [5,6] has an XOR total of 5 XOR 6 = 3.\n",
    "- [1,6] has an XOR total of 1 XOR 6 = 7.\n",
    "- [5,1,6] has an XOR total of 5 XOR 1 XOR 6 = 2.\n",
    "0 + 5 + 1 + 6 + 4 + 3 + 7 + 2 = 28\n",
    "\n",
    "Example 3:\n",
    "Input: nums = [3,4,5,6,7,8]\n",
    "Output: 480\n",
    "Explanation: The sum of all XOR totals for every subset is 480.\n",
    " \"\"\"\n",
    "def subsetXORSum(nums):\n",
    "    def xorSubsets(i, current):\n",
    "        if i == len(nums):\n",
    "            return current\n",
    "        \n",
    "        #xor without including the current nuber\n",
    "        without_current = xorSubsets(i+1, current)\n",
    "        \n",
    "        #xor including current number\n",
    "        with_current = xorSubsets(i+1, current^nums[i])\n",
    "        \n",
    "        return with_current + without_current\n",
    "        \n",
    "    return xorSubsets(0,0)\n",
    "    \n",
    "nums = [1,3]\n",
    "subsetXORSum(nums)"
   ]
  },
  {
   "cell_type": "code",
   "execution_count": 37,
   "id": "5d7db946",
   "metadata": {},
   "outputs": [
    {
     "data": {
      "text/plain": [
       "4"
      ]
     },
     "execution_count": 37,
     "metadata": {},
     "output_type": "execute_result"
    }
   ],
   "source": [
    "# 2037 Minimum number of moves to seat everyone\n",
    "\"\"\"Example 1:\n",
    "Input: seats = [3,1,5], students = [2,7,4]\n",
    "Output: 4\n",
    "Explanation: The students are moved as follows:\n",
    "- The first student is moved from from position 2 to position 1 using 1 move.\n",
    "- The second student is moved from from position 7 to position 5 using 2 moves.\n",
    "- The third student is moved from from position 4 to position 3 using 1 move.\n",
    "In total, 1 + 2 + 1 = 4 moves were used.\n",
    "\n",
    "Example 2:\n",
    "Input: seats = [4,1,5,9], students = [1,3,2,6]\n",
    "Output: 7\n",
    "Explanation: The students are moved as follows:\n",
    "- The first student is not moved.\n",
    "- The second student is moved from from position 3 to position 4 using 1 move.\n",
    "- The third student is moved from from position 2 to position 5 using 3 moves.\n",
    "- The fourth student is moved from from position 6 to position 9 using 3 moves.\n",
    "In total, 0 + 1 + 3 + 3 = 7 moves were used.\n",
    "\n",
    "Example 3:\n",
    "Input: seats = [2,2,6,6], students = [1,3,2,6]\n",
    "Output: 4\n",
    "Explanation: Note that there are two seats at position 2 and two seats at position 6.\n",
    "The students are moved as follows:\n",
    "- The first student is moved from from position 1 to position 2 using 1 move.\n",
    "- The second student is moved from from position 3 to position 6 using 3 moves.\n",
    "- The third student is not moved.\n",
    "- The fourth student is not moved.\n",
    "In total, 1 + 3 + 0 + 0 = 4 moves were used.\"\"\"\n",
    "\n",
    "def minMovesToSeat(seats, students):\n",
    "    seats.sort()\n",
    "    students.sort()\n",
    "    \n",
    "    total_moves = 0\n",
    "    \n",
    "    for seat, student in zip(seats, students):\n",
    "        total_moves = total_moves + abs(seat-student)\n",
    "    return total_moves\n",
    "\n",
    "seats = [3,1,5]\n",
    "students = [2,7,4]\n",
    "minMovesToSeat(seats, students)"
   ]
  },
  {
   "cell_type": "code",
   "execution_count": 41,
   "id": "40055712",
   "metadata": {},
   "outputs": [
    {
     "data": {
      "text/plain": [
       "0"
      ]
     },
     "execution_count": 41,
     "metadata": {},
     "output_type": "execute_result"
    }
   ],
   "source": [
    "# 2798 Number of Employes Who met the target\n",
    "\"\"\"Example 1:\n",
    "Input: hours = [0,1,2,3,4], target = 2\n",
    "Output: 3\n",
    "Explanation: The company wants each employee to work for at least 2 hours.\n",
    "- Employee 0 worked for 0 hours and didn't meet the target.\n",
    "- Employee 1 worked for 1 hours and didn't meet the target.\n",
    "- Employee 2 worked for 2 hours and met the target.\n",
    "- Employee 3 worked for 3 hours and met the target.\n",
    "- Employee 4 worked for 4 hours and met the target.\n",
    "There are 3 employees who met the target.\n",
    "\n",
    "Example 2:\n",
    "Input: hours = [5,1,4,2,2], target = 6\n",
    "Output: 0\n",
    "Explanation: The company wants each employee to work for at least 6 hours.\n",
    "There are 0 employees who met the target.\"\"\"\n",
    "\n",
    "def numberOfEmployeesWhoMetTarget(hours, target):\n",
    "    count = 0\n",
    "    for emp in hours:\n",
    "        if emp > target:\n",
    "            count = count + 1\n",
    "    return count\n",
    "hours = [5,1,4,2,2]\n",
    "target = 6\n",
    "numberOfEmployeesWhoMetTarget(hours, target)"
   ]
  },
  {
   "cell_type": "code",
   "execution_count": 48,
   "id": "300dde21",
   "metadata": {},
   "outputs": [
    {
     "data": {
      "text/plain": [
       "[True, True, True, False, True]"
      ]
     },
     "execution_count": 48,
     "metadata": {},
     "output_type": "execute_result"
    }
   ],
   "source": [
    "# 1431 Kids with the greatest number of Candies\n",
    "\"\"\"Example 1:\n",
    "Input: candies = [2,3,5,1,3], extraCandies = 3\n",
    "Output: [true,true,true,false,true] \n",
    "Explanation: If you give all extraCandies to:\n",
    "- Kid 1, they will have 2 + 3 = 5 candies, which is the greatest among the kids.\n",
    "- Kid 2, they will have 3 + 3 = 6 candies, which is the greatest among the kids.\n",
    "- Kid 3, they will have 5 + 3 = 8 candies, which is the greatest among the kids.\n",
    "- Kid 4, they will have 1 + 3 = 4 candies, which is not the greatest among the kids.\n",
    "- Kid 5, they will have 3 + 3 = 6 candies, which is the greatest among the kids.\n",
    "\n",
    "Example 2:\n",
    "Input: candies = [4,2,1,1,2], extraCandies = 1\n",
    "Output: [true,false,false,false,false] \n",
    "Explanation: There is only 1 extra candy.\n",
    "Kid 1 will always have the greatest number of candies, even if a different kid is given the extra candy.\n",
    "\n",
    "Example 3:\n",
    "Input: candies = [12,1,12], extraCandies = 10\n",
    "Output: [true,false,true]\"\"\"\n",
    "\n",
    "def kidsWithCandies(candies, extraCandies):\n",
    "    max_candies = max(candies)\n",
    "    res = []\n",
    "    for i in range(len(candies)):\n",
    "        if candies[i] + extraCandies >= max_candies:\n",
    "            res.append(True)\n",
    "        else:\n",
    "            res.append(False)\n",
    "    return res\n",
    "\n",
    "\n",
    "candies = [2,3,5,1,3]\n",
    "extraCandies = 3\n",
    "kidsWithCandies(candies, extraCandies)"
   ]
  },
  {
   "cell_type": "code",
   "execution_count": 49,
   "id": "412689ff",
   "metadata": {},
   "outputs": [
    {
     "name": "stdout",
     "output_type": "stream",
     "text": [
      "1\n",
      "3\n"
     ]
    }
   ],
   "source": [
    "# 1637 Widest Vertical Area Between Two points containg no points\n",
    "\"\"\"Given n points on a 2D plane where points[i] = [xi, yi], Return the widest vertical area between two points such that no \n",
    "points are inside the area.\n",
    "A vertical area is an area of fixed-width extending infinitely along the y-axis (i.e., infinite height). The widest vertical\n",
    "area is the one with the maximum width.\n",
    "Note that points on the edge of a vertical area are not considered included in the area.\n",
    "\n",
    "Example 1:\n",
    "Input: points = [[8,7],[9,9],[7,4],[9,7]]\n",
    "Output: 1\n",
    "Explanation: Both the red and the blue area are optimal.\n",
    "\n",
    "Example 2:\n",
    "Input: points = [[3,1],[9,0],[1,0],[1,4],[5,3],[8,8]]\n",
    "Output: 3\"\"\"\n",
    "\n",
    "def maxWidthOfVerticalArea(points):\n",
    "    # Extract x-coordinates from points\n",
    "    x_coords = [point[0] for point in points]\n",
    "    \n",
    "    # Sort the x-coordinates\n",
    "    x_coords.sort()\n",
    "    \n",
    "    # Find the maximum gap between consecutive x-coordinates\n",
    "    max_gap = 0\n",
    "    for i in range(1, len(x_coords)):\n",
    "        max_gap = max(max_gap, x_coords[i] - x_coords[i - 1])\n",
    "    \n",
    "    return max_gap\n",
    "\n",
    "# Example usage:\n",
    "points1 = [[8, 7], [9, 9], [7, 4], [9, 7]]\n",
    "print(maxWidthOfVerticalArea(points1))  # Output: 1\n",
    "\n",
    "points2 = [[3, 1], [9, 0], [1, 0], [1, 4], [5, 3], [8, 8]]\n",
    "print(maxWidthOfVerticalArea(points2))  # Output: 3\n"
   ]
  },
  {
   "cell_type": "code",
   "execution_count": 58,
   "id": "27c26391",
   "metadata": {},
   "outputs": [
    {
     "name": "stdout",
     "output_type": "stream",
     "text": [
      "[(0, 1), (0, 2), (0, 4)]\n"
     ]
    },
    {
     "data": {
      "text/plain": [
       "3"
      ]
     },
     "execution_count": 58,
     "metadata": {},
     "output_type": "execute_result"
    }
   ],
   "source": [
    "#2824 Count Pairs Whose Sum is Less than target\n",
    "\"\"\"Example 1:\n",
    "Input: nums = [-1,1,2,3,1], target = 2\n",
    "Output: 3\n",
    "Explanation: There are 3 pairs of indices that satisfy the conditions in the statement:\n",
    "- (0, 1) since 0 < 1 and nums[0] + nums[1] = 0 < target\n",
    "- (0, 2) since 0 < 2 and nums[0] + nums[2] = 1 < target \n",
    "- (0, 4) since 0 < 4 and nums[0] + nums[4] = 0 < target\n",
    "Note that (0, 3) is not counted since nums[0] + nums[3] is not strictly less than the target.\n",
    "\n",
    "Example 2:\n",
    "Input: nums = [-6,2,5,-2,-7,-1,3], target = -2\n",
    "Output: 10\n",
    "Explanation: There are 10 pairs of indices that satisfy the conditions in the statement:\n",
    "- (0, 1) since 0 < 1 and nums[0] + nums[1] = -4 < target\n",
    "- (0, 3) since 0 < 3 and nums[0] + nums[3] = -8 < target\n",
    "- (0, 4) since 0 < 4 and nums[0] + nums[4] = -13 < target\n",
    "- (0, 5) since 0 < 5 and nums[0] + nums[5] = -7 < target\n",
    "- (0, 6) since 0 < 6 and nums[0] + nums[6] = -3 < target\n",
    "- (1, 4) since 1 < 4 and nums[1] + nums[4] = -5 < target\n",
    "- (3, 4) since 3 < 4 and nums[3] + nums[4] = -9 < target\n",
    "- (3, 5) since 3 < 5 and nums[3] + nums[5] = -3 < target\n",
    "- (4, 5) since 4 < 5 and nums[4] + nums[5] = -8 < target\n",
    "- (4, 6) since 4 < 6 and nums[4] + nums[6] = -4 < target\"\"\"\n",
    "\n",
    "def countPairs(nums, target):\n",
    "    count = 0\n",
    "    res = []\n",
    "    for i in range(len(nums)):\n",
    "        for j in range(i+1, len(nums)):\n",
    "            if nums[i] + nums[j] < target:\n",
    "                ans = i,j\n",
    "                res.append(ans)\n",
    "                count += 1\n",
    "    print(res)\n",
    "    return count\n",
    "\n",
    "nums = [-1,1,2,3,1]\n",
    "target = 2\n",
    "countPairs(nums, target)"
   ]
  },
  {
   "cell_type": "code",
   "execution_count": 66,
   "id": "b976c4ef",
   "metadata": {},
   "outputs": [
    {
     "data": {
      "text/plain": [
       "[4, 0, 1, 1, 3]"
      ]
     },
     "execution_count": 66,
     "metadata": {},
     "output_type": "execute_result"
    }
   ],
   "source": [
    "# 1365 How many numbers are smaller than the current number\n",
    "\"\"\"Example 1:\n",
    "Input: nums = [8,1,2,2,3]\n",
    "Output: [4,0,1,1,3]\n",
    "Explanation: \n",
    "For nums[0]=8 there exist four smaller numbers than it (1, 2, 2 and 3). \n",
    "For nums[1]=1 does not exist any smaller number than it.\n",
    "For nums[2]=2 there exist one smaller number than it (1). \n",
    "For nums[3]=2 there exist one smaller number than it (1). \n",
    "For nums[4]=3 there exist three smaller numbers than it (1, 2 and 2).\n",
    "\n",
    "Example 2:\n",
    "Input: nums = [6,5,4,8]\n",
    "Output: [2,1,0,3]\n",
    "\n",
    "Example 3:\n",
    "Input: nums = [7,7,7,7]\n",
    "Output: [0,0,0,0]\n",
    " \"\"\"\n",
    "def smallerNumbersThanCurrent(nums):\n",
    "    res = []\n",
    "    \n",
    "    for i in range(len(nums)):\n",
    "        count = 0\n",
    "        for j in range(len(nums)):\n",
    "            if nums[j] < nums[i]:\n",
    "                count += 1\n",
    "        res.append(count)\n",
    "    return res\n",
    "                \n",
    "\n",
    "nums = [8,1,2,2,3]\n",
    "smallerNumbersThanCurrent(nums)"
   ]
  },
  {
   "cell_type": "code",
   "execution_count": 19,
   "id": "47cc0435",
   "metadata": {},
   "outputs": [
    {
     "name": "stdout",
     "output_type": "stream",
     "text": [
      "[0, 10, 14, 22]\n",
      "[15, 11, 3, 0]\n"
     ]
    },
    {
     "data": {
      "text/plain": [
       "[15, 1, 11, 22]"
      ]
     },
     "execution_count": 19,
     "metadata": {},
     "output_type": "execute_result"
    }
   ],
   "source": [
    "# 2574 left and right sum differenece\n",
    "\"\"\"Example 1:\n",
    "Input: nums = [10,4,8,3]\n",
    "Output: [15,1,11,22]\n",
    "Explanation: The array leftSum is [0,10,14,22] and the array rightSum is [15,11,3,0].\n",
    "The array answer is [|0 - 15|,|10 - 11|,|14 - 3|,|22 - 0|] = [15,1,11,22].\n",
    "\n",
    "Example 2:\n",
    "Input: nums = [1]\n",
    "Output: [0]\n",
    "Explanation: The array leftSum is [0] and the array rightSum is [0].\n",
    "The array answer is [|0 - 0|] = [0].\"\"\"\n",
    "\n",
    "def leftRightDifference(nums):\n",
    "    leftSum = []\n",
    "    rightSum = []\n",
    "    \n",
    "    sum1 = 0\n",
    "    for i in range(len(nums)):\n",
    "        leftSum.append(sum1)\n",
    "        sum1 = sum1 + nums[i]\n",
    "    print(leftSum)\n",
    "\n",
    "    sum2 = 0\n",
    "    for i in range(len(nums)-1,-1,-1):\n",
    "        rightSum.append(sum2)\n",
    "        sum2 = sum2 + nums[i]\n",
    "    rightSum.reverse()\n",
    "    print(rightSum)\n",
    "    \n",
    "    res = []\n",
    "    for i, j in zip(leftSum, rightSum):\n",
    "        res.append(abs(i-j))\n",
    "    return res\n",
    "        \n",
    "nums = [10,4,8,3]\n",
    "leftRightDifference(nums)"
   ]
  },
  {
   "cell_type": "code",
   "execution_count": 20,
   "id": "a875ab03",
   "metadata": {},
   "outputs": [
    {
     "data": {
      "text/plain": [
       "[15, 1, 11, 22]"
      ]
     },
     "execution_count": 20,
     "metadata": {},
     "output_type": "execute_result"
    }
   ],
   "source": [
    "#efficient code\n",
    "def leftRightDifference(nums):\n",
    "    n = len(nums)\n",
    "    left_sum = [0]*n\n",
    "    right_sum = [0]*n\n",
    "    res = [0]*n\n",
    "    \n",
    "    for i in range(1,n):\n",
    "        left_sum[i] = left_sum[i-1] + nums[i-1]\n",
    "    for i in range(n-2,-1,-1):\n",
    "        right_sum[i] = right_sum[i+1] + nums[i+1]\n",
    "        \n",
    "    for i in range(n):\n",
    "        res[i] = abs(left_sum[i]- right_sum[i])\n",
    "    return res\n",
    "    \n",
    "nums = [10,4,8,3]\n",
    "leftRightDifference(nums)"
   ]
  },
  {
   "cell_type": "code",
   "execution_count": 22,
   "id": "401cb075",
   "metadata": {},
   "outputs": [
    {
     "data": {
      "text/plain": [
       "13"
      ]
     },
     "execution_count": 22,
     "metadata": {},
     "output_type": "execute_result"
    }
   ],
   "source": [
    "# 2859 Sum of values at indices with K set bits\n",
    "\"\"\"Example 1:\n",
    "Input: nums = [5,10,1,5,2], k = 1\n",
    "Output: 13\n",
    "Explanation: The binary representation of the indices are: \n",
    "0 = 000 2\n",
    "1 = 001 2\n",
    "2 = 010 2\n",
    "3 = 011 2\n",
    "4 = 100 2 \n",
    "Indices 1, 2, and 4 have k = 1 set bits in their binary representation.\n",
    "Hence, the answer is nums[1] + nums[2] + nums[4] = 13.\n",
    "\n",
    "Example 2:\n",
    "Input: nums = [4,3,2,1], k = 2\n",
    "Output: 1\n",
    "Explanation: The binary representation of the indices are:\n",
    "0 = 00 2\n",
    "1 = 01 2\n",
    "2 = 10 2\n",
    "3 = 11 2\n",
    "Only index 3 has k = 2 set bits in its binary representation.\n",
    "Hence, the answer is nums[3] = 1.\"\"\"\n",
    "\n",
    "def sumIndicesWithKSetBits(nums, k):\n",
    "    \n",
    "    def generate_bits(n):\n",
    "        return bin(n).count('1')\n",
    "    \n",
    "    res = 0\n",
    "    for i in range(len(nums)):\n",
    "        if generate_bits(i) == k:\n",
    "            res = res + nums[i]\n",
    "    return res\n",
    "\n",
    "nums = [5,10,1,5,2]\n",
    "k = 1\n",
    "sumIndicesWithKSetBits(nums, k)"
   ]
  },
  {
   "cell_type": "code",
   "execution_count": 25,
   "id": "abca5c00",
   "metadata": {},
   "outputs": [
    {
     "data": {
      "text/plain": [
       "2"
      ]
     },
     "execution_count": 25,
     "metadata": {},
     "output_type": "execute_result"
    }
   ],
   "source": [
    "x = bin(10).count('1')\n",
    "x"
   ]
  },
  {
   "cell_type": "code",
   "execution_count": 30,
   "id": "7d7ada3e",
   "metadata": {},
   "outputs": [
    {
     "name": "stdout",
     "output_type": "stream",
     "text": [
      "[1, 0]\n",
      "[1, 0, 2]\n",
      "[1, 0, 2, 1]\n"
     ]
    },
    {
     "data": {
      "text/plain": [
       "[1, 0, 2, 1]"
      ]
     },
     "execution_count": 30,
     "metadata": {},
     "output_type": "execute_result"
    }
   ],
   "source": [
    "# 1720 Decode XORed Array\n",
    "\"\"\"There is a hidden integer array arr that consists of n non-negative integers.\n",
    "It was encoded into another integer array encoded of length n - 1, such that encoded[i] = arr[i] XOR arr[i + 1].\n",
    "For example, if arr = [1,0,2,1], then encoded = [1,2,3].\n",
    "You are given the encoded array. You are also given an integer first, that is the first element of arr, i.e. arr[0].\n",
    "Return the original array arr. It can be proved that the answer exists and is unique.\n",
    "\n",
    "Example 1:\n",
    "Input: encoded = [1,2,3], first = 1\n",
    "Output: [1,0,2,1]\n",
    "Explanation: If arr = [1,0,2,1], then first = 1 and encoded = [1 XOR 0, 0 XOR 2, 2 XOR 1] = [1,2,3]\n",
    "\n",
    "Example 2:\n",
    "Input: encoded = [6,2,7,3], first = 4\n",
    "Output: [4,2,0,7,4]\"\"\"\n",
    "\n",
    "def decode(encoded, first):\n",
    "    res = [first]\n",
    "    \n",
    "    for i in encoded:\n",
    "        res.append(i ^ res[-1])\n",
    "        print(res)\n",
    "    return res\n",
    "\n",
    "encoded = [1,2,3]\n",
    "first = 1\n",
    "decode(encoded, first)"
   ]
  },
  {
   "cell_type": "code",
   "execution_count": 32,
   "id": "4d2ed47d",
   "metadata": {},
   "outputs": [
    {
     "name": "stdout",
     "output_type": "stream",
     "text": [
      "0 0\n",
      "1 0\n",
      "1 1\n",
      "2 0\n",
      "2 2\n"
     ]
    },
    {
     "data": {
      "text/plain": [
       "5"
      ]
     },
     "execution_count": 32,
     "metadata": {},
     "output_type": "execute_result"
    }
   ],
   "source": [
    "# 3162 Find the Number of Good Pairs\n",
    "\"\"\"You are given 2 integer arrays nums1 and nums2 of lengths n and m respectively. You are also given a positive integer k.\n",
    "A pair (i, j) is called good if nums1[i] is divisible by nums2[j] * k (0 <= i <= n - 1, 0 <= j <= m - 1).\n",
    "Return the total number of good pairs.\n",
    "\n",
    "Example 1:\n",
    "Input: nums1 = [1,3,4], nums2 = [1,3,4], k = 1\n",
    "Output: 5\n",
    "Explanation:\n",
    "The 5 good pairs are (0, 0), (1, 0), (1, 1), (2, 0), and (2, 2).\n",
    "\n",
    "Example 2:\n",
    "Input: nums1 = [1,2,4,12], nums2 = [2,4], k = 3\n",
    "Output: 2\n",
    "Explanation:\n",
    "The 2 good pairs are (3, 0) and (3, 1).\"\"\"\n",
    "\n",
    "def numberOfPairs(nums1,nums2, k):\n",
    "    count = 0\n",
    "    for i in range(len(nums1)):\n",
    "        for j in range(len(nums2)):\n",
    "            if nums1[i] % (nums2[j]*k) == 0:\n",
    "                print(i,j)\n",
    "                count += 1\n",
    "    return count\n",
    "\n",
    "nums1 = [1,3,4]\n",
    "nums2 = [1,3,4]\n",
    "k = 1\n",
    "numberOfPairs(nums1, nums2, k)"
   ]
  },
  {
   "cell_type": "code",
   "execution_count": 35,
   "id": "fd2a1f0f",
   "metadata": {},
   "outputs": [
    {
     "data": {
      "text/plain": [
       "3"
      ]
     },
     "execution_count": 35,
     "metadata": {},
     "output_type": "execute_result"
    }
   ],
   "source": [
    "# 3065 Minimum Operations to Exceed Threshold value 1\n",
    "\"\"\"You are given a 0-indexed integer array nums, and an integer k.\n",
    "In one operation, you can remove one occurrence of the smallest element of nums.\n",
    "Return the minimum number of operations needed so that all elements of the array are greater than or equal to k.\n",
    "\n",
    "Example 1:\n",
    "Input: nums = [2,11,10,1,3], k = 10\n",
    "Output: 3\n",
    "Explanation: After one operation, nums becomes equal to [2, 11, 10, 3].\n",
    "After two operations, nums becomes equal to [11, 10, 3].\n",
    "After three operations, nums becomes equal to [11, 10].\n",
    "At this stage, all the elements of nums are greater than or equal to 10 so we can stop.\n",
    "It can be shown that 3 is the minimum number of operations needed so that all elements of the array are greater than or equal\n",
    "to 10.\n",
    "\n",
    "Example 2:\n",
    "Input: nums = [1,1,2,4,9], k = 1\n",
    "Output: 0\n",
    "Explanation: All elements of the array are greater than or equal to 1 so we do not need to apply any operations on nums.\n",
    "\n",
    "Example 3:\n",
    "Input: nums = [1,1,2,4,9], k = 9\n",
    "Output: 4\n",
    "Explanation: only a single element of nums is greater than or equal to 9 so we need to apply the operations 4 times on nums.\"\"\"\n",
    "\n",
    "def minOperations(nums, k):\n",
    "    count = 0\n",
    "    for num in nums:\n",
    "        if num<k:\n",
    "            count += 1\n",
    "    return count\n",
    "\n",
    "nums = [2,11,10,1,3]\n",
    "k = 10\n",
    "minOperations(nums, k)"
   ]
  },
  {
   "cell_type": "code",
   "execution_count": 52,
   "id": "594fa830",
   "metadata": {},
   "outputs": [
    {
     "name": "stdout",
     "output_type": "stream",
     "text": [
      "0 0\n",
      "1 1\n",
      "2 2\n",
      "3 2\n",
      "4 1\n"
     ]
    },
    {
     "data": {
      "text/plain": [
       "[0, 4, 1, 3, 2]"
      ]
     },
     "execution_count": 52,
     "metadata": {},
     "output_type": "execute_result"
    }
   ],
   "source": [
    "# 1389 Create Target Array in the Given Order\n",
    "\"\"\"Given two arrays of integers nums and index. Your task is to create target array under the following rules:\n",
    "Initially target array is empty.\n",
    "From left to right read nums[i] and index[i], insert at index index[i] the value nums[i] in target array.\n",
    "Repeat the previous step until there are no elements to read in nums and index.\n",
    "Return the target array.\n",
    "It is guaranteed that the insertion operations will be valid.\n",
    "\n",
    "Example 1:\n",
    "Input: nums = [0,1,2,3,4], index = [0,1,2,2,1]\n",
    "Output: [0,4,1,3,2]\n",
    "Explanation:\n",
    "nums       index     target\n",
    "0            0        [0]\n",
    "1            1        [0,1]\n",
    "2            2        [0,1,2]\n",
    "3            2        [0,1,3,2]\n",
    "4            1        [0,4,1,3,2]\n",
    "\n",
    "Example 2:\n",
    "Input: nums = [1,2,3,4,0], index = [0,1,2,3,0]\n",
    "Output: [0,1,2,3,4]\n",
    "Explanation:\n",
    "nums       index     target\n",
    "1            0        [1]\n",
    "2            1        [1,2]\n",
    "3            2        [1,2,3]\n",
    "4            3        [1,2,3,4]\n",
    "0            0        [0,1,2,3,4]\n",
    "\n",
    "Example 3:\n",
    "Input: nums = [1], index = [0]\n",
    "Output: [1]\"\"\"\n",
    "\n",
    "def createTargetArray(nums, index):\n",
    "    target = []\n",
    "    \n",
    "    for num, idx in zip(nums, index):\n",
    "        print(num, idx)\n",
    "        target.insert(idx, num)\n",
    "    return target\n",
    "    \n",
    "nums = [0,1,2,3,4]\n",
    "index = [0,1,2,2,1]\n",
    "createTargetArray(nums, index)"
   ]
  },
  {
   "cell_type": "code",
   "execution_count": 53,
   "id": "2a7f78d7",
   "metadata": {},
   "outputs": [
    {
     "data": {
      "text/plain": [
       "[0, 4, 1, 3, 2]"
      ]
     },
     "execution_count": 53,
     "metadata": {},
     "output_type": "execute_result"
    }
   ],
   "source": [
    "def createTargetArray(nums, index):\n",
    "    target = []\n",
    "    \n",
    "    for i in range(len(nums)):\n",
    "        target.insert(index[i], nums[i])\n",
    "    return target\n",
    "    \n",
    "nums = [0,1,2,3,4]\n",
    "index = [0,1,2,2,1]\n",
    "createTargetArray(nums, index)"
   ]
  },
  {
   "cell_type": "code",
   "execution_count": 61,
   "id": "ab84c50e",
   "metadata": {},
   "outputs": [
    {
     "data": {
      "text/plain": [
       "[3, 2, 5, 4]"
      ]
     },
     "execution_count": 61,
     "metadata": {},
     "output_type": "execute_result"
    }
   ],
   "source": [
    "# 2974 Minimum Number game\n",
    "\"\"\"You are given a 0-indexed integer array nums of even length and there is also an empty array arr. Alice and Bob decided to \n",
    "play a game where in every round Alice and Bob will do one move. The rules of the game are as follows:\n",
    "\n",
    "Every round, first Alice will remove the minimum element from nums, and then Bob does the same.\n",
    "Now, first Bob will append the removed element in the array arr, and then Alice does the same.\n",
    "The game continues until nums becomes empty.\n",
    "Return the resulting array arr.\n",
    "\n",
    "Example 1:\n",
    "Input: nums = [5,4,2,3]\n",
    "Output: [3,2,5,4]\n",
    "Explanation: In round one, first Alice removes 2 and then Bob removes 3. Then in arr firstly Bob appends 3 and then Alice \n",
    "appends 2. So arr = [3,2].\n",
    "At the begining of round two, nums = [5,4]. Now, first Alice removes 4 and then Bob removes 5. Then both append in arr which \n",
    "becomes [3,2,5,4].\n",
    "\n",
    "Example 2:\n",
    "Input: nums = [2,5]\n",
    "Output: [5,2]\n",
    "Explanation: In round one, first Alice removes 2 and then Bob removes 5. Then in arr firstly Bob appends and then Alice appends.\n",
    "So arr = [5,2].\"\"\"\n",
    "\n",
    "def numberGame(nums):\n",
    "    nums.sort()\n",
    "    n = len(nums)\n",
    "    \n",
    "    for i in range(0,n-1,2):\n",
    "        nums[i], nums[i+1] = nums[i+1], nums[i]\n",
    "    return nums\n",
    "    \n",
    "\n",
    "nums = [5,4,2,3]\n",
    "numberGame(nums)"
   ]
  },
  {
   "cell_type": "code",
   "execution_count": 62,
   "id": "ad9c207a",
   "metadata": {},
   "outputs": [
    {
     "data": {
      "text/plain": [
       "[3, 2, 5, 4]"
      ]
     },
     "execution_count": 62,
     "metadata": {},
     "output_type": "execute_result"
    }
   ],
   "source": [
    "# efficient code\n",
    "def numberGame(nums):\n",
    "    res = []\n",
    "    \n",
    "    while nums:\n",
    "        #alice removes smallest element from nums\n",
    "        alice_choice = min(nums)\n",
    "        nums.remove(alice_choice)\n",
    "        \n",
    "        #bob removes smallest number from remaining nums\n",
    "        if nums:\n",
    "            bob_choice = min(nums)\n",
    "            nums.remove(bob_choice)\n",
    "        else:\n",
    "            bob_choice = None\n",
    "        \n",
    "        # Bob appends his choice to res\n",
    "        if bob_choice is not None:\n",
    "            res.append(bob_choice)\n",
    "            \n",
    "        res.append(alice_choice)\n",
    "    return res\n",
    "\n",
    "nums = [5,4,2,3]\n",
    "numberGame(nums)"
   ]
  },
  {
   "cell_type": "code",
   "execution_count": 65,
   "id": "d05b8a49",
   "metadata": {},
   "outputs": [
    {
     "data": {
      "text/plain": [
       "True"
      ]
     },
     "execution_count": 65,
     "metadata": {},
     "output_type": "execute_result"
    }
   ],
   "source": [
    "# 1662 Check if Two Strings are Equal\n",
    "\"\"\"Example 1:\n",
    "Input: word1 = [\"ab\", \"c\"], word2 = [\"a\", \"bc\"]\n",
    "Output: true\n",
    "Explanation:\n",
    "word1 represents string \"ab\" + \"c\" -> \"abc\"\n",
    "word2 represents string \"a\" + \"bc\" -> \"abc\"\n",
    "The strings are the same, so return true.\n",
    "\n",
    "Example 2:\n",
    "Input: word1 = [\"a\", \"cb\"], word2 = [\"ab\", \"c\"]\n",
    "Output: false\n",
    "\n",
    "Example 3:\n",
    "Input: word1  = [\"abc\", \"d\", \"defg\"], word2 = [\"abcddefg\"]\n",
    "Output: true\"\"\"\n",
    "\n",
    "def arrayStringsAreEqual(word1, word2):\n",
    "    res1 = \"\"\n",
    "    res2 = \"\"\n",
    "    for char in word1:\n",
    "        res1 = res1 + char\n",
    "    for char in word2:\n",
    "        res2 = res2 + char\n",
    "    return res1==res2\n",
    "    \n",
    "word1 = [\"ab\", \"c\"]\n",
    "word2 = [\"a\", \"bc\"]\n",
    "arrayStringsAreEqual(word1, word2)"
   ]
  },
  {
   "cell_type": "code",
   "execution_count": 66,
   "id": "1aaca510",
   "metadata": {},
   "outputs": [
    {
     "data": {
      "text/plain": [
       "True"
      ]
     },
     "execution_count": 66,
     "metadata": {},
     "output_type": "execute_result"
    }
   ],
   "source": [
    "def arrayStringsAreEqual(word1, word2):\n",
    "    res1 = \"\".join(word1)\n",
    "    res2 = \"\".join(word2)\n",
    "    return res1==res2\n",
    "word1 = [\"ab\", \"c\"]\n",
    "word2 = [\"a\", \"bc\"]\n",
    "arrayStringsAreEqual(word1, word2)"
   ]
  },
  {
   "cell_type": "code",
   "execution_count": 78,
   "id": "f90c0e53",
   "metadata": {},
   "outputs": [
    {
     "data": {
      "text/plain": [
       "'Hello how are you'"
      ]
     },
     "execution_count": 78,
     "metadata": {},
     "output_type": "execute_result"
    }
   ],
   "source": [
    "# 1816 Truncate Sentence\n",
    "\"\"\"Example 1:\n",
    "Input: s = \"Hello how are you Contestant\", k = 4\n",
    "Output: \"Hello how are you\"\n",
    "Explanation:\n",
    "The words in s are [\"Hello\", \"how\" \"are\", \"you\", \"Contestant\"].\n",
    "The first 4 words are [\"Hello\", \"how\", \"are\", \"you\"].\n",
    "Hence, you should return \"Hello how are you\".\n",
    "\n",
    "Example 2:\n",
    "Input: s = \"What is the solution to this problem\", k = 4\n",
    "Output: \"What is the solution\"\n",
    "Explanation:\n",
    "The words in s are [\"What\", \"is\" \"the\", \"solution\", \"to\", \"this\", \"problem\"].\n",
    "The first 4 words are [\"What\", \"is\", \"the\", \"solution\"].\n",
    "Hence, you should return \"What is the solution\".\n",
    "\n",
    "Example 3:\n",
    "Input: s = \"chopper is not a tanuki\", k = 5\n",
    "Output: \"chopper is not a tanuki\" \"\"\"\n",
    "\n",
    "def truncateSentence(s, k):\n",
    "    s = s.split()\n",
    "    res = []\n",
    "    for word in s:\n",
    "        res.append(word)\n",
    "    return \" \".join(res[:k])\n",
    "\n",
    "s = \"Hello how are you Contestant\"\n",
    "k = 4\n",
    "truncateSentence(s, k)"
   ]
  },
  {
   "cell_type": "code",
   "execution_count": 106,
   "id": "5dd063af",
   "metadata": {},
   "outputs": [
    {
     "data": {
      "text/plain": [
       "['Mary', 'Emma', 'John']"
      ]
     },
     "execution_count": 106,
     "metadata": {},
     "output_type": "execute_result"
    }
   ],
   "source": [
    "# 2418 sort people\n",
    "\"\"\"You are given an array of strings names, and an array heights that consists of distinct positive integers. Both arrays are \n",
    "of length n.\n",
    "For each index i, names[i] and heights[i] denote the name and height of the ith person.\n",
    "Return names sorted in descending order by the people's heights.\n",
    "\n",
    "Example 1:\n",
    "Input: names = [\"Mary\",\"John\",\"Emma\"], heights = [180,165,170]\n",
    "Output: [\"Mary\",\"Emma\",\"John\"]\n",
    "Explanation: Mary is the tallest, followed by Emma and John.\n",
    "\n",
    "Example 2:\n",
    "Input: names = [\"Alice\",\"Bob\",\"Bob\"], heights = [155,185,150]\n",
    "Output: [\"Bob\",\"Alice\",\"Bob\"]\n",
    "Explanation: The first Bob is the tallest, followed by Alice and the second Bob.\"\"\"\n",
    "\n",
    "def sortPeople(names, heights):\n",
    "    res = []\n",
    "    name_and_height = list(zip(names, heights))\n",
    "        \n",
    "    # Sort the list of tuples by height in descending order\n",
    "    name_and_height.sort(key=lambda x:x[1],reverse=True)\n",
    "    \n",
    "    for name, height in name_and_height:\n",
    "        res.append(name)\n",
    "    return res\n",
    "\n",
    "names = [\"Mary\",\"John\",\"Emma\"]\n",
    "heights = [180,165,170]\n",
    "sortPeople(names, heights)"
   ]
  },
  {
   "cell_type": "code",
   "execution_count": 108,
   "id": "b2a42380",
   "metadata": {},
   "outputs": [
    {
     "data": {
      "text/plain": [
       "2"
      ]
     },
     "execution_count": 108,
     "metadata": {},
     "output_type": "execute_result"
    }
   ],
   "source": [
    "# 1773Count Items MAtching a Rule\n",
    "\"\"\"You are given an array items, where each items[i] = [typei, colori, namei] describes the type, color, and name of the ith \n",
    "item. You are also given a rule represented by two strings, ruleKey and ruleValue.\n",
    "\n",
    "The ith item is said to match the rule if one of the following is true:\n",
    "\n",
    "ruleKey == \"type\" and ruleValue == typei.\n",
    "ruleKey == \"color\" and ruleValue == colori.\n",
    "ruleKey == \"name\" and ruleValue == namei.\n",
    "Return the number of items that match the given rule.\n",
    "\n",
    "Example 1:\n",
    "Input: items = [[\"phone\",\"blue\",\"pixel\"],[\"computer\",\"silver\",\"lenovo\"],[\"phone\",\"gold\",\"iphone\"]], ruleKey = \"color\",\n",
    "ruleValue = \"silver\"\n",
    "Output: 1\n",
    "Explanation: There is only one item matching the given rule, which is [\"computer\",\"silver\",\"lenovo\"].\n",
    "\n",
    "Example 2:\n",
    "Input: items = [[\"phone\",\"blue\",\"pixel\"],[\"computer\",\"silver\",\"phone\"],[\"phone\",\"gold\",\"iphone\"]], ruleKey = \"type\",\n",
    "ruleValue = \"phone\"\n",
    "Output: 2\n",
    "Explanation: There are only two items matching the given rule, which are [\"phone\",\"blue\",\"pixel\"] and [\"phone\",\"gold\",\"iphone\"].\n",
    "Note that the item [\"computer\",\"silver\",\"phone\"] does not match.\"\"\"\n",
    "\n",
    "def countMatches(items, ruleKey, ruleValue):\n",
    "    count = 0\n",
    "    \n",
    "    key_to_index = {\"type\": 0,\"color\": 1,\"name\": 2}\n",
    "    index = key_to_index[ruleKey]\n",
    "    \n",
    "    for item in items:\n",
    "        if item[index] == ruleValue:\n",
    "            count += 1\n",
    "    return count\n",
    "\n",
    "items = [[\"phone\",\"blue\",\"pixel\"],[\"computer\",\"silver\",\"phone\"],[\"phone\",\"gold\",\"iphone\"]]\n",
    "ruleKey = \"type\"\n",
    "ruleValue = \"phone\"\n",
    "\n",
    "countMatches(items, ruleKey, ruleValue)"
   ]
  },
  {
   "cell_type": "code",
   "execution_count": null,
   "id": "08e7a80c",
   "metadata": {},
   "outputs": [],
   "source": []
  },
  {
   "cell_type": "code",
   "execution_count": null,
   "id": "5fd31cbb",
   "metadata": {},
   "outputs": [],
   "source": []
  },
  {
   "cell_type": "code",
   "execution_count": null,
   "id": "49744c71",
   "metadata": {},
   "outputs": [],
   "source": []
  },
  {
   "cell_type": "code",
   "execution_count": null,
   "id": "5537bb20",
   "metadata": {},
   "outputs": [],
   "source": []
  },
  {
   "cell_type": "code",
   "execution_count": null,
   "id": "605a5bc7",
   "metadata": {},
   "outputs": [],
   "source": []
  },
  {
   "cell_type": "code",
   "execution_count": null,
   "id": "c586200c",
   "metadata": {},
   "outputs": [],
   "source": []
  },
  {
   "cell_type": "code",
   "execution_count": null,
   "id": "54aa3ebf",
   "metadata": {},
   "outputs": [],
   "source": []
  },
  {
   "cell_type": "code",
   "execution_count": null,
   "id": "f94c47e1",
   "metadata": {},
   "outputs": [],
   "source": []
  },
  {
   "cell_type": "code",
   "execution_count": null,
   "id": "223f44c7",
   "metadata": {},
   "outputs": [],
   "source": []
  },
  {
   "cell_type": "code",
   "execution_count": null,
   "id": "3919176b",
   "metadata": {},
   "outputs": [],
   "source": []
  },
  {
   "cell_type": "code",
   "execution_count": null,
   "id": "9e6f6dc4",
   "metadata": {},
   "outputs": [],
   "source": []
  },
  {
   "cell_type": "code",
   "execution_count": null,
   "id": "5683f3e3",
   "metadata": {},
   "outputs": [],
   "source": []
  },
  {
   "cell_type": "code",
   "execution_count": null,
   "id": "d03b1d38",
   "metadata": {},
   "outputs": [],
   "source": []
  },
  {
   "cell_type": "code",
   "execution_count": null,
   "id": "152ba8d1",
   "metadata": {},
   "outputs": [],
   "source": []
  },
  {
   "cell_type": "code",
   "execution_count": null,
   "id": "e065875a",
   "metadata": {},
   "outputs": [],
   "source": []
  },
  {
   "cell_type": "code",
   "execution_count": null,
   "id": "921925e3",
   "metadata": {},
   "outputs": [],
   "source": []
  },
  {
   "cell_type": "code",
   "execution_count": null,
   "id": "98b65bf3",
   "metadata": {},
   "outputs": [],
   "source": []
  },
  {
   "cell_type": "code",
   "execution_count": null,
   "id": "e07d4a1a",
   "metadata": {},
   "outputs": [],
   "source": []
  },
  {
   "cell_type": "code",
   "execution_count": null,
   "id": "f55aa509",
   "metadata": {},
   "outputs": [],
   "source": []
  },
  {
   "cell_type": "code",
   "execution_count": null,
   "id": "e1551773",
   "metadata": {},
   "outputs": [],
   "source": []
  },
  {
   "cell_type": "code",
   "execution_count": null,
   "id": "a64eee91",
   "metadata": {},
   "outputs": [],
   "source": []
  },
  {
   "cell_type": "code",
   "execution_count": null,
   "id": "6574c345",
   "metadata": {},
   "outputs": [],
   "source": []
  },
  {
   "cell_type": "code",
   "execution_count": null,
   "id": "95482318",
   "metadata": {},
   "outputs": [],
   "source": []
  },
  {
   "cell_type": "code",
   "execution_count": null,
   "id": "f7aa74e5",
   "metadata": {},
   "outputs": [],
   "source": []
  },
  {
   "cell_type": "code",
   "execution_count": null,
   "id": "72c9e191",
   "metadata": {},
   "outputs": [],
   "source": []
  },
  {
   "cell_type": "code",
   "execution_count": null,
   "id": "8607b401",
   "metadata": {},
   "outputs": [],
   "source": []
  },
  {
   "cell_type": "code",
   "execution_count": null,
   "id": "91b2749f",
   "metadata": {},
   "outputs": [],
   "source": []
  },
  {
   "cell_type": "code",
   "execution_count": null,
   "id": "4fee8b6c",
   "metadata": {},
   "outputs": [],
   "source": []
  },
  {
   "cell_type": "code",
   "execution_count": null,
   "id": "70c4d89a",
   "metadata": {},
   "outputs": [],
   "source": []
  }
 ],
 "metadata": {
  "kernelspec": {
   "display_name": "Python 3 (ipykernel)",
   "language": "python",
   "name": "python3"
  },
  "language_info": {
   "codemirror_mode": {
    "name": "ipython",
    "version": 3
   },
   "file_extension": ".py",
   "mimetype": "text/x-python",
   "name": "python",
   "nbconvert_exporter": "python",
   "pygments_lexer": "ipython3",
   "version": "3.11.5"
  }
 },
 "nbformat": 4,
 "nbformat_minor": 5
}
