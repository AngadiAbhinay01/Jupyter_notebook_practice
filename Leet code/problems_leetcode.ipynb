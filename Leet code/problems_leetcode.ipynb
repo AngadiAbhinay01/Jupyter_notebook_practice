{
 "cells": [
  {
   "cell_type": "code",
   "execution_count": 4,
   "metadata": {},
   "outputs": [
    {
     "name": "stdout",
     "output_type": "stream",
     "text": [
      "1 2\n"
     ]
    }
   ],
   "source": [
    "#1)two sum\n",
    "#Input: nums = [2,7,11,15], target = 9\n",
    "#Output: [0,1]\n",
    "\n",
    "nums = [2,7,11,15]\n",
    "target = 18\n",
    "\n",
    "if len(nums)<=0:\n",
    "    print(False)\n",
    "dict1={}\n",
    "for i in range(len(nums)):\n",
    "    if nums[i] in dict1:\n",
    "        print(dict1[nums[i]],i)\n",
    "    else:\n",
    "        dict1[target-nums[i]]=i"
   ]
  },
  {
   "cell_type": "code",
   "execution_count": 8,
   "metadata": {},
   "outputs": [
    {
     "name": "stdout",
     "output_type": "stream",
     "text": [
      "sum found between indexes 2 and 3\n"
     ]
    }
   ],
   "source": [
    "\"\"\"\"Input: arr[] = {1, 4, 20, 3, 10, 5}, sum = 33\n",
    "Output: Sum found between indexes 2 and 4\n",
    "Explanation: Sum of elements between indices 2 and 4 is 20 + 3 + 10 = 33\"\"\"\n",
    "\n",
    "def fun(nums, n, target):\n",
    "    for i in range(n):\n",
    "        current_sum = nums[i]\n",
    "        if current_sum == target:\n",
    "            print('sum found at index',i)\n",
    "        else:\n",
    "            for j in range(i+1,n):\n",
    "                current_sum = current_sum + nums[j]\n",
    "                if current_sum == target:\n",
    "                    print('sum found between indexes',i,'and',j)\n",
    "\n",
    "nums = [1,4,20,3,10,5]\n",
    "target = 23\n",
    "n = len(nums)\n",
    "fun(nums, n, target)"
   ]
  },
  {
   "cell_type": "code",
   "execution_count": 2,
   "metadata": {},
   "outputs": [
    {
     "name": "stdout",
     "output_type": "stream",
     "text": [
      "3\n"
     ]
    }
   ],
   "source": [
    "#3)longest substring without repeating the characters\n",
    "\n",
    "s = \"papavvn\"\n",
    "max_length = 0\n",
    "start = 0\n",
    "visited = {}\n",
    "\n",
    "for i in range(len(s)):\n",
    "    # Check if the character is already visited\n",
    "    if s[i] in visited and start <= visited[s[i]]:\n",
    "        # Update the start position\n",
    "        start = visited[s[i]] + 1\n",
    "    else:\n",
    "        # Calculate the current substring length\n",
    "        max_length = max(max_length, i - start + 1)\n",
    "      \n",
    "    # Mark the character as visited\n",
    "    visited[s[i]] = i\n",
    "  # Print the length of the longest substring\n",
    "print(max_length)"
   ]
  },
  {
   "cell_type": "code",
   "execution_count": 7,
   "metadata": {},
   "outputs": [
    {
     "name": "stdout",
     "output_type": "stream",
     "text": [
      "ubstring w\n"
     ]
    }
   ],
   "source": [
    "#longest substring without reepeating characters\n",
    "\n",
    "s = \"length of the longest substring without repeating character\"\n",
    "s1 = 'ababba'\n",
    "max_length = 0\n",
    "start = 0\n",
    "visited = {}\n",
    "longest_substr = \"\"\n",
    "\n",
    "for i in range(len(s)):\n",
    "    if s[i] in visited and start <= visited[s[i]]:\n",
    "        start = visited[s[i]] + 1\n",
    "    else:\n",
    "        current_length = i-start+1\n",
    "        if current_length>max_length:\n",
    "            max_length = current_length\n",
    "            longest_substr = s[start:i+1]\n",
    "    visited[s[i]] = i\n",
    "print(longest_substr)\n"
   ]
  },
  {
   "cell_type": "code",
   "execution_count": 10,
   "metadata": {},
   "outputs": [
    {
     "name": "stdout",
     "output_type": "stream",
     "text": [
      "3\n"
     ]
    }
   ],
   "source": [
    "#560. Subarray Sum Equals K\n",
    "#Input: nums = [1,1,1], k = 2\n",
    "#Output: 2\n",
    "\n",
    "def subarray(nums,k):\n",
    "    count = 0\n",
    "    pre_sum = 0\n",
    "    sum_count = {0:1}\n",
    "    \n",
    "    for num in nums:\n",
    "        pre_sum = pre_sum+num\n",
    "        \n",
    "        if pre_sum - k in sum_count:\n",
    "            count = count + sum_count[pre_sum-k]\n",
    "            \n",
    "        if pre_sum in sum_count:\n",
    "            sum_count[pre_sum]+=1\n",
    "        else:\n",
    "            sum_count[pre_sum]=1\n",
    "    return count\n",
    "nums = [1,1,1,1,2]\n",
    "k = 3\n",
    "res = subarray(nums,k)\n",
    "print(res)"
   ]
  },
  {
   "cell_type": "code",
   "execution_count": 5,
   "metadata": {},
   "outputs": [
    {
     "name": "stdout",
     "output_type": "stream",
     "text": [
      "False\n",
      "True\n"
     ]
    }
   ],
   "source": [
    "#20. Valid Parentheses\n",
    "#Input: s = \"()\"\n",
    "#Output: true\n",
    "\n",
    "#Input: s = \"()[]{}\"\n",
    "#Output: true\n",
    "\n",
    "s = \"[}\"\n",
    "dict1 =  {')': '(','}': '{',']': '[' }\n",
    "stack = []\n",
    "\n",
    "for char in s:\n",
    "    if char in dict1.values():\n",
    "        stack.append(char)\n",
    "    elif char in dict1.keys():\n",
    "        if stack.pop() != dict1[char]:\n",
    "            print(False)\n",
    "#print(stack)\n",
    "print(len(stack)==0)"
   ]
  },
  {
   "cell_type": "code",
   "execution_count": 1,
   "metadata": {},
   "outputs": [
    {
     "name": "stdout",
     "output_type": "stream",
     "text": [
      "['[']\n",
      "True\n"
     ]
    }
   ],
   "source": [
    "s = \"[]\"\n",
    "mapping = {')':'(','}':'{',']':'['}\n",
    "stack = []\n",
    "\n",
    "for char in s:\n",
    "    if char in mapping:\n",
    "        top_element = stack.pop() if stack else \"\"\n",
    "        if mapping[char] != top_element:\n",
    "            print(mapping[char])\n",
    "            continue\n",
    "    else:\n",
    "        stack.append(char)\n",
    "        print(stack)\n",
    "print(len(stack)==0)"
   ]
  },
  {
   "cell_type": "code",
   "execution_count": 1,
   "metadata": {},
   "outputs": [
    {
     "name": "stdout",
     "output_type": "stream",
     "text": [
      "19\n"
     ]
    },
    {
     "data": {
      "text/plain": [
       "115"
      ]
     },
     "execution_count": 1,
     "metadata": {},
     "output_type": "execute_result"
    }
   ],
   "source": [
    "#8.Roman to Integer\n",
    "\n",
    "s = \"XIX\"\n",
    "\n",
    "dict1 = {'I':1,'V':5,'X':10,'L':50,'C':100,'D':500,'M':1000}\n",
    "pre = 0\n",
    "curr = 0\n",
    "total = 0\n",
    "\n",
    "for i in range(len(s)):\n",
    "    curr = dict1[s[i]]\n",
    "    if curr > pre:\n",
    "        total = total + curr - 2*pre\n",
    "    \n",
    "    else:\n",
    "        total = total + curr\n",
    "    \n",
    "    pre = curr\n",
    "print(total)\n",
    "s = total\n",
    "y = ord('s')\n",
    "y"
   ]
  },
  {
   "cell_type": "code",
   "execution_count": 11,
   "metadata": {},
   "outputs": [
    {
     "name": "stdout",
     "output_type": "stream",
     "text": [
      "6\n"
     ]
    }
   ],
   "source": [
    "#53. Maximum Subarray sum\n",
    "#Input: nums = [-2,1,-3,4,-1,2,1,-5,4]\n",
    "#Output: 6\n",
    "#Explanation: The subarray [4,-1,2,1] has the largest sum 6.\n",
    "\n",
    "def max_subarray(nums): \n",
    "    curr_sum = nums[0]\n",
    "    max_sum = nums[0]\n",
    "    \n",
    "    for i in range(1,len(nums)):\n",
    "        curr_sum = max(nums[i],curr_sum+nums[i])\n",
    "        max_sum = max(max_sum,curr_sum)\n",
    "    return max_sum\n",
    "     \n",
    "nums = [-2,1,-3,4,-1,2,1,-5,4]\n",
    "res = max_subarray(nums)\n",
    "print(res)"
   ]
  },
  {
   "cell_type": "code",
   "execution_count": 6,
   "metadata": {},
   "outputs": [
    {
     "name": "stdout",
     "output_type": "stream",
     "text": [
      "([4, -1, 2, 1], 6)\n"
     ]
    }
   ],
   "source": [
    "def max_subarray(nums):\n",
    "    curr_sum = max_sum = nums[0]\n",
    "    start = end = s = 0\n",
    "    \n",
    "    for i in range(1,len(nums)):\n",
    "        if nums[i] > curr_sum + nums[i]:\n",
    "            curr_sum = nums[i]\n",
    "            s = i\n",
    "        else:\n",
    "            curr_sum = curr_sum + nums[i]\n",
    "    \n",
    "        if curr_sum > max_sum:\n",
    "            max_sum = curr_sum\n",
    "            start = s\n",
    "            end = i\n",
    "    return nums[start:end+1], max_sum\n",
    "\n",
    "\n",
    "nums = [-2,1,-3,4,-1,2,1,-5,4]\n",
    "res = max_subarray(nums)\n",
    "print(res)"
   ]
  },
  {
   "cell_type": "code",
   "execution_count": 2,
   "metadata": {},
   "outputs": [
    {
     "data": {
      "text/plain": [
       "'fl'"
      ]
     },
     "execution_count": 2,
     "metadata": {},
     "output_type": "execute_result"
    }
   ],
   "source": [
    "#14. Longest Common Prefix\n",
    "#Input: strs = [\"flower\",\"flow\",\"flight\"]\n",
    "#Output: \"fl\"\n",
    "\n",
    "def longest_common_prefix(str):\n",
    "    lcp = \"\"\n",
    "    if str is None and len(str) == 0:\n",
    "        return lcp\n",
    "    min_len_str = len(str[0])\n",
    "    for i in range(len(str)):\n",
    "        min_len_str = min(min_len_str,len(str[i]))\n",
    "        \n",
    "    for i in range(0,min_len_str):\n",
    "        current = str[0][i]\n",
    "        for j in range(0,len(str)):\n",
    "            if str[j][i] != current:\n",
    "                return lcp\n",
    "        lcp = lcp + current\n",
    "    return lcp\n",
    "\n",
    "str = ['flower','flow','flight']\n",
    "longest_common_prefix(str)"
   ]
  },
  {
   "cell_type": "code",
   "execution_count": 4,
   "metadata": {},
   "outputs": [
    {
     "data": {
      "text/plain": [
       "'fl'"
      ]
     },
     "execution_count": 4,
     "metadata": {},
     "output_type": "execute_result"
    }
   ],
   "source": [
    "def longestCommonPrefix(strs):\n",
    "    # Longest common prefix string\n",
    "    lcp = \"\"\n",
    "    \n",
    "    # Base condition\n",
    "    if strs is None or len(strs) == 0:\n",
    "        return lcp\n",
    "    \n",
    "    # Find the minimum length string from the array\n",
    "    minimumLength = len(strs[0])\n",
    "    for i in range(1, len(strs)):\n",
    "        minimumLength = min(minimumLength, len(strs[i]))\n",
    "        \n",
    "    # Loop until the minimum length\n",
    "    for i in range(0, minimumLength):\n",
    "        # Get the current character from the first string\n",
    "        current = strs[0][i]\n",
    "        # Check if this character is found in all other strings or not\n",
    "        for j in range(0, len(strs)):\n",
    "            if strs[j][i] != current:\n",
    "                return lcp\n",
    "        lcp += current\n",
    "    return lcp\n",
    "strs =  [\"flower\",\"flow\",\"flight\"]\n",
    "longestCommonPrefix(strs)"
   ]
  },
  {
   "cell_type": "code",
   "execution_count": 6,
   "metadata": {},
   "outputs": [
    {
     "name": "stdout",
     "output_type": "stream",
     "text": [
      "Enter a number: 19\n",
      "19  is a happy Number\n"
     ]
    }
   ],
   "source": [
    "def squaredsum(num):\n",
    "    result = 0\n",
    "    while(num):\n",
    "        rem = num%10\n",
    "        result = result + rem*rem\n",
    "        num = num//10\n",
    "    return result\n",
    "\n",
    "def happynumber(num):\n",
    "    seen  = set()\n",
    "    while True:\n",
    "        num = squaredsum(num)\n",
    "        if num==1:\n",
    "            return True\n",
    "        if num in seen:\n",
    "            return False\n",
    "        seen.add(num)\n",
    "\n",
    "num = int(input(\"Enter a number: \"))\n",
    "if happynumber(num):\n",
    "    print(num,\" is a happy Number\")\n",
    "else:\n",
    "    print(num,\" is not a happy number\")"
   ]
  },
  {
   "cell_type": "code",
   "execution_count": 4,
   "metadata": {},
   "outputs": [
    {
     "name": "stdout",
     "output_type": "stream",
     "text": [
      "[[-1, -1, 2], [-1, 0, 1]]\n"
     ]
    }
   ],
   "source": [
    "#15. 3Sum\n",
    "\"\"\"Input: nums = [-1,0,1,2,-1,-4]\n",
    "Output: [[-1,-1,2],[-1,0,1]]\n",
    "Explanation: \n",
    "nums[0] + nums[1] + nums[2] = (-1) + 0 + 1 = 0.\n",
    "nums[1] + nums[2] + nums[4] = 0 + 1 + (-1) = 0.\n",
    "nums[0] + nums[3] + nums[4] = (-1) + 2 + (-1) = 0.\n",
    "The distinct triplets are [-1,0,1] and [-1,-1,2]\"\"\"\n",
    "\n",
    "def threeSum(nums):\n",
    "    n = len(nums)\n",
    "    triplets = []\n",
    "    \n",
    "    # Sort the array\n",
    "    nums.sort()           # [-4,-1,-1,0,1,2]\n",
    "    \n",
    "    # Fix the first element and find the other two elements\n",
    "    for i in range(n-2):\n",
    "        \n",
    "        # Skip duplicates\n",
    "        if i > 0 and nums[i] == nums[i-1]:\n",
    "            continue\n",
    "        \n",
    "        # Set the left and right pointers\n",
    "        left = i + 1\n",
    "        right = n - 1\n",
    "        \n",
    "        while left < right:\n",
    "            total = nums[i] + nums[left] + nums[right]\n",
    "            \n",
    "            if total < 0:\n",
    "                left += 1\n",
    "            elif total > 0:\n",
    "                right -= 1\n",
    "            else:\n",
    "                # Found a triplet with sum 0\n",
    "                triplets.append([nums[i], nums[left], nums[right]])\n",
    "                \n",
    "                # Skip duplicates\n",
    "                while left < right and nums[left] == nums[left+1]:\n",
    "                    left += 1\n",
    "                while left < right and nums[right] == nums[right-1]:\n",
    "                    right -= 1\n",
    "                \n",
    "                left += 1\n",
    "                right -= 1\n",
    "    \n",
    "    return triplets\n",
    "\n",
    "# Example usage\n",
    "nums = [-1, 0, 1, 2, -1, -4]\n",
    "result = threeSum(nums)\n",
    "print(result)\n"
   ]
  },
  {
   "cell_type": "code",
   "execution_count": 8,
   "metadata": {},
   "outputs": [
    {
     "name": "stdout",
     "output_type": "stream",
     "text": [
      "[[-1, -1, 2], [-1, 0, 1]]\n"
     ]
    }
   ],
   "source": [
    "def _3sum(num):\n",
    "    n = len(num)\n",
    "    num.sort()\n",
    "    triplets = []\n",
    "    \n",
    "    for i in range(n-2):\n",
    "        if i>0 and num[i]==num[i-1]:\n",
    "            continue\n",
    "        left = i + 1\n",
    "        right = n-1\n",
    "        \n",
    "        while left < right:\n",
    "            total = num[i]+num[left]+num[right]\n",
    "            if total <0:\n",
    "                left = left + 1\n",
    "            elif total > 0:\n",
    "                right = right -1\n",
    "            else:\n",
    "                triplets.append([num[i],num[left],num[right]])\n",
    "                \n",
    "                while left < right and num[left]==num[left+1]:\n",
    "                    left = left + 1\n",
    "                while left < right and num[right]==num[right-1]:\n",
    "                    right = right -1\n",
    "                left = left + 1\n",
    "                right = right -1\n",
    "    return triplets\n",
    "    \n",
    "    \n",
    "\n",
    "    \n",
    "num = [-1, 0, 1, 2, -1, -4]\n",
    "result = _3sum(num)\n",
    "print(result)"
   ]
  },
  {
   "cell_type": "code",
   "execution_count": null,
   "metadata": {},
   "outputs": [],
   "source": []
  },
  {
   "cell_type": "code",
   "execution_count": 33,
   "metadata": {},
   "outputs": [
    {
     "name": "stdout",
     "output_type": "stream",
     "text": [
      "original list:\n",
      " [[1 2 3]\n",
      " [4 5 6]\n",
      " [7 8 9]]\n",
      "[1, 2, 3, 6, 9, 8, 7, 4, 5]\n"
     ]
    }
   ],
   "source": [
    "#53.Spiral matrix\n",
    "import numpy as np\n",
    "def printSpiral(mat):\n",
    "    # Define ans array to store the result.\n",
    "    ans = []\n",
    " \n",
    "    n = len(mat) # no. of rows\n",
    "    m = len(mat[0]) # no. of columns\n",
    "  \n",
    "    # Initialize the pointers reqd for traversal.\n",
    "    top = 0\n",
    "    bottom = n - 1\n",
    "    left = 0\n",
    "    right = m - 1\n",
    "\n",
    "    # Loop until all elements are not traversed.\n",
    "    while (top <= bottom and left <= right):\n",
    "        # For moving left to right\n",
    "        for i in range(left, right + 1):\n",
    "            ans.append(mat[top][i])\n",
    "        top += 1\n",
    "\n",
    "        # For moving top to bottom.\n",
    "        for i in range(top, bottom + 1):\n",
    "            ans.append(mat[i][right])\n",
    "        right -= 1\n",
    "\n",
    "        # For moving right to left.\n",
    "        if (top <= bottom):\n",
    "            for i in range(right, left - 1, -1):\n",
    "                ans.append(mat[bottom][i])\n",
    "            bottom -= 1\n",
    "\n",
    "        # For moving bottom to top.\n",
    "        if (left <= right):\n",
    "            for i in range(bottom, top - 1, -1):\n",
    "                ans.append(mat[i][left])\n",
    "            left += 1\n",
    "    return ans\n",
    "#Matrix initialization.\n",
    "mat = np.array([[1, 2, 3],\n",
    "       [4, 5, 6],\n",
    "       [7, 8, 9]])\n",
    "\n",
    "print(\"original list:\\n\",mat)\n",
    "                    \n",
    "ans = printSpiral(mat)\n",
    "\n",
    "print(ans)"
   ]
  },
  {
   "cell_type": "code",
   "execution_count": 25,
   "metadata": {},
   "outputs": [
    {
     "name": "stdout",
     "output_type": "stream",
     "text": [
      "original matrix:\n",
      " [[1 2 3]\n",
      " [4 5 6]\n",
      " [7 8 9]]\n",
      "[1, 2, 3, 6, 9, 8, 7, 4, 5]\n"
     ]
    }
   ],
   "source": [
    "import numpy as np\n",
    "def spiralmatrix(mat):\n",
    "    ans = []\n",
    "    \n",
    "    n = len(mat)\n",
    "    m = len(mat[0])\n",
    "    \n",
    "    top = 0\n",
    "    bottom = n-1\n",
    "    left = 0\n",
    "    right = m-1\n",
    "    \n",
    "    while top<=bottom and left<=right:\n",
    "        #printing top elements\n",
    "        for i in range(left,right+1):\n",
    "            ans.append(mat[top][i])\n",
    "        top = top + 1\n",
    "        \n",
    "        #printing left elements\n",
    "        for i in range(top,bottom+1):\n",
    "            ans.append(mat[i][right])\n",
    "        right = right-1\n",
    "        \n",
    "        #printing bottom elemets\n",
    "        if top<=bottom:\n",
    "            for i in range(right,left-1,-1):\n",
    "                ans.append(mat[bottom][i])\n",
    "            bottom = bottom -1\n",
    "        \n",
    "        #printing right elements\n",
    "        if left <= right:\n",
    "            for i in range(bottom,top-1,-1):\n",
    "                ans.append(mat[i][left])\n",
    "            left = left +1\n",
    "    return ans\n",
    "    \n",
    "    \n",
    "mat = np.array([[1,2,3],[4,5,6],[7,8,9]])\n",
    "print(\"original matrix:\\n\",mat)\n",
    "\n",
    "res = spiralmatrix(mat)\n",
    "print(res)"
   ]
  },
  {
   "cell_type": "code",
   "execution_count": 50,
   "metadata": {},
   "outputs": [
    {
     "name": "stdout",
     "output_type": "stream",
     "text": [
      "aba\n"
     ]
    }
   ],
   "source": [
    "#5. Longest palindromic substring\n",
    "\"\"\"input= 'babad'\n",
    "output = \"bab\" or \"aba\"\n",
    "\n",
    "input = \"cbbd\"\n",
    "output = \"bb\"\n",
    "\"\"\"\n",
    "\n",
    "s = \"babad\"\n",
    "res = \"\"\n",
    "res_len = 0\n",
    "\n",
    "for i in range(len(s)):\n",
    "    #odd lenght\n",
    "    l,r = i,i\n",
    "    while l>=0 and r<len(s) and s[l]==s[r]:\n",
    "        if (r-l+1)>=res_len:\n",
    "            res = s[l:r+1]\n",
    "            res_len = r-l+1\n",
    "        l = l -1\n",
    "        r = r +1 \n",
    "    #even length\n",
    "    l,r = i,i+1\n",
    "    while l>=0 and r<len(s) and s[l]==s[r]:\n",
    "        if (r-l+1) > res_len:\n",
    "            res = s[l:r+1]\n",
    "            res_len = r-l+1\n",
    "        l = l -1\n",
    "        r = r+1\n",
    "print(res)"
   ]
  },
  {
   "cell_type": "code",
   "execution_count": 2,
   "metadata": {},
   "outputs": [
    {
     "name": "stdout",
     "output_type": "stream",
     "text": [
      "aba\n"
     ]
    }
   ],
   "source": [
    "s = \"babad\"\n",
    "rev = s[::-1]\n",
    "res = \"\"\n",
    "for i in range(len(s)):\n",
    "    if s[i] == rev[i]:\n",
    "        res = res + s[i]\n",
    "print(res)"
   ]
  },
  {
   "cell_type": "code",
   "execution_count": 4,
   "metadata": {},
   "outputs": [
    {
     "name": "stdout",
     "output_type": "stream",
     "text": [
      "3\n"
     ]
    }
   ],
   "source": [
    "# 1143 Longest Common subsequence of two strings\n",
    "t1 = \"abcde\"\n",
    "t2 = \"ace\"\n",
    "m = len(t1)\n",
    "n = len(t2)\n",
    "\n",
    "mat = [[0]*(n+1) for z in range(m+1)]\n",
    "for i in range(m):\n",
    "    for j in range(n):\n",
    "        if t1[i] == t2[j]:\n",
    "            mat[i+1][j+1] = mat[i][j]+1\n",
    "        else:\n",
    "            mat[i+1][j+1] = max(mat[i][j+1],mat[i+1][j])\n",
    "print(mat[-1][-1])\n",
    "            "
   ]
  },
  {
   "cell_type": "code",
   "execution_count": 6,
   "metadata": {},
   "outputs": [
    {
     "name": "stdout",
     "output_type": "stream",
     "text": [
      "3\n"
     ]
    }
   ],
   "source": [
    "t1 = \"abcde\"\n",
    "t2 = \"ace\"\n",
    "t1 = set(t1)\n",
    "t2 = set(t2)\n",
    "\n",
    "res = list(t1 & t2)\n",
    "print(len(res))"
   ]
  },
  {
   "cell_type": "code",
   "execution_count": 37,
   "metadata": {},
   "outputs": [
    {
     "name": "stdout",
     "output_type": "stream",
     "text": [
      "{'aet': ['eat', 'tea', 'ate'], 'ant': ['tan', 'nat'], 'abt': ['bat']}\n"
     ]
    }
   ],
   "source": [
    "# 49. Group Anagrams\n",
    "\n",
    "def group_anagrams(str1):\n",
    "    dict1 = {}\n",
    "    for word in str1:\n",
    "        sorted_word = \"\".join(sorted(word))\n",
    "    \n",
    "        if sorted_word not in dict1:\n",
    "            dict1[sorted_word] = [word]\n",
    "        else:\n",
    "            dict1[sorted_word].append(word)\n",
    "    ans = []\n",
    "    for item in dict1.values():\n",
    "        ans.append(item)\n",
    "    #return ans\n",
    "    return dict1\n",
    "\n",
    "    \n",
    "str1 = [\"eat\",\"tea\",\"tan\",\"ate\",\"nat\",\"bat\"]\n",
    "res = group_anagrams(str1)\n",
    "print(res)"
   ]
  },
  {
   "cell_type": "code",
   "execution_count": 38,
   "metadata": {},
   "outputs": [
    {
     "name": "stdout",
     "output_type": "stream",
     "text": [
      "anagram and nagaram are valid anagrams\n"
     ]
    }
   ],
   "source": [
    "#242. Valid Anagram\n",
    "#Example 1:\n",
    "#Input: s = \"anagram\", t = \"nagaram\"\n",
    "#Output: true\n",
    "#Example 2:\n",
    "#Input: s = \"rat\", t = \"car\"\n",
    "#Output: false\n",
    "\n",
    "def valid(s,t):\n",
    "    if len(s) == len(t):\n",
    "        sorted_s = sorted(s)\n",
    "        sorted_t = sorted(t)\n",
    "        if sorted_s == sorted_t:\n",
    "            print(s,'and',t,'are valid anagrams')\n",
    "        else:\n",
    "            print(s,'and',t,'are not valid anagrams')\n",
    "s = \"anagram\"\n",
    "t = \"nagaram\"\n",
    "valid(s,t)"
   ]
  },
  {
   "cell_type": "code",
   "execution_count": 39,
   "metadata": {},
   "outputs": [
    {
     "data": {
      "text/plain": [
       "True"
      ]
     },
     "execution_count": 39,
     "metadata": {},
     "output_type": "execute_result"
    }
   ],
   "source": [
    "def valid(s,t):\n",
    "    return sorted(s) == sorted(t)\n",
    "s = \"anagram\"\n",
    "t = \"nagaram\"\n",
    "valid(s,t)"
   ]
  },
  {
   "cell_type": "code",
   "execution_count": 5,
   "metadata": {},
   "outputs": [
    {
     "name": "stdout",
     "output_type": "stream",
     "text": [
      "5 [0, 1, 2, 3, 4]\n"
     ]
    }
   ],
   "source": [
    "#26 remove all the duplicates from sorted array\n",
    "#Input: nums = [1,1,2]\n",
    "#Output: 2, nums = [1,2,_]\n",
    "\n",
    "#Input: nums = [0,0,1,1,1,2,2,3,3,4]\n",
    "#Output: 5, nums = [0,1,2,3,4,_,_,_,_,_]\n",
    "\n",
    "def remove_dup(nums):\n",
    "    index = 1\n",
    "    for i in range(1,len(nums)):\n",
    "        if nums[i] != nums[i-1]:\n",
    "            nums[index] = nums[i]\n",
    "            index = index + 1\n",
    "    return index\n",
    "\n",
    "nums = [0,0,1,1,1,2,2,3,3,4]\n",
    "length = remove_dup(nums)\n",
    "print(length,nums[:length])"
   ]
  },
  {
   "cell_type": "code",
   "execution_count": 5,
   "metadata": {},
   "outputs": [
    {
     "name": "stdout",
     "output_type": "stream",
     "text": [
      "[1, 2, 3, 4, 5]\n"
     ]
    }
   ],
   "source": [
    "def remove_duplicates(nums):\n",
    "    return list(set(nums))\n",
    "\n",
    "nums = [1, 2, 2, 3, 4, 4, 5]\n",
    "print(remove_duplicates(nums))  # Output order is not guaranteed"
   ]
  },
  {
   "cell_type": "code",
   "execution_count": 7,
   "metadata": {},
   "outputs": [
    {
     "name": "stdout",
     "output_type": "stream",
     "text": [
      "[1, 2, 3, 4, 5]\n"
     ]
    }
   ],
   "source": [
    "def remove_duplicates(nums):\n",
    "    seen = set()\n",
    "    res = []\n",
    "    \n",
    "    for num in nums:\n",
    "        if num not in seen:\n",
    "            seen.add(num)\n",
    "            res.append(num)\n",
    "    return res\n",
    "\n",
    "nums = [1, 2, 2, 3, 4, 4, 5]\n",
    "print(remove_duplicates(nums)) "
   ]
  },
  {
   "cell_type": "code",
   "execution_count": 10,
   "metadata": {},
   "outputs": [
    {
     "name": "stdout",
     "output_type": "stream",
     "text": [
      "[1, 2, 3, 4, 5]\n"
     ]
    }
   ],
   "source": [
    "def remove_duplicates(nums):\n",
    "    seen = set()\n",
    "    return [x for x in nums if not (x in seen or seen.add(x))]\n",
    "\n",
    "nums = [1, 2, 2, 3, 4, 4, 5]\n",
    "print(remove_duplicates(nums)) "
   ]
  },
  {
   "cell_type": "code",
   "execution_count": 11,
   "metadata": {},
   "outputs": [
    {
     "name": "stdout",
     "output_type": "stream",
     "text": [
      "[1, 2, 3, 4, 5]\n"
     ]
    }
   ],
   "source": [
    "def remove_duplicates(nums):\n",
    "    return list(dict.fromkeys(nums))\n",
    "\n",
    "nums = [1, 2, 2, 3, 4, 4, 5]\n",
    "print(remove_duplicates(nums)) "
   ]
  },
  {
   "cell_type": "code",
   "execution_count": 19,
   "metadata": {},
   "outputs": [
    {
     "name": "stdout",
     "output_type": "stream",
     "text": [
      "(2, [2, 2])\n"
     ]
    }
   ],
   "source": [
    "#27 remove element\n",
    "#Input: nums = [3,2,2,3], val = 3\n",
    "#Output: 2, nums = [2,2,_,_]\n",
    "\n",
    "#Input: nums = [0,1,2,2,3,0,4,2], val = 2\n",
    "#Output: 5, nums = [0,1,4,0,3,_,_,_]\n",
    "\n",
    "def remove(nums,val):\n",
    "    count = 0\n",
    "    while val in nums:\n",
    "        nums.remove(val)\n",
    "        count = count + 1\n",
    "    return len(nums), nums \n",
    "    \n",
    "nums = [3,2,2,3]\n",
    "val = 3\n",
    "ans = remove(nums,val)\n",
    "print(ans)"
   ]
  },
  {
   "cell_type": "code",
   "execution_count": 23,
   "metadata": {},
   "outputs": [
    {
     "name": "stdout",
     "output_type": "stream",
     "text": [
      "[1, 3, 12, 0, 0]\n"
     ]
    }
   ],
   "source": [
    "#283 move zeros to the end\n",
    "#Example 1:\n",
    "#Input: nums = [0,1,0,3,12]\n",
    "#Output: [1,3,12,0,0]\n",
    "#Example 2:\n",
    "#Input: nums = [0]\n",
    "#Output: [0]\n",
    "\n",
    "def move_zeros(nums):\n",
    "    # Initialize an index to keep track of non-zero elements\n",
    "    non_zero_index = 0\n",
    "    \n",
    "    # Iterate through the array\n",
    "    for i in range(len(nums)):\n",
    "        # If the current element is non-zero, move it to the non_zero_index position\n",
    "        if nums[i] != 0:\n",
    "            nums[non_zero_index] = nums[i]\n",
    "            non_zero_index += 1\n",
    "    \n",
    "    # Fill the remaining part of the array with zeros\n",
    "    for i in range(non_zero_index, len(nums)):\n",
    "        nums[i] = 0\n",
    "        \n",
    "nums1 = [0, 1, 0, 3, 12]\n",
    "move_zeros(nums1)\n",
    "print(nums1)"
   ]
  },
  {
   "cell_type": "code",
   "execution_count": 4,
   "metadata": {},
   "outputs": [
    {
     "name": "stdout",
     "output_type": "stream",
     "text": [
      "A\n",
      "AB\n",
      "ZY\n"
     ]
    }
   ],
   "source": [
    "#168. Excel Sheet Column Title\n",
    "#Example 1:\n",
    "#Input: columnNumber = 1\n",
    "#Output: \"A\"\n",
    "#Example 2:\n",
    "#Input: columnNumber = 28\n",
    "#utput: \"AB\"\n",
    "#Example 3:\n",
    "#Input: columnNumber = 701\n",
    "#Output: \"ZY\"\n",
    "\n",
    "def excel_col(col_num):\n",
    "    col_name = \"\"\n",
    "    while col_num > 0:\n",
    "        rem = (col_num - 1) % 26\n",
    "        col_name = chr(ord('A') + rem) + col_name\n",
    "        col_num = (col_num-1) // 26\n",
    "    return col_name\n",
    "    \n",
    "print(excel_col(1))  \n",
    "print(excel_col(28))  \n",
    "\n",
    "print(excel_col(701))"
   ]
  },
  {
   "cell_type": "code",
   "execution_count": 5,
   "metadata": {},
   "outputs": [
    {
     "name": "stdout",
     "output_type": "stream",
     "text": [
      "1\n",
      "28\n",
      "701\n"
     ]
    }
   ],
   "source": [
    "#171. Excel Sheet Column Number\n",
    "#Example 1:\n",
    "#Input: columnTitle = \"A\"\n",
    "#Output: 1\n",
    "#Example 2:\n",
    "#Input: columnTitle = \"AB\"\n",
    "#Output: 28\n",
    "#Example 3:\n",
    "#Input: columnTitle = \"ZY\"\n",
    "#Output: 701\n",
    "\n",
    "def excel_name(col_name):\n",
    "    col_num = 0\n",
    "    \n",
    "    for char in col_name:\n",
    "        val = ord(char) - ord('A') + 1\n",
    "        col_num = col_num * 26 + val\n",
    "    return col_num\n",
    "    \n",
    "print(excel_name('A'))  \n",
    "print(excel_name('AB'))  \n",
    "print(excel_name('ZY'))"
   ]
  },
  {
   "cell_type": "code",
   "execution_count": 1,
   "metadata": {},
   "outputs": [
    {
     "data": {
      "text/plain": [
       "['A1', 'B1', 'C1', 'D1', 'E1', 'F1']"
      ]
     },
     "execution_count": 1,
     "metadata": {},
     "output_type": "execute_result"
    }
   ],
   "source": [
    "#2194. Cells in a Range on an Excel Sheet\n",
    "\"\"\"Input: s = \"K1:L2\"\n",
    "Output: [\"K1\",\"K2\",\"L1\",\"L2\"]\n",
    "Explanation:\n",
    "The above diagram shows the cells which should be present in the list.\n",
    "The red arrows denote the order in which the cells should be presented.\n",
    "Example 2:\n",
    "Input: s = \"A1:F1\"\n",
    "Output: [\"A1\",\"B1\",\"C1\",\"D1\",\"E1\",\"F1\"]\n",
    "Explanation:\n",
    "The above diagram shows the cells which should be present in the list.\n",
    "The red arrow denotes the order in which the cells should be presented.\"\"\"\n",
    "def cellsInRange(s):\n",
    "    start, end = s.split(':')\n",
    "    res = []\n",
    "    \n",
    "    start_col, start_row = start[0], int(start[1:])\n",
    "    end_col, end_row = end[0], int(end[1:])\n",
    "    \n",
    "    for col in range(ord(start_col),ord(end_col)+1):\n",
    "        for row in range(start_row,end_row+1):\n",
    "            res.append(chr(col)+str(row))\n",
    "    return res\n",
    "    \n",
    "s = \"A1:F1\"\n",
    "cellsInRange(s)"
   ]
  },
  {
   "cell_type": "code",
   "execution_count": 4,
   "metadata": {},
   "outputs": [
    {
     "data": {
      "text/plain": [
       "[1, 2, 4]"
      ]
     },
     "execution_count": 4,
     "metadata": {},
     "output_type": "execute_result"
    }
   ],
   "source": [
    "#66. Plus One\n",
    "#Input: digits = [1,2,3]\n",
    "#Output: [1,2,4]\n",
    "#Explanation: The array represents the integer 123.Incrementing by one gives 123 + 1 = 124.Thus, the result should be [1,2,4].\n",
    "\n",
    "def increment(digits):\n",
    "    num = 0\n",
    "    for digit in digits:\n",
    "        num = num*10 + digit\n",
    "    num = num +1\n",
    "    \n",
    "    res = []\n",
    "    while num > 0:\n",
    "        res.insert(0,num%10)\n",
    "        num = num//10\n",
    "    return res\n",
    "\n",
    "digits = [1,2,3]\n",
    "increment(digits) \n",
    "    "
   ]
  },
  {
   "cell_type": "code",
   "execution_count": 8,
   "metadata": {},
   "outputs": [
    {
     "data": {
      "text/plain": [
       "'6'"
      ]
     },
     "execution_count": 8,
     "metadata": {},
     "output_type": "execute_result"
    }
   ],
   "source": [
    "#43. Multiply Strings\n",
    "#Example 1:\n",
    "#Input: num1 = \"2\", num2 = \"3\"\n",
    "#Output: \"6\"\n",
    "#Example 2:\n",
    "#Input: num1 = \"123\", num2 = \"456\"\n",
    "#Output: \"56088\n",
    "\n",
    "def multiply(num1,num2):\n",
    "    x = int(num1)\n",
    "    y = int(num2)\n",
    "    res = str(x*y)\n",
    "    return res\n",
    "    \n",
    "num1 = \"2\"\n",
    "num2 = \"3\"\n",
    "multiply(num1,num2)"
   ]
  },
  {
   "cell_type": "code",
   "execution_count": 34,
   "metadata": {},
   "outputs": [
    {
     "data": {
      "text/plain": [
       "4"
      ]
     },
     "execution_count": 34,
     "metadata": {},
     "output_type": "execute_result"
    }
   ],
   "source": [
    "#33. Search in Rotated Sorted Array\n",
    "#Example 1:\n",
    "#Input: nums = [4,5,6,7,0,1,2], target = 0\n",
    "#Output: 4\n",
    "#Example 2:\n",
    "#Input: nums = [4,5,6,7,0,1,2], target = 3\n",
    "#Output: -1\n",
    "#Example 3:\n",
    "#Input: nums = [1], target = 0\n",
    "#Output: -1\n",
    "\n",
    "def search(nums,target):\n",
    "    for i in range(len(nums)):\n",
    "        if nums[i] == target:\n",
    "            return i\n",
    "    return -1\n",
    "\n",
    "nums = [4,5,6,7,0,1,2]\n",
    "target = 0\n",
    "search(nums,target)"
   ]
  },
  {
   "cell_type": "code",
   "execution_count": null,
   "metadata": {},
   "outputs": [],
   "source": []
  }
 ],
 "metadata": {
  "kernelspec": {
   "display_name": "Python 3 (ipykernel)",
   "language": "python",
   "name": "python3"
  },
  "language_info": {
   "codemirror_mode": {
    "name": "ipython",
    "version": 3
   },
   "file_extension": ".py",
   "mimetype": "text/x-python",
   "name": "python",
   "nbconvert_exporter": "python",
   "pygments_lexer": "ipython3",
   "version": "3.11.5"
  }
 },
 "nbformat": 4,
 "nbformat_minor": 4
}
