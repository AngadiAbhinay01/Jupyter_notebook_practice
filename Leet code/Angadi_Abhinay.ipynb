{
 "cells": [
  {
   "cell_type": "markdown",
   "id": "1cefff32",
   "metadata": {},
   "source": [
    "## Angadi Abhinay - 7997608258 - angadiabhinay2001@gmail.com"
   ]
  },
  {
   "cell_type": "markdown",
   "id": "2089eece",
   "metadata": {},
   "source": [
    "### Complete the tasks mentioned in each section below with relevant code and execute them to reflect the desired output\n",
    "\n",
    "1. Load the Data in the file - \"assignment_python.csv\" given to you as a .csv using Pandas \n",
    "2. Understand the data using the columns given (metadata descriptions below)\n",
    "3. Calculate the time period in days for which the customer was active (days from first deposit date) and enter the value in a new column titled 'Customer Lifetime' & what is the lifetime in days for customer ID - 5371454\n",
    "4. Find the city & country with the highest number of unique customers\n",
    "5. Find the unique count of players in each country (in descending order) & specify the number of unique players from the city - Kayseri\n",
    "6. Which city gives the third highest average first_deposit_amount and what is the average amount? \n",
    "7. Plot a graph showing the city and the descending unique count of the unique customers (upto the top 40 cities by the unique count) and make a large plot (clearly visible) and make sure the title and labels are clearly visible.\n",
    "8. Plot the conversion for each month of the data (Conversion % = No. of unique First Deposits in the month / No. of unique Registrations in the month) Here, the conversion percentage should be reflected in red, and the labels in the X-axis should be year & month out of the Deposit Dates.\n",
    "9. What was the conversion rate in June 2022, limit the answer to 2 decimal places. (in %)\n",
    "10. Make a copy of the original data in the file assignment_python as a pandas dataframe called 'df_ft' and generate the following columns:\n",
    "    1. week of day column from the deposit date column\n",
    "    2. descriptive statistics of the table\n",
    "    3. make a column with the first_deposit_amounts binned in bins of 500 and reflected against every customer ID (for example, someone with a first deposit amount of 880 should reflect in the binning column as '500-1000'.\n",
    "11. Find a 7 days moving average of number of registrations. (calculating an average of the T-7 days for every week's total registrations)\n",
    "\n",
    "Descriptions:\n",
    "- IDCUSTOMER = Unique Identifier for a customer\n",
    "- GENDER, CITY, COUNTRY = Self Explanatory\n",
    "- FIRST DEPOSIT AMOUNT = Customer's first deposit amount\n",
    "- REGISTRATION DATE = The date of registration of the customer\n",
    "\n",
    "- DEPOSIT DATE = The date of the first deposit made by the registered customer"
   ]
  },
  {
   "cell_type": "markdown",
   "id": "5df8084d",
   "metadata": {},
   "source": [
    "### Task-1: Loading the dataset"
   ]
  },
  {
   "cell_type": "code",
   "execution_count": 2,
   "id": "b8142cf8",
   "metadata": {},
   "outputs": [
    {
     "data": {
      "text/html": [
       "<div>\n",
       "<style scoped>\n",
       "    .dataframe tbody tr th:only-of-type {\n",
       "        vertical-align: middle;\n",
       "    }\n",
       "\n",
       "    .dataframe tbody tr th {\n",
       "        vertical-align: top;\n",
       "    }\n",
       "\n",
       "    .dataframe thead th {\n",
       "        text-align: right;\n",
       "    }\n",
       "</style>\n",
       "<table border=\"1\" class=\"dataframe\">\n",
       "  <thead>\n",
       "    <tr style=\"text-align: right;\">\n",
       "      <th></th>\n",
       "      <th>IDCUSTOMER</th>\n",
       "      <th>GENDER</th>\n",
       "      <th>CITY</th>\n",
       "      <th>COUNTRY</th>\n",
       "      <th>FIRST_DEPOSIT_AMOUNT</th>\n",
       "      <th>REGISTRATION_DATE</th>\n",
       "      <th>DEPOSIT_DATE</th>\n",
       "    </tr>\n",
       "  </thead>\n",
       "  <tbody>\n",
       "    <tr>\n",
       "      <th>0</th>\n",
       "      <td>5075649</td>\n",
       "      <td>M</td>\n",
       "      <td>ankara</td>\n",
       "      <td>Turkey</td>\n",
       "      <td>100.0</td>\n",
       "      <td>2009-01-10</td>\n",
       "      <td>2022-06-05</td>\n",
       "    </tr>\n",
       "    <tr>\n",
       "      <th>1</th>\n",
       "      <td>5176235</td>\n",
       "      <td>M</td>\n",
       "      <td>elazığ</td>\n",
       "      <td>Turkey</td>\n",
       "      <td>400.0</td>\n",
       "      <td>2009-03-01</td>\n",
       "      <td>2022-02-11</td>\n",
       "    </tr>\n",
       "    <tr>\n",
       "      <th>2</th>\n",
       "      <td>5249140</td>\n",
       "      <td>M</td>\n",
       "      <td>izmir</td>\n",
       "      <td>Turkey</td>\n",
       "      <td>200.0</td>\n",
       "      <td>2009-04-06</td>\n",
       "      <td>2022-05-02</td>\n",
       "    </tr>\n",
       "    <tr>\n",
       "      <th>3</th>\n",
       "      <td>5300998</td>\n",
       "      <td>M</td>\n",
       "      <td>Üsküdar</td>\n",
       "      <td>Turkey</td>\n",
       "      <td>100.0</td>\n",
       "      <td>2009-05-02</td>\n",
       "      <td>2022-02-11</td>\n",
       "    </tr>\n",
       "    <tr>\n",
       "      <th>4</th>\n",
       "      <td>5371454</td>\n",
       "      <td>M</td>\n",
       "      <td>sakarya</td>\n",
       "      <td>Turkey</td>\n",
       "      <td>880.0</td>\n",
       "      <td>2009-06-07</td>\n",
       "      <td>2022-05-29</td>\n",
       "    </tr>\n",
       "    <tr>\n",
       "      <th>...</th>\n",
       "      <td>...</td>\n",
       "      <td>...</td>\n",
       "      <td>...</td>\n",
       "      <td>...</td>\n",
       "      <td>...</td>\n",
       "      <td>...</td>\n",
       "      <td>...</td>\n",
       "    </tr>\n",
       "    <tr>\n",
       "      <th>22060</th>\n",
       "      <td>147844121</td>\n",
       "      <td>M</td>\n",
       "      <td>İstanbul</td>\n",
       "      <td>Turkey</td>\n",
       "      <td>50.0</td>\n",
       "      <td>2022-08-31</td>\n",
       "      <td>2022-08-31</td>\n",
       "    </tr>\n",
       "    <tr>\n",
       "      <th>22061</th>\n",
       "      <td>147844491</td>\n",
       "      <td>M</td>\n",
       "      <td>Eskişehir</td>\n",
       "      <td>Turkey</td>\n",
       "      <td>50.0</td>\n",
       "      <td>2022-08-31</td>\n",
       "      <td>2022-08-31</td>\n",
       "    </tr>\n",
       "    <tr>\n",
       "      <th>22062</th>\n",
       "      <td>147846481</td>\n",
       "      <td>M</td>\n",
       "      <td>Van</td>\n",
       "      <td>Turkey</td>\n",
       "      <td>100.0</td>\n",
       "      <td>2022-08-31</td>\n",
       "      <td>2022-08-31</td>\n",
       "    </tr>\n",
       "    <tr>\n",
       "      <th>22063</th>\n",
       "      <td>147843561</td>\n",
       "      <td>M</td>\n",
       "      <td>Antalya</td>\n",
       "      <td>Turkey</td>\n",
       "      <td>200.0</td>\n",
       "      <td>2022-08-31</td>\n",
       "      <td>2022-08-31</td>\n",
       "    </tr>\n",
       "    <tr>\n",
       "      <th>22064</th>\n",
       "      <td>147844971</td>\n",
       "      <td>M</td>\n",
       "      <td>İstanbul</td>\n",
       "      <td>Turkey</td>\n",
       "      <td>150.0</td>\n",
       "      <td>2022-08-31</td>\n",
       "      <td>2022-08-31</td>\n",
       "    </tr>\n",
       "  </tbody>\n",
       "</table>\n",
       "<p>22065 rows × 7 columns</p>\n",
       "</div>"
      ],
      "text/plain": [
       "       IDCUSTOMER GENDER       CITY COUNTRY  FIRST_DEPOSIT_AMOUNT  \\\n",
       "0         5075649      M     ankara  Turkey                 100.0   \n",
       "1         5176235      M     elazığ  Turkey                 400.0   \n",
       "2         5249140      M      izmir  Turkey                 200.0   \n",
       "3         5300998      M    Üsküdar  Turkey                 100.0   \n",
       "4         5371454      M    sakarya  Turkey                 880.0   \n",
       "...           ...    ...        ...     ...                   ...   \n",
       "22060   147844121      M   İstanbul  Turkey                  50.0   \n",
       "22061   147844491      M  Eskişehir  Turkey                  50.0   \n",
       "22062   147846481      M        Van  Turkey                 100.0   \n",
       "22063   147843561      M    Antalya  Turkey                 200.0   \n",
       "22064   147844971      M   İstanbul  Turkey                 150.0   \n",
       "\n",
       "      REGISTRATION_DATE DEPOSIT_DATE  \n",
       "0            2009-01-10   2022-06-05  \n",
       "1            2009-03-01   2022-02-11  \n",
       "2            2009-04-06   2022-05-02  \n",
       "3            2009-05-02   2022-02-11  \n",
       "4            2009-06-07   2022-05-29  \n",
       "...                 ...          ...  \n",
       "22060        2022-08-31   2022-08-31  \n",
       "22061        2022-08-31   2022-08-31  \n",
       "22062        2022-08-31   2022-08-31  \n",
       "22063        2022-08-31   2022-08-31  \n",
       "22064        2022-08-31   2022-08-31  \n",
       "\n",
       "[22065 rows x 7 columns]"
      ]
     },
     "execution_count": 2,
     "metadata": {},
     "output_type": "execute_result"
    }
   ],
   "source": [
    "# importing pandas to read the dataset\n",
    "import pandas as pd\n",
    "df = pd.read_csv('assignment_python.csv')\n",
    "df"
   ]
  },
  {
   "cell_type": "code",
   "execution_count": null,
   "id": "3c53ed26",
   "metadata": {},
   "outputs": [],
   "source": []
  },
  {
   "cell_type": "markdown",
   "id": "67949e19",
   "metadata": {},
   "source": [
    "### Task-2: Understanding the dataset"
   ]
  },
  {
   "cell_type": "code",
   "execution_count": 3,
   "id": "462c13c4",
   "metadata": {},
   "outputs": [
    {
     "data": {
      "text/plain": [
       "(22065, 7)"
      ]
     },
     "execution_count": 3,
     "metadata": {},
     "output_type": "execute_result"
    }
   ],
   "source": [
    "#no of rows, columns of the dataset\n",
    "df.shape"
   ]
  },
  {
   "cell_type": "code",
   "execution_count": 4,
   "id": "7bb8ef57",
   "metadata": {},
   "outputs": [
    {
     "data": {
      "text/plain": [
       "['IDCUSTOMER',\n",
       " 'GENDER',\n",
       " 'CITY',\n",
       " 'COUNTRY',\n",
       " 'FIRST_DEPOSIT_AMOUNT',\n",
       " 'REGISTRATION_DATE',\n",
       " 'DEPOSIT_DATE']"
      ]
     },
     "execution_count": 4,
     "metadata": {},
     "output_type": "execute_result"
    }
   ],
   "source": [
    "# column names\n",
    "col_names = df.columns.tolist()\n",
    "col_names"
   ]
  },
  {
   "cell_type": "code",
   "execution_count": 5,
   "id": "698745b2",
   "metadata": {},
   "outputs": [
    {
     "name": "stdout",
     "output_type": "stream",
     "text": [
      "<class 'pandas.core.frame.DataFrame'>\n",
      "RangeIndex: 22065 entries, 0 to 22064\n",
      "Data columns (total 7 columns):\n",
      " #   Column                Non-Null Count  Dtype  \n",
      "---  ------                --------------  -----  \n",
      " 0   IDCUSTOMER            22065 non-null  int64  \n",
      " 1   GENDER                22065 non-null  object \n",
      " 2   CITY                  22065 non-null  object \n",
      " 3   COUNTRY               22065 non-null  object \n",
      " 4   FIRST_DEPOSIT_AMOUNT  22065 non-null  float64\n",
      " 5   REGISTRATION_DATE     22065 non-null  object \n",
      " 6   DEPOSIT_DATE          22065 non-null  object \n",
      "dtypes: float64(1), int64(1), object(5)\n",
      "memory usage: 1.2+ MB\n"
     ]
    }
   ],
   "source": [
    "# data types of the dataset\n",
    "df.info()"
   ]
  },
  {
   "cell_type": "code",
   "execution_count": 6,
   "id": "b9d6a128",
   "metadata": {},
   "outputs": [
    {
     "data": {
      "text/html": [
       "<div>\n",
       "<style scoped>\n",
       "    .dataframe tbody tr th:only-of-type {\n",
       "        vertical-align: middle;\n",
       "    }\n",
       "\n",
       "    .dataframe tbody tr th {\n",
       "        vertical-align: top;\n",
       "    }\n",
       "\n",
       "    .dataframe thead th {\n",
       "        text-align: right;\n",
       "    }\n",
       "</style>\n",
       "<table border=\"1\" class=\"dataframe\">\n",
       "  <thead>\n",
       "    <tr style=\"text-align: right;\">\n",
       "      <th></th>\n",
       "      <th>IDCUSTOMER</th>\n",
       "      <th>GENDER</th>\n",
       "      <th>CITY</th>\n",
       "      <th>COUNTRY</th>\n",
       "      <th>FIRST_DEPOSIT_AMOUNT</th>\n",
       "      <th>REGISTRATION_DATE</th>\n",
       "      <th>DEPOSIT_DATE</th>\n",
       "    </tr>\n",
       "  </thead>\n",
       "  <tbody>\n",
       "    <tr>\n",
       "      <th>count</th>\n",
       "      <td>2.206500e+04</td>\n",
       "      <td>22065</td>\n",
       "      <td>22065</td>\n",
       "      <td>22065</td>\n",
       "      <td>22065.000000</td>\n",
       "      <td>22065</td>\n",
       "      <td>22065</td>\n",
       "    </tr>\n",
       "    <tr>\n",
       "      <th>unique</th>\n",
       "      <td>NaN</td>\n",
       "      <td>3</td>\n",
       "      <td>331</td>\n",
       "      <td>1</td>\n",
       "      <td>NaN</td>\n",
       "      <td>1417</td>\n",
       "      <td>243</td>\n",
       "    </tr>\n",
       "    <tr>\n",
       "      <th>top</th>\n",
       "      <td>NaN</td>\n",
       "      <td>M</td>\n",
       "      <td>İstanbul</td>\n",
       "      <td>Turkey</td>\n",
       "      <td>NaN</td>\n",
       "      <td>2022-03-22</td>\n",
       "      <td>2022-04-26</td>\n",
       "    </tr>\n",
       "    <tr>\n",
       "      <th>freq</th>\n",
       "      <td>NaN</td>\n",
       "      <td>21985</td>\n",
       "      <td>4770</td>\n",
       "      <td>22065</td>\n",
       "      <td>NaN</td>\n",
       "      <td>148</td>\n",
       "      <td>169</td>\n",
       "    </tr>\n",
       "    <tr>\n",
       "      <th>mean</th>\n",
       "      <td>1.380593e+08</td>\n",
       "      <td>NaN</td>\n",
       "      <td>NaN</td>\n",
       "      <td>NaN</td>\n",
       "      <td>284.806530</td>\n",
       "      <td>NaN</td>\n",
       "      <td>NaN</td>\n",
       "    </tr>\n",
       "    <tr>\n",
       "      <th>std</th>\n",
       "      <td>3.272693e+07</td>\n",
       "      <td>NaN</td>\n",
       "      <td>NaN</td>\n",
       "      <td>NaN</td>\n",
       "      <td>943.993064</td>\n",
       "      <td>NaN</td>\n",
       "      <td>NaN</td>\n",
       "    </tr>\n",
       "    <tr>\n",
       "      <th>min</th>\n",
       "      <td>5.075649e+06</td>\n",
       "      <td>NaN</td>\n",
       "      <td>NaN</td>\n",
       "      <td>NaN</td>\n",
       "      <td>0.380000</td>\n",
       "      <td>NaN</td>\n",
       "      <td>NaN</td>\n",
       "    </tr>\n",
       "    <tr>\n",
       "      <th>25%</th>\n",
       "      <td>1.459097e+08</td>\n",
       "      <td>NaN</td>\n",
       "      <td>NaN</td>\n",
       "      <td>NaN</td>\n",
       "      <td>70.000000</td>\n",
       "      <td>NaN</td>\n",
       "      <td>NaN</td>\n",
       "    </tr>\n",
       "    <tr>\n",
       "      <th>50%</th>\n",
       "      <td>1.465139e+08</td>\n",
       "      <td>NaN</td>\n",
       "      <td>NaN</td>\n",
       "      <td>NaN</td>\n",
       "      <td>100.000000</td>\n",
       "      <td>NaN</td>\n",
       "      <td>NaN</td>\n",
       "    </tr>\n",
       "    <tr>\n",
       "      <th>75%</th>\n",
       "      <td>1.471483e+08</td>\n",
       "      <td>NaN</td>\n",
       "      <td>NaN</td>\n",
       "      <td>NaN</td>\n",
       "      <td>250.000000</td>\n",
       "      <td>NaN</td>\n",
       "      <td>NaN</td>\n",
       "    </tr>\n",
       "    <tr>\n",
       "      <th>max</th>\n",
       "      <td>1.478480e+08</td>\n",
       "      <td>NaN</td>\n",
       "      <td>NaN</td>\n",
       "      <td>NaN</td>\n",
       "      <td>100000.000000</td>\n",
       "      <td>NaN</td>\n",
       "      <td>NaN</td>\n",
       "    </tr>\n",
       "  </tbody>\n",
       "</table>\n",
       "</div>"
      ],
      "text/plain": [
       "          IDCUSTOMER GENDER      CITY COUNTRY  FIRST_DEPOSIT_AMOUNT  \\\n",
       "count   2.206500e+04  22065     22065   22065          22065.000000   \n",
       "unique           NaN      3       331       1                   NaN   \n",
       "top              NaN      M  İstanbul  Turkey                   NaN   \n",
       "freq             NaN  21985      4770   22065                   NaN   \n",
       "mean    1.380593e+08    NaN       NaN     NaN            284.806530   \n",
       "std     3.272693e+07    NaN       NaN     NaN            943.993064   \n",
       "min     5.075649e+06    NaN       NaN     NaN              0.380000   \n",
       "25%     1.459097e+08    NaN       NaN     NaN             70.000000   \n",
       "50%     1.465139e+08    NaN       NaN     NaN            100.000000   \n",
       "75%     1.471483e+08    NaN       NaN     NaN            250.000000   \n",
       "max     1.478480e+08    NaN       NaN     NaN         100000.000000   \n",
       "\n",
       "       REGISTRATION_DATE DEPOSIT_DATE  \n",
       "count              22065        22065  \n",
       "unique              1417          243  \n",
       "top           2022-03-22   2022-04-26  \n",
       "freq                 148          169  \n",
       "mean                 NaN          NaN  \n",
       "std                  NaN          NaN  \n",
       "min                  NaN          NaN  \n",
       "25%                  NaN          NaN  \n",
       "50%                  NaN          NaN  \n",
       "75%                  NaN          NaN  \n",
       "max                  NaN          NaN  "
      ]
     },
     "execution_count": 6,
     "metadata": {},
     "output_type": "execute_result"
    }
   ],
   "source": [
    "# statistical values of the dataset\n",
    "descriptive_stats = df.describe(include='all')\n",
    "descriptive_stats"
   ]
  },
  {
   "cell_type": "code",
   "execution_count": 7,
   "id": "6fda3147",
   "metadata": {},
   "outputs": [
    {
     "data": {
      "text/plain": [
       "IDCUSTOMER              1.380593e+08\n",
       "FIRST_DEPOSIT_AMOUNT    2.848065e+02\n",
       "dtype: float64"
      ]
     },
     "execution_count": 7,
     "metadata": {},
     "output_type": "execute_result"
    }
   ],
   "source": [
    "# mean, median, mode foe the numeric value columns\n",
    "mean_values = df.mean(numeric_only=True)\n",
    "mean_values"
   ]
  },
  {
   "cell_type": "code",
   "execution_count": 8,
   "id": "a4660fae",
   "metadata": {},
   "outputs": [
    {
     "data": {
      "text/plain": [
       "IDCUSTOMER              146513941.0\n",
       "FIRST_DEPOSIT_AMOUNT          100.0\n",
       "dtype: float64"
      ]
     },
     "execution_count": 8,
     "metadata": {},
     "output_type": "execute_result"
    }
   ],
   "source": [
    "median_values = df.median(numeric_only=True)\n",
    "median_values"
   ]
  },
  {
   "cell_type": "code",
   "execution_count": 9,
   "id": "42fff760",
   "metadata": {},
   "outputs": [
    {
     "data": {
      "text/plain": [
       "IDCUSTOMER                 5075649\n",
       "GENDER                           M\n",
       "CITY                      İstanbul\n",
       "COUNTRY                     Turkey\n",
       "FIRST_DEPOSIT_AMOUNT         100.0\n",
       "REGISTRATION_DATE       2022-03-22\n",
       "DEPOSIT_DATE            2022-04-26\n",
       "Name: 0, dtype: object"
      ]
     },
     "execution_count": 9,
     "metadata": {},
     "output_type": "execute_result"
    }
   ],
   "source": [
    "mode_values = df.mode().iloc[0]\n",
    "mode_values"
   ]
  },
  {
   "cell_type": "code",
   "execution_count": 10,
   "id": "91e6aec2",
   "metadata": {},
   "outputs": [
    {
     "data": {
      "text/plain": [
       "IDCUSTOMER              0\n",
       "GENDER                  0\n",
       "CITY                    0\n",
       "COUNTRY                 0\n",
       "FIRST_DEPOSIT_AMOUNT    0\n",
       "REGISTRATION_DATE       0\n",
       "DEPOSIT_DATE            0\n",
       "dtype: int64"
      ]
     },
     "execution_count": 10,
     "metadata": {},
     "output_type": "execute_result"
    }
   ],
   "source": [
    "# checking for null values\n",
    "null_values = df.isnull().sum()\n",
    "null_values"
   ]
  },
  {
   "cell_type": "code",
   "execution_count": 11,
   "id": "f3c8f8c7",
   "metadata": {},
   "outputs": [
    {
     "data": {
      "text/plain": [
       "0"
      ]
     },
     "execution_count": 11,
     "metadata": {},
     "output_type": "execute_result"
    }
   ],
   "source": [
    "# checking for duplicated values\n",
    "duplicat_values = df.duplicated().sum()\n",
    "duplicat_values"
   ]
  },
  {
   "cell_type": "code",
   "execution_count": null,
   "id": "128b3c3c",
   "metadata": {},
   "outputs": [],
   "source": []
  },
  {
   "cell_type": "markdown",
   "id": "ef80f724",
   "metadata": {},
   "source": [
    "### Task-3: Calculate the time period in days for which the customer was active (days from first deposit date) and enter the value in a new column titled 'Customer Lifetime' & what is the lifetime in days for customer ID - 5371454"
   ]
  },
  {
   "cell_type": "raw",
   "id": "d80d888e",
   "metadata": {},
   "source": [
    "To find the customer lifetime, first i will calculate the difference betweeen current time and deposit time. For that i need to convert deposit time into datatime format."
   ]
  },
  {
   "cell_type": "code",
   "execution_count": 12,
   "id": "19d5a9b0",
   "metadata": {},
   "outputs": [
    {
     "data": {
      "text/html": [
       "<div>\n",
       "<style scoped>\n",
       "    .dataframe tbody tr th:only-of-type {\n",
       "        vertical-align: middle;\n",
       "    }\n",
       "\n",
       "    .dataframe tbody tr th {\n",
       "        vertical-align: top;\n",
       "    }\n",
       "\n",
       "    .dataframe thead th {\n",
       "        text-align: right;\n",
       "    }\n",
       "</style>\n",
       "<table border=\"1\" class=\"dataframe\">\n",
       "  <thead>\n",
       "    <tr style=\"text-align: right;\">\n",
       "      <th></th>\n",
       "      <th>IDCUSTOMER</th>\n",
       "      <th>GENDER</th>\n",
       "      <th>CITY</th>\n",
       "      <th>COUNTRY</th>\n",
       "      <th>FIRST_DEPOSIT_AMOUNT</th>\n",
       "      <th>REGISTRATION_DATE</th>\n",
       "      <th>DEPOSIT_DATE</th>\n",
       "    </tr>\n",
       "  </thead>\n",
       "  <tbody>\n",
       "    <tr>\n",
       "      <th>0</th>\n",
       "      <td>5075649</td>\n",
       "      <td>M</td>\n",
       "      <td>ankara</td>\n",
       "      <td>Turkey</td>\n",
       "      <td>100.0</td>\n",
       "      <td>2009-01-10</td>\n",
       "      <td>2022-06-05</td>\n",
       "    </tr>\n",
       "    <tr>\n",
       "      <th>1</th>\n",
       "      <td>5176235</td>\n",
       "      <td>M</td>\n",
       "      <td>elazığ</td>\n",
       "      <td>Turkey</td>\n",
       "      <td>400.0</td>\n",
       "      <td>2009-03-01</td>\n",
       "      <td>2022-02-11</td>\n",
       "    </tr>\n",
       "    <tr>\n",
       "      <th>2</th>\n",
       "      <td>5249140</td>\n",
       "      <td>M</td>\n",
       "      <td>izmir</td>\n",
       "      <td>Turkey</td>\n",
       "      <td>200.0</td>\n",
       "      <td>2009-04-06</td>\n",
       "      <td>2022-05-02</td>\n",
       "    </tr>\n",
       "    <tr>\n",
       "      <th>3</th>\n",
       "      <td>5300998</td>\n",
       "      <td>M</td>\n",
       "      <td>Üsküdar</td>\n",
       "      <td>Turkey</td>\n",
       "      <td>100.0</td>\n",
       "      <td>2009-05-02</td>\n",
       "      <td>2022-02-11</td>\n",
       "    </tr>\n",
       "    <tr>\n",
       "      <th>4</th>\n",
       "      <td>5371454</td>\n",
       "      <td>M</td>\n",
       "      <td>sakarya</td>\n",
       "      <td>Turkey</td>\n",
       "      <td>880.0</td>\n",
       "      <td>2009-06-07</td>\n",
       "      <td>2022-05-29</td>\n",
       "    </tr>\n",
       "  </tbody>\n",
       "</table>\n",
       "</div>"
      ],
      "text/plain": [
       "   IDCUSTOMER GENDER     CITY COUNTRY  FIRST_DEPOSIT_AMOUNT REGISTRATION_DATE  \\\n",
       "0     5075649      M   ankara  Turkey                 100.0        2009-01-10   \n",
       "1     5176235      M   elazığ  Turkey                 400.0        2009-03-01   \n",
       "2     5249140      M    izmir  Turkey                 200.0        2009-04-06   \n",
       "3     5300998      M  Üsküdar  Turkey                 100.0        2009-05-02   \n",
       "4     5371454      M  sakarya  Turkey                 880.0        2009-06-07   \n",
       "\n",
       "  DEPOSIT_DATE  \n",
       "0   2022-06-05  \n",
       "1   2022-02-11  \n",
       "2   2022-05-02  \n",
       "3   2022-02-11  \n",
       "4   2022-05-29  "
      ]
     },
     "execution_count": 12,
     "metadata": {},
     "output_type": "execute_result"
    }
   ],
   "source": [
    "#converting deposit time to datetime format\n",
    "from datetime import datetime\n",
    "df['DEPOSIT_DATE'] = pd.to_datetime(df['DEPOSIT_DATE'])\n",
    "df.head()"
   ]
  },
  {
   "cell_type": "code",
   "execution_count": 13,
   "id": "06740be7",
   "metadata": {},
   "outputs": [],
   "source": [
    "#calculating current date and time\n",
    "current_date = datetime.now()"
   ]
  },
  {
   "cell_type": "code",
   "execution_count": 14,
   "id": "a8055226",
   "metadata": {},
   "outputs": [
    {
     "data": {
      "text/html": [
       "<div>\n",
       "<style scoped>\n",
       "    .dataframe tbody tr th:only-of-type {\n",
       "        vertical-align: middle;\n",
       "    }\n",
       "\n",
       "    .dataframe tbody tr th {\n",
       "        vertical-align: top;\n",
       "    }\n",
       "\n",
       "    .dataframe thead th {\n",
       "        text-align: right;\n",
       "    }\n",
       "</style>\n",
       "<table border=\"1\" class=\"dataframe\">\n",
       "  <thead>\n",
       "    <tr style=\"text-align: right;\">\n",
       "      <th></th>\n",
       "      <th>IDCUSTOMER</th>\n",
       "      <th>GENDER</th>\n",
       "      <th>CITY</th>\n",
       "      <th>COUNTRY</th>\n",
       "      <th>FIRST_DEPOSIT_AMOUNT</th>\n",
       "      <th>REGISTRATION_DATE</th>\n",
       "      <th>DEPOSIT_DATE</th>\n",
       "      <th>Customer_Lifetime</th>\n",
       "    </tr>\n",
       "  </thead>\n",
       "  <tbody>\n",
       "    <tr>\n",
       "      <th>0</th>\n",
       "      <td>5075649</td>\n",
       "      <td>M</td>\n",
       "      <td>ankara</td>\n",
       "      <td>Turkey</td>\n",
       "      <td>100.0</td>\n",
       "      <td>2009-01-10</td>\n",
       "      <td>2022-06-05</td>\n",
       "      <td>791</td>\n",
       "    </tr>\n",
       "    <tr>\n",
       "      <th>1</th>\n",
       "      <td>5176235</td>\n",
       "      <td>M</td>\n",
       "      <td>elazığ</td>\n",
       "      <td>Turkey</td>\n",
       "      <td>400.0</td>\n",
       "      <td>2009-03-01</td>\n",
       "      <td>2022-02-11</td>\n",
       "      <td>905</td>\n",
       "    </tr>\n",
       "    <tr>\n",
       "      <th>2</th>\n",
       "      <td>5249140</td>\n",
       "      <td>M</td>\n",
       "      <td>izmir</td>\n",
       "      <td>Turkey</td>\n",
       "      <td>200.0</td>\n",
       "      <td>2009-04-06</td>\n",
       "      <td>2022-05-02</td>\n",
       "      <td>825</td>\n",
       "    </tr>\n",
       "    <tr>\n",
       "      <th>3</th>\n",
       "      <td>5300998</td>\n",
       "      <td>M</td>\n",
       "      <td>Üsküdar</td>\n",
       "      <td>Turkey</td>\n",
       "      <td>100.0</td>\n",
       "      <td>2009-05-02</td>\n",
       "      <td>2022-02-11</td>\n",
       "      <td>905</td>\n",
       "    </tr>\n",
       "    <tr>\n",
       "      <th>4</th>\n",
       "      <td>5371454</td>\n",
       "      <td>M</td>\n",
       "      <td>sakarya</td>\n",
       "      <td>Turkey</td>\n",
       "      <td>880.0</td>\n",
       "      <td>2009-06-07</td>\n",
       "      <td>2022-05-29</td>\n",
       "      <td>798</td>\n",
       "    </tr>\n",
       "  </tbody>\n",
       "</table>\n",
       "</div>"
      ],
      "text/plain": [
       "   IDCUSTOMER GENDER     CITY COUNTRY  FIRST_DEPOSIT_AMOUNT REGISTRATION_DATE  \\\n",
       "0     5075649      M   ankara  Turkey                 100.0        2009-01-10   \n",
       "1     5176235      M   elazığ  Turkey                 400.0        2009-03-01   \n",
       "2     5249140      M    izmir  Turkey                 200.0        2009-04-06   \n",
       "3     5300998      M  Üsküdar  Turkey                 100.0        2009-05-02   \n",
       "4     5371454      M  sakarya  Turkey                 880.0        2009-06-07   \n",
       "\n",
       "  DEPOSIT_DATE  Customer_Lifetime  \n",
       "0   2022-06-05                791  \n",
       "1   2022-02-11                905  \n",
       "2   2022-05-02                825  \n",
       "3   2022-02-11                905  \n",
       "4   2022-05-29                798  "
      ]
     },
     "execution_count": 14,
     "metadata": {},
     "output_type": "execute_result"
    }
   ],
   "source": [
    "#calculatinf difference between deposit_date and current_date and adding it to a column named customer_lifetime\n",
    "df['Customer_Lifetime'] = (current_date - df['DEPOSIT_DATE']).dt.days\n",
    "df.head()"
   ]
  },
  {
   "cell_type": "code",
   "execution_count": 15,
   "id": "db16d120",
   "metadata": {},
   "outputs": [
    {
     "data": {
      "text/plain": [
       "798"
      ]
     },
     "execution_count": 15,
     "metadata": {},
     "output_type": "execute_result"
    }
   ],
   "source": [
    "#calculatinf lifetime of a customer with id 5371454\n",
    "id_ = 5371454\n",
    "customer_lifetime = df.loc[df['IDCUSTOMER'] == id_, 'Customer_Lifetime'].values[0]\n",
    "customer_lifetime"
   ]
  },
  {
   "cell_type": "code",
   "execution_count": null,
   "id": "43422a28",
   "metadata": {},
   "outputs": [],
   "source": []
  },
  {
   "cell_type": "markdown",
   "id": "4ca2ab6f",
   "metadata": {},
   "source": [
    "### Task-4 : Find the city & country with the highest number of unique customers"
   ]
  },
  {
   "cell_type": "code",
   "execution_count": 25,
   "id": "d6dd7f65",
   "metadata": {},
   "outputs": [
    {
     "data": {
      "text/plain": [
       "CITY\n",
       "                                      1\n",
       "1212                                  1\n",
       "ANKARA                                1\n",
       "ANTALYA                               1\n",
       "Adana                               676\n",
       "                                   ... \n",
       "İç kapı no 7 sancaktepe/İstanbul      1\n",
       "Şanlıurfa                           255\n",
       "Şırnak                               84\n",
       "şanlıurfa                             1\n",
       "şırnak cizre                          1\n",
       "Name: IDCUSTOMER, Length: 331, dtype: int64"
      ]
     },
     "execution_count": 25,
     "metadata": {},
     "output_type": "execute_result"
    }
   ],
   "source": [
    "#grouping by city and country, then calculating unique customers\n",
    "unique_city_customers = df.groupby('CITY')['IDCUSTOMER'].nunique()\n",
    "unique_city_customers"
   ]
  },
  {
   "cell_type": "code",
   "execution_count": 26,
   "id": "f82baf94",
   "metadata": {},
   "outputs": [
    {
     "data": {
      "text/plain": [
       "COUNTRY\n",
       "Turkey    22065\n",
       "Name: IDCUSTOMER, dtype: int64"
      ]
     },
     "execution_count": 26,
     "metadata": {},
     "output_type": "execute_result"
    }
   ],
   "source": [
    "unique_country_customers = df.groupby('COUNTRY')['IDCUSTOMER'].nunique()\n",
    "unique_country_customers"
   ]
  },
  {
   "cell_type": "code",
   "execution_count": 31,
   "id": "2a0e00ac",
   "metadata": {},
   "outputs": [
    {
     "name": "stdout",
     "output_type": "stream",
     "text": [
      "İstanbul\n",
      "4770\n"
     ]
    }
   ],
   "source": [
    "# finding city and country with highest unique number of customers\n",
    "top_city_name = unique_city_customers.idxmax()\n",
    "print(top_city_name)\n",
    "\n",
    "top_city_count = unique_city_customers.max()\n",
    "print(top_city_count)"
   ]
  },
  {
   "cell_type": "code",
   "execution_count": 32,
   "id": "54f493fe",
   "metadata": {},
   "outputs": [
    {
     "name": "stdout",
     "output_type": "stream",
     "text": [
      "Turkey\n",
      "22065\n"
     ]
    }
   ],
   "source": [
    "top_country_name = unique_country_customers.idxmax()\n",
    "print(top_country_name)\n",
    "\n",
    "top_city_count = unique_country_customers.max()\n",
    "print(top_city_count)"
   ]
  },
  {
   "cell_type": "code",
   "execution_count": null,
   "id": "00e5c7c1",
   "metadata": {},
   "outputs": [],
   "source": []
  },
  {
   "cell_type": "markdown",
   "id": "2ec96e11",
   "metadata": {},
   "source": [
    "### Task-5 : Find the unique count of players in each country (in descending order) & specify the number of unique players from the city - Kayseri"
   ]
  },
  {
   "cell_type": "code",
   "execution_count": 43,
   "id": "ae18f5e8",
   "metadata": {},
   "outputs": [
    {
     "name": "stdout",
     "output_type": "stream",
     "text": [
      "COUNTRY\n",
      "Turkey    22065\n",
      "Name: IDCUSTOMER, dtype: int64\n"
     ]
    }
   ],
   "source": [
    "# unique payers from the county in descending order\n",
    "unique_payers_country = df.groupby('COUNTRY')['IDCUSTOMER'].nunique().sort_values(ascending=False)\n",
    "print(unique_payers_country)"
   ]
  },
  {
   "cell_type": "code",
   "execution_count": 44,
   "id": "99498ab0",
   "metadata": {},
   "outputs": [
    {
     "name": "stdout",
     "output_type": "stream",
     "text": [
      "370\n"
     ]
    }
   ],
   "source": [
    "# unique payers from the city kayseri\n",
    "unique_payers_kayseri = df[df['CITY'].str.lower() == 'kayseri']['IDCUSTOMER'].nunique()\n",
    "print(unique_payers_kayseri)"
   ]
  },
  {
   "cell_type": "code",
   "execution_count": null,
   "id": "527adcfd",
   "metadata": {},
   "outputs": [],
   "source": []
  },
  {
   "cell_type": "markdown",
   "id": "a9b1f0d2",
   "metadata": {},
   "source": [
    "### Task-6 : Which city gives the third highest average first_deposit_amount and what is the average amount?"
   ]
  },
  {
   "cell_type": "code",
   "execution_count": 52,
   "id": "599db050",
   "metadata": {},
   "outputs": [
    {
     "data": {
      "text/plain": [
       "CITY\n",
       "                                     50.000000\n",
       "1212                                100.000000\n",
       "ANKARA                              100.000000\n",
       "ANTALYA                             500.000000\n",
       "Adana                               720.728506\n",
       "                                       ...    \n",
       "İç kapı no 7 sancaktepe/İstanbul     70.000000\n",
       "Şanlıurfa                           313.403922\n",
       "Şırnak                              245.566071\n",
       "şanlıurfa                           400.000000\n",
       "şırnak cizre                        100.000000\n",
       "Name: FIRST_DEPOSIT_AMOUNT, Length: 331, dtype: float64"
      ]
     },
     "execution_count": 52,
     "metadata": {},
     "output_type": "execute_result"
    }
   ],
   "source": [
    "# calculating average first deposit amount of each city\n",
    "city_highest_average = df.groupby('CITY')['FIRST_DEPOSIT_AMOUNT'].mean()\n",
    "city_highest_average"
   ]
  },
  {
   "cell_type": "code",
   "execution_count": 53,
   "id": "4c898f93",
   "metadata": {},
   "outputs": [
    {
     "data": {
      "text/plain": [
       "CITY\n",
       "Atasehir -İstanbul                     100000.0\n",
       "Seyhan/Adana                            10000.0\n",
       "sarıçam/Adana                            9000.0\n",
       "İZMİR/karşıyaka                          5000.0\n",
       "Ankara/Çankaya                           5000.0\n",
       "                                         ...   \n",
       "siirt                                      27.0\n",
       "ordu/fatsa                                 25.0\n",
       "merkez/edirne                              25.0\n",
       "bursa iznik yesılcami mh karaca skk        25.0\n",
       "kocaeli                                    20.0\n",
       "Name: FIRST_DEPOSIT_AMOUNT, Length: 331, dtype: float64"
      ]
     },
     "execution_count": 53,
     "metadata": {},
     "output_type": "execute_result"
    }
   ],
   "source": [
    "# sorting the cities average in descending order\n",
    "sorted_city_average = city_highest_average.sort_values(ascending=False)\n",
    "sorted_city_average"
   ]
  },
  {
   "cell_type": "code",
   "execution_count": 56,
   "id": "13c972d3",
   "metadata": {},
   "outputs": [
    {
     "name": "stdout",
     "output_type": "stream",
     "text": [
      "sarıçam/Adana\n",
      "9000.0\n"
     ]
    }
   ],
   "source": [
    "# finding city with the third highest average deposit\n",
    "third_highest_city = sorted_city_average.index[2]\n",
    "print(third_highest_city)\n",
    "\n",
    "third_highest_amount = sorted_city_average.iloc[2]\n",
    "print(third_highest_amount)"
   ]
  },
  {
   "cell_type": "code",
   "execution_count": null,
   "id": "d6186c6b",
   "metadata": {},
   "outputs": [],
   "source": []
  },
  {
   "cell_type": "markdown",
   "id": "fe46aa1f",
   "metadata": {},
   "source": [
    "### Task-7 : Plot a graph showing the city and the descending unique count of the unique customers (upto the top 40 cities by the unique count) and make a large plot (clearly visible) and make sure the title and labels are clearly visible."
   ]
  },
  {
   "cell_type": "code",
   "execution_count": 58,
   "id": "f5c3accc",
   "metadata": {},
   "outputs": [],
   "source": [
    "# Calculating the unique count of customers per city\n",
    "unique_customers_per_city = df.groupby('CITY')['IDCUSTOMER'].nunique().sort_values(ascending=False)\n"
   ]
  },
  {
   "cell_type": "code",
   "execution_count": 59,
   "id": "6a0a9230",
   "metadata": {},
   "outputs": [
    {
     "data": {
      "text/plain": [
       "CITY\n",
       "İstanbul         4770\n",
       "Bursa            1652\n",
       "Diyarbakır       1307\n",
       "Ankara           1182\n",
       "İzmir            1151\n",
       "Antalya           789\n",
       "Adana             676\n",
       "Kocaeli           635\n",
       "Gaziantep         576\n",
       "Tekirdağ          370\n",
       "Kayseri           369\n",
       "Aydın             353\n",
       "Denizli           351\n",
       "Balıkesir         340\n",
       "Konya             334\n",
       "Hatay             318\n",
       "Sakarya           310\n",
       "Mersin            306\n",
       "Manisa            271\n",
       "Şanlıurfa         255\n",
       "Muğla             249\n",
       "Eskişehir         218\n",
       "Samsun            215\n",
       "Kahramanmaraş     201\n",
       "Van               166\n",
       "Trabzon           160\n",
       "Mardin            160\n",
       "Çanakkale         147\n",
       "Batman            142\n",
       "Edirne            136\n",
       "Erzurum           135\n",
       "Ordu              130\n",
       "Malatya           129\n",
       "Rize              125\n",
       "Yalova            124\n",
       "Kırklareli        121\n",
       "Düzce             117\n",
       "Sivas             113\n",
       "Giresun           108\n",
       "Elazığ            105\n",
       "Name: IDCUSTOMER, dtype: int64"
      ]
     },
     "execution_count": 59,
     "metadata": {},
     "output_type": "execute_result"
    }
   ],
   "source": [
    "# Select the top 40 cities\n",
    "top_40_cities = unique_customers_per_city.head(40)\n",
    "top_40_cities"
   ]
  },
  {
   "cell_type": "code",
   "execution_count": 67,
   "id": "3b160323",
   "metadata": {},
   "outputs": [
    {
     "data": {
      "image/png": "[encoded data removed]",
      "text/plain": [
       "<Figure size 1400x800 with 1 Axes>"
      ]
     },
     "metadata": {},
     "output_type": "display_data"
    }
   ],
   "source": [
    "# Plotting the top 40 cities with unique customers\n",
    "import matplotlib.pyplot as plt\n",
    "\n",
    "plt.figure(figsize=(14, 8))\n",
    "top_40_cities.plot(kind='bar', color='orange')\n",
    "\n",
    "plt.title('Top 40 Cities by Unique Customer Count')\n",
    "plt.xlabel('City')\n",
    "plt.ylabel('Unique Customer Count')\n",
    "plt.xticks(rotation=90)\n",
    "\n",
    "# Show the plot\n",
    "plt.show()"
   ]
  },
  {
   "cell_type": "code",
   "execution_count": null,
   "id": "cd09ef9d",
   "metadata": {},
   "outputs": [],
   "source": []
  },
  {
   "cell_type": "markdown",
   "id": "cf13aa77",
   "metadata": {},
   "source": [
    "### Task-8: Plot the conversion for each month of the data (Conversion % = No. of unique First Deposits in the month / No. of unique Registrations in the month) Here, the conversion percentage should be reflected in red, and the labels in the X-axis should be year & month out of the Deposit Dates."
   ]
  },
  {
   "cell_type": "code",
   "execution_count": 69,
   "id": "99ab2a74",
   "metadata": {},
   "outputs": [
    {
     "data": {
      "text/html": [
       "<div>\n",
       "<style scoped>\n",
       "    .dataframe tbody tr th:only-of-type {\n",
       "        vertical-align: middle;\n",
       "    }\n",
       "\n",
       "    .dataframe tbody tr th {\n",
       "        vertical-align: top;\n",
       "    }\n",
       "\n",
       "    .dataframe thead th {\n",
       "        text-align: right;\n",
       "    }\n",
       "</style>\n",
       "<table border=\"1\" class=\"dataframe\">\n",
       "  <thead>\n",
       "    <tr style=\"text-align: right;\">\n",
       "      <th></th>\n",
       "      <th>IDCUSTOMER</th>\n",
       "      <th>GENDER</th>\n",
       "      <th>CITY</th>\n",
       "      <th>COUNTRY</th>\n",
       "      <th>FIRST_DEPOSIT_AMOUNT</th>\n",
       "      <th>REGISTRATION_DATE</th>\n",
       "      <th>DEPOSIT_DATE</th>\n",
       "      <th>Customer_Lifetime</th>\n",
       "    </tr>\n",
       "  </thead>\n",
       "  <tbody>\n",
       "    <tr>\n",
       "      <th>0</th>\n",
       "      <td>5075649</td>\n",
       "      <td>M</td>\n",
       "      <td>ankara</td>\n",
       "      <td>Turkey</td>\n",
       "      <td>100.0</td>\n",
       "      <td>2009-01-10</td>\n",
       "      <td>2022-06-05</td>\n",
       "      <td>791</td>\n",
       "    </tr>\n",
       "    <tr>\n",
       "      <th>1</th>\n",
       "      <td>5176235</td>\n",
       "      <td>M</td>\n",
       "      <td>elazığ</td>\n",
       "      <td>Turkey</td>\n",
       "      <td>400.0</td>\n",
       "      <td>2009-03-01</td>\n",
       "      <td>2022-02-11</td>\n",
       "      <td>905</td>\n",
       "    </tr>\n",
       "    <tr>\n",
       "      <th>2</th>\n",
       "      <td>5249140</td>\n",
       "      <td>M</td>\n",
       "      <td>izmir</td>\n",
       "      <td>Turkey</td>\n",
       "      <td>200.0</td>\n",
       "      <td>2009-04-06</td>\n",
       "      <td>2022-05-02</td>\n",
       "      <td>825</td>\n",
       "    </tr>\n",
       "    <tr>\n",
       "      <th>3</th>\n",
       "      <td>5300998</td>\n",
       "      <td>M</td>\n",
       "      <td>Üsküdar</td>\n",
       "      <td>Turkey</td>\n",
       "      <td>100.0</td>\n",
       "      <td>2009-05-02</td>\n",
       "      <td>2022-02-11</td>\n",
       "      <td>905</td>\n",
       "    </tr>\n",
       "    <tr>\n",
       "      <th>4</th>\n",
       "      <td>5371454</td>\n",
       "      <td>M</td>\n",
       "      <td>sakarya</td>\n",
       "      <td>Turkey</td>\n",
       "      <td>880.0</td>\n",
       "      <td>2009-06-07</td>\n",
       "      <td>2022-05-29</td>\n",
       "      <td>798</td>\n",
       "    </tr>\n",
       "  </tbody>\n",
       "</table>\n",
       "</div>"
      ],
      "text/plain": [
       "   IDCUSTOMER GENDER     CITY COUNTRY  FIRST_DEPOSIT_AMOUNT REGISTRATION_DATE  \\\n",
       "0     5075649      M   ankara  Turkey                 100.0        2009-01-10   \n",
       "1     5176235      M   elazığ  Turkey                 400.0        2009-03-01   \n",
       "2     5249140      M    izmir  Turkey                 200.0        2009-04-06   \n",
       "3     5300998      M  Üsküdar  Turkey                 100.0        2009-05-02   \n",
       "4     5371454      M  sakarya  Turkey                 880.0        2009-06-07   \n",
       "\n",
       "  DEPOSIT_DATE  Customer_Lifetime  \n",
       "0   2022-06-05                791  \n",
       "1   2022-02-11                905  \n",
       "2   2022-05-02                825  \n",
       "3   2022-02-11                905  \n",
       "4   2022-05-29                798  "
      ]
     },
     "execution_count": 69,
     "metadata": {},
     "output_type": "execute_result"
    }
   ],
   "source": [
    "df.head()"
   ]
  },
  {
   "cell_type": "code",
   "execution_count": 70,
   "id": "129f9e8a",
   "metadata": {},
   "outputs": [],
   "source": [
    "# Convert date columns to datetime\n",
    "df['REGISTRATION_DATE'] = pd.to_datetime(df['REGISTRATION_DATE'])"
   ]
  },
  {
   "cell_type": "code",
   "execution_count": 71,
   "id": "bc8bfe12",
   "metadata": {},
   "outputs": [],
   "source": [
    "# Extracting Year-Month from DepositDate and RegistrationDate\n",
    "df['DEPOSIT_YEAR_MONTH'] = df['DEPOSIT_DATE'].dt.to_period('M')\n",
    "df['REGISTRATION_YEAR_MONTH'] = df['REGISTRATION_DATE'].dt.to_period('M')"
   ]
  },
  {
   "cell_type": "code",
   "execution_count": 75,
   "id": "0397b247",
   "metadata": {},
   "outputs": [
    {
     "data": {
      "text/html": [
       "<div>\n",
       "<style scoped>\n",
       "    .dataframe tbody tr th:only-of-type {\n",
       "        vertical-align: middle;\n",
       "    }\n",
       "\n",
       "    .dataframe tbody tr th {\n",
       "        vertical-align: top;\n",
       "    }\n",
       "\n",
       "    .dataframe thead th {\n",
       "        text-align: right;\n",
       "    }\n",
       "</style>\n",
       "<table border=\"1\" class=\"dataframe\">\n",
       "  <thead>\n",
       "    <tr style=\"text-align: right;\">\n",
       "      <th></th>\n",
       "      <th>IDCUSTOMER</th>\n",
       "      <th>GENDER</th>\n",
       "      <th>CITY</th>\n",
       "      <th>COUNTRY</th>\n",
       "      <th>FIRST_DEPOSIT_AMOUNT</th>\n",
       "      <th>REGISTRATION_DATE</th>\n",
       "      <th>DEPOSIT_DATE</th>\n",
       "      <th>Customer_Lifetime</th>\n",
       "      <th>DEPOSIT_YEAR_MONTH</th>\n",
       "      <th>REGISTRATION_YEAR_MONTH</th>\n",
       "    </tr>\n",
       "  </thead>\n",
       "  <tbody>\n",
       "    <tr>\n",
       "      <th>0</th>\n",
       "      <td>5075649</td>\n",
       "      <td>M</td>\n",
       "      <td>ankara</td>\n",
       "      <td>Turkey</td>\n",
       "      <td>100.0</td>\n",
       "      <td>2009-01-10</td>\n",
       "      <td>2022-06-05</td>\n",
       "      <td>791</td>\n",
       "      <td>2022-06</td>\n",
       "      <td>2009-01</td>\n",
       "    </tr>\n",
       "    <tr>\n",
       "      <th>1</th>\n",
       "      <td>5176235</td>\n",
       "      <td>M</td>\n",
       "      <td>elazığ</td>\n",
       "      <td>Turkey</td>\n",
       "      <td>400.0</td>\n",
       "      <td>2009-03-01</td>\n",
       "      <td>2022-02-11</td>\n",
       "      <td>905</td>\n",
       "      <td>2022-02</td>\n",
       "      <td>2009-03</td>\n",
       "    </tr>\n",
       "    <tr>\n",
       "      <th>2</th>\n",
       "      <td>5249140</td>\n",
       "      <td>M</td>\n",
       "      <td>izmir</td>\n",
       "      <td>Turkey</td>\n",
       "      <td>200.0</td>\n",
       "      <td>2009-04-06</td>\n",
       "      <td>2022-05-02</td>\n",
       "      <td>825</td>\n",
       "      <td>2022-05</td>\n",
       "      <td>2009-04</td>\n",
       "    </tr>\n",
       "    <tr>\n",
       "      <th>3</th>\n",
       "      <td>5300998</td>\n",
       "      <td>M</td>\n",
       "      <td>Üsküdar</td>\n",
       "      <td>Turkey</td>\n",
       "      <td>100.0</td>\n",
       "      <td>2009-05-02</td>\n",
       "      <td>2022-02-11</td>\n",
       "      <td>905</td>\n",
       "      <td>2022-02</td>\n",
       "      <td>2009-05</td>\n",
       "    </tr>\n",
       "    <tr>\n",
       "      <th>4</th>\n",
       "      <td>5371454</td>\n",
       "      <td>M</td>\n",
       "      <td>sakarya</td>\n",
       "      <td>Turkey</td>\n",
       "      <td>880.0</td>\n",
       "      <td>2009-06-07</td>\n",
       "      <td>2022-05-29</td>\n",
       "      <td>798</td>\n",
       "      <td>2022-05</td>\n",
       "      <td>2009-06</td>\n",
       "    </tr>\n",
       "  </tbody>\n",
       "</table>\n",
       "</div>"
      ],
      "text/plain": [
       "   IDCUSTOMER GENDER     CITY COUNTRY  FIRST_DEPOSIT_AMOUNT REGISTRATION_DATE  \\\n",
       "0     5075649      M   ankara  Turkey                 100.0        2009-01-10   \n",
       "1     5176235      M   elazığ  Turkey                 400.0        2009-03-01   \n",
       "2     5249140      M    izmir  Turkey                 200.0        2009-04-06   \n",
       "3     5300998      M  Üsküdar  Turkey                 100.0        2009-05-02   \n",
       "4     5371454      M  sakarya  Turkey                 880.0        2009-06-07   \n",
       "\n",
       "  DEPOSIT_DATE  Customer_Lifetime DEPOSIT_YEAR_MONTH REGISTRATION_YEAR_MONTH  \n",
       "0   2022-06-05                791            2022-06                 2009-01  \n",
       "1   2022-02-11                905            2022-02                 2009-03  \n",
       "2   2022-05-02                825            2022-05                 2009-04  \n",
       "3   2022-02-11                905            2022-02                 2009-05  \n",
       "4   2022-05-29                798            2022-05                 2009-06  "
      ]
     },
     "execution_count": 75,
     "metadata": {},
     "output_type": "execute_result"
    }
   ],
   "source": [
    "df.head()"
   ]
  },
  {
   "cell_type": "code",
   "execution_count": 76,
   "id": "bf37923e",
   "metadata": {},
   "outputs": [
    {
     "name": "stdout",
     "output_type": "stream",
     "text": [
      "DEPOSIT_YEAR_MONTH\n",
      "2022-01    31\n",
      "2022-02    28\n",
      "2022-03    31\n",
      "2022-04    30\n",
      "2022-05    31\n",
      "2022-06    30\n",
      "2022-07    31\n",
      "2022-08    31\n",
      "Freq: M, Name: DEPOSIT_DATE, dtype: int64\n",
      "REGISTRATION_YEAR_MONTH\n",
      "2009-01     1\n",
      "2009-03     1\n",
      "2009-04     1\n",
      "2009-05     1\n",
      "2009-06     1\n",
      "           ..\n",
      "2022-04    30\n",
      "2022-05    31\n",
      "2022-06    30\n",
      "2022-07    31\n",
      "2022-08    31\n",
      "Freq: M, Name: REGISTRATION_DATE, Length: 152, dtype: int64\n"
     ]
    }
   ],
   "source": [
    "# Calculating unique number of deposits and registrations per month\n",
    "unique_deposits_per_month = df.groupby('DEPOSIT_YEAR_MONTH')['DEPOSIT_DATE'].nunique()\n",
    "print(unique_deposits_per_month)\n",
    "\n",
    "unique_registrations_per_month = df.groupby('REGISTRATION_YEAR_MONTH')['REGISTRATION_DATE'].nunique()\n",
    "print(unique_registrations_per_month)"
   ]
  },
  {
   "cell_type": "code",
   "execution_count": 77,
   "id": "2de97868",
   "metadata": {},
   "outputs": [
    {
     "data": {
      "text/html": [
       "<div>\n",
       "<style scoped>\n",
       "    .dataframe tbody tr th:only-of-type {\n",
       "        vertical-align: middle;\n",
       "    }\n",
       "\n",
       "    .dataframe tbody tr th {\n",
       "        vertical-align: top;\n",
       "    }\n",
       "\n",
       "    .dataframe thead th {\n",
       "        text-align: right;\n",
       "    }\n",
       "</style>\n",
       "<table border=\"1\" class=\"dataframe\">\n",
       "  <thead>\n",
       "    <tr style=\"text-align: right;\">\n",
       "      <th></th>\n",
       "      <th>Deposits</th>\n",
       "      <th>Registrations</th>\n",
       "    </tr>\n",
       "  </thead>\n",
       "  <tbody>\n",
       "    <tr>\n",
       "      <th>2009-01</th>\n",
       "      <td>0.0</td>\n",
       "      <td>1</td>\n",
       "    </tr>\n",
       "    <tr>\n",
       "      <th>2009-03</th>\n",
       "      <td>0.0</td>\n",
       "      <td>1</td>\n",
       "    </tr>\n",
       "    <tr>\n",
       "      <th>2009-04</th>\n",
       "      <td>0.0</td>\n",
       "      <td>1</td>\n",
       "    </tr>\n",
       "    <tr>\n",
       "      <th>2009-05</th>\n",
       "      <td>0.0</td>\n",
       "      <td>1</td>\n",
       "    </tr>\n",
       "    <tr>\n",
       "      <th>2009-06</th>\n",
       "      <td>0.0</td>\n",
       "      <td>1</td>\n",
       "    </tr>\n",
       "    <tr>\n",
       "      <th>...</th>\n",
       "      <td>...</td>\n",
       "      <td>...</td>\n",
       "    </tr>\n",
       "    <tr>\n",
       "      <th>2022-04</th>\n",
       "      <td>30.0</td>\n",
       "      <td>30</td>\n",
       "    </tr>\n",
       "    <tr>\n",
       "      <th>2022-05</th>\n",
       "      <td>31.0</td>\n",
       "      <td>31</td>\n",
       "    </tr>\n",
       "    <tr>\n",
       "      <th>2022-06</th>\n",
       "      <td>30.0</td>\n",
       "      <td>30</td>\n",
       "    </tr>\n",
       "    <tr>\n",
       "      <th>2022-07</th>\n",
       "      <td>31.0</td>\n",
       "      <td>31</td>\n",
       "    </tr>\n",
       "    <tr>\n",
       "      <th>2022-08</th>\n",
       "      <td>31.0</td>\n",
       "      <td>31</td>\n",
       "    </tr>\n",
       "  </tbody>\n",
       "</table>\n",
       "<p>152 rows × 2 columns</p>\n",
       "</div>"
      ],
      "text/plain": [
       "         Deposits  Registrations\n",
       "2009-01       0.0              1\n",
       "2009-03       0.0              1\n",
       "2009-04       0.0              1\n",
       "2009-05       0.0              1\n",
       "2009-06       0.0              1\n",
       "...           ...            ...\n",
       "2022-04      30.0             30\n",
       "2022-05      31.0             31\n",
       "2022-06      30.0             30\n",
       "2022-07      31.0             31\n",
       "2022-08      31.0             31\n",
       "\n",
       "[152 rows x 2 columns]"
      ]
     },
     "execution_count": 77,
     "metadata": {},
     "output_type": "execute_result"
    }
   ],
   "source": [
    "# Merging the two series into a DataFrame\n",
    "conversion_df = pd.DataFrame({'Deposits': unique_deposits_per_month,'Registrations': unique_registrations_per_month}).fillna(0)\n",
    "conversion_df"
   ]
  },
  {
   "cell_type": "code",
   "execution_count": 78,
   "id": "5713c4ce",
   "metadata": {},
   "outputs": [
    {
     "data": {
      "text/html": [
       "<div>\n",
       "<style scoped>\n",
       "    .dataframe tbody tr th:only-of-type {\n",
       "        vertical-align: middle;\n",
       "    }\n",
       "\n",
       "    .dataframe tbody tr th {\n",
       "        vertical-align: top;\n",
       "    }\n",
       "\n",
       "    .dataframe thead th {\n",
       "        text-align: right;\n",
       "    }\n",
       "</style>\n",
       "<table border=\"1\" class=\"dataframe\">\n",
       "  <thead>\n",
       "    <tr style=\"text-align: right;\">\n",
       "      <th></th>\n",
       "      <th>Deposits</th>\n",
       "      <th>Registrations</th>\n",
       "      <th>Conversion %</th>\n",
       "    </tr>\n",
       "  </thead>\n",
       "  <tbody>\n",
       "    <tr>\n",
       "      <th>2009-01</th>\n",
       "      <td>0.0</td>\n",
       "      <td>1</td>\n",
       "      <td>0.0</td>\n",
       "    </tr>\n",
       "    <tr>\n",
       "      <th>2009-03</th>\n",
       "      <td>0.0</td>\n",
       "      <td>1</td>\n",
       "      <td>0.0</td>\n",
       "    </tr>\n",
       "    <tr>\n",
       "      <th>2009-04</th>\n",
       "      <td>0.0</td>\n",
       "      <td>1</td>\n",
       "      <td>0.0</td>\n",
       "    </tr>\n",
       "    <tr>\n",
       "      <th>2009-05</th>\n",
       "      <td>0.0</td>\n",
       "      <td>1</td>\n",
       "      <td>0.0</td>\n",
       "    </tr>\n",
       "    <tr>\n",
       "      <th>2009-06</th>\n",
       "      <td>0.0</td>\n",
       "      <td>1</td>\n",
       "      <td>0.0</td>\n",
       "    </tr>\n",
       "    <tr>\n",
       "      <th>...</th>\n",
       "      <td>...</td>\n",
       "      <td>...</td>\n",
       "      <td>...</td>\n",
       "    </tr>\n",
       "    <tr>\n",
       "      <th>2022-04</th>\n",
       "      <td>30.0</td>\n",
       "      <td>30</td>\n",
       "      <td>100.0</td>\n",
       "    </tr>\n",
       "    <tr>\n",
       "      <th>2022-05</th>\n",
       "      <td>31.0</td>\n",
       "      <td>31</td>\n",
       "      <td>100.0</td>\n",
       "    </tr>\n",
       "    <tr>\n",
       "      <th>2022-06</th>\n",
       "      <td>30.0</td>\n",
       "      <td>30</td>\n",
       "      <td>100.0</td>\n",
       "    </tr>\n",
       "    <tr>\n",
       "      <th>2022-07</th>\n",
       "      <td>31.0</td>\n",
       "      <td>31</td>\n",
       "      <td>100.0</td>\n",
       "    </tr>\n",
       "    <tr>\n",
       "      <th>2022-08</th>\n",
       "      <td>31.0</td>\n",
       "      <td>31</td>\n",
       "      <td>100.0</td>\n",
       "    </tr>\n",
       "  </tbody>\n",
       "</table>\n",
       "<p>152 rows × 3 columns</p>\n",
       "</div>"
      ],
      "text/plain": [
       "         Deposits  Registrations  Conversion %\n",
       "2009-01       0.0              1           0.0\n",
       "2009-03       0.0              1           0.0\n",
       "2009-04       0.0              1           0.0\n",
       "2009-05       0.0              1           0.0\n",
       "2009-06       0.0              1           0.0\n",
       "...           ...            ...           ...\n",
       "2022-04      30.0             30         100.0\n",
       "2022-05      31.0             31         100.0\n",
       "2022-06      30.0             30         100.0\n",
       "2022-07      31.0             31         100.0\n",
       "2022-08      31.0             31         100.0\n",
       "\n",
       "[152 rows x 3 columns]"
      ]
     },
     "execution_count": 78,
     "metadata": {},
     "output_type": "execute_result"
    }
   ],
   "source": [
    "# Calculating the conversion percentage\n",
    "conversion_df['Conversion %'] = (conversion_df['Deposits'] / conversion_df['Registrations']) * 100\n",
    "conversion_df"
   ]
  },
  {
   "cell_type": "code",
   "execution_count": 89,
   "id": "8b25788a",
   "metadata": {},
   "outputs": [
    {
     "data": {
      "image/png": "[encoded data removed]",
      "text/plain": [
       "<Figure size 2800x1000 with 1 Axes>"
      ]
     },
     "metadata": {},
     "output_type": "display_data"
    }
   ],
   "source": [
    "# Plotting the conversion for each month of the data\n",
    "\n",
    "plt.figure(figsize=(28, 10))\n",
    "plt.plot(conversion_df.index.astype(str), conversion_df['Conversion %'], marker='o', color='red')\n",
    "plt.title('Monthly Conversion Percentage')\n",
    "plt.xlabel('Year-Month')\n",
    "plt.ylabel('Conversion %')\n",
    "plt.xticks(rotation=90)\n",
    "\n",
    "# Show the plot\n",
    "plt.show()"
   ]
  },
  {
   "cell_type": "code",
   "execution_count": null,
   "id": "719bc010",
   "metadata": {},
   "outputs": [],
   "source": []
  },
  {
   "cell_type": "markdown",
   "id": "386deb6e",
   "metadata": {},
   "source": [
    "### Task-9 : What was the conversion rate in June 2022, limit the answer to 2 decimal places. (in %)"
   ]
  },
  {
   "cell_type": "code",
   "execution_count": 90,
   "id": "1984684b",
   "metadata": {},
   "outputs": [
    {
     "name": "stdout",
     "output_type": "stream",
     "text": [
      "100.0\n"
     ]
    }
   ],
   "source": [
    "# Calculating the conversion percentage for June 2022\n",
    "# Extract conversion rate for June 2022\n",
    "conversion_june_2022 = conversion_df.loc['2022-06'].get('Conversion %', 0)\n",
    "conversion_june_2022 = round(conversion_june_2022, 2)\n",
    "print(conversion_june_2022)"
   ]
  },
  {
   "cell_type": "code",
   "execution_count": null,
   "id": "cac6f144",
   "metadata": {},
   "outputs": [],
   "source": []
  },
  {
   "cell_type": "markdown",
   "id": "befdf768",
   "metadata": {},
   "source": [
    "### Task-10 : Make a copy of the original data in the file assignment_python as a pandas dataframe called 'df_ft' and generate the following columns: 1)week of day column from the deposit date column. 2)descriptive statistics of the table. 3)make a column with the first_deposit_amounts binned in bins of 500 and reflected against every customer ID (for example, someone with a first deposit amount of 880 should reflect in the binning column as '500-1000'."
   ]
  },
  {
   "cell_type": "code",
   "execution_count": 91,
   "id": "d7e547d9",
   "metadata": {},
   "outputs": [
    {
     "data": {
      "text/html": [
       "<div>\n",
       "<style scoped>\n",
       "    .dataframe tbody tr th:only-of-type {\n",
       "        vertical-align: middle;\n",
       "    }\n",
       "\n",
       "    .dataframe tbody tr th {\n",
       "        vertical-align: top;\n",
       "    }\n",
       "\n",
       "    .dataframe thead th {\n",
       "        text-align: right;\n",
       "    }\n",
       "</style>\n",
       "<table border=\"1\" class=\"dataframe\">\n",
       "  <thead>\n",
       "    <tr style=\"text-align: right;\">\n",
       "      <th></th>\n",
       "      <th>IDCUSTOMER</th>\n",
       "      <th>GENDER</th>\n",
       "      <th>CITY</th>\n",
       "      <th>COUNTRY</th>\n",
       "      <th>FIRST_DEPOSIT_AMOUNT</th>\n",
       "      <th>REGISTRATION_DATE</th>\n",
       "      <th>DEPOSIT_DATE</th>\n",
       "    </tr>\n",
       "  </thead>\n",
       "  <tbody>\n",
       "    <tr>\n",
       "      <th>0</th>\n",
       "      <td>5075649</td>\n",
       "      <td>M</td>\n",
       "      <td>ankara</td>\n",
       "      <td>Turkey</td>\n",
       "      <td>100.0</td>\n",
       "      <td>2009-01-10</td>\n",
       "      <td>2022-06-05</td>\n",
       "    </tr>\n",
       "    <tr>\n",
       "      <th>1</th>\n",
       "      <td>5176235</td>\n",
       "      <td>M</td>\n",
       "      <td>elazığ</td>\n",
       "      <td>Turkey</td>\n",
       "      <td>400.0</td>\n",
       "      <td>2009-03-01</td>\n",
       "      <td>2022-02-11</td>\n",
       "    </tr>\n",
       "    <tr>\n",
       "      <th>2</th>\n",
       "      <td>5249140</td>\n",
       "      <td>M</td>\n",
       "      <td>izmir</td>\n",
       "      <td>Turkey</td>\n",
       "      <td>200.0</td>\n",
       "      <td>2009-04-06</td>\n",
       "      <td>2022-05-02</td>\n",
       "    </tr>\n",
       "    <tr>\n",
       "      <th>3</th>\n",
       "      <td>5300998</td>\n",
       "      <td>M</td>\n",
       "      <td>Üsküdar</td>\n",
       "      <td>Turkey</td>\n",
       "      <td>100.0</td>\n",
       "      <td>2009-05-02</td>\n",
       "      <td>2022-02-11</td>\n",
       "    </tr>\n",
       "    <tr>\n",
       "      <th>4</th>\n",
       "      <td>5371454</td>\n",
       "      <td>M</td>\n",
       "      <td>sakarya</td>\n",
       "      <td>Turkey</td>\n",
       "      <td>880.0</td>\n",
       "      <td>2009-06-07</td>\n",
       "      <td>2022-05-29</td>\n",
       "    </tr>\n",
       "  </tbody>\n",
       "</table>\n",
       "</div>"
      ],
      "text/plain": [
       "   IDCUSTOMER GENDER     CITY COUNTRY  FIRST_DEPOSIT_AMOUNT REGISTRATION_DATE  \\\n",
       "0     5075649      M   ankara  Turkey                 100.0        2009-01-10   \n",
       "1     5176235      M   elazığ  Turkey                 400.0        2009-03-01   \n",
       "2     5249140      M    izmir  Turkey                 200.0        2009-04-06   \n",
       "3     5300998      M  Üsküdar  Turkey                 100.0        2009-05-02   \n",
       "4     5371454      M  sakarya  Turkey                 880.0        2009-06-07   \n",
       "\n",
       "  DEPOSIT_DATE  \n",
       "0   2022-06-05  \n",
       "1   2022-02-11  \n",
       "2   2022-05-02  \n",
       "3   2022-02-11  \n",
       "4   2022-05-29  "
      ]
     },
     "execution_count": 91,
     "metadata": {},
     "output_type": "execute_result"
    }
   ],
   "source": [
    "df_ft = pd.read_csv('assignment_python.csv')\n",
    "df_ft.head()"
   ]
  },
  {
   "cell_type": "code",
   "execution_count": 97,
   "id": "6f475c64",
   "metadata": {},
   "outputs": [],
   "source": [
    "# 1) week of day column from the deposit date column\n",
    "from datetime import datetime\n",
    "df_ft['REGISTRATION_DATE'] = pd.to_datetime(df_ft['REGISTRATION_DATE'])\n",
    "df_ft['DEPOSIT_DATE'] = pd.to_datetime(df_ft['DEPOSIT_DATE'])"
   ]
  },
  {
   "cell_type": "code",
   "execution_count": 102,
   "id": "ccfbc11e",
   "metadata": {},
   "outputs": [
    {
     "data": {
      "text/html": [
       "<div>\n",
       "<style scoped>\n",
       "    .dataframe tbody tr th:only-of-type {\n",
       "        vertical-align: middle;\n",
       "    }\n",
       "\n",
       "    .dataframe tbody tr th {\n",
       "        vertical-align: top;\n",
       "    }\n",
       "\n",
       "    .dataframe thead th {\n",
       "        text-align: right;\n",
       "    }\n",
       "</style>\n",
       "<table border=\"1\" class=\"dataframe\">\n",
       "  <thead>\n",
       "    <tr style=\"text-align: right;\">\n",
       "      <th></th>\n",
       "      <th>IDCUSTOMER</th>\n",
       "      <th>GENDER</th>\n",
       "      <th>CITY</th>\n",
       "      <th>COUNTRY</th>\n",
       "      <th>FIRST_DEPOSIT_AMOUNT</th>\n",
       "      <th>REGISTRATION_DATE</th>\n",
       "      <th>DEPOSIT_DATE</th>\n",
       "      <th>WeekOfYear</th>\n",
       "    </tr>\n",
       "  </thead>\n",
       "  <tbody>\n",
       "    <tr>\n",
       "      <th>0</th>\n",
       "      <td>5075649</td>\n",
       "      <td>M</td>\n",
       "      <td>ankara</td>\n",
       "      <td>Turkey</td>\n",
       "      <td>100.0</td>\n",
       "      <td>2009-01-10</td>\n",
       "      <td>2022-06-05</td>\n",
       "      <td>22</td>\n",
       "    </tr>\n",
       "    <tr>\n",
       "      <th>1</th>\n",
       "      <td>5176235</td>\n",
       "      <td>M</td>\n",
       "      <td>elazığ</td>\n",
       "      <td>Turkey</td>\n",
       "      <td>400.0</td>\n",
       "      <td>2009-03-01</td>\n",
       "      <td>2022-02-11</td>\n",
       "      <td>6</td>\n",
       "    </tr>\n",
       "    <tr>\n",
       "      <th>2</th>\n",
       "      <td>5249140</td>\n",
       "      <td>M</td>\n",
       "      <td>izmir</td>\n",
       "      <td>Turkey</td>\n",
       "      <td>200.0</td>\n",
       "      <td>2009-04-06</td>\n",
       "      <td>2022-05-02</td>\n",
       "      <td>18</td>\n",
       "    </tr>\n",
       "    <tr>\n",
       "      <th>3</th>\n",
       "      <td>5300998</td>\n",
       "      <td>M</td>\n",
       "      <td>Üsküdar</td>\n",
       "      <td>Turkey</td>\n",
       "      <td>100.0</td>\n",
       "      <td>2009-05-02</td>\n",
       "      <td>2022-02-11</td>\n",
       "      <td>6</td>\n",
       "    </tr>\n",
       "    <tr>\n",
       "      <th>4</th>\n",
       "      <td>5371454</td>\n",
       "      <td>M</td>\n",
       "      <td>sakarya</td>\n",
       "      <td>Turkey</td>\n",
       "      <td>880.0</td>\n",
       "      <td>2009-06-07</td>\n",
       "      <td>2022-05-29</td>\n",
       "      <td>21</td>\n",
       "    </tr>\n",
       "  </tbody>\n",
       "</table>\n",
       "</div>"
      ],
      "text/plain": [
       "   IDCUSTOMER GENDER     CITY COUNTRY  FIRST_DEPOSIT_AMOUNT REGISTRATION_DATE  \\\n",
       "0     5075649      M   ankara  Turkey                 100.0        2009-01-10   \n",
       "1     5176235      M   elazığ  Turkey                 400.0        2009-03-01   \n",
       "2     5249140      M    izmir  Turkey                 200.0        2009-04-06   \n",
       "3     5300998      M  Üsküdar  Turkey                 100.0        2009-05-02   \n",
       "4     5371454      M  sakarya  Turkey                 880.0        2009-06-07   \n",
       "\n",
       "  DEPOSIT_DATE  WeekOfYear  \n",
       "0   2022-06-05          22  \n",
       "1   2022-02-11           6  \n",
       "2   2022-05-02          18  \n",
       "3   2022-02-11           6  \n",
       "4   2022-05-29          21  "
      ]
     },
     "execution_count": 102,
     "metadata": {},
     "output_type": "execute_result"
    }
   ],
   "source": [
    "df_ft['WeekOfYear'] = df_ft['DEPOSIT_DATE'].dt.isocalendar().week\n",
    "df_ft.head()"
   ]
  },
  {
   "cell_type": "code",
   "execution_count": 104,
   "id": "5b797d90",
   "metadata": {},
   "outputs": [
    {
     "name": "stdout",
     "output_type": "stream",
     "text": [
      "          IDCUSTOMER GENDER      CITY COUNTRY  FIRST_DEPOSIT_AMOUNT  \\\n",
      "count   2.206500e+04  22065     22065   22065          22065.000000   \n",
      "unique           NaN      3       331       1                   NaN   \n",
      "top              NaN      M  İstanbul  Turkey                   NaN   \n",
      "freq             NaN  21985      4770   22065                   NaN   \n",
      "mean    1.380593e+08    NaN       NaN     NaN            284.806530   \n",
      "min     5.075649e+06    NaN       NaN     NaN              0.380000   \n",
      "25%     1.459097e+08    NaN       NaN     NaN             70.000000   \n",
      "50%     1.465139e+08    NaN       NaN     NaN            100.000000   \n",
      "75%     1.471483e+08    NaN       NaN     NaN            250.000000   \n",
      "max     1.478480e+08    NaN       NaN     NaN         100000.000000   \n",
      "std     3.272693e+07    NaN       NaN     NaN            943.993064   \n",
      "\n",
      "                    REGISTRATION_DATE                   DEPOSIT_DATE  \\\n",
      "count                           22065                          22065   \n",
      "unique                            NaN                            NaN   \n",
      "top                               NaN                            NaN   \n",
      "freq                              NaN                            NaN   \n",
      "mean    2022-01-20 00:15:59.347382784  2022-04-21 08:52:32.141400576   \n",
      "min               2009-01-10 00:00:00            2022-01-01 00:00:00   \n",
      "25%               2022-02-11 00:00:00            2022-02-26 00:00:00   \n",
      "50%               2022-04-05 00:00:00            2022-04-15 00:00:00   \n",
      "75%               2022-06-07 00:00:00            2022-06-10 00:00:00   \n",
      "max               2022-08-31 00:00:00            2022-08-31 00:00:00   \n",
      "std                               NaN                            NaN   \n",
      "\n",
      "        WeekOfYear  \n",
      "count      22065.0  \n",
      "unique        <NA>  \n",
      "top           <NA>  \n",
      "freq          <NA>  \n",
      "mean     16.405846  \n",
      "min            1.0  \n",
      "25%            8.0  \n",
      "50%           15.0  \n",
      "75%           23.0  \n",
      "max           52.0  \n",
      "std        9.88495  \n"
     ]
    }
   ],
   "source": [
    "# 2)descriptive statistics of the table\n",
    "descriptive_stats = df_ft.describe(include='all')\n",
    "print(descriptive_stats)"
   ]
  },
  {
   "cell_type": "code",
   "execution_count": 105,
   "id": "d96f6811",
   "metadata": {},
   "outputs": [],
   "source": [
    "# 3)make a column with the first_deposit_amounts binned in bins of 500 and reflected against every customer ID\n",
    "\n",
    "# Defining bin edges and labels\n",
    "bin_edges = [0, 500, 1000, 1500, 2000]  \n",
    "bin_labels = ['0-500', '500-1000', '1000-1500', '1500-2000']\n"
   ]
  },
  {
   "cell_type": "code",
   "execution_count": 108,
   "id": "57764ede",
   "metadata": {},
   "outputs": [
    {
     "data": {
      "text/html": [
       "<div>\n",
       "<style scoped>\n",
       "    .dataframe tbody tr th:only-of-type {\n",
       "        vertical-align: middle;\n",
       "    }\n",
       "\n",
       "    .dataframe tbody tr th {\n",
       "        vertical-align: top;\n",
       "    }\n",
       "\n",
       "    .dataframe thead th {\n",
       "        text-align: right;\n",
       "    }\n",
       "</style>\n",
       "<table border=\"1\" class=\"dataframe\">\n",
       "  <thead>\n",
       "    <tr style=\"text-align: right;\">\n",
       "      <th></th>\n",
       "      <th>IDCUSTOMER</th>\n",
       "      <th>GENDER</th>\n",
       "      <th>CITY</th>\n",
       "      <th>COUNTRY</th>\n",
       "      <th>FIRST_DEPOSIT_AMOUNT</th>\n",
       "      <th>REGISTRATION_DATE</th>\n",
       "      <th>DEPOSIT_DATE</th>\n",
       "      <th>WeekOfYear</th>\n",
       "      <th>DepositBin</th>\n",
       "    </tr>\n",
       "  </thead>\n",
       "  <tbody>\n",
       "    <tr>\n",
       "      <th>0</th>\n",
       "      <td>5075649</td>\n",
       "      <td>M</td>\n",
       "      <td>ankara</td>\n",
       "      <td>Turkey</td>\n",
       "      <td>100.0</td>\n",
       "      <td>2009-01-10</td>\n",
       "      <td>2022-06-05</td>\n",
       "      <td>22</td>\n",
       "      <td>0-500</td>\n",
       "    </tr>\n",
       "    <tr>\n",
       "      <th>1</th>\n",
       "      <td>5176235</td>\n",
       "      <td>M</td>\n",
       "      <td>elazığ</td>\n",
       "      <td>Turkey</td>\n",
       "      <td>400.0</td>\n",
       "      <td>2009-03-01</td>\n",
       "      <td>2022-02-11</td>\n",
       "      <td>6</td>\n",
       "      <td>0-500</td>\n",
       "    </tr>\n",
       "    <tr>\n",
       "      <th>2</th>\n",
       "      <td>5249140</td>\n",
       "      <td>M</td>\n",
       "      <td>izmir</td>\n",
       "      <td>Turkey</td>\n",
       "      <td>200.0</td>\n",
       "      <td>2009-04-06</td>\n",
       "      <td>2022-05-02</td>\n",
       "      <td>18</td>\n",
       "      <td>0-500</td>\n",
       "    </tr>\n",
       "    <tr>\n",
       "      <th>3</th>\n",
       "      <td>5300998</td>\n",
       "      <td>M</td>\n",
       "      <td>Üsküdar</td>\n",
       "      <td>Turkey</td>\n",
       "      <td>100.0</td>\n",
       "      <td>2009-05-02</td>\n",
       "      <td>2022-02-11</td>\n",
       "      <td>6</td>\n",
       "      <td>0-500</td>\n",
       "    </tr>\n",
       "    <tr>\n",
       "      <th>4</th>\n",
       "      <td>5371454</td>\n",
       "      <td>M</td>\n",
       "      <td>sakarya</td>\n",
       "      <td>Turkey</td>\n",
       "      <td>880.0</td>\n",
       "      <td>2009-06-07</td>\n",
       "      <td>2022-05-29</td>\n",
       "      <td>21</td>\n",
       "      <td>500-1000</td>\n",
       "    </tr>\n",
       "  </tbody>\n",
       "</table>\n",
       "</div>"
      ],
      "text/plain": [
       "   IDCUSTOMER GENDER     CITY COUNTRY  FIRST_DEPOSIT_AMOUNT REGISTRATION_DATE  \\\n",
       "0     5075649      M   ankara  Turkey                 100.0        2009-01-10   \n",
       "1     5176235      M   elazığ  Turkey                 400.0        2009-03-01   \n",
       "2     5249140      M    izmir  Turkey                 200.0        2009-04-06   \n",
       "3     5300998      M  Üsküdar  Turkey                 100.0        2009-05-02   \n",
       "4     5371454      M  sakarya  Turkey                 880.0        2009-06-07   \n",
       "\n",
       "  DEPOSIT_DATE  WeekOfYear DepositBin  \n",
       "0   2022-06-05          22      0-500  \n",
       "1   2022-02-11           6      0-500  \n",
       "2   2022-05-02          18      0-500  \n",
       "3   2022-02-11           6      0-500  \n",
       "4   2022-05-29          21   500-1000  "
      ]
     },
     "execution_count": 108,
     "metadata": {},
     "output_type": "execute_result"
    }
   ],
   "source": [
    "# Create the binned column\n",
    "df_ft['DepositBin'] = pd.cut(df_ft['FIRST_DEPOSIT_AMOUNT'], bins=bin_edges, labels=bin_labels, right=False)\n",
    "\n",
    "# Display the DataFrame with the new column\n",
    "df_ft.head()"
   ]
  },
  {
   "cell_type": "code",
   "execution_count": null,
   "id": "1431c5af",
   "metadata": {},
   "outputs": [],
   "source": []
  },
  {
   "cell_type": "markdown",
   "id": "1c51b65f",
   "metadata": {},
   "source": [
    "### Task-11 : Find a 7 days moving average of number of registrations. (calculating an average of the T-7 days for every week's total registrations)"
   ]
  },
  {
   "cell_type": "code",
   "execution_count": 110,
   "id": "d3664654",
   "metadata": {},
   "outputs": [
    {
     "data": {
      "text/plain": [
       "REGISTRATION_DATE\n",
       "2009-01-10     1\n",
       "2009-03-01     1\n",
       "2009-04-06     1\n",
       "2009-05-02     1\n",
       "2009-06-07     1\n",
       "              ..\n",
       "2022-08-27    67\n",
       "2022-08-28    83\n",
       "2022-08-29    55\n",
       "2022-08-30    58\n",
       "2022-08-31    58\n",
       "Length: 1417, dtype: int64"
      ]
     },
     "execution_count": 110,
     "metadata": {},
     "output_type": "execute_result"
    }
   ],
   "source": [
    "# Count registrations per day\n",
    "daily_registrations = df_ft.groupby('REGISTRATION_DATE').size()\n",
    "daily_registrations"
   ]
  },
  {
   "cell_type": "code",
   "execution_count": 112,
   "id": "ad3fca23",
   "metadata": {},
   "outputs": [],
   "source": [
    "# Create a DataFrame with daily registrations\n",
    "daily_df = pd.DataFrame(daily_registrations, columns=['Registrations'])\n",
    "daily_df.index.name = 'Date'"
   ]
  },
  {
   "cell_type": "code",
   "execution_count": 113,
   "id": "28802a7b",
   "metadata": {},
   "outputs": [
    {
     "data": {
      "text/html": [
       "<div>\n",
       "<style scoped>\n",
       "    .dataframe tbody tr th:only-of-type {\n",
       "        vertical-align: middle;\n",
       "    }\n",
       "\n",
       "    .dataframe tbody tr th {\n",
       "        vertical-align: top;\n",
       "    }\n",
       "\n",
       "    .dataframe thead th {\n",
       "        text-align: right;\n",
       "    }\n",
       "</style>\n",
       "<table border=\"1\" class=\"dataframe\">\n",
       "  <thead>\n",
       "    <tr style=\"text-align: right;\">\n",
       "      <th></th>\n",
       "      <th>Registrations</th>\n",
       "      <th>7-Day Moving Average</th>\n",
       "    </tr>\n",
       "    <tr>\n",
       "      <th>Date</th>\n",
       "      <th></th>\n",
       "      <th></th>\n",
       "    </tr>\n",
       "  </thead>\n",
       "  <tbody>\n",
       "    <tr>\n",
       "      <th>2009-01-10</th>\n",
       "      <td>1</td>\n",
       "      <td>NaN</td>\n",
       "    </tr>\n",
       "    <tr>\n",
       "      <th>2009-03-01</th>\n",
       "      <td>1</td>\n",
       "      <td>NaN</td>\n",
       "    </tr>\n",
       "    <tr>\n",
       "      <th>2009-04-06</th>\n",
       "      <td>1</td>\n",
       "      <td>NaN</td>\n",
       "    </tr>\n",
       "    <tr>\n",
       "      <th>2009-05-02</th>\n",
       "      <td>1</td>\n",
       "      <td>NaN</td>\n",
       "    </tr>\n",
       "    <tr>\n",
       "      <th>2009-06-07</th>\n",
       "      <td>1</td>\n",
       "      <td>NaN</td>\n",
       "    </tr>\n",
       "    <tr>\n",
       "      <th>...</th>\n",
       "      <td>...</td>\n",
       "      <td>...</td>\n",
       "    </tr>\n",
       "    <tr>\n",
       "      <th>2022-08-27</th>\n",
       "      <td>67</td>\n",
       "      <td>69.714286</td>\n",
       "    </tr>\n",
       "    <tr>\n",
       "      <th>2022-08-28</th>\n",
       "      <td>83</td>\n",
       "      <td>72.285714</td>\n",
       "    </tr>\n",
       "    <tr>\n",
       "      <th>2022-08-29</th>\n",
       "      <td>55</td>\n",
       "      <td>69.857143</td>\n",
       "    </tr>\n",
       "    <tr>\n",
       "      <th>2022-08-30</th>\n",
       "      <td>58</td>\n",
       "      <td>67.571429</td>\n",
       "    </tr>\n",
       "    <tr>\n",
       "      <th>2022-08-31</th>\n",
       "      <td>58</td>\n",
       "      <td>66.571429</td>\n",
       "    </tr>\n",
       "  </tbody>\n",
       "</table>\n",
       "<p>1417 rows × 2 columns</p>\n",
       "</div>"
      ],
      "text/plain": [
       "            Registrations  7-Day Moving Average\n",
       "Date                                           \n",
       "2009-01-10              1                   NaN\n",
       "2009-03-01              1                   NaN\n",
       "2009-04-06              1                   NaN\n",
       "2009-05-02              1                   NaN\n",
       "2009-06-07              1                   NaN\n",
       "...                   ...                   ...\n",
       "2022-08-27             67             69.714286\n",
       "2022-08-28             83             72.285714\n",
       "2022-08-29             55             69.857143\n",
       "2022-08-30             58             67.571429\n",
       "2022-08-31             58             66.571429\n",
       "\n",
       "[1417 rows x 2 columns]"
      ]
     },
     "execution_count": 113,
     "metadata": {},
     "output_type": "execute_result"
    }
   ],
   "source": [
    "# Calculate 7-day moving average\n",
    "daily_df['7-Day Moving Average'] = daily_df['Registrations'].rolling(window=7).mean()\n",
    "\n",
    "daily_df"
   ]
  }
 ],
 "metadata": {
  "kernelspec": {
   "display_name": "Python 3 (ipykernel)",
   "language": "python",
   "name": "python3"
  },
  "language_info": {
   "codemirror_mode": {
    "name": "ipython",
    "version": 3
   },
   "file_extension": ".py",
   "mimetype": "text/x-python",
   "name": "python",
   "nbconvert_exporter": "python",
   "pygments_lexer": "ipython3",
   "version": "3.11.5"
  },
  "toc": {
   "base_numbering": 1,
   "nav_menu": {},
   "number_sections": true,
   "sideBar": true,
   "skip_h1_title": false,
   "title_cell": "Table of Contents",
   "title_sidebar": "Contents",
   "toc_cell": false,
   "toc_position": {},
   "toc_section_display": true,
   "toc_window_display": false
  }
 },
 "nbformat": 4,
 "nbformat_minor": 5
}
