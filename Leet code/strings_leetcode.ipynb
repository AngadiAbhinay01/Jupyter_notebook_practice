{
 "cells": [
  {
   "cell_type": "code",
   "execution_count": 15,
   "id": "dae336f3",
   "metadata": {},
   "outputs": [
    {
     "data": {
      "text/plain": [
       "4"
      ]
     },
     "execution_count": 15,
     "metadata": {},
     "output_type": "execute_result"
    }
   ],
   "source": [
    "#58. Length of Last Word\n",
    "\"\"\"Input: s = \"Hello World\"\n",
    "Output: 5\n",
    "Explanation: The last word is \"World\" with length 5.\n",
    "Example 2:\n",
    "\n",
    "Input: s = \"   fly me   to   the moon  \"\n",
    "Output: 4\n",
    "Explanation: The last word is \"moon\" with length 4.\"\"\"\n",
    "\n",
    "def last_len(s):\n",
    "    words = s.split()\n",
    "    if words:\n",
    "        last_word = words[-1]\n",
    "        return len(last_word)\n",
    "    else:\n",
    "        return 0\n",
    "    \n",
    "s = \"   fly me   to   the moon  \"\n",
    "last_len(s)"
   ]
  },
  {
   "cell_type": "code",
   "execution_count": 19,
   "id": "3bc92268",
   "metadata": {},
   "outputs": [
    {
     "data": {
      "text/plain": [
       "'uavaw'"
      ]
     },
     "execution_count": 19,
     "metadata": {},
     "output_type": "execute_result"
    }
   ],
   "source": [
    "#1576. Replace All ?'s to Avoid Consecutive Repeating Characters\n",
    "\"\"\"Input: s = \"?zs\"\n",
    "Output: \"azs\"\n",
    "Explanation: There are 25 solutions for this problem. From \"azs\" to \"yzs\", all are valid. Only \"z\" is an invalid \n",
    "modification as the string will consist of consecutive repeating characters in \"zzs\".\n",
    "Example 2:\n",
    "\n",
    "Input: s = \"ubv?w\"\n",
    "Output: \"ubvaw\"\n",
    "Explanation: There are 24 solutions for this problem. Only \"v\" and \"w\" are invalid modifications as the strings \n",
    "will consist of consecutive repeating characters in \"ubvvw\" and \"ubvww\".\"\"\"\n",
    "\n",
    "def fun(s):\n",
    "    s = list(s)\n",
    "    n = len(s)\n",
    "    \n",
    "    for i in range(n):\n",
    "        if s[i] == '?':\n",
    "            for c in 'abcdefghijklmnopqrstuvwxyz':\n",
    "                if (i == 0 or s[i-1] != c) and (i == n-1 or s[i+1] != c):\n",
    "                    s[i] = c\n",
    "                    break\n",
    "    return \"\".join(s)\n",
    "\n",
    "s = \"u?v?w\"\n",
    "fun(s)"
   ]
  },
  {
   "cell_type": "code",
   "execution_count": 32,
   "id": "18299490",
   "metadata": {},
   "outputs": [
    {
     "data": {
      "text/plain": [
       "'here'"
      ]
     },
     "execution_count": 32,
     "metadata": {},
     "output_type": "execute_result"
    }
   ],
   "source": [
    "#709. To Lower Case\n",
    "\"\"\"Example 1:\n",
    "\n",
    "Input: s = \"Hello\"\n",
    "Output: \"hello\"\n",
    "Example 2:\n",
    "\n",
    "Input: s = \"here\"\n",
    "Output: \"here\"\n",
    "\"\"\"\n",
    "def upper_lower(s):\n",
    "    res = \"\"\n",
    "    for char in range(len(s)):\n",
    "        if s[char].isupper():\n",
    "            res = res + chr(ord(s[char]) + 32)\n",
    "        else:\n",
    "            res = res + s[char]\n",
    "    return res\n",
    "\n",
    "s = 'here'\n",
    "upper_lower(s)"
   ]
  },
  {
   "cell_type": "code",
   "execution_count": 2,
   "id": "4df25e42",
   "metadata": {},
   "outputs": [
    {
     "data": {
      "text/plain": [
       "'abhi'"
      ]
     },
     "execution_count": 2,
     "metadata": {},
     "output_type": "execute_result"
    }
   ],
   "source": [
    "def upper_lower(s):\n",
    "    res = \"\"\n",
    "    for char in s:\n",
    "        if ord(char)>64 and ord(char)<97:\n",
    "            res = res + chr(ord(char)+32)\n",
    "        else:\n",
    "            res = res + char\n",
    "    return res\n",
    "\n",
    "s = 'AbHI'\n",
    "upper_lower(s)"
   ]
  },
  {
   "cell_type": "code",
   "execution_count": 8,
   "id": "0cc6ca48",
   "metadata": {},
   "outputs": [
    {
     "data": {
      "text/plain": [
       "'ABHI'"
      ]
     },
     "execution_count": 8,
     "metadata": {},
     "output_type": "execute_result"
    }
   ],
   "source": [
    "def lower_upper(s):\n",
    "    res = \"\"\n",
    "    for char in s:\n",
    "        if ord(char)>95 and ord(char)<123:\n",
    "            res = res + chr(ord(char)-32)\n",
    "        else:\n",
    "            res = res + char\n",
    "    return res\n",
    "    \n",
    "s = 'aBHI'\n",
    "lower_upper(s)"
   ]
  },
  {
   "cell_type": "code",
   "execution_count": 6,
   "id": "49bd3308",
   "metadata": {},
   "outputs": [
    {
     "data": {
      "text/plain": [
       "123"
      ]
     },
     "execution_count": 6,
     "metadata": {},
     "output_type": "execute_result"
    }
   ],
   "source": [
    "97+26"
   ]
  },
  {
   "cell_type": "code",
   "execution_count": 7,
   "id": "d82e3e55",
   "metadata": {},
   "outputs": [
    {
     "name": "stdout",
     "output_type": "stream",
     "text": [
      "H\n"
     ]
    }
   ],
   "source": [
    "x = chr(ord('h')-32)\n",
    "print(x)"
   ]
  },
  {
   "cell_type": "code",
   "execution_count": 41,
   "id": "974a1d50",
   "metadata": {},
   "outputs": [
    {
     "data": {
      "text/plain": [
       "'Capitalize The Title'"
      ]
     },
     "execution_count": 41,
     "metadata": {},
     "output_type": "execute_result"
    }
   ],
   "source": [
    "#2129. Capitalize the Title\n",
    "\"\"\"Input: title = \"capiTalIze tHe titLe\"\n",
    "Output: \"Capitalize The Title\"\n",
    "Explanation:\n",
    "Since all the words have a length of at least 3, the first letter of each word is uppercase, and the remaining\n",
    "letters are lowercase.\n",
    "Example 2:\n",
    "\n",
    "Input: title = \"First leTTeR of EACH Word\"\n",
    "Output: \"First Letter of Each Word\"\n",
    "Explanation:\n",
    "The word \"of\" has length 2, so it is all lowercase.\n",
    "The remaining words have a length of at least 3, so the first letter of each remaining word is uppercase,\n",
    "and the remaining letters are lowercase.\"\"\"\n",
    "\n",
    "\n",
    "def capitalize(title):\n",
    "    words = title.split()\n",
    "    res = []\n",
    "    for word in words:\n",
    "        if len(word) != 1 and len(word) != 2:\n",
    "            res.append(word.capitalize())\n",
    "        else:\n",
    "            res.append(word.lower())\n",
    "    return \" \".join(res)\n",
    "\n",
    "title = \"capiTalIze tHe titLe\"\n",
    "capitalize(title)"
   ]
  },
  {
   "cell_type": "code",
   "execution_count": 46,
   "id": "82cb4eae",
   "metadata": {},
   "outputs": [
    {
     "data": {
      "text/plain": [
       "False"
      ]
     },
     "execution_count": 46,
     "metadata": {},
     "output_type": "execute_result"
    }
   ],
   "source": [
    "#520. Detect Capital\n",
    "\"\"\"All letters in this word are capitals, like \"USA\".\n",
    "All letters in this word are not capitals, like \"leetcode\".\n",
    "Only the first letter in this word is capital, like \"Google\".\n",
    "Given a string word, return true if the usage of capitals in it is right.\n",
    "Example 1:\n",
    "Input: word = \"USA\"\n",
    "Output: true\n",
    "Example 2:\n",
    "\n",
    "Input: word = \"FlaG\"\n",
    "Output: false\"\"\"\n",
    "\n",
    "def detectCapitalUse(word):\n",
    "        if word.isupper():\n",
    "            return True\n",
    "        elif word[0].isupper() and word[1:].islower():\n",
    "            return True\n",
    "        elif word.islower():\n",
    "            return True\n",
    "        else:\n",
    "            return False\n",
    "word = \"FlaG\"\n",
    "detectCapitalUse(word)"
   ]
  },
  {
   "cell_type": "code",
   "execution_count": 54,
   "id": "d809f435",
   "metadata": {},
   "outputs": [
    {
     "data": {
      "text/plain": [
       "['o', 'l', 'l', 'e', 'h']"
      ]
     },
     "execution_count": 54,
     "metadata": {},
     "output_type": "execute_result"
    }
   ],
   "source": [
    "#344. Reverse String\n",
    "\"\"\"Example 1:\n",
    "\n",
    "Input: s = [\"h\",\"e\",\"l\",\"l\",\"o\"]\n",
    "Output: [\"o\",\"l\",\"l\",\"e\",\"h\"]\n",
    "Example 2:\n",
    "\n",
    "Input: s = [\"H\",\"a\",\"n\",\"n\",\"a\",\"h\"]\n",
    "Output: [\"h\",\"a\",\"n\",\"n\",\"a\",\"H\"]\"\"\"\n",
    "\n",
    "def reverse(s):\n",
    "    res = []\n",
    "    for char in range(len(s)-1,-1,-1):\n",
    "        res.append(s[char])\n",
    "    return res\n",
    "\n",
    "s = [\"h\",\"e\",\"l\",\"l\",\"o\"]\n",
    "reverse(s)"
   ]
  },
  {
   "cell_type": "code",
   "execution_count": 51,
   "id": "4f9bd619",
   "metadata": {},
   "outputs": [
    {
     "data": {
      "text/plain": [
       "['o', 'l', 'l', 'e', 'h']"
      ]
     },
     "execution_count": 51,
     "metadata": {},
     "output_type": "execute_result"
    }
   ],
   "source": [
    "def reverse(s):\n",
    "    left = 0\n",
    "    right = len(s) -1\n",
    "    while left < right:\n",
    "        s[left], s[right] = s[right], s[left]\n",
    "        left = left +1\n",
    "        right = right -1\n",
    "    return s\n",
    "        \n",
    "s = [\"h\",\"e\",\"l\",\"l\",\"o\"]\n",
    "reverse(s)"
   ]
  },
  {
   "cell_type": "code",
   "execution_count": 13,
   "id": "81cf7e39",
   "metadata": {},
   "outputs": [
    {
     "data": {
      "text/plain": [
       "['o', 'l', 'l', 'e', 'h']"
      ]
     },
     "execution_count": 13,
     "metadata": {},
     "output_type": "execute_result"
    }
   ],
   "source": [
    "def reverse(s):\n",
    "    res = []\n",
    "    \n",
    "    for i in range(len(s)//2):\n",
    "        temp = s[i]\n",
    "        s[i] = s[len(s)-i-1]\n",
    "        s[len(s)-i-1] = temp\n",
    "    return s\n",
    "        \n",
    "\n",
    "s = [\"h\",\"e\",\"l\",\"l\",\"o\"]\n",
    "reverse(s)"
   ]
  },
  {
   "cell_type": "code",
   "execution_count": 17,
   "id": "b81a0f44",
   "metadata": {},
   "outputs": [
    {
     "data": {
      "text/plain": [
       "True"
      ]
     },
     "execution_count": 17,
     "metadata": {},
     "output_type": "execute_result"
    }
   ],
   "source": [
    "#125. Valid Palindrome\n",
    "\"\"\"Input: s = \"A man, a plan, a canal: Panama\"\n",
    "Output: true\n",
    "Explanation: \"amanaplanacanalpanama\" is a palindrome.\n",
    "Example 2:\n",
    "\n",
    "Input: s = \"race a car\"\n",
    "Output: false\n",
    "Explanation: \"raceacar\" is not a palindrome.\"\"\"\n",
    "\n",
    "def ispalindrome(s):\n",
    "    res = \"\"\n",
    "    for char in s:\n",
    "        if char.isalnum():\n",
    "            res = res + char.lower()\n",
    "    return res == res[::-1]\n",
    "    \n",
    "s = \"A man, a plan, a canal: Panama\"\n",
    "ispalindrome(s)"
   ]
  },
  {
   "cell_type": "code",
   "execution_count": 3,
   "id": "d07b6f31",
   "metadata": {},
   "outputs": [
    {
     "name": "stdout",
     "output_type": "stream",
     "text": [
      "True\n",
      "True\n",
      "False\n"
     ]
    }
   ],
   "source": [
    "#680. Valid Palindrome II\n",
    "\"\"\"Given a string s, return true if the s can be palindrome after deleting at most one character from it.\n",
    "Example 1:\n",
    "Input: s = \"aba\"\n",
    "Output: true\n",
    "Example 2:\n",
    "Input: s = \"abca\"\n",
    "Output: true\n",
    "Explanation: You could delete the character 'c'.\"\"\"\n",
    "\n",
    "def is_palindrome_with_one_deletion(s):\n",
    "        p1=0\n",
    "        p2=len(s)-1\n",
    "        while p1<=p2:\n",
    "            if s[p1]!=s[p2]:\n",
    "                string1=s[:p1]+s[p1+1:]\n",
    "                string2=s[:p2]+s[p2+1:]\n",
    "                return string1==string1[::-1] or string2==string2[::-1]\n",
    "            p1+=1\n",
    "            p2-=1\n",
    "        return True\n",
    "s1 = \"cbbc\"\n",
    "s2 = \"abca\"\n",
    "s3 = \"abc\"\n",
    "\n",
    "print(is_palindrome_with_one_deletion(s1))  # Output: True\n",
    "print(is_palindrome_with_one_deletion(s2))  # Output: True\n",
    "print(is_palindrome_with_one_deletion(s3))  # Output: False\n"
   ]
  },
  {
   "cell_type": "code",
   "execution_count": 12,
   "id": "d903be50",
   "metadata": {},
   "outputs": [
    {
     "name": "stdout",
     "output_type": "stream",
     "text": [
      "{'a'}\n",
      "{'e', 'a'}\n",
      "{'e', 'a', 'i'}\n",
      "{'e', 'a', 'i', 'o'}\n",
      "{'o', 'u', 'i', 'a', 'e'}\n",
      "{'o', 'u', 'i', 'a', 'e'}\n",
      "{'e'}\n",
      "{'e', 'i'}\n",
      "{'e', 'o', 'i'}\n",
      "{'u', 'e', 'o', 'i'}\n",
      "{'u', 'e', 'o', 'i'}\n",
      "{'i'}\n",
      "{'o', 'i'}\n",
      "{'u', 'o', 'i'}\n",
      "{'u', 'o', 'i'}\n",
      "{'o'}\n",
      "{'o', 'u'}\n",
      "{'o', 'u'}\n",
      "{'u'}\n",
      "{'u'}\n",
      "{'u'}\n",
      "2\n"
     ]
    }
   ],
   "source": [
    "#2062. Count Vowel Substrings of a String\n",
    "\"\"\"Example 2:\n",
    "Input: word = \"unicornarihan\"\n",
    "Output: 0\n",
    "Explanation: Not all 5 vowels are present, so there are no vowel substrings.\n",
    "Example 3:\n",
    "Input: word = \"cuaieuouac\"\n",
    "Output: 7\n",
    "Explanation: The vowel substrings of word are as follows (underlined):\n",
    "- \"cuaieuouac\"\n",
    "- \"cuaieuouac\"\n",
    "- \"cuaieuouac\"\n",
    "- \"cuaieuouac\"\n",
    "- \"cuaieuouac\"\n",
    "- \"cuaieuouac\"\n",
    "- \"cuaieuouac\".\"\"\"\n",
    "def count_vowel_substrings(word):\n",
    "    vowels = set('aeiou')\n",
    "    count = 0\n",
    "    n = len(word)\n",
    "    \n",
    "    for i in range(n):\n",
    "        seen_vowels = set()\n",
    "        for char in word[i:]:\n",
    "            if char not in vowels:\n",
    "                break\n",
    "            seen_vowels.add(char)\n",
    "            print(seen_vowels)\n",
    "            if len(seen_vowels) == 5:\n",
    "                count = count + 1\n",
    "    return count\n",
    "\n",
    "# Example usage:\n",
    "word = \"aeiouu\"\n",
    "result = count_vowel_substrings(word)\n",
    "print(result)  # Output: 6"
   ]
  },
  {
   "cell_type": "code",
   "execution_count": 8,
   "id": "cfd7af07",
   "metadata": {},
   "outputs": [
    {
     "name": "stdout",
     "output_type": "stream",
     "text": [
      "True\n"
     ]
    }
   ],
   "source": [
    "#459. Repeated Substring Pattern\n",
    "\"\"\"Example 1:\n",
    "Input: s = \"abab\"\n",
    "Output: true\n",
    "Explanation: It is the substring \"ab\" twice.\n",
    "Example 2:\n",
    "Input: s = \"aba\"\n",
    "Output: false\"\"\"\n",
    "\n",
    "def repeatedSubstringPattern(s):\n",
    "    n = len(s)\n",
    "    \n",
    "    # Try to find a potential substring length\n",
    "    for i in range(1, n // 2 + 1):\n",
    "        if n % i == 0:\n",
    "            # If the string length is divisible by i, check if it can be formed by repeating the substring of length i\n",
    "            substring = s[:i]\n",
    "            if substring * (n // i) == s:\n",
    "                return True\n",
    "    return False\n",
    "s1 = \"abab\"\n",
    "result1 = repeatedSubstringPattern(s1)\n",
    "print(result1)\n"
   ]
  },
  {
   "cell_type": "code",
   "execution_count": 4,
   "id": "d8a4bc26",
   "metadata": {},
   "outputs": [
    {
     "data": {
      "text/plain": [
       "'abab'"
      ]
     },
     "execution_count": 4,
     "metadata": {},
     "output_type": "execute_result"
    }
   ],
   "source": [
    "'ab' * 2"
   ]
  },
  {
   "cell_type": "code",
   "execution_count": 4,
   "id": "47f2c135",
   "metadata": {},
   "outputs": [
    {
     "data": {
      "text/plain": [
       "'255[.]100[.]50[.]0'"
      ]
     },
     "execution_count": 4,
     "metadata": {},
     "output_type": "execute_result"
    }
   ],
   "source": [
    "#1108. Defanging an IP Address\n",
    "\"\"\"Input: address = \"1.1.1.1\"\n",
    "Output: \"1[.]1[.]1[.]1\"\n",
    "Example 2:\n",
    "\n",
    "Input: address = \"255.100.50.0\"\n",
    "Output: \"255[.]100[.]50[.]0 .\"\"\"\n",
    "\n",
    "def defangIPaddr(address):\n",
    "    res = \"\"\n",
    "    for char in address:\n",
    "        if char == '.':\n",
    "            res = res + '[.]'\n",
    "        else:\n",
    "            res = res + char\n",
    "    return res\n",
    "address = \"255.100.50.0\"\n",
    "defangIPaddr(address)"
   ]
  },
  {
   "cell_type": "code",
   "execution_count": 14,
   "id": "12d87ae1",
   "metadata": {},
   "outputs": [
    {
     "data": {
      "text/plain": [
       "'e'"
      ]
     },
     "execution_count": 14,
     "metadata": {},
     "output_type": "execute_result"
    }
   ],
   "source": [
    "#389. Find the Difference\n",
    "\"\"\"You are given two strings s and t.\n",
    "String t is generated by random shuffling string s and then add one more letter at a random position.\n",
    "Return the letter that was added to t.\n",
    "Example 1:\n",
    "Input: s = \"abcd\", t = \"abcde\"\n",
    "Output: \"e\"\n",
    "Explanation: 'e' is the letter that was added.\n",
    "Exaple 2:\n",
    "Input: s = \"\", t = \"y\"\n",
    "Output: \"y\".\"\"\"\n",
    "def findTheDifference(s, t):\n",
    "    char_count_s = {}\n",
    "    for char in s:\n",
    "        if char in char_count_s:\n",
    "            char_count_s[char] += 1\n",
    "        else:\n",
    "            char_count_s[char] = 1\n",
    "    \n",
    "    for char in t:\n",
    "        if char in char_count_s and char_count_s[char]>0:\n",
    "            char_count_s[char] -= 1\n",
    "        else:\n",
    "            return char\n",
    "\n",
    "s = \"abcd\"\n",
    "t = \"abcde\"\n",
    "findTheDifference(s,t)"
   ]
  },
  {
   "cell_type": "code",
   "execution_count": 19,
   "id": "6078579e",
   "metadata": {},
   "outputs": [
    {
     "name": "stdout",
     "output_type": "stream",
     "text": [
      "9\n",
      "41\n"
     ]
    }
   ],
   "source": [
    "#1154. Day of the Year\n",
    "\"\"\"Given a string date representing a Gregorian calendar date formatted as YYYY-MM-DD, return the day number of the year.\n",
    "Example 1:\n",
    "Input: date = \"2019-01-09\"\n",
    "Output: 9\n",
    "Explanation: Given date is the 9th day of the year in 2019.\n",
    "Example 2:\n",
    "Input: date = \"2019-02-10\"\n",
    "Output: 41\"\"\"\n",
    "\n",
    "def dayOfYear(date):\n",
    "    # Split the input date string into year, month, and day\n",
    "    year, month, day = map(int, date.split('-'))\n",
    "    \n",
    "    # Define the number of days in each month (non-leap year)\n",
    "    days_in_month = [0, 31, 28, 31, 30, 31, 30, 31, 31, 30, 31, 30, 31]\n",
    "    \n",
    "    # If it's a leap year, update the days in February\n",
    "    if year % 4 == 0 and (year % 100 != 0 or year % 400 == 0):\n",
    "        days_in_month[2] = 29\n",
    "    \n",
    "    # Calculate the day number of the year\n",
    "    day_number = sum(days_in_month[:month]) + day\n",
    "    \n",
    "    return day_number\n",
    "\n",
    "# Example usage:\n",
    "date1 = \"2019-01-09\"\n",
    "print(dayOfYear(date1))  # Output: 9\n",
    "\n",
    "date2 = \"2019-02-10\"\n",
    "print(dayOfYear(date2))  # Output: 41"
   ]
  },
  {
   "cell_type": "code",
   "execution_count": 14,
   "id": "fc043539",
   "metadata": {},
   "outputs": [
    {
     "data": {
      "text/plain": [
       "(2019, 2, 10)"
      ]
     },
     "execution_count": 14,
     "metadata": {},
     "output_type": "execute_result"
    }
   ],
   "source": [
    "date = \"2019.02.10\"\n",
    "y, m, d = map(int,date.split('.'))\n",
    "y,m,d"
   ]
  },
  {
   "cell_type": "code",
   "execution_count": 15,
   "id": "2115644f",
   "metadata": {},
   "outputs": [
    {
     "name": "stdout",
     "output_type": "stream",
     "text": [
      "False\n",
      "True\n",
      "False\n"
     ]
    }
   ],
   "source": [
    "#1812. Determine Color of a Chessboard Square\n",
    "\"\"\"Example 1:\n",
    "Input: coordinates = \"a1\"\n",
    "Output: false\n",
    "Explanation: From the chessboard above, the square with coordinates \"a1\" is black, so return false.\n",
    "Example 2:\n",
    "Input: coordinates = \"h3\"\n",
    "Output: true\n",
    "Explanation: From the chessboard above, the square with coordinates \"h3\" is white, so return true.\n",
    "Example 3:\n",
    "Input: coordinates = \"c7\"\n",
    "Output: false\"\"\"\n",
    "\n",
    "def isWhiteSquare(coordinates):\n",
    "    # Extract the column (letter) and row (number) from the coordinates\n",
    "    column, row = coordinates[0], int(coordinates[1])\n",
    "    \n",
    "    # Determine the column index (0-7) using ASCII values\n",
    "    column_index = ord(column) - ord('a')\n",
    "    \n",
    "    # Check if the square is white or black based on row and column\n",
    "    if (row + column_index) % 2 == 0:\n",
    "        return True  # White square\n",
    "    else:\n",
    "        return False  # Black square\n",
    "\n",
    "# Example usage:\n",
    "coordinates1 = \"a1\"\n",
    "print(isWhiteSquare(coordinates1))  # Output: False\n",
    "\n",
    "coordinates2 = \"h3\"\n",
    "print(isWhiteSquare(coordinates2))  # Output: True\n",
    "\n",
    "coordinates3 = \"c7\"\n",
    "print(isWhiteSquare(coordinates3))  # Output: False"
   ]
  },
  {
   "cell_type": "code",
   "execution_count": 17,
   "id": "03f3cdfc",
   "metadata": {},
   "outputs": [
    {
     "name": "stdout",
     "output_type": "stream",
     "text": [
      "Enter color ('dark', 'light', or 'both'): dark\n",
      "a1 a3 a5 a7 b2 b4 b6 b8 c1 c3 c5 c7 d2 d4 d6 d8 e1 e3 e5 e7 f2 f4 f6 f8 g1 g3 g5 g7 h2 h4 h6 h8 "
     ]
    }
   ],
   "source": [
    "def generate_chessboard():\n",
    "    # Generate all possible coordinates on a standard 8x8 chessboard\n",
    "    all_coordinates = []\n",
    "    for i in range(8):\n",
    "        for j in range(1, 9):\n",
    "            all_coordinates.append(chr(ord('a') + i) + str(j))\n",
    "    return all_coordinates\n",
    "\n",
    "def is_dark_square(column, row):\n",
    "    # Check if the square is dark or light based on row and column\n",
    "    return (row + column) % 2 == 1\n",
    "\n",
    "def is_light_square(column, row):\n",
    "    # Check if the square is dark or light based on row and column\n",
    "    return (row + column) % 2 == 0\n",
    "\n",
    "def print_squares(coordinates_list, color, separator):\n",
    "    # Print squares of the specified color with the given separator\n",
    "    for coord in coordinates_list:\n",
    "        column, row = coord[0], int(coord[1])\n",
    "        if (color == 'dark' and is_dark_square(ord(column) - ord('a'), row)) or \\\n",
    "           (color == 'light' and is_light_square(ord(column) - ord('a'), row)) or \\\n",
    "           (color == 'both'):\n",
    "            print(coord, end=separator)\n",
    "\n",
    "# Example usage:\n",
    "all_coordinates = generate_chessboard()\n",
    "\n",
    "# Get user input for color\n",
    "user_color = input(\"Enter color ('dark', 'light', or 'both'): \").lower()\n",
    "\n",
    "# Validate user input\n",
    "if user_color in ['dark', 'light', 'both']:\n",
    "    separator = '\\n' if user_color == 'both' else ' '\n",
    "    print_squares(all_coordinates, user_color, separator)\n",
    "else:\n",
    "    print(\"Invalid color. Please enter 'dark', 'light', or 'both'.\")"
   ]
  },
  {
   "cell_type": "code",
   "execution_count": 14,
   "id": "378f740b",
   "metadata": {},
   "outputs": [
    {
     "name": "stdout",
     "output_type": "stream",
     "text": [
      "2\n",
      "0\n"
     ]
    }
   ],
   "source": [
    "#258. Add Digits\n",
    "\"\"\"Example 1:\n",
    "\n",
    "Input: num = 38\n",
    "Output: 2\n",
    "Explanation: The process is\n",
    "38 --> 3 + 8 --> 11\n",
    "11 --> 1 + 1 --> 2 \n",
    "Since 2 has only one digit, return it.\n",
    "Example 2:\n",
    "\n",
    "Input: num = 0\n",
    "Output: 0\"\"\"\n",
    "\n",
    "def addDigits(num):\n",
    "    while num >= 10:\n",
    "        # Initialize a variable to store the sum of digits\n",
    "        digit_sum = 0\n",
    "        \n",
    "        # Sum the digits of the current number\n",
    "        while num > 0:\n",
    "            digit_sum += num % 10\n",
    "            num //= 10\n",
    "        \n",
    "        # Update num with the sum of digits\n",
    "        num = digit_sum\n",
    "    \n",
    "    return num\n",
    "\n",
    "# Example usage:\n",
    "num1 = 38\n",
    "print(addDigits(num1))  # Output: 2\n",
    "\n",
    "num2 = 0\n",
    "print(addDigits(num2))  # Output: 0\n"
   ]
  },
  {
   "cell_type": "code",
   "execution_count": 2,
   "id": "95ab53d8",
   "metadata": {},
   "outputs": [
    {
     "data": {
      "text/plain": [
       "3"
      ]
     },
     "execution_count": 2,
     "metadata": {},
     "output_type": "execute_result"
    }
   ],
   "source": [
    "#771. Jewels and Stones\n",
    "\"\"\"You're given strings jewels representing the types of stones that are jewels, and stones representing the stones you have.\n",
    "Each character in stones is a type of stone you have. You want to know how many of the stones you have are also jewels.\n",
    "Letters are case sensitive, so \"a\" is considered a different type of stone from \"A\".\n",
    "Example 1:\n",
    "Input: jewels = \"aA\", stones = \"aAAbbbb\"\n",
    "Output: 3\n",
    "Example 2:\n",
    "Input: jewels = \"z\", stones = \"ZZ\"\n",
    "Output: 0\"\"\"\n",
    "def numJewelsInStones(jewels, stones):\n",
    "    count = 0\n",
    "    for char in stones:\n",
    "        if char in jewels:\n",
    "            count += 1\n",
    "    return count\n",
    "            \n",
    "jewels = \"aA\"\n",
    "stones = \"aAAbbbb\"    \n",
    "numJewelsInStones(jewels,stones)"
   ]
  },
  {
   "cell_type": "code",
   "execution_count": 19,
   "id": "332f478e",
   "metadata": {},
   "outputs": [
    {
     "name": "stdout",
     "output_type": "stream",
     "text": [
      "2\n",
      "2\n"
     ]
    }
   ],
   "source": [
    "#169. Majority Element\n",
    "\"\"\"Given an array nums of size n, return the majority element.\n",
    "The majority element is the element that appears more than ⌊n / 2⌋ times. You may assume that the majority \n",
    "element always exists in the array.\n",
    "Example 1:\n",
    "Input: nums = [3,2,3]\n",
    "Output: 3\n",
    "Example 2:\n",
    "Input: nums = [2,2,1,1,1,2,2]\n",
    "Output: 2\"\"\"\n",
    "\n",
    "def majorityElement(nums):\n",
    "    candidate = None\n",
    "    count = 0\n",
    "    \n",
    "    for num in nums:\n",
    "        # If count is 0, set the current number as the candidate\n",
    "        if count == 0:\n",
    "            candidate = num\n",
    "        # If the current number is the same as the candidate, increment the count\n",
    "        if num == candidate:\n",
    "            count += 1\n",
    "        # If the current number is different from the candidate, decrement the count\n",
    "        else:\n",
    "            count -= 1\n",
    "    \n",
    "    return candidate\n",
    "nums1 = [2,2,3,2]\n",
    "result1 = majorityElement(nums1)\n",
    "print(result1)  \n",
    "nums2 = [2, 2, 1, 1, 1, 2, 2]\n",
    "result2 = majorityElement(nums2)\n",
    "print(result2)  "
   ]
  },
  {
   "cell_type": "code",
   "execution_count": 10,
   "id": "8de8c6e0",
   "metadata": {},
   "outputs": [
    {
     "name": "stdout",
     "output_type": "stream",
     "text": [
      "{0: 1, 2: 2, 4: 2}\n",
      "2\n",
      "{4: 4, 2: 1}\n",
      "4\n",
      "{}\n",
      "-1\n"
     ]
    }
   ],
   "source": [
    "#2404. Most Frequent Even Element\n",
    "\"\"\"Given an integer array nums, return the most frequent even element.\n",
    "If there is a tie, return the smallest one. If there is no such element, return -1.\n",
    "Example 1:\n",
    "Input: nums = [0,1,2,2,4,4,1]\n",
    "Output: 2\n",
    "Explanation:\n",
    "The even elements are 0, 2, and 4. Of these, 2 and 4 appear the most.\n",
    "We return the smallest one, which is 2.\n",
    "Example 2:\n",
    "Input: nums = [4,4,4,9,2,4]\n",
    "Output: 4\n",
    "Explanation: 4 is the even element appears the most.\n",
    "Example 3:\n",
    "Input: nums = [29,47,21,41,13,37,25,7]\n",
    "Output: -1\"\"\"\n",
    "\n",
    "def mostFrequentEven(nums):\n",
    "    even_count = {}  # Dictionary to store the count of even numbers\n",
    "\n",
    "    # Count the occurrences of even numbers\n",
    "    for num in nums:\n",
    "        if num % 2 == 0:  # Check if the number is even\n",
    "            if num in even_count:\n",
    "                even_count[num] += 1\n",
    "            else:\n",
    "                even_count[num] = 1\n",
    "    print(even_count)\n",
    "    max_freq = 0  # Initialize the maximum frequency\n",
    "    most_frequent_even = -1  # Initialize the most frequent even element\n",
    "\n",
    "    # Find the most frequent even number\n",
    "    for num, count in even_count.items():\n",
    "        if count > max_freq:\n",
    "            max_freq = count\n",
    "            most_frequent_even = num\n",
    "        elif count == max_freq and num < most_frequent_even:\n",
    "            most_frequent_even = num\n",
    "\n",
    "    return most_frequent_even\n",
    "\n",
    "# Example 1\n",
    "nums1 = [0, 1, 2, 2, 4, 4, 1]\n",
    "result1 = mostFrequentEven(nums1)\n",
    "print(result1)  # Output: 2\n",
    "\n",
    "# Example 2\n",
    "nums2 = [4, 4, 4, 9, 2, 4]\n",
    "result2 = mostFrequentEven(nums2)\n",
    "print(result2)  # Output: 4\n",
    "\n",
    "# Example 3\n",
    "nums3 = [29, 47, 21, 41, 13, 37, 25, 7]\n",
    "result3 = mostFrequentEven(nums3)\n",
    "print(result3)  # Output: -1\n"
   ]
  },
  {
   "cell_type": "code",
   "execution_count": 4,
   "id": "0e545ad0",
   "metadata": {},
   "outputs": [
    {
     "data": {
      "text/plain": [
       "4"
      ]
     },
     "execution_count": 4,
     "metadata": {},
     "output_type": "execute_result"
    }
   ],
   "source": [
    "#1455. Check If a Word Occurs As a Prefix of Any Word in a Sentence\n",
    "\"\"\"Example 1:\n",
    "\n",
    "Input: sentence = \"i love eating burger\", searchWord = \"burg\"\n",
    "Output: 4\n",
    "Explanation: \"burg\" is prefix of \"burger\" which is the 4th word in the sentence.\n",
    "Example 2:\n",
    "\n",
    "Input: sentence = \"this problem is an easy problem\", searchWord = \"pro\"\n",
    "Output: 2\n",
    "Explanation: \"pro\" is prefix of \"problem\" which is the 2nd and the 6th word in the sentence, but we return 2 as it's \n",
    "the minimal index.\n",
    "Example 3:\n",
    "\n",
    "Input: sentence = \"i am tired\", searchWord = \"you\"\n",
    "Output: -1\n",
    "Explanation: \"you\" is not a prefix of any word in the sentence.\n",
    " \"\"\"\n",
    "def isPrefixOfWord(sentence,searchWord):\n",
    "    words = sentence.split()\n",
    "    for index, word in enumerate(words):\n",
    "        if searchWord == word[:len(searchWord)]:\n",
    "            return index+1\n",
    "    return -1    \n",
    "    \n",
    "sentence = \"i love eating burger\"\n",
    "searchWord = \"burg\"\n",
    "isPrefixOfWord(sentence,searchWord)"
   ]
  },
  {
   "cell_type": "code",
   "execution_count": 8,
   "id": "2f328ef8",
   "metadata": {},
   "outputs": [
    {
     "name": "stdout",
     "output_type": "stream",
     "text": [
      "2\n",
      "0\n"
     ]
    }
   ],
   "source": [
    "#2185. Counting Words With a Given Prefix\n",
    "\"\"\"Example 1:\n",
    "\n",
    "Input: words = [\"pay\",\"attention\",\"practice\",\"attend\"], pref = \"at\"\n",
    "Output: 2\n",
    "Explanation: The 2 strings that contain \"at\" as a prefix are: \"attention\" and \"attend\".\n",
    "Example 2:\n",
    "\n",
    "Input: words = [\"leetcode\",\"win\",\"loops\",\"success\"], pref = \"code\"\n",
    "Output: 0\n",
    "Explanation: There are no strings that contain \"code\" as a prefix.\"\"\"\n",
    "\n",
    "def prefixCount(words,pref):\n",
    "    count = 0\n",
    "    for w in words:\n",
    "        if pref == w[:len(pref)]:\n",
    "            count += 1\n",
    "    return count\n",
    "\n",
    "words1 = [\"pay\",\"attention\",\"practice\",\"attend\"]\n",
    "pref1 = \"at\"\n",
    "words2 = [\"leetcode\",\"win\",\"loops\",\"success\"]\n",
    "pref2 = \"code\"\n",
    "\n",
    "print(prefixCount(words1,pref1))\n",
    "print(prefixCount(words2,pref2))"
   ]
  },
  {
   "cell_type": "code",
   "execution_count": 11,
   "id": "2c20efa2",
   "metadata": {},
   "outputs": [
    {
     "name": "stdout",
     "output_type": "stream",
     "text": [
      "a\n",
      "ab\n",
      "abc\n"
     ]
    },
    {
     "data": {
      "text/plain": [
       "3"
      ]
     },
     "execution_count": 11,
     "metadata": {},
     "output_type": "execute_result"
    }
   ],
   "source": [
    "#2255. Count Prefixes of a Given String\n",
    "\"\"\"Example 1:\n",
    "\n",
    "Input: words = [\"a\",\"b\",\"c\",\"ab\",\"bc\",\"abc\"], s = \"abc\"\n",
    "Output: 3\n",
    "Explanation:\n",
    "The strings in words which are a prefix of s = \"abc\" are:\n",
    "\"a\", \"ab\", and \"abc\".\n",
    "Thus the number of strings in words which are a prefix of s is 3.\n",
    "Example 2:\n",
    "\n",
    "Input: words = [\"a\",\"a\"], s = \"aa\"\n",
    "Output: 2\n",
    "Explanation:\n",
    "Both of the strings are a prefix of s. \n",
    "Note that the same string can occur multiple times in words, and it should be counted each time.\n",
    " \"\"\"\n",
    "def countPrefixes(words, s):\n",
    "    count = 0\n",
    "    for char in words:\n",
    "        if s[:len(char)] == char:\n",
    "            print(char)\n",
    "            count += 1\n",
    "    return count\n",
    "    \n",
    "words = [\"a\",\"b\",\"c\",\"ab\",\"bc\",\"abc\"]\n",
    "s = \"abc\"\n",
    "countPrefixes(words,s)"
   ]
  },
  {
   "cell_type": "code",
   "execution_count": null,
   "id": "b4dac66b",
   "metadata": {},
   "outputs": [],
   "source": []
  },
  {
   "cell_type": "code",
   "execution_count": null,
   "id": "0248e60d",
   "metadata": {},
   "outputs": [],
   "source": []
  },
  {
   "cell_type": "code",
   "execution_count": null,
   "id": "f4f86351",
   "metadata": {},
   "outputs": [],
   "source": []
  },
  {
   "cell_type": "code",
   "execution_count": null,
   "id": "fe273f22",
   "metadata": {},
   "outputs": [],
   "source": []
  },
  {
   "cell_type": "code",
   "execution_count": null,
   "id": "b5f07663",
   "metadata": {},
   "outputs": [],
   "source": []
  },
  {
   "cell_type": "code",
   "execution_count": null,
   "id": "786c8128",
   "metadata": {},
   "outputs": [],
   "source": []
  },
  {
   "cell_type": "code",
   "execution_count": null,
   "id": "3ab4b38a",
   "metadata": {},
   "outputs": [],
   "source": []
  },
  {
   "cell_type": "code",
   "execution_count": null,
   "id": "982bdc7c",
   "metadata": {},
   "outputs": [],
   "source": []
  },
  {
   "cell_type": "code",
   "execution_count": null,
   "id": "fc6ffc5c",
   "metadata": {},
   "outputs": [],
   "source": []
  },
  {
   "cell_type": "code",
   "execution_count": null,
   "id": "9312d925",
   "metadata": {},
   "outputs": [],
   "source": []
  },
  {
   "cell_type": "code",
   "execution_count": null,
   "id": "3c473651",
   "metadata": {},
   "outputs": [],
   "source": []
  },
  {
   "cell_type": "code",
   "execution_count": null,
   "id": "fecf90d8",
   "metadata": {},
   "outputs": [],
   "source": []
  },
  {
   "cell_type": "code",
   "execution_count": null,
   "id": "32101d20",
   "metadata": {},
   "outputs": [],
   "source": []
  },
  {
   "cell_type": "code",
   "execution_count": null,
   "id": "8c0e5183",
   "metadata": {},
   "outputs": [],
   "source": []
  },
  {
   "cell_type": "code",
   "execution_count": null,
   "id": "bc3d9bf5",
   "metadata": {},
   "outputs": [],
   "source": []
  }
 ],
 "metadata": {
  "kernelspec": {
   "display_name": "Python 3 (ipykernel)",
   "language": "python",
   "name": "python3"
  },
  "language_info": {
   "codemirror_mode": {
    "name": "ipython",
    "version": 3
   },
   "file_extension": ".py",
   "mimetype": "text/x-python",
   "name": "python",
   "nbconvert_exporter": "python",
   "pygments_lexer": "ipython3",
   "version": "3.11.5"
  }
 },
 "nbformat": 4,
 "nbformat_minor": 5
}
