{
 "cells": [
  {
   "cell_type": "code",
   "execution_count": 1,
   "id": "af53e43b",
   "metadata": {},
   "outputs": [],
   "source": [
    "import math\n",
    "import numpy as np"
   ]
  },
  {
   "cell_type": "code",
   "execution_count": 4,
   "id": "14ec84d0",
   "metadata": {},
   "outputs": [
    {
     "data": {
      "text/plain": [
       "24"
      ]
     },
     "execution_count": 4,
     "metadata": {},
     "output_type": "execute_result"
    }
   ],
   "source": [
    "def fun(n):\n",
    "    if n<0:\n",
    "        return 0\n",
    "    elif n==0 or n == 1:\n",
    "        return 1\n",
    "    else:\n",
    "        fact = 1\n",
    "        while n>1:\n",
    "            fact = n*fact\n",
    "            n = n-1\n",
    "    return fact\n",
    "    \n",
    "n = 4\n",
    "fun(n)"
   ]
  },
  {
   "cell_type": "code",
   "execution_count": 9,
   "id": "0871b5b4",
   "metadata": {},
   "outputs": [
    {
     "name": "stdout",
     "output_type": "stream",
     "text": [
      "enter a num18\n",
      "18 is not a prime\n"
     ]
    }
   ],
   "source": [
    "n = int(input('enter a num'))\n",
    "if n>1:\n",
    "    for i in range(2,n):\n",
    "        if n%i == 0:\n",
    "            print(n,'is not a prime')\n",
    "            break\n",
    "    else:\n",
    "        print(n,'is a prime number')\n",
    "else:\n",
    "    print(n,'is not a prime')"
   ]
  },
  {
   "cell_type": "code",
   "execution_count": 11,
   "id": "f245cb1e",
   "metadata": {},
   "outputs": [
    {
     "name": "stdout",
     "output_type": "stream",
     "text": [
      "0\n",
      "1\n",
      "1\n",
      "2\n",
      "3\n",
      "5\n",
      "8\n",
      "13\n",
      "21\n",
      "34\n"
     ]
    }
   ],
   "source": [
    "def fun(n):\n",
    "    a = 0\n",
    "    b = 1\n",
    "    print(a)\n",
    "    print(b)\n",
    "    for i in range(2,n):\n",
    "        print(a+b)\n",
    "        a,b = b,a+b\n",
    "    \n",
    "n = 10\n",
    "fun(n)"
   ]
  },
  {
   "cell_type": "code",
   "execution_count": 13,
   "id": "68080e4b",
   "metadata": {},
   "outputs": [
    {
     "name": "stdout",
     "output_type": "stream",
     "text": [
      "enter a num to check14\n",
      "is not a fibb num\n"
     ]
    }
   ],
   "source": [
    "def fun(n):\n",
    "    fn = 0\n",
    "    sn = 1\n",
    "    res = 1\n",
    "    while res<n:\n",
    "        fn = sn\n",
    "        sn = res\n",
    "        res = fn+sn\n",
    "    if res == n:\n",
    "        print(n,'is fibb num')\n",
    "    else:\n",
    "        print('is not a fibb num')\n",
    "    \n",
    "n = int(input('enter a num to check'))\n",
    "fun(n)"
   ]
  },
  {
   "cell_type": "code",
   "execution_count": 16,
   "id": "cf724658",
   "metadata": {},
   "outputs": [
    {
     "data": {
      "text/plain": [
       "14"
      ]
     },
     "execution_count": 16,
     "metadata": {},
     "output_type": "execute_result"
    }
   ],
   "source": [
    "def fun(n):\n",
    "    res = 0\n",
    "    for i in range(1,n+1):\n",
    "        res = res + i*i\n",
    "    return res\n",
    "    \n",
    "n = 3\n",
    "fun(n)"
   ]
  },
  {
   "cell_type": "code",
   "execution_count": 15,
   "id": "b7bb6264",
   "metadata": {},
   "outputs": [
    {
     "name": "stdout",
     "output_type": "stream",
     "text": [
      "543\n"
     ]
    }
   ],
   "source": [
    "n = 345\n",
    "temp = n\n",
    "res = 0\n",
    "while n > 0:\n",
    "    last = n % 10\n",
    "    res = res * 10 + last\n",
    "    n = n // 10\n",
    "print(res)"
   ]
  },
  {
   "cell_type": "code",
   "execution_count": 16,
   "id": "fbb0d3c1",
   "metadata": {},
   "outputs": [
    {
     "name": "stdout",
     "output_type": "stream",
     "text": [
      "1\n",
      "2\n",
      "3\n",
      "4\n",
      "5\n",
      "6\n",
      "7\n",
      "8\n",
      "9\n",
      "10\n"
     ]
    }
   ],
   "source": [
    "def fun(n):\n",
    "    if n > 0:\n",
    "        fun(n-1)\n",
    "        print(n)\n",
    "    \n",
    "n = 10\n",
    "fun(n)"
   ]
  },
  {
   "cell_type": "code",
   "execution_count": 21,
   "id": "4a6d10b7",
   "metadata": {},
   "outputs": [
    {
     "name": "stdout",
     "output_type": "stream",
     "text": [
      "8 is a power of 2\n"
     ]
    }
   ],
   "source": [
    "n = 8\n",
    "res = 0\n",
    "i = 1\n",
    "while i < n:\n",
    "    res = 1<<i\n",
    "    if res == n:\n",
    "        print(n,'is a power of 2')\n",
    "        break\n",
    "    i = i + 1\n",
    "else:\n",
    "    print(n,'is not a power of 2')"
   ]
  },
  {
   "cell_type": "code",
   "execution_count": 22,
   "id": "18e6bff0",
   "metadata": {},
   "outputs": [
    {
     "name": "stdout",
     "output_type": "stream",
     "text": [
      "enter no of elements4\n",
      "1\n",
      "2\n",
      "3\n",
      "4\n",
      "[1, 2, 3, 4]\n"
     ]
    }
   ],
   "source": [
    "mat = []\n",
    "n = int(input('enter no of elements'))\n",
    "for i in range(0,n):\n",
    "    x = int(input())\n",
    "    mat.append(x)\n",
    "print(mat)"
   ]
  },
  {
   "cell_type": "code",
   "execution_count": 26,
   "id": "6f1bd31f",
   "metadata": {},
   "outputs": [
    {
     "name": "stdout",
     "output_type": "stream",
     "text": [
      "2\n",
      "2\n",
      "1\n",
      "2\n",
      "3\n",
      "4\n",
      "[[1, 2], [3, 4]]\n",
      "1 2 \n",
      "3 4 \n"
     ]
    }
   ],
   "source": [
    "r = int(input())\n",
    "c = int(input())\n",
    "mat = []\n",
    "\n",
    "for i in range(r):\n",
    "    a = []\n",
    "    for j in range(c):\n",
    "        a.append(int(input()))\n",
    "    mat.append(a)\n",
    "print(mat)\n",
    "\n",
    "for i in range(r):\n",
    "    for j in range(c):\n",
    "        print(mat[i][j],end = \" \")\n",
    "    print()"
   ]
  },
  {
   "cell_type": "code",
   "execution_count": 27,
   "id": "848e9cc7",
   "metadata": {},
   "outputs": [
    {
     "data": {
      "text/plain": [
       "[3, 4, 5, 1, 2]"
      ]
     },
     "execution_count": 27,
     "metadata": {},
     "output_type": "execute_result"
    }
   ],
   "source": [
    "def fun(arr,n,d):\n",
    "    arr[:] = arr[d:n] + arr[0:d]\n",
    "    return arr\n",
    "   \n",
    "arr = [1,2,3,4,5]\n",
    "n = len(arr)\n",
    "fun(arr,n,2)"
   ]
  },
  {
   "cell_type": "code",
   "execution_count": 38,
   "id": "30141372",
   "metadata": {},
   "outputs": [
    {
     "name": "stdout",
     "output_type": "stream",
     "text": [
      "[[1 2 3]\n",
      " [4 5 6]\n",
      " [7 8 9]]\n",
      "\n",
      " row sum\n",
      "6 15 24 \n",
      " col sum\n",
      "12 15 18 "
     ]
    }
   ],
   "source": [
    "import numpy as np\n",
    "x = np.array([[1,2,3],[4,5,6],[7,8,9]])\n",
    "print(x)\n",
    "\n",
    "r_sum = 0\n",
    "c_sum = 0\n",
    "\n",
    "print('\\n row sum')\n",
    "for i in range(len(x)):\n",
    "    for j in range(len(x)):\n",
    "        r_sum = r_sum + x[i][j]\n",
    "    print(r_sum,end = \" \")\n",
    "    r_sum = 0\n",
    "print(\"\\n col sum\")\n",
    "for j in range(len(x)):\n",
    "    for i in range(len(x)):\n",
    "        c_sum = c_sum + x[i][j]\n",
    "    print(c_sum,end = \" \")\n",
    "    c_sum = 0\n",
    "\n"
   ]
  },
  {
   "cell_type": "code",
   "execution_count": 41,
   "id": "4448e147",
   "metadata": {},
   "outputs": [
    {
     "name": "stdout",
     "output_type": "stream",
     "text": [
      "[[1 2 3]\n",
      " [4 5 6]\n",
      " [7 8 9]]\n",
      "1 4 7 \n",
      "2 5 8 \n",
      "3 6 9 \n"
     ]
    }
   ],
   "source": [
    "x = np.array([[1,2,3],[4,5,6],[7,8,9]])\n",
    "print(x)\n",
    "res = [[0,0,0],[0,0,0],[0,0,0]]\n",
    "\n",
    "for i in range(len(x)):\n",
    "    for j in range(len(x[0])):\n",
    "        res[j][i] = x[i][j]\n",
    "for i in range(len(res)):\n",
    "    for j in range(len(res)):\n",
    "        print(res[i][j],end = \" \")\n",
    "    print()\n",
    "        "
   ]
  },
  {
   "cell_type": "code",
   "execution_count": 49,
   "id": "87b1a774",
   "metadata": {},
   "outputs": [
    {
     "name": "stdout",
     "output_type": "stream",
     "text": [
      "[[0, 0, 0], [0, 0, 0]] "
     ]
    }
   ],
   "source": [
    "m = 2\n",
    "n= 3\n",
    "x = [n*[0] for i in range(m)]\n",
    "print(x,end = \" \")\n"
   ]
  },
  {
   "cell_type": "code",
   "execution_count": 55,
   "id": "2bcf8e5a",
   "metadata": {},
   "outputs": [
    {
     "name": "stdout",
     "output_type": "stream",
     "text": [
      "7\n",
      "6\n",
      "5\n",
      "4\n",
      "3\n",
      "2\n",
      "1\n"
     ]
    }
   ],
   "source": [
    "l = [1,2,3,4,5,6,7]\n",
    "for i in reversed(l):\n",
    "    print(i)"
   ]
  },
  {
   "cell_type": "code",
   "execution_count": 57,
   "id": "a5412b36",
   "metadata": {},
   "outputs": [
    {
     "name": "stdout",
     "output_type": "stream",
     "text": [
      "enter no of elements2\n",
      "[9, 7]\n"
     ]
    }
   ],
   "source": [
    "n = int(input('enter no of elements'))\n",
    "l = [1,9,3,4,5,6,7]\n",
    "\n",
    "res = []\n",
    "for i in range(0,n):\n",
    "    max1 = 0\n",
    "    for j in range(0,len(l)):\n",
    "        if l[j] > max1:\n",
    "            max1 = l[j]\n",
    "    l.remove(max1)\n",
    "    res.append(max1)\n",
    "print(res)"
   ]
  },
  {
   "cell_type": "code",
   "execution_count": 62,
   "id": "1c0c822b",
   "metadata": {},
   "outputs": [
    {
     "name": "stdout",
     "output_type": "stream",
     "text": [
      "1\n",
      "3\n",
      "5\n",
      "7\n",
      "9\n",
      "11\n",
      "13\n",
      "15\n",
      "17\n",
      "19\n"
     ]
    }
   ],
   "source": [
    "for i in range(1,20,2):\n",
    "    print(i)"
   ]
  },
  {
   "cell_type": "code",
   "execution_count": 63,
   "id": "b1cce23b",
   "metadata": {},
   "outputs": [
    {
     "name": "stdout",
     "output_type": "stream",
     "text": [
      "enter a stringanaconda\n",
      "aaod\n"
     ]
    }
   ],
   "source": [
    "s1 = input('enter a string')\n",
    "s2 = \"\"\n",
    "for i in range(len(s1)):\n",
    "    if i%2 == 0:\n",
    "        s2 = s2 + s1[i]\n",
    "print(s2)"
   ]
  },
  {
   "cell_type": "code",
   "execution_count": 66,
   "id": "1fc2da79",
   "metadata": {},
   "outputs": [
    {
     "name": "stdout",
     "output_type": "stream",
     "text": [
      "abhu\n"
     ]
    }
   ],
   "source": [
    "s1 = \"abhiishu\"\n",
    "s2 = \"\"\n",
    "x = len(s1)\n",
    "for i in range(x):\n",
    "    s2 = s1[0:2] + s1[x-2:x]\n",
    "print(s2)"
   ]
  },
  {
   "cell_type": "code",
   "execution_count": 68,
   "id": "99750761",
   "metadata": {},
   "outputs": [
    {
     "name": "stdout",
     "output_type": "stream",
     "text": [
      "enter a string to checkI\n",
      "2\n"
     ]
    }
   ],
   "source": [
    "s1 = \"I am programmer. I am student\"\n",
    "s1 = s1.split()\n",
    "word = input('enter a string to check')\n",
    "res = []\n",
    "count = 0\n",
    "for i in range(len(s1)):\n",
    "    if s1[i] == word:\n",
    "        count = count + 1\n",
    "print(count)\n"
   ]
  },
  {
   "cell_type": "code",
   "execution_count": 4,
   "id": "7933264d",
   "metadata": {},
   "outputs": [
    {
     "name": "stdout",
     "output_type": "stream",
     "text": [
      "300\n"
     ]
    }
   ],
   "source": [
    "class Book:\n",
    "    def __init__(self,pages):\n",
    "        self.pages = pages\n",
    "        \n",
    "    def __add__(self,other):\n",
    "        return self.pages + other.pages\n",
    "b1 = Book(100)\n",
    "b2 = Book(200)\n",
    "print(b1+b2)"
   ]
  },
  {
   "cell_type": "code",
   "execution_count": 8,
   "id": "da0a04c3",
   "metadata": {},
   "outputs": [
    {
     "name": "stdout",
     "output_type": "stream",
     "text": [
      "gold+cash+house\n",
      "appalamma\n",
      "alia\n"
     ]
    }
   ],
   "source": [
    "class P:\n",
    "    def fun(self):\n",
    "        print('gold+cash+house')\n",
    "    def marry(self):\n",
    "        print('appalamma')\n",
    "class C(P):\n",
    "    def marry(self):\n",
    "        super().marry()\n",
    "        print('alia')\n",
    "o = C()\n",
    "o.fun()\n",
    "o.marry()"
   ]
  },
  {
   "cell_type": "code",
   "execution_count": 11,
   "id": "c3169ba1",
   "metadata": {},
   "outputs": [
    {
     "name": "stdout",
     "output_type": "stream",
     "text": [
      "name is tony\n",
      "age is 25\n",
      "id is 1\n",
      "salary is 45000\n"
     ]
    }
   ],
   "source": [
    "class Person:\n",
    "    def __init__(self,name,age):\n",
    "        self.name = name\n",
    "        self.age = age\n",
    "        \n",
    "class Employee(Person):\n",
    "    def __init__(self,name,age,id,salary):\n",
    "        super().__init__(name,age)\n",
    "        self.id = id\n",
    "        self.salary = salary\n",
    "        \n",
    "    def display(self):\n",
    "        print('name is',self.name)\n",
    "        print('age is',self.age)\n",
    "        print('id is',self.id)\n",
    "        print('salary is',self.salary)\n",
    "e = Employee('tony',25,1,45000)\n",
    "e.display()"
   ]
  },
  {
   "cell_type": "code",
   "execution_count": 12,
   "id": "5effb4de",
   "metadata": {},
   "outputs": [
    {
     "name": "stdout",
     "output_type": "stream",
     "text": [
      "{'aet': ['eat', 'tea', 'ate'], 'ant': ['tan', 'nat'], 'abt': ['bat']}\n"
     ]
    }
   ],
   "source": [
    "def group_anagrams(str1):\n",
    "    dict1 = {}\n",
    "    for word in str1:\n",
    "        sorted_word = \"\".join(sorted(word))\n",
    "        \n",
    "        if sorted_word not in dict1:\n",
    "            dict1[sorted_word] = [word]\n",
    "        else:\n",
    "            dict1[sorted_word].append(word)\n",
    "    res = []\n",
    "    for i in dict1.values():\n",
    "        res.append(i)\n",
    "    return dict1\n",
    "\n",
    "str1 = [\"eat\",\"tea\",\"tan\",\"ate\",\"nat\",\"bat\"]\n",
    "res = group_anagrams(str1)\n",
    "print(res)"
   ]
  },
  {
   "cell_type": "code",
   "execution_count": 16,
   "id": "970a96e9",
   "metadata": {},
   "outputs": [
    {
     "name": "stdout",
     "output_type": "stream",
     "text": [
      "{'m': 1, 'i': 4, 's': 4, 'p': 1}\n"
     ]
    }
   ],
   "source": [
    "str1 = \"mississipi\"\n",
    "dict1 = {}\n",
    "for char in str1:\n",
    "    if char in dict1:\n",
    "        dict1[char] += 1\n",
    "    else:\n",
    "        dict1[char] = 1\n",
    "print(dict1)"
   ]
  },
  {
   "cell_type": "code",
   "execution_count": 22,
   "id": "47a0e841",
   "metadata": {},
   "outputs": [
    {
     "data": {
      "text/plain": [
       "'a1b2c1'"
      ]
     },
     "execution_count": 22,
     "metadata": {},
     "output_type": "execute_result"
    }
   ],
   "source": [
    "def char_count(x):\n",
    "    res = \"\"\n",
    "    count = 1\n",
    "    \n",
    "    for i in range(1,len(x)):\n",
    "        if x[i] == x[i-1]:\n",
    "            count = count + 1\n",
    "        else:\n",
    "            res = res + x[i-1] + (str(count) if count>0 else \"\")\n",
    "            count = 1\n",
    "    res = res + x[-1] + (str(count) if count > 0 else \"\")\n",
    "    return res\n",
    "        \n",
    "\n",
    "x = \"abbc\"\n",
    "res = char_count(x)\n",
    "res "
   ]
  },
  {
   "cell_type": "code",
   "execution_count": 23,
   "id": "e0d3128a",
   "metadata": {},
   "outputs": [
    {
     "name": "stdout",
     "output_type": "stream",
     "text": [
      "aaaabbbcc\n"
     ]
    }
   ],
   "source": [
    "sr1 = \"a4b3c2\"\n",
    "res = \"\"\n",
    "for i in sr1:\n",
    "    if i.isalpha():\n",
    "        res = res + i\n",
    "        pre = i\n",
    "    else:\n",
    "        res = res + pre*(int(i)-1)\n",
    "print(res)"
   ]
  },
  {
   "cell_type": "code",
   "execution_count": 28,
   "id": "a7592b46",
   "metadata": {},
   "outputs": [
    {
     "name": "stdout",
     "output_type": "stream",
     "text": [
      "{'i': 1, 's': 1, 'h': 1, 'w': 1, 'a': 2, 'r': 1, 'y': 1}\n",
      "a\n"
     ]
    }
   ],
   "source": [
    "s1 = \"ishwarya\"\n",
    "dict1 = {}\n",
    "for char in s1:\n",
    "    if char in dict1:\n",
    "        dict1[char] += 1\n",
    "    else:\n",
    "        dict1[char] = 1\n",
    "print(dict1)\n",
    "\n",
    "maximum = max(dict1.values())\n",
    "\n",
    "for i in dict1:\n",
    "    if maximum == dict1[i]:\n",
    "        high = i\n",
    "print(high)"
   ]
  },
  {
   "cell_type": "code",
   "execution_count": 32,
   "id": "d41d9449",
   "metadata": {},
   "outputs": [
    {
     "name": "stdout",
     "output_type": "stream",
     "text": [
      "18\n"
     ]
    }
   ],
   "source": [
    "junior = {'SI 206':4, 'SI 310':4, 'BL 300':3, 'TO 313':3, 'BCOM 350':1, 'MO 300':3}\n",
    "res = 0\n",
    "for value in junior:\n",
    "    res = res + junior[value]\n",
    "print(res)"
   ]
  },
  {
   "cell_type": "code",
   "execution_count": 34,
   "id": "c9190764",
   "metadata": {},
   "outputs": [
    {
     "name": "stdout",
     "output_type": "stream",
     "text": [
      "enter a key to delete1601\n",
      "aman\n"
     ]
    }
   ],
   "source": [
    "dict1 = {1601:'aman',1602:'roshini',1603:'usha',1699:'krishna'}\n",
    "x = int(input('enter a key to delete'))\n",
    "try:\n",
    "    res = dict1.pop(x)\n",
    "    print(res)\n",
    "except:\n",
    "    print('key is not found')"
   ]
  },
  {
   "cell_type": "code",
   "execution_count": 41,
   "id": "e9c7ecc3",
   "metadata": {},
   "outputs": [
    {
     "name": "stdout",
     "output_type": "stream",
     "text": [
      "1\n",
      "2\n",
      "4\n"
     ]
    }
   ],
   "source": [
    "from collections import defaultdict\n",
    "\n",
    "dict1 = defaultdict(lambda:4)\n",
    "\n",
    "dict1['a'] = 1\n",
    "dict1['b'] = 2\n",
    "print(dict1['a'])\n",
    "print(dict1['b'])\n",
    "print(dict1['c'])"
   ]
  },
  {
   "cell_type": "code",
   "execution_count": 42,
   "id": "f5ccd00e",
   "metadata": {},
   "outputs": [
    {
     "name": "stdout",
     "output_type": "stream",
     "text": [
      "{1: 'a', 2: 'b', 3: 'c'}\n"
     ]
    }
   ],
   "source": [
    "my_dict = {'a': 1, 'b': 2, 'c': 3}\n",
    "res = {value:key for key, value in my_dict.items()}\n",
    "print(res)"
   ]
  },
  {
   "cell_type": "code",
   "execution_count": 1,
   "id": "26f57c8c",
   "metadata": {},
   "outputs": [
    {
     "name": "stdout",
     "output_type": "stream",
     "text": [
      "1\n",
      "4\n",
      "9\n"
     ]
    }
   ],
   "source": [
    "n1 = 1\n",
    "n2 = 10\n",
    "while n1<n2:\n",
    "    for i in range(1,n1+1):\n",
    "        if i*i == n1:\n",
    "            print(n1)\n",
    "    n1 = n1 +1\n",
    "            "
   ]
  },
  {
   "cell_type": "code",
   "execution_count": 2,
   "id": "377037d1",
   "metadata": {},
   "outputs": [
    {
     "name": "stdout",
     "output_type": "stream",
     "text": [
      "1\n",
      "2\n",
      "3\n",
      "[1, 2, 3]\n"
     ]
    }
   ],
   "source": [
    "n = 3\n",
    "res = []\n",
    "for i in range(1,n+1):\n",
    "    x = int(input())\n",
    "    res.append(x)\n",
    "print(res)"
   ]
  },
  {
   "cell_type": "code",
   "execution_count": 6,
   "id": "c2a30f2f",
   "metadata": {},
   "outputs": [
    {
     "name": "stdout",
     "output_type": "stream",
     "text": [
      "1\n",
      "2\n",
      "3\n",
      "4\n",
      "5\n",
      "6\n",
      "[[1, 2, 3], [4, 5, 6]]\n",
      "1 2 3 \n",
      "4 5 6 \n"
     ]
    }
   ],
   "source": [
    "rows = 2\n",
    "col = 3\n",
    "mat = []\n",
    "\n",
    "for i in range(rows):\n",
    "    a = []\n",
    "    for j in range(col):\n",
    "        a.append(int(input()))\n",
    "    mat.append(a)\n",
    "print(mat)\n",
    "\n",
    "for i in range(rows):\n",
    "    for j in range(col):\n",
    "        print(mat[i][j],end = \" \")\n",
    "    print()"
   ]
  },
  {
   "cell_type": "code",
   "execution_count": 7,
   "id": "0d9a2ab2",
   "metadata": {},
   "outputs": [
    {
     "name": "stdout",
     "output_type": "stream",
     "text": [
      "[3, 4, 5, 6, 1, 2]\n"
     ]
    }
   ],
   "source": [
    "arr = [1,2,3,4,5,6]\n",
    "n = len(arr)\n",
    "d = 2\n",
    "arr[:] = arr[d:n] + arr[0:d]\n",
    "print(arr)"
   ]
  },
  {
   "cell_type": "code",
   "execution_count": 10,
   "id": "576fa065",
   "metadata": {},
   "outputs": [
    {
     "name": "stdout",
     "output_type": "stream",
     "text": [
      "[[11 15 10  6]\n",
      " [10 14 11  5]\n",
      " [12 17 12  8]\n",
      " [15 18 14  9]]\n",
      "11\n",
      "15\n",
      "10\n",
      "6\n",
      "10\n",
      "14\n",
      "11\n",
      "5\n",
      "12\n",
      "17\n",
      "12\n",
      "8\n",
      "15\n",
      "18\n",
      "14\n",
      "9\n"
     ]
    }
   ],
   "source": [
    "import numpy as np\n",
    "twoDArray = np.array([[11, 15, 10, 6], [10, 14, 11, 5], [12, 17, 12, 8], [15, 18, 14, 9] ])\n",
    "print(twoDArray)\n",
    "\n",
    "for i in range(len(twoDArray)):\n",
    "    for j in range(len(twoDArray)):\n",
    "        print(twoDArray[i][j])\n"
   ]
  },
  {
   "cell_type": "code",
   "execution_count": 12,
   "id": "4e4f728f",
   "metadata": {},
   "outputs": [
    {
     "name": "stdout",
     "output_type": "stream",
     "text": [
      "[[1 2 1]\n",
      " [2 3 5]]\n",
      "[[1 2 0]\n",
      " [4 2 1]\n",
      " [1 1 1]]\n",
      "[10, 7, 3]\n",
      "[19, 15, 8]\n"
     ]
    }
   ],
   "source": [
    "import numpy as np\n",
    "a = np.array([[1,2,1],[2,3,5]])  #2*3 matrix\n",
    "b = np.array([[1,2,0],[4,2,1],[1,1,1]])  #3*3 matrix\n",
    "\n",
    "print(a)\n",
    "print(b)\n",
    "\n",
    "res = [[0,0,0],[0,0,0]]\n",
    "\n",
    "for i in range(len(a)):\n",
    "    for j in range(len(b[0])):\n",
    "        for k in range(len(b)):\n",
    "            res[i][j] = res[i][j] + a[i][k] * b[k][j]\n",
    "for r in res:\n",
    "    print(r)\n",
    "\n"
   ]
  },
  {
   "cell_type": "code",
   "execution_count": 14,
   "id": "298550ad",
   "metadata": {},
   "outputs": [
    {
     "name": "stdout",
     "output_type": "stream",
     "text": [
      "[[1 2 1]\n",
      " [2 3 5]]\n",
      "[[1 2 0]\n",
      " [4 2 1]\n",
      " [1 1 1]]\n",
      "[1, 4, 0]\n",
      "[8, 6, 5]\n"
     ]
    }
   ],
   "source": [
    "import numpy as np\n",
    "a = np.array([[1,2,1],[2,3,5]])  #2*3 matrix\n",
    "b = np.array([[1,2,0],[4,2,1],[1,1,1]])  #3*3 matrix\n",
    "\n",
    "print(a)\n",
    "print(b)\n",
    "\n",
    "res = [[0,0,0],[0,0,0]]\n",
    "\n",
    "for i in range(len(a)):\n",
    "    for j in range(len(b)):\n",
    "        res[i][j] = a[i][j] * b[i][j]\n",
    "for r in res:\n",
    "    print(r)"
   ]
  },
  {
   "cell_type": "code",
   "execution_count": 19,
   "id": "dd118243",
   "metadata": {},
   "outputs": [
    {
     "name": "stdout",
     "output_type": "stream",
     "text": [
      "[[10 20 30]\n",
      " [40 50 60]\n",
      " [70 80 90]]\n",
      "[10, 40, 70]\n",
      "[20, 50, 80]\n",
      "[30, 60, 90]\n"
     ]
    }
   ],
   "source": [
    "x = np.array([[10,20,30],[40,50,60],[70,80,90]])\n",
    "print(x)\n",
    "\n",
    "res = [[0,0,0],[0,0,0],[0,0,0]]\n",
    "\n",
    "for i in range(len(x)):\n",
    "    for j in range(len(x[0])):\n",
    "        res[j][i] = x[i][j]\n",
    "for r in res:\n",
    "    print(r)"
   ]
  },
  {
   "cell_type": "code",
   "execution_count": 20,
   "id": "2edfd0e0",
   "metadata": {},
   "outputs": [
    {
     "name": "stdout",
     "output_type": "stream",
     "text": [
      "1 2 3 4 5 6 7 8 9 0\n"
     ]
    },
    {
     "data": {
      "text/plain": [
       "[1, 2, 3, 4, 5, 6, 7, 8, 9, 0]"
      ]
     },
     "execution_count": 20,
     "metadata": {},
     "output_type": "execute_result"
    }
   ],
   "source": [
    "x = list(map(int, input().split()))\n",
    "x"
   ]
  },
  {
   "cell_type": "code",
   "execution_count": 21,
   "id": "41845277",
   "metadata": {},
   "outputs": [
    {
     "name": "stdout",
     "output_type": "stream",
     "text": [
      "[0, 2, 3, 4, 5, 6, 7, 8, 9, 1]\n"
     ]
    }
   ],
   "source": [
    "x = [1, 2, 3, 4, 5, 6, 7, 8, 9, 0]\n",
    "temp = x[0]\n",
    "x[0] = x[len(x)-1]\n",
    "x[len(x)-1] = temp\n",
    "print(x)"
   ]
  },
  {
   "cell_type": "code",
   "execution_count": 25,
   "id": "8fed6422",
   "metadata": {},
   "outputs": [
    {
     "name": "stdout",
     "output_type": "stream",
     "text": [
      "[0, 9, 8, 7, 6, 5, 4, 3, 2, 1]\n"
     ]
    }
   ],
   "source": [
    "x = [1, 2, 3, 4, 5, 6, 7, 8, 9, 0]\n",
    "for i in range(len(x)//2):\n",
    "    temp = x[i]\n",
    "    x[i] = x[len(x)-1-i]\n",
    "    x[len(x)-1-i] = temp\n",
    "print(x)"
   ]
  },
  {
   "cell_type": "code",
   "execution_count": 35,
   "id": "092be681",
   "metadata": {},
   "outputs": [
    {
     "data": {
      "text/plain": [
       "[0, 9, 8, 7, 6, 5, 4, 3, 2, 1]"
      ]
     },
     "execution_count": 35,
     "metadata": {},
     "output_type": "execute_result"
    }
   ],
   "source": [
    "x = [1, 2, 3, 4, 5, 6, 7, 8, 9, 0]\n",
    "x.reverse()\n",
    "x"
   ]
  },
  {
   "cell_type": "code",
   "execution_count": 42,
   "id": "121c8b09",
   "metadata": {},
   "outputs": [
    {
     "data": {
      "text/plain": [
       "[85, 41]"
      ]
     },
     "execution_count": 42,
     "metadata": {},
     "output_type": "execute_result"
    }
   ],
   "source": [
    "def fun(arr,n):\n",
    "    res = []\n",
    "    for i in range(n):\n",
    "        max1 = 0\n",
    "        for j in range(len(arr)):\n",
    "            if arr[j] > max1:\n",
    "                max1 = arr[j]\n",
    "        arr.remove(max1)\n",
    "        res.append(max1)\n",
    "    return res\n",
    "        \n",
    "\n",
    "arr = list(set([2, 6, 41, 85, 0, 3, 85, 6, 10]))\n",
    "n = 2\n",
    "fun(arr,n)"
   ]
  },
  {
   "cell_type": "code",
   "execution_count": 46,
   "id": "4f97f25d",
   "metadata": {},
   "outputs": [
    {
     "name": "stdout",
     "output_type": "stream",
     "text": [
      "ishwAryA\n"
     ]
    }
   ],
   "source": [
    "s = \"ishwarya\"\n",
    "res = \"\"\n",
    "for char in range(len(s)):\n",
    "    if s[char] == 'a':\n",
    "        res = res + 'A'\n",
    "    else:\n",
    "        res = res + s[char]\n",
    "print(res)\n",
    "    "
   ]
  },
  {
   "cell_type": "code",
   "execution_count": 49,
   "id": "1f745d44",
   "metadata": {},
   "outputs": [
    {
     "name": "stdout",
     "output_type": "stream",
     "text": [
      "1\n",
      "2\n",
      "3\n",
      "4\n",
      "5\n",
      "6\n",
      "7\n",
      "8\n",
      "9\n",
      "10\n"
     ]
    }
   ],
   "source": [
    "def fun(n):\n",
    "    if n > 0:\n",
    "        fun(n-1)\n",
    "        print(n)\n",
    "    \n",
    "n = 10\n",
    "fun(n)"
   ]
  },
  {
   "cell_type": "code",
   "execution_count": 50,
   "id": "4af74c58",
   "metadata": {},
   "outputs": [
    {
     "name": "stdout",
     "output_type": "stream",
     "text": [
      "['i', 'h']\n"
     ]
    }
   ],
   "source": [
    "s1 = 'abhi'\n",
    "s2 = 'ishu'\n",
    "s1 = set(s1)\n",
    "s2 = set(s2)\n",
    "res = list(s1 & s2)\n",
    "print(res)"
   ]
  },
  {
   "cell_type": "code",
   "execution_count": 52,
   "id": "cb454f34",
   "metadata": {},
   "outputs": [
    {
     "name": "stdout",
     "output_type": "stream",
     "text": [
      "['h', 'i']\n"
     ]
    }
   ],
   "source": [
    "s1 = 'abhi'\n",
    "s2 = 'ishu'\n",
    "res = \"\"\n",
    "for i in s1:\n",
    "    for j in s2:\n",
    "        if i == j:\n",
    "            res = res + i\n",
    "print(list(res))"
   ]
  },
  {
   "cell_type": "code",
   "execution_count": 65,
   "id": "580fcff5",
   "metadata": {},
   "outputs": [
    {
     "name": "stdout",
     "output_type": "stream",
     "text": [
      "{'m': 2, 'i': 5, 's': 5, 'p': 2}\n"
     ]
    }
   ],
   "source": [
    "x = 'mississipi'\n",
    "s = list(x)\n",
    "dict1 = {}\n",
    "for char in s:\n",
    "    if char not in dict1:\n",
    "        dict1[char] = 1\n",
    "    dict1[char] += 1\n",
    "print(dict1)"
   ]
  },
  {
   "cell_type": "code",
   "execution_count": 57,
   "id": "b4d7cd5d",
   "metadata": {},
   "outputs": [
    {
     "data": {
      "text/plain": [
       "['m', 'i', 's', 's', 'i', 's', 's', 'i', 'p', 'i']"
      ]
     },
     "execution_count": 57,
     "metadata": {},
     "output_type": "execute_result"
    }
   ],
   "source": [
    "s = 'mississipi'\n",
    "s = list(s)\n",
    "s"
   ]
  },
  {
   "cell_type": "code",
   "execution_count": 68,
   "id": "2a985e56",
   "metadata": {},
   "outputs": [
    {
     "data": {
      "text/plain": [
       "'a1b2c1'"
      ]
     },
     "execution_count": 68,
     "metadata": {},
     "output_type": "execute_result"
    }
   ],
   "source": [
    "def fun(x):\n",
    "    count = 1\n",
    "    res = \"\"\n",
    "    \n",
    "    for i in range(1, len(x)):\n",
    "        if x[i] == x[i-1]:\n",
    "            count = count + 1\n",
    "        else:\n",
    "            res = res + x[i-1] + (str(count) if count > 0 else \"\")\n",
    "            count = 1\n",
    "    res = res + x[-1] + (str(count) if count>0 else \"\")\n",
    "    return res\n",
    "    \n",
    "x = \"abbc\"\n",
    "res = fun(x)\n",
    "res  "
   ]
  },
  {
   "cell_type": "code",
   "execution_count": 73,
   "id": "ed379784",
   "metadata": {},
   "outputs": [
    {
     "name": "stdout",
     "output_type": "stream",
     "text": [
      "aebece\n"
     ]
    }
   ],
   "source": [
    "sr1 = \"a4b3c2\"\n",
    "res = \"\"\n",
    "\n",
    "for i in sr1:\n",
    "    if i.isalpha():\n",
    "        res = res + i\n",
    "        pre = i\n",
    "    else:\n",
    "        res = res + chr(ord(pre)+int(i))\n",
    "print(res)"
   ]
  },
  {
   "cell_type": "code",
   "execution_count": 75,
   "id": "3bc57b63",
   "metadata": {},
   "outputs": [
    {
     "name": "stdout",
     "output_type": "stream",
     "text": [
      "ISHU\n"
     ]
    }
   ],
   "source": [
    "s = 'ishu'\n",
    "res = \"\"\n",
    "for i in range(len(s)):\n",
    "    if ord(s[i])>96 and ord(s[i])<123:\n",
    "        res = res + chr(ord(s[i])-32)\n",
    "print(res)"
   ]
  },
  {
   "cell_type": "code",
   "execution_count": 1,
   "id": "17647f67",
   "metadata": {},
   "outputs": [
    {
     "name": "stdout",
     "output_type": "stream",
     "text": [
      "1 2 3 4 5\n"
     ]
    },
    {
     "data": {
      "text/plain": [
       "[1, 2, 3, 4, 5]"
      ]
     },
     "execution_count": 1,
     "metadata": {},
     "output_type": "execute_result"
    }
   ],
   "source": [
    "x = list(map(int, input().split()))\n",
    "x"
   ]
  },
  {
   "cell_type": "code",
   "execution_count": 2,
   "id": "979e3a31",
   "metadata": {},
   "outputs": [
    {
     "name": "stdout",
     "output_type": "stream",
     "text": [
      "enter numbers1 2 3 4 5\n"
     ]
    },
    {
     "data": {
      "text/plain": [
       "[1, 2, 3, 4, 5]"
      ]
     },
     "execution_count": 2,
     "metadata": {},
     "output_type": "execute_result"
    }
   ],
   "source": [
    "x = [int(i) for i in input('enter numbers').split()]\n",
    "x"
   ]
  },
  {
   "cell_type": "code",
   "execution_count": 4,
   "id": "b4ed4d93",
   "metadata": {},
   "outputs": [
    {
     "data": {
      "text/plain": [
       "60"
      ]
     },
     "execution_count": 4,
     "metadata": {},
     "output_type": "execute_result"
    }
   ],
   "source": [
    "x = eval(\"10+20+30\")\n",
    "x"
   ]
  },
  {
   "cell_type": "code",
   "execution_count": 6,
   "id": "ac86cf06",
   "metadata": {},
   "outputs": [
    {
     "name": "stdout",
     "output_type": "stream",
     "text": [
      "10-20-30\n"
     ]
    }
   ],
   "source": [
    "a,b,c = 10,20,30\n",
    "print(a,b,c,sep = '-')"
   ]
  },
  {
   "cell_type": "code",
   "execution_count": 7,
   "id": "86998473",
   "metadata": {},
   "outputs": [
    {
     "name": "stdout",
     "output_type": "stream",
     "text": [
      "enter a number10\n",
      "55\n"
     ]
    }
   ],
   "source": [
    "n = int(input('enter a number'))\n",
    "sum1 = 0\n",
    "i = 0\n",
    "while i<=n:\n",
    "    sum1 = sum1 + i\n",
    "    i = i + 1\n",
    "print(sum1)"
   ]
  },
  {
   "cell_type": "code",
   "execution_count": null,
   "id": "ead589a1",
   "metadata": {},
   "outputs": [],
   "source": [
    "i = 0\n",
    "while True:\n",
    "    i = i +1 \n",
    "    print('ishu',i"
   ]
  },
  {
   "cell_type": "code",
   "execution_count": 3,
   "id": "e52add63",
   "metadata": {},
   "outputs": [
    {
     "name": "stdout",
     "output_type": "stream",
     "text": [
      "1\n",
      "2\n",
      "3\n",
      "4\n",
      "5\n",
      "6\n",
      "excecute the break process\n"
     ]
    }
   ],
   "source": [
    "for i in range(1,11):\n",
    "    if i == 7:\n",
    "        print('excecute the break process')\n",
    "        break\n",
    "    print(i)"
   ]
  },
  {
   "cell_type": "code",
   "execution_count": 4,
   "id": "a466b98b",
   "metadata": {},
   "outputs": [
    {
     "name": "stdout",
     "output_type": "stream",
     "text": [
      "1\n",
      "2\n",
      "3\n",
      "4\n",
      "5\n",
      "6\n",
      "excecute the continue process\n",
      "8\n",
      "9\n",
      "10\n"
     ]
    }
   ],
   "source": [
    "for i in range(1,11):\n",
    "    if i == 7:\n",
    "        print('excecute the continue process')\n",
    "        continue\n",
    "    print(i)"
   ]
  },
  {
   "cell_type": "code",
   "execution_count": 18,
   "id": "8ad00930",
   "metadata": {},
   "outputs": [
    {
     "name": "stdout",
     "output_type": "stream",
     "text": [
      "krats ynot\n",
      "krats ynot\n",
      "krats ynot['ynot', 'krats']\n"
     ]
    }
   ],
   "source": [
    "s = 'tony stark'\n",
    "print(s[::-1])\n",
    "print(''.join(reversed(s)))\n",
    "for i in range(len(s)-1,-1,-1):\n",
    "    print(s[i],end = \"\")\n",
    "    \n",
    "l = []\n",
    "l1 = s.split()\n",
    "for i in range(len(l1)):\n",
    "    l.append(l1[i][::-1])\n",
    "    \n",
    "print(l)"
   ]
  },
  {
   "cell_type": "code",
   "execution_count": 29,
   "id": "80964a5b",
   "metadata": {},
   "outputs": [
    {
     "name": "stdout",
     "output_type": "stream",
     "text": [
      "aibshhiu\n"
     ]
    }
   ],
   "source": [
    "s1 = 'abhi'\n",
    "s2 = 'ishu'\n",
    "\n",
    "res = \"\"\n",
    "for i in range(min(len(s1),len(s2))):\n",
    "    res = res + s1[i] + s2[i]\n",
    "    \n",
    "print(res)"
   ]
  },
  {
   "cell_type": "code",
   "execution_count": 31,
   "id": "88af38b5",
   "metadata": {},
   "outputs": [
    {
     "data": {
      "text/plain": [
       "[5, 4, 3, 2, 1]"
      ]
     },
     "execution_count": 31,
     "metadata": {},
     "output_type": "execute_result"
    }
   ],
   "source": [
    "x = [1,2,3,4,5]\n",
    "x.reverse()\n",
    "x"
   ]
  },
  {
   "cell_type": "code",
   "execution_count": 37,
   "id": "dddd911f",
   "metadata": {},
   "outputs": [
    {
     "name": "stdout",
     "output_type": "stream",
     "text": [
      "not present\n"
     ]
    }
   ],
   "source": [
    "from collections import defaultdict\n",
    "\n",
    "d = defaultdict(lambda :'not present')\n",
    "d['a'] = 97\n",
    "d['i'] = 106\n",
    "print(d['d'])"
   ]
  },
  {
   "cell_type": "code",
   "execution_count": 39,
   "id": "32a173b3",
   "metadata": {},
   "outputs": [
    {
     "name": "stdout",
     "output_type": "stream",
     "text": [
      "[{'id': 1, 'name': 'Alice'}, {'id': 2, 'name': 'Bob'}, {'id': 3, 'name': 'David'}]\n"
     ]
    }
   ],
   "source": [
    "def remove_duplicates(l, key):\n",
    "    seen = set()\n",
    "    res = []\n",
    "    \n",
    "    for d in l:\n",
    "        current_key = d[key]\n",
    "        \n",
    "        if current_key not in seen:\n",
    "            seen.add(current_key)\n",
    "            res.append(d)\n",
    "    return res\n",
    "\n",
    "\n",
    "\n",
    "\n",
    "# Example usage:\n",
    "list_of_dicts = [\n",
    "    {'id': 1, 'name': 'Alice'},\n",
    "    {'id': 2, 'name': 'Bob'},\n",
    "    {'id': 1, 'name': 'Charlie'},\n",
    "    {'id': 3, 'name': 'David'},\n",
    "]\n",
    "\n",
    "unique_list = remove_duplicates(list_of_dicts, 'id')\n",
    "print(unique_list)"
   ]
  },
  {
   "cell_type": "code",
   "execution_count": 9,
   "id": "5566bab6",
   "metadata": {},
   "outputs": [
    {
     "data": {
      "text/plain": [
       "60"
      ]
     },
     "execution_count": 9,
     "metadata": {},
     "output_type": "execute_result"
    }
   ],
   "source": [
    "def fun(*n):\n",
    "    total = 0\n",
    "    for i in n:\n",
    "        total = total + i\n",
    "    return total\n",
    "    \n",
    "fun(10)\n",
    "fun(10,20)\n",
    "fun(10,20,30)"
   ]
  },
  {
   "cell_type": "code",
   "execution_count": 12,
   "id": "712518c9",
   "metadata": {},
   "outputs": [
    {
     "name": "stdout",
     "output_type": "stream",
     "text": [
      "6\n"
     ]
    }
   ],
   "source": [
    "res = lambda x,y: x*y\n",
    "print(res(2,3))"
   ]
  },
  {
   "cell_type": "code",
   "execution_count": 17,
   "id": "c696a6f0",
   "metadata": {},
   "outputs": [
    {
     "data": {
      "text/plain": [
       "[2, 4, 6, 8]"
      ]
     },
     "execution_count": 17,
     "metadata": {},
     "output_type": "execute_result"
    }
   ],
   "source": [
    "def fun(x):\n",
    "    if x%2 == 0:\n",
    "        return True\n",
    "    else:\n",
    "        return False\n",
    "l = [1,2,3,4,5,6,7,8,9]\n",
    "res = list(filter(fun,l))\n",
    "res"
   ]
  },
  {
   "cell_type": "code",
   "execution_count": 18,
   "id": "29141dc0",
   "metadata": {},
   "outputs": [
    {
     "name": "stdout",
     "output_type": "stream",
     "text": [
      "[2, 4, 6, 8]\n"
     ]
    }
   ],
   "source": [
    "l = [1,2,3,4,5,6,7,8,9]\n",
    "res = list(filter(lambda x:x%2==0, l))\n",
    "print(res)"
   ]
  },
  {
   "cell_type": "code",
   "execution_count": 19,
   "id": "aa166c39",
   "metadata": {},
   "outputs": [
    {
     "data": {
      "text/plain": [
       "[1, 4, 9, 16, 25, 36, 49, 64, 81]"
      ]
     },
     "execution_count": 19,
     "metadata": {},
     "output_type": "execute_result"
    }
   ],
   "source": [
    "def fun(x):\n",
    "    return x**2\n",
    "l = [1,2,3,4,5,6,7,8,9]\n",
    "res = list(map(fun, l))\n",
    "res"
   ]
  },
  {
   "cell_type": "code",
   "execution_count": 20,
   "id": "59efcad5",
   "metadata": {},
   "outputs": [
    {
     "name": "stdout",
     "output_type": "stream",
     "text": [
      "parent class\n",
      "child class\n"
     ]
    }
   ],
   "source": [
    "class P:\n",
    "    def m1(self):\n",
    "        print('parent class')\n",
    "class C(P):\n",
    "    def m2(self):\n",
    "        print('child class')\n",
    "c = C()\n",
    "c.m1()\n",
    "c.m2()"
   ]
  },
  {
   "cell_type": "code",
   "execution_count": 23,
   "id": "f2aa09f2",
   "metadata": {},
   "outputs": [
    {
     "name": "stdout",
     "output_type": "stream",
     "text": [
      "name is tony\n",
      "id is 45\n",
      "marks are 99\n",
      "age is 45\n"
     ]
    }
   ],
   "source": [
    "class Person:\n",
    "    def __init__(self, name, id):\n",
    "        self.name = name\n",
    "        self.id = id\n",
    "    def display(self):\n",
    "        print('name is',self.name)\n",
    "        print('id is',self.id)\n",
    "class Student(Person):\n",
    "    def __init__(self,name, id, marks, age):\n",
    "        super().__init__(name, age)\n",
    "        self.marks = marks\n",
    "        self.age = age\n",
    "    def display(self):\n",
    "        super().display()\n",
    "        print('marks are',self.marks)\n",
    "        print('age is',self.age)\n",
    "s = Student('tony',2,99,45)\n",
    "s.display()"
   ]
  },
  {
   "cell_type": "code",
   "execution_count": 26,
   "id": "100969ba",
   "metadata": {},
   "outputs": [
    {
     "name": "stdout",
     "output_type": "stream",
     "text": [
      "300\n"
     ]
    }
   ],
   "source": [
    "class fun:\n",
    "    def __init__(self,pages):\n",
    "        self.pages = pages\n",
    "    def __add__(self, other):\n",
    "        return self.pages + other.pages\n",
    "        \n",
    "b1 = fun(100)\n",
    "b2 = fun(200)\n",
    "print(b1+b2)"
   ]
  },
  {
   "cell_type": "code",
   "execution_count": 1,
   "id": "c852493e",
   "metadata": {},
   "outputs": [
    {
     "data": {
      "text/plain": [
       "-1"
      ]
     },
     "execution_count": 1,
     "metadata": {},
     "output_type": "execute_result"
    }
   ],
   "source": [
    "def binary(my_list,target):\n",
    "    low = 0\n",
    "    high = len(my_list) - 1\n",
    "    \n",
    "    while low <= high:\n",
    "        mid = (low+high)//2\n",
    "        if my_list[mid] == target:\n",
    "            return mid\n",
    "        elif my_list[mid] < target:\n",
    "            low = mid+1\n",
    "        else:\n",
    "            high = mid-1\n",
    "    return -1\n",
    "\n",
    "my_list = [64, 34, 25, 12, 22, 11, 90]\n",
    "target = 3\n",
    "binary(my_list,target)"
   ]
  },
  {
   "cell_type": "code",
   "execution_count": 2,
   "id": "d14a9b05",
   "metadata": {},
   "outputs": [
    {
     "data": {
      "text/plain": [
       "[11, 12, 22, 25, 34, 64, 90]"
      ]
     },
     "execution_count": 2,
     "metadata": {},
     "output_type": "execute_result"
    }
   ],
   "source": [
    "def bubble(arr):\n",
    "    n = len(arr)\n",
    "    for i in range(n):\n",
    "        for j in range(n-i-1):\n",
    "            if arr[j] > arr[j+1]:\n",
    "                arr[j], arr[j+1] = arr[j+1], arr[j]\n",
    "    return arr\n",
    "\n",
    "arr = [64, 34, 25, 12, 22, 11, 90]\n",
    "bubble(arr)"
   ]
  },
  {
   "cell_type": "code",
   "execution_count": 3,
   "id": "67d939b8",
   "metadata": {},
   "outputs": [
    {
     "data": {
      "text/plain": [
       "[11, 12, 22, 25, 34, 64, 90]"
      ]
     },
     "execution_count": 3,
     "metadata": {},
     "output_type": "execute_result"
    }
   ],
   "source": [
    "def selection(arr):\n",
    "    n = len(arr)\n",
    "    for i in range(n):\n",
    "        min_index = i\n",
    "        \n",
    "        for j in range(i+1,n):\n",
    "            if arr[j] < arr[min_index]:\n",
    "                min_index = j\n",
    "        arr[i], arr[min_index] = arr[min_index], arr[i]\n",
    "    return arr\n",
    "arr = [64, 34, 25, 12, 22, 11, 90]\n",
    "selection(arr)"
   ]
  },
  {
   "cell_type": "code",
   "execution_count": 1,
   "id": "f7b6a01e",
   "metadata": {},
   "outputs": [
    {
     "data": {
      "text/plain": [
       "4"
      ]
     },
     "execution_count": 1,
     "metadata": {},
     "output_type": "execute_result"
    }
   ],
   "source": [
    "1<<2"
   ]
  },
  {
   "cell_type": "code",
   "execution_count": 5,
   "id": "bd682421",
   "metadata": {},
   "outputs": [
    {
     "name": "stdout",
     "output_type": "stream",
     "text": [
      "8 is a power of 2\n"
     ]
    }
   ],
   "source": [
    "num = 8\n",
    "res = 0\n",
    "i = 1\n",
    "while i<num:\n",
    "    res = 1<<i\n",
    "    if res == num:\n",
    "        print(num,'is a power of 2')\n",
    "        break\n",
    "    i += 1\n",
    "else:\n",
    "    print(num,'is not a power of 2')"
   ]
  },
  {
   "cell_type": "code",
   "execution_count": 3,
   "id": "f0449cd3",
   "metadata": {},
   "outputs": [
    {
     "data": {
      "text/plain": [
       "<list_reverseiterator at 0x1b8afc29b40>"
      ]
     },
     "execution_count": 3,
     "metadata": {},
     "output_type": "execute_result"
    }
   ],
   "source": [
    "list1 = [9,8,7,6,5,4,3,2,1,0]\n"
   ]
  },
  {
   "cell_type": "code",
   "execution_count": 5,
   "id": "1099d510",
   "metadata": {},
   "outputs": [
    {
     "name": "stdout",
     "output_type": "stream",
     "text": [
      "144\n"
     ]
    }
   ],
   "source": [
    "from functools import reduce\n",
    "l = [9,8,2]\n",
    "res = reduce(lambda x,y:x*y,l)\n",
    "print(res)"
   ]
  },
  {
   "cell_type": "code",
   "execution_count": 17,
   "id": "436ee811",
   "metadata": {},
   "outputs": [
    {
     "name": "stdout",
     "output_type": "stream",
     "text": [
      "3\n"
     ]
    },
    {
     "data": {
      "text/plain": [
       "[122, 90, 64]"
      ]
     },
     "execution_count": 17,
     "metadata": {},
     "output_type": "execute_result"
    }
   ],
   "source": [
    "def fun(l,n):\n",
    "    \n",
    "    res = []\n",
    "    for i in range(0,n):\n",
    "        a = []\n",
    "        max1 = l[0]\n",
    "        for i in range(len(l)):\n",
    "            if l[i] > max1:\n",
    "                max1 = l[i]\n",
    "        l.remove(max1)\n",
    "        res.append(max1)\n",
    "    return res\n",
    "    \n",
    "l = [11, 122, 22, 25, 34, 64, 90]\n",
    "n = int(input(\"\"))\n",
    "fun(l,n)"
   ]
  },
  {
   "cell_type": "code",
   "execution_count": 21,
   "id": "3a225f43",
   "metadata": {},
   "outputs": [
    {
     "name": "stdout",
     "output_type": "stream",
     "text": [
      "ih\n"
     ]
    }
   ],
   "source": [
    "s = \"ishu\"\n",
    "res = \"\"\n",
    "for char in range(len(s)):\n",
    "    if char%2 == 0:\n",
    "        res = res + s[char]\n",
    "print(res)"
   ]
  },
  {
   "cell_type": "code",
   "execution_count": 29,
   "id": "19a3f617",
   "metadata": {},
   "outputs": [
    {
     "name": "stdout",
     "output_type": "stream",
     "text": [
      "uhsi\n"
     ]
    }
   ],
   "source": [
    "s = \"ishu\"\n",
    "s = list(s)\n",
    "s.reverse()\n",
    "print(\"\".join(s))"
   ]
  },
  {
   "cell_type": "code",
   "execution_count": 36,
   "id": "65f3675c",
   "metadata": {},
   "outputs": [
    {
     "name": "stdout",
     "output_type": "stream",
     "text": [
      "{'u', 'b', 'a', 'h', 'i', 's'}\n"
     ]
    }
   ],
   "source": [
    "s1 = \"ishu\"\n",
    "s2 = \"abhi\"\n",
    "s1 = set(s1)\n",
    "s2 = set(s2)\n",
    "res = (s1|s2)\n",
    "print(res)"
   ]
  },
  {
   "cell_type": "code",
   "execution_count": 37,
   "id": "ec0b638b",
   "metadata": {},
   "outputs": [
    {
     "name": "stdout",
     "output_type": "stream",
     "text": [
      "2\n"
     ]
    }
   ],
   "source": [
    "s = \"ishu\"\n",
    "vowels = set(\"aeiou\")\n",
    "count = 0\n",
    "for char in vowels:\n",
    "    if char in s:\n",
    "        count += 1\n",
    "print(count)"
   ]
  },
  {
   "cell_type": "code",
   "execution_count": 42,
   "id": "ba5c926a",
   "metadata": {},
   "outputs": [
    {
     "name": "stdout",
     "output_type": "stream",
     "text": [
      "bbaba\n",
      "ababb\n",
      "bab\n"
     ]
    }
   ],
   "source": [
    "s = \"bbaba\"\n",
    "rev = s[::-1]\n",
    "print(s)\n",
    "print(rev)\n",
    "res = \"\"\n",
    "\n",
    "for char in range(len(s)):\n",
    "    if s[char] == rev[char]:\n",
    "        res = res + s[char]\n",
    "print(res)"
   ]
  },
  {
   "cell_type": "code",
   "execution_count": null,
   "id": "7b1ec92c",
   "metadata": {},
   "outputs": [
    {
     "name": "stdout",
     "output_type": "stream",
     "text": [
      "enter a starting point1\n",
      "enter a ending point100\n"
     ]
    }
   ],
   "source": [
    "start = int(input(\"enter a starting point\"))\n",
    "end = int(input(\"enter a ending point\"))\n",
    "\n",
    "for num in range(start,end):\n",
    "    temp = num\n",
    "    result = 0\n",
    "    \n",
    "    while(temp > 0):\n",
    "        last = temp % 10\n",
    "        result = (result * 10) + last\n",
    "        num = num //10\n",
    "    if num == result:\n",
    "        print(num)"
   ]
  },
  {
   "cell_type": "code",
   "execution_count": null,
   "id": "40575e50",
   "metadata": {},
   "outputs": [],
   "source": [
    "start = int(input(\"Enter a starting point: \"))\n",
    "end = int(input(\"Enter an ending point: \"))\n",
    "\n",
    "print(\"Palindrome numbers between\", start, \"and\", end, \"are:\")\n",
    "\n",
    "for num in range(start, end):\n",
    "    temp = num\n",
    "    reverse_num = 0\n",
    "    \n",
    "    while temp > 0:\n",
    "        last_digit = temp % 10\n",
    "        reverse_num = (reverse_num * 10) + last_digit\n",
    "        temp = temp // 10\n",
    "\n",
    "    if num == reverse_num:\n",
    "        print(num)\n"
   ]
  },
  {
   "cell_type": "code",
   "execution_count": null,
   "id": "aacdea17",
   "metadata": {},
   "outputs": [],
   "source": []
  },
  {
   "cell_type": "code",
   "execution_count": null,
   "id": "1cab7115",
   "metadata": {},
   "outputs": [],
   "source": []
  },
  {
   "cell_type": "code",
   "execution_count": null,
   "id": "2da522de",
   "metadata": {},
   "outputs": [],
   "source": []
  },
  {
   "cell_type": "code",
   "execution_count": null,
   "id": "add408b1",
   "metadata": {},
   "outputs": [],
   "source": []
  },
  {
   "cell_type": "code",
   "execution_count": null,
   "id": "cb4eb824",
   "metadata": {},
   "outputs": [],
   "source": []
  },
  {
   "cell_type": "code",
   "execution_count": null,
   "id": "ffaa71e1",
   "metadata": {},
   "outputs": [],
   "source": []
  },
  {
   "cell_type": "code",
   "execution_count": null,
   "id": "e456af1e",
   "metadata": {},
   "outputs": [],
   "source": []
  }
 ],
 "metadata": {
  "kernelspec": {
   "display_name": "Python 3 (ipykernel)",
   "language": "python",
   "name": "python3"
  },
  "language_info": {
   "codemirror_mode": {
    "name": "ipython",
    "version": 3
   },
   "file_extension": ".py",
   "mimetype": "text/x-python",
   "name": "python",
   "nbconvert_exporter": "python",
   "pygments_lexer": "ipython3",
   "version": "3.11.5"
  }
 },
 "nbformat": 4,
 "nbformat_minor": 5
}
