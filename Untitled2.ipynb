{
 "cells": [
  {
   "cell_type": "code",
   "execution_count": 5,
   "metadata": {},
   "outputs": [
    {
     "data": {
      "text/plain": [
       "[0, 0]"
      ]
     },
     "execution_count": 5,
     "metadata": {},
     "output_type": "execute_result"
    }
   ],
   "source": [
    "s = [0]*2\n",
    "s"
   ]
  },
  {
   "cell_type": "code",
   "execution_count": 8,
   "metadata": {},
   "outputs": [
    {
     "ename": "KeyboardInterrupt",
     "evalue": "Interrupted by user",
     "output_type": "error",
     "traceback": [
      "\u001b[0;31m---------------------------------------------------------------------------\u001b[0m",
      "\u001b[0;31mKeyboardInterrupt\u001b[0m                         Traceback (most recent call last)",
      "\u001b[0;32m<ipython-input-8-4cc319edb18a>\u001b[0m in \u001b[0;36m<module>\u001b[0;34m\u001b[0m\n\u001b[0;32m----> 1\u001b[0;31m \u001b[0mcol\u001b[0m \u001b[0;34m=\u001b[0m \u001b[0mint\u001b[0m\u001b[0;34m(\u001b[0m\u001b[0minput\u001b[0m\u001b[0;34m(\u001b[0m\u001b[0;34m'enter a column number'\u001b[0m\u001b[0;34m)\u001b[0m\u001b[0;34m)\u001b[0m\u001b[0;34m\u001b[0m\u001b[0;34m\u001b[0m\u001b[0m\n\u001b[0m\u001b[1;32m      2\u001b[0m \u001b[0mres\u001b[0m \u001b[0;34m=\u001b[0m \u001b[0;34m\" \"\u001b[0m\u001b[0;34m\u001b[0m\u001b[0;34m\u001b[0m\u001b[0m\n\u001b[1;32m      3\u001b[0m \u001b[0;32mwhile\u001b[0m \u001b[0mcol\u001b[0m \u001b[0;34m>\u001b[0m \u001b[0;36m0\u001b[0m\u001b[0;34m:\u001b[0m\u001b[0;34m\u001b[0m\u001b[0;34m\u001b[0m\u001b[0m\n\u001b[1;32m      4\u001b[0m     \u001b[0mrem\u001b[0m \u001b[0;34m=\u001b[0m \u001b[0;34m(\u001b[0m\u001b[0mcol\u001b[0m\u001b[0;34m-\u001b[0m\u001b[0;36m1\u001b[0m\u001b[0;34m)\u001b[0m\u001b[0;34m%\u001b[0m\u001b[0;36m26\u001b[0m\u001b[0;34m\u001b[0m\u001b[0;34m\u001b[0m\u001b[0m\n\u001b[1;32m      5\u001b[0m     \u001b[0mres\u001b[0m \u001b[0;34m=\u001b[0m \u001b[0mchr\u001b[0m\u001b[0;34m(\u001b[0m\u001b[0;36m65\u001b[0m\u001b[0;34m+\u001b[0m\u001b[0mrem\u001b[0m\u001b[0;34m)\u001b[0m \u001b[0;34m+\u001b[0m \u001b[0mres\u001b[0m\u001b[0;34m\u001b[0m\u001b[0;34m\u001b[0m\u001b[0m\n",
      "\u001b[0;32m~/anaconda3/lib/python3.8/site-packages/ipykernel/kernelbase.py\u001b[0m in \u001b[0;36mraw_input\u001b[0;34m(self, prompt)\u001b[0m\n\u001b[1;32m    858\u001b[0m                 \u001b[0;34m\"raw_input was called, but this frontend does not support input requests.\"\u001b[0m\u001b[0;34m\u001b[0m\u001b[0;34m\u001b[0m\u001b[0m\n\u001b[1;32m    859\u001b[0m             )\n\u001b[0;32m--> 860\u001b[0;31m         return self._input_request(str(prompt),\n\u001b[0m\u001b[1;32m    861\u001b[0m             \u001b[0mself\u001b[0m\u001b[0;34m.\u001b[0m\u001b[0m_parent_ident\u001b[0m\u001b[0;34m,\u001b[0m\u001b[0;34m\u001b[0m\u001b[0;34m\u001b[0m\u001b[0m\n\u001b[1;32m    862\u001b[0m             \u001b[0mself\u001b[0m\u001b[0;34m.\u001b[0m\u001b[0m_parent_header\u001b[0m\u001b[0;34m,\u001b[0m\u001b[0;34m\u001b[0m\u001b[0;34m\u001b[0m\u001b[0m\n",
      "\u001b[0;32m~/anaconda3/lib/python3.8/site-packages/ipykernel/kernelbase.py\u001b[0m in \u001b[0;36m_input_request\u001b[0;34m(self, prompt, ident, parent, password)\u001b[0m\n\u001b[1;32m    902\u001b[0m             \u001b[0;32mexcept\u001b[0m \u001b[0mKeyboardInterrupt\u001b[0m\u001b[0;34m:\u001b[0m\u001b[0;34m\u001b[0m\u001b[0;34m\u001b[0m\u001b[0m\n\u001b[1;32m    903\u001b[0m                 \u001b[0;31m# re-raise KeyboardInterrupt, to truncate traceback\u001b[0m\u001b[0;34m\u001b[0m\u001b[0;34m\u001b[0m\u001b[0;34m\u001b[0m\u001b[0m\n\u001b[0;32m--> 904\u001b[0;31m                 \u001b[0;32mraise\u001b[0m \u001b[0mKeyboardInterrupt\u001b[0m\u001b[0;34m(\u001b[0m\u001b[0;34m\"Interrupted by user\"\u001b[0m\u001b[0;34m)\u001b[0m \u001b[0;32mfrom\u001b[0m \u001b[0;32mNone\u001b[0m\u001b[0;34m\u001b[0m\u001b[0;34m\u001b[0m\u001b[0m\n\u001b[0m\u001b[1;32m    905\u001b[0m             \u001b[0;32mexcept\u001b[0m \u001b[0mException\u001b[0m \u001b[0;32mas\u001b[0m \u001b[0me\u001b[0m\u001b[0;34m:\u001b[0m\u001b[0;34m\u001b[0m\u001b[0;34m\u001b[0m\u001b[0m\n\u001b[1;32m    906\u001b[0m                 \u001b[0mself\u001b[0m\u001b[0;34m.\u001b[0m\u001b[0mlog\u001b[0m\u001b[0;34m.\u001b[0m\u001b[0mwarning\u001b[0m\u001b[0;34m(\u001b[0m\u001b[0;34m\"Invalid Message:\"\u001b[0m\u001b[0;34m,\u001b[0m \u001b[0mexc_info\u001b[0m\u001b[0;34m=\u001b[0m\u001b[0;32mTrue\u001b[0m\u001b[0;34m)\u001b[0m\u001b[0;34m\u001b[0m\u001b[0;34m\u001b[0m\u001b[0m\n",
      "\u001b[0;31mKeyboardInterrupt\u001b[0m: Interrupted by user"
     ]
    }
   ],
   "source": [
    "col = int(input('enter a column number'))\n",
    "res = \" \"\n",
    "while col > 0:\n",
    "    rem = (col-1)%26\n",
    "    res = chr(65+rem) + res\n",
    "    col = (col-rem-1)//26\n",
    "print(\"column name is\",res)"
   ]
  },
  {
   "cell_type": "code",
   "execution_count": null,
   "metadata": {},
   "outputs": [],
   "source": [
    "num = int(input(\"Enter the value of n: \"))\n",
    "sum = int(input(\"Enter the value of s: \"))\n",
    "\n",
    "d = [0] * n\n",
    "\n",
    "# Fill the array with the largest possible digits\n",
    "for i in range(num):\n",
    "    if sum >= 9:\n",
    "        d[i] = 9\n",
    "        sum = sum- 9\n",
    "    else:\n",
    "        d[i] = sum\n",
    "        sum = 0\n",
    "\n",
    "# If the sum of digits is less than s, it is not possible to form a number with the given constraints\n",
    "if sum > 0:\n",
    "    print(\"No number can be formed with the given constraints.\")\n",
    "else:\n",
    "    # Convert the array of digits to a string and print it\n",
    "    number = \"\".join(str(x) for x in d)\n",
    "    print(\"The largest number with n digits and sum of digits equal to s is:\", number)\n"
   ]
  },
  {
   "cell_type": "code",
   "execution_count": 10,
   "metadata": {},
   "outputs": [
    {
     "name": "stdout",
     "output_type": "stream",
     "text": [
      "Enter the value of n: 2\n",
      "Enter the value of s: 9\n",
      "The largest number with n digits and sum of digits equal to s is: 0\n"
     ]
    }
   ],
   "source": [
    "num = int(input(\"Enter the value of n: \"))\n",
    "sum = int(input(\"Enter the value of s: \"))\n",
    "\n",
    "d = [0] * num\n",
    "\n",
    "for i in range(num):\n",
    "    if sum >= 9:\n",
    "        d[i] = 9\n",
    "        sum = sum- 9\n",
    "    else:\n",
    "        d[i] = sum\n",
    "        sum = 0\n",
    "\n",
    "if sum > 0:\n",
    "    print(\"no number is formed\")\n",
    "else:\n",
    "    for x in d:\n",
    "        number = \" \".join(str(x))\n",
    "    print(\"The largest number with n digits and sum of digits equal to s is:\", number)\n"
   ]
  },
  {
   "cell_type": "code",
   "execution_count": 4,
   "metadata": {},
   "outputs": [
    {
     "name": "stdout",
     "output_type": "stream",
     "text": [
      "enter no of rows2\n",
      "enter no of col2\n",
      "1\n",
      "2\n",
      "3\n",
      "4\n",
      "1 2 \n",
      "3 4 \n"
     ]
    }
   ],
   "source": [
    "r = int(input('enter no of rows'))\n",
    "c = int(input('enter no of col'))\n",
    "mat = []\n",
    "\n",
    "for i in range(r):\n",
    "    a = []\n",
    "    for j in range(c):\n",
    "        a.append(int(input()))\n",
    "    mat.append(a)\n",
    "\n",
    "for i in range(r):\n",
    "    for j in range(c):\n",
    "        print(mat[i][j],end = \" \")\n",
    "    print()\n",
    "    "
   ]
  },
  {
   "cell_type": "code",
   "execution_count": 5,
   "metadata": {},
   "outputs": [
    {
     "name": "stdout",
     "output_type": "stream",
     "text": [
      "324\n"
     ]
    }
   ],
   "source": [
    "def large(a):\n",
    "    max = a[0]\n",
    "    for i in range(0,len(a)):\n",
    "        if a[i]>max:\n",
    "            max = a[i]\n",
    "    return max\n",
    "    \n",
    "a = [10, 324, 45, 90, 98]\n",
    "res = large(a)\n",
    "print(res)"
   ]
  },
  {
   "cell_type": "code",
   "execution_count": 6,
   "metadata": {},
   "outputs": [],
   "source": [
    "import numpy as np"
   ]
  },
  {
   "cell_type": "code",
   "execution_count": 8,
   "metadata": {},
   "outputs": [
    {
     "name": "stdout",
     "output_type": "stream",
     "text": [
      "[10, 7, 3]\n",
      "[19, 15, 8]\n"
     ]
    }
   ],
   "source": [
    "a = np.array([[1,2,1],[2,3,5]])  #2*3 matrix\n",
    "b = np.array([[1,2,0],[4,2,1],[1,1,1]])  #3*3 matrix\n",
    "res = [[0,0,0],[0,0,0]]\n",
    "\n",
    "for i in range(len(a)):\n",
    "    for j in range(len(b[0])):\n",
    "        for k in range(len(b)):\n",
    "            res[i][j] = res[i][j]+a[i][k]*b[k][j]\n",
    "\n",
    "for r in res:\n",
    "    print(r)"
   ]
  },
  {
   "cell_type": "code",
   "execution_count": 11,
   "metadata": {},
   "outputs": [
    {
     "name": "stdout",
     "output_type": "stream",
     "text": [
      "1 2 3 4 5 6 \n"
     ]
    },
    {
     "data": {
      "text/plain": [
       "[3, 4, 5, 6, 7, 8]"
      ]
     },
     "execution_count": 11,
     "metadata": {},
     "output_type": "execute_result"
    }
   ],
   "source": [
    "x = list(map(lambda x:x+2,list(map(int,input().split()))))\n",
    "x"
   ]
  },
  {
   "cell_type": "code",
   "execution_count": 12,
   "metadata": {},
   "outputs": [
    {
     "name": "stdout",
     "output_type": "stream",
     "text": [
      "[[11 15 10  6]\n",
      " [10 14 11  5]\n",
      " [12 17 12  8]\n",
      " [15 18 14  9]]\n",
      "14\n"
     ]
    }
   ],
   "source": [
    "import numpy as np\n",
    "def search(arr,r,c):\n",
    "    return arr[r][c]\n",
    "\n",
    "arr = np.array([[11, 15, 10, 6], [10, 14, 11, 5], [12, 17, 12, 8], [15, 18, 14, 9] ])\n",
    "print(arr)\n",
    "res = search(arr,1,1)\n",
    "print(res)"
   ]
  },
  {
   "cell_type": "code",
   "execution_count": 13,
   "metadata": {},
   "outputs": [
    {
     "name": "stdout",
     "output_type": "stream",
     "text": [
      "enter a num5\n",
      "5 is a prime\n"
     ]
    }
   ],
   "source": [
    "n = int(input('enter a num'))\n",
    "if n > 1:\n",
    "    for i in range(2,n):\n",
    "        if n%i == 0:\n",
    "            print(n,'is not a prime')\n",
    "            break\n",
    "    else:\n",
    "        print(n,'is a prime')\n",
    "else:\n",
    "    print(n,'is not a prime')"
   ]
  },
  {
   "cell_type": "code",
   "execution_count": 17,
   "metadata": {},
   "outputs": [
    {
     "name": "stdout",
     "output_type": "stream",
     "text": [
      "enter a num5\n",
      "0\n",
      "1\n",
      "1\n",
      "2\n",
      "3\n",
      "5\n"
     ]
    }
   ],
   "source": [
    "n = int(input('enter a num'))\n",
    "a = 0\n",
    "b = 1\n",
    "print(a)\n",
    "print(b)\n",
    "for i in range(1,n):\n",
    "    print(a+b)\n",
    "    a,b = b,a+b"
   ]
  },
  {
   "cell_type": "code",
   "execution_count": 20,
   "metadata": {},
   "outputs": [
    {
     "data": {
      "text/plain": [
       "10"
      ]
     },
     "execution_count": 20,
     "metadata": {},
     "output_type": "execute_result"
    }
   ],
   "source": [
    "def num_sum(n):\n",
    "    sum1 = 0\n",
    "    for i in str(n):\n",
    "        sum1 = sum1 + int(i)\n",
    "    return sum1\n",
    "n = 154\n",
    "num_sum(n)"
   ]
  },
  {
   "cell_type": "code",
   "execution_count": 23,
   "metadata": {},
   "outputs": [
    {
     "name": "stdout",
     "output_type": "stream",
     "text": [
      "eter a num4\n",
      "1 0 0 "
     ]
    }
   ],
   "source": [
    "d = int(input('eter a num'))\n",
    "b = []\n",
    "while d>0:\n",
    "    rem = d%2\n",
    "    b.append(rem)\n",
    "    d = d//2\n",
    "b.reverse()\n",
    "for i in b:\n",
    "    print(i,end=\" \")"
   ]
  },
  {
   "cell_type": "code",
   "execution_count": 26,
   "metadata": {},
   "outputs": [
    {
     "data": {
      "text/plain": [
       "16"
      ]
     },
     "execution_count": 26,
     "metadata": {},
     "output_type": "execute_result"
    }
   ],
   "source": [
    "x = 2<<3\n",
    "x"
   ]
  },
  {
   "cell_type": "code",
   "execution_count": 27,
   "metadata": {},
   "outputs": [
    {
     "name": "stdout",
     "output_type": "stream",
     "text": [
      "1 2 3\n",
      "1 2 4\n",
      "1 2 5\n",
      "1 3 2\n",
      "1 3 4\n",
      "1 3 5\n",
      "1 4 2\n",
      "1 4 3\n",
      "1 4 5\n",
      "1 5 2\n",
      "1 5 3\n",
      "1 5 4\n",
      "2 1 3\n",
      "2 1 4\n",
      "2 1 5\n",
      "2 3 1\n",
      "2 3 4\n",
      "2 3 5\n",
      "2 4 1\n",
      "2 4 3\n",
      "2 4 5\n",
      "2 5 1\n",
      "2 5 3\n",
      "2 5 4\n",
      "3 1 2\n",
      "3 1 4\n",
      "3 1 5\n",
      "3 2 1\n",
      "3 2 4\n",
      "3 2 5\n",
      "3 4 1\n",
      "3 4 2\n",
      "3 4 5\n",
      "3 5 1\n",
      "3 5 2\n",
      "3 5 4\n",
      "4 1 2\n",
      "4 1 3\n",
      "4 1 5\n",
      "4 2 1\n",
      "4 2 3\n",
      "4 2 5\n",
      "4 3 1\n",
      "4 3 2\n",
      "4 3 5\n",
      "4 5 1\n",
      "4 5 2\n",
      "4 5 3\n",
      "5 1 2\n",
      "5 1 3\n",
      "5 1 4\n",
      "5 2 1\n",
      "5 2 3\n",
      "5 2 4\n",
      "5 3 1\n",
      "5 3 2\n",
      "5 3 4\n",
      "5 4 1\n",
      "5 4 2\n",
      "5 4 3\n"
     ]
    }
   ],
   "source": [
    "def per(l):\n",
    "    for i in range(len(l)):\n",
    "        for j in range(len(l)):\n",
    "            for k in range(len(l)):\n",
    "                if i!=j & j!=k & k!=i:\n",
    "                    print(l[i],l[j],l[k])\n",
    "    \n",
    "l = [1,2,3,4,5]\n",
    "n = len(l)\n",
    "per(l)"
   ]
  },
  {
   "cell_type": "code",
   "execution_count": 3,
   "metadata": {},
   "outputs": [
    {
     "data": {
      "text/plain": [
       "10"
      ]
     },
     "execution_count": 3,
     "metadata": {},
     "output_type": "execute_result"
    }
   ],
   "source": [
    "def second(l):\n",
    "    large1 = l[0]\n",
    "    large2 = l[0]\n",
    "    \n",
    "    for i in range(len(l)):\n",
    "        if l[i]>large1:\n",
    "            large1 = l[i]\n",
    "    for i in range(len(l)):\n",
    "        if l[i]>large2 and l[i] !=large1:\n",
    "            large2 = l[i]\n",
    "    return large2\n",
    "    \n",
    "l = [2, 6, 41, 8, 0, 3, 8, 6, 10]\n",
    "second(l)"
   ]
  },
  {
   "cell_type": "code",
   "execution_count": 4,
   "metadata": {},
   "outputs": [
    {
     "data": {
      "text/plain": [
       "[853, 85, 41, 10]"
      ]
     },
     "execution_count": 4,
     "metadata": {},
     "output_type": "execute_result"
    }
   ],
   "source": [
    "def nlarge(a,n):\n",
    "    res = []\n",
    "    for i in range(n):\n",
    "        large = 0\n",
    "        for j in range(len(a)):\n",
    "            if a[j] > large:\n",
    "                large = a[j]\n",
    "        a.remove(large)\n",
    "        res.append(large)\n",
    "    return res\n",
    "    \n",
    "a = [2, 6, 41, 85, 0, 3, 853, 6, 10]\n",
    "n = 4\n",
    "nlarge(a,n)"
   ]
  },
  {
   "cell_type": "code",
   "execution_count": 8,
   "metadata": {},
   "outputs": [
    {
     "name": "stdout",
     "output_type": "stream",
     "text": [
      " tn\n"
     ]
    }
   ],
   "source": [
    "s = 'tony'\n",
    "r = \" \"\n",
    "for char in range(len(s)):\n",
    "    if char%2 == 0:\n",
    "        r = r + s[char]\n",
    "print(r)\n",
    "   "
   ]
  },
  {
   "cell_type": "code",
   "execution_count": 20,
   "metadata": {},
   "outputs": [
    {
     "data": {
      "text/plain": [
       "[6, 5, 4, 3, 2, 1]"
      ]
     },
     "execution_count": 20,
     "metadata": {},
     "output_type": "execute_result"
    }
   ],
   "source": [
    "def rev(l):\n",
    "    return [ele for ele in reversed(l)]\n",
    "l = [1,2,3,4,5,6]\n",
    "rev(l)"
   ]
  },
  {
   "cell_type": "code",
   "execution_count": 21,
   "metadata": {},
   "outputs": [
    {
     "name": "stdout",
     "output_type": "stream",
     "text": [
      "[6, 5, 4, 3, 2, 1]\n"
     ]
    }
   ],
   "source": [
    "l = [1,2,3,4,5,6]\n",
    "res = []\n",
    "for i in l:\n",
    "    res.insert(0,i)\n",
    "print(res)"
   ]
  },
  {
   "cell_type": "code",
   "execution_count": 23,
   "metadata": {},
   "outputs": [
    {
     "name": "stdout",
     "output_type": "stream",
     "text": [
      "[0, 9, 8, 7, 6, 5, 4, 3, 2, 1]\n"
     ]
    }
   ],
   "source": [
    "arr = [1, 2, 3, 4, 5, 6, 7, 8, 9, 0]\n",
    "for i in range(len(arr)//2):\n",
    "    temp = arr[i]\n",
    "    arr[i] = arr[len(arr)-1-i]\n",
    "    arr[len(arr)-1-i] = temp\n",
    "print(arr)"
   ]
  },
  {
   "cell_type": "code",
   "execution_count": 26,
   "metadata": {},
   "outputs": [
    {
     "name": "stdout",
     "output_type": "stream",
     "text": [
      " ynot\n"
     ]
    }
   ],
   "source": [
    "s = 'tony'\n",
    "rev = \" \"\n",
    "for char in range(len(s)-1,-1,-1):\n",
    "    rev = rev + s[char]\n",
    "print(rev)"
   ]
  },
  {
   "cell_type": "code",
   "execution_count": 32,
   "metadata": {},
   "outputs": [
    {
     "name": "stdout",
     "output_type": "stream",
     "text": [
      "ynot\n"
     ]
    }
   ],
   "source": [
    "s = \"tony\"\n",
    "s = list(s)\n",
    "s.reverse()\n",
    "print(\"\".join(s))"
   ]
  },
  {
   "cell_type": "code",
   "execution_count": 36,
   "metadata": {},
   "outputs": [
    {
     "name": "stdout",
     "output_type": "stream",
     "text": [
      "enter a char to searchf\n",
      "0\n"
     ]
    }
   ],
   "source": [
    "s = 'pillipilla'\n",
    "c = input('enter a char to search')\n",
    "count = 0\n",
    "for char in s:\n",
    "    if char == c:\n",
    "        count += 1\n",
    "print(count)"
   ]
  },
  {
   "cell_type": "code",
   "execution_count": 58,
   "metadata": {},
   "outputs": [
    {
     "name": "stdout",
     "output_type": "stream",
     "text": [
      "['B', 'A', 'C']\n",
      "['C', 'A', 'B']\n",
      "['C', 'A', 'B']\n",
      "['B', 'A', 'C']\n",
      "['A', 'C', 'B']\n",
      "['B', 'C', 'A']\n"
     ]
    }
   ],
   "source": [
    "s = \"ABC\"\n",
    "l = 0\n",
    "r = len(s)\n",
    "a = list(s)\n",
    "for char in range(l,r):\n",
    "    a[l],a[char] = a[char],a[l]\n",
    "    for char in range(l+1,r):\n",
    "        a[l],a[char] = a[char],a[l]\n",
    "        print(a)"
   ]
  },
  {
   "cell_type": "code",
   "execution_count": 60,
   "metadata": {},
   "outputs": [],
   "source": [
    "#Python Program to Print All Permutations of a String in Lexicographic Order\n",
    "\n",
    "ans = []\n",
    "def permute(a, l, r):\n",
    "    for i in range(l, r):\n",
    "        a[l], a[i] = a[i], a[l]\n",
    "        permute(a, l + 1, r)\n",
    "        a[l], a[i] = a[i], a[l]\n",
    "string = \"ABC\"\n",
    "n = len(string)\n",
    "a = list(string)\n",
    "permute(a, 0, n)\n",
    "for i in sorted(ans):\n",
    "    print(i)\n"
   ]
  },
  {
   "cell_type": "code",
   "execution_count": 66,
   "metadata": {},
   "outputs": [
    {
     "name": "stdout",
     "output_type": "stream",
     "text": [
      "['a']\n"
     ]
    }
   ],
   "source": [
    "s1 = set('abhi')\n",
    "s2 = set('sravs')\n",
    "res = list(s1 & s2)\n",
    "print(res)"
   ]
  },
  {
   "cell_type": "code",
   "execution_count": 70,
   "metadata": {},
   "outputs": [
    {
     "name": "stdout",
     "output_type": "stream",
     "text": [
      "{'s', 'b', 'r', 'h', 'i', 'v'}\n"
     ]
    }
   ],
   "source": [
    "s1 = set('abhi')\n",
    "s2 = set('sravs')\n",
    "res = []\n",
    "for i in s1:\n",
    "    if i not in s2:\n",
    "        res.append(i)\n",
    "    for j in s2:\n",
    "        if j not in s1:\n",
    "            res.append(j)\n",
    "print(set(res))"
   ]
  },
  {
   "cell_type": "code",
   "execution_count": 73,
   "metadata": {},
   "outputs": [
    {
     "name": "stdout",
     "output_type": "stream",
     "text": [
      "enter a wordi\n",
      "2\n"
     ]
    }
   ],
   "source": [
    "s = 'i am ironman and i am playboy'\n",
    "c = input('enter a word')\n",
    "words = s.split()\n",
    "\n",
    "count = 0\n",
    "for word in words:\n",
    "    if word == c:\n",
    "        count += 1\n",
    "print(count)"
   ]
  },
  {
   "cell_type": "code",
   "execution_count": 75,
   "metadata": {},
   "outputs": [
    {
     "name": "stdout",
     "output_type": "stream",
     "text": [
      "{'i': 2, 'am': 2, 'ironman': 1, 'and': 1, 'playboy': 1}\n"
     ]
    }
   ],
   "source": [
    "s = 'i am ironman and i am playboy'\n",
    "d = dict()\n",
    "words = s.split()\n",
    "for char in words:\n",
    "    if char in d:\n",
    "        d[char] +=1\n",
    "    else:\n",
    "        d[char] = 1\n",
    "print(d)"
   ]
  },
  {
   "cell_type": "code",
   "execution_count": 77,
   "metadata": {},
   "outputs": [
    {
     "name": "stdout",
     "output_type": "stream",
     "text": [
      " namnori\n"
     ]
    }
   ],
   "source": [
    "s = 'ironman'\n",
    "r = \" \"\n",
    "for char in range(len(s)-1,-1,-1):\n",
    "    r = r + s[char]\n",
    "print(r)"
   ]
  },
  {
   "cell_type": "code",
   "execution_count": 89,
   "metadata": {},
   "outputs": [
    {
     "name": "stdout",
     "output_type": "stream",
     "text": [
      "eternal ironman iam\n"
     ]
    }
   ],
   "source": [
    "s = 'iam ironman eternal'\n",
    "r = []\n",
    "words = s.split()\n",
    "for word in words:\n",
    "    r.insert(0,word)\n",
    "print(\" \".join(r))"
   ]
  },
  {
   "cell_type": "code",
   "execution_count": 91,
   "metadata": {},
   "outputs": [
    {
     "name": "stdout",
     "output_type": "stream",
     "text": [
      " lanrete namnori mai\n"
     ]
    }
   ],
   "source": [
    "s = 'iam ironman eternal'\n",
    "r = \" \"\n",
    "for word in range(len(s)-1,-1,-1):\n",
    "    r = r + s[word]\n",
    "print(r)"
   ]
  },
  {
   "cell_type": "code",
   "execution_count": 94,
   "metadata": {},
   "outputs": [
    {
     "name": "stdout",
     "output_type": "stream",
     "text": [
      " aa\n"
     ]
    }
   ],
   "source": [
    "s = 'abaabaab'\n",
    "rev = s[::-1]\n",
    "res = \" \"\n",
    "for char in range(len(s)):\n",
    "    if s[char] == rev[char]:\n",
    "        res = res + s[char]\n",
    "print(res)"
   ]
  },
  {
   "cell_type": "code",
   "execution_count": 99,
   "metadata": {},
   "outputs": [
    {
     "name": "stdout",
     "output_type": "stream",
     "text": [
      "{'aet': ['eat', 'tea', 'ate'], 'ant': ['tan', 'nat'], 'abt': ['bat']}\n"
     ]
    }
   ],
   "source": [
    "def anagram(str1):\n",
    "    d = dict()\n",
    "    for word in str1:\n",
    "        sorted_word = \"\".join(sorted(word))\n",
    "        \n",
    "        if sorted_word not in d:\n",
    "            d[sorted_word] = [word]\n",
    "        else:\n",
    "            d[sorted_word].append(word)\n",
    "    res = []\n",
    "    for item in d.values():\n",
    "        res.append(item)\n",
    "    return d\n",
    "\n",
    "str1 = [\"eat\",\"tea\",\"tan\",\"ate\",\"nat\",\"bat\"]\n",
    "out = anagram(str1)\n",
    "print(out)"
   ]
  },
  {
   "cell_type": "code",
   "execution_count": 102,
   "metadata": {},
   "outputs": [
    {
     "data": {
      "text/plain": [
       "' a1b2c1'"
      ]
     },
     "execution_count": 102,
     "metadata": {},
     "output_type": "execute_result"
    }
   ],
   "source": [
    "def char_count(x):\n",
    "    count = 1\n",
    "    str1 = \" \"\n",
    "    for i in range(1,len(x)):\n",
    "        if x[i] == x[i-1]:\n",
    "            count = count + 1\n",
    "        else:\n",
    "            str1 = str1 + x[i-1] + (str(count) if count>0 else \"\")\n",
    "            count = 1\n",
    "    str1 = str1 + x[-1] +(str(count) if count >0 else \"\")\n",
    "    return str1\n",
    "            \n",
    "    \n",
    "x = \"abbc\"\n",
    "res = char_count(x)\n",
    "res "
   ]
  },
  {
   "cell_type": "code",
   "execution_count": 105,
   "metadata": {},
   "outputs": [
    {
     "name": "stdout",
     "output_type": "stream",
     "text": [
      "aeknbd\n"
     ]
    }
   ],
   "source": [
    "st1 = \"a4k3b2\"\n",
    "res = \"\"\n",
    "for i in st1:\n",
    "    if i.isalpha():\n",
    "        res = res + i\n",
    "        pre = i\n",
    "    else:\n",
    "        res = res + chr(ord(pre)+int(i))\n",
    "print(res)"
   ]
  },
  {
   "cell_type": "code",
   "execution_count": 5,
   "metadata": {},
   "outputs": [
    {
     "name": "stdout",
     "output_type": "stream",
     "text": [
      "name is tony\n",
      "age is 20\n",
      "marks are 90\n"
     ]
    }
   ],
   "source": [
    "class Student:\n",
    "    def __init__(self,name,age,marks):\n",
    "        self.name = name\n",
    "        self.age = age\n",
    "        self.marks = marks\n",
    "    def talk(self):\n",
    "        print('name is',self.name)\n",
    "        print('age is',self.age)\n",
    "        print('marks are',self.marks)\n",
    "s = Student('tony',20,90)\n",
    "s.talk()        "
   ]
  },
  {
   "cell_type": "code",
   "execution_count": 11,
   "metadata": {},
   "outputs": [
    {
     "name": "stdout",
     "output_type": "stream",
     "text": [
      "constructer is excecuted\n",
      "constructer is excecuted\n",
      "constructer is excecuted\n"
     ]
    },
    {
     "data": {
      "text/plain": [
       "<bound method Example.method1 of <__main__.Example object at 0x0000017B6EB830D0>>"
      ]
     },
     "execution_count": 11,
     "metadata": {},
     "output_type": "execute_result"
    }
   ],
   "source": [
    "class Example:\n",
    "    def __init__(self):\n",
    "        print('constructer is excecuted')\n",
    "    def method1(self):\n",
    "        print('method is excecuted')\n",
    "e = Example()\n",
    "e1 = Example()\n",
    "e2 = Example()\n",
    "e1.method1\n"
   ]
  },
  {
   "cell_type": "code",
   "execution_count": 15,
   "metadata": {},
   "outputs": [
    {
     "name": "stdout",
     "output_type": "stream",
     "text": [
      "{'a': 10, 'b': 20, 'c': 30, 'd': 40, 'e': 50, 'f': 60}\n"
     ]
    }
   ],
   "source": [
    "class Instance:\n",
    "    def __init__(self):\n",
    "        self.a = 10\n",
    "        self.b = 20\n",
    "    def m1(self):\n",
    "        self.c = 30\n",
    "        self.d= 40\n",
    "i = Instance()\n",
    "i.m1()\n",
    "i.e=50\n",
    "i.f=60\n",
    "print(i.__dict__)"
   ]
  },
  {
   "cell_type": "code",
   "execution_count": 19,
   "metadata": {},
   "outputs": [
    {
     "name": "stdout",
     "output_type": "stream",
     "text": [
      "{}\n"
     ]
    }
   ],
   "source": [
    "class static:\n",
    "    a = 10\n",
    "    def __init__(self):\n",
    "        static.b = 20\n",
    "    def m1(slef):\n",
    "        static.c = 30\n",
    "s = static()\n",
    "s.m1()\n"
   ]
  },
  {
   "cell_type": "code",
   "execution_count": 2,
   "metadata": {},
   "outputs": [
    {
     "name": "stdout",
     "output_type": "stream",
     "text": [
      "name is tony\n",
      "id is 1\n",
      "age is 50\n",
      "marks are 100\n"
     ]
    }
   ],
   "source": [
    "class Person:\n",
    "    def __init__(self,name,id):\n",
    "        self.name = name\n",
    "        self.id = id\n",
    "    def display(self):\n",
    "        print('name is',self.name)\n",
    "        print('id is',self.id)\n",
    "class Student(Person):\n",
    "    def __init__(self,name,id,age,marks):\n",
    "        super().__init__(name,id)\n",
    "        self.age = age\n",
    "        self.marks = marks\n",
    "    def display(self):\n",
    "        super().display()\n",
    "        print('age is',self.age)\n",
    "        print('marks are',self.marks)\n",
    "s = Student('tony',1,50,100)\n",
    "s.display()"
   ]
  },
  {
   "cell_type": "code",
   "execution_count": 4,
   "metadata": {},
   "outputs": [
    {
     "name": "stdout",
     "output_type": "stream",
     "text": [
      "300\n"
     ]
    }
   ],
   "source": [
    "class Over:\n",
    "    def __init__(self,pages):\n",
    "        self.pages = pages\n",
    "    def __add__(self,other):\n",
    "        return self.pages + other.pages\n",
    "o1 = Over(100)\n",
    "o2 = Over(200)\n",
    "print(o1+o2)"
   ]
  },
  {
   "cell_type": "code",
   "execution_count": 3,
   "metadata": {},
   "outputs": [
    {
     "name": "stdout",
     "output_type": "stream",
     "text": [
      "* * * * * \n",
      "* * * * * \n",
      "* * * * * \n",
      "* * * * * \n",
      "* * * * * \n"
     ]
    }
   ],
   "source": [
    "n = 5\n",
    "for i in range(1,n+1):\n",
    "    for j in range(1,n+1):\n",
    "        print('*',end=\" \")\n",
    "    print()"
   ]
  },
  {
   "cell_type": "code",
   "execution_count": 6,
   "metadata": {},
   "outputs": [
    {
     "name": "stdout",
     "output_type": "stream",
     "text": [
      "     * \n",
      "     * * \n",
      "     * * * \n",
      "     * * * * \n",
      "     * * * * * \n"
     ]
    }
   ],
   "source": [
    "n = 5\n",
    "for i in range(1,n+1):\n",
    "    print(\" \"*(n-1),end=\" \")\n",
    "    for j in range(1,i+1):\n",
    "        print(\"*\",end=\" \")\n",
    "    print()"
   ]
  },
  {
   "cell_type": "code",
   "execution_count": 8,
   "metadata": {},
   "outputs": [
    {
     "name": "stdout",
     "output_type": "stream",
     "text": [
      "* * * * * \n",
      "* * * * \n",
      "* * * \n",
      "* * \n",
      "* \n"
     ]
    }
   ],
   "source": [
    "n = 5\n",
    "for i in range(1,n+1):\n",
    "    for j in range(1,n+2-i):\n",
    "        print('*',end =\" \")\n",
    "    print()"
   ]
  },
  {
   "cell_type": "code",
   "execution_count": null,
   "metadata": {},
   "outputs": [],
   "source": []
  },
  {
   "cell_type": "code",
   "execution_count": null,
   "metadata": {},
   "outputs": [],
   "source": []
  },
  {
   "cell_type": "code",
   "execution_count": null,
   "metadata": {},
   "outputs": [],
   "source": []
  },
  {
   "cell_type": "code",
   "execution_count": null,
   "metadata": {},
   "outputs": [],
   "source": []
  },
  {
   "cell_type": "code",
   "execution_count": null,
   "metadata": {},
   "outputs": [],
   "source": []
  },
  {
   "cell_type": "code",
   "execution_count": null,
   "metadata": {},
   "outputs": [],
   "source": []
  },
  {
   "cell_type": "code",
   "execution_count": null,
   "metadata": {},
   "outputs": [],
   "source": []
  },
  {
   "cell_type": "code",
   "execution_count": null,
   "metadata": {},
   "outputs": [],
   "source": []
  },
  {
   "cell_type": "code",
   "execution_count": null,
   "metadata": {},
   "outputs": [],
   "source": []
  }
 ],
 "metadata": {
  "kernelspec": {
   "display_name": "Python 3 (ipykernel)",
   "language": "python",
   "name": "python3"
  },
  "language_info": {
   "codemirror_mode": {
    "name": "ipython",
    "version": 3
   },
   "file_extension": ".py",
   "mimetype": "text/x-python",
   "name": "python",
   "nbconvert_exporter": "python",
   "pygments_lexer": "ipython3",
   "version": "3.11.4"
  }
 },
 "nbformat": 4,
 "nbformat_minor": 4
}
