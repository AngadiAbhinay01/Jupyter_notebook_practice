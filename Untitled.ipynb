{
 "cells": [
  {
   "cell_type": "code",
   "execution_count": 1,
   "metadata": {},
   "outputs": [],
   "source": [
    "import math"
   ]
  },
  {
   "cell_type": "code",
   "execution_count": 2,
   "metadata": {},
   "outputs": [
    {
     "data": {
      "text/plain": [
       "120"
      ]
     },
     "execution_count": 2,
     "metadata": {},
     "output_type": "execute_result"
    }
   ],
   "source": [
    "fact = math.factorial(5)\n",
    "fact"
   ]
  },
  {
   "cell_type": "code",
   "execution_count": 6,
   "metadata": {},
   "outputs": [
    {
     "data": {
      "text/plain": [
       "120"
      ]
     },
     "execution_count": 6,
     "metadata": {},
     "output_type": "execute_result"
    }
   ],
   "source": [
    "def fact(n):\n",
    "    if n<0:\n",
    "        return 0\n",
    "    elif n==0 and n==1:\n",
    "        return 1\n",
    "    else:\n",
    "        fact = 1\n",
    "        while n>0:\n",
    "            fact = fact*n\n",
    "            n = n-1\n",
    "        return fact\n",
    "n = 5\n",
    "res = fact(n)\n",
    "res\n",
    "        "
   ]
  },
  {
   "cell_type": "code",
   "execution_count": 12,
   "metadata": {},
   "outputs": [
    {
     "name": "stdout",
     "output_type": "stream",
     "text": [
      "120\n"
     ]
    }
   ],
   "source": [
    "def fact(n):\n",
    "    if n==0 or n==1:\n",
    "        return 1\n",
    "    else:\n",
    "        return n*fact(n-1)\n",
    "n = 5\n",
    "res = fact(n)\n",
    "print(res)"
   ]
  },
  {
   "cell_type": "code",
   "execution_count": 13,
   "metadata": {},
   "outputs": [
    {
     "name": "stdout",
     "output_type": "stream",
     "text": [
      "2\n",
      "3\n",
      "4\n",
      "5\n",
      "6\n",
      "7\n",
      "8\n",
      "9\n",
      "10\n"
     ]
    }
   ],
   "source": [
    "i = 1\n",
    "while i<10:\n",
    "    i = i+1\n",
    "    print(i)"
   ]
  },
  {
   "cell_type": "code",
   "execution_count": 23,
   "metadata": {},
   "outputs": [
    {
     "name": "stdout",
     "output_type": "stream",
     "text": [
      "enter a num23\n",
      "23 is a prime\n"
     ]
    }
   ],
   "source": [
    "n = int(input(\"enter a num\"))\n",
    "if n > 1:\n",
    "    for i in range(2,n):\n",
    "        if n%i==0:\n",
    "            print(n,\"isn't a prime\")\n",
    "            break\n",
    "    else:\n",
    "        print(n,'is a prime')\n",
    "else:\n",
    "    print(n,'is not a prime')"
   ]
  },
  {
   "cell_type": "code",
   "execution_count": 29,
   "metadata": {},
   "outputs": [
    {
     "name": "stdout",
     "output_type": "stream",
     "text": [
      "enter 1\n",
      "enter10\n",
      "2\n",
      "3\n",
      "5\n",
      "7\n"
     ]
    }
   ],
   "source": [
    "sr = int(input(\"enter \"))\n",
    "st = int(input(\"enter\"))\n",
    "for i in range(sr,st):\n",
    "    if i > 1:\n",
    "        for j in range(2,i):\n",
    "            if i%j == 0:\n",
    "                break\n",
    "        else:\n",
    "            print(i)"
   ]
  },
  {
   "cell_type": "code",
   "execution_count": 31,
   "metadata": {},
   "outputs": [
    {
     "name": "stdout",
     "output_type": "stream",
     "text": [
      "enter7\n",
      "7 is a prime\n"
     ]
    }
   ],
   "source": [
    "def prime(n):\n",
    "    if n>1:\n",
    "        for i in range(2,n):\n",
    "            if n%i == 0:\n",
    "                print(n,'is not a prime')\n",
    "        else:\n",
    "            print(n,'is a prime')\n",
    "n = int(input(\"enter\"))\n",
    "res = prime(n)\n",
    "res\n"
   ]
  },
  {
   "cell_type": "code",
   "execution_count": 34,
   "metadata": {},
   "outputs": [
    {
     "name": "stdout",
     "output_type": "stream",
     "text": [
      "enter a num153\n",
      "153 is a armstrong\n"
     ]
    }
   ],
   "source": [
    "num = int(input(\"enter a num\"))\n",
    "temp = num\n",
    "result = 0\n",
    "while num > 0:\n",
    "    last = num % 10\n",
    "    num = num // 10\n",
    "    result = result + (last**3)\n",
    "if result == temp:\n",
    "    print(temp,'is a armstrong')\n",
    "else:\n",
    "    print(temp,'isnt a armstong' )"
   ]
  },
  {
   "cell_type": "code",
   "execution_count": 41,
   "metadata": {},
   "outputs": [
    {
     "name": "stdout",
     "output_type": "stream",
     "text": [
      "enter101\n",
      "101 isnt a palindrome\n"
     ]
    }
   ],
   "source": [
    "n = int(input(\"enter\"))\n",
    "t = n\n",
    "rev = 0\n",
    "if n > 0:\n",
    "    l = n % 10\n",
    "    n = n // 10\n",
    "    rev = rev *10 + l\n",
    "if rev == t:\n",
    "    print(t,'is a palindrome')\n",
    "else:\n",
    "    print(t,'isnt a palindrome')"
   ]
  },
  {
   "cell_type": "code",
   "execution_count": 48,
   "metadata": {},
   "outputs": [
    {
     "name": "stdout",
     "output_type": "stream",
     "text": [
      "0\n",
      "1\n",
      "2\n",
      "3\n",
      "5\n",
      "8\n",
      "13\n",
      "21\n",
      "34\n",
      "55\n",
      "89\n",
      "144\n"
     ]
    }
   ],
   "source": [
    "fn = 0\n",
    "sn = 1\n",
    "print(fn)\n",
    "print(sn)\n",
    "res = fn + sn\n",
    "while res < 100:\n",
    "    fn = sn\n",
    "    sn = res\n",
    "    res = fn + sn\n",
    "    print(res)"
   ]
  },
  {
   "cell_type": "code",
   "execution_count": 52,
   "metadata": {},
   "outputs": [
    {
     "data": {
      "text/plain": [
       "21"
      ]
     },
     "execution_count": 52,
     "metadata": {},
     "output_type": "execute_result"
    }
   ],
   "source": [
    "def fibb(n):\n",
    "    if n <= 0:\n",
    "        print('invalid one')\n",
    "    elif n == 1:\n",
    "        return 0\n",
    "    elif n == 2:\n",
    "        return 1\n",
    "    else:\n",
    "        return fibb(n-1)+fibb(n-2)\n",
    "n = 9\n",
    "res = fibb(n)\n",
    "res"
   ]
  },
  {
   "cell_type": "code",
   "execution_count": 54,
   "metadata": {},
   "outputs": [
    {
     "name": "stdout",
     "output_type": "stream",
     "text": [
      "0\n",
      "1\n",
      "1\n",
      "2\n",
      "3\n",
      "5\n",
      "8\n",
      "13\n",
      "21\n",
      "34\n",
      "55\n"
     ]
    }
   ],
   "source": [
    "def fibb(n):\n",
    "    a = 0\n",
    "    b = 1\n",
    "    print(a)\n",
    "    print(b)\n",
    "    for i in range(1,n):\n",
    "        print(a+b)\n",
    "        a,b = b,a+b\n",
    "n = 10\n",
    "res = fibb(n)\n",
    "res"
   ]
  },
  {
   "cell_type": "code",
   "execution_count": 59,
   "metadata": {},
   "outputs": [
    {
     "name": "stdout",
     "output_type": "stream",
     "text": [
      "enter a num to check30\n",
      "2\n",
      "3\n",
      "5\n",
      "8\n",
      "13\n",
      "21\n",
      "34\n",
      "30 isnot a fibonacci\n"
     ]
    }
   ],
   "source": [
    "n = int(input('enter a num to check'))\n",
    "fn = 0\n",
    "sn = 1\n",
    "res = 1\n",
    "if n==0 or n ==1 :\n",
    "    print(n,'is afibonacci')\n",
    "else:\n",
    "    while res < n:\n",
    "        fn = sn\n",
    "        sn = res\n",
    "        res = fn+sn\n",
    "        print(res)\n",
    "    if res == n:\n",
    "        print(n,'is a fibonacci')\n",
    "    else:\n",
    "        print(n,'isnot a fibonacci')"
   ]
  },
  {
   "cell_type": "code",
   "execution_count": 61,
   "metadata": {},
   "outputs": [
    {
     "name": "stdout",
     "output_type": "stream",
     "text": [
      "enter a characterA\n"
     ]
    },
    {
     "data": {
      "text/plain": [
       "65"
      ]
     },
     "execution_count": 61,
     "metadata": {},
     "output_type": "execute_result"
    }
   ],
   "source": [
    "char = str(input('enter a character'))\n",
    "x = ord(char)\n",
    "x"
   ]
  },
  {
   "cell_type": "code",
   "execution_count": 64,
   "metadata": {},
   "outputs": [
    {
     "name": "stdout",
     "output_type": "stream",
     "text": [
      "enter a stringmarvel vs dc\n",
      "m-109\n",
      "a-97\n",
      "r-114\n",
      "v-118\n",
      "e-101\n",
      "l-108\n",
      " -32\n",
      "v-118\n",
      "s-115\n",
      " -32\n",
      "d-100\n",
      "c-99\n"
     ]
    }
   ],
   "source": [
    "x = str(input('enter a string'))\n",
    "for i in x:\n",
    "    print(i,end='-')\n",
    "    print(ord(i))"
   ]
  },
  {
   "cell_type": "code",
   "execution_count": 69,
   "metadata": {},
   "outputs": [
    {
     "name": "stdout",
     "output_type": "stream",
     "text": [
      "enter upto range4\n",
      "30\n"
     ]
    }
   ],
   "source": [
    "n = int(input('enter upto range'))\n",
    "sum = 0\n",
    "for i in range(1,n+1):\n",
    "    sum = sum + (i**2)\n",
    "print(sum)"
   ]
  },
  {
   "cell_type": "code",
   "execution_count": 72,
   "metadata": {},
   "outputs": [
    {
     "name": "stdout",
     "output_type": "stream",
     "text": [
      "enter upto range10\n",
      "0\n",
      "1\n",
      "2\n",
      "3\n",
      "4\n",
      "5\n",
      "6\n",
      "7\n",
      "8\n",
      "9\n"
     ]
    }
   ],
   "source": [
    "n = int(input('enter upto range'))\n",
    "sum = 0\n",
    "for i in range(0,n):\n",
    "    print(i)"
   ]
  },
  {
   "cell_type": "code",
   "execution_count": 1,
   "metadata": {},
   "outputs": [
    {
     "name": "stdout",
     "output_type": "stream",
     "text": [
      "enter a num153\n",
      "351\n"
     ]
    }
   ],
   "source": [
    "n = int(input('enter a num'))\n",
    "rev = 0\n",
    "while n > 0:\n",
    "    last = n%10\n",
    "    n = n//10\n",
    "    rev = rev*10 + last\n",
    "print(rev)"
   ]
  },
  {
   "cell_type": "code",
   "execution_count": 2,
   "metadata": {},
   "outputs": [
    {
     "name": "stdout",
     "output_type": "stream",
     "text": [
      "1\n",
      "5\n",
      "7\n"
     ]
    }
   ],
   "source": [
    "n = 1\n",
    "m = 10\n",
    "for i in range(n,m):\n",
    "    if i%2 != 0 and i%3 !=0:\n",
    "        print(i)"
   ]
  },
  {
   "cell_type": "code",
   "execution_count": 14,
   "metadata": {},
   "outputs": [
    {
     "name": "stdout",
     "output_type": "stream",
     "text": [
      "2\n",
      "2 * 1 = 2\n",
      "2 * 2 = 4\n",
      "2 * 3 = 6\n",
      "2 * 4 = 8\n",
      "2 * 5 = 10\n",
      "2 * 6 = 12\n",
      "2 * 7 = 14\n",
      "2 * 8 = 16\n",
      "2 * 9 = 18\n",
      "2 * 10 = 20\n"
     ]
    }
   ],
   "source": [
    "n = int(input())\n",
    "for i in range(1,11):\n",
    "    print(n,'*',i,'=',n*i)\n",
    "    "
   ]
  },
  {
   "cell_type": "code",
   "execution_count": 17,
   "metadata": {},
   "outputs": [
    {
     "name": "stdout",
     "output_type": "stream",
     "text": [
      "2\n",
      "1\n",
      "10\n",
      "2\n",
      "4\n",
      "6\n",
      "8\n"
     ]
    }
   ],
   "source": [
    "def div(n,start,stop):\n",
    "    for i in range(start,stop):\n",
    "        if i%n == 0:\n",
    "            print(i)\n",
    "n = int(input())\n",
    "start = int(input())\n",
    "stop = int(input())\n",
    "res = div(n,start,stop)\n",
    "res"
   ]
  },
  {
   "cell_type": "code",
   "execution_count": 27,
   "metadata": {},
   "outputs": [
    {
     "name": "stdout",
     "output_type": "stream",
     "text": [
      "143\n"
     ]
    },
    {
     "data": {
      "text/plain": [
       "8"
      ]
     },
     "execution_count": 27,
     "metadata": {},
     "output_type": "execute_result"
    }
   ],
   "source": [
    "def sum1(n):\n",
    "    sum = 0\n",
    "    for i in str(n):\n",
    "        sum = sum + int(i)\n",
    "    return sum\n",
    "n = int(input())\n",
    "res = sum1(n)\n",
    "res"
   ]
  },
  {
   "cell_type": "code",
   "execution_count": 29,
   "metadata": {},
   "outputs": [
    {
     "name": "stdout",
     "output_type": "stream",
     "text": [
      "234567\n"
     ]
    },
    {
     "data": {
      "text/plain": [
       "6"
      ]
     },
     "execution_count": 29,
     "metadata": {},
     "output_type": "execute_result"
    }
   ],
   "source": [
    "def count_num(n):\n",
    "    count = 0\n",
    "    for i in str(n):\n",
    "        count = count + 1\n",
    "    return count\n",
    "n = int(input())\n",
    "res = count_num(n)\n",
    "res"
   ]
  },
  {
   "cell_type": "code",
   "execution_count": 33,
   "metadata": {},
   "outputs": [
    {
     "name": "stdout",
     "output_type": "stream",
     "text": [
      "15\n",
      "1\n",
      "3\n",
      "5\n",
      "15\n"
     ]
    }
   ],
   "source": [
    "def divisor(n):\n",
    "    for i in range(1,n+1):\n",
    "        if n%i == 0:\n",
    "            print(i)\n",
    "n = int(input())\n",
    "res = divisor(n)\n",
    "res"
   ]
  },
  {
   "cell_type": "code",
   "execution_count": 38,
   "metadata": {},
   "outputs": [
    {
     "name": "stdout",
     "output_type": "stream",
     "text": [
      "enter a num8\n",
      "1000"
     ]
    }
   ],
   "source": [
    "dnum = int(input('enter a num'))\n",
    "bnum = []\n",
    "while dnum > 0:\n",
    "    last = dnum % 2\n",
    "    dnum = dnum // 2\n",
    "    bnum.append(last)\n",
    "bnum.reverse()\n",
    "\n",
    "for i in bnum:\n",
    "    print(i,end=\"\")"
   ]
  },
  {
   "cell_type": "code",
   "execution_count": 57,
   "metadata": {},
   "outputs": [
    {
     "name": "stdout",
     "output_type": "stream",
     "text": [
      "1000\n",
      "['0', '0', '0', '1']\n",
      "8\n"
     ]
    }
   ],
   "source": [
    "b = input()\n",
    "d = list(b)\n",
    "sum = 0\n",
    "d.reverse()\n",
    "print(d)\n",
    "for i in range(len(d)):\n",
    "    sum = sum + int(d[i])*pow(2,i)\n",
    "print(sum)"
   ]
  },
  {
   "cell_type": "code",
   "execution_count": 52,
   "metadata": {},
   "outputs": [
    {
     "name": "stdout",
     "output_type": "stream",
     "text": [
      "1\n",
      "4\n",
      "7\n",
      "9\n",
      "3\n"
     ]
    }
   ],
   "source": [
    "x = [1,4,7,9,3]\n",
    "for i in x:\n",
    "    print(i)"
   ]
  },
  {
   "cell_type": "code",
   "execution_count": 60,
   "metadata": {},
   "outputs": [
    {
     "name": "stdout",
     "output_type": "stream",
     "text": [
      "10\n"
     ]
    },
    {
     "data": {
      "text/plain": [
       "55"
      ]
     },
     "execution_count": 60,
     "metadata": {},
     "output_type": "execute_result"
    }
   ],
   "source": [
    "def sum_num(n):\n",
    "    sum = 0\n",
    "    for i in range(1,n+1):\n",
    "        sum = sum + int(i)\n",
    "    return sum\n",
    "n = int(input())\n",
    "res = sum_num(n)\n",
    "res"
   ]
  },
  {
   "cell_type": "code",
   "execution_count": 62,
   "metadata": {},
   "outputs": [
    {
     "name": "stdout",
     "output_type": "stream",
     "text": [
      "Enter the number of rows: 3\n",
      "1 = 1\n",
      "1 + 2 = 3\n",
      "1 + 2 + 3 = 6\n"
     ]
    }
   ],
   "source": [
    "n = int(input(\"Enter the number of rows: \"))\n",
    "total = 0\n",
    "for i in range(1, n+1):\n",
    "    total = total + i\n",
    "    for j in range(1, i+1):\n",
    "        if j == i:\n",
    "            print(j, \"=\", total)\n",
    "        else:\n",
    "            print(j, end=\" + \")"
   ]
  },
  {
   "cell_type": "code",
   "execution_count": 64,
   "metadata": {},
   "outputs": [
    {
     "name": "stdout",
     "output_type": "stream",
     "text": [
      "enter the rows3\n",
      "1 = 1\n",
      "1+2 = 3\n",
      "1+2+3 = 6\n"
     ]
    }
   ],
   "source": [
    "n = int(input(\"enter the rows\"))\n",
    "total = 0\n",
    "for i in range(1,n+1):\n",
    "    total = total + i\n",
    "    for j in range(1,i+1):\n",
    "        if i==j:\n",
    "            print(j,'=',total)\n",
    "        else:\n",
    "            print(j,end = '+')"
   ]
  },
  {
   "cell_type": "code",
   "execution_count": 2,
   "metadata": {},
   "outputs": [
    {
     "name": "stdout",
     "output_type": "stream",
     "text": [
      "enter num13\n",
      "enter num25\n",
      "the product of 3 and 5 is 15\n"
     ]
    }
   ],
   "source": [
    "n1 = int(input('enter num1'))\n",
    "n2 = int(input(\"enter num2\"))\n",
    "x = n1*n2\n",
    "y = 'the product of {} and {} is {}'.format(n1,n2,x)\n",
    "print(y)"
   ]
  },
  {
   "cell_type": "code",
   "execution_count": 8,
   "metadata": {},
   "outputs": [
    {
     "name": "stdout",
     "output_type": "stream",
     "text": [
      "1\n",
      "10\n",
      "1\n",
      "4\n",
      "9\n"
     ]
    }
   ],
   "source": [
    "s1 = int(input(''))\n",
    "s2 = int(input(''))\n",
    "\n",
    "while s1 < s2:\n",
    "    for i in range(1,s1+1):\n",
    "        if i*i == s1:\n",
    "            print(s1)\n",
    "    s1 = s1 + 1"
   ]
  },
  {
   "cell_type": "code",
   "execution_count": 16,
   "metadata": {},
   "outputs": [
    {
     "name": "stdout",
     "output_type": "stream",
     "text": [
      "11\n",
      "20\n",
      "16\n"
     ]
    }
   ],
   "source": [
    "n1 = int(input())\n",
    "n2 = int(input())\n",
    "while n1 < n2:\n",
    "    for i in range(1,n1+1):\n",
    "        if i*i == n1:\n",
    "            print(n1)\n",
    "    n1 = n1+1"
   ]
  },
  {
   "cell_type": "code",
   "execution_count": 21,
   "metadata": {},
   "outputs": [
    {
     "name": "stdout",
     "output_type": "stream",
     "text": [
      "enter num to check for perfect square32\n",
      "itsnot a prefect square\n"
     ]
    }
   ],
   "source": [
    "n = int(input('enter num to check for perfect square'))\n",
    "temp = n\n",
    "res = 0\n",
    "for i in range(1,n):\n",
    "    if i*i == n:\n",
    "        res = 1\n",
    "if res == 1:\n",
    "    print(\"its a perfect square\")\n",
    "else:\n",
    "    print(\"itsnot a prefect square\")\n",
    "        \n"
   ]
  },
  {
   "cell_type": "code",
   "execution_count": 25,
   "metadata": {},
   "outputs": [
    {
     "data": {
      "text/plain": [
       "126"
      ]
     },
     "execution_count": 25,
     "metadata": {},
     "output_type": "execute_result"
    }
   ],
   "source": [
    "def lcm(n1,n2):\n",
    "    if n1 > n2:\n",
    "        greater = n1\n",
    "    else:\n",
    "        n2 > n1\n",
    "        greater = n2\n",
    "    while True:\n",
    "        if greater%n1 == 0 and greater%n2 == 0:\n",
    "            lcm = greater\n",
    "            break\n",
    "        greater = greater + 1\n",
    "    return greater\n",
    "n1 = 14\n",
    "n2 = 18\n",
    "res = lcm(n1,n2)\n",
    "res"
   ]
  },
  {
   "cell_type": "code",
   "execution_count": 26,
   "metadata": {},
   "outputs": [
    {
     "name": "stdout",
     "output_type": "stream",
     "text": [
      "0\n",
      "1\n",
      "1\n",
      "2\n",
      "3\n",
      "5\n",
      "8\n",
      "13\n",
      "21\n",
      "34\n",
      "55\n",
      "89\n"
     ]
    }
   ],
   "source": [
    "fn = 0\n",
    "sn = 1\n",
    "print(fn)\n",
    "print(sn)\n",
    "res = fn + sn\n",
    "while res < 100:\n",
    "    print(res)\n",
    "    fn = sn\n",
    "    sn = res\n",
    "    res = fn + sn\n",
    "    \n",
    "    "
   ]
  },
  {
   "cell_type": "code",
   "execution_count": 1,
   "metadata": {},
   "outputs": [
    {
     "name": "stdout",
     "output_type": "stream",
     "text": [
      "43\n"
     ]
    }
   ],
   "source": [
    "x = [2,5,7,8,3,5,6,7]\n",
    "sum1 = 0\n",
    "for i in x:\n",
    "    sum1 = sum1 + i\n",
    "print(sum1)"
   ]
  },
  {
   "cell_type": "code",
   "execution_count": 2,
   "metadata": {},
   "outputs": [],
   "source": [
    "import numpy as np"
   ]
  },
  {
   "cell_type": "code",
   "execution_count": 4,
   "metadata": {},
   "outputs": [
    {
     "data": {
      "text/plain": [
       "array([1, 3, 5, 5, 6, 7, 8])"
      ]
     },
     "execution_count": 4,
     "metadata": {},
     "output_type": "execute_result"
    }
   ],
   "source": [
    "x = np.array([1,3,5,5,6,7,8])\n",
    "x"
   ]
  },
  {
   "cell_type": "code",
   "execution_count": 10,
   "metadata": {},
   "outputs": [
    {
     "name": "stdout",
     "output_type": "stream",
     "text": [
      "enter how many u want2\n",
      "1\n",
      "2\n",
      "[1, 2]\n"
     ]
    }
   ],
   "source": [
    "n = int(input('enter how many u want'))\n",
    "arr = []\n",
    "for i in range(0,n):\n",
    "    x = int(input())\n",
    "    arr.append(x)\n",
    "print(arr)"
   ]
  },
  {
   "cell_type": "code",
   "execution_count": 9,
   "metadata": {},
   "outputs": [
    {
     "name": "stdout",
     "output_type": "stream",
     "text": [
      "0\n",
      "1\n"
     ]
    }
   ],
   "source": [
    "x = 2\n",
    "for i in range(x):\n",
    "    print(i)"
   ]
  },
  {
   "cell_type": "code",
   "execution_count": 17,
   "metadata": {},
   "outputs": [
    {
     "name": "stdout",
     "output_type": "stream",
     "text": [
      "enter no of rows3\n",
      "enter no of columns3\n",
      "1\n",
      "2\n",
      "3\n",
      "4\n",
      "5\n",
      "6\n",
      "7\n",
      "8\n",
      "9\n",
      "123\n",
      "456\n",
      "789\n"
     ]
    }
   ],
   "source": [
    "r = int(input('enter no of rows'))\n",
    "c = int(input('enter no of columns'))\n",
    "matrix = []\n",
    "\n",
    "for i in range(r):\n",
    "    a = []\n",
    "    for j in range(c):\n",
    "        a.append(int(input()))\n",
    "    matrix.append(a)\n",
    "for i in range(r):\n",
    "    for j in range(c):\n",
    "        print(matrix[i][j],end = '')\n",
    "    print()"
   ]
  },
  {
   "cell_type": "code",
   "execution_count": 19,
   "metadata": {},
   "outputs": [
    {
     "name": "stdout",
     "output_type": "stream",
     "text": [
      "11\n"
     ]
    }
   ],
   "source": [
    "x = [3,9,11,2,1]\n",
    "max = x[0]\n",
    "for i in range(0,len(x)):\n",
    "    if x[i] > max:\n",
    "        max = x[i]\n",
    "print(max)"
   ]
  },
  {
   "cell_type": "code",
   "execution_count": 30,
   "metadata": {},
   "outputs": [
    {
     "data": {
      "text/plain": [
       "[3, 4, 5, 1, 2]"
      ]
     },
     "execution_count": 30,
     "metadata": {},
     "output_type": "execute_result"
    }
   ],
   "source": [
    "arr = [1,2,3,4,5]\n",
    "x = arr[2:5] + arr[0:2]\n",
    "x"
   ]
  },
  {
   "cell_type": "code",
   "execution_count": 32,
   "metadata": {},
   "outputs": [
    {
     "data": {
      "text/plain": [
       "[7, 9, 11, 1, 3, 5]"
      ]
     },
     "execution_count": 32,
     "metadata": {},
     "output_type": "execute_result"
    }
   ],
   "source": [
    "def arr(x,n,d):\n",
    "    arr1 = x[d:n] + x[0:d]\n",
    "    return arr1\n",
    "x = [1,3,5,7,9,11]\n",
    "res = arr(x,len(x),3)\n",
    "res"
   ]
  },
  {
   "cell_type": "code",
   "execution_count": 33,
   "metadata": {},
   "outputs": [
    {
     "name": "stdout",
     "output_type": "stream",
     "text": [
      "enter which poistion u want fibb num3\n",
      "2\n",
      "3\n",
      "3 is a fibonacii\n"
     ]
    }
   ],
   "source": [
    "n = int(input('enter which poistion u want fibb num'))\n",
    "fn = 0\n",
    "sn = 1\n",
    "res = 1\n",
    "if n == 0 or n == 1:\n",
    "    print(n,'is a fibb number')\n",
    "else:\n",
    "    while res < n:\n",
    "        fn = sn\n",
    "        sn = res\n",
    "        res = fn + sn\n",
    "        print(res)\n",
    "    if res == n:\n",
    "        print(n,'is a fibonacii')\n",
    "    else:\n",
    "        print(n,'isnot a fibonacii')\n",
    "        "
   ]
  },
  {
   "cell_type": "code",
   "execution_count": 34,
   "metadata": {},
   "outputs": [
    {
     "name": "stdout",
     "output_type": "stream",
     "text": [
      "0 : 0\n",
      "1 : 1\n",
      "2 : 1\n",
      "3 : 2\n",
      "4 : 3\n",
      "5 : 5\n",
      "6 : 8\n",
      "7 : 13\n",
      "8 : 21\n",
      "9 : 34\n"
     ]
    }
   ],
   "source": [
    "def allfib(n):\n",
    "    for i in range(0,n):\n",
    "        print(str(i),':',fib(i))\n",
    "def fib(n):\n",
    "    if n <= 0:\n",
    "        return 0\n",
    "    elif n == 1:\n",
    "        return 1\n",
    "    return fib(n-1)+fib(n-2)\n",
    "x = allfib(10)\n",
    "x"
   ]
  },
  {
   "cell_type": "code",
   "execution_count": 40,
   "metadata": {},
   "outputs": [
    {
     "name": "stdout",
     "output_type": "stream",
     "text": [
      "enter a num5\n",
      "1 = 2\n",
      "2 = 4\n",
      "3 = 8\n",
      "4 = 16\n",
      "5 = 32\n",
      "32\n"
     ]
    }
   ],
   "source": [
    "n = int(input('enter a num'))\n",
    "for i in range(1,n+1):\n",
    "    \n",
    "    x = pow(2,i)\n",
    "    print(str(i),'=',x)\n",
    "print(x)"
   ]
  },
  {
   "cell_type": "code",
   "execution_count": 46,
   "metadata": {},
   "outputs": [
    {
     "name": "stdout",
     "output_type": "stream",
     "text": [
      "2\n",
      "3\n",
      "12\n",
      "2\n",
      "3\n",
      "4\n",
      "5\n",
      "6\n",
      "12233\n",
      "4566\n",
      "2\n",
      "6\n"
     ]
    }
   ],
   "source": [
    "r = int(input())\n",
    "c = int(input())\n",
    "mat = []\n",
    "\n",
    "for i in range(r):\n",
    "    a = []\n",
    "    for j in range(c):\n",
    "        a.append(int(input()))\n",
    "    mat.append(a)\n",
    "for i in range(r):\n",
    "    for j in range(c):\n",
    "        print(mat[i][j],end='')\n",
    "    print(mat[i][j])\n",
    "\n",
    "x = print(mat[0][1])\n",
    "x\n",
    "\n",
    "y = print(mat[i][j])\n",
    "y"
   ]
  },
  {
   "cell_type": "code",
   "execution_count": 50,
   "metadata": {},
   "outputs": [
    {
     "name": "stdout",
     "output_type": "stream",
     "text": [
      "[[1 2 3]\n",
      " [4 5 6]\n",
      " [7 8 9]]\n",
      "5\n"
     ]
    }
   ],
   "source": [
    "import numpy as np\n",
    "two_arr = np.array([[1,2,3],[4,5,6],[7,8,9]])\n",
    "print(two_arr)\n",
    "\n",
    "def acess_ele(two_arr,rows,col):\n",
    "    print(two_arr[rows,col])\n",
    "x = acess_ele(two_arr,1,1)\n",
    "x"
   ]
  },
  {
   "cell_type": "code",
   "execution_count": 9,
   "metadata": {},
   "outputs": [
    {
     "name": "stdout",
     "output_type": "stream",
     "text": [
      "[[ 8  9  3  0 10]\n",
      " [ 3  5 17  1  1]\n",
      " [ 2  8  6 23  1]\n",
      " [15  7  3  2  9]\n",
      " [ 6 14  2  6  0]]\n",
      "30 27 40 36 28 \n",
      "\n",
      "34 \n",
      "\n",
      "43 \n",
      "\n",
      "31 \n",
      "\n",
      "32 \n",
      "\n",
      "21 "
     ]
    }
   ],
   "source": [
    "import numpy as np\n",
    "t_a = np.array([[8,9,3,0,10],[3,5,17,1,1],[2,8,6,23,1],[15,7,3,2,9],[6,14,2,6,0]])\n",
    "print(t_a)\n",
    "\n",
    "row_sum = 0\n",
    "col_sum = 0\n",
    "for i in range(len(t_a)):\n",
    "    for j in range(len(t_a)):\n",
    "        row_sum = row_sum + t_a[i][j]\n",
    "    print(row_sum,end=' ')  \n",
    "    row_sum = 0\n",
    "    \n",
    "for j in range(len(t_a)):\n",
    "    for i in range(len(t_a)):\n",
    "        col_sum = col_sum + t_a[i][j]\n",
    "    print('\\n')\n",
    "    print(col_sum,end=' ')\n",
    "    col_sum = 0"
   ]
  },
  {
   "cell_type": "code",
   "execution_count": 10,
   "metadata": {},
   "outputs": [
    {
     "name": "stdout",
     "output_type": "stream",
     "text": [
      "[5, 2, 3, 4, 1]\n"
     ]
    }
   ],
   "source": [
    "x = [1,2,3,4,5]\n",
    "n = len(x)\n",
    "temp = x[0]\n",
    "x[0] = x[n-1]\n",
    "x[n-1] = temp\n",
    "print(x)"
   ]
  },
  {
   "cell_type": "code",
   "execution_count": 11,
   "metadata": {},
   "outputs": [
    {
     "name": "stdout",
     "output_type": "stream",
     "text": [
      "[1, 4, 3, 2, 5]\n"
     ]
    }
   ],
   "source": [
    "x = [1,2,3,4,5]\n",
    "n = len(x)\n",
    "temp = x[1]\n",
    "x[1] = x[n-2]\n",
    "x[n-2] = temp\n",
    "print(x)"
   ]
  },
  {
   "cell_type": "code",
   "execution_count": 36,
   "metadata": {},
   "outputs": [
    {
     "name": "stdout",
     "output_type": "stream",
     "text": [
      "9 4 10 3 5 15 "
     ]
    }
   ],
   "source": [
    "x = [9,3,4,5,10,15]\n",
    "a = []\n",
    "for i in range(len(x)):\n",
    "    temp = x[i]"
   ]
  },
  {
   "cell_type": "code",
   "execution_count": 3,
   "metadata": {},
   "outputs": [
    {
     "name": "stdout",
     "output_type": "stream",
     "text": [
      "6\n"
     ]
    }
   ],
   "source": [
    "x = [9,3,4,5,10,15]\n",
    "count = 0\n",
    "for i in range(len(x)):\n",
    "    count = count + 1\n",
    "print(count)"
   ]
  },
  {
   "cell_type": "code",
   "execution_count": 15,
   "metadata": {},
   "outputs": [
    {
     "name": "stdout",
     "output_type": "stream",
     "text": [
      "enter a ele to check for existance30\n",
      "30 isnot present the list\n"
     ]
    }
   ],
   "source": [
    "def check_ele(x,n):\n",
    "    for i in range(len(x)):\n",
    "        if x[i] == n:\n",
    "            print(n,'is present in the list')\n",
    "    else:\n",
    "        print(n,'isnot present the list')\n",
    "x = [9,3,4,5,10,15]\n",
    "n = int(input('enter a ele to check for existance'))\n",
    "res = check_ele(x,n)\n",
    "res"
   ]
  },
  {
   "cell_type": "code",
   "execution_count": 20,
   "metadata": {},
   "outputs": [
    {
     "data": {
      "text/plain": [
       "1"
      ]
     },
     "execution_count": 20,
     "metadata": {},
     "output_type": "execute_result"
    }
   ],
   "source": [
    "x = [9,3,4,5,10,15]\n",
    "x.count(3)"
   ]
  },
  {
   "cell_type": "code",
   "execution_count": 4,
   "metadata": {},
   "outputs": [
    {
     "data": {
      "text/plain": [
       "[15, 10, 5, 4, 3, 9]"
      ]
     },
     "execution_count": 4,
     "metadata": {},
     "output_type": "execute_result"
    }
   ],
   "source": [
    "def reverse(x):\n",
    "    y = []\n",
    "    for i in range(len(x)):\n",
    "        y.insert(0,x[i])\n",
    "    return y\n",
    "x = [9,3,4,5,10,15]\n",
    "res = reverse(x)\n",
    "res     "
   ]
  },
  {
   "cell_type": "code",
   "execution_count": 7,
   "metadata": {},
   "outputs": [
    {
     "data": {
      "text/plain": [
       "43"
      ]
     },
     "execution_count": 7,
     "metadata": {},
     "output_type": "execute_result"
    }
   ],
   "source": [
    "def large(x):\n",
    "    max = x[0]\n",
    "    for i in range(len(x)):\n",
    "        if x[i] > max:\n",
    "            max = x[i]\n",
    "    return max\n",
    "x = [9,3,43,5,10,15]\n",
    "res = large(x)\n",
    "res"
   ]
  },
  {
   "cell_type": "code",
   "execution_count": 23,
   "metadata": {},
   "outputs": [
    {
     "data": {
      "text/plain": [
       "10"
      ]
     },
     "execution_count": 23,
     "metadata": {},
     "output_type": "execute_result"
    }
   ],
   "source": [
    "x = [9,3,4,5,10,15]\n",
    "x.sort()\n",
    "y = x[-2]\n",
    "y"
   ]
  },
  {
   "cell_type": "code",
   "execution_count": 25,
   "metadata": {},
   "outputs": [
    {
     "name": "stdout",
     "output_type": "stream",
     "text": [
      "31\n"
     ]
    }
   ],
   "source": [
    "x = [9,31,4,5,10,55]\n",
    "large1 = x[0]\n",
    "large2 = x[0]\n",
    "for i in range(len(x)):\n",
    "    if x[i] > large1:\n",
    "        large1 = x[i]\n",
    "for i in range(len(x)):\n",
    "    if x[i] > large2 and x[i] != large1:\n",
    "        large2 = x[i]\n",
    "print(large2)\n",
    "    "
   ]
  },
  {
   "cell_type": "code",
   "execution_count": 31,
   "metadata": {},
   "outputs": [
    {
     "name": "stdout",
     "output_type": "stream",
     "text": [
      "enter how many numbers u want2\n",
      "[55, 31]\n"
     ]
    }
   ],
   "source": [
    "n = int(input('enter how many numbers u want'))\n",
    "x = [9,31,4,5,10,55]\n",
    "y = []\n",
    "for i in range(n):\n",
    "    large = x[0]\n",
    "    for j in range(len(x)):\n",
    "        if x[j] > large:\n",
    "            large = x[j]\n",
    "    x.remove(large)\n",
    "    y.append(large)\n",
    "print(y)"
   ]
  },
  {
   "cell_type": "code",
   "execution_count": 41,
   "metadata": {},
   "outputs": [
    {
     "name": "stdout",
     "output_type": "stream",
     "text": [
      "3\n",
      "[4, 5, 9, 10, 31, 55]\n"
     ]
    },
    {
     "data": {
      "text/plain": [
       "[10, 31, 55]"
      ]
     },
     "execution_count": 41,
     "metadata": {},
     "output_type": "execute_result"
    }
   ],
   "source": [
    "n = int(input())\n",
    "x = [9,31,4,5,10,55]\n",
    "x.sort()\n",
    "y = list(x)\n",
    "print(y)\n",
    "y[-n:]"
   ]
  },
  {
   "cell_type": "code",
   "execution_count": 51,
   "metadata": {},
   "outputs": [
    {
     "name": "stdout",
     "output_type": "stream",
     "text": [
      "enter ele to search4\n",
      "4 is present in the list\n"
     ]
    }
   ],
   "source": [
    "x = [9,31,4,5,10,55]\n",
    "ele = int(input('enter ele to search'))\n",
    "for i in range(len(x)):\n",
    "    if x[i] != ele:\n",
    "        continue\n",
    "    else:\n",
    "        print(x[i],'is present in the list')\n",
    "\n",
    "        "
   ]
  },
  {
   "cell_type": "code",
   "execution_count": 53,
   "metadata": {},
   "outputs": [
    {
     "name": "stdout",
     "output_type": "stream",
     "text": [
      "6\n",
      "val is not present\n"
     ]
    }
   ],
   "source": [
    "x = [9,31,4,5,10,55]\n",
    "val = int(input(''))\n",
    "for i in range(len(x)):\n",
    "    if x[i] == val:\n",
    "        print(x.index(val))\n",
    "print('val is not present')"
   ]
  },
  {
   "cell_type": "code",
   "execution_count": 54,
   "metadata": {},
   "outputs": [
    {
     "name": "stdout",
     "output_type": "stream",
     "text": [
      "enter index value6\n"
     ]
    }
   ],
   "source": [
    "x = [9,31,4,5,10,55]\n",
    "index = int(input('enter index value'))\n",
    "for i in range(len(x)):\n",
    "    if i == index:\n",
    "        print(x[i])\n",
    "    "
   ]
  },
  {
   "cell_type": "code",
   "execution_count": 5,
   "metadata": {},
   "outputs": [
    {
     "name": "stdout",
     "output_type": "stream",
     "text": [
      "enter the stringthe quick brown fox jumps over lazy dog\n",
      "the quick brown fox jumps over lazy dog is a pangram\n"
     ]
    }
   ],
   "source": [
    "x = input(\"enter the string\")\n",
    "all_alphabets = 'abcdefghijklmnopqrstuvwxyz'\n",
    "flag = 0\n",
    "for char in all_alphabets:\n",
    "    if char not in x:\n",
    "        flag = 1\n",
    "if flag == 1:\n",
    "    print(x,'is not a pangram')\n",
    "else:\n",
    "    print(x,'is a pangram')\n",
    "        "
   ]
  },
  {
   "cell_type": "code",
   "execution_count": 9,
   "metadata": {},
   "outputs": [
    {
     "name": "stdout",
     "output_type": "stream",
     "text": [
      "enter string1moron\n",
      "mrn\n"
     ]
    }
   ],
   "source": [
    "x1 = input('enter string1')\n",
    "x2 = ''\n",
    "for char in range(len(x1)):\n",
    "    if char%2 == 0:\n",
    "        x2 = x2 + x1[char]\n",
    "print(x2)"
   ]
  },
  {
   "cell_type": "code",
   "execution_count": 11,
   "metadata": {},
   "outputs": [
    {
     "name": "stdout",
     "output_type": "stream",
     "text": [
      "enter string1maruthi\n",
      "m\n",
      "r\n",
      "t\n",
      "i\n"
     ]
    }
   ],
   "source": [
    "x1 = input('enter string1')\n",
    "x2 = ''\n",
    "for char in range(len(x1)):\n",
    "    if char%2 == 0:\n",
    "        print(x1[char])"
   ]
  },
  {
   "cell_type": "code",
   "execution_count": 12,
   "metadata": {},
   "outputs": [
    {
     "name": "stdout",
     "output_type": "stream",
     "text": [
      "enter string1tony\n",
      "enter which index value u want to remove2\n",
      "toy\n"
     ]
    }
   ],
   "source": [
    "x1 = input('enter string1')\n",
    "x2 = ''\n",
    "n = int(input('enter which index value u want to remove'))\n",
    "for char in range(len(x1)):\n",
    "    if char != n:\n",
    "        x2 = x2 + x1[char]\n",
    "print(x2)"
   ]
  },
  {
   "cell_type": "code",
   "execution_count": 17,
   "metadata": {},
   "outputs": [
    {
     "name": "stdout",
     "output_type": "stream",
     "text": [
      "enter string1And I am Iron Man\n",
      "And-I-am-Iron-Man\n"
     ]
    }
   ],
   "source": [
    "x1 = input('enter string1')\n",
    "x2 =''\n",
    "for char in range(len(x1)):\n",
    "    if x1[char] == ' ':\n",
    "        x2 = x2 + '-'\n",
    "    else:\n",
    "        x2 = x2 + x1[char]\n",
    "print(x2)"
   ]
  },
  {
   "cell_type": "code",
   "execution_count": 20,
   "metadata": {},
   "outputs": [
    {
     "name": "stdout",
     "output_type": "stream",
     "text": [
      "[5, 4, 3, 2, 1]\n"
     ]
    }
   ],
   "source": [
    "x1 = [1,2,3,4,5]\n",
    "x2 = []\n",
    "for i in x1:\n",
    "    x2.insert(0,i)\n",
    "print(x2)\n",
    "    "
   ]
  },
  {
   "cell_type": "code",
   "execution_count": 21,
   "metadata": {},
   "outputs": [
    {
     "name": "stdout",
     "output_type": "stream",
     "text": [
      "enter string1abhi\n"
     ]
    },
    {
     "data": {
      "text/plain": [
       "['a', 'b', 'h', 'i']"
      ]
     },
     "execution_count": 21,
     "metadata": {},
     "output_type": "execute_result"
    }
   ],
   "source": [
    "x1 = input('enter string1')\n",
    "x2 = list(x1)\n",
    "\n",
    "for char in range(len(x1)):\n",
    "    x2.insert(0,)"
   ]
  },
  {
   "cell_type": "code",
   "execution_count": 38,
   "metadata": {},
   "outputs": [
    {
     "name": "stdout",
     "output_type": "stream",
     "text": [
      "n a m n o r i "
     ]
    }
   ],
   "source": [
    "x = 'ironman'\n",
    "for char in range(len(x)-1,-1,-1):\n",
    "    print(x[char],end=' ')"
   ]
  },
  {
   "cell_type": "code",
   "execution_count": 43,
   "metadata": {},
   "outputs": [
    {
     "data": {
      "text/plain": [
       "'nahtanoj'"
      ]
     },
     "execution_count": 43,
     "metadata": {},
     "output_type": "execute_result"
    }
   ],
   "source": [
    "x = 'jonathan'\n",
    "x = list(x)\n",
    "x.reverse()\n",
    "y = ''.join(x)\n",
    "y"
   ]
  },
  {
   "cell_type": "code",
   "execution_count": 47,
   "metadata": {},
   "outputs": [
    {
     "name": "stdout",
     "output_type": "stream",
     "text": [
      "enter string1ishwarya\n",
      "enter a char to check fori\n",
      "1\n"
     ]
    }
   ],
   "source": [
    "x1 = input('enter string1')\n",
    "c = input('enter a char to check for') \n",
    "count = 0\n",
    "for char in range(len(x1)):\n",
    "    if x1[char] == c:\n",
    "        count = count + 1\n",
    "print(count)"
   ]
  },
  {
   "cell_type": "code",
   "execution_count": 54,
   "metadata": {},
   "outputs": [
    {
     "name": "stdout",
     "output_type": "stream",
     "text": [
      "enter string1kavali likitha\n",
      "14\n",
      "2\n"
     ]
    }
   ],
   "source": [
    "x1 = input('enter string1')\n",
    "c_count = 0\n",
    "w_count = 1\n",
    "for char in x1:\n",
    "    c_count = c_count + 1\n",
    "    if char == ' ':\n",
    "        w_count = w_count + 1\n",
    "print(c_count)\n",
    "print(w_count)"
   ]
  },
  {
   "cell_type": "code",
   "execution_count": 56,
   "metadata": {},
   "outputs": [
    {
     "name": "stdout",
     "output_type": "stream",
     "text": [
      "enter string1i can do this alla day\n"
     ]
    },
    {
     "data": {
      "text/plain": [
       "['i', 'can', 'do', 'this', 'alla', 'day']"
      ]
     },
     "execution_count": 56,
     "metadata": {},
     "output_type": "execute_result"
    }
   ],
   "source": [
    "x1 = input('enter string1')\n",
    "x1.split()"
   ]
  },
  {
   "cell_type": "code",
   "execution_count": 57,
   "metadata": {},
   "outputs": [
    {
     "name": "stdout",
     "output_type": "stream",
     "text": [
      "enter a stringgeeks for geeks\n",
      "enter a substring for checkingfor\n",
      "yes\n"
     ]
    }
   ],
   "source": [
    "n = input('enter a string')\n",
    "m = input('enter a substring for checking')\n",
    "s = n.split()\n",
    "if m in s:\n",
    "    print('yes')\n",
    "else:\n",
    "    print('no')"
   ]
  },
  {
   "cell_type": "code",
   "execution_count": 81,
   "metadata": {},
   "outputs": [
    {
     "name": "stdout",
     "output_type": "stream",
     "text": [
      "['a', 'y', 'i', 'h']\n"
     ]
    }
   ],
   "source": [
    "x1 = 'abhinay'\n",
    "x2 = 'ishwarya'\n",
    "x1 = set(x1)\n",
    "x2 = set(x2)\n",
    "y = []\n",
    "for i in x1:\n",
    "    for j in x2:\n",
    "        if i == j:\n",
    "            y.append(j)\n",
    "print(y)"
   ]
  },
  {
   "cell_type": "code",
   "execution_count": 93,
   "metadata": {},
   "outputs": [
    {
     "name": "stdout",
     "output_type": "stream",
     "text": [
      "['deamon', 'deamon', 'targareyan']\n"
     ]
    }
   ],
   "source": [
    "x1 = 'deamon targareyan'\n",
    "x2 = 'raneyhara targareyan'\n",
    "x1 = x1.split()\n",
    "x2 = x2.split()\n",
    "y = []\n",
    "for i in x1:\n",
    "    for j in x2:\n",
    "        if i != j:\n",
    "            y.append(i)\n",
    "print(y)"
   ]
  },
  {
   "cell_type": "code",
   "execution_count": 94,
   "metadata": {},
   "outputs": [
    {
     "name": "stdout",
     "output_type": "stream",
     "text": [
      "['mango', 'peach']\n"
     ]
    }
   ],
   "source": [
    "x1 = \"berry mango cherry\"\n",
    "x2 = \"berry peach cherry\"\n",
    "x1 = x1.split()\n",
    "x2 = x2.split()\n",
    "y = []\n",
    "for i in x1:\n",
    "    if i not in x2:\n",
    "        y.append(i)\n",
    "for i in x2:\n",
    "    if i not in x1:\n",
    "        y.append(i)\n",
    "print(y)"
   ]
  },
  {
   "cell_type": "code",
   "execution_count": 97,
   "metadata": {},
   "outputs": [
    {
     "name": "stdout",
     "output_type": "stream",
     "text": [
      "{'e', 'p', 'o', 'n', 'g', 'a', 'c', 'm', 'h'}\n"
     ]
    }
   ],
   "source": [
    "x1 = \"mango\"\n",
    "x2 = \"peach\"\n",
    "t = set(x1 + x2)\n",
    "print(t)"
   ]
  },
  {
   "cell_type": "code",
   "execution_count": 99,
   "metadata": {},
   "outputs": [
    {
     "data": {
      "text/plain": [
       "[3, 4, 5, 1, 2]"
      ]
     },
     "execution_count": 99,
     "metadata": {},
     "output_type": "execute_result"
    }
   ],
   "source": [
    "def rotation(x,d,n):\n",
    "    x = x[d:n] + x[0:d]\n",
    "    return x\n",
    "x = [1,2,3,4,5]\n",
    "n = len(x)\n",
    "d = 2\n",
    "res = rotation(x,d,n)\n",
    "res"
   ]
  },
  {
   "cell_type": "code",
   "execution_count": 100,
   "metadata": {},
   "outputs": [
    {
     "data": {
      "text/plain": [
       "'unse'"
      ]
     },
     "execution_count": 100,
     "metadata": {},
     "output_type": "execute_result"
    }
   ],
   "source": [
    "x = 'universe'\n",
    "n = len(x)\n",
    "x = x[0:2] + x[n-2:n]\n",
    "x"
   ]
  },
  {
   "cell_type": "code",
   "execution_count": 14,
   "metadata": {},
   "outputs": [
    {
     "name": "stdout",
     "output_type": "stream",
     "text": [
      "enter a word: iam\n",
      "2\n"
     ]
    }
   ],
   "source": [
    "x = \"iam the ironman and iam the man of honor\"\n",
    "word = input(\"enter a word: \")\n",
    "words = x.split()\n",
    "count = 0\n",
    "for w in words:\n",
    "    if w == word:\n",
    "        count = count + 1        \n",
    "print(count)        "
   ]
  },
  {
   "cell_type": "code",
   "execution_count": 30,
   "metadata": {},
   "outputs": [
    {
     "data": {
      "text/plain": [
       "{'the': 2,\n",
       " 'quick': 1,\n",
       " 'brown': 1,\n",
       " 'fox': 1,\n",
       " 'jumps': 1,\n",
       " 'over': 1,\n",
       " 'lazy': 1,\n",
       " 'dog': 1}"
      ]
     },
     "execution_count": 30,
     "metadata": {},
     "output_type": "execute_result"
    }
   ],
   "source": [
    "def word_count(x):\n",
    "    words = x.split()\n",
    "    count = {}\n",
    "    for i in words:\n",
    "        if i in count:\n",
    "            count[i] += 1\n",
    "        else:\n",
    "            count[i] = 1\n",
    "    return count\n",
    "x =\"the quick brown fox jumps over the lazy dog\"\n",
    "res = word_count(x)    \n",
    "res"
   ]
  },
  {
   "cell_type": "code",
   "execution_count": 12,
   "metadata": {},
   "outputs": [
    {
     "name": "stdout",
     "output_type": "stream",
     "text": [
      "{'a': 4, 'n': 2, 'g': 1, 'd': 1, 'i': 2, 'b': 1, 'h': 1, 'y': 1}\n"
     ]
    }
   ],
   "source": [
    "x = 'angadiabhinay'\n",
    "x = list(x)\n",
    "count = {}\n",
    "for i in x:\n",
    "    if i in count:\n",
    "        count[i] += 1\n",
    "    else:\n",
    "        count[i] = 1\n",
    "print(count)\n"
   ]
  },
  {
   "cell_type": "code",
   "execution_count": 33,
   "metadata": {},
   "outputs": [
    {
     "name": "stdout",
     "output_type": "stream",
     "text": [
      "enter a number to check for a palindrome1\n",
      "100\n",
      "1\n",
      "3\n",
      "5\n",
      "7\n",
      "9\n",
      "11\n",
      "33\n",
      "55\n",
      "77\n",
      "99\n"
     ]
    }
   ],
   "source": [
    "start = int(input('enter a number to check for a palindrome'))\n",
    "stop = int(input(''))\n",
    "for num in range(start,stop):\n",
    "    temp = num\n",
    "    rev = 0\n",
    "    while num>0:\n",
    "        last = num%10\n",
    "        num = num //10\n",
    "        rev = rev*10+last\n",
    "    if rev == temp:\n",
    "        if temp % 2 != 0:\n",
    "            print(temp)"
   ]
  },
  {
   "cell_type": "code",
   "execution_count": 47,
   "metadata": {},
   "outputs": [
    {
     "data": {
      "text/plain": [
       "{'aet': ['eat', 'tea', 'ate'], 'ant': ['tan', 'nat'], 'abt': ['bat']}"
      ]
     },
     "execution_count": 47,
     "metadata": {},
     "output_type": "execute_result"
    }
   ],
   "source": [
    "def anagram_group(str1):\n",
    "    dict1 = {}\n",
    "    for word in str1:\n",
    "        sorted_str = \"\".join(sorted(word))\n",
    "        if sorted_str not in dict1:\n",
    "            dict1[sorted_str] = [word]\n",
    "        else:\n",
    "            dict1[sorted_str].append(word)\n",
    "    output = []\n",
    "    for item in dict1.values():\n",
    "        output.append(item)\n",
    "    return dict1\n",
    "str1 = [\"eat\",\"tea\",\"tan\",\"ate\",\"nat\",\"bat\"]\n",
    "res = anagram_group(str1)\n",
    "res"
   ]
  },
  {
   "cell_type": "code",
   "execution_count": 45,
   "metadata": {},
   "outputs": [
    {
     "name": "stdout",
     "output_type": "stream",
     "text": [
      "{'aet': ['eat', 'tea', 'ate'], 'ant': ['tan', 'nat'], 'abt': ['bat']}\n"
     ]
    }
   ],
   "source": [
    "def group_anagrams(str1):\n",
    "    dict = {}\n",
    "    for word in str1:\n",
    "        sorted_word = \"\".join(sorted(word))\n",
    "\n",
    "        if sorted_word not in dict:\n",
    "            dict[sorted_word] = [word]\n",
    "        else:\n",
    "            dict[sorted_word].append(word)\n",
    "    \n",
    "    output = []\n",
    "    for item in dict.values():\n",
    "        output.append(item)\n",
    "    return dict\n",
    "\n",
    "str1 = [\"eat\",\"tea\",\"tan\",\"ate\",\"nat\",\"bat\"]\n",
    "res = group_anagrams(str1)\n",
    "print(res)"
   ]
  },
  {
   "cell_type": "code",
   "execution_count": 4,
   "metadata": {},
   "outputs": [
    {
     "data": {
      "text/plain": [
       "4"
      ]
     },
     "execution_count": 4,
     "metadata": {},
     "output_type": "execute_result"
    }
   ],
   "source": [
    "junior = {'SI 206':4, 'SI 310':4, 'BL 300':3, 'TO 313':3, 'BCOM 350':1, 'MO 300':3}\n",
    "x = junior['SI 206']\n",
    "x"
   ]
  },
  {
   "cell_type": "code",
   "execution_count": 16,
   "metadata": {},
   "outputs": [
    {
     "name": "stdout",
     "output_type": "stream",
     "text": [
      "{'a': 4, 'n': 2, 'g': 1, 'd': 1, 'i': 2, ' ': 1, 'b': 1, 'h': 1, 'y': 1}\n"
     ]
    }
   ],
   "source": [
    "x = \"angadi abhinay\"\n",
    "dict1 = {}\n",
    "for i in x:\n",
    "    if i in dict1:\n",
    "        dict1[i] += 1\n",
    "    else:\n",
    "        dict1[i] = 1\n",
    "print(dict1)"
   ]
  },
  {
   "cell_type": "code",
   "execution_count": 22,
   "metadata": {},
   "outputs": [
    {
     "name": "stdout",
     "output_type": "stream",
     "text": [
      "{'s': 8, 'a': 4, 'l': 6, 'y': 1, ' ': 7, 'e': 6, 'h': 3, 't': 2, 'o': 1, 'r': 1}\n",
      "s\n"
     ]
    }
   ],
   "source": [
    "x = \"sally sells sea shells at the sea shore\"\n",
    "dict = {}\n",
    "for i in x:\n",
    "    if i in dict:\n",
    "        dict[i] = dict[i] + 1\n",
    "    else:\n",
    "        dict[i] = 1\n",
    "print(dict)\n",
    "\n",
    "maximum = max(dict.values())\n",
    "for j in dict:\n",
    "    if maximum == dict[j]:\n",
    "        best_char = j\n",
    "print(best_char)"
   ]
  },
  {
   "cell_type": "code",
   "execution_count": 1,
   "metadata": {},
   "outputs": [
    {
     "name": "stdout",
     "output_type": "stream",
     "text": [
      "techie\n",
      "talkative\n",
      "tony stark\n",
      "53\n",
      "red\n"
     ]
    }
   ],
   "source": [
    "class ironman():\n",
    "    #attributes\n",
    "    a1 = 'techie'\n",
    "    a2 = 'talkative'\n",
    "    \n",
    "    #method\n",
    "    def init(self):\n",
    "        self.name = 'tony stark'\n",
    "        self.age = '53'\n",
    "        self.color = 'red'\n",
    "    def fun(self):\n",
    "        print(self.name)\n",
    "        print(self.age)\n",
    "        print(self.color)\n",
    "#object initialization\n",
    "abhi = ironman()\n",
    "\n",
    "#acessing variables and methods through object\n",
    "\n",
    "print(abhi.a1)\n",
    "print(abhi.a2)\n",
    "\n",
    "abhi.init()\n",
    "abhi.fun()"
   ]
  },
  {
   "cell_type": "code",
   "execution_count": 4,
   "metadata": {},
   "outputs": [
    {
     "name": "stdout",
     "output_type": "stream",
     "text": [
      "his name is : thor_odinson\n",
      "thor weapon is : mjlonir\n",
      "thor birth place is : asgard\n"
     ]
    }
   ],
   "source": [
    "class thor():\n",
    "    #no attributes\n",
    "    \n",
    "    #methods\n",
    "    def __init__(self,name,weapon,place):\n",
    "        self.name = name\n",
    "        self.weapon = weapon\n",
    "        self.place = place\n",
    "    def fun(self):\n",
    "        print(\"his name is :\",self.name)\n",
    "        print(\"thor weapon is :\",self.weapon)\n",
    "        print(\"thor birth place is :\",self.place)\n",
    "        \n",
    "#object initialization\n",
    "odin = thor('thor_odinson','mjlonir','asgard')\n",
    "\n",
    "#acessing variables and methods through objects\n",
    "odin.fun()"
   ]
  },
  {
   "cell_type": "code",
   "execution_count": 1,
   "metadata": {},
   "outputs": [
    {
     "data": {
      "text/plain": [
       "'a1b4c2a3d1'"
      ]
     },
     "execution_count": 1,
     "metadata": {},
     "output_type": "execute_result"
    }
   ],
   "source": [
    "def char_count(x):\n",
    "    count = 1\n",
    "    str1 = \"\"\n",
    "    for i in range(1,len(x)):\n",
    "        if x[i] == x[i-1]:\n",
    "            count = count + 1\n",
    "        else:\n",
    "            str1 = str1 + x[i-1] + str(count)\n",
    "            count = 1\n",
    "    return str1 + x[-1] + str(count)\n",
    "\n",
    "x = \"abbbbccaaad\"\n",
    "res = char_count(x)\n",
    "res"
   ]
  },
  {
   "cell_type": "code",
   "execution_count": 3,
   "metadata": {},
   "outputs": [
    {
     "name": "stdout",
     "output_type": "stream",
     "text": [
      "enter no of fib seq10\n",
      "0\n",
      "1\n",
      "1\n",
      "2\n",
      "3\n",
      "5\n",
      "8\n",
      "13\n",
      "21\n",
      "34\n",
      "55\n"
     ]
    }
   ],
   "source": [
    "n = int(input('enter no of fib seq')) \n",
    "fn = 0\n",
    "sn = 1\n",
    "print(fn)\n",
    "print(sn)\n",
    "    \n",
    "for i in range(1,n):\n",
    "    print(fn+sn)\n",
    "    fn , sn = sn , fn+sn"
   ]
  },
  {
   "cell_type": "code",
   "execution_count": 7,
   "metadata": {},
   "outputs": [
    {
     "name": "stdout",
     "output_type": "stream",
     "text": [
      "enter a num to check for fibb5\n",
      "2\n",
      "3\n",
      "5\n",
      "5 is a fibb num\n"
     ]
    }
   ],
   "source": [
    "n = int(input('enter a num to check for fibb'))\n",
    "fn = 0\n",
    "sn = 1\n",
    "res = 1\n",
    "if n == 0 or n ==1:\n",
    "    print(n,'is a fibonacci num')\n",
    "else:\n",
    "    while res < n:\n",
    "        fn = sn\n",
    "        sn = res \n",
    "        res = fn + sn\n",
    "        print(res)\n",
    "    if res == n:\n",
    "        print(n,'is a fibb num')\n",
    "    else:\n",
    "        print(n,'is not a fibb')"
   ]
  },
  {
   "cell_type": "code",
   "execution_count": 9,
   "metadata": {},
   "outputs": [
    {
     "data": {
      "text/plain": [
       "9"
      ]
     },
     "execution_count": 9,
     "metadata": {},
     "output_type": "execute_result"
    }
   ],
   "source": [
    "def cube_sum(n):\n",
    "    sum1 = 0\n",
    "    for i in range(0,n+1):\n",
    "        sum1 = sum1 + pow(i,3)\n",
    "    return sum1\n",
    "n = 2\n",
    "cube_sum(n)"
   ]
  },
  {
   "cell_type": "code",
   "execution_count": 13,
   "metadata": {},
   "outputs": [
    {
     "name": "stdout",
     "output_type": "stream",
     "text": [
      "enter a num2013\n",
      "2013 is not a leap\n"
     ]
    }
   ],
   "source": [
    "y = int(input('enter a num'))\n",
    "if y%400==0 and y%100==0:\n",
    "    print(y,'is a leap year')\n",
    "elif y%4==0 or y%100==0:\n",
    "    print(y,'is a leap')\n",
    "else:\n",
    "    print(y,'is not a leap')"
   ]
  },
  {
   "cell_type": "code",
   "execution_count": 15,
   "metadata": {},
   "outputs": [
    {
     "name": "stdout",
     "output_type": "stream",
     "text": [
      "enter a num434\n",
      "434 is a palindrome\n"
     ]
    }
   ],
   "source": [
    "num = int(input('enter a num'))\n",
    "temp = num\n",
    "res = 0\n",
    "while num > 0:\n",
    "    last = num%10\n",
    "    num = num//10\n",
    "    res = res*10 + last\n",
    "    \n",
    "if res == temp:\n",
    "    print(temp,'is a palindrome')\n",
    "else:\n",
    "    print(temp,'is not a palindrime')"
   ]
  },
  {
   "cell_type": "code",
   "execution_count": null,
   "metadata": {},
   "outputs": [],
   "source": [
    "num = int(input('enter a num'))\n",
    "temp = num\n",
    "res = 0\n",
    "while num > 0:\n",
    "    last = num%10\n",
    "    num = num//10\n",
    "    res = res + last**3\n",
    "    \n",
    "if temp == res:\n",
    "    print(temp,'is armstrong')\n",
    "else:\n",
    "    print(temp,'is not armstrong')"
   ]
  },
  {
   "cell_type": "code",
   "execution_count": 1,
   "metadata": {},
   "outputs": [
    {
     "data": {
      "text/plain": [
       "0"
      ]
     },
     "execution_count": 1,
     "metadata": {},
     "output_type": "execute_result"
    }
   ],
   "source": [
    "0%2"
   ]
  },
  {
   "cell_type": "code",
   "execution_count": 4,
   "metadata": {},
   "outputs": [
    {
     "data": {
      "text/plain": [
       "0.5"
      ]
     },
     "execution_count": 4,
     "metadata": {},
     "output_type": "execute_result"
    }
   ],
   "source": [
    "1/2"
   ]
  },
  {
   "cell_type": "code",
   "execution_count": 5,
   "metadata": {},
   "outputs": [
    {
     "data": {
      "text/plain": [
       "8"
      ]
     },
     "execution_count": 5,
     "metadata": {},
     "output_type": "execute_result"
    }
   ],
   "source": [
    "1<<3"
   ]
  },
  {
   "cell_type": "code",
   "execution_count": 6,
   "metadata": {},
   "outputs": [
    {
     "data": {
      "text/plain": [
       "16"
      ]
     },
     "execution_count": 6,
     "metadata": {},
     "output_type": "execute_result"
    }
   ],
   "source": [
    "4<<2"
   ]
  },
  {
   "cell_type": "code",
   "execution_count": 7,
   "metadata": {},
   "outputs": [
    {
     "data": {
      "text/plain": [
       "40"
      ]
     },
     "execution_count": 7,
     "metadata": {},
     "output_type": "execute_result"
    }
   ],
   "source": [
    "5<<3"
   ]
  },
  {
   "cell_type": "code",
   "execution_count": 10,
   "metadata": {},
   "outputs": [
    {
     "name": "stdout",
     "output_type": "stream",
     "text": [
      "enter num to check 4\n",
      "4 is a power of 2\n"
     ]
    }
   ],
   "source": [
    "n = int(input('enter num to check '))\n",
    "res = 0\n",
    "i = 1\n",
    "while n > 0:\n",
    "    res == 1<<i\n",
    "    print(n,'is a power of 2')\n",
    "    break\n",
    "    i = i + 1\n",
    "else:\n",
    "    print(n,'is not a power of 2')"
   ]
  },
  {
   "cell_type": "code",
   "execution_count": 15,
   "metadata": {},
   "outputs": [
    {
     "name": "stdout",
     "output_type": "stream",
     "text": [
      "enter start1\n",
      "enter ending10\n",
      "1\n",
      "4\n",
      "9\n"
     ]
    }
   ],
   "source": [
    "s1 = int(input('enter start'))\n",
    "s2 = int(input('enter ending'))\n",
    "while s1<s2:\n",
    "    for i in range(1,s1+1):\n",
    "        if i*i == s1:\n",
    "            print(s1)\n",
    "    s1 = s1 + 1\n",
    "        "
   ]
  },
  {
   "cell_type": "code",
   "execution_count": 22,
   "metadata": {},
   "outputs": [
    {
     "name": "stdout",
     "output_type": "stream",
     "text": [
      "enter num to check for perfect num6\n",
      "6 is a perfect num\n"
     ]
    }
   ],
   "source": [
    "n = int(input('enter num to check for perfect num'))\n",
    "sum1 = 0\n",
    "for i in range(1,n):\n",
    "    if n % i == 0:\n",
    "        sum1 = sum1 + i\n",
    "if n == sum1:\n",
    "    print(n,'is a perfect num')\n",
    "else:\n",
    "    print(n,'is not a perfect num')"
   ]
  },
  {
   "cell_type": "code",
   "execution_count": 26,
   "metadata": {},
   "outputs": [
    {
     "name": "stdout",
     "output_type": "stream",
     "text": [
      "enter a num5\n",
      "1\n",
      "2\n",
      "3\n",
      "4\n",
      "5\n",
      "[1, 2, 3, 4, 5]\n"
     ]
    }
   ],
   "source": [
    "arr = []\n",
    "n = int(input('enter a num'))\n",
    "for i in range(1,n+1):\n",
    "    x = int(input())\n",
    "    arr.append(x)\n",
    "print(arr)"
   ]
  },
  {
   "cell_type": "code",
   "execution_count": 29,
   "metadata": {},
   "outputs": [
    {
     "name": "stdout",
     "output_type": "stream",
     "text": [
      "1\n",
      "2\n",
      "3\n",
      "4\n",
      "5\n"
     ]
    }
   ],
   "source": [
    "x = [1,2,3,4,5]\n",
    "for i in range(0,len(x)):\n",
    "    print(x[i])"
   ]
  },
  {
   "cell_type": "code",
   "execution_count": 30,
   "metadata": {},
   "outputs": [
    {
     "name": "stdout",
     "output_type": "stream",
     "text": [
      "[[1, 2, 3], [4, 5, 6], [7, 8, 9]]\n"
     ]
    }
   ],
   "source": [
    "arr = [[1,2,3],[4,5,6],[7,8,9]]\n",
    "print(arr)"
   ]
  },
  {
   "cell_type": "code",
   "execution_count": 32,
   "metadata": {},
   "outputs": [
    {
     "name": "stdout",
     "output_type": "stream",
     "text": [
      "5\n"
     ]
    }
   ],
   "source": [
    "x = [1,2,3,4,5]\n",
    "count = 0\n",
    "for i in x:\n",
    "    count = count + 1\n",
    "print(count)"
   ]
  },
  {
   "cell_type": "code",
   "execution_count": 33,
   "metadata": {},
   "outputs": [
    {
     "name": "stdout",
     "output_type": "stream",
     "text": [
      "enter a num to check3\n",
      "3 is present in list\n"
     ]
    }
   ],
   "source": [
    "x = [1,2,3,4,5]\n",
    "n = int(input('enter a num to check'))\n",
    "for i in x:\n",
    "    if i == n:\n",
    "        print(n,'is present in list')"
   ]
  },
  {
   "cell_type": "code",
   "execution_count": 34,
   "metadata": {},
   "outputs": [
    {
     "name": "stdout",
     "output_type": "stream",
     "text": [
      "[5, 4, 3, 2, 1]\n"
     ]
    }
   ],
   "source": [
    "x = [1,2,3,4,5]\n",
    "rev = x[::-1]\n",
    "print(rev)"
   ]
  },
  {
   "cell_type": "code",
   "execution_count": 38,
   "metadata": {},
   "outputs": [
    {
     "name": "stdout",
     "output_type": "stream",
     "text": [
      "[5, 4, 3, 2, 1]\n"
     ]
    }
   ],
   "source": [
    "x = [1,2,3,4,5]\n",
    "rev = []\n",
    "for i in range(0,len(x)):\n",
    "    rev.insert(0,x[i])\n",
    "print(rev)\n",
    "    "
   ]
  },
  {
   "cell_type": "code",
   "execution_count": 43,
   "metadata": {},
   "outputs": [
    {
     "name": "stdout",
     "output_type": "stream",
     "text": [
      "[2, 4, 4, 5, 6, 6, 7, 22, 54, 83]\n",
      "2\n"
     ]
    }
   ],
   "source": [
    "x = [54,6,5,4,2,6,7,83,22,4]\n",
    "x.sort()\n",
    "print(x)\n",
    "min1 = x[0]\n",
    "for i in range(0,len(x)):\n",
    "    if x[i] < min1:\n",
    "        min1 = x[i]\n",
    "print(min1)"
   ]
  },
  {
   "cell_type": "code",
   "execution_count": 46,
   "metadata": {},
   "outputs": [
    {
     "name": "stdout",
     "output_type": "stream",
     "text": [
      "54\n"
     ]
    }
   ],
   "source": [
    "x = [54,6,5,4,2,6,7,83,22,4]\n",
    "max1 = x[0]\n",
    "max2 = x[0]\n",
    "for i in range(0,len(x)):\n",
    "    if x[i] > max1:\n",
    "        max1 = x[i]\n",
    "    elif x[i] > max2 and x[i] != max1:\n",
    "        max2 = x[i]\n",
    "print(max2)"
   ]
  },
  {
   "cell_type": "code",
   "execution_count": 57,
   "metadata": {},
   "outputs": [
    {
     "name": "stdout",
     "output_type": "stream",
     "text": [
      "enter no of ele3\n",
      "[94, 5, 3]\n"
     ]
    }
   ],
   "source": [
    "x = [3,5,2,94,1]\n",
    "x = list(x)\n",
    "n = int(input('enter no of ele'))\n",
    "reslist = []\n",
    "    \n",
    "for i in range(0,n):\n",
    "    max1 = x[0]\n",
    "    for j in range(0,len(x)):\n",
    "        if x[j] > max1:\n",
    "            max1 = x[j]\n",
    "    x.remove(max1)\n",
    "    reslist.append(max1)\n",
    "        \n",
    "print(reslist)     "
   ]
  },
  {
   "cell_type": "code",
   "execution_count": 68,
   "metadata": {},
   "outputs": [
    {
     "data": {
      "text/plain": [
       "2"
      ]
     },
     "execution_count": 68,
     "metadata": {},
     "output_type": "execute_result"
    }
   ],
   "source": [
    "z = [1,2,3,4,5]\n",
    "x = z.index(3)\n",
    "x"
   ]
  },
  {
   "cell_type": "code",
   "execution_count": 83,
   "metadata": {},
   "outputs": [
    {
     "name": "stdout",
     "output_type": "stream",
     "text": [
      "enter a val to check5\n",
      "(5, 'is present in list at index ', 1)\n"
     ]
    }
   ],
   "source": [
    "def search(x,val):\n",
    "    for i in range(0,len(x)):\n",
    "        if x[i] == val:\n",
    "            return val,'is present in list at index ',x.index(val)\n",
    "    return val,\"is not in list\"\n",
    "\n",
    "x = [3,5,2,94,1]\n",
    "val = int(input('enter a val to check'))\n",
    "res = search(x,val)\n",
    "print(res)"
   ]
  },
  {
   "cell_type": "code",
   "execution_count": 86,
   "metadata": {},
   "outputs": [
    {
     "name": "stdout",
     "output_type": "stream",
     "text": [
      "0\n",
      "1\n",
      "2\n",
      "3\n",
      "4\n",
      "5\n",
      "processing is enough\n",
      "7\n",
      "8\n",
      "9\n"
     ]
    }
   ],
   "source": [
    "for i in range(0,10):\n",
    "    if i==6:\n",
    "        print('processing is enough')\n",
    "        continue\n",
    "    print(i)\n",
    "        \n",
    "    "
   ]
  },
  {
   "cell_type": "code",
   "execution_count": 87,
   "metadata": {},
   "outputs": [
    {
     "name": "stdout",
     "output_type": "stream",
     "text": [
      "20\n",
      "10\n"
     ]
    }
   ],
   "source": [
    "x = 10\n",
    "y = 20\n",
    "\n",
    "temp = x\n",
    "x = y\n",
    "y = temp\n",
    "\n",
    "print(x)\n",
    "print(y)"
   ]
  },
  {
   "cell_type": "code",
   "execution_count": 88,
   "metadata": {},
   "outputs": [
    {
     "name": "stdout",
     "output_type": "stream",
     "text": [
      "20\n",
      "10\n"
     ]
    }
   ],
   "source": [
    "x = 10\n",
    "y = 20\n",
    "\n",
    "x = x+y\n",
    "y = x-y\n",
    "x = x-y\n",
    "print(x)\n",
    "print(y)"
   ]
  },
  {
   "cell_type": "code",
   "execution_count": 92,
   "metadata": {},
   "outputs": [
    {
     "name": "stdout",
     "output_type": "stream",
     "text": [
      "[3, 5, 1, 94, 2]\n"
     ]
    }
   ],
   "source": [
    "x = [3,5,2,94,1]\n",
    "temp = x[2]\n",
    "x[2] = x[-1]\n",
    "x[-1] = temp\n",
    "print(x)"
   ]
  },
  {
   "cell_type": "code",
   "execution_count": 98,
   "metadata": {},
   "outputs": [
    {
     "name": "stdout",
     "output_type": "stream",
     "text": [
      "[2, 1, 4, 3, 6, 5]\n"
     ]
    }
   ],
   "source": [
    "x = [1,2,3,4,5,6]\n",
    "for i in range(0,len(x)-1,2):\n",
    "    x[i] ,x[i+1] = x[i+1] ,x[i]\n",
    "print(x)"
   ]
  },
  {
   "cell_type": "code",
   "execution_count": 100,
   "metadata": {},
   "outputs": [
    {
     "name": "stdout",
     "output_type": "stream",
     "text": [
      "enter a stringam inevitable\n",
      "am inevitable is not a pangram\n"
     ]
    }
   ],
   "source": [
    "st = input('enter a string')\n",
    "all_alpha = \"abcdefghijklmnopqrstuvwxyz\"\n",
    "res = 1\n",
    "\n",
    "for char in all_alpha:\n",
    "    if char not in st:\n",
    "        res = 0\n",
    "if res == 1:\n",
    "    print(st,'is a pangram')\n",
    "else:\n",
    "    print(st,'is not a pangram')"
   ]
  },
  {
   "cell_type": "code",
   "execution_count": 103,
   "metadata": {},
   "outputs": [
    {
     "name": "stdout",
     "output_type": "stream",
     "text": [
      "agd\n"
     ]
    }
   ],
   "source": [
    "st1 = \"angadi\"\n",
    "st2 = \"\"\n",
    "for char in range(len(st1)):\n",
    "    if char%2 == 0:\n",
    "        st2 = st2 + st1[char]\n",
    "print(st2)\n",
    "        "
   ]
  },
  {
   "cell_type": "code",
   "execution_count": 104,
   "metadata": {},
   "outputs": [
    {
     "name": "stdout",
     "output_type": "stream",
     "text": [
      "!nd!m!n\n"
     ]
    }
   ],
   "source": [
    "st1 = \"andaman\"\n",
    "st2 = \"\"\n",
    "for i in range(len(st1)):\n",
    "    if st1[i] == \"a\":\n",
    "        st2 = st2 + \"!\"\n",
    "    else:\n",
    "        st2 = st2 + st1[i]\n",
    "print(st2)"
   ]
  },
  {
   "cell_type": "code",
   "execution_count": 110,
   "metadata": {},
   "outputs": [
    {
     "name": "stdout",
     "output_type": "stream",
     "text": [
      "i-am-iron-man\n"
     ]
    }
   ],
   "source": [
    "st1 = \"i am iron man\"\n",
    "st2 = ''\n",
    "for char in range(len(st1)):\n",
    "    if st1[char] == ' ':\n",
    "        st2 = st2 + \"-\"\n",
    "    else:\n",
    "        st2 = st2 + st1[char]\n",
    "print(st2)"
   ]
  },
  {
   "cell_type": "code",
   "execution_count": 118,
   "metadata": {},
   "outputs": [
    {
     "name": "stdout",
     "output_type": "stream",
     "text": [
      "1\n",
      "94\n",
      "2\n",
      "5\n",
      "3\n"
     ]
    }
   ],
   "source": [
    "x = [3,5,2,94,1]\n",
    "for i in range(len(x)-1,-1,-1):\n",
    "    print(x[i])"
   ]
  },
  {
   "cell_type": "code",
   "execution_count": 123,
   "metadata": {},
   "outputs": [
    {
     "name": "stdout",
     "output_type": "stream",
     "text": [
      "23\n",
      "3\n"
     ]
    }
   ],
   "source": [
    "s = \"avengers endgame finale\"\n",
    "c_count = 0\n",
    "w_count = 1\n",
    "for char in range(len(s)):\n",
    "    c_count = c_count + 1\n",
    "    if s[char] == \" \":\n",
    "        w_count = w_count + 1\n",
    "print(c_count)\n",
    "print(w_count)"
   ]
  },
  {
   "cell_type": "code",
   "execution_count": 129,
   "metadata": {},
   "outputs": [
    {
     "name": "stdout",
     "output_type": "stream",
     "text": [
      "['n']\n"
     ]
    }
   ],
   "source": [
    "st1 = \"pan\"\n",
    "st2 = \"gun\"\n",
    "res = []\n",
    "for i in range(len(st1)):\n",
    "    for j in range(len(st2)):\n",
    "        if st1[i] == st2[j]:\n",
    "            res.append(st1[i])\n",
    "print(res)"
   ]
  },
  {
   "cell_type": "code",
   "execution_count": 132,
   "metadata": {},
   "outputs": [
    {
     "name": "stdout",
     "output_type": "stream",
     "text": [
      "['p', 'a', 'g', 'u']\n"
     ]
    }
   ],
   "source": [
    "st1 = \"pan\"\n",
    "st2 = \"gun\"\n",
    "res = []\n",
    "for i in st1:\n",
    "    if i not in st2:\n",
    "        res.append(i)\n",
    "for j in st2:\n",
    "    if j not in st1:\n",
    "        res.append(j)\n",
    "print(res)"
   ]
  },
  {
   "cell_type": "code",
   "execution_count": 134,
   "metadata": {},
   "outputs": [
    {
     "name": "stdout",
     "output_type": "stream",
     "text": [
      "['mango', 'peach']\n"
     ]
    }
   ],
   "source": [
    "st1 = \"berry mango cherry\"\n",
    "st2 = \"berry peach cherry\"\n",
    "res = []\n",
    "for i in st1.split():\n",
    "    if i not in st2:\n",
    "        res.append(i)\n",
    "for j in st2.split():\n",
    "    if j not in st1:\n",
    "        res.append(j)\n",
    "print(res)"
   ]
  },
  {
   "cell_type": "code",
   "execution_count": 143,
   "metadata": {},
   "outputs": [
    {
     "name": "stdout",
     "output_type": "stream",
     "text": [
      "enter a string:ton\n",
      "enter a string:snt\n",
      "{'n', 's', 'o', 't'}\n"
     ]
    }
   ],
   "source": [
    "string1 = input(\"enter a string:\")\n",
    "string2 = input(\"enter a string:\")\n",
    "\n",
    "#total_char = string1 + string2\n",
    "#print(total_char)\n",
    "s1 = set(string1)\n",
    "s2 = set(string2)\n",
    "total_char = (s1 | s2)\n",
    "print(total_char)"
   ]
  },
  {
   "cell_type": "code",
   "execution_count": 145,
   "metadata": {},
   "outputs": [
    {
     "name": "stdout",
     "output_type": "stream",
     "text": [
      "['t', 'o', 'n', 'y', 'd', 'w']\n"
     ]
    }
   ],
   "source": [
    "s1 = \"tony\"\n",
    "s2 = \"downy\"\n",
    "res = []\n",
    "for char in s1:\n",
    "    if char not in res:\n",
    "        res.append(char)\n",
    "for char in s2:\n",
    "    if char not in res:\n",
    "        res.append(char)\n",
    "print(res)"
   ]
  },
  {
   "cell_type": "code",
   "execution_count": 14,
   "metadata": {},
   "outputs": [
    {
     "name": "stdout",
     "output_type": "stream",
     "text": [
      "jenny\n",
      "yennj\n"
     ]
    }
   ],
   "source": [
    "x = 'jenny'\n",
    "z = list(x)\n",
    "print(\"\".join(z))\n",
    "temp = z[0]\n",
    "z[0] = z[-1]\n",
    "z[-1] = temp\n",
    "print(\"\".join(z))"
   ]
  },
  {
   "cell_type": "code",
   "execution_count": 16,
   "metadata": {},
   "outputs": [
    {
     "name": "stdout",
     "output_type": "stream",
     "text": [
      "enter a word to count:I\n",
      "2\n"
     ]
    }
   ],
   "source": [
    "string = \"I am programmer. I am student.\"\n",
    "word = input(\"enter a word to count:\")\n",
    "count = 0\n",
    "\n",
    "words = string.split()\n",
    "for w in words:\n",
    "    if w == word:\n",
    "        count = count + 1\n",
    "print(count)"
   ]
  },
  {
   "cell_type": "code",
   "execution_count": 17,
   "metadata": {},
   "outputs": [
    {
     "name": "stdout",
     "output_type": "stream",
     "text": [
      "{'the': 2, 'quick': 1, 'brown': 1, 'fox': 1, 'jumps': 1, 'over': 1, 'lazy': 1, 'dog': 1}\n"
     ]
    }
   ],
   "source": [
    "str1 = \"the quick brown fox jumps over the lazy dog\"\n",
    "counts = dict()\n",
    "words = str1.split()\n",
    "\n",
    "for word in words:\n",
    "    if word in counts:\n",
    "        counts[word] = counts[word] + 1\n",
    "    else:\n",
    "        counts[word] = 1\n",
    "print(counts)"
   ]
  },
  {
   "cell_type": "code",
   "execution_count": 21,
   "metadata": {},
   "outputs": [
    {
     "name": "stdout",
     "output_type": "stream",
     "text": [
      "{'m': 1, 'i': 5, 's': 3, 'p': 1}\n"
     ]
    }
   ],
   "source": [
    "string = \"missisiipi\"\n",
    "counts = dict()\n",
    "char = list(string)\n",
    "\n",
    "for i in char:\n",
    "    if i in counts:\n",
    "        counts[i] += 1\n",
    "    else:\n",
    "        counts[i] = 1\n",
    "print(counts)\n"
   ]
  },
  {
   "cell_type": "code",
   "execution_count": 3,
   "metadata": {},
   "outputs": [
    {
     "data": {
      "text/plain": [
       "{'abhi': ['sanju', 'maruthi']}"
      ]
     },
     "execution_count": 3,
     "metadata": {},
     "output_type": "execute_result"
    }
   ],
   "source": [
    "d1 = {}\n",
    "d1['abhi'] = ['sanju','maruthi']\n",
    "d1"
   ]
  },
  {
   "cell_type": "code",
   "execution_count": 15,
   "metadata": {},
   "outputs": [
    {
     "name": "stdout",
     "output_type": "stream",
     "text": [
      "{'aet': ['eat', 'tea', 'ate'], 'ant': ['tan', 'nat'], 'abt': ['bat']}\n"
     ]
    }
   ],
   "source": [
    "def group_anagrams(str1):\n",
    "    dict1= {}\n",
    "    for word in str1:\n",
    "        sorted_str1 = \"\".join(sorted(word))\n",
    "        \n",
    "        if sorted_str1 in dict1:\n",
    "            dict1[sorted_str1].append(word)\n",
    "        else:\n",
    "            dict1[sorted_str1] = [word]\n",
    "    return dict1\n",
    "\n",
    "str1 = [\"eat\",\"tea\",\"tan\",\"ate\",\"nat\",\"bat\"]\n",
    "res = group_anagrams(str1)\n",
    "print(res)"
   ]
  },
  {
   "cell_type": "code",
   "execution_count": 36,
   "metadata": {},
   "outputs": [
    {
     "name": "stdout",
     "output_type": "stream",
     "text": [
      "a1b2c1\n"
     ]
    }
   ],
   "source": [
    "x = \"abbc\"\n",
    "count = 1\n",
    "str1 = \"\"\n",
    "\n",
    "for i in range(1,len(x)):\n",
    "    if x[i] == x[i-1]:\n",
    "        count = count + 1\n",
    "    else:\n",
    "        str1 = str1 + x[i-1]+str(count)\n",
    "        count = 1\n",
    "str1 = str1 + x[-1] + str(count)\n",
    "print(str1)\n",
    "        "
   ]
  },
  {
   "cell_type": "code",
   "execution_count": 11,
   "metadata": {},
   "outputs": [
    {
     "name": "stdout",
     "output_type": "stream",
     "text": [
      "yanihba"
     ]
    }
   ],
   "source": [
    "str1 = \"abhinay\"\n",
    "str2 = \"\"\n",
    "for char in range(len(str1)-1,-1,-1):\n",
    "    print(str1[char],end = \"\")"
   ]
  },
  {
   "cell_type": "code",
   "execution_count": 32,
   "metadata": {},
   "outputs": [
    {
     "name": "stdout",
     "output_type": "stream",
     "text": [
      "yanihba\n"
     ]
    }
   ],
   "source": [
    "str1 = \"abhinay\"\n",
    "rev = \"\".join(reversed(str1))\n",
    "print(rev)"
   ]
  },
  {
   "cell_type": "code",
   "execution_count": 36,
   "metadata": {},
   "outputs": [
    {
     "name": "stdout",
     "output_type": "stream",
     "text": [
      "ago hours 3 Checkpoint Last "
     ]
    }
   ],
   "source": [
    "st = \"Last Checkpoint 3 hours ago\"\n",
    "words = st.split()\n",
    "for i in range(len(words)-1,-1,-1):\n",
    "    print(words[i],end = \" \")\n",
    "    "
   ]
  },
  {
   "cell_type": "code",
   "execution_count": 8,
   "metadata": {},
   "outputs": [
    {
     "name": "stdout",
     "output_type": "stream",
     "text": [
      "enter no of rows2\n",
      "enter no of columns2\n",
      "1\n",
      "2\n",
      "3\n",
      "4\n",
      "1 2 \n",
      "3 4 \n"
     ]
    },
    {
     "data": {
      "text/plain": [
       "array([[1, 2],\n",
       "       [3, 4]])"
      ]
     },
     "execution_count": 8,
     "metadata": {},
     "output_type": "execute_result"
    }
   ],
   "source": [
    "import numpy as np\n",
    "\n",
    "r = int(input('enter no of rows'))\n",
    "c = int(input('enter no of columns'))\n",
    "matrix = []\n",
    "\n",
    "for i in range(r):\n",
    "    a = []\n",
    "    for j in range(c):\n",
    "        a.append(int(input()))\n",
    "    matrix.append(a)\n",
    "\n",
    "for i in range(r):\n",
    "    for j in range(c):\n",
    "        print(matrix[i][j],end = \" \")\n",
    "    print()\n",
    "x = np.array(matrix)\n",
    "x"
   ]
  },
  {
   "cell_type": "markdown",
   "metadata": {},
   "source": []
  },
  {
   "cell_type": "code",
   "execution_count": 10,
   "metadata": {},
   "outputs": [
    {
     "name": "stdout",
     "output_type": "stream",
     "text": [
      "aaiaia\n",
      "6\n"
     ]
    }
   ],
   "source": [
    "x = \"angadi abhinay\"\n",
    "vowels = \"aeiou\"\n",
    "res = \"\"\n",
    "count = 0\n",
    "for char in x:\n",
    "    if char in vowels:\n",
    "        res = res + char\n",
    "        count = count + 1\n",
    "print(res)\n",
    "print(count)"
   ]
  },
  {
   "cell_type": "code",
   "execution_count": 1,
   "metadata": {},
   "outputs": [
    {
     "name": "stdout",
     "output_type": "stream",
     "text": [
      "16\n"
     ]
    }
   ],
   "source": [
    "x = lambda x:x*x\n",
    "print(x(4))"
   ]
  },
  {
   "cell_type": "code",
   "execution_count": 1,
   "metadata": {},
   "outputs": [
    {
     "name": "stdout",
     "output_type": "stream",
     "text": [
      "conda\n"
     ]
    },
    {
     "ename": "ZeroDivisionError",
     "evalue": "division by zero",
     "output_type": "error",
     "traceback": [
      "\u001b[0;31m---------------------------------------------------------------------------\u001b[0m",
      "\u001b[0;31mZeroDivisionError\u001b[0m                         Traceback (most recent call last)",
      "\u001b[0;32m<ipython-input-1-ab8f83a8fa1f>\u001b[0m in \u001b[0;36m<module>\u001b[0;34m\u001b[0m\n\u001b[1;32m      1\u001b[0m \u001b[0mprint\u001b[0m\u001b[0;34m(\u001b[0m\u001b[0;34m\"conda\"\u001b[0m\u001b[0;34m)\u001b[0m\u001b[0;34m\u001b[0m\u001b[0;34m\u001b[0m\u001b[0m\n\u001b[0;32m----> 2\u001b[0;31m \u001b[0mprint\u001b[0m\u001b[0;34m(\u001b[0m\u001b[0;36m10\u001b[0m\u001b[0;34m/\u001b[0m\u001b[0;36m0\u001b[0m\u001b[0;34m)\u001b[0m\u001b[0;34m\u001b[0m\u001b[0;34m\u001b[0m\u001b[0m\n\u001b[0m\u001b[1;32m      3\u001b[0m \u001b[0mprint\u001b[0m\u001b[0;34m(\u001b[0m\u001b[0;34m\"danda\"\u001b[0m\u001b[0;34m)\u001b[0m\u001b[0;34m\u001b[0m\u001b[0;34m\u001b[0m\u001b[0m\n",
      "\u001b[0;31mZeroDivisionError\u001b[0m: division by zero"
     ]
    }
   ],
   "source": [
    "print(\"conda\")\n",
    "print(10/0)\n",
    "print(\"danda\")"
   ]
  },
  {
   "cell_type": "code",
   "execution_count": 8,
   "metadata": {},
   "outputs": [
    {
     "name": "stdout",
     "output_type": "stream",
     "text": [
      "enter no of rows2\n",
      "enter no of cols3\n",
      "1\n",
      "2\n",
      "3\n",
      "4\n",
      "5\n",
      "6\n",
      "1 2 3 \n",
      "4 5 6 \n"
     ]
    }
   ],
   "source": [
    "rows = int(input('enter no of rows'))\n",
    "cols = int(input('enter no of cols'))\n",
    "matrix = []\n",
    "\n",
    "for i in range(rows):\n",
    "    a = []\n",
    "    for j in range(cols):\n",
    "        a.append(int(input()))\n",
    "    matrix.append(a)\n",
    "                          \n",
    "for i in range(rows):\n",
    "    for j in range(cols):\n",
    "        print(matrix[i][j],end=\" \")\n",
    "    print()"
   ]
  },
  {
   "cell_type": "code",
   "execution_count": 2,
   "metadata": {},
   "outputs": [
    {
     "name": "stdout",
     "output_type": "stream",
     "text": [
      "enter upto which num u want sum of squares3\n",
      "14\n"
     ]
    }
   ],
   "source": [
    "n = int(input('enter upto which num u want sum of squares'))\n",
    "sum = 0\n",
    "for i in range(1,n+1):\n",
    "    sum = sum + i**2\n",
    "print(sum)"
   ]
  },
  {
   "cell_type": "code",
   "execution_count": 4,
   "metadata": {},
   "outputs": [
    {
     "data": {
      "text/plain": [
       "1"
      ]
     },
     "execution_count": 4,
     "metadata": {},
     "output_type": "execute_result"
    }
   ],
   "source": [
    "5%2"
   ]
  },
  {
   "cell_type": "code",
   "execution_count": 11,
   "metadata": {},
   "outputs": [
    {
     "name": "stdout",
     "output_type": "stream",
     "text": [
      "enter a number143\n",
      "3\n"
     ]
    }
   ],
   "source": [
    "n = int(input('enter a number'))\n",
    "count = 0\n",
    "for i in str(n):\n",
    "    count = count + 1\n",
    "print(count)"
   ]
  },
  {
   "cell_type": "code",
   "execution_count": 14,
   "metadata": {},
   "outputs": [
    {
     "name": "stdout",
     "output_type": "stream",
     "text": [
      "<class 'int'>\n"
     ]
    }
   ],
   "source": [
    "x = int(10)\n",
    "print(type(x))"
   ]
  },
  {
   "cell_type": "code",
   "execution_count": 1,
   "metadata": {},
   "outputs": [
    {
     "name": "stdout",
     "output_type": "stream",
     "text": [
      "enter no of terms10\n",
      "0\n",
      "1\n",
      "1\n",
      "2\n",
      "3\n",
      "5\n",
      "8\n",
      "13\n",
      "21\n",
      "34\n",
      "55\n"
     ]
    }
   ],
   "source": [
    "n = int(input(\"enter no of terms\"))\n",
    "fn = 0\n",
    "sn = 1\n",
    "print(fn)\n",
    "print(sn)\n",
    "for i in range(1,n):\n",
    "    print(fn+sn)\n",
    "    fn, sn  = sn, fn+sn\n",
    "    "
   ]
  },
  {
   "cell_type": "code",
   "execution_count": 4,
   "metadata": {},
   "outputs": [
    {
     "name": "stdout",
     "output_type": "stream",
     "text": [
      "enter no to check21\n",
      "0\n",
      "1\n",
      "1\n",
      "2\n",
      "3\n",
      "5\n",
      "8\n",
      "13\n",
      "it is a fibonacci\n"
     ]
    }
   ],
   "source": [
    "n = int(input(\"enter no to check\"))\n",
    "fn = 0\n",
    "sn = 1\n",
    "print(fn)\n",
    "print(sn)\n",
    "res = 1\n",
    "if n == 0 or n == 1:\n",
    "    print('it is a fibonacci')\n",
    "else:\n",
    "    while res<n:\n",
    "        print(fn+sn)\n",
    "        fn = sn\n",
    "        sn = res\n",
    "        res = fn + sn\n",
    "    if n == res:\n",
    "        print(\"it is a fibonacci\")\n",
    "    else:\n",
    "        print(\"it is not a fibonacci\")"
   ]
  },
  {
   "cell_type": "code",
   "execution_count": 6,
   "metadata": {},
   "outputs": [
    {
     "name": "stdout",
     "output_type": "stream",
     "text": [
      "er=nter no  of termas3\n",
      "1\n",
      "2\n",
      "3\n",
      "[1, 2, 3]\n"
     ]
    }
   ],
   "source": [
    "n = int(input(\"er=nter no  of termas\"))\n",
    "arr = []\n",
    "for i in range(0,n):\n",
    "    arr.append(int(input()))\n",
    "print(arr)"
   ]
  },
  {
   "cell_type": "code",
   "execution_count": 11,
   "metadata": {},
   "outputs": [
    {
     "name": "stdout",
     "output_type": "stream",
     "text": [
      "enter no of rows2\n",
      "enter no of cols2\n",
      "1\n",
      "2\n",
      "1\n",
      "2\n",
      "elements in matrix form\n",
      "1 2 \n",
      "1 2 \n"
     ]
    }
   ],
   "source": [
    "rows = int(input(\"enter no of rows\"))\n",
    "col = int(input(\"enter no of cols\"))\n",
    "matrix = []\n",
    "\n",
    "for i in range(rows):\n",
    "    a = []\n",
    "    for i in range(col):\n",
    "        a.append(int(input()))\n",
    "    matrix.append(a)\n",
    "\n",
    "print(\"elements in matrix form\")\n",
    "for i in range(rows):\n",
    "    for j in range(col):\n",
    "        print(matrix[i][j],end = \" \")\n",
    "    print()"
   ]
  },
  {
   "cell_type": "code",
   "execution_count": 12,
   "metadata": {},
   "outputs": [
    {
     "name": "stdout",
     "output_type": "stream",
     "text": [
      "[[1, 2, 3], [4, 5, 6], [7, 8, 9]]\n"
     ]
    }
   ],
   "source": [
    "arr = [[1,2,3],[4,5,6],[7,8,9]]\n",
    "print(arr)"
   ]
  },
  {
   "cell_type": "code",
   "execution_count": 15,
   "metadata": {},
   "outputs": [
    {
     "name": "stdout",
     "output_type": "stream",
     "text": [
      "10\n"
     ]
    }
   ],
   "source": [
    "arr = [10, 324, 45, 90, 98]\n",
    "max = arr[0]\n",
    "for i in range(len(arr)):\n",
    "    if arr[i] < max:\n",
    "        max = arr[i]\n",
    "print(max)"
   ]
  },
  {
   "cell_type": "code",
   "execution_count": 18,
   "metadata": {},
   "outputs": [
    {
     "name": "stdout",
     "output_type": "stream",
     "text": [
      "enter num to rotate3\n",
      "[90, 98, 10, 324, 45]\n",
      "None\n"
     ]
    }
   ],
   "source": [
    "def rotate(x,n,d):\n",
    "    x[:] = arr[d:n] + arr[0:d]\n",
    "    print(x)\n",
    "\n",
    "arr = [10, 324, 45, 90, 98]\n",
    "n = len(arr)\n",
    "d = int(input(\"enter num to rotate\"))\n",
    "res = rotate(arr,n,d)\n",
    "print(res)"
   ]
  },
  {
   "cell_type": "code",
   "execution_count": 25,
   "metadata": {},
   "outputs": [
    {
     "name": "stdout",
     "output_type": "stream",
     "text": [
      "[[1 2 3]\n",
      " [4 5 6]\n",
      " [7 8 9]]\n",
      "6 15 24 12 15 18 "
     ]
    }
   ],
   "source": [
    "import numpy as np\n",
    "\n",
    "two_dim = np.array([[1,2,3],[4,5,6],[7,8,9]])\n",
    "print(two_dim)\n",
    "\n",
    "row_sum = 0\n",
    "col_sum = 0\n",
    "\n",
    "for i in range(len(two_dim)):\n",
    "    for j in range(len(two_dim)):\n",
    "        row_sum = row_sum + two_dim[i][j]\n",
    "    print(row_sum,end = \" \")\n",
    "    row_sum = 0\n",
    "\n",
    "for j in range(len(two_dim)):\n",
    "    for i in range(len(two_dim)):\n",
    "        col_sum = col_sum + two_dim[i][j]\n",
    "    print(col_sum,end = ' ')\n",
    "    col_sum = 0"
   ]
  },
  {
   "cell_type": "code",
   "execution_count": 30,
   "metadata": {},
   "outputs": [
    {
     "name": "stdout",
     "output_type": "stream",
     "text": [
      "[[1 2]\n",
      " [3 1]]\n",
      "[[2]\n",
      " [4]]\n",
      "[10]\n",
      "[10]\n"
     ]
    }
   ],
   "source": [
    "import numpy as np\n",
    "\n",
    "m1 = np.array([[1,2],[3,1]])\n",
    "m2 = np.array([[2],[4]])\n",
    "print(m1)\n",
    "print(m2)\n",
    "\n",
    "res = [[0],[0]]\n",
    "\n",
    "\n",
    "for i in range(len(m1)):\n",
    "    for j in range(len(m2[0])):\n",
    "        for k in range(len(m2)):\n",
    "            res[i][j] = res[i][j] + m1[i][k] * m2[k][j]\n",
    "for r in res:\n",
    "    print(r)\n",
    "        \n"
   ]
  },
  {
   "cell_type": "code",
   "execution_count": 40,
   "metadata": {},
   "outputs": [
    {
     "name": "stdout",
     "output_type": "stream",
     "text": [
      "[[1 2 3]\n",
      " [4 5 6]\n",
      " [7 8 9]]\n",
      "1 4 7 \n",
      "2 5 8 \n",
      "3 6 9 \n"
     ]
    }
   ],
   "source": [
    "import numpy as np\n",
    "\n",
    "a = np.array([[1,2,3],[4,5,6],[7,8,9]])\n",
    "print(a)\n",
    "res = [[0,0,0],[0,0,0],[0,0,0]]\n",
    "\n",
    "\n",
    "for i in range(len(a)):\n",
    "    for j in range(len(a)):\n",
    "        res[j][i] = a[i][j]\n",
    "for i in range(len(res)):\n",
    "    for j in range(len(res)):\n",
    "        print(res[i][j],end = \" \")\n",
    "    print()"
   ]
  },
  {
   "cell_type": "code",
   "execution_count": 46,
   "metadata": {},
   "outputs": [
    {
     "name": "stdout",
     "output_type": "stream",
     "text": [
      "enter elemrnts with space\n",
      "1 2 3 4 5\n",
      "[1, 2, 3, 4, 5]\n"
     ]
    }
   ],
   "source": [
    "print(\"enter elemrnts with space\")\n",
    "x = list(map(int,input().split(\" \")))\n",
    "print(x)"
   ]
  },
  {
   "cell_type": "code",
   "execution_count": 52,
   "metadata": {},
   "outputs": [
    {
     "name": "stdout",
     "output_type": "stream",
     "text": [
      "[5, 4, 3, 2, 1]\n"
     ]
    }
   ],
   "source": [
    "l = [1,2,3,4,5]\n",
    "x = []\n",
    "for i in range(1,len(l)+1):\n",
    "    x.insert(0,i)\n",
    "print(x)\n",
    "    "
   ]
  },
  {
   "cell_type": "code",
   "execution_count": 55,
   "metadata": {},
   "outputs": [
    {
     "name": "stdout",
     "output_type": "stream",
     "text": [
      "[1, 2, 3, 4, 5]\n"
     ]
    }
   ],
   "source": [
    "z = [5,4,3,2,1]\n",
    "arr = [x for x in reversed(z)]\n",
    "print(arr)"
   ]
  },
  {
   "cell_type": "code",
   "execution_count": 59,
   "metadata": {},
   "outputs": [
    {
     "name": "stdout",
     "output_type": "stream",
     "text": [
      "[1, 2, 3, 4, 5]\n"
     ]
    }
   ],
   "source": [
    "y = [5, 4, 3, 2, 1]\n",
    "y.reverse()\n",
    "print(y)1"
   ]
  },
  {
   "cell_type": "code",
   "execution_count": 65,
   "metadata": {},
   "outputs": [
    {
     "name": "stdout",
     "output_type": "stream",
     "text": [
      "enter no of ele2\n",
      "[34, 23]\n"
     ]
    }
   ],
   "source": [
    "x = [23,5,6,7,34,1]\n",
    "n = int(input('enter no of ele'))\n",
    "res = []\n",
    "\n",
    "for i in range(0,n):\n",
    "    max1 = x[0]\n",
    "    for j in range(len(x)):\n",
    "        if x[j] > max1:\n",
    "            max1 = x[j]\n",
    "    x.remove(max1)\n",
    "    res.append(max1)\n",
    "print(res)\n",
    "        \n",
    "\n"
   ]
  },
  {
   "cell_type": "code",
   "execution_count": 71,
   "metadata": {},
   "outputs": [
    {
     "name": "stdout",
     "output_type": "stream",
     "text": [
      "enter a num to search3\n",
      "('ele is present at index', 2)\n"
     ]
    }
   ],
   "source": [
    "def linear(arr,n):\n",
    "    for i in range(len(arr)):\n",
    "        if i == n:\n",
    "            return(\"ele is present at index\",arr.index(n))\n",
    "    return \"ele not present in arr\"\n",
    "            \n",
    "arr = [1,2,3,4,5]\n",
    "n = int(input(\"enter a num to search\"))\n",
    "res = linear(arr,n)\n",
    "print(res)"
   ]
  },
  {
   "cell_type": "code",
   "execution_count": 85,
   "metadata": {},
   "outputs": [
    {
     "name": "stdout",
     "output_type": "stream",
     "text": [
      "enter ele to search56\n",
      "ele is present\n",
      "ele is present\n",
      "ele is present\n",
      "ele is present\n",
      "ele is present\n"
     ]
    },
    {
     "data": {
      "text/plain": [
       "'ele is not present'"
      ]
     },
     "execution_count": 85,
     "metadata": {},
     "output_type": "execute_result"
    }
   ],
   "source": [
    "def binary(arr,n):\n",
    "    low = 0\n",
    "    high = len(arr)\n",
    "    \n",
    "    for i in arr:\n",
    "        mid = (low+high)//2\n",
    "        if arr[mid] == n:\n",
    "            print(\"ele is present\")\n",
    "        elif arr[mid] > n:\n",
    "            low = mid + 1\n",
    "        else:\n",
    "            high = mid - 1\n",
    "    return \"ele is not present\"\n",
    "arr = [23,56,78,34,5,2]\n",
    "n = int(input(\"enter ele to search\"))\n",
    "binary(arr,n)\n"
   ]
  },
  {
   "cell_type": "code",
   "execution_count": 86,
   "metadata": {},
   "outputs": [
    {
     "name": "stdout",
     "output_type": "stream",
     "text": [
      "[2, 5, 23, 34, 56, 78]\n"
     ]
    }
   ],
   "source": [
    "x = [23,56,78,34,5,2]\n",
    "\n",
    "for i in range(len(x)-1):\n",
    "    for j in range(len(x)-1):\n",
    "        if x[j] > x[j+1]:\n",
    "            temp = x[j]\n",
    "            x[j] = x[j+1]\n",
    "            x[j+1] = temp\n",
    "print(x)"
   ]
  },
  {
   "cell_type": "code",
   "execution_count": 98,
   "metadata": {},
   "outputs": [
    {
     "name": "stdout",
     "output_type": "stream",
     "text": [
      "[2, 5, 23, 34, 56, 78]\n"
     ]
    }
   ],
   "source": [
    "x = [23,56,78,34,5,2]\n",
    "for i in range(len(x)-1):\n",
    "    min_ind = i\n",
    "    for j in range(i+1,len(x)):\n",
    "        if x[j] < x[min_ind]:\n",
    "            min_ind = j\n",
    "    if x[i] != x[min_ind]:\n",
    "        temp = x[i]\n",
    "        x[i] = x[min_ind]\n",
    "        x[min_ind] = temp\n",
    "print(x)"
   ]
  },
  {
   "cell_type": "code",
   "execution_count": 108,
   "metadata": {},
   "outputs": [
    {
     "name": "stdout",
     "output_type": "stream",
     "text": [
      "[2, 5, 23, 34, 56, 78]\n"
     ]
    }
   ],
   "source": [
    "def insertion(x):\n",
    "    for i in range(1,len(x)):\n",
    "        curr_ele = x[i]\n",
    "        pos = i\n",
    "        \n",
    "        while curr_ele < x[pos-1] and pos>0:\n",
    "            x[pos] = x[pos-1]\n",
    "            pos = pos -1\n",
    "        x[pos] = curr_ele\n",
    "\n",
    "x = [23,56,78,34,5,2]\n",
    "insertion(x)\n",
    "print(x)"
   ]
  },
  {
   "cell_type": "code",
   "execution_count": 122,
   "metadata": {},
   "outputs": [
    {
     "name": "stdout",
     "output_type": "stream",
     "text": [
      "SI 206 - 4\n",
      "SI 310 - 4\n",
      "BL 300 - 3\n",
      "TO 313 - 3\n",
      "BCOM 350 - 1\n",
      "MO 300 - 3\n"
     ]
    }
   ],
   "source": [
    "junior = {'SI 206':4, 'SI 310':4, 'BL 300':3, 'TO 313':3, 'BCOM 350':1, 'MO 300':3}\n",
    "for key,value in junior.items():\n",
    "    print(key,\"-\",value)"
   ]
  },
  {
   "cell_type": "code",
   "execution_count": 125,
   "metadata": {},
   "outputs": [
    {
     "name": "stdout",
     "output_type": "stream",
     "text": [
      "{'a': 3, 'n': 2, 'g': 1, 'd': 1, 'i': 2, '@': 1, 'b': 1, 'h': 1, 'y': 1}\n"
     ]
    }
   ],
   "source": [
    "# Create a dictionary, freq, that displays each character in string str1 as the key and its frequency as the value\n",
    "\n",
    "str1 = \"angadi@bhinay\"\n",
    "freq = {}\n",
    "for char in str1:\n",
    "    if char not in freq:\n",
    "        freq[char] = 0\n",
    "    freq[char] = freq[char] + 1\n",
    "print(freq)"
   ]
  },
  {
   "cell_type": "code",
   "execution_count": 148,
   "metadata": {},
   "outputs": [
    {
     "name": "stdout",
     "output_type": "stream",
     "text": [
      "{'s': 8, 'a': 3, 'l': 6, 'y': 2, ' ': 7, 'e': 6, 'h': 3, 'b': 1, 't': 1, 'o': 1, 'r': 1}\n"
     ]
    },
    {
     "ename": "TypeError",
     "evalue": "'int' object is not callable",
     "output_type": "error",
     "traceback": [
      "\u001b[0;31m---------------------------------------------------------------------------\u001b[0m",
      "\u001b[0;31mTypeError\u001b[0m                                 Traceback (most recent call last)",
      "\u001b[0;32m<ipython-input-148-2d610112a602>\u001b[0m in \u001b[0;36m<module>\u001b[0;34m\u001b[0m\n\u001b[1;32m      6\u001b[0m     \u001b[0mcharacters\u001b[0m\u001b[0;34m[\u001b[0m\u001b[0mi\u001b[0m\u001b[0;34m]\u001b[0m \u001b[0;34m+=\u001b[0m \u001b[0;36m1\u001b[0m\u001b[0;34m\u001b[0m\u001b[0;34m\u001b[0m\u001b[0m\n\u001b[1;32m      7\u001b[0m \u001b[0mprint\u001b[0m\u001b[0;34m(\u001b[0m\u001b[0mcharacters\u001b[0m\u001b[0;34m)\u001b[0m\u001b[0;34m\u001b[0m\u001b[0;34m\u001b[0m\u001b[0m\n\u001b[0;32m----> 8\u001b[0;31m \u001b[0mmaximum\u001b[0m \u001b[0;34m=\u001b[0m \u001b[0mmax\u001b[0m\u001b[0;34m(\u001b[0m\u001b[0mcharacters\u001b[0m\u001b[0;34m.\u001b[0m\u001b[0mvalues\u001b[0m\u001b[0;34m(\u001b[0m\u001b[0;34m)\u001b[0m\u001b[0;34m)\u001b[0m\u001b[0;34m\u001b[0m\u001b[0;34m\u001b[0m\u001b[0m\n\u001b[0m\u001b[1;32m      9\u001b[0m \u001b[0;32mfor\u001b[0m \u001b[0mi\u001b[0m \u001b[0;32min\u001b[0m \u001b[0mcharacters\u001b[0m\u001b[0;34m:\u001b[0m\u001b[0;34m\u001b[0m\u001b[0;34m\u001b[0m\u001b[0m\n\u001b[1;32m     10\u001b[0m         \u001b[0;32mif\u001b[0m \u001b[0mmaximum\u001b[0m \u001b[0;34m==\u001b[0m \u001b[0mcharacters\u001b[0m\u001b[0;34m[\u001b[0m\u001b[0mi\u001b[0m\u001b[0;34m]\u001b[0m\u001b[0;34m:\u001b[0m\u001b[0;34m\u001b[0m\u001b[0;34m\u001b[0m\u001b[0m\n",
      "\u001b[0;31mTypeError\u001b[0m: 'int' object is not callable"
     ]
    }
   ],
   "source": [
    "sally = \"sally sells sea shells by the sea shore\"\n",
    "characters = {}\n",
    "for i in sally:\n",
    "    if i not in characters:\n",
    "        characters[i] = 0\n",
    "    characters[i] += 1\n",
    "print(characters)\n",
    "maximum = max(characters.values())\n",
    "for i in characters:\n",
    "        if maximum == characters[i]:\n",
    "            best_char = i\n",
    "print(\"most frequency letter:\")\n",
    "print(best_char)"
   ]
  },
  {
   "cell_type": "code",
   "execution_count": 149,
   "metadata": {},
   "outputs": [
    {
     "name": "stdout",
     "output_type": "stream",
     "text": [
      "[2, 4, 6, 8]\n"
     ]
    }
   ],
   "source": [
    "x = [i for i in range(1,10) if i%2==0]\n",
    "print(x)"
   ]
  },
  {
   "cell_type": "code",
   "execution_count": 150,
   "metadata": {},
   "outputs": [
    {
     "name": "stdout",
     "output_type": "stream",
     "text": [
      "Counter({'a': 4, 'n': 2, 'i': 2, 'g': 1, 'd': 1, 'b': 1, 'h': 1, 'y': 1})\n"
     ]
    }
   ],
   "source": [
    "import collections\n",
    "\n",
    "counts = collections.Counter(\"angadiabhinay\")\n",
    "print(counts)"
   ]
  },
  {
   "cell_type": "code",
   "execution_count": 156,
   "metadata": {},
   "outputs": [
    {
     "name": "stdout",
     "output_type": "stream",
     "text": [
      "caatr\n"
     ]
    }
   ],
   "source": [
    "str1 = \"characters\"\n",
    "str2 = \"\"\n",
    "for char in range(len(str1)):\n",
    "    if char%2 == 0:\n",
    "        str2 = str2 + str1[char]\n",
    "print(str2)\n",
    "        "
   ]
  },
  {
   "cell_type": "code",
   "execution_count": 159,
   "metadata": {},
   "outputs": [
    {
     "name": "stdout",
     "output_type": "stream",
     "text": [
      "ch@r@cters\n"
     ]
    }
   ],
   "source": [
    "str1 = \"characters\"\n",
    "str2 = \"\"\n",
    "for char in range(len(str1)):\n",
    "    if str1[char] == \"a\":\n",
    "        str2 = str2 + \"@\"\n",
    "    else:\n",
    "        str2 = str2 + str1[char]\n",
    "print(str2)"
   ]
  },
  {
   "cell_type": "code",
   "execution_count": 162,
   "metadata": {},
   "outputs": [
    {
     "name": "stdout",
     "output_type": "stream",
     "text": [
      "namnori\n"
     ]
    }
   ],
   "source": [
    "s1 = \"ironman\"\n",
    "s2 = \"\"\n",
    "for char in range(len(s1)-1,-1,-1):\n",
    "    s2 = s2 + s1[char]\n",
    "print(s2)\n",
    "    \n",
    "    "
   ]
  },
  {
   "cell_type": "code",
   "execution_count": 171,
   "metadata": {},
   "outputs": [
    {
     "name": "stdout",
     "output_type": "stream",
     "text": [
      "['n', 'a', 'm', 'n', 'o', 'r', 'i']\n",
      "namnori\n"
     ]
    }
   ],
   "source": [
    "s1 = \"ironman\"\n",
    "s1 = list(\"ironman\")\n",
    "s2 = []\n",
    "for i in range(len(s1)):\n",
    "    s2.insert(0,s1[i])\n",
    "print(s2)\n",
    "print(\"\".join(s2))"
   ]
  },
  {
   "cell_type": "code",
   "execution_count": 178,
   "metadata": {},
   "outputs": [
    {
     "name": "stdout",
     "output_type": "stream",
     "text": [
      "namnori\n"
     ]
    }
   ],
   "source": [
    "s1 = \"ironman\"\n",
    "s1 = list(s1)\n",
    "s1.reverse()\n",
    "s2 = \"\".join(s1)\n",
    "print(s2)"
   ]
  },
  {
   "cell_type": "code",
   "execution_count": 179,
   "metadata": {},
   "outputs": [
    {
     "name": "stdout",
     "output_type": "stream",
     "text": [
      "enter a char to checkp\n",
      "1\n"
     ]
    }
   ],
   "source": [
    "s = \"mississipi\"\n",
    "char = input(\"enter a char to check\")\n",
    "count = 0\n",
    "for i in range(len(s)):\n",
    "    if s[i] == char:\n",
    "        count = count + 1\n",
    "print(count)\n",
    "        "
   ]
  },
  {
   "cell_type": "code",
   "execution_count": 186,
   "metadata": {},
   "outputs": [
    {
     "name": "stdout",
     "output_type": "stream",
     "text": [
      "12\n",
      "3\n"
     ]
    }
   ],
   "source": [
    "s1 = \"I am ironman\"\n",
    "char_count = 0\n",
    "word_count = 1\n",
    "for char in s1:\n",
    "    char_count = char_count + 1\n",
    "    if char == ' ':\n",
    "        word_count += 1 \n",
    "print(char_count)\n",
    "print(word_count)"
   ]
  },
  {
   "cell_type": "code",
   "execution_count": 187,
   "metadata": {},
   "outputs": [
    {
     "name": "stdout",
     "output_type": "stream",
     "text": [
      "['a']\n"
     ]
    }
   ],
   "source": [
    "s1 = \"abhi\"\n",
    "s2 = \"maru\"\n",
    "s1 = set(s1)\n",
    "s2 = set(s2)\n",
    "res = []\n",
    "for i in s1:\n",
    "    for j in s2:\n",
    "        if i == j:\n",
    "            res.append(i)\n",
    "print(res)\n",
    "            "
   ]
  },
  {
   "cell_type": "code",
   "execution_count": 192,
   "metadata": {},
   "outputs": [
    {
     "name": "stdout",
     "output_type": "stream",
     "text": [
      "{'b', 'h', 'r', 'm', 'u', 'i'}\n"
     ]
    }
   ],
   "source": [
    "s1 = \"abhi\"\n",
    "s2 = \"maru\"\n",
    "s1 = set(s1)\n",
    "s2 = set(s2)\n",
    "res = []\n",
    "for i in s1:\n",
    "    if i not in s2:\n",
    "        res.append(i)\n",
    "    for j in s2:\n",
    "        if j not in s1:\n",
    "            res.append(j)\n",
    "print(set(res))\n",
    "            "
   ]
  },
  {
   "cell_type": "code",
   "execution_count": 195,
   "metadata": {},
   "outputs": [
    {
     "name": "stdout",
     "output_type": "stream",
     "text": [
      "mall\n"
     ]
    }
   ],
   "source": [
    "str1 = \"marvell\"\n",
    "count = len(str1)\n",
    "new_str1 = str1[:2] + str1[count-2:count]\n",
    "print(new_str1)"
   ]
  },
  {
   "cell_type": "code",
   "execution_count": 198,
   "metadata": {},
   "outputs": [
    {
     "name": "stdout",
     "output_type": "stream",
     "text": [
      "{'i': 1, 'can': 1, 'do': 1, 'this': 1, 'all': 1, 'day': 1}\n"
     ]
    }
   ],
   "source": [
    "st1 = \"i can do this all day\"\n",
    "words = st1.split()\n",
    "count = {}\n",
    "\n",
    "for word in words:\n",
    "    if word not in count:\n",
    "        count[word] = 0\n",
    "    count[word] += 1\n",
    "print(count)"
   ]
  },
  {
   "cell_type": "code",
   "execution_count": 201,
   "metadata": {},
   "outputs": [
    {
     "name": "stdout",
     "output_type": "stream",
     "text": [
      "enter word to countkill\n",
      "2\n"
     ]
    }
   ],
   "source": [
    "x = \"i will kill them. i will kill them all!!\"\n",
    "n = input('enter word to count')\n",
    "count = 0\n",
    "words = x.split()\n",
    "for w in words:\n",
    "    if n == w:\n",
    "        count = count + 1\n",
    "print(count)"
   ]
  },
  {
   "cell_type": "code",
   "execution_count": 204,
   "metadata": {},
   "outputs": [
    {
     "name": "stdout",
     "output_type": "stream",
     "text": [
      "{'aet': ['eat', 'tea', 'ate'], 'ant': ['tan', 'nat'], 'abt': ['bat']}\n"
     ]
    }
   ],
   "source": [
    "def group_anagrams(str1):\n",
    "    dict1 = {}\n",
    "    for word in str1:\n",
    "        sorted_word = \"\".join(sorted(word))\n",
    "        if sorted_word not in dict1:\n",
    "            dict1[sorted_word] = [word]\n",
    "        else:\n",
    "            dict1[sorted_word].append(word)\n",
    "    \n",
    "    output = []\n",
    "    for items in dict1.values():\n",
    "        output.append(items)\n",
    "    return dict1\n",
    "\n",
    "str1 = [\"eat\",\"tea\",\"tan\",\"ate\",\"nat\",\"bat\"]\n",
    "res = group_anagrams(str1)\n",
    "print(res)"
   ]
  },
  {
   "cell_type": "code",
   "execution_count": 208,
   "metadata": {},
   "outputs": [
    {
     "name": "stdout",
     "output_type": "stream",
     "text": [
      "ab2h2i\n"
     ]
    }
   ],
   "source": [
    "x = \"abbhhi\"\n",
    "s1 = \"\"\n",
    "count = 1\n",
    "\n",
    "for i in range(1,len(x)):\n",
    "    if x[i] == x[i-1]:\n",
    "        count = count + 1\n",
    "    else:\n",
    "        s1 = s1 + x[i-1] + (str(count if count>1 else \"\"))\n",
    "        count = 1\n",
    "s1 = s1 + x[-1] + (str(count if count>1 else \"\"))\n",
    "print(s1)"
   ]
  },
  {
   "cell_type": "code",
   "execution_count": 218,
   "metadata": {},
   "outputs": [
    {
     "name": "stdout",
     "output_type": "stream",
     "text": [
      "idagna yanihba\n"
     ]
    }
   ],
   "source": [
    "s = \"angadi abhinay\"\n",
    "s = s.split()\n",
    "res = []\n",
    "i = 0\n",
    "while i<len(s):\n",
    "    res.append(s[i][::-1])\n",
    "    i = i + 1\n",
    "x = \" \".join(res)\n",
    "print(x)    \n",
    "        "
   ]
  },
  {
   "cell_type": "code",
   "execution_count": 230,
   "metadata": {},
   "outputs": [
    {
     "name": "stdout",
     "output_type": "stream",
     "text": [
      "[2, 1, 4, 3, 6, 5]\n"
     ]
    }
   ],
   "source": [
    "x = [1,2,3,4,5,6]\n",
    "for i in range(0,len(x)-1,2):\n",
    "    x[i],x[i+1] = x[i+1],x[i]\n",
    "print(x)"
   ]
  },
  {
   "cell_type": "code",
   "execution_count": 6,
   "metadata": {},
   "outputs": [
    {
     "name": "stdout",
     "output_type": "stream",
     "text": [
      "BAD\n",
      "413\n",
      "ABD134\n"
     ]
    }
   ],
   "source": [
    "#input: B4A1D3\n",
    "#Output: ABD134\n",
    "\n",
    "st1 = \"B4A1D3\"\n",
    "res1 = res2 = output = \"\"\n",
    "\n",
    "for i in st1:\n",
    "    if i.isalpha():\n",
    "        res1 = res1 + i\n",
    "    else:\n",
    "        res2 = res2 + i\n",
    "print(res1)\n",
    "print(res2)\n",
    "\n",
    "for i in sorted(res1):\n",
    "    output = output + i\n",
    "for i in sorted(res2):\n",
    "    output = output + i\n",
    "print(output)\n",
    "\n",
    "\n"
   ]
  },
  {
   "cell_type": "code",
   "execution_count": 11,
   "metadata": {},
   "outputs": [
    {
     "name": "stdout",
     "output_type": "stream",
     "text": [
      "BADCFE\n"
     ]
    }
   ],
   "source": [
    "#input = \"ABCDEF\"\n",
    "#OUPUT = \"BADCFE\"\n",
    "\n",
    "str1 = \"ABCDEF\"\n",
    "s1 = s2 = res = \"\"\n",
    "str1 = list(str1)\n",
    "for i in range(0,len(str1)-1,2):\n",
    "    str1[i], str1[i+1] = str1[i+1], str1[i]\n",
    "\n",
    "print(\"\".join(str1))\n",
    "    "
   ]
  },
  {
   "cell_type": "code",
   "execution_count": 17,
   "metadata": {},
   "outputs": [
    {
     "name": "stdout",
     "output_type": "stream",
     "text": [
      "ACE\n",
      "BDF\n",
      "BDFACE\n"
     ]
    }
   ],
   "source": [
    "#input = \"ABCDEF\"\n",
    "#OUPUT = \"BADCFE\"\n",
    "\n",
    "str1 = \"ABCDEF\"\n",
    "s1 = s2 = res = \"\"\n",
    "\n",
    "for i in range(len(str1)):\n",
    "    if i%2 == 0:\n",
    "        s1 = s1 + str1[i]\n",
    "    else:\n",
    "        s2 = s2 + str1[i]\n",
    "print(s1)\n",
    "print(s2)\n",
    "\n",
    "res = s2+ s1\n",
    "print(res)\n"
   ]
  },
  {
   "cell_type": "code",
   "execution_count": 29,
   "metadata": {},
   "outputs": [
    {
     "name": "stdout",
     "output_type": "stream",
     "text": [
      "aaaabbbcc\n"
     ]
    }
   ],
   "source": [
    "#input: a4b3c2\n",
    "#output: aaaabbbcc\n",
    "\n",
    "s1 = \"a4b3c2\"\n",
    "out = \"\"\n",
    "\n",
    "for i in s1:\n",
    "    if i.isalpha():\n",
    "        out = out + i\n",
    "        previous = i\n",
    "    else:\n",
    "        out = out + previous*(int(i)-1)\n",
    "print(out)\n",
    "    "
   ]
  },
  {
   "cell_type": "code",
   "execution_count": 37,
   "metadata": {},
   "outputs": [
    {
     "name": "stdout",
     "output_type": "stream",
     "text": [
      "aeknbd\n"
     ]
    }
   ],
   "source": [
    "#input: a4k3b2\n",
    "#output: aeknbd\n",
    "\n",
    "st1 = \"a4k3b2\"\n",
    "res = \"\"\n",
    "\n",
    "for i in st1:\n",
    "    if i.isalpha():\n",
    "        res = res + i\n",
    "        previous = i\n",
    "    else:\n",
    "        res = res + chr(ord(previous)+int(i))\n",
    "print(res)"
   ]
  },
  {
   "cell_type": "code",
   "execution_count": 30,
   "metadata": {},
   "outputs": [
    {
     "data": {
      "text/plain": [
       "97"
      ]
     },
     "execution_count": 30,
     "metadata": {},
     "output_type": "execute_result"
    }
   ],
   "source": [
    "ord('a')"
   ]
  },
  {
   "cell_type": "code",
   "execution_count": 31,
   "metadata": {},
   "outputs": [
    {
     "data": {
      "text/plain": [
       "'a'"
      ]
     },
     "execution_count": 31,
     "metadata": {},
     "output_type": "execute_result"
    }
   ],
   "source": [
    "chr(97)"
   ]
  },
  {
   "cell_type": "code",
   "execution_count": null,
   "metadata": {},
   "outputs": [],
   "source": [
    "#input: ABCDABBCDABBBCCCDDEEEF\n",
    "#output: ABCDEF\n",
    "\n",
    "s1 = \"ABCDABBCDABBBCCCDDEEEF\"\n",
    "x = \"\""
   ]
  },
  {
   "cell_type": "code",
   "execution_count": 42,
   "metadata": {},
   "outputs": [
    {
     "name": "stdout",
     "output_type": "stream",
     "text": [
      "A - 3,B - 4,C - 3,D - 1,E - 1,"
     ]
    }
   ],
   "source": [
    "#input: ABCABCABBCDE\n",
    "#output: A-3,B-4,C-3,D-1,E-1\n",
    "\n",
    "s1 = \"ABCABCABBCDE\"\n",
    "dict1 = {}\n",
    "\n",
    "for char in s1:\n",
    "    if char not in dict1:\n",
    "        dict1[char] = 0\n",
    "    dict1[char] += 1\n",
    "\n",
    "for keys,values in dict1.items():\n",
    "    print(keys,\"-\",values,end = \",\")"
   ]
  },
  {
   "cell_type": "code",
   "execution_count": 45,
   "metadata": {},
   "outputs": [
    {
     "name": "stdout",
     "output_type": "stream",
     "text": [
      "A1B1C1A1B1C1A1B2C1D1E1\n"
     ]
    }
   ],
   "source": [
    "#input: ABCABCABBCDE\n",
    "#output: A1B2C1A1B1C1A1B2C1D1E1\n",
    "\n",
    "s1 = \"ABCABCABBCDE\"\n",
    "res = \"\"\n",
    "count = 1\n",
    "\n",
    "for i in range(1,len(s1)):\n",
    "    if s1[i] == s1[i-1]:\n",
    "        count = count + 1\n",
    "    else:\n",
    "        res = res + s1[i-1] + str(count)\n",
    "        count = 1\n",
    "res = res + s1[-1] + str(count)\n",
    "print(res)"
   ]
  },
  {
   "cell_type": "code",
   "execution_count": 49,
   "metadata": {},
   "outputs": [
    {
     "name": "stdout",
     "output_type": "stream",
     "text": [
      "enter no of rows5\n",
      "* * * * * \n",
      "* * * * \n",
      "* * * \n",
      "* * \n",
      "* \n"
     ]
    }
   ],
   "source": [
    "n = int(input(\"enter no of rows\"))\n",
    "for i in range(1,n+1):\n",
    "    for j in range(1,n+2-i):\n",
    "        print(\"*\",end = \" \")\n",
    "    print()\n",
    "    "
   ]
  },
  {
   "cell_type": "code",
   "execution_count": 52,
   "metadata": {},
   "outputs": [
    {
     "name": "stdout",
     "output_type": "stream",
     "text": [
      "ener no of rows5\n",
      "* * * * * * \n",
      "* * * * * * \n",
      "* * * * * * \n",
      "* * * * * * \n",
      "* * * * * * \n"
     ]
    }
   ],
   "source": [
    "n = int(input(\"ener no of rows\"))\n",
    "for i in range(1,n+1):\n",
    "    for j in range(1,n+2):\n",
    "        print(\"*\",end = \" \")\n",
    "    print()"
   ]
  },
  {
   "cell_type": "code",
   "execution_count": 55,
   "metadata": {},
   "outputs": [
    {
     "name": "stdout",
     "output_type": "stream",
     "text": [
      "ener no of rows5\n",
      "*\n",
      "\n",
      "**\n",
      "**\n",
      "\n",
      "***\n",
      "***\n",
      "***\n",
      "\n",
      "****\n",
      "****\n",
      "****\n",
      "****\n",
      "\n",
      "*****\n",
      "*****\n",
      "*****\n",
      "*****\n",
      "*****\n",
      "\n"
     ]
    }
   ],
   "source": [
    "n = int(input(\"ener no of rows\"))\n",
    "for i in range(1,n+1):\n",
    "    for j in range(i):\n",
    "        print(\"*\"*i)\n",
    "    print()"
   ]
  },
  {
   "cell_type": "code",
   "execution_count": 4,
   "metadata": {},
   "outputs": [
    {
     "name": "stdout",
     "output_type": "stream",
     "text": [
      "enter number10\n",
      "10 is not a prime number\n"
     ]
    }
   ],
   "source": [
    "n = int(input(\"enter number\"))\n",
    "if n>1:\n",
    "    for i in range(2,n):\n",
    "        if n%i == 0:\n",
    "            print(n,\"is not a prime number\")\n",
    "            break\n",
    "    else:\n",
    "        print(n,\"is a prime number\")\n",
    "else:\n",
    "    print(n,\"is not a prime\")"
   ]
  },
  {
   "cell_type": "code",
   "execution_count": null,
   "metadata": {},
   "outputs": [],
   "source": []
  },
  {
   "cell_type": "code",
   "execution_count": null,
   "metadata": {},
   "outputs": [],
   "source": []
  },
  {
   "cell_type": "code",
   "execution_count": null,
   "metadata": {},
   "outputs": [],
   "source": []
  },
  {
   "cell_type": "code",
   "execution_count": null,
   "metadata": {},
   "outputs": [],
   "source": []
  },
  {
   "cell_type": "code",
   "execution_count": null,
   "metadata": {},
   "outputs": [],
   "source": []
  },
  {
   "cell_type": "code",
   "execution_count": null,
   "metadata": {},
   "outputs": [],
   "source": []
  },
  {
   "cell_type": "code",
   "execution_count": null,
   "metadata": {},
   "outputs": [],
   "source": []
  },
  {
   "cell_type": "code",
   "execution_count": null,
   "metadata": {},
   "outputs": [],
   "source": []
  },
  {
   "cell_type": "code",
   "execution_count": null,
   "metadata": {},
   "outputs": [],
   "source": []
  },
  {
   "cell_type": "code",
   "execution_count": null,
   "metadata": {},
   "outputs": [],
   "source": []
  },
  {
   "cell_type": "code",
   "execution_count": null,
   "metadata": {},
   "outputs": [],
   "source": []
  }
 ],
 "metadata": {
  "kernelspec": {
   "display_name": "Python 3",
   "language": "python",
   "name": "python3"
  },
  "language_info": {
   "codemirror_mode": {
    "name": "ipython",
    "version": 3
   },
   "file_extension": ".py",
   "mimetype": "text/x-python",
   "name": "python",
   "nbconvert_exporter": "python",
   "pygments_lexer": "ipython3",
   "version": "3.8.5"
  }
 },
 "nbformat": 4,
 "nbformat_minor": 4
}
