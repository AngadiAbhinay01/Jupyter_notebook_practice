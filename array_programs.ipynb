{
 "cells": [
  {
   "cell_type": "code",
   "execution_count": 2,
   "metadata": {},
   "outputs": [
    {
     "data": {
      "text/plain": [
       "21"
      ]
     },
     "execution_count": 2,
     "metadata": {},
     "output_type": "execute_result"
    }
   ],
   "source": [
    "#sum of elements in array\n",
    "import numpy as np\n",
    "arr = np.array([1,4,7,9])\n",
    "s = sum(arr)\n",
    "s"
   ]
  },
  {
   "cell_type": "code",
   "execution_count": 10,
   "metadata": {},
   "outputs": [
    {
     "name": "stdout",
     "output_type": "stream",
     "text": [
      "21\n"
     ]
    }
   ],
   "source": [
    "import numpy as np\n",
    "arr = np.array([1,4,7,9])\n",
    "sum1 = 0\n",
    "for i in arr:\n",
    "    sum1 = sum1 + i\n",
    "    \n",
    "print(sum1)    "
   ]
  },
  {
   "cell_type": "code",
   "execution_count": 28,
   "metadata": {},
   "outputs": [
    {
     "name": "stdout",
     "output_type": "stream",
     "text": [
      "enter number of element4\n",
      "5\n",
      "7\n",
      "3\n",
      "8\n",
      "[5, 7, 3, 8]\n"
     ]
    }
   ],
   "source": [
    "#1-D array input taken from the user\n",
    "\n",
    "array = []\n",
    "n = int(input(\"enter number of element\"))\n",
    "for i in range(0,n):\n",
    "    x = int(input())\n",
    "    array.append(x)\n",
    "print(array)"
   ]
  },
  {
   "cell_type": "code",
   "execution_count": 35,
   "metadata": {},
   "outputs": [
    {
     "name": "stdout",
     "output_type": "stream",
     "text": [
      "enter no of rows:2\n",
      "enter no of columns:3\n",
      "1\n",
      "2\n",
      "3\n",
      "4\n",
      "5\n",
      "6\n",
      "1 2 3 \n",
      "4 5 6 \n"
     ]
    }
   ],
   "source": [
    "#2-D array input taken from the user\n",
    "\n",
    "rows = int(input(\"enter no of rows:\"))\n",
    "columns = int(input(\"enter no of columns:\"))\n",
    "matrix = []\n",
    "\n",
    "\n",
    "for i in range(rows):\n",
    "    a = []\n",
    "    for j in range(columns):\n",
    "        a.append(int(input()))\n",
    "    matrix.append(a)\n",
    "\n",
    "for i in range(rows):\n",
    "    for j in range(columns):\n",
    "        print(matrix[i][j],end = \" \")\n",
    "    print()"
   ]
  },
  {
   "cell_type": "code",
   "execution_count": 15,
   "metadata": {},
   "outputs": [
    {
     "name": "stdout",
     "output_type": "stream",
     "text": [
      "324 is the largest element\n"
     ]
    }
   ],
   "source": [
    "#largest element in array\n",
    "arr = [10, 324, 45, 90, 98]\n",
    "max = arr[0]\n",
    "for i in range(0,len(arr)):\n",
    "    if arr[i] > max:\n",
    "        max = arr[i]\n",
    "    \n",
    "print(max,\"is the largest element\")\n",
    "    \n",
    "    "
   ]
  },
  {
   "cell_type": "code",
   "execution_count": 14,
   "metadata": {},
   "outputs": [
    {
     "name": "stdout",
     "output_type": "stream",
     "text": [
      "9808 is largest in array\n"
     ]
    }
   ],
   "source": [
    "def largest(arr,n):\n",
    "    max = arr[0]\n",
    "    \n",
    "    for i in range(1,n):\n",
    "        if arr[i] > max:\n",
    "            max = arr[i]\n",
    "    return max\n",
    "arr = [10, 324, 45, 90, 9808]\n",
    "n = len(arr)\n",
    "res = largest(arr,n)\n",
    "print(res,\"is largest in array\")"
   ]
  },
  {
   "cell_type": "code",
   "execution_count": 16,
   "metadata": {},
   "outputs": [
    {
     "name": "stdout",
     "output_type": "stream",
     "text": [
      "[3, 4, 5, 6, 1, 2]\n"
     ]
    }
   ],
   "source": [
    "#Python program using the List slicing approach to rotate the array\n",
    "def rotate(arr,n,d):\n",
    "    arr[:] = arr[d:n]+arr[0:d]\n",
    "    return arr\n",
    "arr = [1,2,3,4,5,6]\n",
    "res = rotate(arr,len(arr),2)\n",
    "print(res)"
   ]
  },
  {
   "cell_type": "code",
   "execution_count": 1,
   "metadata": {},
   "outputs": [
    {
     "name": "stdout",
     "output_type": "stream",
     "text": [
      "5 6 52 36 12 10 "
     ]
    }
   ],
   "source": [
    "# Python program to split array and move first part to end.\n",
    "def splitArr(a, n, k):\n",
    "    b = a[:k]\n",
    "    return (a[k::]+b[::])\n",
    "\n",
    "arr = [12, 10, 5, 6, 52, 36]\n",
    "n = len(arr)\n",
    "position = 2\n",
    "arr = splitArr(arr, n, position)\n",
    "for i in range(0, n):\n",
    "    print(arr[i], end = ' ')"
   ]
  },
  {
   "cell_type": "code",
   "execution_count": 1,
   "metadata": {},
   "outputs": [
    {
     "name": "stdout",
     "output_type": "stream",
     "text": [
      "60.0\n"
     ]
    }
   ],
   "source": [
    "#python progrma for find the remainder of array multiplication divided by n\n",
    "\n",
    "from functools import reduce\n",
    "def find_remainder(arr,n):\n",
    "    sum1 = reduce(lambda x,y:x*y,arr)\n",
    "    remainder = sum1/n\n",
    "    return(remainder)\n",
    "arr = [1,2,3,4,5]\n",
    "n = 2\n",
    "res = find_remainder(arr,n)\n",
    "print(res)"
   ]
  },
  {
   "cell_type": "code",
   "execution_count": 10,
   "metadata": {},
   "outputs": [
    {
     "name": "stdout",
     "output_type": "stream",
     "text": [
      "[1, 2, 3, 4]\n"
     ]
    }
   ],
   "source": [
    "arr = [1,2,3,4,5]\n",
    "print(arr[:])"
   ]
  },
  {
   "cell_type": "code",
   "execution_count": 22,
   "metadata": {},
   "outputs": [
    {
     "name": "stdout",
     "output_type": "stream",
     "text": [
      "0:0\n",
      "1:1\n",
      "2:1\n",
      "3:2\n",
      "4:3\n",
      "5:5\n",
      "6:8\n",
      "7:13\n",
      "8:21\n",
      "9:34\n"
     ]
    }
   ],
   "source": [
    "def allFib(n):\n",
    "    for i in range(n):\n",
    "        print(str(i)+\":\" + str(fib(i)))\n",
    "\n",
    "def fib(n):\n",
    "    if n <= 0:\n",
    "        return 0\n",
    "    elif n == 1:\n",
    "        return 1\n",
    "    return fib(n-1) + fib(n-2)\n",
    "\n",
    "\n",
    "allFib(10)\n"
   ]
  },
  {
   "cell_type": "code",
   "execution_count": 4,
   "metadata": {},
   "outputs": [
    {
     "name": "stdout",
     "output_type": "stream",
     "text": [
      "1\n",
      "2\n"
     ]
    },
    {
     "data": {
      "text/plain": [
       "4"
      ]
     },
     "execution_count": 4,
     "metadata": {},
     "output_type": "execute_result"
    }
   ],
   "source": [
    "def powersOf2(n):\n",
    "    \n",
    "    if n < 1:\n",
    "        return 0\n",
    "    elif n == 1:\n",
    "        \n",
    "        return 1\n",
    "    else:\n",
    "        prev = powersOf2(int(n/2))\n",
    "        # print(\"prev:\"+str(prev))\n",
    "        print(prev)\n",
    "        curr = prev*2\n",
    "        \n",
    "        return curr\n",
    "\n",
    "powersOf2(5)"
   ]
  },
  {
   "cell_type": "code",
   "execution_count": 1,
   "metadata": {},
   "outputs": [
    {
     "name": "stdout",
     "output_type": "stream",
     "text": [
      "[[11 15 10  6]\n",
      " [10 14 11  5]\n",
      " [12 17 12  8]\n",
      " [15 18 14  9]]\n",
      "[[11  1 15 10  6]\n",
      " [10  2 14 11  5]\n",
      " [12  3 17 12  8]\n",
      " [15  4 18 14  9]]\n"
     ]
    }
   ],
   "source": [
    "#creation of two dimensional array\n",
    "\n",
    "import numpy as np\n",
    "\n",
    "twoDArray = np.array([[11, 15, 10, 6], [10, 14, 11, 5], [12, 17, 12, 8], [15, 18, 14, 9] ])\n",
    "print(twoDArray)\n",
    "\n",
    "newTwoDArray = np.insert(twoDArray, 1, [[1,2,3,4]], axis=1)\n",
    "print(newTwoDArray)"
   ]
  },
  {
   "cell_type": "code",
   "execution_count": 9,
   "metadata": {},
   "outputs": [
    {
     "name": "stdout",
     "output_type": "stream",
     "text": [
      "[[11 15 10  6]\n",
      " [10 14 11  5]\n",
      " [12 17 12  8]\n",
      " [15 18 14  9]]\n",
      "11\n"
     ]
    }
   ],
   "source": [
    "#Acessing elements from the two dimensional array\n",
    "import numpy as np\n",
    "\n",
    "twoDArray = np.array([[11, 15, 10, 6], [10, 14, 11, 5], [12, 17, 12, 8], [15, 18, 14, 9] ])\n",
    "print(twoDArray)\n",
    "\n",
    "def acessele(array,rowindex,colindex):\n",
    "    if rowindex >= len(array) and colindex >= len(array):\n",
    "        print(\"incorrect index\")\n",
    "    else:\n",
    "        print(array[rowindex][colindex])\n",
    "   \n",
    "acessele(twoDArray,1,2)\n"
   ]
  },
  {
   "cell_type": "code",
   "execution_count": 10,
   "metadata": {},
   "outputs": [
    {
     "name": "stdout",
     "output_type": "stream",
     "text": [
      "[[11 15 10  6]\n",
      " [10 14 11  5]\n",
      " [12 17 12  8]\n",
      " [15 18 14  9]]\n",
      "11\n",
      "15\n",
      "10\n",
      "6\n",
      "10\n",
      "14\n",
      "11\n",
      "5\n",
      "12\n",
      "17\n",
      "12\n",
      "8\n",
      "15\n",
      "18\n",
      "14\n",
      "9\n"
     ]
    }
   ],
   "source": [
    "#traversing through two dimensional array\n",
    "\n",
    "import numpy as np\n",
    "\n",
    "twoDArray = np.array([[11, 15, 10, 6], [10, 14, 11, 5], [12, 17, 12, 8], [15, 18, 14, 9] ])\n",
    "print(twoDArray)\n",
    "\n",
    "def traverse(array):\n",
    "    for i in range(len(array)):\n",
    "        for j in range(len(array)):\n",
    "            print(array[i][j])\n",
    "traverse(twoDArray)\n"
   ]
  },
  {
   "cell_type": "code",
   "execution_count": 22,
   "metadata": {},
   "outputs": [
    {
     "name": "stdout",
     "output_type": "stream",
     "text": [
      "[[ 8  9  3  0 10]\n",
      " [ 3  5 17  1  1]\n",
      " [ 2  8  6 23  1]\n",
      " [15  7  3  2  9]\n",
      " [ 6 14  2  6  0]]\n",
      "\n",
      "row_sum:\n",
      "30 27 40 36 28 \n",
      "column_sum:\n",
      "34 43 31 32 21 "
     ]
    }
   ],
   "source": [
    "import numpy as np\n",
    "\n",
    "t_a = np.array([[8,9,3,0,10],[3,5,17,1,1],[2,8,6,23,1],[15,7,3,2,9],[6,14,2,6,0]])\n",
    "print(t_a)\n",
    "\n",
    "row_sum = 0\n",
    "column_sum = 0\n",
    "\n",
    "print(\"\\nrow_sum:\")\n",
    "for i in range(len(t_a)):\n",
    "    for j in range(len(t_a)):\n",
    "        row_sum = row_sum + t_a[i][j]\n",
    "    print(row_sum,end =\" \")\n",
    "    row_sum = 0\n",
    "    \n",
    "print(\"\\ncolumn_sum:\")    \n",
    "for j in range(len(t_a)):\n",
    "    for i in range(len(t_a)):\n",
    "        column_sum = column_sum + t_a[i][j]\n",
    "    print(column_sum,end = \" \")\n",
    "    column_sum = 0    "
   ]
  },
  {
   "cell_type": "code",
   "execution_count": 10,
   "metadata": {},
   "outputs": [
    {
     "data": {
      "text/plain": [
       "25"
      ]
     },
     "execution_count": 10,
     "metadata": {},
     "output_type": "execute_result"
    }
   ],
   "source": [
    "#Diagonal Sum\n",
    "\"\"\"Example 1:\n",
    "Input: mat = [[1,2,3],\n",
    "              [4,5,6],\n",
    "              [7,8,9]]\n",
    "Output: 25\n",
    "Explanation: Diagonals sum: 1 + 5 + 9 + 3 + 7 = 25\n",
    "Notice that element mat[1][1] = 5 is counted only once.\n",
    "\n",
    "Example 2:\n",
    "Input: mat = [[1,1,1,1],\n",
    "              [1,1,1,1],\n",
    "              [1,1,1,1],\n",
    "              [1,1,1,1]]\n",
    "Output: 8\n",
    "\n",
    "Example 3:\n",
    "Input: mat = [[5]]\n",
    "Output: 5\"\"\"\n",
    "def diagonalSum(mat):\n",
    "    n = len(mat)\n",
    "    total_sum = 0\n",
    "    \n",
    "    for i in range(n):\n",
    "        total_sum = total_sum + mat[i][i]         #main diagonal\n",
    "        total_sum = total_sum + mat[i][n-i-1]     #anti-diagonal\n",
    "    \n",
    "    # If n is odd, subtract the middle element which was added twice\n",
    "    if n%2==1:\n",
    "        total_sum = total_sum - mat[n//2][n//2]\n",
    "        \n",
    "    return total_sum\n",
    "mat = [[1,2,3],[4,5,6],[7,8,9]]\n",
    "diagonalSum(mat)"
   ]
  },
  {
   "cell_type": "code",
   "execution_count": 8,
   "metadata": {},
   "outputs": [
    {
     "name": "stdout",
     "output_type": "stream",
     "text": [
      "[[0 0 0]\n",
      " [0 0 0]\n",
      " [0 0 0]]\n",
      "Diagonal starting at (0, 0): [(0, 0), (1, 1), (2, 2)]\n",
      "Diagonal starting at (0, 1): [(0, 1), (1, 2)]\n",
      "Diagonal starting at (0, 2): [(0, 2)]\n",
      "Diagonal starting at (1, 0): [(1, 0), (2, 1)]\n",
      "Diagonal starting at (2, 0): [(2, 0)]\n"
     ]
    }
   ],
   "source": [
    "# printing diagonal indices\n",
    "\n",
    "import numpy as np\n",
    "def print_diagonal_indices(n, m):\n",
    "    mat = [[0]*(n) for _ in range(m)]\n",
    "    print(np.array(mat))\n",
    "    \n",
    "    # Print main diagonal and diagonals above it\n",
    "    for d in range(m):\n",
    "        diagonal = []\n",
    "        for i in range(min(n, m - d)):\n",
    "            diagonal.append((i, i + d))\n",
    "        print(f\"Diagonal starting at (0, {d}): {diagonal}\")\n",
    "    \n",
    "    # Print diagonals below the main diagonal\n",
    "    for d in range(1, n):\n",
    "        diagonal = []\n",
    "        for i in range(min(m, n - d)):\n",
    "            diagonal.append((i + d, i))\n",
    "        print(f\"Diagonal starting at ({d}, 0): {diagonal}\")\n",
    "\n",
    "# Example usage:\n",
    "print_diagonal_indices(3, 3)\n"
   ]
  },
  {
   "cell_type": "code",
   "execution_count": 5,
   "metadata": {},
   "outputs": [
    {
     "name": "stdout",
     "output_type": "stream",
     "text": [
      "[[1 2 1]\n",
      " [2 3 5]]\n",
      "[[1 2 0]\n",
      " [4 2 1]\n",
      " [1 1 1]]\n",
      "[10, 7, 3]\n",
      "[19, 15, 8]\n"
     ]
    }
   ],
   "source": [
    "#matrix multiplication\n",
    "import numpy as np\n",
    "a = np.array([[1,2,1],[2,3,5]])  #2*3 matrix\n",
    "b = np.array([[1,2,0],[4,2,1],[1,1,1]])  #3*3 matrix\n",
    "\n",
    "print(a)\n",
    "print(b)\n",
    "\n",
    "result = [[0,0,0],[0,0,0]]\n",
    "\n",
    "for i in range(len(a)):  #rows in x\n",
    "    for j in range(len(b[0])):  # cols in y\n",
    "        for k in range(len(b)): # rows in y\n",
    "            result[i][j] = result[i][j] + a[i][k] * b[k][j]\n",
    "for r in result:\n",
    "    print(r)"
   ]
  },
  {
   "cell_type": "code",
   "execution_count": 2,
   "metadata": {},
   "outputs": [
    {
     "name": "stdout",
     "output_type": "stream",
     "text": [
      "[4, 6, 8]\n",
      "\n",
      "[11, 13, 12]\n",
      "\n",
      "[8, 10, 14]\n",
      "\n"
     ]
    }
   ],
   "source": [
    "#matrix addition\n",
    "a = [[1,2,3],[4,5,6],[7,8,9]]  #3*3 matrix\n",
    "b = [[3,4,5],[7,8,6],[1,2,5]]  #3*3 matrix\n",
    "\n",
    "result = [[0,0,0],[0,0,0],[0,0,0]]\n",
    "\n",
    "for i in range(len(a)):\n",
    "    for j in range(len(b[0])):\n",
    "        result[i][j] = a[i][j] + b[i][j]\n",
    "for r in result:\n",
    "    print(r)\n",
    "    print()"
   ]
  },
  {
   "cell_type": "code",
   "execution_count": 5,
   "metadata": {},
   "outputs": [],
   "source": [
    "import numpy as np"
   ]
  },
  {
   "cell_type": "code",
   "execution_count": 8,
   "metadata": {},
   "outputs": [
    {
     "name": "stdout",
     "output_type": "stream",
     "text": [
      "[1 2 3 4 5]\n"
     ]
    }
   ],
   "source": [
    "x = np.array([1,2,3,4,5])\n",
    "print(x)"
   ]
  },
  {
   "cell_type": "code",
   "execution_count": 13,
   "metadata": {},
   "outputs": [
    {
     "name": "stdout",
     "output_type": "stream",
     "text": [
      "[0, 1, 4, 9, 16, 25, 36, 49, 64]\n"
     ]
    }
   ],
   "source": [
    "x = 9\n",
    "squares = []\n",
    "for i in range(x):\n",
    "    squares.append(i**2)\n",
    "print(squares)"
   ]
  },
  {
   "cell_type": "code",
   "execution_count": 17,
   "metadata": {},
   "outputs": [
    {
     "data": {
      "text/plain": [
       "[[0, 1, 4, 9, 16, 25, 36, 49, 64, 81]]"
      ]
     },
     "execution_count": 17,
     "metadata": {},
     "output_type": "execute_result"
    }
   ],
   "source": [
    "squares = []\n",
    "n = 10\n",
    "x = [i**2 for i in range(10)]\n",
    "squares.append(x)\n",
    "squares"
   ]
  },
  {
   "cell_type": "code",
   "execution_count": 18,
   "metadata": {},
   "outputs": [
    {
     "name": "stdout",
     "output_type": "stream",
     "text": [
      "40\n"
     ]
    }
   ],
   "source": [
    "func = lambda x,y : x+y\n",
    "x = func(10,30)\n",
    "print(x)"
   ]
  },
  {
   "cell_type": "code",
   "execution_count": 7,
   "metadata": {},
   "outputs": [
    {
     "name": "stdout",
     "output_type": "stream",
     "text": [
      "10 20 30 \n",
      "40 50 60 \n",
      "70 80 90 \n",
      "[[10 20 30]\n",
      " [40 50 60]\n",
      " [70 80 90]]\n",
      "10\n",
      "20\n",
      "30\n",
      "\n",
      "40\n",
      "50\n",
      "60\n",
      "\n",
      "70\n",
      "80\n",
      "90\n",
      "\n"
     ]
    }
   ],
   "source": [
    "import numpy as np\n",
    "\n",
    "x = np.array([[10,20,30],[40,50,60],[70,80,90]])\n",
    "for i in range(len(x)):\n",
    "    for j in range(len(x[i])):\n",
    "        print(x[i][j],end = \" \")\n",
    "    print()\n",
    "print(x)\n",
    "\n",
    "for i in range(len(x)):\n",
    "    for j in range(len(x)):\n",
    "        print(x[i][j])\n",
    "    print()\n",
    "    \n",
    "    \n"
   ]
  },
  {
   "cell_type": "code",
   "execution_count": 12,
   "metadata": {},
   "outputs": [
    {
     "name": "stdout",
     "output_type": "stream",
     "text": [
      "[[10 20 30]\n",
      " [40 50 60]\n",
      " [70 80 90]]\n",
      "10 40 70 \n",
      "20 50 80 \n",
      "30 60 90 \n"
     ]
    }
   ],
   "source": [
    "# transpose of matrix\n",
    "import numpy as np\n",
    "\n",
    "x = np.array([[10,20,30],[40,50,60],[70,80,90]])\n",
    "print(x)\n",
    "\n",
    "res = [[0,0,0],[0,0,0],[0,0,0]]\n",
    "for i in range(len(x)):\n",
    "    for j in range(len(x[0])):\n",
    "        res[j][i] = x[i][j]\n",
    "for i in range(len(res)):\n",
    "    for j in range(len(res)):\n",
    "        print(res[i][j],end = \" \")\n",
    "    print()"
   ]
  },
  {
   "cell_type": "code",
   "execution_count": 1,
   "metadata": {},
   "outputs": [
    {
     "name": "stdout",
     "output_type": "stream",
     "text": [
      "enter number of rows3\n",
      "enter number of columns3\n",
      "1\n",
      "2\n",
      "3\n",
      "4\n",
      "5\n",
      "6\n",
      "7\n",
      "8\n",
      "9\n",
      "[1, 2, 3]\n",
      "[4, 5, 6]\n",
      "[7, 8, 9]\n",
      "[0, 2, 0]\n",
      "[4, 5, 6]\n",
      "[0, 8, 0]\n"
     ]
    }
   ],
   "source": [
    "# changing the matrix corner elements\n",
    "\n",
    "m = int(input('enter number of rows'))\n",
    "n = int(input('enter number of columns'))\n",
    "mat = []\n",
    "\n",
    "for i in range(m):\n",
    "    a = []\n",
    "    for j in range(n):\n",
    "        a.append(int(input()))\n",
    "    mat.append(a)\n",
    "for r in mat:\n",
    "    print(r)\n",
    "    \n",
    "rows = len(mat)\n",
    "cols = len(mat[0])\n",
    "\n",
    "mat[0][0] = 0\n",
    "mat[0][cols-1] = 0\n",
    "mat[rows-1][0] = 0\n",
    "mat[rows-1][cols-1] = 0\n",
    "\n",
    "for s in mat:\n",
    "    print(s)"
   ]
  },
  {
   "cell_type": "code",
   "execution_count": 2,
   "metadata": {},
   "outputs": [
    {
     "name": "stdout",
     "output_type": "stream",
     "text": [
      "[4, 7, 9, 2, 5, 8, 3]\n",
      "[2, 3, 4, 5, 7, 8, 9]\n"
     ]
    }
   ],
   "source": [
    "arr = [4,7,9,2,2,5,7,8,9,3,3]\n",
    "res = []\n",
    "for i in range(len(arr)):\n",
    "    if arr[i] not in res:\n",
    "        res.append(arr[i])\n",
    "print(res)\n",
    "print(sorted(res))"
   ]
  },
  {
   "cell_type": "code",
   "execution_count": 2,
   "metadata": {},
   "outputs": [
    {
     "name": "stdout",
     "output_type": "stream",
     "text": [
      "1 2 3 4 5 6 7 8 9 0\n",
      "[1, 4, 9, 16, 25, 36, 49, 64, 81, 0]\n"
     ]
    }
   ],
   "source": [
    "arr = list(map(lambda x:x*x, list(map(int, input().split(\" \")))))\n",
    "print(arr)"
   ]
  },
  {
   "cell_type": "code",
   "execution_count": 4,
   "metadata": {},
   "outputs": [
    {
     "name": "stdout",
     "output_type": "stream",
     "text": [
      "[2, 4, 6, 6, 8]\n"
     ]
    }
   ],
   "source": [
    "def iseven(n):\n",
    "    if n%2 == 0:\n",
    "        return True\n",
    "    else:\n",
    "        return False\n",
    "l = [1,2,3,4,5,5,6,6,7,7,8]\n",
    "res = list(filter(iseven,l))\n",
    "print(res)"
   ]
  },
  {
   "cell_type": "code",
   "execution_count": 5,
   "metadata": {},
   "outputs": [
    {
     "name": "stdout",
     "output_type": "stream",
     "text": [
      "[2, 4, 6, 6, 8]\n"
     ]
    }
   ],
   "source": [
    "l = [1,2,3,4,5,5,6,6,7,7,8]\n",
    "res = list(filter(lambda x:x%2==0,l))\n",
    "print(res)"
   ]
  },
  {
   "cell_type": "code",
   "execution_count": 6,
   "metadata": {},
   "outputs": [
    {
     "name": "stdout",
     "output_type": "stream",
     "text": [
      "[1, 4, 9, 16, 25, 36, 49, 64, 81]\n"
     ]
    }
   ],
   "source": [
    "def double(x):\n",
    "    return x**2\n",
    "l = [1,2,3,4,5,6,7,8,9]\n",
    "res = list(map(double,l))\n",
    "print(res)"
   ]
  },
  {
   "cell_type": "code",
   "execution_count": 7,
   "metadata": {},
   "outputs": [
    {
     "name": "stdout",
     "output_type": "stream",
     "text": [
      "[1, 4, 9, 16, 25, 36, 49, 64, 81]\n"
     ]
    }
   ],
   "source": [
    "l = [1,2,3,4,5,6,7,8,9]\n",
    "res = list(map(lambda x:x**2,l))\n",
    "print(res)"
   ]
  },
  {
   "cell_type": "code",
   "execution_count": 4,
   "metadata": {},
   "outputs": [
    {
     "name": "stdout",
     "output_type": "stream",
     "text": [
      "[27, 33]\n",
      "[60, 75]\n",
      "[93, 117]\n"
     ]
    }
   ],
   "source": [
    "#matrix multiplication\n",
    "a = [[1,2,3],[4,5,6],[7,8,9]]\n",
    "b = [[1,2],[4,5],[6,7]]\n",
    "\n",
    "c = [[0,0],[0,0],[0,0]]\n",
    "\n",
    "for i in range(len(a)):\n",
    "    for j in range(len(b[0])):\n",
    "        for k in range(len(b)):\n",
    "            c[i][j] = c[i][j] + a[i][k] * b[k][j]\n",
    "for i in c:\n",
    "    print(x)"
   ]
  },
  {
   "cell_type": "code",
   "execution_count": 3,
   "metadata": {},
   "outputs": [
    {
     "data": {
      "text/plain": [
       "2"
      ]
     },
     "execution_count": 3,
     "metadata": {},
     "output_type": "execute_result"
    }
   ],
   "source": [
    "b = [[1,2],[4,5],[6,7]]\n",
    "x = b[0][1]\n",
    "x"
   ]
  },
  {
   "cell_type": "code",
   "execution_count": 8,
   "metadata": {},
   "outputs": [
    {
     "name": "stdout",
     "output_type": "stream",
     "text": [
      "[[11 15 10  6]\n",
      " [10 14 11  5]\n",
      " [12 17 12  8]\n",
      " [15 18 14  9]]\n",
      "14\n"
     ]
    }
   ],
   "source": [
    "#search rowwise and column wise elements in a matrix\n",
    "import numpy as np\n",
    "arr = np.array([[11, 15, 10, 6], [10, 14, 11, 5], [12, 17, 12, 8], [15, 18, 14, 9] ])\n",
    "print(arr)\n",
    "\n",
    "def acess(arr,r,c):\n",
    "    if r >= len(arr) and c >= len(arr):\n",
    "        return \"incorrect data\"\n",
    "    else:\n",
    "        res = arr[r][c]\n",
    "    return res\n",
    "arr = np.array([[11, 15, 10, 6], [10, 14, 11, 5], [12, 17, 12, 8], [15, 18, 14, 9] ])\n",
    "out = acess(arr,1,1)\n",
    "print(out)"
   ]
  },
  {
   "cell_type": "code",
   "execution_count": 18,
   "metadata": {},
   "outputs": [
    {
     "name": "stdout",
     "output_type": "stream",
     "text": [
      "[[11 15 10  6]\n",
      " [10 14 11  5]\n",
      " [12 17 12  8]\n",
      " [15 18 14  9]]\n",
      "enter which elements cordinats u want14\n",
      "element is found at 1 1\n",
      "element is found at 3 2\n",
      "None\n"
     ]
    }
   ],
   "source": [
    "import numpy as np\n",
    "def search_2d(a,x):\n",
    "    for i in range(len(a)):\n",
    "        for j in range(len(a)):\n",
    "            if a[i][j] == x:\n",
    "                print(\"element is found at\",i,j)\n",
    "a = np.array([[11, 15, 10, 6], [10, 14, 11, 5], [12, 17, 12, 8], [15, 18, 14, 9] ])\n",
    "print(a)\n",
    "x = int(input(\"enter which elements cordinats u want\"))\n",
    "res = search_2d(a,x)\n",
    "print(res)"
   ]
  },
  {
   "cell_type": "code",
   "execution_count": 1,
   "metadata": {},
   "outputs": [
    {
     "name": "stdout",
     "output_type": "stream",
     "text": [
      "[('apple', 3), ('banana', 5), ('orange', 2), ('pear', 3)]\n"
     ]
    }
   ],
   "source": [
    "seq = ['apple','banana','apple','orange','banana','pear','banana','pear','banana']\n",
    "dict1 = {}\n",
    "for word in seq:\n",
    "    if word not in dict1:\n",
    "        dict1[word] = 0\n",
    "    dict1[word] += 1\n",
    "\n",
    "sorted_freq = sorted(dict1.items())\n",
    "print(sorted_freq)"
   ]
  },
  {
   "cell_type": "code",
   "execution_count": 15,
   "metadata": {},
   "outputs": [
    {
     "name": "stdout",
     "output_type": "stream",
     "text": [
      "[1, 3, 4, 7, 8, 9]\n"
     ]
    },
    {
     "data": {
      "text/plain": [
       "[1, 3, 4, 7]"
      ]
     },
     "execution_count": 15,
     "metadata": {},
     "output_type": "execute_result"
    }
   ],
   "source": [
    "'''Given an array with k distinct elements, write a function to return all elements that have at least two elements greater\n",
    "than themselves in the same array:\n",
    "\n",
    "array = [2,3,9,7,6]\n",
    "    \n",
    "#Your function should return:   \n",
    "\n",
    "[2,3,6]'''\n",
    "    \n",
    "def fun(arr):\n",
    "    arr.sort()\n",
    "    print(arr)\n",
    "    res = []\n",
    "    \n",
    "    for i in range(0,len(arr)//2+1):\n",
    "        if arr[i] < arr[i+1] and arr[i]<arr[i+2]:\n",
    "            res.append(arr[i])\n",
    "    return res\n",
    "    \n",
    "\n",
    "arr = [3,7,1,8,9,4]\n",
    "fun(arr)"
   ]
  },
  {
   "cell_type": "code",
   "execution_count": 16,
   "metadata": {},
   "outputs": [
    {
     "data": {
      "text/plain": [
       "[1, 3, 4, 7]"
      ]
     },
     "execution_count": 16,
     "metadata": {},
     "output_type": "execute_result"
    }
   ],
   "source": [
    "def fun(arr):\n",
    "    arr.sort()\n",
    "    res = []\n",
    "    \n",
    "    for i in range(len(arr)-2):\n",
    "        res.append(arr[i])\n",
    "    return res\n",
    "    \n",
    "nums = [3,7,1,8,9,4]\n",
    "fun(arr)"
   ]
  },
  {
   "cell_type": "code",
   "execution_count": 3,
   "metadata": {},
   "outputs": [
    {
     "data": {
      "text/plain": [
       "2"
      ]
     },
     "execution_count": 3,
     "metadata": {},
     "output_type": "execute_result"
    }
   ],
   "source": [
    "\"\"\"Given a sorted (in increasing order) array of positive numbers, can you find the smallest positive integer that cannot be\n",
    "represented as a sum of elements from the array?\n",
    "\n",
    "Input:  arr[] = [1, 3, 6, 10, 11, 15]\n",
    "Output: 2\n",
    "\n",
    "Input:  arr[] = [1, 1, 1, 1]\n",
    "Output: 5\n",
    "    \n",
    "Input:  arr[] = [1, 1, 3, 4]\n",
    "Output: 10\"\"\"\n",
    "\n",
    "def fun(arr):\n",
    "    res = 1  # 1 is the smallest positive integer\n",
    "    \n",
    "    for num in arr:\n",
    "        if num>res:  # If num is greater than res, then we found the gap\n",
    "            break\n",
    "        else:\n",
    "            res = res + num\n",
    "    return res\n",
    "\n",
    "arr = [1, 3, 6, 10, 11, 15]\n",
    "fun(arr)"
   ]
  },
  {
   "cell_type": "code",
   "execution_count": 6,
   "metadata": {},
   "outputs": [
    {
     "data": {
      "text/plain": [
       "[[-2, 1, 1]]"
      ]
     },
     "execution_count": 6,
     "metadata": {},
     "output_type": "execute_result"
    }
   ],
   "source": [
    "\"\"\"Given an array of n distinct elements, can you find all the triplet combinations that sum to zero?\n",
    "\n",
    "Input: [0, -1, 2, -3, 1]\n",
    "Output: \n",
    "\n",
    "0 -1 1\n",
    "\n",
    "2 -3 1\n",
    "    \n",
    "\n",
    "Input: [1, -2, 1, 0, 5]\n",
    "\n",
    "Output: 1 -2  1\"\"\"\n",
    "\n",
    "def _3sum(nums):\n",
    "    n = len(nums)\n",
    "    nums.sort()\n",
    "    triplets = []\n",
    "    \n",
    "    for i in range(n-2):\n",
    "        if i>0 and nums[i] == nums[i-1]:\n",
    "            continue\n",
    "        left = i+1\n",
    "        right = n-1\n",
    "        \n",
    "        while left<right:\n",
    "            total = nums[i]+nums[left]+nums[right]\n",
    "            \n",
    "            if total<0:\n",
    "                left = left+1\n",
    "            elif total>0:\n",
    "                right = right-1\n",
    "            else:\n",
    "                triplets.append([nums[i],nums[left],nums[right]])\n",
    "                \n",
    "                while left<right and nums[left] == nums[left+1]:\n",
    "                    left = left +1\n",
    "                while left<right and nums[right] == nums[right-1]:\n",
    "                    right = right -1\n",
    "                \n",
    "                left = left+1\n",
    "                right = right-1\n",
    "    return triplets\n",
    "\n",
    "\n",
    "nums = [1, -2, 1, 0, 5]\n",
    "_3sum(nums)"
   ]
  },
  {
   "cell_type": "code",
   "execution_count": 8,
   "metadata": {},
   "outputs": [
    {
     "data": {
      "text/plain": [
       "(1, 3, 4)"
      ]
     },
     "execution_count": 8,
     "metadata": {},
     "output_type": "execute_result"
    }
   ],
   "source": [
    "\"\"\"Given an array of integers, can you write a function that returns \"True\" if there is a triplet (a, b, c) within the array \n",
    "that satisfies a^2 + b^2 = c^2?\n",
    "\n",
    "Input: arr[] = [3, 1, 4, 6, 5]\n",
    "Output: True\n",
    "#There is a Pythagorean triplet (3, 4, 5) that exists in the input array.\n",
    "    \n",
    "Input: arr[] = {10, 4, 6, 12, 5}\n",
    "Output: False\n",
    "#There is no Pythagorean triplet that exists in the input array.\"\"\"\n",
    "\n",
    "def fun(nums):\n",
    "    n = len(nums)\n",
    "    nums.sort()\n",
    "    \n",
    "    for i in range(n):\n",
    "        for j in range(i+1,n):\n",
    "            for k in range(j+1,n):\n",
    "                a, b, c = nums[i],nums[j], nums[k]\n",
    "                if c^2 == a^2 + b^2:\n",
    "                    return (a,b,c)\n",
    "    return False\n",
    "    \n",
    "arr = [3, 1, 4, 6, 5]\n",
    "fun(arr)"
   ]
  },
  {
   "cell_type": "code",
   "execution_count": 12,
   "metadata": {},
   "outputs": [
    {
     "data": {
      "text/plain": [
       "True"
      ]
     },
     "execution_count": 12,
     "metadata": {},
     "output_type": "execute_result"
    }
   ],
   "source": [
    "#Efficient method\n",
    "def fun(nums):\n",
    "    n = len(nums)\n",
    "    squared_values = [i*i for i in nums]\n",
    "    squared_values.sort()\n",
    "    \n",
    "    for i in range(n-1,1,-1):\n",
    "        c_square = squared_values[i]\n",
    "        left = 0\n",
    "        right = i-1\n",
    "        \n",
    "        while left<right:\n",
    "            if squared_values[left] + squared_values[right] == c_square:\n",
    "                return True\n",
    "            elif squared_values[left] + squared_values[right] < c_square:\n",
    "                left += 1\n",
    "            else:\n",
    "                right -=1\n",
    "    return False\n",
    "arr = [3, 1, 4, 6, 5]\n",
    "fun(arr)"
   ]
  },
  {
   "cell_type": "code",
   "execution_count": null,
   "metadata": {},
   "outputs": [],
   "source": []
  },
  {
   "cell_type": "code",
   "execution_count": null,
   "metadata": {},
   "outputs": [],
   "source": []
  },
  {
   "cell_type": "code",
   "execution_count": null,
   "metadata": {},
   "outputs": [],
   "source": []
  },
  {
   "cell_type": "code",
   "execution_count": null,
   "metadata": {},
   "outputs": [],
   "source": []
  },
  {
   "cell_type": "code",
   "execution_count": null,
   "metadata": {},
   "outputs": [],
   "source": []
  },
  {
   "cell_type": "code",
   "execution_count": null,
   "metadata": {},
   "outputs": [],
   "source": []
  },
  {
   "cell_type": "code",
   "execution_count": null,
   "metadata": {},
   "outputs": [],
   "source": []
  },
  {
   "cell_type": "code",
   "execution_count": null,
   "metadata": {},
   "outputs": [],
   "source": []
  },
  {
   "cell_type": "code",
   "execution_count": null,
   "metadata": {},
   "outputs": [],
   "source": []
  },
  {
   "cell_type": "code",
   "execution_count": null,
   "metadata": {},
   "outputs": [],
   "source": []
  },
  {
   "cell_type": "code",
   "execution_count": null,
   "metadata": {},
   "outputs": [],
   "source": []
  },
  {
   "cell_type": "code",
   "execution_count": null,
   "metadata": {},
   "outputs": [],
   "source": []
  },
  {
   "cell_type": "code",
   "execution_count": null,
   "metadata": {},
   "outputs": [],
   "source": []
  },
  {
   "cell_type": "code",
   "execution_count": null,
   "metadata": {},
   "outputs": [],
   "source": []
  },
  {
   "cell_type": "code",
   "execution_count": null,
   "metadata": {},
   "outputs": [],
   "source": []
  },
  {
   "cell_type": "code",
   "execution_count": null,
   "metadata": {},
   "outputs": [],
   "source": []
  },
  {
   "cell_type": "code",
   "execution_count": null,
   "metadata": {},
   "outputs": [],
   "source": []
  },
  {
   "cell_type": "code",
   "execution_count": null,
   "metadata": {},
   "outputs": [],
   "source": []
  },
  {
   "cell_type": "code",
   "execution_count": null,
   "metadata": {},
   "outputs": [],
   "source": []
  },
  {
   "cell_type": "code",
   "execution_count": null,
   "metadata": {},
   "outputs": [],
   "source": []
  },
  {
   "cell_type": "code",
   "execution_count": null,
   "metadata": {},
   "outputs": [],
   "source": []
  },
  {
   "cell_type": "code",
   "execution_count": null,
   "metadata": {},
   "outputs": [],
   "source": []
  },
  {
   "cell_type": "code",
   "execution_count": null,
   "metadata": {},
   "outputs": [],
   "source": []
  },
  {
   "cell_type": "code",
   "execution_count": null,
   "metadata": {},
   "outputs": [],
   "source": []
  },
  {
   "cell_type": "code",
   "execution_count": null,
   "metadata": {},
   "outputs": [],
   "source": []
  }
 ],
 "metadata": {
  "kernelspec": {
   "display_name": "Python 3 (ipykernel)",
   "language": "python",
   "name": "python3"
  },
  "language_info": {
   "codemirror_mode": {
    "name": "ipython",
    "version": 3
   },
   "file_extension": ".py",
   "mimetype": "text/x-python",
   "name": "python",
   "nbconvert_exporter": "python",
   "pygments_lexer": "ipython3",
   "version": "3.11.5"
  }
 },
 "nbformat": 4,
 "nbformat_minor": 4
}
