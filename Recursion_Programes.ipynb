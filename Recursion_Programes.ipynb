{
 "cells": [
  {
   "cell_type": "code",
   "execution_count": 1,
   "metadata": {},
   "outputs": [
    {
     "name": "stdout",
     "output_type": "stream",
     "text": [
      "3 num is odd\n"
     ]
    }
   ],
   "source": [
    "#Python Program to Check Whether a Given Number is Even or Odd using Recursion\n",
    "\n",
    "# defining the function having\n",
    "# the one parameter as input\n",
    "def evenOdd(n):\n",
    "\t#if remainder is 0 then num is even\n",
    "\tif(n % 2 == 0):\n",
    "\t\treturn True\n",
    "\t\n",
    "\t#if remainder is 1 then num is odd\n",
    "\telif(n %2 != 0):\n",
    "\t\treturn False\n",
    "\telse:\n",
    "\t\treturn evenOdd(n)\n",
    "\n",
    "# Input by geeks\n",
    "num = 3\n",
    "if(evenOdd( num )):\n",
    "\tprint(num ,\"num is even\")\n",
    "else:\n",
    "\tprint(num ,\"num is odd\")\n",
    "\n",
    "    "
   ]
  },
  {
   "cell_type": "code",
   "execution_count": 4,
   "metadata": {},
   "outputs": [
    {
     "name": "stdout",
     "output_type": "stream",
     "text": [
      "enter a number153\n",
      "9.9\n"
     ]
    }
   ],
   "source": [
    "#Python Program to Find Sum of Digit of a Number using Recursion\n",
    "\n",
    "def digitsum(n):\n",
    "    if n == 0:\n",
    "        return 0\n",
    "    return(n%10 + digitsum(int(n)/10))\n",
    "    \n",
    "n = int(input(\"enter a number\"))\n",
    "res = digitsum(n)\n",
    "print(res)\n",
    "        "
   ]
  },
  {
   "cell_type": "code",
   "execution_count": null,
   "metadata": {},
   "outputs": [],
   "source": [
    "#Python Program to Check whether a Number is Prime or Not using Recursion\n",
    "\n"
   ]
  }
 ],
 "metadata": {
  "kernelspec": {
   "display_name": "Python 3",
   "language": "python",
   "name": "python3"
  },
  "language_info": {
   "codemirror_mode": {
    "name": "ipython",
    "version": 3
   },
   "file_extension": ".py",
   "mimetype": "text/x-python",
   "name": "python",
   "nbconvert_exporter": "python",
   "pygments_lexer": "ipython3",
   "version": "3.8.5"
  }
 },
 "nbformat": 4,
 "nbformat_minor": 4
}
