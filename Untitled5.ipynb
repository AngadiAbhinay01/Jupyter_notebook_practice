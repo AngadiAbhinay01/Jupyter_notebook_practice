{
 "cells": [
  {
   "cell_type": "code",
   "execution_count": 2,
   "id": "d2c96557",
   "metadata": {},
   "outputs": [
    {
     "name": "stdout",
     "output_type": "stream",
     "text": [
      "6\n",
      "6\n",
      "6\n",
      "6\n",
      "6\n"
     ]
    }
   ],
   "source": [
    "l = \"Length of the longest substring without repeating characters:\"\n",
    "words = l.split()\n",
    "word = len(words[0])\n",
    "for w in words:\n",
    "    if len(w) > word:\n",
    "        \n",
    "        \n",
    "    "
   ]
  },
  {
   "cell_type": "code",
   "execution_count": null,
   "id": "6ddb5022",
   "metadata": {},
   "outputs": [],
   "source": [
    "l = \"Length of the longest substring without repeating characters:\"\n",
    "\n",
    "max_length = 0\n",
    "start = 0\n",
    "visited = {}\n",
    "\n",
    "for i in range(len(l)):\n",
    "    if l[i] in visited and start <= visited[l[i]]:\n",
    "        \n",
    "        \n",
    "    else:\n",
    "        max_length = max(max_length, start-i+1)\n",
    "        \n",
    "    visited[l[i]] = i\n",
    "    \n",
    "\n",
    "\n",
    "\n",
    "\n",
    "\n",
    "\n",
    "\n",
    "\n",
    "\n",
    "\n",
    "\n"
   ]
  },
  {
   "cell_type": "code",
   "execution_count": 2,
   "id": "5dc4c626",
   "metadata": {},
   "outputs": [
    {
     "name": "stdout",
     "output_type": "stream",
     "text": [
      "4\n",
      "{'a': 0, 'b': 6, 'd': 2, 'c': 5}\n"
     ]
    }
   ],
   "source": [
    "l = \"abdabcbb\"\n",
    "n = len(l)\n",
    "if n == 0:\n",
    "    print(False)\n",
    "max_length = 0\n",
    "start = 0\n",
    "dict1 = {}\n",
    "\n",
    "for i in range(n):\n",
    "    if l[i] in dict1 and dict1[l[i]]>=start:\n",
    "        start = dict1[l[i]] + 1\n",
    "    else:\n",
    "        dict1[l[i]] = i\n",
    "    max_length = max(max_length,i-start)\n",
    "print(max_length)\n",
    "\n"
   ]
  },
  {
   "cell_type": "code",
   "execution_count": 6,
   "id": "8d0fe6e8",
   "metadata": {},
   "outputs": [
    {
     "name": "stdout",
     "output_type": "stream",
     "text": [
      "1\n",
      "{'a': 0}\n",
      "2\n",
      "{'a': 0, 'b': 1}\n",
      "3\n",
      "{'a': 0, 'b': 1, 'c': 2}\n",
      "1\n",
      "{'a': 3, 'b': 1, 'c': 2}\n",
      "2\n",
      "{'a': 3, 'b': 4, 'c': 2}\n",
      "3\n",
      "{'a': 3, 'b': 4, 'c': 5}\n",
      "5\n",
      "{'a': 3, 'b': 6, 'c': 5}\n",
      "7\n",
      "{'a': 3, 'b': 7, 'c': 5}\n",
      "Longest substring without repeating characters: 3\n"
     ]
    }
   ],
   "source": [
    "def longest_substring(s):\n",
    "    n = len(s)\n",
    "    if n == 0:\n",
    "        return 0\n",
    "    \n",
    "    max_length = 0\n",
    "    start = 0\n",
    "    visited = {}\n",
    "    \n",
    "    for end in range(n):\n",
    "        if s[end] in visited and start <= visited[s[end]]:\n",
    "            start = visited[s[end]] + 1\n",
    "            print(start)\n",
    "        else:\n",
    "            max_length = max(max_length, end - start + 1)\n",
    "            print(max_length)\n",
    "        visited[s[end]] = end\n",
    "        print(visited)\n",
    "        \n",
    "    return max_length\n",
    "\n",
    "# Example usage:\n",
    "input_string = \"abcabcbb\"\n",
    "print(\"Longest substring without repeating characters:\", longest_substring(input_string))\n"
   ]
  },
  {
   "cell_type": "code",
   "execution_count": 11,
   "id": "5b84f25a",
   "metadata": {},
   "outputs": [
    {
     "name": "stdout",
     "output_type": "stream",
     "text": [
      "1\n",
      "3\n",
      "5\n",
      "7\n",
      "9\n",
      "11\n",
      "33\n",
      "55\n",
      "77\n",
      "99\n"
     ]
    }
   ],
   "source": [
    "s1 = 1\n",
    "s2 = 100\n",
    "for num in range(s1,s2):\n",
    "    temp = num\n",
    "    res = 0\n",
    "        \n",
    "    while temp >0:\n",
    "        last = temp % 10\n",
    "        res = res * 10 + last\n",
    "        temp = temp // 10\n",
    "    \n",
    "    if num == res:\n",
    "        if num % 2 != 0:\n",
    "            print(num)"
   ]
  },
  {
   "cell_type": "code",
   "execution_count": 19,
   "id": "95439864",
   "metadata": {},
   "outputs": [
    {
     "data": {
      "text/plain": [
       "'ab2c1'"
      ]
     },
     "execution_count": 19,
     "metadata": {},
     "output_type": "execute_result"
    }
   ],
   "source": [
    "def char_count(x):\n",
    "    res = \"\"\n",
    "    count = 0\n",
    "    for char in range(1,len(x)):\n",
    "        if x[char] == x[char-1]:\n",
    "            count = count + 1\n",
    "        else:\n",
    "            res = res + x[char-1] + (str(count) if count>0 else \"\")\n",
    "            count = 1\n",
    "    res = res + x[-1] + (str(count) if count>0 else \"\")\n",
    "    return res\n",
    "    \n",
    "x = \"abbc\"\n",
    "res = char_count(x)\n",
    "res                        "
   ]
  },
  {
   "cell_type": "code",
   "execution_count": 24,
   "id": "cb0204d8",
   "metadata": {},
   "outputs": [
    {
     "name": "stdout",
     "output_type": "stream",
     "text": [
      "ihbauhsi\n"
     ]
    }
   ],
   "source": [
    "s = \"abhi ishu\"\n",
    "s = s.split()\n",
    "res = []\n",
    "for char in range(len(s)):\n",
    "    res.append(s[char][::-1])\n",
    "print(\"\".join(res))"
   ]
  },
  {
   "cell_type": "code",
   "execution_count": 2,
   "id": "e2fce4c4",
   "metadata": {},
   "outputs": [
    {
     "name": "stdout",
     "output_type": "stream",
     "text": [
      "120\n"
     ]
    }
   ],
   "source": [
    "num = 5\n",
    "fact = 1\n",
    "while num > 0:\n",
    "    fact = fact * num\n",
    "    num = num -1\n",
    "print(fact)\n",
    "    "
   ]
  },
  {
   "cell_type": "code",
   "execution_count": 3,
   "id": "1dd7b48f",
   "metadata": {},
   "outputs": [
    {
     "data": {
      "text/plain": [
       "120"
      ]
     },
     "execution_count": 3,
     "metadata": {},
     "output_type": "execute_result"
    }
   ],
   "source": [
    "def fun(num):\n",
    "    if num<0:\n",
    "        return False\n",
    "    elif num==0 or num == 1:\n",
    "        return 1\n",
    "    else:\n",
    "        fact = 1\n",
    "        while num>0:\n",
    "            fact = fact *num\n",
    "            num = num-1\n",
    "    return fact\n",
    "\n",
    "\n",
    "num = 5\n",
    "fun(num)"
   ]
  },
  {
   "cell_type": "code",
   "execution_count": 4,
   "id": "7b2c2b27",
   "metadata": {},
   "outputs": [
    {
     "name": "stdout",
     "output_type": "stream",
     "text": [
      "120\n"
     ]
    }
   ],
   "source": [
    "import math\n",
    "num = 5\n",
    "res = math.factorial(num)\n",
    "print(res)"
   ]
  },
  {
   "cell_type": "code",
   "execution_count": 6,
   "id": "e9a76869",
   "metadata": {},
   "outputs": [
    {
     "name": "stdout",
     "output_type": "stream",
     "text": [
      "7 is a prime\n"
     ]
    }
   ],
   "source": [
    "num = 7\n",
    "if num > 1:\n",
    "    for i in range(2,num):\n",
    "        if num%i==0:\n",
    "            print(num,'is not a prime')\n",
    "            break\n",
    "    else:\n",
    "        print(num,'is a prime')\n",
    "else:\n",
    "    print(num,'is not a prime')"
   ]
  },
  {
   "cell_type": "code",
   "execution_count": 9,
   "id": "044bb538",
   "metadata": {},
   "outputs": [
    {
     "name": "stdout",
     "output_type": "stream",
     "text": [
      "2\n",
      "3\n",
      "5\n",
      "7\n",
      "11\n",
      "13\n",
      "17\n",
      "19\n",
      "23\n",
      "29\n"
     ]
    }
   ],
   "source": [
    "start = 1\n",
    "stop = 30\n",
    "\n",
    "for i in range(start, stop):\n",
    "    if i > 1:\n",
    "        for j in range(2, i):\n",
    "            if i%j == 0:\n",
    "                break\n",
    "        else:\n",
    "            print(i)\n",
    "    "
   ]
  },
  {
   "cell_type": "code",
   "execution_count": 10,
   "id": "968644f6",
   "metadata": {},
   "outputs": [
    {
     "name": "stdout",
     "output_type": "stream",
     "text": [
      "0\n",
      "1\n",
      "1\n",
      "2\n",
      "3\n",
      "5\n",
      "8\n",
      "13\n",
      "21\n",
      "34\n",
      "55\n",
      "89\n"
     ]
    }
   ],
   "source": [
    "def fibb(num):\n",
    "    a = 0\n",
    "    b = 1\n",
    "    print(a)\n",
    "    print(b)\n",
    "    \n",
    "    for i in range(num):\n",
    "        print(a+b)\n",
    "        a, b = b, a+b\n",
    "\n",
    "num = 10\n",
    "fibb(num)"
   ]
  },
  {
   "cell_type": "code",
   "execution_count": 14,
   "id": "35f11819",
   "metadata": {},
   "outputs": [
    {
     "data": {
      "text/plain": [
       "21"
      ]
     },
     "execution_count": 14,
     "metadata": {},
     "output_type": "execute_result"
    }
   ],
   "source": [
    "def fibonacci(num):\n",
    "    if num<0:\n",
    "        return False\n",
    "    if num==1:\n",
    "        return 0\n",
    "    if num==2:\n",
    "        return 1\n",
    "    else:\n",
    "        return fibonacci(num-1)+fibonacci(num-2)\n",
    "\n",
    "num = 9\n",
    "fibonacci(num)"
   ]
  },
  {
   "cell_type": "code",
   "execution_count": 3,
   "id": "16a614f8",
   "metadata": {},
   "outputs": [
    {
     "name": "stdout",
     "output_type": "stream",
     "text": [
      "0\n",
      "1\n",
      "1\n",
      "2\n",
      "3\n",
      "5\n",
      "8\n",
      "13\n",
      "10 is not a fibb\n"
     ]
    }
   ],
   "source": [
    "def fun(n):\n",
    "    a = 0\n",
    "    b = 1\n",
    "    res = 1\n",
    "    print(a)\n",
    "    print(b)\n",
    "    print(res)\n",
    "    \n",
    "    while res<n:\n",
    "        a = b\n",
    "        b = res\n",
    "        res = a+b\n",
    "        print(res)\n",
    "        \n",
    "    if res == n:\n",
    "        print(n,'is a fibb')\n",
    "    else:\n",
    "        print(n,'is not a fibb')\n",
    "\n",
    "n = 10\n",
    "fun(n)"
   ]
  },
  {
   "cell_type": "code",
   "execution_count": 5,
   "id": "124a8a8f",
   "metadata": {},
   "outputs": [
    {
     "name": "stdout",
     "output_type": "stream",
     "text": [
      "543\n"
     ]
    }
   ],
   "source": [
    "num = 345\n",
    "res = 0\n",
    "\n",
    "while num >0:\n",
    "    rem = num%10\n",
    "    res = res *10+rem\n",
    "    num = num//10\n",
    "print(res)"
   ]
  },
  {
   "cell_type": "code",
   "execution_count": 12,
   "id": "4f9d0ac7",
   "metadata": {},
   "outputs": [
    {
     "name": "stdout",
     "output_type": "stream",
     "text": [
      "101\n",
      "111\n",
      "121\n",
      "131\n",
      "141\n",
      "151\n",
      "161\n",
      "171\n",
      "181\n",
      "191\n"
     ]
    }
   ],
   "source": [
    "s1 = 100\n",
    "s2 = 200\n",
    "\n",
    "for num in range(s1,s2):\n",
    "    temp = num\n",
    "    res = 0\n",
    "    while num>0:\n",
    "        \n",
    "        rem = num%10\n",
    "        res = res*10+rem\n",
    "        num = num//10\n",
    "    \n",
    "        if res == temp:\n",
    "            print(res)"
   ]
  },
  {
   "cell_type": "code",
   "execution_count": 13,
   "id": "a5585748",
   "metadata": {},
   "outputs": [
    {
     "name": "stdout",
     "output_type": "stream",
     "text": [
      "1\n",
      "2\n",
      "3\n",
      "4\n",
      "5\n",
      "6\n",
      "7\n",
      "8\n",
      "9\n",
      "10\n"
     ]
    }
   ],
   "source": [
    "def fun(n):\n",
    "    if n>0:\n",
    "        fun(n-1)\n",
    "        print(n)\n",
    "\n",
    "n = 10\n",
    "fun(n)"
   ]
  },
  {
   "cell_type": "code",
   "execution_count": 15,
   "id": "07a56abc",
   "metadata": {},
   "outputs": [
    {
     "name": "stdout",
     "output_type": "stream",
     "text": [
      "32 is power of 2\n"
     ]
    }
   ],
   "source": [
    "n = 32\n",
    "res = 0\n",
    "\n",
    "for i in range(1,n+1):\n",
    "    res = 1<<i\n",
    "    if res == n:\n",
    "        print(n,'is power of 2')\n",
    "        break\n",
    "else:\n",
    "    print(n,'is not a power of 2')"
   ]
  },
  {
   "cell_type": "code",
   "execution_count": 16,
   "id": "db32bfd3",
   "metadata": {},
   "outputs": [
    {
     "data": {
      "text/plain": [
       "6"
      ]
     },
     "execution_count": 16,
     "metadata": {},
     "output_type": "execute_result"
    }
   ],
   "source": [
    "def fun(n1,n2):\n",
    "    max1 = max(n1,n2)\n",
    "    \n",
    "    while True:\n",
    "        if max1%n1==0 and max1%n2==0:\n",
    "            lcm = max1\n",
    "            break\n",
    "        max1 +=1\n",
    "    return lcm\n",
    "\n",
    "n1 = 3\n",
    "n2 = 6\n",
    "fun(n1,n2)"
   ]
  },
  {
   "cell_type": "code",
   "execution_count": 20,
   "id": "06362976",
   "metadata": {},
   "outputs": [
    {
     "data": {
      "text/plain": [
       "3"
      ]
     },
     "execution_count": 20,
     "metadata": {},
     "output_type": "execute_result"
    }
   ],
   "source": [
    "def gcd(n1,n2):\n",
    "    while n2:\n",
    "        if n1>0:\n",
    "            n1, n2 = n2, n1%n2\n",
    "    return n1\n",
    "\n",
    "\n",
    "n1 = 3\n",
    "n2 = 6\n",
    "gcd(n1,n2)"
   ]
  },
  {
   "cell_type": "code",
   "execution_count": 24,
   "id": "45074344",
   "metadata": {},
   "outputs": [
    {
     "name": "stdout",
     "output_type": "stream",
     "text": [
      "[2, 4, 6, 8, 10]\n"
     ]
    }
   ],
   "source": [
    "def fun(num):\n",
    "    if num%2 == 0:\n",
    "        return True\n",
    "    else:\n",
    "        return False\n",
    "\n",
    "x = [1,2,3,4,5,6,7,8,9,10]\n",
    "\n",
    "res = filter(fun, x)\n",
    "print(list(res))"
   ]
  },
  {
   "cell_type": "code",
   "execution_count": 62,
   "id": "0484cec8",
   "metadata": {},
   "outputs": [],
   "source": [
    "# Function to generate Fibonacci numbers up to a given limit\n",
    "def generate_fibonacci(limit):\n",
    "    fibonacci_numbers = []\n",
    "    a, b = 0, 1\n",
    "    for i in range(2, num-1):\n",
    "        fibonacci_numbers.append(a)\n",
    "        a, b = b, a + b\n",
    "    return fibonacci_numbers\n",
    "limit = 10\n"
   ]
  },
  {
   "cell_type": "code",
   "execution_count": 67,
   "id": "9b91d4da",
   "metadata": {},
   "outputs": [
    {
     "data": {
      "text/plain": [
       "False"
      ]
     },
     "execution_count": 67,
     "metadata": {},
     "output_type": "execute_result"
    }
   ],
   "source": [
    "# Function to check if a number is a Fibonacci number\n",
    "def is_fibonacci(num, fibonacci_numbers):\n",
    "    return num in fibonacci_numbers\n",
    "\n",
    "is_fibonacci(4, fibonacci_numbers)\n"
   ]
  },
  {
   "cell_type": "code",
   "execution_count": null,
   "id": "adcd61f4",
   "metadata": {},
   "outputs": [],
   "source": [
    "# List of elements to filter\n",
    "x = [1, 2, 3, 4, 5, 6, 7, 8, 9, 10]\n",
    "\n",
    "# Use filter() to keep only Fibonacci numbers\n",
    "res = filter(lambda num: is_fibonacci(num, fibonacci_numbers), x)\n",
    "\n",
    "# Convert the result to a list and print it\n",
    "print(list(res))"
   ]
  },
  {
   "cell_type": "code",
   "execution_count": 1,
   "id": "cada0231",
   "metadata": {},
   "outputs": [
    {
     "name": "stdout",
     "output_type": "stream",
     "text": [
      "1\n",
      "2\n",
      "3\n",
      "4\n",
      "5\n",
      "6\n",
      "7\n",
      "8\n",
      "9\n",
      "10\n"
     ]
    }
   ],
   "source": [
    "def fun(n):\n",
    "    if n > 0:\n",
    "        fun(n-1)\n",
    "        print(n)\n",
    "\n",
    "n = 10\n",
    "fun(n)"
   ]
  },
  {
   "cell_type": "code",
   "execution_count": 5,
   "id": "b461c497",
   "metadata": {},
   "outputs": [
    {
     "name": "stdout",
     "output_type": "stream",
     "text": [
      "2\n",
      "5\n"
     ]
    }
   ],
   "source": [
    "def fun(num):\n",
    "    for i in range(2,num+1):\n",
    "        if num%i == 0:\n",
    "            is_prime = 1\n",
    "            for j in range(2,i):\n",
    "                if i%j == 0:\n",
    "                    is_prime = 0\n",
    "                    break\n",
    "            if is_prime == 1:\n",
    "                print(i)\n",
    "            \n",
    "num = 10\n",
    "fun(num)"
   ]
  },
  {
   "cell_type": "code",
   "execution_count": 6,
   "id": "ea7c9052",
   "metadata": {},
   "outputs": [
    {
     "name": "stdout",
     "output_type": "stream",
     "text": [
      "4 is power of 2\n"
     ]
    }
   ],
   "source": [
    "num = 4\n",
    "res = 0\n",
    "i = 1\n",
    "while i<=num:\n",
    "    res = 1<<i\n",
    "    if res == num:\n",
    "        print(num,'is power of 2')\n",
    "        break\n",
    "    i = i + 1\n",
    "else:\n",
    "    print(num,'is not power of 2')\n",
    "    "
   ]
  },
  {
   "cell_type": "code",
   "execution_count": 9,
   "id": "ae53c1e7",
   "metadata": {},
   "outputs": [
    {
     "name": "stdout",
     "output_type": "stream",
     "text": [
      "4 is a power of 2\n"
     ]
    }
   ],
   "source": [
    "num = 4\n",
    "res = 0\n",
    "\n",
    "for i in range(1, num+1):\n",
    "    res = 1<<i\n",
    "    if res == num:\n",
    "        print(num,'is a power of 2')\n",
    "        break\n",
    "else:\n",
    "    print(num,'is not a power of 2')"
   ]
  },
  {
   "cell_type": "code",
   "execution_count": 11,
   "id": "7f27d973",
   "metadata": {},
   "outputs": [
    {
     "name": "stdout",
     "output_type": "stream",
     "text": [
      "1 2 3 4 5 6 7 8 9 10\n"
     ]
    },
    {
     "data": {
      "text/plain": [
       "[2, 3, 4, 5, 6, 7, 8, 9, 10, 11]"
      ]
     },
     "execution_count": 11,
     "metadata": {},
     "output_type": "execute_result"
    }
   ],
   "source": [
    "res = list(map(lambda x:x+1, list(map(int, input().split()))))\n",
    "res"
   ]
  },
  {
   "cell_type": "code",
   "execution_count": 3,
   "id": "6d6721d0",
   "metadata": {},
   "outputs": [
    {
     "name": "stdout",
     "output_type": "stream",
     "text": [
      "1\n",
      "2\n",
      "3\n",
      "4\n",
      "5\n",
      "6\n",
      "7\n",
      "8\n",
      "9\n",
      "0\n",
      "[1, 2, 3, 4, 5, 6, 7, 8, 9, 0]\n"
     ]
    }
   ],
   "source": [
    "x = []\n",
    "n = int(10)\n",
    "for i in range(0,n):\n",
    "    a = int(input())\n",
    "    x.append(a)\n",
    "print(x)"
   ]
  },
  {
   "cell_type": "code",
   "execution_count": 17,
   "id": "9208f7dd",
   "metadata": {},
   "outputs": [
    {
     "name": "stdout",
     "output_type": "stream",
     "text": [
      "[[10 20 30]\n",
      " [40 50 60]\n",
      " [70 80 90]]\n",
      "10 40 70 \n",
      "20 50 80 \n",
      "30 60 90 \n"
     ]
    }
   ],
   "source": [
    "import numpy as np\n",
    "x = np.array([[10,20,30],[40,50,60],[70,80,90]])\n",
    "print(x)\n",
    "\n",
    "res = [[0,0,0],[0,0,0],[0,0,0]]\n",
    "\n",
    "for i in range(len(x)):\n",
    "    for j in range(len(x[0])):\n",
    "        res[j][i] = x[i][j]\n",
    "for i in range(len(res)):\n",
    "    for j in range(len(res)):\n",
    "        print(res[i][j],end=\" \")\n",
    "    print()"
   ]
  },
  {
   "cell_type": "code",
   "execution_count": 18,
   "id": "a583d3a9",
   "metadata": {},
   "outputs": [
    {
     "name": "stdout",
     "output_type": "stream",
     "text": [
      "{'apple': 2, 'banana': 4, 'orange': 1, 'pear': 2}\n"
     ]
    }
   ],
   "source": [
    "seq = ['apple','banana','apple','orange','banana','pear','banana','pear','banana']\n",
    "count = {}\n",
    "\n",
    "for word in seq:\n",
    "    if word in count:\n",
    "        count[word] += 1\n",
    "    else:\n",
    "        count[word] = 1\n",
    "print(count)"
   ]
  },
  {
   "cell_type": "code",
   "execution_count": 20,
   "id": "e816501c",
   "metadata": {},
   "outputs": [
    {
     "name": "stdout",
     "output_type": "stream",
     "text": [
      "45\n"
     ]
    }
   ],
   "source": [
    "def fun(l):\n",
    "    large1 = l[0]\n",
    "    large2 = l[0]\n",
    "    \n",
    "    for i in range(len(l)):\n",
    "        if l[i]>large1:\n",
    "            large1 = l[i]\n",
    "    for i in range(len(l)):\n",
    "        if l[i] > large2 and l[i] != large1:\n",
    "            large2 = l[i]\n",
    "    return large2\n",
    "list1 = [10, 20, 4, 45, 99]\n",
    "print(fun(list1))"
   ]
  },
  {
   "cell_type": "code",
   "execution_count": 31,
   "id": "b72eb3e2",
   "metadata": {},
   "outputs": [
    {
     "name": "stdout",
     "output_type": "stream",
     "text": [
      "99\n"
     ]
    }
   ],
   "source": [
    "def secondlarge(l,n):\n",
    "    res = []\n",
    "    \n",
    "    for i in range(0,n):\n",
    "        max1 = 0\n",
    "        \n",
    "        for j in range(0,len(l)):\n",
    "            if l[j] > max1:\n",
    "                max1 = l[j]\n",
    "        l.remove(max1)\n",
    "        res.append(max1)\n",
    "    return res[-1]\n",
    "\n",
    "\n",
    "list1 = [10, 20, 4, 45, 99]\n",
    "num = 1\n",
    "print(secondlarge(list1,num))"
   ]
  },
  {
   "cell_type": "code",
   "execution_count": 32,
   "id": "96284f94",
   "metadata": {},
   "outputs": [
    {
     "name": "stdout",
     "output_type": "stream",
     "text": [
      "45\n"
     ]
    }
   ],
   "source": [
    "def secondlarge(l,n):\n",
    "    res = []\n",
    "    \n",
    "    for i in range(0,n):\n",
    "        max1 = 0\n",
    "        \n",
    "        for j in range(0,len(l)):\n",
    "            if l[j] > max1:\n",
    "                max1 = l[j]\n",
    "        l.remove(max1)\n",
    "        res.append(max1)\n",
    "    return res[-1]\n",
    "\n",
    "\n",
    "list1 = [10, 20, 4, 45, 99]\n",
    "num = 2\n",
    "print(secondlarge(list1,num))"
   ]
  },
  {
   "cell_type": "code",
   "execution_count": 8,
   "id": "11c8d7fd",
   "metadata": {},
   "outputs": [
    {
     "data": {
      "text/plain": [
       "[67, 4, 5, 3, 8, 34, 92, 5, 66, 7]"
      ]
     },
     "execution_count": 8,
     "metadata": {},
     "output_type": "execute_result"
    }
   ],
   "source": [
    "l = [67,4,5,3,8,34,92,5,66,7]\n",
    "res = list(filter(lambda x:x-1, l))\n",
    "res"
   ]
  },
  {
   "cell_type": "code",
   "execution_count": 3,
   "id": "12a4ba48",
   "metadata": {},
   "outputs": [
    {
     "name": "stdout",
     "output_type": "stream",
     "text": [
      "16\n"
     ]
    }
   ],
   "source": [
    "res = lambda x,y:x**3+y**3\n",
    "print(res(2,2))"
   ]
  },
  {
   "cell_type": "code",
   "execution_count": 11,
   "id": "93c128ec",
   "metadata": {},
   "outputs": [
    {
     "name": "stdout",
     "output_type": "stream",
     "text": [
      "1\n",
      "2\n",
      "3\n",
      "4\n",
      "5\n",
      "6\n",
      "7\n",
      "8\n",
      "9\n",
      "10\n"
     ]
    }
   ],
   "source": [
    "def fun(n):\n",
    "    if n>0:\n",
    "        fun(n-1)\n",
    "        print(n)\n",
    "    \n",
    "n = 10\n",
    "fun(n)"
   ]
  },
  {
   "cell_type": "code",
   "execution_count": 17,
   "id": "8376a714",
   "metadata": {},
   "outputs": [
    {
     "name": "stdout",
     "output_type": "stream",
     "text": [
      "4\n"
     ]
    }
   ],
   "source": [
    "s = \"abdabcbb\"\n",
    "\n",
    "start = 0\n",
    "max_length = 0\n",
    "count = {}\n",
    "\n",
    "for i in range(len(s)):\n",
    "    if s[i] in count and start <= count[s[i]]:\n",
    "        start = count[s[i]]+1\n",
    "    \n",
    "    else:\n",
    "        max_length = max(max_length, i-start+1)\n",
    "    count[s[i]] = i\n",
    "print(max_length)"
   ]
  },
  {
   "cell_type": "code",
   "execution_count": 20,
   "id": "fd225b81",
   "metadata": {},
   "outputs": [
    {
     "name": "stdout",
     "output_type": "stream",
     "text": [
      "{'aet': ['eat', 'tea', 'ate'], 'ant': ['tan', 'nat'], 'abt': ['bat']}\n"
     ]
    }
   ],
   "source": [
    "def group_anagrams(s):\n",
    "    count = {}\n",
    "    \n",
    "    for word in s:\n",
    "        sorted_word = \"\".join(sorted(word))\n",
    "        \n",
    "        if sorted_word in count:\n",
    "            count[sorted_word].append(word)\n",
    "        else:\n",
    "            count[sorted_word] = [word]\n",
    "        \n",
    "    return count\n",
    "\n",
    "\n",
    "str1 = [\"eat\",\"tea\",\"tan\",\"ate\",\"nat\",\"bat\"]\n",
    "res = group_anagrams(str1)\n",
    "print(res)"
   ]
  },
  {
   "cell_type": "code",
   "execution_count": 21,
   "id": "699e995c",
   "metadata": {},
   "outputs": [
    {
     "data": {
      "text/plain": [
       "'ab2c'"
      ]
     },
     "execution_count": 21,
     "metadata": {},
     "output_type": "execute_result"
    }
   ],
   "source": [
    "def char_count(x):\n",
    "    count = 0\n",
    "    s = \"\"\n",
    "    \n",
    "    for i in range(1,len(x)):\n",
    "        if x[i] == x[i-1]:\n",
    "            count += 1\n",
    "        else:\n",
    "            s = s + x[i-1] + str(count if count>1 else \"\")\n",
    "            count = 1\n",
    "    s = s + x[-1] + str(count if count>1 else \"\")\n",
    "    count = 1\n",
    "    return s\n",
    "\n",
    "\n",
    "x = \"abbc\"\n",
    "res = char_count(x)\n",
    "res    "
   ]
  },
  {
   "cell_type": "code",
   "execution_count": 29,
   "id": "2d07614e",
   "metadata": {},
   "outputs": [
    {
     "name": "stdout",
     "output_type": "stream",
     "text": [
      "a\n"
     ]
    }
   ],
   "source": [
    "def fun(s):\n",
    "    counts = {}\n",
    "\n",
    "    for char in s:\n",
    "        if char in counts:\n",
    "            counts[char] +=1\n",
    "        else:\n",
    "            counts[char] = 1\n",
    "\n",
    "    max1 = max(counts.values())\n",
    "\n",
    "    for i in counts:\n",
    "        if max1 == counts[i]:\n",
    "            print(i)\n",
    "s1 = 'ishwarya'\n",
    "s2 = 'abhinay'\n",
    "fun(s2)"
   ]
  },
  {
   "cell_type": "code",
   "execution_count": 1,
   "id": "cde1acf0",
   "metadata": {},
   "outputs": [
    {
     "name": "stdout",
     "output_type": "stream",
     "text": [
      "Sorted array is: [11, 12, 22, 25, 34, 64, 90]\n"
     ]
    }
   ],
   "source": [
    "def bubble_sort(arr):\n",
    "    n = len(arr)\n",
    "    \n",
    "    for i in range(n):\n",
    "        for j in range(0, n-i-1):\n",
    "            if arr[j] > arr[j+1]:\n",
    "                arr[j], arr[j+1] = arr[j+1], arr[j]\n",
    "    return arr\n",
    "\n",
    "my_list = [64, 34, 25, 12, 22, 11, 90]\n",
    "bubble_sort(my_list)\n",
    "print(\"Sorted array is:\", my_list)"
   ]
  },
  {
   "cell_type": "code",
   "execution_count": 4,
   "id": "a9826107",
   "metadata": {},
   "outputs": [
    {
     "name": "stdout",
     "output_type": "stream",
     "text": [
      "Sorted array is: [11, 12, 22, 25, 34, 64, 90]\n"
     ]
    }
   ],
   "source": [
    "def selection_sort(arr):\n",
    "    n = len(arr)\n",
    "    \n",
    "    for i in range(n):\n",
    "        min_index = i\n",
    "        \n",
    "        for j in range(i+1, n):\n",
    "            if arr[j] < arr[min_index]:\n",
    "                min_index = j\n",
    "        arr[i], arr[min_index] = arr[min_index], arr[i]\n",
    "\n",
    "my_list = [64, 34, 25, 12, 22, 11, 90]\n",
    "selection_sort(my_list)\n",
    "print(\"Sorted array is:\", my_list)"
   ]
  },
  {
   "cell_type": "code",
   "execution_count": 8,
   "id": "40504016",
   "metadata": {},
   "outputs": [
    {
     "data": {
      "text/plain": [
       "4"
      ]
     },
     "execution_count": 8,
     "metadata": {},
     "output_type": "execute_result"
    }
   ],
   "source": [
    "def binary(arr,target):\n",
    "    low = 0\n",
    "    high = len(arr)-1\n",
    "    \n",
    "    while low<=high:\n",
    "        mid = (low+high)//2\n",
    "        \n",
    "        if arr[mid] == target:\n",
    "            return mid\n",
    "        elif arr[mid]< target:\n",
    "            low = mid + 1\n",
    "        else:\n",
    "            high = mid-1\n",
    "    return -1\n",
    "\n",
    "my_list = [11, 12, 22, 25, 34, 64, 90]\n",
    "target = 34\n",
    "binary(my_list,target)"
   ]
  },
  {
   "cell_type": "code",
   "execution_count": 1,
   "id": "201a86dd",
   "metadata": {},
   "outputs": [],
   "source": [
    "import pandas as pd\n",
    "from sklearn import linear_model"
   ]
  },
  {
   "cell_type": "code",
   "execution_count": 2,
   "id": "7099b63a",
   "metadata": {},
   "outputs": [],
   "source": [
    "model = linear_model.LinearRegression()"
   ]
  },
  {
   "cell_type": "code",
   "execution_count": null,
   "id": "fb621bd7",
   "metadata": {},
   "outputs": [],
   "source": [
    "model.fit()"
   ]
  },
  {
   "cell_type": "code",
   "execution_count": 4,
   "id": "af91be0e",
   "metadata": {},
   "outputs": [],
   "source": [
    "import matplotlib.pyplot as plt\n",
    "import seaborn as sns"
   ]
  },
  {
   "cell_type": "code",
   "execution_count": null,
   "id": "8574a1fb",
   "metadata": {},
   "outputs": [],
   "source": [
    "plt.figure(figsize=(10,7))\n",
    "sns.heatmap(cm, annot=True)"
   ]
  },
  {
   "cell_type": "code",
   "execution_count": 3,
   "id": "17c3f412",
   "metadata": {},
   "outputs": [
    {
     "data": {
      "text/plain": [
       "3"
      ]
     },
     "execution_count": 3,
     "metadata": {},
     "output_type": "execute_result"
    }
   ],
   "source": [
    "def fun(arr,k):\n",
    "    count = 0\n",
    "    pre_sum = 0\n",
    "    dict1 = {0:1}\n",
    "    \n",
    "    for num in arr:\n",
    "        pre_sum = pre_sum + num\n",
    "        \n",
    "        if pre_sum - k in dict1:\n",
    "            count = count + dict1[pre_sum - k]\n",
    "        if pre_sum in dict1:\n",
    "            dict1[pre_sum] = dict1[pre_sum] + 1\n",
    "            \n",
    "        else:\n",
    "            dict1[pre_sum] = 1\n",
    "    return count\n",
    "\n",
    "\n",
    "\n",
    "\n",
    "array = [10, 2, -2, -20, 10]\n",
    "k = -10\n",
    "fun(array, k)"
   ]
  },
  {
   "cell_type": "code",
   "execution_count": 4,
   "id": "0c0300c2",
   "metadata": {},
   "outputs": [
    {
     "name": "stdout",
     "output_type": "stream",
     "text": [
      "6\n"
     ]
    }
   ],
   "source": [
    "def max_subarray(nums):\n",
    "    c_sum = nums[0]\n",
    "    m_sum = nums[0]\n",
    "    \n",
    "    for i in range(1,len(nums)):\n",
    "        c_sum = max(nums[i], nums[i]+c_sum)\n",
    "        m_sum = max(m_sum,c_sum)\n",
    "    return m_sum\n",
    "\n",
    "\n",
    "nums = [-2,1,-3,4,-1,2,1,-5,4]\n",
    "res = max_subarray(nums)\n",
    "print(res)"
   ]
  },
  {
   "cell_type": "code",
   "execution_count": 10,
   "id": "6dfea92a",
   "metadata": {},
   "outputs": [
    {
     "data": {
      "text/plain": [
       "'fl'"
      ]
     },
     "execution_count": 10,
     "metadata": {},
     "output_type": "execute_result"
    }
   ],
   "source": [
    "def longest_common_prefix(s):\n",
    "    lcp = \"\"\n",
    "    \n",
    "    min_index = len(s[0])\n",
    "    for i in range(len(s)):\n",
    "        min_index = min(min_index, len(s[i]))\n",
    "        \n",
    "    for i in range(0,min_index):\n",
    "        current = s[0][i]\n",
    "        for j in range(0,len(s)):\n",
    "            if s[j][i] != current:\n",
    "                return lcp\n",
    "        lcp = lcp + current\n",
    "    return lcp\n",
    "\n",
    "\n",
    "\n",
    "s = ['flower','flow','flight']\n",
    "longest_common_prefix(s)"
   ]
  },
  {
   "cell_type": "code",
   "execution_count": 14,
   "id": "b24ca8d0",
   "metadata": {},
   "outputs": [
    {
     "ename": "IndexError",
     "evalue": "list index out of range",
     "output_type": "error",
     "traceback": [
      "\u001b[1;31m---------------------------------------------------------------------------\u001b[0m",
      "\u001b[1;31mIndexError\u001b[0m                                Traceback (most recent call last)",
      "Cell \u001b[1;32mIn[14], line 13\u001b[0m\n\u001b[0;32m     11\u001b[0m             mat[i\u001b[38;5;241m+\u001b[39m\u001b[38;5;241m1\u001b[39m][j\u001b[38;5;241m+\u001b[39m\u001b[38;5;241m1\u001b[39m] \u001b[38;5;241m=\u001b[39m mat[i][j]\u001b[38;5;241m+\u001b[39m\u001b[38;5;241m1\u001b[39m\n\u001b[0;32m     12\u001b[0m         \u001b[38;5;28;01melse\u001b[39;00m:\n\u001b[1;32m---> 13\u001b[0m             mat[i\u001b[38;5;241m+\u001b[39m\u001b[38;5;241m1\u001b[39m][j\u001b[38;5;241m+\u001b[39m\u001b[38;5;241m1\u001b[39m] \u001b[38;5;241m=\u001b[39m \u001b[38;5;28mmax\u001b[39m(mat[i][j\u001b[38;5;241m+\u001b[39m\u001b[38;5;241m1\u001b[39m], mat[i\u001b[38;5;241m+\u001b[39m\u001b[38;5;241m1\u001b[39m][j])\n\u001b[0;32m     14\u001b[0m \u001b[38;5;28mprint\u001b[39m(mat)\n",
      "\u001b[1;31mIndexError\u001b[0m: list index out of range"
     ]
    }
   ],
   "source": [
    "t1 = \"abcde\"\n",
    "t2 = \"ace\"\n",
    "m = len(t1)\n",
    "n = len(t2)\n",
    "\n",
    "mat = [[0]*(n+1) for z in range(m)]\n",
    "\n",
    "for i in range(m):\n",
    "    for j in range(n):\n",
    "        if t1[i] == t2[j]:\n",
    "            mat[i+1][j+1] = mat[i][j]+1\n",
    "        else:\n",
    "            mat[i+1][j+1] = max(mat[i][j+1], mat[i+1][j])\n",
    "print(mat)\n",
    "\n"
   ]
  },
  {
   "cell_type": "code",
   "execution_count": 16,
   "id": "b2804e50",
   "metadata": {},
   "outputs": [
    {
     "data": {
      "text/plain": [
       "(5, [0, 1, 2, 3, 4])"
      ]
     },
     "execution_count": 16,
     "metadata": {},
     "output_type": "execute_result"
    }
   ],
   "source": [
    "def fun(nums):\n",
    "    index = 1\n",
    "    \n",
    "    for i in range(1,len(nums)):\n",
    "        if nums[i-1] != nums[i]:\n",
    "            nums[index] = nums[i]\n",
    "            index = index + 1\n",
    "    return index, nums[:index]\n",
    "\n",
    "\n",
    "nums = [0,0,1,1,1,2,2,3,3,4]\n",
    "fun(nums)"
   ]
  },
  {
   "cell_type": "code",
   "execution_count": 17,
   "id": "14f36df4",
   "metadata": {},
   "outputs": [
    {
     "data": {
      "text/plain": [
       "[0, 1, 2, 3, 4]"
      ]
     },
     "execution_count": 17,
     "metadata": {},
     "output_type": "execute_result"
    }
   ],
   "source": [
    "def fun(nums):\n",
    "    res = []\n",
    "    \n",
    "    for i in range(len(nums)):\n",
    "        if nums[i] not in res:\n",
    "            res.append(nums[i])\n",
    "    return res\n",
    "\n",
    "\n",
    "nums = [0,0,1,1,1,2,2,3,3,4]\n",
    "fun(nums)"
   ]
  },
  {
   "cell_type": "code",
   "execution_count": 22,
   "id": "78d23ac0",
   "metadata": {},
   "outputs": [
    {
     "data": {
      "text/plain": [
       "[1, 3, 12, 0, 0]"
      ]
     },
     "execution_count": 22,
     "metadata": {},
     "output_type": "execute_result"
    }
   ],
   "source": [
    "def move_zeros(nums):\n",
    "    non_zero_index = 0\n",
    "    \n",
    "    for i in range(len(nums)):\n",
    "        if nums[i] != 0:\n",
    "            nums[non_zero_index] = nums[i]\n",
    "            non_zero_index += 1\n",
    "    for i in range(non_zero_index,len(nums)):\n",
    "        nums[i] = 0\n",
    "    return nums\n",
    "    \n",
    "nums1 = [0, 1, 0, 3, 12]\n",
    "move_zeros(nums1)"
   ]
  },
  {
   "cell_type": "code",
   "execution_count": 24,
   "id": "3c0c4281",
   "metadata": {},
   "outputs": [
    {
     "data": {
      "text/plain": [
       "0"
      ]
     },
     "execution_count": 24,
     "metadata": {},
     "output_type": "execute_result"
    }
   ],
   "source": [
    "0%26"
   ]
  },
  {
   "cell_type": "code",
   "execution_count": 36,
   "id": "84cac008",
   "metadata": {},
   "outputs": [
    {
     "name": "stdout",
     "output_type": "stream",
     "text": [
      "A\n",
      "AI\n",
      "ZY\n"
     ]
    }
   ],
   "source": [
    "def excel_col(col_num):\n",
    "    col_name = \"\"\n",
    "    \n",
    "    while col_num > 0:\n",
    "        rem = (col_num - 1)%26\n",
    "        col_name = chr(ord('A')+rem) + col_name\n",
    "        col_num = (col_num - 1)//26\n",
    "    return col_name\n",
    "\n",
    "print(excel_col(1))  \n",
    "print(excel_col(35))  \n",
    "print(excel_col(701))\n"
   ]
  },
  {
   "cell_type": "code",
   "execution_count": 32,
   "id": "722675c0",
   "metadata": {},
   "outputs": [
    {
     "name": "stdout",
     "output_type": "stream",
     "text": [
      "1\n",
      "28\n",
      "701\n"
     ]
    }
   ],
   "source": [
    "def excel_name(col_name):\n",
    "    col_num = 0\n",
    "    for char in col_name:\n",
    "        val = ord(char) - ord('A') + 1\n",
    "        col_num = col_num *26 + val\n",
    "    return col_num\n",
    "    \n",
    "\n",
    "print(excel_name('A'))  \n",
    "print(excel_name('AB'))  \n",
    "print(excel_name('ZY'))"
   ]
  },
  {
   "cell_type": "code",
   "execution_count": 40,
   "id": "dd9be6ac",
   "metadata": {},
   "outputs": [
    {
     "data": {
      "text/plain": [
       "[1, 2, 4]"
      ]
     },
     "execution_count": 40,
     "metadata": {},
     "output_type": "execute_result"
    }
   ],
   "source": [
    "def increment(digits):\n",
    "    sum1 = 0\n",
    "    for num in digits:\n",
    "        sum1 = sum1*10 + num\n",
    "    sum1 = sum1+1\n",
    "    \n",
    "    res = []\n",
    "    while sum1>0:\n",
    "        res.insert(0,sum1%10)\n",
    "        sum1 = sum1//10\n",
    "    return res\n",
    "    \n",
    "    \n",
    "digits = [1,2,3]\n",
    "increment(digits) "
   ]
  },
  {
   "cell_type": "code",
   "execution_count": 8,
   "id": "aa79d81b",
   "metadata": {},
   "outputs": [
    {
     "name": "stdout",
     "output_type": "stream",
     "text": [
      "[1, 3]\n"
     ]
    }
   ],
   "source": [
    "my_list = [1, 2, 3, 4, 5]\n",
    "result = my_list[0:4:2]\n",
    "print(result)\n"
   ]
  },
  {
   "cell_type": "code",
   "execution_count": 9,
   "id": "42e16c10",
   "metadata": {},
   "outputs": [
    {
     "name": "stdout",
     "output_type": "stream",
     "text": [
      "True\n"
     ]
    }
   ],
   "source": [
    "list1 = [1, 2, 4, 3]\n",
    "list2 = [1, 2, 3, 4]\n",
    "print(list1 != list2)"
   ]
  },
  {
   "cell_type": "code",
   "execution_count": 13,
   "id": "bea4ef54",
   "metadata": {},
   "outputs": [
    {
     "name": "stdout",
     "output_type": "stream",
     "text": [
      "[3, 3]\n"
     ]
    }
   ],
   "source": [
    "i = j = [3]\n",
    "i = i + j\n",
    "\n",
    "print(i)"
   ]
  },
  {
   "cell_type": "code",
   "execution_count": 16,
   "id": "7a1cfe5a",
   "metadata": {},
   "outputs": [
    {
     "name": "stdout",
     "output_type": "stream",
     "text": [
      "[3, 4, 2]\n"
     ]
    }
   ],
   "source": [
    "def f1(a,b=[]):\n",
    "    b.append(a)\n",
    "    return b\n",
    "\n",
    "print (f1(2,[3,4]))\n"
   ]
  },
  {
   "cell_type": "code",
   "execution_count": 18,
   "id": "9e5e42e5",
   "metadata": {},
   "outputs": [
    {
     "data": {
      "text/plain": [
       "[3, 4, 8, 10, 12, 25]"
      ]
     },
     "execution_count": 18,
     "metadata": {},
     "output_type": "execute_result"
    }
   ],
   "source": [
    "lst = [10, 25, 4, 12, 3, 8]\n",
    "sorted(lst)\n"
   ]
  },
  {
   "cell_type": "code",
   "execution_count": 22,
   "id": "5a0646b3",
   "metadata": {},
   "outputs": [
    {
     "name": "stdout",
     "output_type": "stream",
     "text": [
      "-1\n"
     ]
    }
   ],
   "source": [
    "i, j, k = 4, -1, 0\n",
    "w = i or j or k\n",
    "x = i and j and k\n",
    "y = i or j and k\n",
    "z = i and j or k\n",
    "\n",
    "print(z)\n"
   ]
  },
  {
   "cell_type": "code",
   "execution_count": 34,
   "id": "a16e1bad",
   "metadata": {},
   "outputs": [
    {
     "name": "stdout",
     "output_type": "stream",
     "text": [
      "20 17 14 11 "
     ]
    }
   ],
   "source": [
    "for index in range(20, 10,-3):\n",
    "    print(index,end = ' ')"
   ]
  },
  {
   "cell_type": "code",
   "execution_count": null,
   "id": "71b2f6d5",
   "metadata": {},
   "outputs": [],
   "source": [
    "20 19 18 17 16 15 14 13 12 11"
   ]
  },
  {
   "cell_type": "code",
   "execution_count": 35,
   "id": "393bd417",
   "metadata": {},
   "outputs": [
    {
     "name": "stdout",
     "output_type": "stream",
     "text": [
      "True\n",
      "False\n"
     ]
    }
   ],
   "source": [
    "a = [1, 2, 3]\n",
    "b = a\n",
    "c = [1, 2, 3]\n",
    "print(a == c)\n",
    "print(a is c)\n"
   ]
  },
  {
   "cell_type": "code",
   "execution_count": 36,
   "id": "ff094f63",
   "metadata": {},
   "outputs": [
    {
     "name": "stdout",
     "output_type": "stream",
     "text": [
      "[1, 7, 8, 9, 4, 5]\n"
     ]
    }
   ],
   "source": [
    "my_list = [1, 2, 3, 4, 5]\n",
    "my_list[1:3] = [7, 8, 9]\n",
    "print(my_list)\n"
   ]
  },
  {
   "cell_type": "code",
   "execution_count": 37,
   "id": "ae63e5c8",
   "metadata": {},
   "outputs": [
    {
     "name": "stdout",
     "output_type": "stream",
     "text": [
      "24\n"
     ]
    }
   ],
   "source": [
    "print(3*2**3)"
   ]
  },
  {
   "cell_type": "code",
   "execution_count": 40,
   "id": "3ff3bb52",
   "metadata": {},
   "outputs": [
    {
     "name": "stdout",
     "output_type": "stream",
     "text": [
      "10\n"
     ]
    }
   ],
   "source": [
    "print(True*10)"
   ]
  },
  {
   "cell_type": "code",
   "execution_count": 41,
   "id": "7dac676f",
   "metadata": {},
   "outputs": [
    {
     "name": "stdout",
     "output_type": "stream",
     "text": [
      "[0, 2, 4, 6]\n"
     ]
    }
   ],
   "source": [
    "def multipliers():\n",
    "    return [lambda x, i=i: i * x for i in range(4)]\n",
    "\n",
    "result = [m(2) for m in multipliers()]\n",
    "print(result)\n"
   ]
  },
  {
   "cell_type": "code",
   "execution_count": 44,
   "id": "4e65fe2e",
   "metadata": {},
   "outputs": [
    {
     "ename": "TypeError",
     "evalue": "'list' object is not callable",
     "output_type": "error",
     "traceback": [
      "\u001b[1;31m---------------------------------------------------------------------------\u001b[0m",
      "\u001b[1;31mTypeError\u001b[0m                                 Traceback (most recent call last)",
      "Cell \u001b[1;32mIn[44], line 2\u001b[0m\n\u001b[0;32m      1\u001b[0m s \u001b[38;5;241m=\u001b[39m [\u001b[38;5;28;01mlambda\u001b[39;00m x, i\u001b[38;5;241m=\u001b[39mi: i \u001b[38;5;241m*\u001b[39m x \u001b[38;5;28;01mfor\u001b[39;00m i \u001b[38;5;129;01min\u001b[39;00m \u001b[38;5;28mrange\u001b[39m(\u001b[38;5;241m4\u001b[39m)]\n\u001b[1;32m----> 2\u001b[0m s(\u001b[38;5;241m1\u001b[39m)\n",
      "\u001b[1;31mTypeError\u001b[0m: 'list' object is not callable"
     ]
    }
   ],
   "source": [
    "s = [lambda x, i=i: i * x for i in range(4)]\n",
    "s(1)"
   ]
  },
  {
   "cell_type": "code",
   "execution_count": 45,
   "id": "af3866b5",
   "metadata": {},
   "outputs": [
    {
     "name": "stdout",
     "output_type": "stream",
     "text": [
      "('a',)\n"
     ]
    }
   ],
   "source": [
    "cl = ('a',)\n",
    "print(cl)"
   ]
  },
  {
   "cell_type": "code",
   "execution_count": 46,
   "id": "2abbcd7a",
   "metadata": {},
   "outputs": [
    {
     "name": "stdout",
     "output_type": "stream",
     "text": [
      "False\n",
      "True\n"
     ]
    }
   ],
   "source": [
    "a = [10]\n",
    "b = [10]\n",
    "print(a is b)\n",
    "print(a == b)\n",
    " "
   ]
  },
  {
   "cell_type": "code",
   "execution_count": 47,
   "id": "e636b70b",
   "metadata": {},
   "outputs": [
    {
     "name": "stdout",
     "output_type": "stream",
     "text": [
      "{1, 2, 3, 4}\n"
     ]
    }
   ],
   "source": [
    "s = {1, 2, 3, 4, 1}\n",
    "s.discard(0)\n",
    "print(s)"
   ]
  },
  {
   "cell_type": "code",
   "execution_count": 48,
   "id": "02178147",
   "metadata": {},
   "outputs": [
    {
     "ename": "TypeError",
     "evalue": "unsupported operand type(s) for +: 'int' and 'str'",
     "output_type": "error",
     "traceback": [
      "\u001b[1;31m---------------------------------------------------------------------------\u001b[0m",
      "\u001b[1;31mTypeError\u001b[0m                                 Traceback (most recent call last)",
      "Cell \u001b[1;32mIn[48], line 3\u001b[0m\n\u001b[0;32m      1\u001b[0m \u001b[38;5;28;01mdef\u001b[39;00m \u001b[38;5;21madd\u001b[39m(a, b):\n\u001b[0;32m      2\u001b[0m     \u001b[38;5;28;01mreturn\u001b[39;00m a \u001b[38;5;241m+\u001b[39m b\n\u001b[1;32m----> 3\u001b[0m result \u001b[38;5;241m=\u001b[39m add(\u001b[38;5;241m3\u001b[39m,\u001b[38;5;124m'\u001b[39m\u001b[38;5;124m2\u001b[39m\u001b[38;5;124m'\u001b[39m)\n\u001b[0;32m      4\u001b[0m \u001b[38;5;28mprint\u001b[39m(result)\n",
      "Cell \u001b[1;32mIn[48], line 2\u001b[0m, in \u001b[0;36madd\u001b[1;34m(a, b)\u001b[0m\n\u001b[0;32m      1\u001b[0m \u001b[38;5;28;01mdef\u001b[39;00m \u001b[38;5;21madd\u001b[39m(a, b):\n\u001b[1;32m----> 2\u001b[0m     \u001b[38;5;28;01mreturn\u001b[39;00m a \u001b[38;5;241m+\u001b[39m b\n",
      "\u001b[1;31mTypeError\u001b[0m: unsupported operand type(s) for +: 'int' and 'str'"
     ]
    }
   ],
   "source": [
    "def add(a, b):\n",
    "    return a + b\n",
    "result = add(3,'2')\n",
    "print(result)\n",
    "\n"
   ]
  },
  {
   "cell_type": "code",
   "execution_count": 49,
   "id": "17dbac39",
   "metadata": {},
   "outputs": [
    {
     "name": "stdout",
     "output_type": "stream",
     "text": [
      "[]\n"
     ]
    }
   ],
   "source": [
    "print([]*3)"
   ]
  },
  {
   "cell_type": "code",
   "execution_count": 54,
   "id": "c8c1d588",
   "metadata": {},
   "outputs": [
    {
     "data": {
      "text/plain": [
       "4"
      ]
     },
     "execution_count": 54,
     "metadata": {},
     "output_type": "execute_result"
    }
   ],
   "source": [
    "4%5"
   ]
  },
  {
   "cell_type": "code",
   "execution_count": 55,
   "id": "3bf240ca",
   "metadata": {},
   "outputs": [
    {
     "name": "stdout",
     "output_type": "stream",
     "text": [
      "10\n",
      "9\n",
      "8\n",
      "7\n",
      "6\n",
      "5\n",
      "4\n",
      "3\n",
      "2\n",
      "1\n"
     ]
    }
   ],
   "source": [
    "x = 10\n",
    "while x > 0:\n",
    "    print(x)\n",
    "    x -= 1"
   ]
  },
  {
   "cell_type": "code",
   "execution_count": 56,
   "id": "beaef30c",
   "metadata": {},
   "outputs": [
    {
     "name": "stdout",
     "output_type": "stream",
     "text": [
      "1 2\n"
     ]
    }
   ],
   "source": [
    "roman = {1:'i',2:'ii'}\n",
    "d,r=roman\n",
    "print(d,r)"
   ]
  },
  {
   "cell_type": "code",
   "execution_count": 57,
   "id": "d36cf66a",
   "metadata": {},
   "outputs": [
    {
     "name": "stdout",
     "output_type": "stream",
     "text": [
      "11hello111\n"
     ]
    }
   ],
   "source": [
    "c = 'hello'\n",
    "print(c.center(10,'1'))"
   ]
  },
  {
   "cell_type": "code",
   "execution_count": 58,
   "id": "fcb5d109",
   "metadata": {},
   "outputs": [
    {
     "name": "stdout",
     "output_type": "stream",
     "text": [
      "1\n",
      "2\n",
      "3\n"
     ]
    }
   ],
   "source": [
    "numbers = [1,2,3]\n",
    "for num in numbers:\n",
    "    print(num)"
   ]
  },
  {
   "cell_type": "code",
   "execution_count": 59,
   "id": "7b885268",
   "metadata": {},
   "outputs": [
    {
     "name": "stdout",
     "output_type": "stream",
     "text": [
      "[20]\n"
     ]
    }
   ],
   "source": [
    "r = [20, 40, 60, 80]\n",
    "r[1:4] = []\n",
    "print(r)"
   ]
  },
  {
   "cell_type": "code",
   "execution_count": 61,
   "id": "3d303dac",
   "metadata": {},
   "outputs": [
    {
     "name": "stdout",
     "output_type": "stream",
     "text": [
      "4\n"
     ]
    }
   ],
   "source": [
    "a = [1,2,3,4,5]\n",
    "print(a[:4].pop())"
   ]
  },
  {
   "cell_type": "code",
   "execution_count": 62,
   "id": "63f32c27",
   "metadata": {},
   "outputs": [
    {
     "name": "stdout",
     "output_type": "stream",
     "text": [
      "2\n"
     ]
    }
   ],
   "source": [
    "k = [2, 1, 0, 3, 0, 2, 1]\n",
    "print(k.count(k.index(0)))"
   ]
  },
  {
   "cell_type": "code",
   "execution_count": 63,
   "id": "c8e32e34",
   "metadata": {},
   "outputs": [
    {
     "name": "stdout",
     "output_type": "stream",
     "text": [
      "[1, 3, 2, 5]\n"
     ]
    }
   ],
   "source": [
    "g = [1, 2, 3, 2, 5]\n",
    "g.remove(2)\n",
    "print(g)"
   ]
  },
  {
   "cell_type": "code",
   "execution_count": 64,
   "id": "586c02d0",
   "metadata": {},
   "outputs": [
    {
     "name": "stdout",
     "output_type": "stream",
     "text": [
      "0"
     ]
    }
   ],
   "source": [
    "for i in range(1):\n",
    "    print(i, end = \"\")"
   ]
  },
  {
   "cell_type": "code",
   "execution_count": 65,
   "id": "d7b88da8",
   "metadata": {},
   "outputs": [
    {
     "name": "stdout",
     "output_type": "stream",
     "text": [
      "3\n",
      "5\n",
      "7\n"
     ]
    }
   ],
   "source": [
    "for i in range(3,9,2):\n",
    "    print(i)"
   ]
  },
  {
   "cell_type": "code",
   "execution_count": 67,
   "id": "cc2be1cb",
   "metadata": {},
   "outputs": [
    {
     "name": "stdout",
     "output_type": "stream",
     "text": [
      "5-6-7-8-9-"
     ]
    }
   ],
   "source": [
    "cl = 4\n",
    "while cl < 9:\n",
    "    cl = cl + 1\n",
    "    print(cl, end='-')"
   ]
  },
  {
   "cell_type": "code",
   "execution_count": 68,
   "id": "fcfaeee2",
   "metadata": {},
   "outputs": [
    {
     "name": "stdout",
     "output_type": "stream",
     "text": [
      "py\n"
     ]
    }
   ],
   "source": [
    "py = 2+3\n",
    "print('py')"
   ]
  },
  {
   "cell_type": "code",
   "execution_count": 69,
   "id": "0cd04d80",
   "metadata": {},
   "outputs": [
    {
     "name": "stdout",
     "output_type": "stream",
     "text": [
      "3 44\n"
     ]
    }
   ],
   "source": [
    "def f(value, values):\n",
    "    v = 1\n",
    "    values[0] = 44\n",
    "t = 3\n",
    "v = [1, 2, 3]\n",
    "f(t, v)\n",
    "print(t, v[0])\n"
   ]
  },
  {
   "cell_type": "code",
   "execution_count": 3,
   "id": "ea08106d",
   "metadata": {},
   "outputs": [
    {
     "data": {
      "text/plain": [
       "type"
      ]
     },
     "execution_count": 3,
     "metadata": {},
     "output_type": "execute_result"
    }
   ],
   "source": [
    "\n",
    "type(type(int))"
   ]
  },
  {
   "cell_type": "code",
   "execution_count": 4,
   "id": "f26209f8",
   "metadata": {},
   "outputs": [
    {
     "data": {
      "text/plain": [
       "18"
      ]
     },
     "execution_count": 4,
     "metadata": {},
     "output_type": "execute_result"
    }
   ],
   "source": [
    "2*3**2"
   ]
  },
  {
   "cell_type": "code",
   "execution_count": 10,
   "id": "1c0c7a05",
   "metadata": {},
   "outputs": [
    {
     "name": "stdout",
     "output_type": "stream",
     "text": [
      "True\n"
     ]
    }
   ],
   "source": [
    "a = 'ishu'\n",
    "b = 'ishu'\n",
    "print(a is b)"
   ]
  },
  {
   "cell_type": "code",
   "execution_count": 13,
   "id": "20fdbcc9",
   "metadata": {},
   "outputs": [
    {
     "name": "stdout",
     "output_type": "stream",
     "text": [
      "300\n"
     ]
    }
   ],
   "source": [
    "class Student:\n",
    "    def __init__(self,pages):\n",
    "        self.pages = pages\n",
    "    def __add__(self,others):\n",
    "        return self.pages+others.pages\n",
    "    \n",
    "b1 = Student(100)\n",
    "b2 = Student(200)\n",
    "print(b1+b2)"
   ]
  },
  {
   "cell_type": "code",
   "execution_count": 14,
   "id": "fd14b92d",
   "metadata": {},
   "outputs": [
    {
     "name": "stdout",
     "output_type": "stream",
     "text": [
      "0 argument method\n",
      "1 argument method\n",
      "2 argument method\n"
     ]
    }
   ],
   "source": [
    "class Student:\n",
    "    def m1(self):\n",
    "        print('0 argument method')\n",
    "    def m2(self,a):\n",
    "        print('1 argument method')\n",
    "    def m3(self, a, b):\n",
    "        print('2 argument method')\n",
    "s = Student()\n",
    "s.m1()\n",
    "s.m2(100)\n",
    "s.m3(200,300)"
   ]
  },
  {
   "cell_type": "code",
   "execution_count": 17,
   "id": "e90eb1f1",
   "metadata": {},
   "outputs": [
    {
     "name": "stdout",
     "output_type": "stream",
     "text": [
      "1\n",
      "3\n",
      "15\n"
     ]
    }
   ],
   "source": [
    "class Test:\n",
    "    def fun(self,*nums):\n",
    "        total = 0\n",
    "        for num in nums:\n",
    "            total = total + num\n",
    "        print(total)\n",
    "t = Test()\n",
    "t.fun(1)\n",
    "t.fun(1,2)\n",
    "t.fun(1,2,3,4,5)"
   ]
  },
  {
   "cell_type": "code",
   "execution_count": 19,
   "id": "16ed0e1d",
   "metadata": {},
   "outputs": [
    {
     "name": "stdout",
     "output_type": "stream",
     "text": [
      "money+land+gold\n",
      "emma watson\n"
     ]
    }
   ],
   "source": [
    "class Father:\n",
    "    def property(self):\n",
    "        print(\"money+land+gold\")\n",
    "    def marry(self):\n",
    "        print('appalamma')\n",
    "class Me(Father):\n",
    "    def marry(self):\n",
    "        print('emma watson')\n",
    "o = Me()\n",
    "o.property()\n",
    "o.marry()"
   ]
  },
  {
   "cell_type": "code",
   "execution_count": 21,
   "id": "97218d21",
   "metadata": {},
   "outputs": [],
   "source": [
    "from abc import *\n",
    "class Test:\n",
    "    @abstractmethod\n",
    "    def m1(self):\n",
    "        pass\n",
    "t = Test()\n",
    "t.m1()"
   ]
  },
  {
   "cell_type": "code",
   "execution_count": 24,
   "id": "52e88a71",
   "metadata": {},
   "outputs": [
    {
     "ename": "TypeError",
     "evalue": "Can't instantiate abstract class Exam with abstract method m1",
     "output_type": "error",
     "traceback": [
      "\u001b[1;31m---------------------------------------------------------------------------\u001b[0m",
      "\u001b[1;31mTypeError\u001b[0m                                 Traceback (most recent call last)",
      "Cell \u001b[1;32mIn[24], line 8\u001b[0m\n\u001b[0;32m      6\u001b[0m \u001b[38;5;28;01mclass\u001b[39;00m \u001b[38;5;21;01mExam\u001b[39;00m(Test):\n\u001b[0;32m      7\u001b[0m     \u001b[38;5;28;01mpass\u001b[39;00m\n\u001b[1;32m----> 8\u001b[0m t \u001b[38;5;241m=\u001b[39m Exam()\n\u001b[0;32m      9\u001b[0m t\u001b[38;5;241m.\u001b[39mm1()\n",
      "\u001b[1;31mTypeError\u001b[0m: Can't instantiate abstract class Exam with abstract method m1"
     ]
    }
   ],
   "source": [
    "from abc import *\n",
    "class Test(ABC):\n",
    "    @abstractmethod\n",
    "    def m1(self):\n",
    "        pass\n",
    "class Exam(Test):\n",
    "    pass\n",
    "t = Exam()\n",
    "t.m1()"
   ]
  },
  {
   "cell_type": "code",
   "execution_count": 25,
   "id": "b6c4921d",
   "metadata": {},
   "outputs": [],
   "source": [
    "from abc import *\n",
    "class Bank(ABC):\n",
    "    @abstractmethod\n",
    "    def deposit(self,amount):\n",
    "        pass\n",
    "    \n",
    "    @abstractmethod\n",
    "    def withdraw(self,amount):\n",
    "        pass"
   ]
  },
  {
   "cell_type": "code",
   "execution_count": 32,
   "id": "db6ea084",
   "metadata": {},
   "outputs": [
    {
     "name": "stdout",
     "output_type": "stream",
     "text": [
      "tony\n",
      "1.0\n",
      "steve\n"
     ]
    }
   ],
   "source": [
    "print('tony')\n",
    "try:\n",
    "    print('tony'/300)\n",
    "except:\n",
    "    print(300/300)\n",
    "print('steve')"
   ]
  },
  {
   "cell_type": "code",
   "execution_count": null,
   "id": "7c219b72",
   "metadata": {},
   "outputs": [],
   "source": []
  },
  {
   "cell_type": "code",
   "execution_count": null,
   "id": "feb69b54",
   "metadata": {},
   "outputs": [],
   "source": []
  },
  {
   "cell_type": "code",
   "execution_count": null,
   "id": "011798c2",
   "metadata": {},
   "outputs": [],
   "source": []
  },
  {
   "cell_type": "code",
   "execution_count": null,
   "id": "9fb32e80",
   "metadata": {},
   "outputs": [],
   "source": []
  },
  {
   "cell_type": "code",
   "execution_count": null,
   "id": "caa908c3",
   "metadata": {},
   "outputs": [],
   "source": []
  },
  {
   "cell_type": "code",
   "execution_count": null,
   "id": "8f3df28e",
   "metadata": {},
   "outputs": [],
   "source": []
  },
  {
   "cell_type": "code",
   "execution_count": null,
   "id": "b3666a95",
   "metadata": {},
   "outputs": [],
   "source": []
  },
  {
   "cell_type": "code",
   "execution_count": null,
   "id": "693fcf73",
   "metadata": {},
   "outputs": [],
   "source": []
  },
  {
   "cell_type": "code",
   "execution_count": null,
   "id": "0a8937fc",
   "metadata": {},
   "outputs": [],
   "source": []
  },
  {
   "cell_type": "code",
   "execution_count": null,
   "id": "e4a4bd92",
   "metadata": {},
   "outputs": [],
   "source": []
  },
  {
   "cell_type": "code",
   "execution_count": null,
   "id": "d4122406",
   "metadata": {},
   "outputs": [],
   "source": []
  },
  {
   "cell_type": "code",
   "execution_count": null,
   "id": "d9a00c1d",
   "metadata": {},
   "outputs": [],
   "source": []
  },
  {
   "cell_type": "code",
   "execution_count": null,
   "id": "5798a4c2",
   "metadata": {},
   "outputs": [],
   "source": []
  },
  {
   "cell_type": "code",
   "execution_count": null,
   "id": "cc00f2da",
   "metadata": {},
   "outputs": [],
   "source": []
  },
  {
   "cell_type": "code",
   "execution_count": null,
   "id": "722e687a",
   "metadata": {},
   "outputs": [],
   "source": []
  },
  {
   "cell_type": "code",
   "execution_count": null,
   "id": "32690fc6",
   "metadata": {},
   "outputs": [],
   "source": []
  },
  {
   "cell_type": "code",
   "execution_count": null,
   "id": "a6c3f71a",
   "metadata": {},
   "outputs": [],
   "source": []
  },
  {
   "cell_type": "code",
   "execution_count": null,
   "id": "76004540",
   "metadata": {},
   "outputs": [],
   "source": []
  },
  {
   "cell_type": "code",
   "execution_count": null,
   "id": "a1a6eea8",
   "metadata": {},
   "outputs": [],
   "source": []
  },
  {
   "cell_type": "code",
   "execution_count": null,
   "id": "dfe2ab7d",
   "metadata": {},
   "outputs": [],
   "source": []
  },
  {
   "cell_type": "code",
   "execution_count": null,
   "id": "e39d2088",
   "metadata": {},
   "outputs": [],
   "source": []
  },
  {
   "cell_type": "code",
   "execution_count": null,
   "id": "d78a7799",
   "metadata": {},
   "outputs": [],
   "source": []
  }
 ],
 "metadata": {
  "kernelspec": {
   "display_name": "Python 3 (ipykernel)",
   "language": "python",
   "name": "python3"
  },
  "language_info": {
   "codemirror_mode": {
    "name": "ipython",
    "version": 3
   },
   "file_extension": ".py",
   "mimetype": "text/x-python",
   "name": "python",
   "nbconvert_exporter": "python",
   "pygments_lexer": "ipython3",
   "version": "3.11.5"
  }
 },
 "nbformat": 4,
 "nbformat_minor": 5
}
