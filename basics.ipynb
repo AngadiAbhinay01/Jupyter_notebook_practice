{
 "cells": [
  {
   "cell_type": "code",
   "execution_count": 4,
   "metadata": {},
   "outputs": [
    {
     "name": "stdout",
     "output_type": "stream",
     "text": [
      "enter a num1:13\n",
      "enter a num2:5\n",
      "sum of 13 and 5 is 18\n"
     ]
    }
   ],
   "source": [
    "n1 = int(input(\"enter a num1:\"))\n",
    "n2 = int(input(\"enter a num2:\"))\n",
    "sum = n1+n2\n",
    "print(\"sum of {0} and {1} is {2}\".format(n1,n2,sum))\n"
   ]
  },
  {
   "cell_type": "code",
   "execution_count": 8,
   "metadata": {},
   "outputs": [
    {
     "name": "stdout",
     "output_type": "stream",
     "text": [
      "enter a num1:45\n",
      "enter a num2:60\n",
      "60\n"
     ]
    }
   ],
   "source": [
    "# maximum of two numbers\n",
    "n1 = int(input(\"enter a num1:\"))\n",
    "n2 = int(input(\"enter a num2:\"))\n",
    "if n1>n2:\n",
    "    print(n1,\"is greater than\",n2)\n",
    "else:\n",
    "    print(n2,\"is greater than\",n1)\n",
    "\n",
    "#using functions\n",
    "def max_num(a,b):\n",
    "    if a>=b:\n",
    "        return a\n",
    "    else:\n",
    "        return b\n",
    "res = max_num(2,3)\n",
    "print(res)"
   ]
  },
  {
   "cell_type": "code",
   "execution_count": 1,
   "metadata": {},
   "outputs": [
    {
     "name": "stdout",
     "output_type": "stream",
     "text": [
      "enter a num1:34\n",
      "enter a num2:32\n",
      "34\n"
     ]
    }
   ],
   "source": [
    "#using ternary operations\n",
    "n1 = int(input(\"enter a num1:\"))\n",
    "n2 = int(input(\"enter a num2:\"))\n",
    "print(n1 if n1>n2 else n2)"
   ]
  },
  {
   "cell_type": "code",
   "execution_count": 21,
   "metadata": {},
   "outputs": [
    {
     "name": "stdout",
     "output_type": "stream",
     "text": [
      "enter the num:5\n",
      "120\n"
     ]
    }
   ],
   "source": [
    "#factorial\n",
    "def fact(n):\n",
    "    if n<0:\n",
    "        return 0\n",
    "    elif n==0 or n==1:\n",
    "        return 1\n",
    "    else:\n",
    "        fact = 1\n",
    "        while n>1:\n",
    "            fact = fact*n\n",
    "            n = n-1\n",
    "        return fact\n",
    "n = int(input(\"enter a number\"))\n",
    "res = fact(n)\n",
    "print(res)"
   ]
  },
  {
   "cell_type": "code",
   "execution_count": 2,
   "metadata": {},
   "outputs": [
    {
     "name": "stdout",
     "output_type": "stream",
     "text": [
      "120\n"
     ]
    }
   ],
   "source": [
    "n = 5\n",
    "fact = 1\n",
    "for i in range(n,1,-1):\n",
    "    fact = fact*i\n",
    "print(fact)"
   ]
  },
  {
   "cell_type": "code",
   "execution_count": null,
   "metadata": {},
   "outputs": [],
   "source": [
    "#using builtin functions\n",
    "import math\n",
    "def factorial(n):\n",
    "    return math.factorial(n)\n",
    "n = int(input(\"enter the num:\"))\n",
    "res = factorial(n)\n",
    "print(res)"
   ]
  },
  {
   "cell_type": "code",
   "execution_count": null,
   "metadata": {},
   "outputs": [],
   "source": [
    "def fact(n):\n",
    "    if (n ==0 or n ==1):\n",
    "        return 1\n",
    "    else:\n",
    "        return n*fact(n-1)\n",
    "n = int(input(\"enter a num:\"))\n",
    "res = fact(n)\n",
    "print(res)"
   ]
  },
  {
   "cell_type": "code",
   "execution_count": 3,
   "metadata": {},
   "outputs": [
    {
     "name": "stdout",
     "output_type": "stream",
     "text": [
      "120\n",
      "5.0\n",
      "8.0\n"
     ]
    }
   ],
   "source": [
    "import math\n",
    "print(math.factorial(5))\n",
    "print(math.sqrt(25))\n",
    "print(math.pow(2,3))"
   ]
  },
  {
   "cell_type": "code",
   "execution_count": 4,
   "metadata": {},
   "outputs": [
    {
     "name": "stdout",
     "output_type": "stream",
     "text": [
      "120\n"
     ]
    }
   ],
   "source": [
    "from math import factorial\n",
    "print(factorial(5))"
   ]
  },
  {
   "cell_type": "code",
   "execution_count": 3,
   "metadata": {},
   "outputs": [
    {
     "name": "stdout",
     "output_type": "stream",
     "text": [
      "2\n",
      "3\n",
      "4\n",
      "5\n",
      "6\n",
      "7\n",
      "8\n",
      "9\n",
      "10\n"
     ]
    }
   ],
   "source": [
    "i = 1\n",
    "while i<10:\n",
    "    i +=1\n",
    "    print(i)"
   ]
  },
  {
   "cell_type": "code",
   "execution_count": 8,
   "metadata": {},
   "outputs": [
    {
     "name": "stdout",
     "output_type": "stream",
     "text": [
      "<class 'int'>\n"
     ]
    }
   ],
   "source": [
    "n = 10\n",
    "print(type(n))"
   ]
  },
  {
   "cell_type": "code",
   "execution_count": 2,
   "metadata": {},
   "outputs": [
    {
     "name": "stdout",
     "output_type": "stream",
     "text": [
      "enter two values:2 3\n",
      "no of boys: 2\n",
      "no of girls: 3\n"
     ]
    }
   ],
   "source": [
    "x,y = input(\"enter two values:\").split()\n",
    "print(\"no of boys:\",x)\n",
    "print(\"no of girls:\",y)"
   ]
  },
  {
   "cell_type": "code",
   "execution_count": 22,
   "metadata": {},
   "outputs": [
    {
     "name": "stdout",
     "output_type": "stream",
     "text": [
      "enter two values2 3\n",
      "firdt num is: 2\n",
      "second num is: 3\n"
     ]
    }
   ],
   "source": [
    "#list comprehension\n",
    "x,y = [int(x) for x in input(\"enter two values\").split()]\n",
    "print(\"firdt num is:\",x)\n",
    "print(\"second num is:\",y)"
   ]
  },
  {
   "cell_type": "code",
   "execution_count": 23,
   "metadata": {},
   "outputs": [
    {
     "name": "stdout",
     "output_type": "stream",
     "text": [
      "enter two num2 3\n",
      "first num is 2 and second num is 3\n"
     ]
    }
   ],
   "source": [
    "x,y = [int(i) for i in input(\"enter two num\").split()]\n",
    "print(\"first num is {} and second num is {}\".format(x,y))"
   ]
  },
  {
   "cell_type": "code",
   "execution_count": 30,
   "metadata": {},
   "outputs": [
    {
     "name": "stdout",
     "output_type": "stream",
     "text": [
      "enter multiple values1 2 3 4 45\n",
      "enterd list is: [1, 2, 3, 4, 45]\n"
     ]
    }
   ],
   "source": [
    "x = [int(i) for i in input(\"enter multiple values\").split()]\n",
    "print(\"enterd list is:\",x)"
   ]
  },
  {
   "cell_type": "code",
   "execution_count": 8,
   "metadata": {},
   "outputs": [
    {
     "name": "stdout",
     "output_type": "stream",
     "text": [
      "50.26548245743669\n"
     ]
    }
   ],
   "source": [
    "#area of circle\n",
    "import math\n",
    "def area(r):\n",
    "    area = math.pi*pow(r,2)\n",
    "    print(area)\n",
    "area(4)    "
   ]
  },
  {
   "cell_type": "code",
   "execution_count": 2,
   "metadata": {},
   "outputs": [
    {
     "name": "stdout",
     "output_type": "stream",
     "text": [
      "enter where to start:11\n",
      "enter where to end:20\n",
      "11\n",
      "13\n",
      "17\n",
      "19\n"
     ]
    }
   ],
   "source": [
    "#prime numbers in range\n",
    "start = int(input(\"enter where to start:\"))\n",
    "stop = int(input(\"enter where to end:\"))\n",
    "\n",
    "for i in range(start,stop):\n",
    "    if i>1:\n",
    "        for j in range(2,i):\n",
    "            if i%j == 0:\n",
    "                break\n",
    "        else:\n",
    "            print(i)"
   ]
  },
  {
   "cell_type": "code",
   "execution_count": 29,
   "metadata": {},
   "outputs": [
    {
     "name": "stdout",
     "output_type": "stream",
     "text": [
      "Enter any number: 5\n",
      "5 is a prime number\n"
     ]
    }
   ],
   "source": [
    "#prime or not\n",
    "number = int(input(\"Enter any number: \"))\n",
    "if number > 1:\n",
    "    for i in range(2, number):\n",
    "        if (number % i) == 0:\n",
    "            print(number, \"is not a prime number\")\n",
    "            break\n",
    "    else:\n",
    "        print(number, \"is a prime number\")\n",
    "else:\n",
    "    print(number, \"is not a prime number\")"
   ]
  },
  {
   "cell_type": "code",
   "execution_count": 8,
   "metadata": {},
   "outputs": [
    {
     "name": "stdout",
     "output_type": "stream",
     "text": [
      "enter the at which postion you want9\n",
      "fibonacci number at 9 is\n",
      "21\n"
     ]
    }
   ],
   "source": [
    "def Fibonacci(n):\n",
    "    if n<= 0:\n",
    "        print(\"Incorrect input\")\n",
    "    # First Fibonacci number is 0\n",
    "    elif n == 1:\n",
    "        return 0\n",
    "    # Second Fibonacci number is 1\n",
    "    elif n == 2:\n",
    "        return 1\n",
    "    else:\n",
    "        return Fibonacci(n-1)+Fibonacci(n-2)\n",
    "\n",
    "n = int(input(\"enter the at which postion you want\"))\n",
    "print(\"fibonacci number at {0} is\".format(n))\n",
    "print(Fibonacci(n))"
   ]
  },
  {
   "cell_type": "code",
   "execution_count": 9,
   "metadata": {},
   "outputs": [
    {
     "name": "stdout",
     "output_type": "stream",
     "text": [
      "enter uptp which num you want10\n",
      "0\n",
      "1\n",
      "1\n",
      "2\n",
      "3\n",
      "5\n",
      "8\n",
      "13\n",
      "21\n",
      "34\n",
      "55\n",
      "None\n"
     ]
    }
   ],
   "source": [
    "#Fibonacci sequence: printing first 10 fibonacci numbers\n",
    "def fib(n):\n",
    "    a = 0\n",
    "    b = 1\n",
    "    print(a)\n",
    "    print(b)\n",
    "    \n",
    "    for i in range(1,n):\n",
    "        print(a+b)\n",
    "        a,b = b,a+b\n",
    "n = int(input(\"enter uptp which num you want\"))\n",
    "print(fib(n))"
   ]
  },
  {
   "cell_type": "code",
   "execution_count": 8,
   "metadata": {},
   "outputs": [
    {
     "data": {
      "text/plain": [
       "[0, 1, 1, 2, 3, 5, 8]"
      ]
     },
     "execution_count": 8,
     "metadata": {},
     "output_type": "execute_result"
    }
   ],
   "source": [
    "# printing fibonacci numbers upto limit\n",
    "\n",
    "def fibb(num):\n",
    "    a = 0\n",
    "    b = 1\n",
    "    res = []\n",
    "    \n",
    "    for i in range(2,num-1):\n",
    "        res.append(a)\n",
    "        a, b = b, a+b\n",
    "    return res\n",
    "\n",
    "num = 10\n",
    "fibb(num)"
   ]
  },
  {
   "cell_type": "code",
   "execution_count": 1,
   "metadata": {},
   "outputs": [
    {
     "name": "stdout",
     "output_type": "stream",
     "text": [
      "35 is not a fibonacci\n"
     ]
    }
   ],
   "source": [
    "# check number is a fibonacci or not\n",
    "\n",
    "def fun(n):\n",
    "    fn = 0\n",
    "    sn = 1\n",
    "    res = fn+sn\n",
    "    \n",
    "    while res <n:\n",
    "        fn = sn\n",
    "        sn = res\n",
    "        res = fn+sn\n",
    "    if res == n:\n",
    "        print(n,'is a fibonacci')\n",
    "    else:\n",
    "        print(n,'is not a fibonacci')\n",
    "n = 35\n",
    "fun(n)"
   ]
  },
  {
   "cell_type": "code",
   "execution_count": 1,
   "metadata": {},
   "outputs": [
    {
     "name": "stdout",
     "output_type": "stream",
     "text": [
      "0\n",
      "1\n",
      "1\n",
      "2\n",
      "3\n",
      "5\n",
      "8\n",
      "13\n",
      "21\n",
      "34\n",
      "55\n",
      "89\n",
      "144\n",
      "233\n",
      "377\n",
      "610\n",
      "987\n",
      "1597\n",
      "2584\n",
      "4181\n",
      "6765\n",
      "10946\n",
      "21 is not a fibb\n"
     ]
    }
   ],
   "source": [
    "def fun(n):\n",
    "    a = 0\n",
    "    b = 1\n",
    "    print(a)\n",
    "    print(b)\n",
    "    \n",
    "    for i in range(1,n):\n",
    "        print(a+b)\n",
    "        a, b = b, a+b\n",
    "        \n",
    "    if n == b:\n",
    "        print(n,'is a fibb')\n",
    "    else:\n",
    "        print(n,'is not a fibb')\n",
    "\n",
    "n = 21\n",
    "fun(n)"
   ]
  },
  {
   "cell_type": "code",
   "execution_count": 46,
   "metadata": {},
   "outputs": [
    {
     "name": "stdout",
     "output_type": "stream",
     "text": [
      "enter multiple no:2\n",
      "number of whose multiple we are finding:3\n",
      "Position of n'th multiple of k in Fibonacci Series is 8\n"
     ]
    }
   ],
   "source": [
    "#Python Program to find position of n\\'th multiple of a number k in Fibonacci Series\n",
    "def findPosition(k, n):\n",
    "    f1 = 0\n",
    "    f2 = 1\n",
    "    i =2;\n",
    "    while i!=0:\n",
    "        f3 = f1 + f2;\n",
    "        f1 = f2;\n",
    "        f2 = f3;\n",
    " \n",
    "        if f2%k == 0:\n",
    "            return n*i\n",
    "        i+=1\n",
    "         \n",
    "    return\n",
    " \n",
    " \n",
    "\n",
    "n = int(input(\"enter multiple no:\"));\n",
    "k = int(input(\"number of whose multiple we are finding:\"));\n",
    " \n",
    "print(\"Position of n\\'th multiple of k in Fibonacci Series is\", findPosition(k,n));"
   ]
  },
  {
   "cell_type": "code",
   "execution_count": 49,
   "metadata": {},
   "outputs": [
    {
     "name": "stdout",
     "output_type": "stream",
     "text": [
      "enter a characterA\n",
      "ASCII value of a given chearacter A is 65\n"
     ]
    }
   ],
   "source": [
    "#ASCII vslue of given character\n",
    "char = str(input(\"enter a character\"))\n",
    "print(\"ASCII value of a given chearacter\",char, \"is\",ord(char))"
   ]
  },
  {
   "cell_type": "code",
   "execution_count": 55,
   "metadata": {},
   "outputs": [
    {
     "name": "stdout",
     "output_type": "stream",
     "text": [
      "enter text:M S Dhoni\n",
      "M - 77\n",
      "  - 32\n",
      "S - 83\n",
      "  - 32\n",
      "D - 68\n",
      "h - 104\n",
      "o - 111\n",
      "n - 110\n",
      "i - 105\n"
     ]
    }
   ],
   "source": [
    "# ASCII value of the characters in a string \n",
    "text = input(\"enter text:\")\n",
    "for char in text:\n",
    "    print(char,end=' - ')\n",
    "    print(ord(char))"
   ]
  },
  {
   "cell_type": "code",
   "execution_count": 1,
   "metadata": {},
   "outputs": [
    {
     "name": "stdout",
     "output_type": "stream",
     "text": [
      "30\n"
     ]
    }
   ],
   "source": [
    "#Program for Sum of squares of first n natural numbers\n",
    "def squaresum(n):\n",
    "    sum = 0\n",
    "    for i in range(1,n+1):\n",
    "        sum = sum + (i*i)\n",
    "    return sum\n",
    "res = squaresum(4)\n",
    "print(res)"
   ]
  },
  {
   "cell_type": "code",
   "execution_count": 58,
   "metadata": {},
   "outputs": [
    {
     "data": {
      "text/plain": [
       "30"
      ]
     },
     "execution_count": 58,
     "metadata": {},
     "output_type": "execute_result"
    }
   ],
   "source": [
    "def squaresum(n):\n",
    "    return (n*(n+1)*(2*n+1)//6)\n",
    "squaresum(4)"
   ]
  },
  {
   "cell_type": "code",
   "execution_count": 9,
   "metadata": {},
   "outputs": [
    {
     "name": "stdout",
     "output_type": "stream",
     "text": [
      "enter num:3\n",
      "36\n"
     ]
    }
   ],
   "source": [
    "#Program for cube sum of first n natural numbers\n",
    "n = int(input(\"enter num:\"))\n",
    "sum1 = 0\n",
    "for i in range(1,n+1):\n",
    "    sum1 = sum1 + pow(i,3)\n",
    "print(sum1)"
   ]
  },
  {
   "cell_type": "code",
   "execution_count": 5,
   "metadata": {},
   "outputs": [
    {
     "name": "stdout",
     "output_type": "stream",
     "text": [
      "enter position number:10\n",
      "0\n",
      "1\n",
      "1\n",
      "2\n",
      "3\n",
      "5\n",
      "8\n",
      "13\n",
      "21\n",
      "34\n"
     ]
    }
   ],
   "source": [
    "#print fibonacci sequence python\n",
    "def fib(n):\n",
    "    a = 0\n",
    "    b = 1\n",
    "\n",
    "    print(a)    \n",
    "    print(b)\n",
    "\n",
    "    for i in range(2, n):\n",
    "        print(a+b)\n",
    "        a, b = b, a + b\n",
    "\n",
    "n = int(input(\"enter position number:\"))\n",
    "fib(n)"
   ]
  },
  {
   "cell_type": "code",
   "execution_count": 5,
   "metadata": {},
   "outputs": [
    {
     "name": "stdout",
     "output_type": "stream",
     "text": [
      "enter the year to check for leap or not2024\n",
      "2024 is  a leap year\n"
     ]
    }
   ],
   "source": [
    "# leap year or not\n",
    "\n",
    "year = int(input(\"enter the year to check for leap or not\"))\n",
    "\n",
    "if (year % 400 == 0) and (year % 100 == 0):\n",
    "    print(year,\"is a leap year\")\n",
    "elif (year % 4 == 0) and (year % 100 !=0):\n",
    "    print(year,\"is  a leap year\")\n",
    "else:\n",
    "    print(year,\"is not a leap year\")"
   ]
  },
  {
   "cell_type": "code",
   "execution_count": 3,
   "metadata": {},
   "outputs": [
    {
     "name": "stdout",
     "output_type": "stream",
     "text": [
      "2024 is a leap year\n"
     ]
    }
   ],
   "source": [
    "year = 2024\n",
    "\n",
    "if year%4==0 and (year%400!=0 or year%100!=0):\n",
    "    print(year,'is a leap year')"
   ]
  },
  {
   "cell_type": "code",
   "execution_count": 3,
   "metadata": {},
   "outputs": [
    {
     "name": "stdout",
     "output_type": "stream",
     "text": [
      "enter a number-4\n",
      "negative num\n"
     ]
    }
   ],
   "source": [
    "#Python Program to Check Whether a Number is Positive or Negative\n",
    "def find(n):\n",
    "    if n>0:\n",
    "        return \"positive num\"\n",
    "    else:\n",
    "        return \"negative num\"\n",
    "n = int(input(\"enter a number\"))\n",
    "res = find(n)\n",
    "print(res)"
   ]
  },
  {
   "cell_type": "code",
   "execution_count": 1,
   "metadata": {},
   "outputs": [
    {
     "name": "stdout",
     "output_type": "stream",
     "text": [
      "enter starting point1\n",
      "enter ending point10\n",
      "1\n",
      "3\n",
      "5\n",
      "7\n",
      "9\n",
      "None\n"
     ]
    }
   ],
   "source": [
    "#Python Program to Print All Odd Numbers in a Range\n",
    "def odd_num(start,end):\n",
    "    for i in range(start,end+1):\n",
    "        if i%2 != 0:\n",
    "            print(i)\n",
    "start = int(input(\"enter starting point\"))\n",
    "end = int(input(\"enter ending point\"))\n",
    "res = odd_num(start,end)\n",
    "print(res)\n",
    "    \n"
   ]
  },
  {
   "cell_type": "code",
   "execution_count": 25,
   "metadata": {},
   "outputs": [
    {
     "name": "stdout",
     "output_type": "stream",
     "text": [
      "enter num to check for palindrome434\n",
      "434 is a palindrome\n"
     ]
    }
   ],
   "source": [
    "#Python Program to Check if a Number is a Palindrome\n",
    "\n",
    "num = int(input(\"enter num to check for palindrome\"))\n",
    "temp = num\n",
    "result = 0\n",
    "while num > 0:\n",
    "    last = num % 10\n",
    "    num = num // 10\n",
    "    result = result*10 + last\n",
    "if temp == result:\n",
    "    print(temp,\"is a palindrome\")\n",
    "else:\n",
    "    print(temp,\"isn't a palindrome\")\n"
   ]
  },
  {
   "cell_type": "code",
   "execution_count": 6,
   "metadata": {},
   "outputs": [
    {
     "name": "stdout",
     "output_type": "stream",
     "text": [
      "101\n",
      "111\n",
      "121\n",
      "131\n",
      "141\n",
      "151\n",
      "161\n",
      "171\n",
      "181\n",
      "191\n"
     ]
    }
   ],
   "source": [
    "# print palindrome numbers within range\n",
    "s1 = 100\n",
    "s2 = 200\n",
    "\n",
    "for i in range(s1,s2+1):\n",
    "    temp = i\n",
    "    res = 0\n",
    "    while i>0:\n",
    "        last = i%10\n",
    "        res = res*10+last\n",
    "        i = i // 10\n",
    "    if temp == res:\n",
    "        print(temp)\n"
   ]
  },
  {
   "cell_type": "code",
   "execution_count": 23,
   "metadata": {},
   "outputs": [
    {
     "name": "stdout",
     "output_type": "stream",
     "text": [
      "enter a num153\n",
      "153 is a armstong\n"
     ]
    }
   ],
   "source": [
    "#Python Program to Check if a Number is a armstong\n",
    "\n",
    "num = int(input(\"enter a num\"))\n",
    "temp = num\n",
    "result = 0\n",
    "\n",
    "while num > 0:\n",
    "    last = num%10\n",
    "    num = num//10\n",
    "    result = result + (last*last*last)\n",
    "if temp == result:\n",
    "    print(temp,\"is a armstong\")\n",
    "else:\n",
    "    print(temp,\"isn't a armstrong\")"
   ]
  },
  {
   "cell_type": "code",
   "execution_count": 28,
   "metadata": {},
   "outputs": [
    {
     "name": "stdout",
     "output_type": "stream",
     "text": [
      "enter a number153\n",
      "351\n"
     ]
    }
   ],
   "source": [
    "#Python Program to Reverse a Number\n",
    "n = int(input(\"enter a number\"))\n",
    "rev_num = 0\n",
    "while n > 0:\n",
    "    last = n %10\n",
    "    n = n //10\n",
    "    rev_num = rev_num * 10 + last\n",
    "print(rev_num)\n",
    "    "
   ]
  },
  {
   "cell_type": "code",
   "execution_count": 4,
   "metadata": {},
   "outputs": [
    {
     "name": "stdout",
     "output_type": "stream",
     "text": [
      "351\n"
     ]
    }
   ],
   "source": [
    "n = \"153\"\n",
    "res = \"\"\n",
    "for i in range(len(n)-1,-1,-1):\n",
    "    res = res + n[i]\n",
    "print(res)"
   ]
  },
  {
   "cell_type": "code",
   "execution_count": 3,
   "metadata": {},
   "outputs": [
    {
     "name": "stdout",
     "output_type": "stream",
     "text": [
      "1\n",
      "5\n",
      "7\n",
      "11\n",
      "13\n",
      "17\n",
      "19\n"
     ]
    }
   ],
   "source": [
    "#Python Program to Print All Integers that Aren’t Divisible by Either 2 or 3\n",
    "\n",
    "n = 1\n",
    "max = 20\n",
    "for i in range(n,max):\n",
    "    if i%2 != 0 and i%3 !=0:\n",
    "        print(i)"
   ]
  },
  {
   "cell_type": "code",
   "execution_count": 33,
   "metadata": {},
   "outputs": [
    {
     "name": "stdout",
     "output_type": "stream",
     "text": [
      "enter starting point1\n",
      "enter endong point30\n",
      "1\n",
      "5\n",
      "7\n",
      "11\n",
      "13\n",
      "17\n",
      "19\n",
      "23\n",
      "25\n",
      "29\n",
      "None\n"
     ]
    }
   ],
   "source": [
    "def div_2_3(n,m):\n",
    "    for i in range(n,m):\n",
    "        if i%2 != 0 and i%3 != 0:\n",
    "            print(i)\n",
    "n = int(input(\"enter starting point\"))\n",
    "m = int(input(\"enter endong point\"))\n",
    "res = div_2_3(n,m)\n",
    "print(res)"
   ]
  },
  {
   "cell_type": "code",
   "execution_count": 36,
   "metadata": {},
   "outputs": [
    {
     "name": "stdout",
     "output_type": "stream",
     "text": [
      "enter a number2\n",
      "2 * 1 = 2\n",
      "2 * 2 = 4\n",
      "2 * 3 = 6\n",
      "2 * 4 = 8\n",
      "2 * 5 = 10\n",
      "2 * 6 = 12\n",
      "2 * 7 = 14\n",
      "2 * 8 = 16\n",
      "2 * 9 = 18\n",
      "2 * 10 = 20\n"
     ]
    }
   ],
   "source": [
    "#python program to find multiples of a num\n",
    "\n",
    "n = int(input(\"enter a number\"))\n",
    "for i in range(1,11):\n",
    "    print(n,\"*\",i,\"=\",n*i)"
   ]
  },
  {
   "cell_type": "code",
   "execution_count": 39,
   "metadata": {},
   "outputs": [
    {
     "name": "stdout",
     "output_type": "stream",
     "text": [
      "enter sarting68\n",
      "enter ending167\n",
      "70\n",
      "105\n",
      "140\n",
      "None\n"
     ]
    }
   ],
   "source": [
    "#Python Program to Find Numbers which are Divisible by 7 and Multiple of 5 in a Given Range\n",
    "\n",
    "def div_mul(start,end):\n",
    "    for i in range(start,end):\n",
    "        if i%7 == 0 and i%5 == 0:\n",
    "            print(i)\n",
    "start = int(input(\"enter sarting\"))\n",
    "end = int(input(\"enter ending\"))\n",
    "res = div_mul(start,end)\n",
    "print(res)"
   ]
  },
  {
   "cell_type": "code",
   "execution_count": 45,
   "metadata": {},
   "outputs": [
    {
     "name": "stdout",
     "output_type": "stream",
     "text": [
      "enter a num to divide2\n",
      "enter starting1\n",
      "enter endng10\n",
      "2\n",
      "4\n",
      "6\n",
      "8\n",
      "None\n"
     ]
    }
   ],
   "source": [
    "#Python Program to Print All Numbers in a Range Divisible by a Given Number\n",
    "\n",
    "def div(start,end,n):\n",
    "    for i in range(start,end):\n",
    "        if i%n == 0:\n",
    "            print(i)\n",
    "n = int(input(\"enter a num to divide\"))\n",
    "start = int(input(\"enter starting\"))\n",
    "end = int(input(\"enter endng\"))\n",
    "res = div(start,end,n)\n",
    "print(res)\n"
   ]
  },
  {
   "cell_type": "code",
   "execution_count": 71,
   "metadata": {},
   "outputs": [
    {
     "name": "stdout",
     "output_type": "stream",
     "text": [
      "1\n",
      "4\n",
      "3\n"
     ]
    }
   ],
   "source": [
    "#Python Program to Find Sum of Digits of a Number\n",
    "for i in \"143\":\n",
    "    print(i)\n",
    "        "
   ]
  },
  {
   "cell_type": "code",
   "execution_count": 72,
   "metadata": {},
   "outputs": [
    {
     "name": "stdout",
     "output_type": "stream",
     "text": [
      "enter a number153\n",
      "9\n"
     ]
    }
   ],
   "source": [
    "def digitsum(n):\n",
    "    sum = 0\n",
    "    for i in str(n):\n",
    "        sum = sum + int(i)\n",
    "    return sum\n",
    "n = int(input(\"enter a number\"))\n",
    "res = digitsum(n)\n",
    "print(res)\n",
    "        "
   ]
  },
  {
   "cell_type": "code",
   "execution_count": 74,
   "metadata": {},
   "outputs": [
    {
     "name": "stdout",
     "output_type": "stream",
     "text": [
      "enter a num153\n",
      "3\n"
     ]
    }
   ],
   "source": [
    "#Python Program to Count the Number of Digits in a Number\n",
    "def no_of_digit(num):\n",
    "    count = 0\n",
    "    for i in str(num):\n",
    "        count = count + 1\n",
    "    return count\n",
    "num = int(input(\"enter a num\"))\n",
    "res = no_of_digit(num)\n",
    "print(res)"
   ]
  },
  {
   "cell_type": "code",
   "execution_count": 5,
   "metadata": {},
   "outputs": [
    {
     "name": "stdout",
     "output_type": "stream",
     "text": [
      "emter a num:10\n",
      "1\n",
      "2\n",
      "5\n",
      "10\n",
      "None\n"
     ]
    }
   ],
   "source": [
    "#Python Program to Find All the Divisors of an Integer\n",
    "\n",
    "def divisors(num):\n",
    "    for i in range(1,num+1):\n",
    "        if num % i == 0:\n",
    "            print(i)\n",
    "num = int(input(\"emter a num:\"))\n",
    "res = divisors(num)\n",
    "print(res)"
   ]
  },
  {
   "cell_type": "code",
   "execution_count": 4,
   "metadata": {},
   "outputs": [
    {
     "name": "stdout",
     "output_type": "stream",
     "text": [
      "[0]\n",
      "[0, 1]\n",
      "[0, 1, 0]\n",
      "[0, 1, 0, 1]\n",
      "[1, 0, 1, 0]\n",
      "1010"
     ]
    }
   ],
   "source": [
    "#Python Program to Print Binary Equivalent of an Integer\n",
    "\n",
    "dnum = 10\n",
    "bnum = []\n",
    "while dnum>0:\n",
    "    rem = dnum % 2\n",
    "    bnum.append(rem)\n",
    "    print(bnum)\n",
    "    dnum = dnum //2\n",
    "bnum.reverse()\n",
    "print(bnum)\n",
    "\n",
    "\n",
    "for i in bnum:\n",
    "    print(i,end ='')"
   ]
  },
  {
   "cell_type": "code",
   "execution_count": 2,
   "metadata": {},
   "outputs": [
    {
     "data": {
      "text/plain": [
       "1"
      ]
     },
     "execution_count": 2,
     "metadata": {},
     "output_type": "execute_result"
    }
   ],
   "source": [
    "2^3\n",
    "\n",
    "#xor truth table      \n",
    "# 0 - 0 = 0\n",
    "# 0 - 1 = 1\n",
    "# 1 - 0 = 1\n",
    "# 1 - 1 = 0\n",
    "\n",
    "#and truth table\n",
    "# 0 - 0 = 0\n",
    "# 0 - 1 = 0\n",
    "# 1 - 0 = 0\n",
    "# 1 - 1 = 1\n",
    "\n",
    "#or truth table\n",
    "# 0 - 0 = 0\n",
    "# 0 - 1 = 1\n",
    "# 1 - 0 = 1\n",
    "# 1 - 1 = 1"
   ]
  },
  {
   "cell_type": "code",
   "execution_count": 3,
   "metadata": {},
   "outputs": [
    {
     "name": "stdout",
     "output_type": "stream",
     "text": [
      "enter a decimal number56\n",
      "70"
     ]
    }
   ],
   "source": [
    "#Python Program to Print Octal Equivalent of an Integer\n",
    "dnum = int(input(\"enter a decimal number\"))\n",
    "onum = []\n",
    "while dnum>0:\n",
    "    rem = dnum % 8\n",
    "    onum.append(rem)\n",
    "    dnum = dnum //8\n",
    "onum.reverse()\n",
    "\n",
    "for i in onum:\n",
    "    print(i,end ='')"
   ]
  },
  {
   "cell_type": "code",
   "execution_count": 4,
   "metadata": {},
   "outputs": [
    {
     "name": "stdout",
     "output_type": "stream",
     "text": [
      "enter a decimal number45\n",
      "213"
     ]
    }
   ],
   "source": [
    "#Python Program to Print hexal Equivalent of an Integer\n",
    "dnum = int(input(\"enter a decimal number\"))\n",
    "hnum = []\n",
    "while dnum > 0:\n",
    "    rem = dnum % 16\n",
    "    hnum.append(rem)\n",
    "    dnum = dnum//16\n",
    "hnum.reverse()\n",
    "\n",
    "for i in hnum:\n",
    "    print(i,end = '')"
   ]
  },
  {
   "cell_type": "code",
   "execution_count": 1,
   "metadata": {},
   "outputs": [
    {
     "name": "stdout",
     "output_type": "stream",
     "text": [
      "enter a binary num:1000\n",
      "['1', '0', '0', '0']\n",
      "8\n"
     ]
    }
   ],
   "source": [
    "#Python Program to Print Decimal Equivalent of a Binary\n",
    "\n",
    "binary = input(\"enter a binary num:\")\n",
    "sum = 0\n",
    "decimal = list(binary)\n",
    "print(decimal)\n",
    "decimal.reverse()\n",
    "\n",
    "for i in range(len(decimal)):\n",
    "    sum = sum + int(decimal[i]) * pow(2,i)\n",
    "print(sum)"
   ]
  },
  {
   "cell_type": "code",
   "execution_count": 33,
   "metadata": {},
   "outputs": [
    {
     "name": "stdout",
     "output_type": "stream",
     "text": [
      "enter a octal num218\n",
      "144\n"
     ]
    }
   ],
   "source": [
    "#Python Program to Print Decimal Equivalent of a Octal\n",
    "\n",
    "octal = input(\"enter a octal num:\")\n",
    "sum = 0\n",
    "decimal = list(octal)\n",
    "decimal.reverse()\n",
    "\n",
    "for i in range(len(decimal)):\n",
    "    sum = sum + int(decimal[i]) * pow(8,i)\n",
    "print(sum)\n",
    "\n"
   ]
  },
  {
   "cell_type": "code",
   "execution_count": 36,
   "metadata": {},
   "outputs": [
    {
     "name": "stdout",
     "output_type": "stream",
     "text": [
      "Enter an integer: 56\n",
      "The decimal value of 56 is:\n",
      "0b111000 in binary.\n",
      "0o70 in octal.\n",
      "0x38 in hexadecimal.\n"
     ]
    }
   ],
   "source": [
    "#Python Program to Print Decimal Equivalent of a Binary,octal,hexadecimal\n",
    "\n",
    "\n",
    "dec = int(input(\"Enter an integer: \"))\n",
    " \n",
    "print(\"The decimal value of\", dec, \"is:\")\n",
    "print(bin(dec), \"in binary.\")\n",
    "print(oct(dec), \"in octal.\")\n",
    "print(hex(dec), \"in hexadecimal.\")\n",
    "\n"
   ]
  },
  {
   "cell_type": "code",
   "execution_count": 37,
   "metadata": {},
   "outputs": [
    {
     "name": "stdout",
     "output_type": "stream",
     "text": [
      "enter num to print table4\n",
      "4 * 1 = 4\n",
      "4 * 2 = 8\n",
      "4 * 3 = 12\n",
      "4 * 4 = 16\n",
      "4 * 5 = 20\n",
      "4 * 6 = 24\n",
      "4 * 7 = 28\n",
      "4 * 8 = 32\n",
      "4 * 9 = 36\n",
      "4 * 10 = 40\n"
     ]
    }
   ],
   "source": [
    "#Python Program to Print Table of a Given Number\n",
    "\n",
    "n = int(input(\"enter num to print table\"))\n",
    "for i in range(1,11):\n",
    "    print(n,\"*\",i,\"=\",n*i)\n"
   ]
  },
  {
   "cell_type": "code",
   "execution_count": 39,
   "metadata": {},
   "outputs": [
    {
     "name": "stdout",
     "output_type": "stream",
     "text": [
      "Enter the height in centimeters:30.48\n",
      "The length in feet 1.0\n",
      "The length in inches 12.01\n"
     ]
    }
   ],
   "source": [
    "#Python Program to Convert Centimeters to Feet and Inches\n",
    "\n",
    "centimeter=float(input(\"Enter the height in centimeters:\"))  \n",
    "#convert centimeter to inches  \n",
    "inches = 0.394 * centimeter  \n",
    "#convert centimeter to feet  \n",
    "feet = 0.0328 * centimeter  \n",
    "     \n",
    "print(\"The length in feet\",round(feet,2))  \n",
    "print(\"The length in inches\",round(inches,2))  \n"
   ]
  },
  {
   "cell_type": "code",
   "execution_count": 41,
   "metadata": {},
   "outputs": [
    {
     "name": "stdout",
     "output_type": "stream",
     "text": [
      "Enter a value for n4\n",
      "492\n"
     ]
    }
   ],
   "source": [
    "#Python Program to Read a Number n and Compute n+nn+nnn\n",
    "\n",
    "my_input = int(input(\"Enter a value for n\"))\n",
    "temp_val = str(my_input)\n",
    "t1 = temp_val + temp_val\n",
    "t2 = temp_val + temp_val + temp_val\n",
    "my_result = my_input + int(t1) + int(t2)\n",
    "\n",
    "print(my_result)"
   ]
  },
  {
   "cell_type": "markdown",
   "metadata": {},
   "source": [
    "# PROGRAMS ON NUMBERS"
   ]
  },
  {
   "cell_type": "code",
   "execution_count": 47,
   "metadata": {},
   "outputs": [
    {
     "name": "stdout",
     "output_type": "stream",
     "text": [
      "enter num to check29\n",
      "29 is a prime\n"
     ]
    }
   ],
   "source": [
    "#Python Program to Find Prime Number\n",
    "\n",
    "num = int(input(\"enter num to check\"))\n",
    "if num > 1:\n",
    "    for i in range(2,num):\n",
    "        if num%i == 0:\n",
    "            print(num,\"isn't a prime num\")\n",
    "            break\n",
    "    else:\n",
    "        print(num,\"is a prime\")\n",
    "else:\n",
    "    print(num,\"isn't a prime\")"
   ]
  },
  {
   "cell_type": "code",
   "execution_count": 1,
   "metadata": {},
   "outputs": [
    {
     "name": "stdout",
     "output_type": "stream",
     "text": [
      "enter starting point1\n",
      "enter ending point10\n",
      "2\n",
      "3\n",
      "5\n",
      "7\n"
     ]
    }
   ],
   "source": [
    "start = int(input(\"enter starting point\"))\n",
    "end = int(input(\"enter ending point\"))\n",
    "\n",
    "for i in range(start,end+1):\n",
    "    if i > 1:\n",
    "        for j in range(2,i):\n",
    "            if i%j == 0:\n",
    "                break\n",
    "        else:\n",
    "            print(i)"
   ]
  },
  {
   "cell_type": "code",
   "execution_count": 5,
   "metadata": {},
   "outputs": [
    {
     "name": "stdout",
     "output_type": "stream",
     "text": [
      "enter num to check for perfect number6\n",
      "1\n",
      "2\n",
      "3\n",
      "6 is a perfect number\n"
     ]
    }
   ],
   "source": [
    "#Python Program to Check Whether a Given Number is Perfect Number\n",
    "# 6 ,28 ,496 ,8126\n",
    "# A Perfect Number N is defined as any positive integer where the sum of its divisors minus the number itself equals the number\n",
    "\n",
    "num = int(input(\"enter num to check for perfect number\"))\n",
    "sum = 0\n",
    "for i in range(1,num):\n",
    "    if num%i == 0:\n",
    "        print(i)\n",
    "        sum = sum + i\n",
    "if sum == num:\n",
    "    print(num,\"is a perfect number\")\n",
    "else:\n",
    "    print(num,\"isn't a perfect number\")"
   ]
  },
  {
   "cell_type": "code",
   "execution_count": 7,
   "metadata": {},
   "outputs": [
    {
     "name": "stdout",
     "output_type": "stream",
     "text": [
      "enter no of numbers to find sum5\n",
      "15\n"
     ]
    }
   ],
   "source": [
    "#Python Program to Find Sum of First N Natural Numbers\n",
    "\n",
    "n = int(input(\"enter no of numbers to find sum\"))\n",
    "sum = 0\n",
    "while n > 0:\n",
    "    sum = sum + n\n",
    "    n = n-1\n",
    "print(sum)\n",
    "    "
   ]
  },
  {
   "cell_type": "code",
   "execution_count": 1,
   "metadata": {},
   "outputs": [
    {
     "name": "stdout",
     "output_type": "stream",
     "text": [
      "enter no of elements5\n",
      "15\n"
     ]
    }
   ],
   "source": [
    "n = int(input(\"enter no of elements\"))\n",
    "sum = 0\n",
    "for i in range(n+1):\n",
    "    sum = sum + i\n",
    "print(sum)"
   ]
  },
  {
   "cell_type": "code",
   "execution_count": null,
   "metadata": {},
   "outputs": [],
   "source": [
    "#Python Program to Check if a Number is a Strong Number\n",
    "\n",
    "n = int(input(\"enter a num to check:\"))\n",
    "temp = n\n",
    "sum = 0\n",
    "while n > 0:\n",
    "    digit = n % 10\n",
    "    fact = 1\n",
    "    print(\"digits\",digit)\n",
    "    \n",
    "    for i in range(1,digit+1):\n",
    "        fact = fact * i\n",
    "    print(\"factorial\",fact)\n",
    "    sum = sum + fact\n",
    "    print(\"sum\",sum)\n",
    "    n = n //10\n",
    "if sum == temp:\n",
    "    print(temp,\"is a strong number\")\n",
    "else:\n",
    "    print(temp,\"isn't a strong number\")"
   ]
  },
  {
   "cell_type": "code",
   "execution_count": 3,
   "metadata": {},
   "outputs": [
    {
     "name": "stdout",
     "output_type": "stream",
     "text": [
      "enter a number:10\n",
      "1\n",
      "2\n",
      "3\n",
      "4\n",
      "5\n",
      "6\n",
      "7\n",
      "8\n",
      "9\n",
      "10\n"
     ]
    }
   ],
   "source": [
    "#Python Program to Print Numbers in a Range Without using Loops\n",
    "\n",
    "def fun(n):\n",
    "    if n > 0:\n",
    "        fun(n-1)\n",
    "        print(n)\n",
    "n = int(input(\"enter a number:\"))\n",
    "fun(n)\n"
   ]
  },
  {
   "cell_type": "code",
   "execution_count": 2,
   "metadata": {},
   "outputs": [
    {
     "name": "stdout",
     "output_type": "stream",
     "text": [
      "Enter the Natural Number: 5\n",
      "1 = 1\n",
      "1 + 2 = 3\n",
      "1 + 2 + 3 = 6\n",
      "1 + 2 + 3 + 4 = 10\n",
      "1 + 2 + 3 + 4 + 5 = 15\n",
      "\n"
     ]
    }
   ],
   "source": [
    "#Python Program to Print the Natural Numbers Summation Pattern\n",
    "number = int(input(\"Enter the Natural Number: \"))\n",
    "for j in range(1, number+1):\n",
    "    a = []\n",
    "    for i in range(1, j+1):\n",
    "        print(i, sep=\" \", end=\" \")\n",
    "        if(i < j):\n",
    "            print(\"+\", sep=\" \", end=\" \")\n",
    "        a.append(i)\n",
    "    print(\"=\", sum(a))\n",
    "print()"
   ]
  },
  {
   "cell_type": "code",
   "execution_count": 1,
   "metadata": {},
   "outputs": [
    {
     "name": "stdout",
     "output_type": "stream",
     "text": [
      "Enter the number of rows: 3\n",
      "1 = 1\n",
      "1 + 2 = 3\n",
      "1 + 2 + 3 = 6\n"
     ]
    }
   ],
   "source": [
    "n = int(input(\"Enter the number of rows: \"))\n",
    "total = 0\n",
    "for i in range(1, n+1):\n",
    "    total += i\n",
    "    for j in range(1, i+1):\n",
    "        if j == i:\n",
    "            print(j, \"=\", total)\n",
    "        else:\n",
    "            print(j, end=\" + \")"
   ]
  },
  {
   "cell_type": "code",
   "execution_count": 15,
   "metadata": {},
   "outputs": [
    {
     "name": "stdout",
     "output_type": "stream",
     "text": [
      "Enter the number for calculating the prime factors :\n",
      "45\n",
      "3 is a prime factor a given number 45\n",
      "5 is a prime factor a given number 45\n"
     ]
    }
   ],
   "source": [
    "#Python Program to Find the Prime Factors of a Number\n",
    "\n",
    "n = int(input(\"Enter the number for calculating the prime factors :\\n\"))\n",
    "for i in range(2,n + 1):\n",
    "    if n % i == 0:\n",
    "        isprime = 1\n",
    "        for j in range(2,i):\n",
    "            if(i % j == 0):\n",
    "                isprime = 0\n",
    "                break\n",
    "        if(isprime == 1):\n",
    "            print(i,\"is a prime factor a given number\",n)\n"
   ]
  },
  {
   "cell_type": "code",
   "execution_count": 11,
   "metadata": {},
   "outputs": [
    {
     "name": "stdout",
     "output_type": "stream",
     "text": [
      "3 is a prime factor of 9\n"
     ]
    }
   ],
   "source": [
    "n = 9\n",
    "for i in range(2,n+1):\n",
    "    if n%i == 0:\n",
    "        prime = 1\n",
    "        for j in range(2,i):\n",
    "            if i %j == 0:\n",
    "                prime = 0\n",
    "                break\n",
    "        if prime == 1:\n",
    "            print(i,'is a prime factor of',n)"
   ]
  },
  {
   "cell_type": "code",
   "execution_count": 1,
   "metadata": {},
   "outputs": [
    {
     "name": "stdout",
     "output_type": "stream",
     "text": [
      "enter a number to check:4\n",
      "4 is a power of 2\n"
     ]
    }
   ],
   "source": [
    "#Python Program to Find Whether a Number is a Power of Two\n",
    "n = int(input(\"enter a number to check:\"))\n",
    "res = 0\n",
    "i = 1\n",
    "while i <= n:\n",
    "    res = 1<<i \n",
    "    if res == n:\n",
    "        print(n,\"is a power of 2\")\n",
    "        break\n",
    "    i = i + 1\n",
    "else:\n",
    "    print(n,\"is not a power of 2\")"
   ]
  },
  {
   "cell_type": "code",
   "execution_count": 7,
   "metadata": {},
   "outputs": [
    {
     "data": {
      "text/plain": [
       "16"
      ]
     },
     "execution_count": 7,
     "metadata": {},
     "output_type": "execute_result"
    }
   ],
   "source": [
    "2<<3"
   ]
  },
  {
   "cell_type": "code",
   "execution_count": 17,
   "metadata": {},
   "outputs": [
    {
     "name": "stdout",
     "output_type": "stream",
     "text": [
      "9 is not a power of 2\n"
     ]
    }
   ],
   "source": [
    "n = 9\n",
    "res = 0\n",
    "for i in range(1,n+1):\n",
    "    res = 1<<i\n",
    "    if res == n:\n",
    "        print(n,'is a power of 2')\n",
    "        break\n",
    "else:\n",
    "    print(n,'is not a power of 2')"
   ]
  },
  {
   "cell_type": "code",
   "execution_count": 4,
   "metadata": {},
   "outputs": [
    {
     "data": {
      "text/plain": [
       "8"
      ]
     },
     "execution_count": 4,
     "metadata": {},
     "output_type": "execute_result"
    }
   ],
   "source": [
    "1<<3"
   ]
  },
  {
   "cell_type": "code",
   "execution_count": 18,
   "metadata": {},
   "outputs": [
    {
     "name": "stdout",
     "output_type": "stream",
     "text": [
      "55\n"
     ]
    }
   ],
   "source": [
    "n = 10\n",
    "sum = 0\n",
    "i = 1\n",
    "while i <= n:\n",
    "    sum = sum + i\n",
    "    i = i + 1\n",
    "print(sum)"
   ]
  },
  {
   "cell_type": "code",
   "execution_count": 3,
   "metadata": {},
   "outputs": [
    {
     "name": "stdout",
     "output_type": "stream",
     "text": [
      "Enter the first number... 1\n",
      "Enter the second number... 2\n",
      "The computed product is: \n",
      "2\n"
     ]
    }
   ],
   "source": [
    "#Python Program to Find Product of Two Numbers\n",
    "def compute_product(val_1,val_2):\n",
    "    if(val_1<val_2):\n",
    "        return compute_product(val_2,val_1)\n",
    "    elif(val_2!=0):\n",
    "        return(val_1+compute_product(val_1,val_2-1))\n",
    "    else:\n",
    "        return 0\n",
    "val_1 = int(input(\"Enter the first number... \"))\n",
    "val_2 = int(input(\"Enter the second number... \"))\n",
    "print(\"The computed product is: \")\n",
    "print(compute_product(val_1,val_2))"
   ]
  },
  {
   "cell_type": "code",
   "execution_count": 27,
   "metadata": {},
   "outputs": [
    {
     "name": "stdout",
     "output_type": "stream",
     "text": [
      "3\n",
      "4\n",
      "12\n"
     ]
    }
   ],
   "source": [
    "def pro(x,y):\n",
    "    if x == 0:\n",
    "        return 0\n",
    "    elif y == 0:\n",
    "        return 0\n",
    "    else:\n",
    "        return x*y\n",
    "x = int(input())\n",
    "y = int(input())\n",
    "print(pro(x,y))"
   ]
  },
  {
   "cell_type": "code",
   "execution_count": 34,
   "metadata": {},
   "outputs": [
    {
     "name": "stdout",
     "output_type": "stream",
     "text": [
      "enter sarting1\n",
      "enter ending10\n",
      "1\n",
      "4\n",
      "9\n"
     ]
    }
   ],
   "source": [
    "#Python Program to Find All Perfect Squares in the Given Range\n",
    "n1 = int(input(\"enter sarting\"))\n",
    "n2 = int(input(\"enter ending\"))\n",
    "while n1 < n2:\n",
    "    for i in range(1,n1+1):\n",
    "        if i*i == n1:\n",
    "            print(n1)\n",
    "    n1 = n1 + 1\n",
    "    "
   ]
  },
  {
   "cell_type": "code",
   "execution_count": 36,
   "metadata": {},
   "outputs": [
    {
     "name": "stdout",
     "output_type": "stream",
     "text": [
      "enter num to check for perfect square9\n",
      "9 is a perfect\n"
     ]
    }
   ],
   "source": [
    "n = int(input(\"enter num to check for perfect square\"))\n",
    "res = 0\n",
    "for i in range(1,n):\n",
    "    if i*i == n:\n",
    "        res = 1\n",
    "        break\n",
    "if res == 1:\n",
    "    print(n,\"is a perfect\")\n",
    "else:\n",
    "    print(n,\"isn't a perfect\")"
   ]
  },
  {
   "cell_type": "code",
   "execution_count": 5,
   "metadata": {},
   "outputs": [
    {
     "name": "stdout",
     "output_type": "stream",
     "text": [
      "1 2 3\n",
      "1 3 2\n",
      "2 1 3\n",
      "2 3 1\n",
      "3 1 2\n",
      "3 2 1\n",
      "None\n"
     ]
    }
   ],
   "source": [
    "#Python Program to Print All Possible Combinations of Three Digits\n",
    "def combinations(l):\n",
    "    for i in range(0,3):\n",
    "        for j in range(0,3):\n",
    "            for k in range(0,3):\n",
    "                if i!=j & j!=k & k!=i:\n",
    "                    print(l[i],l[j],l[k])\n",
    "l = [1,2,3]\n",
    "res = combinations(l)\n",
    "print(res)"
   ]
  },
  {
   "cell_type": "code",
   "execution_count": 3,
   "metadata": {},
   "outputs": [
    {
     "name": "stdout",
     "output_type": "stream",
     "text": [
      "6\n"
     ]
    }
   ],
   "source": [
    "#Python Program to Find the LCM of Two Numbers\n",
    "def lcm(n1,n2):\n",
    "    if n1 > n2:\n",
    "        greater = n1\n",
    "    else:\n",
    "        greater = n2\n",
    "    while True:\n",
    "        if (greater % n1 == 0) and (greater % n2 == 0):\n",
    "            lcm = greater \n",
    "            break\n",
    "        greater += 1\n",
    "    return lcm\n",
    "n1 = 6\n",
    "n2 = 3\n",
    "print(lcm(n1,n2))"
   ]
  },
  {
   "cell_type": "code",
   "execution_count": 3,
   "metadata": {},
   "outputs": [
    {
     "data": {
      "text/plain": [
       "6"
      ]
     },
     "execution_count": 3,
     "metadata": {},
     "output_type": "execute_result"
    }
   ],
   "source": [
    "def fun(n1,n2):\n",
    "    greater = max(n1,n2)\n",
    "    \n",
    "    while True:\n",
    "        if greater%n1 == 0 and greater%n2 == 0:\n",
    "            lcm = greater\n",
    "            break\n",
    "        greater += 1\n",
    "    return lcm\n",
    "\n",
    "n1 = 6\n",
    "n2 = 3\n",
    "fun(n1,n2)"
   ]
  },
  {
   "cell_type": "code",
   "execution_count": 16,
   "metadata": {},
   "outputs": [
    {
     "name": "stdout",
     "output_type": "stream",
     "text": [
      "15\n"
     ]
    }
   ],
   "source": [
    "num1 = 3\n",
    "num2 = 5\n",
    "if num1 > num2:\n",
    "    great = num1\n",
    "else:\n",
    "    great = num2\n",
    "while(True):\n",
    "    if great%num1==0 and great%num2==0:\n",
    "        lcm = great\n",
    "        break\n",
    "    great += 1\n",
    "print(great)"
   ]
  },
  {
   "cell_type": "code",
   "execution_count": 12,
   "metadata": {},
   "outputs": [
    {
     "name": "stdout",
     "output_type": "stream",
     "text": [
      "The H.C.F. is 3\n"
     ]
    }
   ],
   "source": [
    "#Python Program to Find the GCD of Two Number\n",
    "def compute_hcf(x, y):\n",
    "    if x > y:\n",
    "        smaller = y\n",
    "    else:\n",
    "        smaller = x\n",
    "    for i in range(1, smaller+1):\n",
    "        if((x % i == 0) and (y % i == 0)):\n",
    "            hcf = i \n",
    "    return hcf\n",
    "num1 = 12 \n",
    "num2 = 21\n",
    "print(\"The H.C.F. is\", compute_hcf(num1, num2))"
   ]
  },
  {
   "cell_type": "code",
   "execution_count": 19,
   "metadata": {},
   "outputs": [
    {
     "data": {
      "text/plain": [
       "3"
      ]
     },
     "execution_count": 19,
     "metadata": {},
     "output_type": "execute_result"
    }
   ],
   "source": [
    "def gcd(n1,n2):\n",
    "    while n2:\n",
    "        if n1>0:\n",
    "            n1, n2 = n2, n1%n2\n",
    "    return n1\n",
    "    \n",
    "n1 = 12\n",
    "n2 = 21\n",
    "gcd(n1,n2)"
   ]
  },
  {
   "cell_type": "code",
   "execution_count": 1,
   "metadata": {},
   "outputs": [
    {
     "data": {
      "text/plain": [
       "14"
      ]
     },
     "execution_count": 1,
     "metadata": {},
     "output_type": "execute_result"
    }
   ],
   "source": [
    "#left shift  #(7*(2**1))\n",
    "\n",
    "7 << 1"
   ]
  },
  {
   "cell_type": "code",
   "execution_count": 2,
   "metadata": {},
   "outputs": [
    {
     "data": {
      "text/plain": [
       "96"
      ]
     },
     "execution_count": 2,
     "metadata": {},
     "output_type": "execute_result"
    }
   ],
   "source": [
    "3 << 5   #(3*(2**5))"
   ]
  },
  {
   "cell_type": "code",
   "execution_count": 5,
   "metadata": {},
   "outputs": [
    {
     "data": {
      "text/plain": [
       "18"
      ]
     },
     "execution_count": 5,
     "metadata": {},
     "output_type": "execute_result"
    }
   ],
   "source": [
    "# right shift #(36/(2**1))\n",
    "\n",
    "36 >> 1"
   ]
  },
  {
   "cell_type": "code",
   "execution_count": 11,
   "metadata": {},
   "outputs": [
    {
     "data": {
      "text/plain": [
       "3"
      ]
     },
     "execution_count": 11,
     "metadata": {},
     "output_type": "execute_result"
    }
   ],
   "source": [
    "48 >> 4  #(48/(2**4))"
   ]
  },
  {
   "cell_type": "code",
   "execution_count": 1,
   "metadata": {},
   "outputs": [
    {
     "name": "stdout",
     "output_type": "stream",
     "text": [
      "27\n"
     ]
    }
   ],
   "source": [
    "# lambda function\n",
    "\n",
    "x = lambda y:y**3\n",
    "print(x(3))"
   ]
  },
  {
   "cell_type": "code",
   "execution_count": 2,
   "metadata": {},
   "outputs": [
    {
     "name": "stdout",
     "output_type": "stream",
     "text": [
      "3\n"
     ]
    }
   ],
   "source": [
    "s=lambda a,b:a if a>b else b\n",
    "print(s(2,3))"
   ]
  },
  {
   "cell_type": "code",
   "execution_count": 6,
   "metadata": {},
   "outputs": [
    {
     "name": "stdout",
     "output_type": "stream",
     "text": [
      "[2, 4, 6, 8, 10]\n"
     ]
    }
   ],
   "source": [
    "# filter(function,sequence)\n",
    "\n",
    "def fil(num):\n",
    "    if num%2 == 0:\n",
    "        return True\n",
    "    else:\n",
    "        return False\n",
    "x = [1,2,3,4,5,6,7,8,9,10]\n",
    "y = filter(fil,x)\n",
    "z = list(y)\n",
    "print(z)"
   ]
  },
  {
   "cell_type": "code",
   "execution_count": null,
   "metadata": {},
   "outputs": [],
   "source": [
    "# Function to generate Fibonacci numbers up to a given limit\n",
    "def generate_fibonacci(limit):\n",
    "    fibonacci_numbers = []\n",
    "    a, b = 0, 1\n",
    "    for i in range(2, num-1):\n",
    "        fibonacci_numbers.append(a)\n",
    "        a, b = b, a + b\n",
    "    return fibonacci_numbers\n",
    "\n",
    "# Function to check if a number is a Fibonacci number\n",
    "def is_fibonacci(num, fibonacci_numbers):\n",
    "    return num in fibonacci_numbers\n",
    "\n",
    "# Generate Fibonacci numbers up to the maximum value in x\n",
    "fibonacci_numbers = generate_fibonacci(20)  # Assuming we want Fibonacci numbers up to 20\n",
    "\n",
    "# List of elements to filter\n",
    "x = [1, 2, 3, 4, 5, 6, 7, 8, 9, 10]\n",
    "\n",
    "# Use filter() to keep only Fibonacci numbers\n",
    "res = filter(lambda num: is_fibonacci(num, fibonacci_numbers), x)\n",
    "\n",
    "# Convert the result to a list and print it\n",
    "print(list(res))\n"
   ]
  },
  {
   "cell_type": "code",
   "execution_count": 14,
   "metadata": {},
   "outputs": [
    {
     "name": "stdout",
     "output_type": "stream",
     "text": [
      "[1, 2, 3, 5, 8]\n"
     ]
    }
   ],
   "source": [
    "def generate_fibb(limit):\n",
    "    fibonacci_num = []\n",
    "    a, b = 0, 1\n",
    "    \n",
    "    for i in range(2, limit-1):\n",
    "        fibonacci_num.append(a)\n",
    "        a, b = b, a+b\n",
    "    return fibonacci_num\n",
    "\n",
    "def is_fibonacci(num, fibonacci_num):\n",
    "    return num in fibonacci_num\n",
    "\n",
    "fibonacci_num = generate_fibb(10)\n",
    "\n",
    "x = [1,2,3,4,5,6,7,8,9,10]\n",
    "\n",
    "\n",
    "\n",
    "res = filter(lambda num:is_fibonacci(num, fibonacci_num), x)\n",
    "print(list(res))"
   ]
  },
  {
   "cell_type": "code",
   "execution_count": 7,
   "metadata": {},
   "outputs": [
    {
     "name": "stdout",
     "output_type": "stream",
     "text": [
      "[0, 10, 20, 30]\n",
      "[5, 15, 25]\n"
     ]
    }
   ],
   "source": [
    "l=[0,5,10,15,20,25,30]\n",
    "\n",
    "l1=list(filter(lambda x:x%2==0,l))\n",
    "print(l1) \n",
    "\n",
    "l2=list(filter(lambda x:x%2!=0,l))\n",
    "print(l2)"
   ]
  },
  {
   "cell_type": "code",
   "execution_count": 8,
   "metadata": {},
   "outputs": [
    {
     "name": "stdout",
     "output_type": "stream",
     "text": [
      "[2, 4, 6, 8, 10]\n"
     ]
    }
   ],
   "source": [
    "# map(function,sequence)\n",
    "\n",
    "l=[1,2,3,4,5]\n",
    "def doubleIt(x):\n",
    "    return 2*x\n",
    "l1=list(map(doubleIt,l))\n",
    "print(l1) #[2, 4, 6, 8, 10]"
   ]
  },
  {
   "cell_type": "code",
   "execution_count": 9,
   "metadata": {},
   "outputs": [
    {
     "name": "stdout",
     "output_type": "stream",
     "text": [
      "[2, 4, 6, 8, 10]\n"
     ]
    }
   ],
   "source": [
    "l=[1,2,3,4,5]\n",
    "l1=list(map(lambda x:2*x,l))\n",
    "print(l1) #[2, 4, 6, 8, 10]"
   ]
  },
  {
   "cell_type": "code",
   "execution_count": 6,
   "metadata": {},
   "outputs": [
    {
     "name": "stdout",
     "output_type": "stream",
     "text": [
      "1\n",
      "10\n",
      "45\n"
     ]
    }
   ],
   "source": [
    "def sum1(s1,s2):\n",
    "    sum1 = 0\n",
    "    for i in range(s1,s2):\n",
    "        sum1 = sum1 + i \n",
    "    return sum1\n",
    "s1 = int(input(\"\"))\n",
    "s2 = int(input(\"\"))\n",
    "res = sum1(s1,s2)\n",
    "print(res)"
   ]
  },
  {
   "cell_type": "code",
   "execution_count": 8,
   "metadata": {},
   "outputs": [
    {
     "name": "stdout",
     "output_type": "stream",
     "text": [
      "enter num to check for prime7\n",
      "7 is a prime num\n"
     ]
    }
   ],
   "source": [
    "num = int(input('enter num to check for prime'))\n",
    "if num > 1:\n",
    "    for i in range(2,num):\n",
    "        if num %i == 0:\n",
    "            print(num,\"is not a prime\")\n",
    "            break\n",
    "    else:\n",
    "        print(num,\"is a prime num\")\n",
    "else:\n",
    "    print(num,\"is a prime\")"
   ]
  },
  {
   "cell_type": "code",
   "execution_count": 11,
   "metadata": {},
   "outputs": [
    {
     "name": "stdout",
     "output_type": "stream",
     "text": [
      "0\n",
      "1\n",
      "2\n",
      "3\n",
      "5\n",
      "6\n",
      "7\n",
      "8\n",
      "9\n"
     ]
    }
   ],
   "source": [
    "num = 10\n",
    "for i in range(10):\n",
    "    if i == 4:\n",
    "        continue\n",
    "    print(i)"
   ]
  },
  {
   "cell_type": "code",
   "execution_count": 14,
   "metadata": {},
   "outputs": [
    {
     "name": "stdout",
     "output_type": "stream",
     "text": [
      "enter a num151\n",
      "151 is a palindrome\n"
     ]
    }
   ],
   "source": [
    "num = int(input('enter a num'))\n",
    "temp = num\n",
    "res = 0\n",
    "while num>0:\n",
    "    last = num %10\n",
    "    num = num //10\n",
    "    res = res *10 + last\n",
    "if temp == res:\n",
    "    print(temp,'is a palindrome')\n",
    "else:\n",
    "    print(temp,\"is not a palindrome\")"
   ]
  },
  {
   "cell_type": "code",
   "execution_count": 6,
   "metadata": {},
   "outputs": [
    {
     "name": "stdout",
     "output_type": "stream",
     "text": [
      "it is a palindrome\n"
     ]
    }
   ],
   "source": [
    "str1 = \"abba\"\n",
    "res = \"\"\n",
    "for char in range(len(str1)-1,-1,-1):\n",
    "    res = res + str1[char]\n",
    "if res == str1:\n",
    "    print('it is a palindrome')\n",
    "else:\n",
    "    print('its not a palindrome')\n",
    "    "
   ]
  },
  {
   "cell_type": "code",
   "execution_count": 15,
   "metadata": {},
   "outputs": [
    {
     "name": "stdout",
     "output_type": "stream",
     "text": [
      "enter num 5\n",
      "120\n"
     ]
    }
   ],
   "source": [
    "num = int(input('enter num '))\n",
    "fact = 1\n",
    "while num > 0:\n",
    "    fact = fact * num\n",
    "    num  = num -1\n",
    "print(fact)"
   ]
  },
  {
   "cell_type": "code",
   "execution_count": 16,
   "metadata": {},
   "outputs": [
    {
     "name": "stdout",
     "output_type": "stream",
     "text": [
      "1\n",
      "10\n",
      "2\n",
      "3\n",
      "5\n",
      "7\n"
     ]
    }
   ],
   "source": [
    "s1 = int(input())\n",
    "s2 = int(input())\n",
    "for i in range(s1,s2):\n",
    "    if i>1:\n",
    "        for j in range(2,i):\n",
    "            if i%j == 0:\n",
    "                break\n",
    "        else:\n",
    "            print(i)\n",
    "        "
   ]
  },
  {
   "cell_type": "code",
   "execution_count": 17,
   "metadata": {},
   "outputs": [
    {
     "name": "stdout",
     "output_type": "stream",
     "text": [
      "enter a number143\n",
      "341\n"
     ]
    }
   ],
   "source": [
    "num = int(input(\"enter a number\"))\n",
    "temp = num\n",
    "res = 0\n",
    "while num>0:\n",
    "    last = num%10\n",
    "    num = num //10\n",
    "    res = res * 10 + last\n",
    "print(res)"
   ]
  },
  {
   "cell_type": "code",
   "execution_count": 21,
   "metadata": {},
   "outputs": [
    {
     "name": "stdout",
     "output_type": "stream",
     "text": [
      "8\n"
     ]
    }
   ],
   "source": [
    "num = \"143\"\n",
    "sum = 0\n",
    "for i in num:\n",
    "    sum = sum + int(i)\n",
    "print(sum)\n",
    "    "
   ]
  },
  {
   "cell_type": "code",
   "execution_count": 23,
   "metadata": {},
   "outputs": [
    {
     "name": "stdout",
     "output_type": "stream",
     "text": [
      "enter a num1\n",
      "enter a num2\n",
      "2\n",
      "1\n"
     ]
    }
   ],
   "source": [
    "num1 = int(input('enter a num'))\n",
    "num2 = int(input('enter a num'))\n",
    "temp = num1\n",
    "num1 = num2\n",
    "num2 = temp\n",
    "print(num1)\n",
    "print(num2)"
   ]
  },
  {
   "cell_type": "code",
   "execution_count": 27,
   "metadata": {},
   "outputs": [
    {
     "name": "stdout",
     "output_type": "stream",
     "text": [
      "a = 20\n",
      "b = 10\n"
     ]
    }
   ],
   "source": [
    "a = 10\n",
    "b = 20\n",
    "a = a + b\n",
    "b = a - b\n",
    "a = a - b\n",
    "print(\"a =\",a)\n",
    "print(\"b =\",b)"
   ]
  },
  {
   "cell_type": "code",
   "execution_count": 7,
   "metadata": {},
   "outputs": [
    {
     "name": "stdout",
     "output_type": "stream",
     "text": [
      "5\n"
     ]
    }
   ],
   "source": [
    "# print number of days between two days\n",
    "\n",
    "from datetime import date\n",
    "\n",
    "f_date = date(2023,5,10)\n",
    "l_date = date(2023,5,15)\n",
    "\n",
    "delta = l_date - f_date\n",
    "print(delta.days)"
   ]
  },
  {
   "cell_type": "code",
   "execution_count": 20,
   "metadata": {},
   "outputs": [
    {
     "name": "stdout",
     "output_type": "stream",
     "text": [
      "267 days\n"
     ]
    }
   ],
   "source": [
    "from datetime import date\n",
    "def numOfDays(date1, date2):\n",
    "    if date2 > date1:\n",
    "        return (date2-date1).days\n",
    "    else:\n",
    "        return (date1-date2).days\n",
    "\n",
    "date1 = date(2023,5, 10)\n",
    "date2 = date(2024,2, 1)\n",
    "print(numOfDays(date1, date2), \"days\")"
   ]
  },
  {
   "cell_type": "code",
   "execution_count": null,
   "metadata": {},
   "outputs": [
    {
     "name": "stdout",
     "output_type": "stream",
     "text": [
      "Select operation:\n",
      "1. Add\n",
      "2. Subtract\n",
      "3. Multiply\n",
      "4. Divide\n",
      "enter choice 1/2/3/42\n",
      "Enter first number: 1\n",
      "Enter second number: 2\n",
      "The result is: -1.0\n"
     ]
    }
   ],
   "source": [
    "def add(x,y):\n",
    "    return x+y\n",
    "def diff(x,y):\n",
    "    return x-y\n",
    "def mul(x,y):\n",
    "    return x*y\n",
    "def div(x,y):\n",
    "    if y==0:\n",
    "        return 'not possible'\n",
    "    else:\n",
    "        return x/y\n",
    "    \n",
    "def calculator():\n",
    "    print(\"Select operation:\")\n",
    "    print(\"1. Add\")\n",
    "    print(\"2. Subtract\")\n",
    "    print(\"3. Multiply\")\n",
    "    print(\"4. Divide\")\n",
    "    \n",
    "    while True:\n",
    "        choice = input('enter choice 1/2/3/4')\n",
    "        \n",
    "        if choice in ['1','2','3','4']:\n",
    "            num1 = float(input(\"Enter first number: \"))\n",
    "            num2 = float(input(\"Enter second number: \"))\n",
    "            \n",
    "            if choice == '1':\n",
    "                print(f\"The result is: {add(num1, num2)}\")\n",
    "            elif choice == '2':\n",
    "                print(f\"The result is: {diff(num1, num2)}\")\n",
    "            elif choice == '3':\n",
    "                print(f\"The result is: {mul(num1, num2)}\")\n",
    "            elif choice == '4':\n",
    "                print(f\"The result is: {diff(num1, num2)}\")\n",
    "                \n",
    "            next_calculation = input(\"Do you want to perform another calculation? (yes/no): \")\n",
    "            \n",
    "            if next_calculation.lower() != 'yes':\n",
    "                break\n",
    "        else:\n",
    "            print(\"Invalid input. Please enter a valid choice.\")\n",
    "        \n",
    "calculator()"
   ]
  },
  {
   "cell_type": "code",
   "execution_count": 2,
   "metadata": {},
   "outputs": [
    {
     "data": {
      "text/plain": [
       "-1"
      ]
     },
     "execution_count": 2,
     "metadata": {},
     "output_type": "execute_result"
    }
   ],
   "source": [
    "3 % -2"
   ]
  },
  {
   "cell_type": "markdown",
   "metadata": {},
   "source": [
    "in the expression 3%-2\n",
    "the dividend = 3\n",
    "the divisor = -2\n",
    "formula = dividend- divisor*(dividend//divisor)\n",
    "\n",
    "applying this\n",
    "3-(-2)*(3//2) = 3-(-2)*(-1.5) = 3-(-2)*(-2) \n",
    "The floor division of 3 by -2 is -2 (since 1.5 rounded down to the nearest integer is -2):\n",
    "3 - (-2)*(-2) \n",
    "3 - 4 = -1\n",
    "so, 3%-2 = -1"
   ]
  },
  {
   "cell_type": "code",
   "execution_count": 3,
   "metadata": {},
   "outputs": [
    {
     "data": {
      "text/plain": [
       "-5"
      ]
     },
     "execution_count": 3,
     "metadata": {},
     "output_type": "execute_result"
    }
   ],
   "source": [
    "7%-6"
   ]
  },
  {
   "cell_type": "code",
   "execution_count": 5,
   "metadata": {},
   "outputs": [
    {
     "data": {
      "text/plain": [
       "-5"
      ]
     },
     "execution_count": 5,
     "metadata": {},
     "output_type": "execute_result"
    }
   ],
   "source": [
    "7-(-6)*(7//-6)"
   ]
  },
  {
   "cell_type": "code",
   "execution_count": 4,
   "metadata": {},
   "outputs": [
    {
     "data": {
      "text/plain": [
       "-2"
      ]
     },
     "execution_count": 4,
     "metadata": {},
     "output_type": "execute_result"
    }
   ],
   "source": [
    "7//-6"
   ]
  },
  {
   "cell_type": "code",
   "execution_count": null,
   "metadata": {},
   "outputs": [],
   "source": []
  }
 ],
 "metadata": {
  "kernelspec": {
   "display_name": "Python 3 (ipykernel)",
   "language": "python",
   "name": "python3"
  },
  "language_info": {
   "codemirror_mode": {
    "name": "ipython",
    "version": 3
   },
   "file_extension": ".py",
   "mimetype": "text/x-python",
   "name": "python",
   "nbconvert_exporter": "python",
   "pygments_lexer": "ipython3",
   "version": "3.11.5"
  }
 },
 "nbformat": 4,
 "nbformat_minor": 4
}
