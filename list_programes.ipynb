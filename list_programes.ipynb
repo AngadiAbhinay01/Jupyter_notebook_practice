{
 "cells": [
  {
   "cell_type": "code",
   "execution_count": 1,
   "metadata": {},
   "outputs": [
    {
     "name": "stdout",
     "output_type": "stream",
     "text": [
      "[6, 2, 3, 4, 5, 1]\n"
     ]
    }
   ],
   "source": [
    "# Python3 program to swap first and last element of a list\n",
    "list = [1,2,3,4,5,6]\n",
    "n = len(list)\n",
    "temp = list[0]\n",
    "list[0] = list[n-1]\n",
    "list[n-1] = temp\n",
    "print(list)"
   ]
  },
  {
   "cell_type": "code",
   "execution_count": 4,
   "metadata": {},
   "outputs": [
    {
     "name": "stdout",
     "output_type": "stream",
     "text": [
      "[6, 2, 3, 4, 5, 1]\n"
     ]
    }
   ],
   "source": [
    "def swaplist(list):\n",
    "    n = len(list)\n",
    "    \n",
    "    temp = list[0]\n",
    "    list[0] = list[n-1]\n",
    "    list[n-1] = temp\n",
    "    return list\n",
    "\n",
    "list = [1,2,3,4,5,6]\n",
    "res = swaplist(list)\n",
    "print(res)"
   ]
  },
  {
   "cell_type": "code",
   "execution_count": 3,
   "metadata": {},
   "outputs": [
    {
     "name": "stdout",
     "output_type": "stream",
     "text": [
      "enter swaping position1:4\n",
      "enter swaping position2:1\n",
      "[1, 5, 3, 4, 2, 6]\n"
     ]
    }
   ],
   "source": [
    "# Python3 program to swap elements at given positions\n",
    "list = [1,2,3,4,5,6]\n",
    "p1 = int(input(\"enter swaping position1:\"))\n",
    "p2 = int(input(\"enter swaping position2:\"))\n",
    "\n",
    "list[p1],list[p2] = list[p2],list[p1]\n",
    "print(list)"
   ]
  },
  {
   "cell_type": "code",
   "execution_count": 9,
   "metadata": {},
   "outputs": [
    {
     "name": "stdout",
     "output_type": "stream",
     "text": [
      "enter swap position p1: 3\n",
      "enter swap position p2: 4\n",
      "[1, 2, 3, 5, 4]\n"
     ]
    }
   ],
   "source": [
    "def swaplist(list,p1,p2):\n",
    "    list[p1],list[p2] = list[p2],list[p1]\n",
    "    return list\n",
    "list = [1,2,3,4,5]\n",
    "p1 = int(input(\"enter swap position p1: \"))\n",
    "p2 = int(input(\"enter swap position p2: \"))\n",
    "res = swaplist(list,p1,p2)\n",
    "print(list)"
   ]
  },
  {
   "cell_type": "code",
   "execution_count": 10,
   "metadata": {},
   "outputs": [
    {
     "name": "stdout",
     "output_type": "stream",
     "text": [
      "enter swap position p1: 2\n",
      "enter swap position p2: 3\n",
      "[6, 7, 9, 8, 0]\n"
     ]
    }
   ],
   "source": [
    "def swap(l1,p1,p2):\n",
    "    \n",
    "    get = l1[p1],l1[p2]\n",
    "    l1[p2],l1[p1] = get\n",
    "    return l1\n",
    "l1 = [6,7,8,9,0]\n",
    "p1 = int(input(\"enter swap position p1: \"))\n",
    "p2 = int(input(\"enter swap position p2: \"))\n",
    "res = swap(l1,p1,p2)\n",
    "print(res)"
   ]
  },
  {
   "cell_type": "code",
   "execution_count": 1,
   "metadata": {},
   "outputs": [
    {
     "name": "stdout",
     "output_type": "stream",
     "text": [
      "the list is: [3, 5, 7, 9, 4, 6]\n",
      "length of the list is: 6\n"
     ]
    }
   ],
   "source": [
    "#Python code to demonstrate length of list\n",
    "\n",
    "l = [3,5,7,9,4,6]\n",
    "print(\"the list is:\",str(l))\n",
    "\n",
    "count = 0\n",
    "for i in l:\n",
    "    count = count+1\n",
    "print(\"length of the list is:\",str(count))"
   ]
  },
  {
   "cell_type": "code",
   "execution_count": 4,
   "metadata": {},
   "outputs": [
    {
     "name": "stdout",
     "output_type": "stream",
     "text": [
      "list of elements is: ['iron man', 'captain america', 'thor odinson', 'bruce banner', 'natasha romanaff']\n",
      "length of the list is: 5\n"
     ]
    }
   ],
   "source": [
    "a = []\n",
    "a.append(\"iron man\")\n",
    "a.append(\"captain america\")\n",
    "a.append(\"thor odinson\")\n",
    "a.append(\"bruce banner\")\n",
    "a.append(\"natasha romanaff\")\n",
    "\n",
    "print(\"list of elements is:\",str(a),sep=\" \")\n",
    "print(\"length of the list is:\",len(a))"
   ]
  },
  {
   "cell_type": "code",
   "execution_count": 3,
   "metadata": {},
   "outputs": [
    {
     "name": "stdout",
     "output_type": "stream",
     "text": [
      "enter element to check:3\n",
      "3 is not present \n"
     ]
    }
   ],
   "source": [
    "# Python code to demonstrate checking of element existence\n",
    "\n",
    "l = [9,8,7,6,5]\n",
    "c = int(input(\"enter element to check:\"))\n",
    "for i in range(0,len(l)):\n",
    "    if l[i] == c:\n",
    "        print(c,\"is present\")\n",
    "else:\n",
    "    print(c,\"is not present \")"
   ]
  },
  {
   "cell_type": "code",
   "execution_count": 1,
   "metadata": {},
   "outputs": [
    {
     "name": "stdout",
     "output_type": "stream",
     "text": [
      "enter element to search:4\n",
      "4 is present\n"
     ]
    }
   ],
   "source": [
    "#Python code to demonstrate checking of element existence using List count() method\n",
    "\n",
    "l = [3,4,5,6,7,8,90]\n",
    "c = int(input(\"enter element to search:\"))\n",
    "r = l.count(c)\n",
    "if r > 0:\n",
    "    print(c,\"is present\")\n",
    "else:\n",
    "    print(c,\"is not present\")"
   ]
  },
  {
   "cell_type": "code",
   "execution_count": 28,
   "metadata": {},
   "outputs": [
    {
     "name": "stdout",
     "output_type": "stream",
     "text": [
      "l before clear(): [2, 5, 6, 8, 3, 5, 7]\n",
      "l after clear(): []\n"
     ]
    }
   ],
   "source": [
    "# Python program to clear a list using clear() method\n",
    "l = [2,5,6,8,3,5,7]\n",
    "print(\"l before clear():\",l)\n",
    "\n",
    "l1 = l.clear()\n",
    "print(\"l after clear():\",l)"
   ]
  },
  {
   "cell_type": "code",
   "execution_count": 31,
   "metadata": {},
   "outputs": [
    {
     "name": "stdout",
     "output_type": "stream",
     "text": [
      "[1, 2, 3, 4, 5, 6, 7, 8, 0, 3, 2, 4, 5, 6, 7]\n",
      "[]\n",
      "[123456, 12345, 12, 3456, 12345]\n",
      "[]\n"
     ]
    }
   ],
   "source": [
    "list = [1,2,3,4,5,6,7,8,0,3,2,4,5,6,7]\n",
    "print(list)\n",
    "list *= 0\n",
    "print(list)\n",
    "\n",
    "list1 = [123456,12345,12,3456,12345]\n",
    "print(list1)\n",
    "\n",
    "del list1[:]\n",
    "print(list1)"
   ]
  },
  {
   "cell_type": "code",
   "execution_count": 1,
   "metadata": {},
   "outputs": [
    {
     "name": "stdout",
     "output_type": "stream",
     "text": [
      "[0, 1, 2, 3, 4, 5, 6, 7, 8, 9]\n"
     ]
    }
   ],
   "source": [
    "# Python code To reverse list\n",
    "\n",
    "l = [9,8,7,6,5,4,3,2,1,0]\n",
    "\n",
    "l1 = []\n",
    "for i in l:\n",
    "    l1.insert(0,i)\n",
    "print(l1)"
   ]
  },
  {
   "cell_type": "code",
   "execution_count": 1,
   "metadata": {},
   "outputs": [
    {
     "name": "stdout",
     "output_type": "stream",
     "text": [
      "[0, 9, 8, 7, 6, 5, 4, 3, 2, 1]\n"
     ]
    }
   ],
   "source": [
    "arr = [1, 2, 3, 4, 5, 6, 7, 8, 9, 0]\n",
    "for i in range(len(arr)//2):\n",
    "    temp = arr[i]\n",
    "    arr[i] = arr[len(arr)-1-i]\n",
    "    arr[len(arr)-1-i] = temp\n",
    "print(arr)"
   ]
  },
  {
   "cell_type": "code",
   "execution_count": 17,
   "metadata": {},
   "outputs": [
    {
     "name": "stdout",
     "output_type": "stream",
     "text": [
      "[0, 1, 2, 3, 4, 5, 6, 7, 8, 9]\n"
     ]
    }
   ],
   "source": [
    "#Using the reversed() built-in function.\n",
    "def rev(list):\n",
    "       return [ele for ele in reversed(list)]\n",
    "list = [9,8,7,6,5,4,3,2,1,0]\n",
    "print(rev(list))"
   ]
  },
  {
   "cell_type": "code",
   "execution_count": 21,
   "metadata": {},
   "outputs": [
    {
     "name": "stdout",
     "output_type": "stream",
     "text": [
      "[1, 2, 3, 4, 5]\n"
     ]
    }
   ],
   "source": [
    "# Reversing a list using reverse()\n",
    "def rev(l):\n",
    "    l.reverse()\n",
    "    return l\n",
    "l = [5,4,3,2,1]\n",
    "print(rev(l))"
   ]
  },
  {
   "cell_type": "code",
   "execution_count": 22,
   "metadata": {},
   "outputs": [
    {
     "name": "stdout",
     "output_type": "stream",
     "text": [
      "[9, 8, 7, 6, 5]\n"
     ]
    }
   ],
   "source": [
    "# Reversing a list using slicing technique\n",
    "def abhi(lst):\n",
    "    rev = lst[::-1]\n",
    "    return rev\n",
    "lst = [5,6,7,8,9]\n",
    "print(abhi(lst))"
   ]
  },
  {
   "cell_type": "code",
   "execution_count": 1,
   "metadata": {},
   "outputs": [
    {
     "name": "stdout",
     "output_type": "stream",
     "text": [
      "[9, 8, 7, 6, 5]\n"
     ]
    }
   ],
   "source": [
    "lst = [5,6,7,8,9]\n",
    "res = []\n",
    "for i in range(len(lst)-1,-1,-1):\n",
    "    res.append(lst[i])\n",
    "print(res)"
   ]
  },
  {
   "cell_type": "code",
   "execution_count": 3,
   "metadata": {},
   "outputs": [
    {
     "name": "stdout",
     "output_type": "stream",
     "text": [
      "totol sum of the elements is 30\n"
     ]
    }
   ],
   "source": [
    "# Python program to find sum of elements in list\n",
    "l = [9,2,4,7,5,3]\n",
    "sum = 0\n",
    "for i in range(0,len(l)):\n",
    "    sum = sum + l[i]\n",
    "print(\"totol sum of the elements is\",sum)"
   ]
  },
  {
   "cell_type": "code",
   "execution_count": 25,
   "metadata": {},
   "outputs": [
    {
     "name": "stdout",
     "output_type": "stream",
     "text": [
      "21\n"
     ]
    }
   ],
   "source": [
    "l = [1,2,3,4,5,6]\n",
    "sum = 0\n",
    "i = 0\n",
    "while i<len(l):\n",
    "    sum = sum + l[i]\n",
    "    i = i+1\n",
    "print(sum)"
   ]
  },
  {
   "cell_type": "code",
   "execution_count": 27,
   "metadata": {},
   "outputs": [
    {
     "name": "stdout",
     "output_type": "stream",
     "text": [
      "24\n"
     ]
    }
   ],
   "source": [
    "# Python program to multiply all values in the list using traversal\n",
    "l = [1,2,3,4]\n",
    "pro = l[0]\n",
    "for i in range(0,len(l)):\n",
    "    pro = pro * l[i]    \n",
    "print(pro)\n",
    "    "
   ]
  },
  {
   "cell_type": "code",
   "execution_count": 28,
   "metadata": {},
   "outputs": [
    {
     "name": "stdout",
     "output_type": "stream",
     "text": [
      "24\n"
     ]
    }
   ],
   "source": [
    "def mul(list):\n",
    "    pro = 1\n",
    "    for i in range(0,len(list)):\n",
    "        pro = pro*list[i]\n",
    "    return pro\n",
    "list = [1,2,3,4]\n",
    "print(mul(list))\n",
    "    "
   ]
  },
  {
   "cell_type": "code",
   "execution_count": 29,
   "metadata": {},
   "outputs": [
    {
     "name": "stdout",
     "output_type": "stream",
     "text": [
      "24\n"
     ]
    }
   ],
   "source": [
    "import numpy as tony\n",
    "list = [1,2,3,4]\n",
    "mul = tony.prod(list)\n",
    "print(mul)"
   ]
  },
  {
   "cell_type": "code",
   "execution_count": 34,
   "metadata": {},
   "outputs": [
    {
     "name": "stdout",
     "output_type": "stream",
     "text": [
      "24\n"
     ]
    }
   ],
   "source": [
    "from functools import reduce\n",
    "list = [1,2,3,4]\n",
    "res = reduce((lambda x,y:x*y),list)\n",
    "print(res)"
   ]
  },
  {
   "cell_type": "code",
   "execution_count": 81,
   "metadata": {},
   "outputs": [
    {
     "name": "stdout",
     "output_type": "stream",
     "text": [
      "[3, 4, 5, 5, 7, 8, 34, 66, 67, 92]\n",
      "smallest number in list : [3]\n"
     ]
    }
   ],
   "source": [
    "# Python program to find smallest number in a list\n",
    "l = [67,4,5,3,8,34,92,5,66,7]\n",
    "l.sort()\n",
    "print(l)\n",
    "print(\"smallest number in list :\",l[:1])"
   ]
  },
  {
   "cell_type": "code",
   "execution_count": 67,
   "metadata": {},
   "outputs": [
    {
     "name": "stdout",
     "output_type": "stream",
     "text": [
      "Smallest element is: 1\n"
     ]
    }
   ],
   "source": [
    "list1 = [10, 20, 1, 45, 99]\n",
    "\n",
    "print(\"Smallest element is:\", min(list1))"
   ]
  },
  {
   "cell_type": "code",
   "execution_count": 1,
   "metadata": {},
   "outputs": [
    {
     "name": "stdout",
     "output_type": "stream",
     "text": [
      "The list is  [54  6  5  4  2  6  7 83 22  4]\n",
      "The smallest element in the list is:  2\n"
     ]
    }
   ],
   "source": [
    "import numpy as np\n",
    "l = np.array([54,6,5,4,2,6,7,83,22,4])\n",
    "print(\"The list is \",l)\n",
    "\n",
    "min1 = l[0]\n",
    "for i in range(len(l)):\n",
    "\n",
    "    if l[i] < min1:\n",
    "        min1 = l[i] \n",
    "print(\"The smallest element in the list is: \",min1)"
   ]
  },
  {
   "cell_type": "code",
   "execution_count": 78,
   "metadata": {},
   "outputs": [
    {
     "name": "stdout",
     "output_type": "stream",
     "text": [
      "sorted list: [2, 4, 4, 5, 6, 6, 7, 22, 54, 83]\n",
      "largest num in list is: 83\n"
     ]
    }
   ],
   "source": [
    "# Python program to find largest number in a list\n",
    "l = [54,6,5,4,2,6,7,83,22,4]\n",
    "l.sort()\n",
    "\n",
    "print(\"sorted list:\",l)\n",
    "print(\"largest num in list is:\",l[-1])"
   ]
  },
  {
   "cell_type": "code",
   "execution_count": 83,
   "metadata": {},
   "outputs": [
    {
     "name": "stdout",
     "output_type": "stream",
     "text": [
      "largest element is: 99\n"
     ]
    }
   ],
   "source": [
    "list1 = [10, 20, 1, 45, 99]\n",
    "\n",
    "print(\"largest element is:\", max(list1))"
   ]
  },
  {
   "cell_type": "code",
   "execution_count": 86,
   "metadata": {},
   "outputs": [
    {
     "name": "stdout",
     "output_type": "stream",
     "text": [
      "The list is  [54  6  5  4  2  6  7 83 22  4]\n",
      "The smallest element in the list is:  83\n"
     ]
    }
   ],
   "source": [
    "import numpy as np\n",
    "l = np.array([54,6,5,4,2,6,7,83,22,4])\n",
    "print(\"The list is \",l)\n",
    "\n",
    "max1 = l[0]\n",
    "for i in range(len(l)):\n",
    "\n",
    "    if l[i] > max1:\n",
    "        max1 = l[i] \n",
    "print(\"The largest element in the list is: \",max(l))"
   ]
  },
  {
   "cell_type": "code",
   "execution_count": 95,
   "metadata": {},
   "outputs": [
    {
     "name": "stdout",
     "output_type": "stream",
     "text": [
      "Largest element is: 200\n"
     ]
    }
   ],
   "source": [
    "def large(list1):\n",
    "    max1 = list1[0]\n",
    "\n",
    "    for i in list1:\n",
    "        if i > max1 :\n",
    "            max1 = i\n",
    "\n",
    "    return max1\n",
    "\n",
    "list1 = [10, 200, 4, 45, 99]\n",
    "print(\"Largest element is:\", large(list1))"
   ]
  },
  {
   "cell_type": "code",
   "execution_count": 3,
   "metadata": {},
   "outputs": [
    {
     "name": "stdout",
     "output_type": "stream",
     "text": [
      "[2, 4, 5, 6, 7, 22, 54, 83]\n",
      "second largest element is: 54\n"
     ]
    }
   ],
   "source": [
    "# Python program to find second largest number in a list\n",
    "list1 = [54,6,5,4,2,6,7,83,22,4]\n",
    "\n",
    "# Removing duplicates from the list\n",
    "list2 = list(set(list1))\n",
    "list2.sort()\n",
    "print(list2)\n",
    "print(\"second largest element is:\",list2[-2])"
   ]
  },
  {
   "cell_type": "code",
   "execution_count": 15,
   "metadata": {},
   "outputs": [
    {
     "name": "stdout",
     "output_type": "stream",
     "text": [
      "original list: {7, 84, 24, 345, 56}\n",
      "second largest is: 84\n"
     ]
    }
   ],
   "source": [
    "lst = [24,56,7,84,345,345]\n",
    "lst2 = set(lst)\n",
    "print(\"original list:\",lst2)\n",
    "\n",
    "lst2.remove(max(lst2))\n",
    "print(\"second largest is:\",max(lst2))"
   ]
  },
  {
   "cell_type": "code",
   "execution_count": 1,
   "metadata": {},
   "outputs": [
    {
     "name": "stdout",
     "output_type": "stream",
     "text": [
      "45\n"
     ]
    }
   ],
   "source": [
    "def secondlarge(list):\n",
    "    large2 = list[0]\n",
    "    large1 = list[0]\n",
    "    \n",
    "    for i in range(len(list)):\n",
    "        if list[i] > large1:\n",
    "            large1 = list[i]\n",
    "    for i in range(len(list)):\n",
    "        if list[i] > large2 and list[i] != large1:\n",
    "            large2 = list[i]            \n",
    "    return large2\n",
    "list = [10, 20, 4, 45, 99]\n",
    "print(secondlarge(list))"
   ]
  },
  {
   "cell_type": "code",
   "execution_count": 4,
   "metadata": {},
   "outputs": [
    {
     "name": "stdout",
     "output_type": "stream",
     "text": [
      "[85, 41, 10]\n"
     ]
    }
   ],
   "source": [
    "#Python program to find N largest elements from a list\n",
    "\n",
    "def nlarge(list2,n):\n",
    "    reslist = []\n",
    "    \n",
    "    for i in range(0,n):\n",
    "        max1 = 0\n",
    "        \n",
    "        for j in range(0,len(list2)):\n",
    "            if list2[j] > max1:\n",
    "                max1 = list2[j]\n",
    "        list2.remove(max1)\n",
    "        reslist.append(max1)\n",
    "        \n",
    "    return reslist\n",
    "list1 = set([2, 6, 41, 85, 0, 3, 85, 6, 10])\n",
    "list2 = list(list1)\n",
    "\n",
    "\n",
    "n = 3\n",
    "print(nlarge(list2,n))"
   ]
  },
  {
   "cell_type": "code",
   "execution_count": 1,
   "metadata": {},
   "outputs": [
    {
     "name": "stdout",
     "output_type": "stream",
     "text": [
      "0     0\n",
      "1     2\n",
      "2     3\n",
      "3     6\n",
      "4     7\n",
      "5    41\n",
      "6    10\n",
      "7    85\n",
      "dtype: int64\n"
     ]
    },
    {
     "data": {
      "text/plain": [
       "7    85\n",
       "5    41\n",
       "6    10\n",
       "dtype: int64"
      ]
     },
     "execution_count": 1,
     "metadata": {},
     "output_type": "execute_result"
    }
   ],
   "source": [
    "import pandas as pd\n",
    "l = [2, 6, 41,6, 85, 0, 3, 7, 6, 85,10]\n",
    "l = set(l)\n",
    "l = list(l)\n",
    "list1 = pd.Series(l)\n",
    "print(list1)\n",
    "res =list1.nlargest(3)\n",
    "res"
   ]
  },
  {
   "cell_type": "markdown",
   "metadata": {},
   "source": [
    "l = [1000,298,3579,100,200,-45,900]\n",
    "n = 3\n",
    "l.sort(reverse=False)\n",
    "print(l)\n",
    "print(l[-n:])"
   ]
  },
  {
   "cell_type": "code",
   "execution_count": 4,
   "metadata": {},
   "outputs": [
    {
     "name": "stdout",
     "output_type": "stream",
     "text": [
      "[900, -45, 200, 100, 3579, 298, 1000]\n"
     ]
    }
   ],
   "source": [
    "def fun(l):\n",
    "    return [ele for ele in reversed(l)]\n",
    "\n",
    "l = [1000,298,3579,100,200,-45,900]\n",
    "print(fun(l))"
   ]
  },
  {
   "cell_type": "code",
   "execution_count": 8,
   "metadata": {},
   "outputs": [
    {
     "name": "stdout",
     "output_type": "stream",
     "text": [
      "[4, 8, 34, 92, 66]\n"
     ]
    }
   ],
   "source": [
    "#print even numbers in the list\n",
    "\n",
    "l = [67,4,5,3,8,34,92,5,66,7]\n",
    "res = []\n",
    "for i in l:\n",
    "    if i%2 == 0:\n",
    "        res.append(i)\n",
    "print(res)"
   ]
  },
  {
   "cell_type": "code",
   "execution_count": 11,
   "metadata": {},
   "outputs": [
    {
     "name": "stdout",
     "output_type": "stream",
     "text": [
      "4 8 34 92 66 "
     ]
    }
   ],
   "source": [
    "#using while loop\n",
    "\n",
    "l = [67,4,5,3,8,34,92,5,66,7]\n",
    "i = 0\n",
    "\n",
    "while i < len(l):\n",
    "    if l[i] % 2 == 0:\n",
    "        print(l[i],end = \" \")\n",
    "    i = i+1"
   ]
  },
  {
   "cell_type": "code",
   "execution_count": 13,
   "metadata": {},
   "outputs": [
    {
     "name": "stdout",
     "output_type": "stream",
     "text": [
      "[4, 8, 34, 92, 66]\n"
     ]
    }
   ],
   "source": [
    "#using list comprehension\n",
    "\n",
    "l = [67,4,5,3,8,34,92,5,66,7]\n",
    "even_num = [i for i in l if i%2 == 0]\n",
    "print(even_num)"
   ]
  },
  {
   "cell_type": "code",
   "execution_count": 36,
   "metadata": {},
   "outputs": [
    {
     "name": "stdout",
     "output_type": "stream",
     "text": [
      "4 8 34 92 66 "
     ]
    }
   ],
   "source": [
    "def evennum(list1):\n",
    "    for i in list1:\n",
    "        if i%2 == 0:\n",
    "            print(i,end=\" \")\n",
    "list1 = [67,4,5,3,8,34,92,5,66]\n",
    "evennum(list1)\n"
   ]
  },
  {
   "cell_type": "code",
   "execution_count": 46,
   "metadata": {},
   "outputs": [
    {
     "name": "stdout",
     "output_type": "stream",
     "text": [
      "[4, 8, 34, 92, 66]\n"
     ]
    }
   ],
   "source": [
    "#using lambda expressions\n",
    "#from functools import reduce\n",
    "l = [67,4,5,3,8,34,92,5,66,7]\n",
    "even_num = list(filter(lambda x:(x % 2 == 0),l))\n",
    "print(even_num)"
   ]
  },
  {
   "cell_type": "code",
   "execution_count": 53,
   "metadata": {},
   "outputs": [
    {
     "name": "stdout",
     "output_type": "stream",
     "text": [
      "enter starting num10\n",
      "enter stoping num50\n",
      "10 12 14 16 18 20 22 24 26 28 30 32 34 36 38 40 42 44 46 48 50 "
     ]
    }
   ],
   "source": [
    "# Python program to print Even Numbers in given range\n",
    "start = int(input(\"enter starting num\"))\n",
    "stop = int(input(\"enter stoping num\"))\n",
    "for num in range(start,stop+1):\n",
    "    if num%2 == 0:\n",
    "        print(num,end = \" \")"
   ]
  },
  {
   "cell_type": "code",
   "execution_count": 56,
   "metadata": {},
   "outputs": [
    {
     "name": "stdout",
     "output_type": "stream",
     "text": [
      "10 12 14 16 18 20 22 24 26 28 30 32 34 36 38 40 42 44 46 48 "
     ]
    }
   ],
   "source": [
    "for num in range(start,stop,2):\n",
    "    if num%2 == 0:\n",
    "        print(num,end = \" \")"
   ]
  },
  {
   "cell_type": "code",
   "execution_count": 68,
   "metadata": {},
   "outputs": [
    {
     "name": "stdout",
     "output_type": "stream",
     "text": [
      "enter starting num1\n",
      "enter stoping num10\n",
      "1 3 5 7 9 "
     ]
    }
   ],
   "source": [
    "# Python program to print odd Numbers in given range\n",
    "start = int(input(\"enter starting num\"))\n",
    "stop = int(input(\"enter stoping num\"))\n",
    "for num in range(start,stop+1):\n",
    "    if num%2 != 0:\n",
    "        print(num,end = \" \")"
   ]
  },
  {
   "cell_type": "code",
   "execution_count": 69,
   "metadata": {},
   "outputs": [
    {
     "name": "stdout",
     "output_type": "stream",
     "text": [
      "1 3 5 7 9 "
     ]
    }
   ],
   "source": [
    "for num in range(start,stop):\n",
    "    if num%2 != 0:\n",
    "        print(num,end = \" \")"
   ]
  },
  {
   "cell_type": "code",
   "execution_count": 75,
   "metadata": {},
   "outputs": [
    {
     "name": "stdout",
     "output_type": "stream",
     "text": [
      "67 5 8 92 5 7 "
     ]
    }
   ],
   "source": [
    "# Python program to print positive Numbers in a List\n",
    "l = [67,-4,5,-3,8,-34,92,5,-66,7]\n",
    "for i in range(0,len(l)):\n",
    "    if l[i] >= 0:\n",
    "        print(l[i],end = \" \")"
   ]
  },
  {
   "cell_type": "code",
   "execution_count": 76,
   "metadata": {},
   "outputs": [
    {
     "name": "stdout",
     "output_type": "stream",
     "text": [
      "-4 -3 -34 -66 "
     ]
    }
   ],
   "source": [
    "# Python program to print negative Numbers in a List\n",
    "l = [67,-4,5,-3,8,-34,92,5,-66,7]\n",
    "for i in range(0,len(l)):\n",
    "    if l[i] <= 0:\n",
    "        print(l[i],end = \" \")"
   ]
  },
  {
   "cell_type": "code",
   "execution_count": 80,
   "metadata": {},
   "outputs": [
    {
     "name": "stdout",
     "output_type": "stream",
     "text": [
      "enter starting num:-5\n",
      "enter stoping num5\n",
      "0 1 2 3 4 5 "
     ]
    }
   ],
   "source": [
    "# Python program to print positive Numbers in given range\n",
    "start = int(input(\"enter starting num:\"))\n",
    "stop = int(input(\"enter stoping num\"))\n",
    "for num in range(start,stop+1):\n",
    "    if num >= 0:\n",
    "        print(num,end = \" \")"
   ]
  },
  {
   "cell_type": "code",
   "execution_count": 82,
   "metadata": {},
   "outputs": [
    {
     "name": "stdout",
     "output_type": "stream",
     "text": [
      "enter starting num:-5\n",
      "enter stoping num:5\n",
      "-5 -4 -3 -2 -1 0 "
     ]
    }
   ],
   "source": [
    "# Python program to print negative Numbers in given range\n",
    "start = int(input(\"enter starting num:\"))\n",
    "stop = int(input(\"enter stoping num:\"))\n",
    "for num in range(start,stop+1):\n",
    "    if num <= 0:\n",
    "        print(num,end = \" \")"
   ]
  },
  {
   "cell_type": "code",
   "execution_count": 84,
   "metadata": {},
   "outputs": [
    {
     "name": "stdout",
     "output_type": "stream",
     "text": [
      "5 6 3 9 "
     ]
    }
   ],
   "source": [
    "#Python3 code to Demonstrate Remove empty List\n",
    "\n",
    "list = [5, 6, [], 3, [], [], 9]\n",
    "new_list = []\n",
    "\n",
    "for i in list:\n",
    "    if i:\n",
    "        print(i,end = \" \")"
   ]
  },
  {
   "cell_type": "code",
   "execution_count": 86,
   "metadata": {},
   "outputs": [
    {
     "name": "stdout",
     "output_type": "stream",
     "text": [
      "5 6 3 9 "
     ]
    }
   ],
   "source": [
    "def remove(list):\n",
    "    for i in list:\n",
    "        if i:\n",
    "            print(i,end=\" \")\n",
    "list = [5, 6, [], 3, [], [], 9]\n",
    "remove(list)"
   ]
  },
  {
   "cell_type": "code",
   "execution_count": 87,
   "metadata": {},
   "outputs": [
    {
     "name": "stdout",
     "output_type": "stream",
     "text": [
      "Original List: [4, 8, 2, 10, 15, 18]\n",
      "After Cloning: [4, 8, 2, 10, 15, 18]\n"
     ]
    }
   ],
   "source": [
    "# Python program to copy or clone a list Using the Slice Operator\n",
    "def Cloning(li1):\n",
    "    li_copy = li1[:]\n",
    "    return li_copy\n",
    "\n",
    "li1 = [4, 8, 2, 10, 15, 18]\n",
    "li2 = Cloning(li1)\n",
    "print(\"Original List:\", li1)\n",
    "print(\"After Cloning:\", li2)"
   ]
  },
  {
   "cell_type": "code",
   "execution_count": 3,
   "metadata": {},
   "outputs": [
    {
     "name": "stdout",
     "output_type": "stream",
     "text": [
      "('value is present at', 4)\n"
     ]
    }
   ],
   "source": [
    "#linear search\n",
    "\n",
    "def linear_search(list,value):\n",
    "    for i in list:\n",
    "        if i == value:\n",
    "            return 'value is present at',list.index(value)\n",
    "    return \"value is not present\"\n",
    "list = [4, 8, 2, 10, 15, 18]\n",
    "res = linear_search(list,15)\n",
    "print(res)"
   ]
  },
  {
   "cell_type": "code",
   "execution_count": 3,
   "metadata": {},
   "outputs": [
    {
     "name": "stdout",
     "output_type": "stream",
     "text": [
      "enter val10\n",
      "3\n"
     ]
    }
   ],
   "source": [
    "list = [4, 8, 2, 10, 15, 18]\n",
    "l = len(list)\n",
    "val = int(input(\"enter val\"))\n",
    "for i in range(0,l):\n",
    "    if list[i] != val:\n",
    "        continue\n",
    "    else:\n",
    "        print(i)"
   ]
  },
  {
   "cell_type": "code",
   "execution_count": 2,
   "metadata": {},
   "outputs": [
    {
     "name": "stdout",
     "output_type": "stream",
     "text": [
      "enter index val5\n",
      "18\n"
     ]
    }
   ],
   "source": [
    "list = [4, 8, 2, 10, 15, 18]\n",
    "ind = int(input(\"enter index val\"))\n",
    "\n",
    "if ind<len(list):\n",
    "    for i in range(0,len(list)):\n",
    "        if i == ind: \n",
    "            print(list[i])\n",
    "else:\n",
    "    print()\n",
    "      \n",
    "    "
   ]
  },
  {
   "cell_type": "code",
   "execution_count": 2,
   "metadata": {},
   "outputs": [
    {
     "name": "stdout",
     "output_type": "stream",
     "text": [
      "[7, 14, 21, 28, 35]\n"
     ]
    }
   ],
   "source": [
    "#How to add two lists in Python\n",
    "\n",
    "lt1 = [5, 10, 15, 20, 25]  \n",
    "lt2 = [2, 4, 6, 8, 10, 12]  \n",
    "\n",
    "res = []\n",
    "for i in range(0,len(lt1)):\n",
    "    res.append(lt1[i] + lt2[i])\n",
    "print(res)"
   ]
  },
  {
   "cell_type": "code",
   "execution_count": 4,
   "metadata": {},
   "outputs": [
    {
     "name": "stdout",
     "output_type": "stream",
     "text": [
      "[2, 1, 4, 3, 6, 5]\n"
     ]
    }
   ],
   "source": [
    "def swap_elements(arr):\n",
    "    n = len(arr)\n",
    "    for i in range(0,n-1,2):\n",
    "        arr[i], arr[i+1] = arr[i+1], arr[i]\n",
    "    return arr\n",
    "\n",
    "arr = [1, 2, 3, 4, 5, 6]\n",
    "print(swap_elements(arr))"
   ]
  },
  {
   "cell_type": "code",
   "execution_count": 4,
   "metadata": {},
   "outputs": [
    {
     "name": "stdout",
     "output_type": "stream",
     "text": [
      "1\n",
      "3\n",
      "5\n"
     ]
    }
   ],
   "source": [
    "x = [1, 2, 3, 4, 5, 6]\n",
    "for i in range(0,len(x),2):\n",
    "    print(x[i])"
   ]
  },
  {
   "cell_type": "code",
   "execution_count": 9,
   "metadata": {},
   "outputs": [
    {
     "name": "stdout",
     "output_type": "stream",
     "text": [
      "[2, 1, 4, 3, 6, 5]\n"
     ]
    }
   ],
   "source": [
    "x = [1, 2, 3, 4, 5, 6]\n",
    "for i in range(0,len(x),2):\n",
    "    x[i], x[i+1] = x[i+1], x[i]\n",
    "print(x)"
   ]
  },
  {
   "cell_type": "code",
   "execution_count": 16,
   "metadata": {},
   "outputs": [
    {
     "name": "stdout",
     "output_type": "stream",
     "text": [
      "enter num10\n",
      "55\n",
      "3\n"
     ]
    }
   ],
   "source": [
    "# find the missing num bw the numbers\n",
    " \n",
    "x = [1,2,4,5,6,7,8,9,10]\n",
    "sum = 0\n",
    "for i in range(0,len(x)):\n",
    "    sum = sum + x[i]\n",
    "\n",
    "#sum of 10 natural num\n",
    "n = int(input('enter num'))\n",
    "x = (n*(n+1))//2\n",
    "print(x)\n",
    "\n",
    "missing_num = x-sum\n",
    "print(missing_num)\n",
    "    \n",
    "    \n"
   ]
  },
  {
   "cell_type": "code",
   "execution_count": 9,
   "metadata": {},
   "outputs": [
    {
     "name": "stdout",
     "output_type": "stream",
     "text": [
      "[1, 2, 3, 4, 7, 6, 7, 8, 9, 10]\n"
     ]
    }
   ],
   "source": [
    "x = [1,2,3,4,5,6,7,8,9,10]\n",
    "for i in range(len(x)):\n",
    "    if i == 4:\n",
    "        sum = x[2] + x[3]\n",
    "        x[i] = sum\n",
    "print(x)"
   ]
  },
  {
   "cell_type": "code",
   "execution_count": null,
   "metadata": {},
   "outputs": [],
   "source": [
    "nums = input('enter elemetns')\n",
    "nums = nums.split()"
   ]
  },
  {
   "cell_type": "code",
   "execution_count": 8,
   "metadata": {},
   "outputs": [
    {
     "name": "stdout",
     "output_type": "stream",
     "text": [
      "1 2 3 4 5 6 7 8 9 10\n"
     ]
    },
    {
     "data": {
      "text/plain": [
       "[1, 2, 3, 4, 5, 6, 7, 8, 9, 10]"
      ]
     },
     "execution_count": 8,
     "metadata": {},
     "output_type": "execute_result"
    }
   ],
   "source": [
    "x = list(map(int, input().split()))\n",
    "x"
   ]
  },
  {
   "cell_type": "code",
   "execution_count": 21,
   "metadata": {},
   "outputs": [
    {
     "name": "stdout",
     "output_type": "stream",
     "text": [
      "enter list of elemets with space\n",
      "1 2 3 4 5 6 7 8 9 0\n",
      "[1, 2, 3, 4, 5, 6, 7, 8, 9, 0]\n",
      "enter index value3\n",
      "enter index2 value5\n",
      "enter destination index1\n",
      "[1, 10, 3, 4, 5, 6, 7, 8, 9, 0]\n"
     ]
    }
   ],
   "source": [
    "print(\"enter list of elemets with space\")\n",
    "x = list(map(lambda y:y*1,list(map(int,input().split(' ')))))\n",
    "print(x)\n",
    "n1 = int(input('enter index value'))\n",
    "n2 = int(input(\"enter index2 value\"))\n",
    "n3 = int(input(\"enter destination index\"))\n",
    "res = x[n1] + x[n2]\n",
    "x[n3] = res\n",
    "print(x)\n"
   ]
  },
  {
   "cell_type": "code",
   "execution_count": 13,
   "metadata": {},
   "outputs": [
    {
     "name": "stdout",
     "output_type": "stream",
     "text": [
      "[1, 2, 3, 4, 5]\n"
     ]
    }
   ],
   "source": [
    "#remove dulicates from list\n",
    "\n",
    "l = [1, 2, 3, 3, 4, 5, 5, 5]\n",
    "res = []\n",
    "for i in l:\n",
    "    if i not in res:\n",
    "        res.append(i)\n",
    "print(res)"
   ]
  },
  {
   "cell_type": "code",
   "execution_count": null,
   "metadata": {},
   "outputs": [],
   "source": []
  },
  {
   "cell_type": "code",
   "execution_count": null,
   "metadata": {},
   "outputs": [],
   "source": []
  },
  {
   "cell_type": "code",
   "execution_count": null,
   "metadata": {},
   "outputs": [],
   "source": []
  },
  {
   "cell_type": "code",
   "execution_count": null,
   "metadata": {},
   "outputs": [],
   "source": []
  },
  {
   "cell_type": "code",
   "execution_count": null,
   "metadata": {},
   "outputs": [],
   "source": []
  },
  {
   "cell_type": "code",
   "execution_count": null,
   "metadata": {},
   "outputs": [],
   "source": []
  },
  {
   "cell_type": "code",
   "execution_count": null,
   "metadata": {},
   "outputs": [],
   "source": []
  },
  {
   "cell_type": "code",
   "execution_count": null,
   "metadata": {},
   "outputs": [],
   "source": []
  },
  {
   "cell_type": "code",
   "execution_count": null,
   "metadata": {},
   "outputs": [],
   "source": []
  },
  {
   "cell_type": "code",
   "execution_count": null,
   "metadata": {},
   "outputs": [],
   "source": []
  }
 ],
 "metadata": {
  "kernelspec": {
   "display_name": "Python 3 (ipykernel)",
   "language": "python",
   "name": "python3"
  },
  "language_info": {
   "codemirror_mode": {
    "name": "ipython",
    "version": 3
   },
   "file_extension": ".py",
   "mimetype": "text/x-python",
   "name": "python",
   "nbconvert_exporter": "python",
   "pygments_lexer": "ipython3",
   "version": "3.11.5"
  }
 },
 "nbformat": 4,
 "nbformat_minor": 4
}
