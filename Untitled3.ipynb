{
 "cells": [
  {
   "cell_type": "code",
   "execution_count": 1,
   "id": "9a395b95",
   "metadata": {},
   "outputs": [
    {
     "name": "stdout",
     "output_type": "stream",
     "text": [
      "1\n",
      "2\n",
      "3\n",
      "4\n",
      "5\n",
      "6\n",
      "7\n",
      "8\n",
      "9\n",
      "10\n"
     ]
    }
   ],
   "source": [
    "def num(n):\n",
    "    if n > 0:\n",
    "        num(n-1)\n",
    "        print(n)\n",
    "n = 10\n",
    "num(n)"
   ]
  },
  {
   "cell_type": "code",
   "execution_count": 1,
   "id": "c4b256ad",
   "metadata": {},
   "outputs": [
    {
     "name": "stdout",
     "output_type": "stream",
     "text": [
      "enter a num4\n",
      "4 is a power of 2\n"
     ]
    }
   ],
   "source": [
    "n = int(input('enter a num'))\n",
    "res = 0\n",
    "i = 1\n",
    "while i<=n:\n",
    "    res = 1<<i\n",
    "    if res == n:\n",
    "        print(n,'is a power of 2')\n",
    "        break\n",
    "    i = i + 1\n",
    "else:\n",
    "    print(n,'is not')"
   ]
  },
  {
   "cell_type": "code",
   "execution_count": 6,
   "id": "1da44cb8",
   "metadata": {},
   "outputs": [
    {
     "name": "stdout",
     "output_type": "stream",
     "text": [
      "43 isnt\n"
     ]
    }
   ],
   "source": [
    "n = 43\n",
    "res = 0\n",
    "for i in range(1,n+1):\n",
    "    if i*i == n:\n",
    "        print(n,'is a perfect square')\n",
    "else:\n",
    "    print(n,'isnt')"
   ]
  },
  {
   "cell_type": "code",
   "execution_count": 1,
   "id": "01298737",
   "metadata": {},
   "outputs": [
    {
     "name": "stdout",
     "output_type": "stream",
     "text": [
      "enter no of elements10\n",
      "1\n",
      "1\n",
      "2\n",
      "3\n",
      "4\n",
      "5\n",
      "6\n",
      "7\n",
      "8\n",
      "9\n",
      "[1, 1, 2, 3, 4, 5, 6, 7, 8, 9]\n"
     ]
    }
   ],
   "source": [
    "n = int(input('enter no of elements'))\n",
    "l = []\n",
    "for i in range(0,n):\n",
    "    l.append(int(input()))\n",
    "print(l)"
   ]
  },
  {
   "cell_type": "code",
   "execution_count": 8,
   "id": "af8fd1e3",
   "metadata": {},
   "outputs": [
    {
     "name": "stdout",
     "output_type": "stream",
     "text": [
      "enter no of rows2\n",
      "enter no of cols3\n",
      "1\n",
      "2\n",
      "3\n",
      "4\n",
      "5\n",
      "6\n",
      "1 2 3 \n",
      "4 5 6 \n"
     ]
    }
   ],
   "source": [
    "r = int(input('enter no of rows'))\n",
    "c = int(input('enter no of cols'))\n",
    "mat = []\n",
    "\n",
    "for i in range(0,r):\n",
    "    a = []\n",
    "    for j in range(0,c):\n",
    "        a.append(int(input()))\n",
    "    mat.append(a)\n",
    "for i in range(r):\n",
    "    for j in range(c):\n",
    "        print(mat[i][j],end = \" \")\n",
    "    print()"
   ]
  },
  {
   "cell_type": "code",
   "execution_count": 10,
   "id": "405965f6",
   "metadata": {},
   "outputs": [
    {
     "data": {
      "text/plain": [
       "[4, 5, 1, 2, 3]"
      ]
     },
     "execution_count": 10,
     "metadata": {},
     "output_type": "execute_result"
    }
   ],
   "source": [
    "def fun(a,n,d):\n",
    "    a[:] = a[d:n] + a[0:d]\n",
    "    return a\n",
    "    \n",
    "a = [1,2,3,4,5]\n",
    "fun(a,len(a),3)"
   ]
  },
  {
   "cell_type": "code",
   "execution_count": 14,
   "id": "b2f407a5",
   "metadata": {},
   "outputs": [
    {
     "name": "stdout",
     "output_type": "stream",
     "text": [
      "[[1 2 3]\n",
      " [4 5 6]\n",
      " [7 8 9]]\n",
      "4\n"
     ]
    }
   ],
   "source": [
    "import numpy as np\n",
    "a = np.array([[1,2,3],[4,5,6],[7,8,9]])\n",
    "print(a)\n",
    "\n",
    "def fun(a,r_index,c_index):\n",
    "    if r_index>len(a) and c_index>len(arr):\n",
    "        print('incorrect input')\n",
    "    else:\n",
    "        print(a[r_index][c_index])\n",
    "fun(a,1,0)"
   ]
  },
  {
   "cell_type": "code",
   "execution_count": 17,
   "id": "6dac691e",
   "metadata": {},
   "outputs": [
    {
     "name": "stdout",
     "output_type": "stream",
     "text": [
      "[[1 2 3]\n",
      " [4 5 6]\n",
      " [7 8 9]]\n",
      "[1 2 3]\n"
     ]
    }
   ],
   "source": [
    "a = np.array([[1,2,3],[4,5,6],[7,8,9]])\n",
    "print(a)\n",
    "print((a[0]))"
   ]
  },
  {
   "cell_type": "code",
   "execution_count": 22,
   "id": "7cdc452a",
   "metadata": {},
   "outputs": [
    {
     "name": "stdout",
     "output_type": "stream",
     "text": [
      "[[1 2 1]\n",
      " [2 3 5]]\n",
      "[[1 2 0]\n",
      " [4 2 1]\n",
      " [1 1 1]]\n",
      "[[10  7  3]\n",
      " [19 15  8]]\n"
     ]
    }
   ],
   "source": [
    "a = np.array([[1,2,1],[2,3,5]])\n",
    "b =  np.array([[1,2,0],[4,2,1],[1,1,1]])\n",
    "print(a)\n",
    "print(b)\n",
    "res = np.array([[0,0,0],[0,0,0]])\n",
    "\n",
    "for i in range(len(a)):\n",
    "    for j in range(len(b[0])):\n",
    "        for k in range(len(b)):\n",
    "            res[i][j] = res[i][j] + a[i][k]*b[k][j]\n",
    "print(res)"
   ]
  },
  {
   "cell_type": "code",
   "execution_count": 28,
   "id": "da734d68",
   "metadata": {},
   "outputs": [
    {
     "name": "stdout",
     "output_type": "stream",
     "text": [
      "[[10 20 30]\n",
      " [40 50 60]\n",
      " [70 80 90]]\n",
      "[[10 40 70]\n",
      " [20 50 80]\n",
      " [30 60 90]]\n"
     ]
    }
   ],
   "source": [
    "x = np.array([[10,20,30],[40,50,60],[70,80,90]])\n",
    "print(x)\n",
    "\n",
    "res = np.array([[0,0,0],[0,0,0],[0,0,0]])\n",
    "\n",
    "for i in range(len(x)):\n",
    "    for j in range(len(x[0])):\n",
    "        res[j][i] = x[i][j]\n",
    "print(res)"
   ]
  },
  {
   "cell_type": "code",
   "execution_count": 32,
   "id": "c0283e6c",
   "metadata": {},
   "outputs": [
    {
     "name": "stdout",
     "output_type": "stream",
     "text": [
      "1 2 3 4 5\n"
     ]
    },
    {
     "data": {
      "text/plain": [
       "[2, 3, 4, 5, 6]"
      ]
     },
     "execution_count": 32,
     "metadata": {},
     "output_type": "execute_result"
    }
   ],
   "source": [
    "a = list(map(lambda x:x+1,list(map(int,input().split()))))\n",
    "a"
   ]
  },
  {
   "cell_type": "code",
   "execution_count": 33,
   "id": "5a0bc1a9",
   "metadata": {},
   "outputs": [
    {
     "name": "stdout",
     "output_type": "stream",
     "text": [
      "[6, 3, 4, 5, 2]\n"
     ]
    }
   ],
   "source": [
    "a = [2, 3, 4, 5, 6]\n",
    "n = len(a)\n",
    "temp = a[0]\n",
    "a[0] = a[n-1]\n",
    "a[n-1] = temp\n",
    "print(a)\n"
   ]
  },
  {
   "cell_type": "code",
   "execution_count": 34,
   "id": "84669248",
   "metadata": {},
   "outputs": [
    {
     "name": "stdout",
     "output_type": "stream",
     "text": [
      "[6, 5, 4, 3, 2]\n"
     ]
    }
   ],
   "source": [
    "a = [2, 3, 4, 5, 6]\n",
    "res = []\n",
    "for i in a:\n",
    "    res.insert(0,i)\n",
    "print(res)"
   ]
  },
  {
   "cell_type": "code",
   "execution_count": 35,
   "id": "c186380d",
   "metadata": {},
   "outputs": [
    {
     "name": "stdout",
     "output_type": "stream",
     "text": [
      "[6, 5, 4, 3, 2]\n"
     ]
    }
   ],
   "source": [
    "a = [2, 3, 4, 5, 6]\n",
    "for i in range(len(a)//2):\n",
    "    temp = a[i]\n",
    "    a[i] = a[len(a)-1-i]\n",
    "    a[len(a)-1-i] = temp\n",
    "print(a)"
   ]
  },
  {
   "cell_type": "code",
   "execution_count": 40,
   "id": "ff388f30",
   "metadata": {},
   "outputs": [
    {
     "data": {
      "text/plain": [
       "5"
      ]
     },
     "execution_count": 40,
     "metadata": {},
     "output_type": "execute_result"
    }
   ],
   "source": [
    "def fun(a):\n",
    "    l1 = a[0]\n",
    "    l2 = a[0]\n",
    "    for i in range(len(a)):\n",
    "        if a[i] > l1:\n",
    "            l1 = a[i]\n",
    "    for i in range(len(a)):\n",
    "        if a[i] > l2 and a[i] != l1:\n",
    "            l2 = a[i]\n",
    "    return l2\n",
    "    \n",
    "a = [2, 3, 4, 5, 6]\n",
    "fun(a)"
   ]
  },
  {
   "cell_type": "code",
   "execution_count": 51,
   "id": "b5d17a7b",
   "metadata": {},
   "outputs": [
    {
     "name": "stdout",
     "output_type": "stream",
     "text": [
      "[85, 41, 10]\n"
     ]
    }
   ],
   "source": [
    "a = [2, 6, 41, 85, 0, 3, 85, 6, 10]\n",
    "a = list(set(a))\n",
    "n = 3\n",
    "res = []\n",
    "for i in range(0,n):\n",
    "    max1 = 0\n",
    "    for j in range(len(a)):\n",
    "        if a[j] > max1:\n",
    "            max1 = a[j]\n",
    "    a.remove(max1)\n",
    "    res.append(max1)\n",
    "print(res)"
   ]
  },
  {
   "cell_type": "code",
   "execution_count": 1,
   "id": "2ad33e18",
   "metadata": {},
   "outputs": [
    {
     "name": "stdout",
     "output_type": "stream",
     "text": [
      "enter a stringtony\n",
      "enter a index2\n",
      " toy\n"
     ]
    }
   ],
   "source": [
    "s1 = input('enter a string')\n",
    "res = \" \"\n",
    "n = int(input('enter a index'))\n",
    "for i in range(len(s1)):\n",
    "    if i != n:\n",
    "        res = res + s1[i]\n",
    "print(res)"
   ]
  },
  {
   "cell_type": "code",
   "execution_count": 3,
   "id": "5ff582ab",
   "metadata": {},
   "outputs": [
    {
     "name": "stdout",
     "output_type": "stream",
     "text": [
      " ajedaj\n"
     ]
    }
   ],
   "source": [
    "s = \"jadeja\"\n",
    "res =\" \"\n",
    "for char in range(len(s)-1,-1,-1):\n",
    "    res = res + s[char]\n",
    "print(res)"
   ]
  },
  {
   "cell_type": "code",
   "execution_count": 8,
   "id": "5a618285",
   "metadata": {},
   "outputs": [
    {
     "name": "stdout",
     "output_type": "stream",
     "text": [
      "['abc', 'acb', 'abc', 'acb', 'abc', 'acb']\n"
     ]
    }
   ],
   "source": [
    "ans = []\n",
    "def fun(a,l,r):\n",
    "    if l == r:\n",
    "        ans.append(\"\".join(a))\n",
    "    else:\n",
    "        for i in range(l,r):\n",
    "            a[l],a[i] = a[i],a[l]\n",
    "            fun(s,l+1,r)\n",
    "            a[l],a[i] = a[i],a[l]\n",
    "a = \"abc\"\n",
    "a = list(a)\n",
    "fun(a,0,len(a))\n",
    "print(ans)"
   ]
  },
  {
   "cell_type": "code",
   "execution_count": 14,
   "id": "a657a892",
   "metadata": {},
   "outputs": [
    {
     "name": "stdout",
     "output_type": "stream",
     "text": [
      "aa\n"
     ]
    }
   ],
   "source": [
    "s = \"aabaab\"\n",
    "rev = s[::-1]\n",
    "res = ''\n",
    "for char in range(len(s)):\n",
    "    if s[char] == rev[char]:\n",
    "        res = res + s[char]\n",
    "print(res)"
   ]
  },
  {
   "cell_type": "code",
   "execution_count": 16,
   "id": "c6694a1b",
   "metadata": {},
   "outputs": [
    {
     "name": "stdout",
     "output_type": "stream",
     "text": [
      "{'i': 2, 'am': 2, 'what': 2, 'and': 1, 'you': 1}\n"
     ]
    }
   ],
   "source": [
    "s = \"i am what i am and what you\"\n",
    "words = s.split()\n",
    "dict1 = {}\n",
    "for word in words:\n",
    "    if word in dict1:\n",
    "        dict1[word] += 1\n",
    "    else:\n",
    "        dict1[word] = 1\n",
    "print(dict1)"
   ]
  },
  {
   "cell_type": "code",
   "execution_count": 19,
   "id": "3e806189",
   "metadata": {},
   "outputs": [
    {
     "name": "stdout",
     "output_type": "stream",
     "text": [
      "{'aet': ['eat', 'tea', 'ate'], 'ant': ['tan', 'nat'], 'abt': ['bat']}\n",
      "None\n"
     ]
    }
   ],
   "source": [
    "def group_anagrams(str1):\n",
    "    dict1 = {}\n",
    "    for word in str1:\n",
    "        sorted_word = \"\".join(sorted(word))\n",
    "        \n",
    "        if sorted_word not in dict1:\n",
    "            dict1[sorted_word] = [word]\n",
    "        else:\n",
    "            dict1[sorted_word].append(word)\n",
    "    output = []\n",
    "    for item in dict1.values():\n",
    "        output.append(item)\n",
    "    print(dict1)\n",
    "    \n",
    "        \n",
    "str1 = [\"eat\",\"tea\",\"tan\",\"ate\",\"nat\",\"bat\"]\n",
    "res = group_anagrams(str1)\n",
    "print(res)"
   ]
  },
  {
   "cell_type": "code",
   "execution_count": 25,
   "id": "c04ff56b",
   "metadata": {},
   "outputs": [
    {
     "data": {
      "text/plain": [
       "'a1b2c1'"
      ]
     },
     "execution_count": 25,
     "metadata": {},
     "output_type": "execute_result"
    }
   ],
   "source": [
    "def fun(x):\n",
    "    count = 1\n",
    "    s = \"\"\n",
    "    for i in range(1,len(x)):\n",
    "        if x[i] == x[i-1]:\n",
    "            count = count + 1\n",
    "        else:\n",
    "            s = s + x[i-1] + (str(count) if count >= 1 else \"\")\n",
    "            count = 1\n",
    "    s= s + x[-1] + (str(count) if count >=1 else \"\")\n",
    "    return s\n",
    "x = \"abbc\"\n",
    "res = fun(x)\n",
    "res "
   ]
  },
  {
   "cell_type": "code",
   "execution_count": 38,
   "id": "f2070e2d",
   "metadata": {},
   "outputs": [
    {
     "name": "stdout",
     "output_type": "stream",
     "text": [
      " dayallthisdocani "
     ]
    }
   ],
   "source": [
    "s = \"i can do this all day\"\n",
    "w = s.split()\n",
    "res = \" \"\n",
    "for word in range(len(w)-1,-1,-1):\n",
    "    res = res + w[word]\n",
    "print(res,end = \" \")"
   ]
  },
  {
   "cell_type": "code",
   "execution_count": 34,
   "id": "3d655bb1",
   "metadata": {},
   "outputs": [
    {
     "name": "stdout",
     "output_type": "stream",
     "text": [
      " ihba\n"
     ]
    }
   ],
   "source": [
    "s = 'abhi'\n",
    "res = \" \"\n",
    "for i in range(len(s)-1,-1,-1):\n",
    "    res = res + s[i]\n",
    "print(res)"
   ]
  },
  {
   "cell_type": "code",
   "execution_count": 43,
   "id": "cc0d0e75",
   "metadata": {},
   "outputs": [
    {
     "name": "stdout",
     "output_type": "stream",
     "text": [
      "i n a c o d s i h t l l a y a d\n"
     ]
    }
   ],
   "source": [
    "s = \"i can do this all day\"\n",
    "w = s.split()\n",
    "res = []\n",
    "for words in w:\n",
    "    for j in range(len(words)-1,-1,-1):\n",
    "        res.append(words[j])\n",
    "print(\" \".join(res))\n",
    "        "
   ]
  },
  {
   "cell_type": "code",
   "execution_count": 46,
   "id": "22b3d10e",
   "metadata": {},
   "outputs": [
    {
     "name": "stdout",
     "output_type": "stream",
     "text": [
      "badce\n"
     ]
    }
   ],
   "source": [
    "s = 'abcde'\n",
    "s = list(s)\n",
    "for i in range(0,len(s)-1,2):\n",
    "    temp = s[i]\n",
    "    s[i] = s[i+1]\n",
    "    s[i+1] = temp\n",
    "print(\"\".join(s))"
   ]
  },
  {
   "cell_type": "code",
   "execution_count": 4,
   "id": "2f8da980",
   "metadata": {},
   "outputs": [
    {
     "name": "stdout",
     "output_type": "stream",
     "text": [
      "{'a': 5, 'b': 6}\n",
      "5\n"
     ]
    }
   ],
   "source": [
    "dict = {}\n",
    "dict['a'] = 5\n",
    "dict['b'] = 6\n",
    "print(dict)\n",
    "print(dict['a'])"
   ]
  },
  {
   "cell_type": "code",
   "execution_count": 8,
   "id": "1b7bb056",
   "metadata": {},
   "outputs": [
    {
     "name": "stdout",
     "output_type": "stream",
     "text": [
      "1 2\n"
     ]
    }
   ],
   "source": [
    "nums = [2,7,11,15]\n",
    "target = 18\n",
    "if len(nums)<0:\n",
    "    print(False)\n",
    "dict1={}\n",
    "for i in range(len(nums)):\n",
    "    if nums[i] in dict1:\n",
    "        print(dict1[nums[i]],i)\n",
    "    else:\n",
    "        dict1[target-nums[i]] = i"
   ]
  },
  {
   "cell_type": "code",
   "execution_count": 14,
   "id": "70c413cd",
   "metadata": {},
   "outputs": [
    {
     "name": "stdout",
     "output_type": "stream",
     "text": [
      "{'I': 1, 'V': 5, 'X': 10, 'L': 50, 'C': 100, 'D': 500, 'M': 1000, 'A': 0}\n"
     ]
    }
   ],
   "source": [
    "dict1 = {'I':1,'V':5,'X':10,'L':50,'C':100,'D':500,'M':1000}\n",
    "dict1['A']=0\n",
    "print(dict1)"
   ]
  },
  {
   "cell_type": "code",
   "execution_count": 17,
   "id": "72f1304b",
   "metadata": {},
   "outputs": [
    {
     "name": "stdout",
     "output_type": "stream",
     "text": [
      "3\n"
     ]
    }
   ],
   "source": [
    "s = 'messi'\n",
    "max_length = 0\n",
    "start = 0\n",
    "visited = {}\n",
    "\n",
    "for i in range(len(s)):\n",
    "    if s[i] in visited and start<=visited[s[i]]:\n",
    "        start = visited[s[i]] + 1\n",
    "    else:\n",
    "        max_length = max(max_length,i-start+1)\n",
    "    visited[s[i]] = i\n",
    "print(max_length)"
   ]
  },
  {
   "cell_type": "code",
   "execution_count": 1,
   "id": "cb90ca84",
   "metadata": {},
   "outputs": [
    {
     "name": "stdout",
     "output_type": "stream",
     "text": [
      "2\n"
     ]
    }
   ],
   "source": [
    "def subarray(nums,k):\n",
    "    count = 0\n",
    "    pre_sum = 0\n",
    "    dict1 = {0:1}\n",
    "    \n",
    "    for num in nums:\n",
    "        pre_sum = pre_sum + num\n",
    "        \n",
    "        if pre_sum - k in dict1:\n",
    "            count = count + dict1[pre_sum-k]\n",
    "        if pre_sum in dict1:\n",
    "            dict1[pre_sum] += 1\n",
    "        else:\n",
    "            dict1[pre_sum] = 1\n",
    "    return count \n",
    "nums = [1,1,1]\n",
    "k = 2\n",
    "res = subarray(nums,k)\n",
    "print(res)"
   ]
  },
  {
   "cell_type": "code",
   "execution_count": 3,
   "id": "e8884e74",
   "metadata": {},
   "outputs": [
    {
     "name": "stdout",
     "output_type": "stream",
     "text": [
      "enter a paranthesis to check({})\n",
      "[]\n",
      "True\n"
     ]
    }
   ],
   "source": [
    "s = input('enter a paranthesis to check')\n",
    "dict1 = {')':'(','}':'{',']':'['}\n",
    "stack = []\n",
    "\n",
    "for char in s:\n",
    "    if char in dict1.values():\n",
    "        stack.append(char)\n",
    "    elif char in dict1.keys():\n",
    "        if stack.pop() != dict1[char]:\n",
    "            print(False)\n",
    "print(stack)\n",
    "print(len(stack)==0)"
   ]
  },
  {
   "cell_type": "code",
   "execution_count": 6,
   "id": "85a6ab92",
   "metadata": {},
   "outputs": [
    {
     "name": "stdout",
     "output_type": "stream",
     "text": [
      "1030\n"
     ]
    }
   ],
   "source": [
    "s = 'MXXX'\n",
    "pre = 0\n",
    "curr = 0\n",
    "total = 0\n",
    "dict1 = {'I':1,'V':5,'X':10,'L':50,'C':100,'D':500,'M':1000}\n",
    "\n",
    "for i in range(len(s)):\n",
    "    curr = dict1[s[i]]\n",
    "    if curr > pre:\n",
    "        total = total + curr - 2*pre\n",
    "    else:\n",
    "        total = total + curr\n",
    "        \n",
    "    pre = curr\n",
    "print(total)\n",
    "        \n",
    "        "
   ]
  },
  {
   "cell_type": "code",
   "execution_count": 7,
   "id": "db87dfe1",
   "metadata": {},
   "outputs": [
    {
     "name": "stdout",
     "output_type": "stream",
     "text": [
      "6\n"
     ]
    }
   ],
   "source": [
    "def max_subarray(nums):\n",
    "    curr_sum = nums[0]\n",
    "    max_sum = nums[0]\n",
    "    \n",
    "    for i in range(1,len(nums)):\n",
    "        curr_sum = max(nums[i],curr_sum + nums[i])\n",
    "        max_sum = max(curr_sum,max_sum)\n",
    "    return max_sum\n",
    "    \n",
    "nums = [-2,1,-3,4,-1,2,1,-5,4]\n",
    "res = max_subarray(nums)\n",
    "print(res)"
   ]
  },
  {
   "cell_type": "code",
   "execution_count": 29,
   "id": "3f31c873",
   "metadata": {},
   "outputs": [
    {
     "data": {
      "text/plain": [
       "'fl'"
      ]
     },
     "execution_count": 29,
     "metadata": {},
     "output_type": "execute_result"
    }
   ],
   "source": [
    "def longestCommonPrefix(strs):\n",
    "    lcp = \"\"\n",
    "    if len(strs) == 0:\n",
    "        return lcp\n",
    "    \n",
    "    min_len = len(strs[0])\n",
    "    for i in range(1,len(strs)):\n",
    "        min_len = min(min_len,len(strs[i]))\n",
    "    \n",
    "    for i in range(0,min_len):\n",
    "        curr = strs[0][i]\n",
    "        for j in range(0,len(strs)):\n",
    "            if strs[j][i] != curr:\n",
    "                return lcp\n",
    "        lcp = lcp + curr\n",
    "    return lcp\n",
    "        \n",
    "\n",
    "strs =  [\"flower\",\"flow\",\"flight\"]\n",
    "longestCommonPrefix(strs)"
   ]
  },
  {
   "cell_type": "code",
   "execution_count": 39,
   "id": "f8d13a05",
   "metadata": {},
   "outputs": [
    {
     "name": "stdout",
     "output_type": "stream",
     "text": [
      "[[-1, -1, 2], [-1, 0, 1]]\n"
     ]
    }
   ],
   "source": [
    "def threeSum(nums):\n",
    "    n = len(nums)\n",
    "    triplets = []\n",
    "    \n",
    "    #sort the array\n",
    "    nums.sort()\n",
    "    \n",
    "    #fix one value and find other two\n",
    "    for i in range(n-2):\n",
    "        #skip duplicates\n",
    "        if i > 0 and nums[i] == nums[i-1]:\n",
    "            continue\n",
    "        \n",
    "        #make pointers\n",
    "        left = i+1\n",
    "        right = n-1\n",
    "        \n",
    "        while left < right:\n",
    "            total = nums[i] + nums[left] + nums[right]\n",
    "            \n",
    "            if total < 0:\n",
    "                left = left + 1\n",
    "            elif total > 0:\n",
    "                right = right -1\n",
    "            else:\n",
    "                #found the triplets\n",
    "                triplets.append([nums[i],nums[left],nums[right]])\n",
    "                \n",
    "                while left < right and nums[left] == nums[left+1]:\n",
    "                    left = left + 1\n",
    "                while left < right and nums[right] == nums[right -1]:\n",
    "                    right = right -1\n",
    "                    \n",
    "                left = left + 1\n",
    "                right = right -1\n",
    "    return triplets\n",
    "nums = [-1, 0, 1, 2, -1, -4]\n",
    "result = threeSum(nums)\n",
    "print(result)\n"
   ]
  },
  {
   "cell_type": "code",
   "execution_count": 5,
   "id": "82b6d82d",
   "metadata": {},
   "outputs": [
    {
     "name": "stdout",
     "output_type": "stream",
     "text": [
      "original list:\n",
      " [[1 2 3]\n",
      " [4 5 6]\n",
      " [7 8 9]]\n",
      "[1, 2, 3, 6, 9, 8, 7, 4, 5]\n"
     ]
    }
   ],
   "source": [
    "def printSpiral(mat):\n",
    "    ans = []\n",
    "    n = len(mat)\n",
    "    m = len(mat[0])\n",
    "    \n",
    "    top = 0\n",
    "    bottom = n-1\n",
    "    left = 0\n",
    "    right = m-1\n",
    "    \n",
    "    while (top<=bottom and left<=right):\n",
    "        for i in range(left,right+1):\n",
    "            ans.append(mat[top][i])\n",
    "        top += 1\n",
    "        for i in range(top,bottom+1):\n",
    "            ans.append(mat[i][right])\n",
    "        right -=1\n",
    "        for i in range(right,left-1,-1):\n",
    "            ans.append(mat[bottom][i])\n",
    "        bottom -=1\n",
    "        for i in range(bottom,top-1,-1):\n",
    "            ans.append(mat[i][left])\n",
    "        left += 1\n",
    "    return ans\n",
    "\n",
    "\n",
    "\n",
    "mat = np.array([[1, 2, 3],\n",
    "       [4, 5, 6],\n",
    "       [7, 8, 9]])\n",
    "\n",
    "print(\"original list:\\n\",mat)\n",
    "                    \n",
    "ans = printSpiral(mat)\n",
    "\n",
    "print(ans)"
   ]
  },
  {
   "cell_type": "code",
   "execution_count": 8,
   "id": "5eff06c5",
   "metadata": {},
   "outputs": [
    {
     "name": "stdout",
     "output_type": "stream",
     "text": [
      "aba\n"
     ]
    }
   ],
   "source": [
    "s = \"babad\"\n",
    "rev = s[::-1]\n",
    "res = \"\"\n",
    "for char in range(len(s)):\n",
    "    if s[char] == rev[char]:\n",
    "        res = res + s[char]\n",
    "print(res)"
   ]
  },
  {
   "cell_type": "code",
   "execution_count": 14,
   "id": "7c3393ac",
   "metadata": {},
   "outputs": [
    {
     "name": "stdout",
     "output_type": "stream",
     "text": [
      "[[0 0 0]\n",
      " [0 0 0]\n",
      " [0 0 0]\n",
      " [0 0 0]\n",
      " [0 0 0]]\n"
     ]
    }
   ],
   "source": [
    "t1 = \"abcde\"\n",
    "t2 = \"ace\"\n",
    "m = len(t1)\n",
    "n = len(t2)\n",
    "\n",
    "mat = [[0]*(n) for i in range(m)]\n",
    "print(np.array(mat))"
   ]
  },
  {
   "cell_type": "code",
   "execution_count": 2,
   "id": "feb0f9c0",
   "metadata": {},
   "outputs": [
    {
     "name": "stdout",
     "output_type": "stream",
     "text": [
      "[0, 1, 2, 3, 4]\n"
     ]
    }
   ],
   "source": [
    "x = [int(i) for i in range(5)]\n",
    "print(x)"
   ]
  },
  {
   "cell_type": "code",
   "execution_count": 3,
   "id": "37e0f73b",
   "metadata": {},
   "outputs": [
    {
     "name": "stdout",
     "output_type": "stream",
     "text": [
      "<generator object <genexpr> at 0x000001AA325A1000>\n"
     ]
    }
   ],
   "source": [
    "y = (int(i) for i in range(5))\n",
    "print(y)"
   ]
  },
  {
   "cell_type": "code",
   "execution_count": 5,
   "id": "278a6966",
   "metadata": {},
   "outputs": [
    {
     "name": "stdout",
     "output_type": "stream",
     "text": [
      "1\n",
      "2\n",
      "3\n",
      "4\n",
      "5\n",
      "6\n",
      "7\n",
      "8\n",
      "9\n",
      "10\n"
     ]
    }
   ],
   "source": [
    "def num(n):\n",
    "    if n > 0:\n",
    "        num(n-1)\n",
    "        print(n)\n",
    "n = 10\n",
    "num(n)"
   ]
  },
  {
   "cell_type": "code",
   "execution_count": 9,
   "id": "39ca7443",
   "metadata": {},
   "outputs": [
    {
     "data": {
      "text/plain": [
       "120"
      ]
     },
     "execution_count": 9,
     "metadata": {},
     "output_type": "execute_result"
    }
   ],
   "source": [
    "def fact(n):\n",
    "    if n < 0:\n",
    "        return 0\n",
    "    elif n == 0 or n==1:\n",
    "        return 1\n",
    "    else:\n",
    "        f = 1\n",
    "        while n>1:\n",
    "            f = f*n\n",
    "            n = n-1\n",
    "        return f\n",
    "    \n",
    "n = 5\n",
    "fact(n)"
   ]
  },
  {
   "cell_type": "code",
   "execution_count": 11,
   "id": "635a1883",
   "metadata": {},
   "outputs": [
    {
     "name": "stdout",
     "output_type": "stream",
     "text": [
      "enter a num27\n",
      "27 is not a prime num\n"
     ]
    }
   ],
   "source": [
    "num = int(input('enter a num'))\n",
    "if num>1:\n",
    "    for i in range(2,num):\n",
    "        if num%i == 0:\n",
    "            print(num,'is not a prime num')\n",
    "            break\n",
    "    else:\n",
    "        print(num,'is a prime')\n",
    "else:\n",
    "    print(num,'is not a prime')\n"
   ]
  },
  {
   "cell_type": "code",
   "execution_count": 13,
   "id": "fdb25d3f",
   "metadata": {},
   "outputs": [
    {
     "name": "stdout",
     "output_type": "stream",
     "text": [
      "enter a s11\n",
      "enter a s210\n",
      "2\n",
      "3\n",
      "5\n",
      "7\n"
     ]
    }
   ],
   "source": [
    "s1 = int(input('enter a s1'))\n",
    "s2 = int(input('enter a s2'))\n",
    "for i in range(s1,s2):\n",
    "    if i > 1:\n",
    "        for j in range(2,i):\n",
    "            if i%j == 0:\n",
    "                break\n",
    "        else:\n",
    "            print(i)"
   ]
  },
  {
   "cell_type": "code",
   "execution_count": 15,
   "id": "a14f7904",
   "metadata": {},
   "outputs": [
    {
     "name": "stdout",
     "output_type": "stream",
     "text": [
      "0\n",
      "1\n",
      "1\n",
      "2\n",
      "3\n",
      "5\n",
      "8\n",
      "13\n",
      "21\n",
      "34\n",
      "55\n"
     ]
    }
   ],
   "source": [
    "def fun(n):\n",
    "    a = 0\n",
    "    b = 1\n",
    "    print(a)\n",
    "    print(b)\n",
    "    \n",
    "    for i in range(1,n):\n",
    "        print(a+b)\n",
    "        a,b = b,a+b\n",
    "    \n",
    "n = 10\n",
    "fun(n)"
   ]
  },
  {
   "cell_type": "code",
   "execution_count": 16,
   "id": "a1d08eb3",
   "metadata": {},
   "outputs": [
    {
     "name": "stdout",
     "output_type": "stream",
     "text": [
      "0\n",
      "1\n",
      "1\n",
      "2\n",
      "3\n",
      "5\n",
      "8\n",
      "13\n",
      "10 is not a fibb\n"
     ]
    }
   ],
   "source": [
    "def fun(n):\n",
    "    fn = 0\n",
    "    sn = 1\n",
    "    res = 1\n",
    "    print(fn)\n",
    "    print(sn)\n",
    "    print(res)\n",
    "    \n",
    "    if n == 0 or n == 1:\n",
    "        print(n,'is a fibb num')\n",
    "        \n",
    "    else:\n",
    "        while res<n:\n",
    "            fn = sn\n",
    "            sn = res\n",
    "            res = fn+sn\n",
    "            print(res)\n",
    "        if res == n:\n",
    "            print(n,'is fibb')\n",
    "        else:\n",
    "            print(n,'is not a fibb')\n",
    "            \n",
    "    \n",
    "    \n",
    "n = 10\n",
    "fun(n)"
   ]
  },
  {
   "cell_type": "code",
   "execution_count": 1,
   "id": "5b927178",
   "metadata": {},
   "outputs": [
    {
     "name": "stdout",
     "output_type": "stream",
     "text": [
      "enter a number354\n",
      "453\n"
     ]
    }
   ],
   "source": [
    "n = int(input('enter a number'))\n",
    "rev_num = 0\n",
    "while n > 0:\n",
    "    last = n%10\n",
    "    rev_num = rev_num*10+last\n",
    "    n = n //10\n",
    "print(rev_num)"
   ]
  },
  {
   "cell_type": "code",
   "execution_count": 3,
   "id": "83ad7ef6",
   "metadata": {},
   "outputs": [
    {
     "data": {
      "text/plain": [
       "8"
      ]
     },
     "execution_count": 3,
     "metadata": {},
     "output_type": "execute_result"
    }
   ],
   "source": [
    "def fun(num):\n",
    "    sum1 = 0\n",
    "    for i in num:\n",
    "        sum1 = sum1 + int(i)\n",
    "    return sum1\n",
    "    \n",
    "num = '143'\n",
    "fun(num)"
   ]
  },
  {
   "cell_type": "code",
   "execution_count": 7,
   "id": "19d190b5",
   "metadata": {},
   "outputs": [
    {
     "name": "stdout",
     "output_type": "stream",
     "text": [
      "[0]\n",
      "[0, 0]\n",
      "[0, 0, 1]\n",
      "100"
     ]
    }
   ],
   "source": [
    "def binary(num):\n",
    "    res = []\n",
    "    while num > 0:\n",
    "        rem = num%2\n",
    "        res.append(rem)\n",
    "        print(res)\n",
    "        num = num//2\n",
    "    res.reverse()\n",
    "    \n",
    "    for i in res:\n",
    "        print(i,end = '')\n",
    "    \n",
    "num = 4\n",
    "binary(num)"
   ]
  },
  {
   "cell_type": "code",
   "execution_count": 13,
   "id": "58fc82ab",
   "metadata": {},
   "outputs": [
    {
     "name": "stdout",
     "output_type": "stream",
     "text": [
      "[1, 2, 3, 4, 5]\n"
     ]
    }
   ],
   "source": [
    "x = [int(i) for i in range(1,6)]\n",
    "print(x)"
   ]
  },
  {
   "cell_type": "code",
   "execution_count": 16,
   "id": "20c7e130",
   "metadata": {},
   "outputs": [
    {
     "name": "stdout",
     "output_type": "stream",
     "text": [
      "6 is a perfect num\n"
     ]
    }
   ],
   "source": [
    "def perfect(num):\n",
    "    sum1 = 0\n",
    "    for i in range(1,num):\n",
    "        if num%i == 0:\n",
    "            sum1 = sum1 + i\n",
    "    if sum1 == num:\n",
    "        print(num,'is a perfect num')\n",
    "    else:\n",
    "        print(num,'is not a perfect num')\n",
    "    \n",
    "    \n",
    "num = 6\n",
    "perfect(num)"
   ]
  },
  {
   "cell_type": "code",
   "execution_count": 18,
   "id": "858209f5",
   "metadata": {},
   "outputs": [
    {
     "data": {
      "text/plain": [
       "55"
      ]
     },
     "execution_count": 18,
     "metadata": {},
     "output_type": "execute_result"
    }
   ],
   "source": [
    "def fun(num):\n",
    "    sum1 = 0\n",
    "    for i in range(1,num+1):\n",
    "        sum1 = sum1 + i\n",
    "    return sum1\n",
    "    \n",
    "num = 10\n",
    "fun(num)"
   ]
  },
  {
   "cell_type": "code",
   "execution_count": 19,
   "id": "64554b35",
   "metadata": {},
   "outputs": [
    {
     "data": {
      "text/plain": [
       "15"
      ]
     },
     "execution_count": 19,
     "metadata": {},
     "output_type": "execute_result"
    }
   ],
   "source": [
    "def fun(num):\n",
    "    sum1 = 0\n",
    "    while num>0:\n",
    "        sum1 = sum1 + num\n",
    "        num = num - 1\n",
    "    return sum1\n",
    "    \n",
    "num = 5\n",
    "fun(num)"
   ]
  },
  {
   "cell_type": "code",
   "execution_count": 26,
   "id": "841ddeeb",
   "metadata": {},
   "outputs": [
    {
     "name": "stdout",
     "output_type": "stream",
     "text": [
      "4 is a power of 2\n"
     ]
    }
   ],
   "source": [
    "def fun(num):\n",
    "    for i in range(1,num+1):\n",
    "        sum1 = 1<<i\n",
    "        if sum1 == num:\n",
    "            print(num,'is a power of 2')\n",
    "            break\n",
    "    else:\n",
    "        print(num,'is not a power of 2')\n",
    "num = 4\n",
    "fun(num)"
   ]
  },
  {
   "cell_type": "code",
   "execution_count": 30,
   "id": "db803b85",
   "metadata": {},
   "outputs": [
    {
     "name": "stdout",
     "output_type": "stream",
     "text": [
      "enter a num34\n",
      "34 is not a perfect square\n"
     ]
    }
   ],
   "source": [
    "def fun(num):\n",
    "    res = 0\n",
    "    for i in range(1,num+1):\n",
    "        if i*i == num:\n",
    "            res=1\n",
    "            break\n",
    "    if res == 1:\n",
    "        print(num,'is perfect square')\n",
    "    else:\n",
    "        print(num,'is not a perfect square')\n",
    "    \n",
    "num = int(input('enter a num'))\n",
    "fun(num)"
   ]
  },
  {
   "cell_type": "code",
   "execution_count": 32,
   "id": "aa1f82c3",
   "metadata": {},
   "outputs": [
    {
     "name": "stdout",
     "output_type": "stream",
     "text": [
      "10\n"
     ]
    }
   ],
   "source": [
    "n1 = 10\n",
    "n2 = 2\n",
    "if n1>n2:\n",
    "    great = n1\n",
    "else:\n",
    "    great = n2\n",
    "while True:\n",
    "    if great%n1 == 0 and great%n2==0:\n",
    "        lcm = great\n",
    "        break\n",
    "    great = great+1\n",
    "print(lcm)"
   ]
  },
  {
   "cell_type": "code",
   "execution_count": 33,
   "id": "c9de8681",
   "metadata": {},
   "outputs": [
    {
     "name": "stdout",
     "output_type": "stream",
     "text": [
      "3\n"
     ]
    }
   ],
   "source": [
    "n1 = 12\n",
    "n2 = 21\n",
    "if n1>n2:\n",
    "    smaller = n2\n",
    "else:\n",
    "    smaller = n1\n",
    "for i in range(1,smaller+1):\n",
    "    if n1%i == 0 and n2%i == 0:\n",
    "        hcf = i\n",
    "print(hcf)"
   ]
  },
  {
   "cell_type": "code",
   "execution_count": 34,
   "id": "478654fe",
   "metadata": {},
   "outputs": [
    {
     "data": {
      "text/plain": [
       "[2, 4, 6, 8, 10]"
      ]
     },
     "execution_count": 34,
     "metadata": {},
     "output_type": "execute_result"
    }
   ],
   "source": [
    "x = [1,2,3,4,5,6,7,8,9,10]\n",
    "y = list(filter(lambda i:i%2==0,x))\n",
    "y"
   ]
  },
  {
   "cell_type": "code",
   "execution_count": 36,
   "id": "7d522964",
   "metadata": {},
   "outputs": [
    {
     "name": "stdout",
     "output_type": "stream",
     "text": [
      "3\n"
     ]
    }
   ],
   "source": [
    "from datetime import date\n",
    "f_date = date(2023,11,17)\n",
    "l_date = date(2023,11,20)\n",
    "\n",
    "delta = abs(f_date-l_date)\n",
    "print(delta.days)"
   ]
  },
  {
   "cell_type": "code",
   "execution_count": 37,
   "id": "fed6729b",
   "metadata": {},
   "outputs": [
    {
     "name": "stdout",
     "output_type": "stream",
     "text": [
      "enter no of elements5\n",
      "1\n",
      "2\n",
      "3\n",
      "4\n",
      "5\n",
      "[1, 2, 3, 4, 5]\n"
     ]
    }
   ],
   "source": [
    "n = int(input('enter no of elements'))\n",
    "res = []\n",
    "for i in range(1,n+1):\n",
    "    res.append(int(input()))\n",
    "print(res)"
   ]
  },
  {
   "cell_type": "code",
   "execution_count": 39,
   "id": "0ac96a9b",
   "metadata": {},
   "outputs": [
    {
     "name": "stdout",
     "output_type": "stream",
     "text": [
      "enter rows2\n",
      "enter col2\n",
      "1\n",
      "2\n",
      "3\n",
      "4\n",
      "1 2 \n",
      "3 4 \n"
     ]
    }
   ],
   "source": [
    "r = int(input('enter rows'))\n",
    "c = int(input('enter col'))\n",
    "matrix  = []\n",
    "\n",
    "for i in range(r):\n",
    "    a = []\n",
    "    for j in range(c):\n",
    "        a.append(int(input()))\n",
    "    matrix.append(a)\n",
    "    \n",
    "for i in range(r):\n",
    "    for j in range(c):\n",
    "        print(matrix[i][j],end = \" \")\n",
    "    print()"
   ]
  },
  {
   "cell_type": "code",
   "execution_count": 40,
   "id": "dfb56421",
   "metadata": {},
   "outputs": [],
   "source": [
    "import numpy as np"
   ]
  },
  {
   "cell_type": "code",
   "execution_count": 46,
   "id": "ebb6c61a",
   "metadata": {},
   "outputs": [
    {
     "name": "stdout",
     "output_type": "stream",
     "text": [
      "[[1 2]\n",
      " [3 4]]\n",
      "\n",
      "row_sum\n",
      "3 7 \n",
      "col_sum\n",
      "4 6 "
     ]
    }
   ],
   "source": [
    "arr = np.array([[1,2],[3,4]])\n",
    "print(arr)\n",
    "\n",
    "row_sum = 0\n",
    "col_sum = 0\n",
    "\n",
    "print('\\nrow_sum')\n",
    "for i in range(len(arr)):\n",
    "    for j in range(len(arr)):\n",
    "        row_sum = row_sum + arr[i][j]\n",
    "    print(row_sum,end = \" \")\n",
    "    row_sum = 0\n",
    "print('\\ncol_sum')\n",
    "for j in range(len(arr)):\n",
    "    for i in range(len(arr)):\n",
    "        col_sum = col_sum + arr[i][j]\n",
    "    print(col_sum,end = \" \")\n",
    "    col_sum = 0\n",
    "\n",
    "\n"
   ]
  },
  {
   "cell_type": "code",
   "execution_count": 52,
   "id": "2caf0ad6",
   "metadata": {},
   "outputs": [
    {
     "name": "stdout",
     "output_type": "stream",
     "text": [
      "[[1 2 3]\n",
      " [4 5 6]\n",
      " [7 8 9]]\n",
      "1 4 7 \n",
      "2 5 8 \n",
      "3 6 9 \n"
     ]
    }
   ],
   "source": [
    "arr = np.array([[1,2,3],[4,5,6],[7,8,9]])\n",
    "print(arr)\n",
    "\n",
    "res = [[0,0,0],[0,0,0],[0,0,0]]\n",
    "\n",
    "for i in range(len(arr)):\n",
    "    for j in range(len(arr[0])):\n",
    "        res[j][i] = arr[i][j]\n",
    "for i in range(len(res)):\n",
    "    for j in range(len(res)):\n",
    "        print(res[i][j],end = \" \")\n",
    "    print()"
   ]
  },
  {
   "cell_type": "code",
   "execution_count": 53,
   "id": "f012ef51",
   "metadata": {},
   "outputs": [
    {
     "name": "stdout",
     "output_type": "stream",
     "text": [
      "1 2 3 4 5 6 7 8 9 10\n",
      "[1, 4, 9, 16, 25, 36, 49, 64, 81, 100]\n"
     ]
    }
   ],
   "source": [
    "fun = lambda i:i*i\n",
    "seq = list(map(int,input().split()))\n",
    "x = list(map(fun,seq))\n",
    "print(x)\n"
   ]
  },
  {
   "cell_type": "code",
   "execution_count": 54,
   "id": "3d280865",
   "metadata": {},
   "outputs": [
    {
     "name": "stdout",
     "output_type": "stream",
     "text": [
      "11 12 13 14 15 16 17 18 19 20\n"
     ]
    },
    {
     "data": {
      "text/plain": [
       "[121, 144, 169, 196, 225, 256, 289, 324, 361, 400]"
      ]
     },
     "execution_count": 54,
     "metadata": {},
     "output_type": "execute_result"
    }
   ],
   "source": [
    "x = list(map(lambda i:i*i, list(map(int,input().split()))))\n",
    "x"
   ]
  },
  {
   "cell_type": "code",
   "execution_count": 2,
   "id": "cf42472d",
   "metadata": {},
   "outputs": [
    {
     "name": "stdout",
     "output_type": "stream",
     "text": [
      "[5, 2, 3, 4, 1]\n"
     ]
    }
   ],
   "source": [
    "arr = [1,2,3,4,5]\n",
    "n = len(arr)\n",
    "temp = arr[0]\n",
    "arr[0] = arr[n-1]\n",
    "arr[n-1] = temp\n",
    "print(arr)"
   ]
  },
  {
   "cell_type": "code",
   "execution_count": 5,
   "id": "0a6a88f5",
   "metadata": {},
   "outputs": [
    {
     "name": "stdout",
     "output_type": "stream",
     "text": [
      "[5, 4, 3, 2, 1]\n"
     ]
    }
   ],
   "source": [
    "arr = [1,2,3,4,5]\n",
    "n = len(arr)\n",
    "for i in range(len(arr)//2):\n",
    "    temp = arr[i]\n",
    "    arr[i] = arr[n-1-i]\n",
    "    arr[n-1-i] = temp\n",
    "print(arr)"
   ]
  },
  {
   "cell_type": "code",
   "execution_count": 7,
   "id": "7ad465b5",
   "metadata": {},
   "outputs": [
    {
     "data": {
      "text/plain": [
       "5"
      ]
     },
     "execution_count": 7,
     "metadata": {},
     "output_type": "execute_result"
    }
   ],
   "source": [
    "def fun(arr):\n",
    "    l1 = arr[0]\n",
    "    l2 = arr[0]\n",
    "    for i in range(len(arr)):\n",
    "        if arr[i]>l1:\n",
    "            l1 = arr[i]\n",
    "    for i in range(len(arr)):\n",
    "        if arr[i]>l2 and arr[i] != l1:\n",
    "            l2 = arr[i]\n",
    "    return l2\n",
    "        \n",
    "\n",
    "arr = [1,9,3,4,5]\n",
    "fun(arr)"
   ]
  },
  {
   "cell_type": "code",
   "execution_count": 9,
   "id": "3e7ac9be",
   "metadata": {},
   "outputs": [
    {
     "data": {
      "text/plain": [
       "[9, 5, 4]"
      ]
     },
     "execution_count": 9,
     "metadata": {},
     "output_type": "execute_result"
    }
   ],
   "source": [
    "def fun(arr,n):\n",
    "    res = []\n",
    "    for i in range(0,n):\n",
    "        max1 = 0\n",
    "        \n",
    "        for j in range(0,len(arr)):\n",
    "            if arr[j] > max1:\n",
    "                max1 = arr[j]\n",
    "        arr.remove(max1)\n",
    "        res.append(max1)\n",
    "    return res\n",
    "    \n",
    "n = 3\n",
    "arr = [1,9,3,4,5]\n",
    "fun(arr,n)"
   ]
  },
  {
   "cell_type": "code",
   "execution_count": 2,
   "id": "19742244",
   "metadata": {},
   "outputs": [
    {
     "name": "stdout",
     "output_type": "stream",
     "text": [
      "enter a string1:abhi\n",
      "enter a string2:ishu\n",
      "['a', 'b', 's', 'u']\n"
     ]
    }
   ],
   "source": [
    "str1 = input(\"enter a string1:\")\n",
    "str2 = input(\"enter a string2:\") \n",
    "s1 = set(str1)\n",
    "s2 = set(str2)\n",
    "x = []\n",
    "for i in s1:\n",
    "    if i not in s2:\n",
    "        x.append(i)\n",
    "for i in s2:\n",
    "    if i not in s1:\n",
    "        x.append(i)\n",
    "print(x)"
   ]
  },
  {
   "cell_type": "code",
   "execution_count": 5,
   "id": "1d665342",
   "metadata": {},
   "outputs": [
    {
     "name": "stdout",
     "output_type": "stream",
     "text": [
      "anay\n"
     ]
    }
   ],
   "source": [
    "str1 = \"angadiabhinay\"\n",
    "for i in str1:\n",
    "    res = str1[:2] + str1[len(str1)-2:len(str1)]\n",
    "print(res)"
   ]
  },
  {
   "cell_type": "code",
   "execution_count": 8,
   "id": "b781f287",
   "metadata": {},
   "outputs": [
    {
     "name": "stdout",
     "output_type": "stream",
     "text": [
      "ibha\n"
     ]
    }
   ],
   "source": [
    "st1 = \"abhi\"\n",
    "st1 = list(st1)\n",
    "temp = st1[0]\n",
    "st1[0] = st1[-1]\n",
    "st1[-1] = temp\n",
    "print(\"\".join(st1))"
   ]
  },
  {
   "cell_type": "code",
   "execution_count": 10,
   "id": "0f25355e",
   "metadata": {},
   "outputs": [
    {
     "data": {
      "text/plain": [
       "{'the': 2,\n",
       " 'quick': 1,\n",
       " 'brown': 1,\n",
       " 'fox': 1,\n",
       " 'jumps': 1,\n",
       " 'over': 1,\n",
       " 'lazy': 1,\n",
       " 'dog.': 1}"
      ]
     },
     "execution_count": 10,
     "metadata": {},
     "output_type": "execute_result"
    }
   ],
   "source": [
    "def fun(str1):\n",
    "    counts = dict()\n",
    "    words = str1.split()\n",
    "    for w in words:\n",
    "        if w in counts:\n",
    "            counts[w] += 1\n",
    "        else:\n",
    "            counts[w] = 1\n",
    "    return counts\n",
    "str1 = 'the quick brown fox jumps over the lazy dog.'\n",
    "fun(str1)"
   ]
  },
  {
   "cell_type": "code",
   "execution_count": 13,
   "id": "f2f1bde5",
   "metadata": {},
   "outputs": [
    {
     "name": "stdout",
     "output_type": "stream",
     "text": [
      "aba\n"
     ]
    }
   ],
   "source": [
    "s = \"babad\"\n",
    "revs = s[::-1]\n",
    "res = \"\"\n",
    "for char in range(len(s)):\n",
    "    if s[char] == revs[char]:\n",
    "        res = res + s[char]\n",
    "print(res)"
   ]
  },
  {
   "cell_type": "code",
   "execution_count": 25,
   "id": "4b5c4253",
   "metadata": {},
   "outputs": [
    {
     "name": "stdout",
     "output_type": "stream",
     "text": [
      "{'aet': ['eat', 'tea', 'ate'], 'ant': ['tan', 'nat'], 'abt': ['bat']}\n"
     ]
    }
   ],
   "source": [
    "def fun(str1):\n",
    "    dict1 = {}\n",
    "    for word in str1:\n",
    "        sorted_word = \"\".join(sorted(word))\n",
    "        \n",
    "        if sorted_word not in dict1:\n",
    "            dict1[sorted_word] = [word]\n",
    "        else:\n",
    "            dict1[sorted_word].append(word)\n",
    "        \n",
    "    res = []\n",
    "    for val in dict1.values():\n",
    "        res.append(val)\n",
    "    return dict1\n",
    "        \n",
    "    \n",
    "\n",
    "str1 = [\"eat\",\"tea\",\"tan\",\"ate\",\"nat\",\"bat\"]\n",
    "output = fun(str1)\n",
    "print(output)"
   ]
  },
  {
   "cell_type": "code",
   "execution_count": 27,
   "id": "a8e602a4",
   "metadata": {},
   "outputs": [
    {
     "data": {
      "text/plain": [
       "'ab2c'"
      ]
     },
     "execution_count": 27,
     "metadata": {},
     "output_type": "execute_result"
    }
   ],
   "source": [
    "def fun(x):\n",
    "    count = 1\n",
    "    res = \"\"\n",
    "    for i in range(1,len(x)):\n",
    "        if x[i] == x[i-1]:\n",
    "            count = count +1\n",
    "        else:\n",
    "            res = res + x[i-1] + (str(count) if count>1 else \"\")\n",
    "            count = 1\n",
    "    res = res + x[-1] + (str(count) if count>1 else \"\")\n",
    "    return res\n",
    "x = \"abbc\"\n",
    "fun(x)"
   ]
  },
  {
   "cell_type": "code",
   "execution_count": 28,
   "id": "f04ea9a2",
   "metadata": {},
   "outputs": [
    {
     "name": "stdout",
     "output_type": "stream",
     "text": [
      "aaaabbbcc\n"
     ]
    }
   ],
   "source": [
    "sr1 = \"a4b3c2\"\n",
    "res = \"\"\n",
    "for i in sr1:\n",
    "    if i.isalpha():\n",
    "        res = res + i\n",
    "        pre = i\n",
    "    else:\n",
    "        res = res + pre*(int(i)-1)\n",
    "print(res)"
   ]
  },
  {
   "cell_type": "code",
   "execution_count": 32,
   "id": "eaa6420a",
   "metadata": {},
   "outputs": [
    {
     "name": "stdout",
     "output_type": "stream",
     "text": [
      "enter a num to check5\n",
      "target value 5 present at 4\n"
     ]
    }
   ],
   "source": [
    "def binary_search(x,target):\n",
    "    low = 0\n",
    "    high = len(x)-1\n",
    "    \n",
    "    while low <= high:\n",
    "        mid = (low+high)//2\n",
    "        guess = x[mid]\n",
    "        \n",
    "        if guess == target:\n",
    "            return mid\n",
    "        elif guess < target:\n",
    "            low = mid + 1\n",
    "        else:\n",
    "            high = mid -1\n",
    "    return -1\n",
    "    \n",
    "x = [1,2,3,4,5,5,6,7,8,9]\n",
    "target = int(input('enter a num to check'))\n",
    "res = binary_search(x,target)\n",
    "\n",
    "if res != -1:\n",
    "    print(\"target value\",target,\"present at\",res)\n",
    "else:\n",
    "    print(\"target value\",target,\"not present at\",res)"
   ]
  },
  {
   "cell_type": "code",
   "execution_count": 33,
   "id": "08103405",
   "metadata": {},
   "outputs": [
    {
     "data": {
      "text/plain": [
       "[11, 12, 22, 25, 34, 64, 90]"
      ]
     },
     "execution_count": 33,
     "metadata": {},
     "output_type": "execute_result"
    }
   ],
   "source": [
    "def bubble_sort(x):\n",
    "    n = len(x)\n",
    "    \n",
    "    for i in range(n):\n",
    "        for j in range(n-i-1):\n",
    "            if x[j] > x[j+1]:\n",
    "                x[j], x[j+1] = x[j+1], x[j]\n",
    "    return x\n",
    "\n",
    "x = [64, 34, 25, 12, 22, 11, 90]\n",
    "bubble_sort(x)"
   ]
  },
  {
   "cell_type": "code",
   "execution_count": null,
   "id": "44107ce5",
   "metadata": {},
   "outputs": [],
   "source": [
    "def select_sort(x):\n",
    "    for i in range(len(x)-1):\n",
    "        min_index = i\n",
    "        for j in range(i+1,len(x)):\n",
    "            if x[j] < x[min_index]:\n",
    "                min_index = j\n",
    "        if x[i] != x[min_index]\n",
    "                \n",
    "\n",
    "\n",
    "x = [64, 34, 25, 12, 22, 11, 90]\n",
    "slelct_sort(x)"
   ]
  },
  {
   "cell_type": "code",
   "execution_count": 38,
   "id": "87454b3c",
   "metadata": {},
   "outputs": [
    {
     "name": "stdout",
     "output_type": "stream",
     "text": [
      "my name is tony\n",
      "my marks are 100\n",
      "my is is 1\n"
     ]
    }
   ],
   "source": [
    "class Student:\n",
    "    def __init__(self,name,id,marks):\n",
    "        self.name = name\n",
    "        self.id = id\n",
    "        self.marks = marks\n",
    "    def m1(self):\n",
    "        print('my name is',self.name)\n",
    "        print('my marks are',self.marks)\n",
    "        print('my is is',self.id)\n",
    "s = Student('tony',1,100)\n",
    "s.m1()"
   ]
  },
  {
   "cell_type": "code",
   "execution_count": null,
   "id": "1f97d7b8",
   "metadata": {},
   "outputs": [],
   "source": []
  },
  {
   "cell_type": "code",
   "execution_count": null,
   "id": "e6f56a3c",
   "metadata": {},
   "outputs": [],
   "source": []
  },
  {
   "cell_type": "code",
   "execution_count": null,
   "id": "7fc2c4a5",
   "metadata": {},
   "outputs": [],
   "source": []
  },
  {
   "cell_type": "code",
   "execution_count": null,
   "id": "5a004b54",
   "metadata": {},
   "outputs": [],
   "source": []
  },
  {
   "cell_type": "code",
   "execution_count": null,
   "id": "b3e1ece7",
   "metadata": {},
   "outputs": [],
   "source": []
  },
  {
   "cell_type": "code",
   "execution_count": null,
   "id": "df8b6879",
   "metadata": {},
   "outputs": [],
   "source": []
  },
  {
   "cell_type": "code",
   "execution_count": null,
   "id": "e17c6f2f",
   "metadata": {},
   "outputs": [],
   "source": []
  },
  {
   "cell_type": "code",
   "execution_count": null,
   "id": "0c36fee0",
   "metadata": {},
   "outputs": [],
   "source": []
  },
  {
   "cell_type": "code",
   "execution_count": null,
   "id": "8c4151b4",
   "metadata": {},
   "outputs": [],
   "source": []
  },
  {
   "cell_type": "code",
   "execution_count": null,
   "id": "00bcb810",
   "metadata": {},
   "outputs": [],
   "source": []
  },
  {
   "cell_type": "code",
   "execution_count": null,
   "id": "da565982",
   "metadata": {},
   "outputs": [],
   "source": []
  },
  {
   "cell_type": "code",
   "execution_count": null,
   "id": "4a1c061d",
   "metadata": {},
   "outputs": [],
   "source": []
  },
  {
   "cell_type": "code",
   "execution_count": null,
   "id": "0a61162f",
   "metadata": {},
   "outputs": [],
   "source": []
  },
  {
   "cell_type": "code",
   "execution_count": null,
   "id": "b05d75c9",
   "metadata": {},
   "outputs": [],
   "source": []
  },
  {
   "cell_type": "code",
   "execution_count": null,
   "id": "c2944106",
   "metadata": {},
   "outputs": [],
   "source": []
  },
  {
   "cell_type": "code",
   "execution_count": null,
   "id": "b9c90988",
   "metadata": {},
   "outputs": [],
   "source": []
  },
  {
   "cell_type": "code",
   "execution_count": null,
   "id": "4aedacad",
   "metadata": {},
   "outputs": [],
   "source": []
  },
  {
   "cell_type": "code",
   "execution_count": null,
   "id": "75c78f0b",
   "metadata": {},
   "outputs": [],
   "source": []
  },
  {
   "cell_type": "code",
   "execution_count": null,
   "id": "0a26e315",
   "metadata": {},
   "outputs": [],
   "source": []
  },
  {
   "cell_type": "code",
   "execution_count": null,
   "id": "457338e9",
   "metadata": {},
   "outputs": [],
   "source": []
  },
  {
   "cell_type": "code",
   "execution_count": null,
   "id": "228da38e",
   "metadata": {},
   "outputs": [],
   "source": []
  },
  {
   "cell_type": "code",
   "execution_count": null,
   "id": "4ceccfd5",
   "metadata": {},
   "outputs": [],
   "source": []
  },
  {
   "cell_type": "code",
   "execution_count": null,
   "id": "a3caf817",
   "metadata": {},
   "outputs": [],
   "source": []
  },
  {
   "cell_type": "code",
   "execution_count": null,
   "id": "ccf51f62",
   "metadata": {},
   "outputs": [],
   "source": []
  },
  {
   "cell_type": "code",
   "execution_count": null,
   "id": "477a8325",
   "metadata": {},
   "outputs": [],
   "source": []
  },
  {
   "cell_type": "code",
   "execution_count": null,
   "id": "0cb16c98",
   "metadata": {},
   "outputs": [],
   "source": []
  },
  {
   "cell_type": "code",
   "execution_count": null,
   "id": "38d5fe2c",
   "metadata": {},
   "outputs": [],
   "source": []
  },
  {
   "cell_type": "code",
   "execution_count": null,
   "id": "000da871",
   "metadata": {},
   "outputs": [],
   "source": []
  },
  {
   "cell_type": "code",
   "execution_count": null,
   "id": "b51dab32",
   "metadata": {},
   "outputs": [],
   "source": []
  },
  {
   "cell_type": "code",
   "execution_count": null,
   "id": "c29631ca",
   "metadata": {},
   "outputs": [],
   "source": []
  },
  {
   "cell_type": "code",
   "execution_count": null,
   "id": "b29d3cab",
   "metadata": {},
   "outputs": [],
   "source": []
  },
  {
   "cell_type": "code",
   "execution_count": null,
   "id": "7c8ff039",
   "metadata": {},
   "outputs": [],
   "source": []
  },
  {
   "cell_type": "code",
   "execution_count": null,
   "id": "26d74270",
   "metadata": {},
   "outputs": [],
   "source": []
  },
  {
   "cell_type": "code",
   "execution_count": null,
   "id": "f781f24c",
   "metadata": {},
   "outputs": [],
   "source": []
  }
 ],
 "metadata": {
  "kernelspec": {
   "display_name": "Python 3 (ipykernel)",
   "language": "python",
   "name": "python3"
  },
  "language_info": {
   "codemirror_mode": {
    "name": "ipython",
    "version": 3
   },
   "file_extension": ".py",
   "mimetype": "text/x-python",
   "name": "python",
   "nbconvert_exporter": "python",
   "pygments_lexer": "ipython3",
   "version": "3.11.4"
  }
 },
 "nbformat": 4,
 "nbformat_minor": 5
}
