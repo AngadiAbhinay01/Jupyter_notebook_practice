{
 "cells": [
  {
   "cell_type": "markdown",
   "id": "e2d8af73",
   "metadata": {},
   "source": [
    "## Queue"
   ]
  },
  {
   "cell_type": "raw",
   "id": "8aae6882",
   "metadata": {},
   "source": [
    "A queue is a data structure where elements are added at one end and removed from other end following FIFO."
   ]
  },
  {
   "cell_type": "raw",
   "id": "a4120c06",
   "metadata": {},
   "source": [
    "implement queue from list with append() and pop(0)."
   ]
  },
  {
   "cell_type": "code",
   "execution_count": 7,
   "id": "c1a7e735",
   "metadata": {},
   "outputs": [
    {
     "name": "stdout",
     "output_type": "stream",
     "text": [
      "1\n",
      "2\n"
     ]
    }
   ],
   "source": [
    "import queue\n",
    "\n",
    "q = queue.Queue()\n",
    "\n",
    "q.put(1)\n",
    "q.put(2)\n",
    "\n",
    "print(q.get())\n",
    "print(q.get())"
   ]
  },
  {
   "cell_type": "code",
   "execution_count": 15,
   "id": "39dfb20e",
   "metadata": {},
   "outputs": [
    {
     "name": "stdout",
     "output_type": "stream",
     "text": [
      "initial queue\n",
      "[1, 2, 3]\n",
      "1\n",
      "2\n",
      "3\n",
      "after removing elements\n",
      "[]\n"
     ]
    }
   ],
   "source": [
    "l = []\n",
    "l.append(1)\n",
    "l.append(2)\n",
    "l.append(3)\n",
    "print('initial queue')\n",
    "print(l)\n",
    "print(l.pop(0))\n",
    "print(l.pop(0))\n",
    "print(l.pop(0))\n",
    "print('after removing elements')\n",
    "print(l)"
   ]
  },
  {
   "cell_type": "markdown",
   "id": "31c4ab43",
   "metadata": {},
   "source": [
    "## stack"
   ]
  },
  {
   "cell_type": "raw",
   "id": "37a23d5f",
   "metadata": {},
   "source": [
    "stack follows last in first out LIFO."
   ]
  },
  {
   "cell_type": "code",
   "execution_count": 18,
   "id": "8ab576a3",
   "metadata": {},
   "outputs": [
    {
     "name": "stdout",
     "output_type": "stream",
     "text": [
      "intial stack\n",
      "[1, 2, 3]\n",
      "after removing elements\n",
      "3\n",
      "2\n",
      "1\n"
     ]
    }
   ],
   "source": [
    "stack = []\n",
    "\n",
    "stack.append(1)\n",
    "stack.append(2)\n",
    "stack.append(3)\n",
    "print('intial stack')\n",
    "print(stack)\n",
    "\n",
    "print('after removing elements')\n",
    "print(stack.pop())\n",
    "print(stack.pop())\n",
    "print(stack.pop())"
   ]
  },
  {
   "cell_type": "code",
   "execution_count": null,
   "id": "ed932c4a",
   "metadata": {},
   "outputs": [],
   "source": []
  },
  {
   "cell_type": "code",
   "execution_count": null,
   "id": "dc2c782d",
   "metadata": {},
   "outputs": [],
   "source": []
  },
  {
   "cell_type": "code",
   "execution_count": null,
   "id": "c9e07c6f",
   "metadata": {},
   "outputs": [],
   "source": []
  },
  {
   "cell_type": "code",
   "execution_count": null,
   "id": "f2947ce2",
   "metadata": {},
   "outputs": [],
   "source": []
  },
  {
   "cell_type": "markdown",
   "id": "9d2e7ddb",
   "metadata": {},
   "source": [
    "## Deque"
   ]
  },
  {
   "cell_type": "raw",
   "id": "9fac78bd",
   "metadata": {},
   "source": [
    "A deque (doubl ended queue) allows elements to be added and removed from both ends"
   ]
  },
  {
   "cell_type": "raw",
   "id": "57523e4a",
   "metadata": {},
   "source": [
    "methods:\n",
    "\n",
    "append()\n",
    "appendleft()\n",
    "pop()\n",
    "popleft()\n",
    "extend()\n",
    "extendleft()"
   ]
  },
  {
   "cell_type": "code",
   "execution_count": 10,
   "id": "84a155c0",
   "metadata": {},
   "outputs": [
    {
     "name": "stdout",
     "output_type": "stream",
     "text": [
      "deque([2, 1])\n"
     ]
    }
   ],
   "source": [
    "from collections import deque\n",
    "\n",
    "d = deque()\n",
    "d.append(1)\n",
    "d.appendleft(2)\n",
    "print(d)"
   ]
  },
  {
   "cell_type": "code",
   "execution_count": 19,
   "id": "23319d50",
   "metadata": {},
   "outputs": [
    {
     "name": "stdout",
     "output_type": "stream",
     "text": [
      "deque([6, 2, 1, 4])\n"
     ]
    }
   ],
   "source": [
    "d.appendleft(6)\n",
    "d.append(4)\n",
    "print(d)"
   ]
  },
  {
   "cell_type": "code",
   "execution_count": 20,
   "id": "49ff04cd",
   "metadata": {},
   "outputs": [
    {
     "name": "stdout",
     "output_type": "stream",
     "text": [
      "deque([2, 1])\n"
     ]
    }
   ],
   "source": [
    "d.pop()\n",
    "d.popleft()\n",
    "print(d)"
   ]
  },
  {
   "cell_type": "code",
   "execution_count": null,
   "id": "c3be4c5f",
   "metadata": {},
   "outputs": [],
   "source": []
  }
 ],
 "metadata": {
  "kernelspec": {
   "display_name": "Python 3 (ipykernel)",
   "language": "python",
   "name": "python3"
  },
  "language_info": {
   "codemirror_mode": {
    "name": "ipython",
    "version": 3
   },
   "file_extension": ".py",
   "mimetype": "text/x-python",
   "name": "python",
   "nbconvert_exporter": "python",
   "pygments_lexer": "ipython3",
   "version": "3.11.5"
  }
 },
 "nbformat": 4,
 "nbformat_minor": 5
}
