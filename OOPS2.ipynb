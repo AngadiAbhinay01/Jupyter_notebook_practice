{
 "cells": [
  {
   "cell_type": "code",
   "execution_count": 3,
   "id": "df976a06",
   "metadata": {},
   "outputs": [
    {
     "name": "stdout",
     "output_type": "stream",
     "text": [
      "my name is maru\n",
      "age is 20\n",
      "id is 1\n",
      "marks are 90\n"
     ]
    },
    {
     "data": {
      "text/plain": [
       "{'name': 'maru', 'age': 20, 'id': 1, 'marks': 90}"
      ]
     },
     "execution_count": 3,
     "metadata": {},
     "output_type": "execute_result"
    }
   ],
   "source": [
    "#: Write a Python program to create a Student class and Creates an object to it. Call the method talk() to display details\n",
    "\n",
    "class Student:\n",
    "    def __init__(self, name, age, id, marks):\n",
    "        self.name = name\n",
    "        self.age = age\n",
    "        self.id = id\n",
    "        self.marks = marks\n",
    "    def talk(self):\n",
    "        print('my name is',self.name)\n",
    "        print('age is',self.age)\n",
    "        print('id is',self.id)\n",
    "        print('marks are',self.marks)\n",
    "s = Student('maru',20,1,90)\n",
    "s.talk()\n",
    "s.__dict__"
   ]
  },
  {
   "cell_type": "code",
   "execution_count": 7,
   "id": "7b369b32",
   "metadata": {},
   "outputs": [
    {
     "name": "stdout",
     "output_type": "stream",
     "text": [
      "constructor excecuted\n",
      "method excecuted\n",
      "constructor excecuted\n",
      "method excecuted\n"
     ]
    }
   ],
   "source": [
    "# program to show constructor excecute only once per object\n",
    "class Student:\n",
    "    def __init__(self):\n",
    "        print('constructor excecuted')\n",
    "    def talk(self):\n",
    "        print('method excecuted')\n",
    "s = Student()\n",
    "s.talk()\n",
    "s1 = Student()\n",
    "s1.talk()\n"
   ]
  },
  {
   "cell_type": "raw",
   "id": "bac537a8",
   "metadata": {},
   "source": [
    "types of variables\n",
    "1.instance variables\n",
    "2.static varivales\n",
    "3.local variables"
   ]
  },
  {
   "cell_type": "code",
   "execution_count": 8,
   "id": "228cb0b9",
   "metadata": {},
   "outputs": [
    {
     "name": "stdout",
     "output_type": "stream",
     "text": [
      "{'a': 10, 'b': 20, 'd': 40}\n"
     ]
    }
   ],
   "source": [
    "# how to declare instance variables\n",
    "\n",
    "class Example:\n",
    "    def __init__(self):  #inside constructor using self variable\n",
    "        self.a = 10\n",
    "        self.b = 20\n",
    "    def m1(self):        #inside instance method using self variable\n",
    "        self.c = 30\n",
    "        \n",
    "e = Example()\n",
    "e.d = 40                #ouside class using object reference number\n",
    "print(e.__dict__)"
   ]
  },
  {
   "cell_type": "code",
   "execution_count": 10,
   "id": "cf140cbf",
   "metadata": {},
   "outputs": [
    {
     "name": "stdout",
     "output_type": "stream",
     "text": [
      "10\n",
      "20\n",
      "10 20\n"
     ]
    }
   ],
   "source": [
    "# how to access instance variables\n",
    "\n",
    "class Example:\n",
    "    def __init__(self):\n",
    "        self.a = 10\n",
    "        self.b = 20\n",
    "    def m1(self):\n",
    "        print(self.a)\n",
    "        print(self.b)\n",
    "e1 = Example()\n",
    "e1.m1()\n",
    "print(e1.a, e1.b)"
   ]
  },
  {
   "cell_type": "code",
   "execution_count": 2,
   "id": "70b4ab43",
   "metadata": {},
   "outputs": [
    {
     "name": "stdout",
     "output_type": "stream",
     "text": [
      "{'__module__': '__main__', 'a': 10, '__init__': <function Fun.__init__ at 0x00000254F2CEE700>, 'm1': <function Fun.m1 at 0x00000254F2CED620>, 'm2': <classmethod(<function Fun.m2 at 0x00000254F2CED6C0>)>, 'm3': <staticmethod(<function Fun.m3 at 0x00000254F2CEC7C0>)>, '__dict__': <attribute '__dict__' of 'Fun' objects>, '__weakref__': <attribute '__weakref__' of 'Fun' objects>, '__doc__': None}\n",
      "{}\n",
      "{}\n",
      "2\n"
     ]
    }
   ],
   "source": [
    "# static variables\n",
    "# how to declare them\n",
    "import sys\n",
    "class Fun:                # with in the class\n",
    "    a = 10\n",
    "    def __init__(slef):  # inside constructor using class name\n",
    "        Fun.b = 20\n",
    "    def m1(self):        # inside instance method using class name\n",
    "        Fun.c = 30\n",
    "    @classmethod\n",
    "    def m2(cls):         #inside classmethod using cls or class name\n",
    "        cls.d1 = 40\n",
    "        Fun.d2 = 50\n",
    "    @staticmethod\n",
    "    def m3(self):\n",
    "        Fun.e = 60\n",
    "        \n",
    "print(Fun.__dict__)\n",
    "f = Fun()\n",
    "print(f.__dict__)\n",
    "f.m1()\n",
    "print(f.__dict__)\n",
    "print(sys.getrefcount(f))"
   ]
  },
  {
   "cell_type": "markdown",
   "id": "642c928c",
   "metadata": {},
   "source": [
    "# Encapsulation"
   ]
  },
  {
   "cell_type": "markdown",
   "id": "9c1790f8",
   "metadata": {},
   "source": [
    "Binding logically related data and functions within a class is called encapsulation. In encapsulation we hide the internal state of the object and show the necessary functions to the outside world."
   ]
  },
  {
   "cell_type": "code",
   "execution_count": 7,
   "id": "72a0be61",
   "metadata": {},
   "outputs": [
    {
     "name": "stdout",
     "output_type": "stream",
     "text": [
      "red\n",
      "The red car is driving.\n",
      "Model: toyota\n"
     ]
    }
   ],
   "source": [
    "class Car:\n",
    "    def __init__(self, color, model):\n",
    "        self.color = color        #public attribute\n",
    "        self.__model = model      #private attribute\n",
    "    def drive(self):\n",
    "        print(f\"The {self.color} car is driving.\")  # Accessing public attribute\n",
    "        print(f\"Model: {self.__model}\")  # Accessing private attribute\n",
    "my_car = Car('red','toyota')\n",
    "print(my_car.color)    # Accessing public attribute\n",
    "\n",
    "# Attempting to access private attribute directly (will result in an error)\n",
    "# print(\"Model:\", my_car.__model)\n",
    "\n",
    "# Accessing private attribute indirectly through a method\n",
    "my_car.drive()"
   ]
  },
  {
   "cell_type": "markdown",
   "id": "06b4e100",
   "metadata": {},
   "source": [
    "# Inheritance"
   ]
  },
  {
   "cell_type": "markdown",
   "id": "dad346d6",
   "metadata": {},
   "source": [
    "By using the inheritance we can use the variables and methods of a parent class inside a child class. It is also used to reduce the code duplication"
   ]
  },
  {
   "cell_type": "code",
   "execution_count": 14,
   "id": "c95f7278",
   "metadata": {},
   "outputs": [
    {
     "name": "stdout",
     "output_type": "stream",
     "text": [
      "Animal speaks\n",
      "Animal speaks\n",
      "Dog barks\n",
      "cat mew\n"
     ]
    }
   ],
   "source": [
    "class Animal:\n",
    "    def speak(self):\n",
    "        return 'Animal speaks'\n",
    "class Dog(Animal):\n",
    "    def bark(self):\n",
    "        return 'Dog barks'\n",
    "class Cat(Animal):\n",
    "    def mew(self):\n",
    "        return 'cat mew'\n",
    "    \n",
    "o1 = Dog()\n",
    "o2 = Cat()\n",
    "\n",
    "print(o1.speak())\n",
    "print(o2.speak())\n",
    "\n",
    "print(o1.bark())\n",
    "print(o2.mew())"
   ]
  },
  {
   "cell_type": "markdown",
   "id": "831978f1",
   "metadata": {},
   "source": [
    "# Overloading"
   ]
  },
  {
   "cell_type": "markdown",
   "id": "17915228",
   "metadata": {},
   "source": [
    "overloading in the oops is the ability to define the multiple methods with the same name but with different parameters.This allows same method name to behave differently based on the number of paramets it receives.\n",
    "1.operator overloading\n",
    "2.method overloading      \n",
    "3.constructor overloading"
   ]
  },
  {
   "cell_type": "code",
   "execution_count": 18,
   "id": "9d32cc7e",
   "metadata": {},
   "outputs": [
    {
     "name": "stdout",
     "output_type": "stream",
     "text": [
      "5\n"
     ]
    }
   ],
   "source": [
    "# operator overloading\n",
    "class Book:\n",
    "    def __init__(self,pages):\n",
    "        self.pages = pages\n",
    "    def __add__(self,others):\n",
    "        return self.pages + others.pages\n",
    "b1 = Book(2)\n",
    "b2 = Book(3)\n",
    "print(b1+b2)"
   ]
  },
  {
   "cell_type": "code",
   "execution_count": 21,
   "id": "e56edd50",
   "metadata": {},
   "outputs": [],
   "source": [
    "# method overloading"
   ]
  },
  {
   "cell_type": "markdown",
   "id": "e4a303c2",
   "metadata": {},
   "source": [
    "if the two methods have the same method name and with the different parameters then those methods said to be overloaded methods. In python method overloading is not supported."
   ]
  },
  {
   "cell_type": "code",
   "execution_count": 26,
   "id": "ecea5557",
   "metadata": {},
   "outputs": [
    {
     "name": "stdout",
     "output_type": "stream",
     "text": [
      "2 argument method\n"
     ]
    }
   ],
   "source": [
    "class Test:\n",
    "    def m1(self):\n",
    "        print('no argument method')\n",
    "    def m1(self,a):\n",
    "        print('1 argument method')\n",
    "    def m1(self,a,b):\n",
    "        print('2 argument method')\n",
    "        \n",
    "t = Test()\n",
    "#t.m1()\n",
    "#t.m1(2)\n",
    "t.m1(2,3)"
   ]
  },
  {
   "cell_type": "markdown",
   "id": "e349304d",
   "metadata": {},
   "source": [
    "If we are trying to declare multiple methods with same name and different number of arguments \n",
    "then Python will always consider only last method"
   ]
  },
  {
   "cell_type": "code",
   "execution_count": 31,
   "id": "66def0a7",
   "metadata": {},
   "outputs": [
    {
     "name": "stdout",
     "output_type": "stream",
     "text": [
      "3\n",
      "6\n",
      "10\n"
     ]
    }
   ],
   "source": [
    "# method overloading with varible number of arguments\n",
    "\n",
    "class Test:\n",
    "    def sum(self, *a):\n",
    "        total = 0\n",
    "        for i in a:\n",
    "            total = total + i\n",
    "        print(total)\n",
    "        \n",
    "o = Test()\n",
    "o.sum(1,2)\n",
    "o.sum(1,2,3)\n",
    "o.sum(1,2,3,4)"
   ]
  },
  {
   "cell_type": "code",
   "execution_count": 36,
   "id": "d546f741",
   "metadata": {},
   "outputs": [
    {
     "name": "stdout",
     "output_type": "stream",
     "text": [
      "10\n",
      "30\n",
      "75\n"
     ]
    }
   ],
   "source": [
    "# method overloading with keyword orguments\n",
    "class Test:\n",
    "    def sum(self, **kwargs):\n",
    "        total = 0\n",
    "        for key, val in kwargs.items():\n",
    "            total = total + val\n",
    "        print(total)\n",
    "c = Test()\n",
    "c.sum(a=10)\n",
    "c.sum(a=10, b=20)\n",
    "c.sum(a=25,b=25,c=25)"
   ]
  },
  {
   "cell_type": "markdown",
   "id": "92ddeaea",
   "metadata": {},
   "source": [
    "# method overriding"
   ]
  },
  {
   "cell_type": "markdown",
   "id": "9d252036",
   "metadata": {},
   "source": [
    "In method overriding, the parent class and the child class have the same method name and contains the same parameters.\n",
    "If the child class is not satisfied with the parent class implenetation then child can redefine the the implementation. this is also called as overriding."
   ]
  },
  {
   "cell_type": "code",
   "execution_count": 42,
   "id": "10b5c25d",
   "metadata": {},
   "outputs": [
    {
     "name": "stdout",
     "output_type": "stream",
     "text": [
      "gold+money+land\n",
      "Emma\n"
     ]
    }
   ],
   "source": [
    "class P:\n",
    "    def property(self):\n",
    "        print('gold+money+land')\n",
    "    def marry(self):\n",
    "        print('samantha')\n",
    "class C(P):\n",
    "    def marry(self):\n",
    "        print('Emma')\n",
    "c = C()\n",
    "c.property()\n",
    "c.marry()"
   ]
  },
  {
   "cell_type": "markdown",
   "id": "2af9c0b3",
   "metadata": {},
   "source": [
    "# Polymorphism"
   ]
  },
  {
   "cell_type": "markdown",
   "id": "43920921",
   "metadata": {},
   "source": [
    "polymorphism is, an object which shows different behaviour at the different methods of implementations of different classes."
   ]
  },
  {
   "cell_type": "markdown",
   "id": "f1edc94a",
   "metadata": {},
   "source": [
    "Method Overriding is the best example for the polymorphism, beacuse parent class and child class has same method name but the code will be different."
   ]
  },
  {
   "cell_type": "code",
   "execution_count": 1,
   "id": "2268c6b0",
   "metadata": {},
   "outputs": [
    {
     "name": "stdout",
     "output_type": "stream",
     "text": [
      "gold+money+land\n",
      "Emma\n"
     ]
    }
   ],
   "source": [
    "class P:\n",
    "    def property(self):\n",
    "        print('gold+money+land')\n",
    "    def marry(self):\n",
    "        print('samantha')\n",
    "class C(P):\n",
    "    def marry(self):\n",
    "        print('Emma')\n",
    "c = C()\n",
    "c.property()\n",
    "c.marry()"
   ]
  },
  {
   "cell_type": "markdown",
   "id": "505376b5",
   "metadata": {},
   "source": [
    "# Abtraction"
   ]
  },
  {
   "cell_type": "markdown",
   "id": "f215249d",
   "metadata": {},
   "source": [
    "#### Abstract method"
   ]
  },
  {
   "cell_type": "markdown",
   "id": "d0343773",
   "metadata": {},
   "source": [
    "sometimes we dont know about the method implementation/loigc but still we decalre a method, then such type of methods are called as a abstract methods. This methods declared using the @abstractmethod decorator."
   ]
  },
  {
   "cell_type": "code",
   "execution_count": 4,
   "id": "c41b8869",
   "metadata": {},
   "outputs": [],
   "source": [
    "from abc import *\n",
    "class Test:\n",
    "    @abstractmethod\n",
    "    def m1(self):\n",
    "        pass\n",
    "t = Test()"
   ]
  },
  {
   "cell_type": "markdown",
   "id": "468a8388",
   "metadata": {},
   "source": [
    "#### Abstract class"
   ]
  },
  {
   "cell_type": "markdown",
   "id": "991f2bab",
   "metadata": {},
   "source": [
    "sometimes implementation of the classes are incomplete. Then such type of partially implemented classses are called as Abstract classes. Every abstract class present in the ABC class which is derive from the abc module."
   ]
  },
  {
   "cell_type": "code",
   "execution_count": 7,
   "id": "906a13f0",
   "metadata": {},
   "outputs": [],
   "source": [
    "from abc import *\n",
    "class Test(ABC):\n",
    "    @abstractmethod\n",
    "    def m1(self):\n",
    "        pass\n",
    "class Exam(Test):\n",
    "    pass"
   ]
  },
  {
   "cell_type": "markdown",
   "id": "ce22f699",
   "metadata": {},
   "source": [
    "#### Abstraction"
   ]
  },
  {
   "cell_type": "markdown",
   "id": "78faf378",
   "metadata": {},
   "source": [
    "Hiding the implementation details and expoing only required details to the users is known as Abstraction"
   ]
  },
  {
   "cell_type": "code",
   "execution_count": null,
   "id": "94a37f6c",
   "metadata": {},
   "outputs": [],
   "source": [
    "from abc import *\n",
    "class Bank(ABC):\n",
    "    @abstractmethod\n",
    "    def deposit(self, amount):\n",
    "        pass\n",
    "    \n",
    "    @abstractmethod\n",
    "    def withdraw(self, amount):\n",
    "        pass\n",
    "    "
   ]
  }
 ],
 "metadata": {
  "kernelspec": {
   "display_name": "Python 3 (ipykernel)",
   "language": "python",
   "name": "python3"
  },
  "language_info": {
   "codemirror_mode": {
    "name": "ipython",
    "version": 3
   },
   "file_extension": ".py",
   "mimetype": "text/x-python",
   "name": "python",
   "nbconvert_exporter": "python",
   "pygments_lexer": "ipython3",
   "version": "3.11.5"
  }
 },
 "nbformat": 4,
 "nbformat_minor": 5
}
