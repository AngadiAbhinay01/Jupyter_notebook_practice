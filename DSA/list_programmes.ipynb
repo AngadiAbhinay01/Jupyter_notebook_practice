{
 "cells": [
  {
   "cell_type": "code",
   "execution_count": null,
   "metadata": {},
   "outputs": [],
   "source": [
    "#Acessing elements in list\n",
    "\"\"\"\n",
    "shopping = ['bread','eggs','cheese','fruits']\n",
    "#print(shopping[-1])\n",
    "\n",
    "#traversing through list\n",
    "\n",
    "for i in range(len(shopping)):\n",
    "    print(shopping[i])\n",
    "\n",
    "#update/insert ele in list\n",
    "lst = [1,2,3,4,5]\n",
    "lst[2] = 10\n",
    "lst[4] = 20\n",
    "print(lst)\n",
    "\n",
    "lst.insert(0,30)\n",
    "lst.append(40)\n",
    "print(lst)\n",
    "\n",
    "newlst = [9,99,999]\n",
    "lst.extend(newlst)\n",
    "print(lst)\n",
    "\n",
    "#slicing and deletion of list of elements\n",
    "\n",
    "lst = ['a','b','h','i','n','a','y']\n",
    "\n",
    "lst[0:2] = ['A','B']\n",
    "print(lst[:])\n",
    "\n",
    "lst.pop()\n",
    "lst.pop(-1)\n",
    "\n",
    "del lst[1]\n",
    "\n",
    "lst.remove('h')\n",
    "print(lst)\n",
    "\n",
    "\n",
    "#searching for an element in a list\n",
    "\n",
    "lst = [10,20,30,40,50,60,70,80,90]\n",
    "#in method\n",
    "if 20 in lst:\n",
    "    print(lst.index(20))\n",
    "else:\n",
    "    print(\"ele is not in list\")\n",
    "\n",
    "#linear search\n",
    "\n",
    "def linear_Search(list,value):\n",
    "    for i in list:\n",
    "        if i == value:\n",
    "            return list.index(value)\n",
    "    return \"ele is not exist in list\"\n",
    "\n",
    "lst = [10,20,30,40,50,60,70,80,90]\n",
    "print(linear_Search(lst,100))\n",
    "\n",
    "\n",
    "#list operations or functions\n",
    "\n",
    "x = [1,2,3]\n",
    "y = [4,5,6]\n",
    "z = x+y\n",
    "print(z)\n",
    "\n",
    "x = \"abhi\"\n",
    "x = x*3\n",
    "print(x)\n",
    "\n",
    "\n",
    "\n",
    "count = 0\n",
    "total = 0\n",
    "while(True):    \n",
    "    inp = input(\"enter a num:\")\n",
    "    if inp == 'done':\n",
    "        break\n",
    "    value = float(inp)\n",
    "    total = total + value\n",
    "    count = count + 1\n",
    "    avg = total/count\n",
    "print(\"average\",avg)\n",
    "\n",
    "\n",
    "\n",
    "list1 = list()\n",
    "while(True):\n",
    "    inp = input(\"enter a num:\")\n",
    "    if inp == 'done':\n",
    "        break\n",
    "    val = float(inp)\n",
    "    list1.append(val)\n",
    "avg = sum(list1)/len(list1)\n",
    "print(avg)\n",
    "\"\"\"\n",
    "#how to implement list fro strings\n",
    "\n",
    "x = \"abhinay\"\n",
    "y = list(x)\n",
    "print(y)"
   ]
  },
  {
   "cell_type": "code",
   "execution_count": 3,
   "metadata": {},
   "outputs": [
    {
     "name": "stdout",
     "output_type": "stream",
     "text": [
      "35.0\n"
     ]
    }
   ],
   "source": [
    "#find missing number from 1 to 100\n",
    "\n",
    "mylist = [1, 2, 3, 4, 5, 6, 7, 8, 9, 10, 11, 12, 13, 14, 15, 16, 17, 18, 19, 20, 21, 22, 23, 24, 25, 26, 27, 28,\n",
    "          29, 30, 31, 32, 33, 34 , 36, 37, 38, 39, 40, 41, 42, 43, 44, 45, 46, 47, 48, 49, 50, 51, 52, 53, 54, \n",
    "          55, 56, 57, 58, 59, 60, 61, 62, 63, 64, 65, 66, 67, 68, 69, 70, 71, 72, 73,74, 75, 76, 77, 78, 79, 80,\n",
    "          81, 82, 83, 84, 85, 86, 87, 88, 89, 90, 91, 92, 93, 94, 95, 96, 97, 98, 99, 100]\n",
    "def find_missing(list,n):\n",
    "    sum1 = 100*101/2\n",
    "    sum2 = sum(list)\n",
    "    print(sum1-sum2)\n",
    "find_missing(mylist,100)\n"
   ]
  },
  {
   "cell_type": "code",
   "execution_count": 8,
   "metadata": {},
   "outputs": [
    {
     "name": "stdout",
     "output_type": "stream",
     "text": [
      "0 5\n",
      "1 2\n",
      "1 4\n",
      "2 3\n",
      "3 4\n"
     ]
    }
   ],
   "source": [
    "#find all pairs of integers whose sum is equal to given target number\n",
    "\n",
    "def find_pairs(mylist,target):\n",
    "    for i in range(len(mylist)):\n",
    "        for j in range(i+1,len(mylist)):\n",
    "            if mylist[i] == mylist[j]:\n",
    "                continue\n",
    "            elif mylist[i] + mylist[j] == target:\n",
    "                print(i,j)\n",
    "list = [1,2,3,2,3,4,5,6]\n",
    "find_pairs(list,5)"
   ]
  },
  {
   "cell_type": "code",
   "execution_count": 9,
   "metadata": {},
   "outputs": [
    {
     "name": "stdout",
     "output_type": "stream",
     "text": [
      "enter the element to search:4\n",
      "5\n"
     ]
    }
   ],
   "source": [
    "x = int(input(\"enter the element to search:\"))\n",
    "list = [1,2,3,2,3,4,5,6]\n",
    "for i in range(len(list)):\n",
    "    if list[i] == x:\n",
    "        print(i)"
   ]
  },
  {
   "cell_type": "code",
   "execution_count": 10,
   "metadata": {},
   "outputs": [
    {
     "name": "stdout",
     "output_type": "stream",
     "text": [
      "1\n",
      "3\n"
     ]
    }
   ],
   "source": [
    "#search element is present in the list or not\n",
    "\n",
    "def search(list,num):\n",
    "    for i in range(len(list)):\n",
    "        if list[i] == num:\n",
    "            print(i)\n",
    "list = [1,2,3,2,3,4,5,6]\n",
    "search(list,2)"
   ]
  },
  {
   "cell_type": "code",
   "execution_count": 12,
   "metadata": {},
   "outputs": [
    {
     "name": "stdout",
     "output_type": "stream",
     "text": [
      "5,6\n",
      "30\n"
     ]
    }
   ],
   "source": [
    "#find maximum product of two integers in array\n",
    "\n",
    "def max_product(array):\n",
    "    maxproduct = 0\n",
    "    for i in range(len(array)):\n",
    "        for j in range(i+1,len(array)):\n",
    "            if array[i]*array[j] > maxproduct:\n",
    "                maxproduct =  array[i]*array[j]\n",
    "                pairs = str(array[i])+ \",\" +str(array[j])\n",
    "    print(pairs)\n",
    "    print(maxproduct)\n",
    "array = [1,2,3,2,3,4,5,6]\n",
    "max_product(array)\n",
    "            "
   ]
  },
  {
   "cell_type": "code",
   "execution_count": 13,
   "metadata": {},
   "outputs": [
    {
     "name": "stdout",
     "output_type": "stream",
     "text": [
      "2\n",
      "False\n"
     ]
    }
   ],
   "source": [
    "#find if a list contains unique elements\n",
    "\n",
    "def is_unique(array):\n",
    "    a = []\n",
    "    for i in array:\n",
    "        if i in a:\n",
    "            print(i)\n",
    "            return False\n",
    "        else:\n",
    "            a.append(i)\n",
    "    return True\n",
    "array = [1,2,3,2,3,4,5,6]\n",
    "print(is_unique(array))"
   ]
  },
  {
   "cell_type": "code",
   "execution_count": 4,
   "metadata": {},
   "outputs": [
    {
     "name": "stdout",
     "output_type": "stream",
     "text": [
      "True\n"
     ]
    }
   ],
   "source": [
    "#permutation\n",
    "\n",
    "def permutation(list1,list2):\n",
    "    if len(list1) != len(list2):\n",
    "        return False\n",
    "    list1.sort()\n",
    "    list2.sort()\n",
    "    \n",
    "    if list1 == list2:\n",
    "        return True\n",
    "    else:\n",
    "        return False\n",
    "list1 = [5,1,6,9]\n",
    "list2 = [9,6,5,1]\n",
    "print(permutation(list1,list2))\n",
    "\n"
   ]
  },
  {
   "cell_type": "code",
   "execution_count": 27,
   "metadata": {},
   "outputs": [
    {
     "name": "stdout",
     "output_type": "stream",
     "text": [
      "[[1 2 3]\n",
      " [4 5 6]\n",
      " [7 8 9]]\n",
      "$Rotated matrix$\n",
      "[[7 4 1]\n",
      " [8 5 2]\n",
      " [9 6 3]]\n"
     ]
    }
   ],
   "source": [
    "#rotate matrix\n",
    "import numpy as np\n",
    "\n",
    "array = np.array([[1,2,3],[4,5,6],[7,8,9]])\n",
    "print(array)\n",
    "\n",
    "def rotatematrix(matrix):\n",
    "    n = len(matrix)\n",
    "    for layer in range(n//2):\n",
    "        first = layer\n",
    "        last = n-layer-1\n",
    "    \n",
    "    for i in range(first,last):\n",
    "        #save top element\n",
    "        top = matrix[layer][i]\n",
    "        #move left element to top\n",
    "        matrix[layer][i] = matrix[-i-1][layer]\n",
    "        #move bottom element to left\n",
    "        matrix[-i-1][layer] = matrix[-layer-1][-i-1]\n",
    "        #move right to bottom\n",
    "        matrix[-layer-1][-i-1] = matrix[i][-layer-1]\n",
    "        #move to top\n",
    "        matrix[i][-layer-1] = top\n",
    "    return matrix   \n",
    "\n",
    "print(\"$Rotated matrix$\")\n",
    "print(rotatematrix(array))\n",
    "    \n"
   ]
  },
  {
   "cell_type": "code",
   "execution_count": null,
   "metadata": {},
   "outputs": [],
   "source": []
  },
  {
   "cell_type": "code",
   "execution_count": null,
   "metadata": {},
   "outputs": [],
   "source": []
  }
 ],
 "metadata": {
  "kernelspec": {
   "display_name": "Python 3",
   "language": "python",
   "name": "python3"
  },
  "language_info": {
   "codemirror_mode": {
    "name": "ipython",
    "version": 3
   },
   "file_extension": ".py",
   "mimetype": "text/x-python",
   "name": "python",
   "nbconvert_exporter": "python",
   "pygments_lexer": "ipython3",
   "version": "3.8.5"
  }
 },
 "nbformat": 4,
 "nbformat_minor": 4
}
