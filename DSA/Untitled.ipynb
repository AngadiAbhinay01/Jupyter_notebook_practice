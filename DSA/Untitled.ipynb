{
 "cells": [
  {
   "cell_type": "code",
   "execution_count": 1,
   "metadata": {},
   "outputs": [
    {
     "name": "stdout",
     "output_type": "stream",
     "text": [
      "<__main__.Node object at 0x7feeed1b73a0>\n",
      "<__main__.Node object at 0x7feeed1b7400>\n"
     ]
    }
   ],
   "source": [
    "#creation of node\n",
    "\n",
    "class Node:\n",
    "    def __init__(self,data):\n",
    "        self.data = data\n",
    "        self.ref = None\n",
    "        \n",
    "    def getdata(self):\n",
    "        return self.data\n",
    "    \n",
    "    def getref(self):\n",
    "        return self.ref\n",
    "    \n",
    "    def setdata(self, val):\n",
    "        self.data = val\n",
    "        \n",
    "    def setref(self, val):\n",
    "        self.ref = val\n",
    "    \n",
    "    \n",
    "l1 = Node(1)\n",
    "l2 = Node(2)\n",
    "l1.getdata()\n",
    "l2.getref()\n",
    "print(l1)\n",
    "print(l2)\n"
   ]
  },
  {
   "cell_type": "code",
   "execution_count": 3,
   "metadata": {},
   "outputs": [
    {
     "name": "stdout",
     "output_type": "stream",
     "text": [
      "linked list is empty\n"
     ]
    }
   ],
   "source": [
    "#traversal through linked list\n",
    "\n",
    "class Node:\n",
    "    def __init__(self,data):\n",
    "        self.data = data\n",
    "        self.ref  = None\n",
    "\n",
    "class slinked_list:\n",
    "    def __init__(self):\n",
    "        self.head = None\n",
    "    \n",
    "    def traverse(self):\n",
    "        if self.head is None:\n",
    "            print(\"linked list is empty\")\n",
    "        else:\n",
    "            node = self.head\n",
    "            if node is not None:\n",
    "                print(node.data)\n",
    "                node = node.ref\n",
    "L1 = slinked_list()\n",
    "L1.traverse()"
   ]
  },
  {
   "cell_type": "code",
   "execution_count": 1,
   "metadata": {},
   "outputs": [
    {
     "name": "stdout",
     "output_type": "stream",
     "text": [
      "20\n",
      "10\n"
     ]
    }
   ],
   "source": [
    "#adding element at begining of linked list\n",
    "\n",
    "class Node:\n",
    "    def __init__(self,data):\n",
    "        self.data = data\n",
    "        self.ref = None\n",
    "\n",
    "class slinked_list:\n",
    "    def __init__(self):\n",
    "        self.head = None\n",
    "        \n",
    "    def traverse(self):\n",
    "        if self.head is None:\n",
    "            print(\"linked list is empty\")\n",
    "        else:\n",
    "            node = self.head\n",
    "            while node is not None:\n",
    "                print(node.data)\n",
    "                node = node.ref\n",
    "                \n",
    "    def insert_beginning(self,data):\n",
    "        newnode = Node(data)\n",
    "        newnode.ref = self.head\n",
    "        self.head = newnode\n",
    "        \n",
    "l1 = slinked_list()\n",
    "l1.insert_beginning(10)\n",
    "l1.insert_beginning(20)\n",
    "l1.traverse()"
   ]
  },
  {
   "cell_type": "code",
   "execution_count": 9,
   "metadata": {},
   "outputs": [
    {
     "name": "stdout",
     "output_type": "stream",
     "text": [
      "0 -->10 -->20 -->"
     ]
    }
   ],
   "source": [
    "#inserting at the end of the linked list\n",
    "\n",
    "class Node():\n",
    "    def __init__(self,data):\n",
    "        self.data = data\n",
    "        self.ref = None\n",
    "        \n",
    "class slinked_list:\n",
    "    def __init__(self):\n",
    "        self.head = None\n",
    "\n",
    "    def traverse(self):\n",
    "        if self.head is None:\n",
    "            print(\"linked list is empty\")\n",
    "        else:\n",
    "            node = self.head\n",
    "            while node is not None:\n",
    "                print(node.data,\"-->\",end = \"\")\n",
    "                node = node.ref\n",
    "                \n",
    "    def insert_begin(self,data):\n",
    "        newnode = Node(data)\n",
    "        newnode.ref = self.head\n",
    "        self.head = newnode\n",
    "\n",
    "    def insert_end(self,data):\n",
    "        newnode = Node(data)\n",
    "        if self.head is None:\n",
    "            self.head = newnode\n",
    "        else:\n",
    "            node = self.head\n",
    "            while node.ref is not None:\n",
    "                node = node.ref\n",
    "            node.ref = newnode\n",
    "                \n",
    "    \n",
    "l1 = slinked_list()\n",
    "l1.insert_begin(10)\n",
    "l1.insert_end(20)\n",
    "l1.insert_begin(0)\n",
    "l1.traverse()"
   ]
  },
  {
   "cell_type": "code",
   "execution_count": 1,
   "metadata": {},
   "outputs": [
    {
     "name": "stdout",
     "output_type": "stream",
     "text": [
      "10\n",
      "200\n",
      "300\n"
     ]
    }
   ],
   "source": [
    "# insert a node after the given node in linked list\n",
    "\n",
    "class Node:\n",
    "    def __init__(self,data):\n",
    "        self.data = data\n",
    "        self.ref = None\n",
    "class slinked_list:\n",
    "    def __init__(self):\n",
    "        self.head = None\n",
    "\n",
    "    def traverse(self):\n",
    "        if self.head is None:\n",
    "            print(\"linked list is empty\")\n",
    "        else:\n",
    "            node = self.head\n",
    "            while node is not None:\n",
    "                print(node.data)\n",
    "                node = node.ref\n",
    "    def insert_begin(self,data):\n",
    "        newnode = Node(data)\n",
    "        newnode.ref = self.head\n",
    "        self.head = newnode\n",
    "        \n",
    "    def insert_end(self,data):\n",
    "        newnode = Node(data)\n",
    "        if self.head is None:\n",
    "            self.head = newnode\n",
    "        else:\n",
    "            node = self.head\n",
    "            while node.ref is not None:\n",
    "                node = node.ref\n",
    "            node.ref = newnode\n",
    "    \n",
    "    def insert_after(self,data,x):\n",
    "        node = self.head\n",
    "        while node is not None:\n",
    "            if x == node.data:\n",
    "                break\n",
    "            node = node.ref\n",
    "        if node is None:\n",
    "            print(\"node is not present in the linked list\")\n",
    "        else:\n",
    "            newnode = Node(data)\n",
    "            newnode.ref = node.ref\n",
    "            node.ref = newnode\n",
    "    \n",
    "    \n",
    "l1 = slinked_list()\n",
    "l1.insert_begin(10)\n",
    "l1.insert_after(200,10)\n",
    "l1.insert_end(300)\n",
    "l1.traverse()"
   ]
  },
  {
   "cell_type": "code",
   "execution_count": null,
   "metadata": {},
   "outputs": [],
   "source": []
  },
  {
   "cell_type": "code",
   "execution_count": null,
   "metadata": {},
   "outputs": [],
   "source": []
  },
  {
   "cell_type": "code",
   "execution_count": null,
   "metadata": {},
   "outputs": [],
   "source": []
  },
  {
   "cell_type": "code",
   "execution_count": null,
   "metadata": {},
   "outputs": [],
   "source": []
  },
  {
   "cell_type": "code",
   "execution_count": null,
   "metadata": {},
   "outputs": [],
   "source": []
  },
  {
   "cell_type": "code",
   "execution_count": null,
   "metadata": {},
   "outputs": [],
   "source": []
  },
  {
   "cell_type": "code",
   "execution_count": null,
   "metadata": {},
   "outputs": [],
   "source": []
  },
  {
   "cell_type": "code",
   "execution_count": null,
   "metadata": {},
   "outputs": [],
   "source": []
  },
  {
   "cell_type": "code",
   "execution_count": null,
   "metadata": {},
   "outputs": [],
   "source": []
  },
  {
   "cell_type": "code",
   "execution_count": null,
   "metadata": {},
   "outputs": [],
   "source": []
  },
  {
   "cell_type": "code",
   "execution_count": null,
   "metadata": {},
   "outputs": [],
   "source": []
  },
  {
   "cell_type": "code",
   "execution_count": null,
   "metadata": {},
   "outputs": [],
   "source": []
  },
  {
   "cell_type": "code",
   "execution_count": null,
   "metadata": {},
   "outputs": [],
   "source": []
  },
  {
   "cell_type": "code",
   "execution_count": null,
   "metadata": {},
   "outputs": [],
   "source": []
  },
  {
   "cell_type": "code",
   "execution_count": null,
   "metadata": {},
   "outputs": [],
   "source": []
  },
  {
   "cell_type": "code",
   "execution_count": null,
   "metadata": {},
   "outputs": [],
   "source": []
  },
  {
   "cell_type": "code",
   "execution_count": null,
   "metadata": {},
   "outputs": [],
   "source": []
  },
  {
   "cell_type": "code",
   "execution_count": null,
   "metadata": {},
   "outputs": [],
   "source": []
  },
  {
   "cell_type": "code",
   "execution_count": null,
   "metadata": {},
   "outputs": [],
   "source": []
  },
  {
   "cell_type": "code",
   "execution_count": null,
   "metadata": {},
   "outputs": [],
   "source": []
  },
  {
   "cell_type": "code",
   "execution_count": null,
   "metadata": {},
   "outputs": [],
   "source": []
  },
  {
   "cell_type": "code",
   "execution_count": null,
   "metadata": {},
   "outputs": [],
   "source": []
  },
  {
   "cell_type": "code",
   "execution_count": null,
   "metadata": {},
   "outputs": [],
   "source": []
  }
 ],
 "metadata": {
  "kernelspec": {
   "display_name": "Python 3",
   "language": "python",
   "name": "python3"
  },
  "language_info": {
   "codemirror_mode": {
    "name": "ipython",
    "version": 3
   },
   "file_extension": ".py",
   "mimetype": "text/x-python",
   "name": "python",
   "nbconvert_exporter": "python",
   "pygments_lexer": "ipython3",
   "version": "3.8.5"
  }
 },
 "nbformat": 4,
 "nbformat_minor": 4
}
