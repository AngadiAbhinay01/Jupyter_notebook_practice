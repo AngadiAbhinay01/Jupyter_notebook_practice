{
 "cells": [
  {
   "cell_type": "code",
   "execution_count": 1,
   "metadata": {},
   "outputs": [
    {
     "name": "stdout",
     "output_type": "stream",
     "text": [
      "{}\n"
     ]
    }
   ],
   "source": [
    "myDict = dict()\n",
    "print(myDict)"
   ]
  },
  {
   "cell_type": "code",
   "execution_count": 2,
   "metadata": {},
   "outputs": [
    {
     "name": "stdout",
     "output_type": "stream",
     "text": [
      "{}\n"
     ]
    }
   ],
   "source": [
    "secondDict = {}\n",
    "print(secondDict)"
   ]
  },
  {
   "cell_type": "code",
   "execution_count": 1,
   "metadata": {},
   "outputs": [
    {
     "name": "stdout",
     "output_type": "stream",
     "text": [
      "{'one': 'uno', 'two': 'dos', 'three': 'tres'}\n",
      "dos\n",
      "tres\n"
     ]
    }
   ],
   "source": [
    "engToSp = {\"one\":\"uno\",\"two\":\"dos\",\"three\":\"tres\"}\n",
    "print(engToSp)\n",
    "print(engToSp[\"two\"])\n",
    "print(engToSp[\"three\"])\n"
   ]
  },
  {
   "cell_type": "code",
   "execution_count": 3,
   "metadata": {},
   "outputs": [
    {
     "name": "stdout",
     "output_type": "stream",
     "text": [
      "{'name': 'tom', 'age': 60, 'nickname': 'maverick'}\n"
     ]
    }
   ],
   "source": [
    "#update or add to dictionary\n",
    "myDict = {'name':'tom','age':60}\n",
    "myDict['nickname']='maverick'\n",
    "print(myDict)"
   ]
  },
  {
   "cell_type": "code",
   "execution_count": 6,
   "metadata": {},
   "outputs": [
    {
     "name": "stdout",
     "output_type": "stream",
     "text": [
      "name : tom\n",
      "age : 60\n",
      "nickname : maverick\n"
     ]
    }
   ],
   "source": [
    "#traversing through dictionary\n",
    "\n",
    "myDict = {'name': 'tom', 'age': 60, 'nickname': 'maverick'}\n",
    "\n",
    "def traverse(dict):\n",
    "    for key in dict:\n",
    "        print(key,\":\",dict[key])\n",
    "traverse(myDict)"
   ]
  },
  {
   "cell_type": "code",
   "execution_count": 8,
   "metadata": {},
   "outputs": [
    {
     "name": "stdout",
     "output_type": "stream",
     "text": [
      "('age', 60)\n",
      "value is not present in dictionary\n"
     ]
    }
   ],
   "source": [
    "#search for a value in dictionary\n",
    "x = {'name': 'tom', 'age': 60, 'nickname': '18'}\n",
    "\n",
    "def search(Dict,value):\n",
    "    for key in Dict:\n",
    "        if Dict[key] == value:\n",
    "            return key,value\n",
    "    return 'value is not present in dictionary'\n",
    "print(search(x,60))\n",
    "print(search(x,61))"
   ]
  },
  {
   "cell_type": "code",
   "execution_count": 16,
   "metadata": {},
   "outputs": [
    {
     "name": "stdout",
     "output_type": "stream",
     "text": [
      "tom\n",
      "{'age': 60, 'nickname': '18'}\n",
      "('nickname', '18')\n",
      "{'age': 60}\n",
      "{}\n"
     ]
    }
   ],
   "source": [
    "#delete an element in dict\n",
    "myDict = {'name': 'tom', 'age': 60, 'nickname': '18'}\n",
    "print(myDict.pop('name'))\n",
    "print(myDict)\n",
    "\n",
    "print(myDict.popitem())\n",
    "print(myDict)\n",
    "\n",
    "myDict.clear()\n",
    "print(myDict)"
   ]
  },
  {
   "cell_type": "code",
   "execution_count": 17,
   "metadata": {},
   "outputs": [
    {
     "name": "stdout",
     "output_type": "stream",
     "text": [
      "{'name': 'tom', 'nickname': '18'}\n"
     ]
    }
   ],
   "source": [
    "myDict = {'name': 'tom', 'age': 60, 'nickname': '18'}\n",
    "del myDict['age']\n",
    "print(myDict)"
   ]
  },
  {
   "cell_type": "code",
   "execution_count": 18,
   "metadata": {},
   "outputs": [
    {
     "name": "stdout",
     "output_type": "stream",
     "text": [
      "{}\n"
     ]
    }
   ],
   "source": [
    "#methods in dictionary\n",
    "#clear()\n",
    "\n",
    "dict = {'nanme':'edy','age':26,'address':'london','education':'master'}\n",
    "dict.clear()\n",
    "print(dict)"
   ]
  },
  {
   "cell_type": "code",
   "execution_count": 20,
   "metadata": {},
   "outputs": [
    {
     "name": "stdout",
     "output_type": "stream",
     "text": [
      "{'nanme': 'edy', 'age': 26, 'address': 'london', 'education': 'master'}\n",
      "{'nanme': 'edy', 'age': 26, 'address': 'london', 'education': 'master'}\n"
     ]
    }
   ],
   "source": [
    "#copy()\n",
    "\n",
    "dict = {'nanme':'edy','age':26,'address':'london','education':'master'}\n",
    "myDict = dict.copy()\n",
    "\n",
    "print(dict)\n",
    "print(myDict)\n"
   ]
  },
  {
   "cell_type": "code",
   "execution_count": 24,
   "metadata": {},
   "outputs": [
    {
     "name": "stdout",
     "output_type": "stream",
     "text": [
      "{1: 0, 2: 0, 3: 0}\n",
      "{6: 'a', 9: 'a', 3: 'a'}\n"
     ]
    }
   ],
   "source": [
    "#fromkeys()\n",
    "\n",
    "dict = {'nanme':'edy','age':26,'address':'london','education':'master'}\n",
    "\n",
    "newDict = {}.fromkeys([1,2,3],0)\n",
    "print(newDict)\n",
    "\n",
    "newDict1 = {}.fromkeys([6,9,3],'a')\n",
    "print(newDict1)\n",
    "                     "
   ]
  },
  {
   "cell_type": "code",
   "execution_count": 28,
   "metadata": {},
   "outputs": [
    {
     "name": "stdout",
     "output_type": "stream",
     "text": [
      "26\n",
      "rome\n",
      "None\n"
     ]
    }
   ],
   "source": [
    "#get()\n",
    "dict = {'nanme':'edy','age':26,'address':'london','education':'master'}\n",
    "\n",
    "print(dict.get('age',27))\n",
    "print(dict.get('city','rome'))\n",
    "print(dict.get('city'))"
   ]
  },
  {
   "cell_type": "code",
   "execution_count": 29,
   "metadata": {},
   "outputs": [
    {
     "name": "stdout",
     "output_type": "stream",
     "text": [
      "dict_items([('nanme', 'edy'), ('age', 26), ('address', 'london'), ('education', 'master')])\n"
     ]
    }
   ],
   "source": [
    "#items()\n",
    "dict = {'nanme':'edy','age':26,'address':'london','education':'master'}\n",
    "print(dict.items())"
   ]
  },
  {
   "cell_type": "code",
   "execution_count": 30,
   "metadata": {},
   "outputs": [
    {
     "name": "stdout",
     "output_type": "stream",
     "text": [
      "dict_keys(['nanme', 'age', 'address', 'education'])\n"
     ]
    }
   ],
   "source": [
    "#keys()\n",
    "dict = {'nanme':'edy','age':26,'address':'london','education':'master'}\n",
    "print(dict.keys())"
   ]
  },
  {
   "cell_type": "code",
   "execution_count": 31,
   "metadata": {},
   "outputs": [
    {
     "name": "stdout",
     "output_type": "stream",
     "text": [
      "dict_values(['edy', 26, 'london', 'master'])\n"
     ]
    }
   ],
   "source": [
    "#values\n",
    "dict = {'nanme':'edy','age':26,'address':'london','education':'master'}\n",
    "print(dict.values())"
   ]
  },
  {
   "cell_type": "code",
   "execution_count": 32,
   "metadata": {},
   "outputs": [
    {
     "name": "stdout",
     "output_type": "stream",
     "text": [
      "('education', 'master')\n",
      "{'nanme': 'edy', 'age': 26, 'address': 'london'}\n"
     ]
    }
   ],
   "source": [
    "#popitem()\n",
    "dict = {'nanme':'edy','age':26,'address':'london','education':'master'}\n",
    "print(dict.popitem())\n",
    "print(dict)"
   ]
  },
  {
   "cell_type": "code",
   "execution_count": 35,
   "metadata": {},
   "outputs": [
    {
     "name": "stdout",
     "output_type": "stream",
     "text": [
      "26\n",
      "26\n",
      "45\n",
      "{'nanme': 'edy', 'age': 26, 'address': 'london', 'education': 'master', 'age1': 45}\n"
     ]
    }
   ],
   "source": [
    "#setdefault()\n",
    "dict = {'nanme':'edy','age':26,'address':'london','education':'master'}\n",
    "print(dict.setdefault('age',30))\n",
    "print(dict.setdefault('age','edy'))\n",
    "print(dict.setdefault('age1',45))\n",
    "print(dict)"
   ]
  },
  {
   "cell_type": "code",
   "execution_count": 36,
   "metadata": {},
   "outputs": [
    {
     "name": "stdout",
     "output_type": "stream",
     "text": [
      "45\n"
     ]
    }
   ],
   "source": [
    "#pop\n",
    "dict = {'nanme': 'edy', 'age': 26, 'address': 'london', 'education': 'master', 'age1': 45}\n",
    "print(dict.pop('age1','not'))"
   ]
  },
  {
   "cell_type": "code",
   "execution_count": 37,
   "metadata": {},
   "outputs": [
    {
     "name": "stdout",
     "output_type": "stream",
     "text": [
      "{'nanme': 'edy', 'age': 26, 'address': 'london', 'education': 'master', 'a': 1, 'b': 2, 'c': 3}\n"
     ]
    }
   ],
   "source": [
    "#update\n",
    "dict = {'nanme':'edy','age':26,'address':'london','education':'master'}\n",
    "\n",
    "myDict = {'a':1,'b':2,'c':3}\n",
    "\n",
    "dict.update(myDict)\n",
    "print(dict)\n"
   ]
  },
  {
   "cell_type": "code",
   "execution_count": 42,
   "metadata": {},
   "outputs": [
    {
     "name": "stdout",
     "output_type": "stream",
     "text": [
      "False\n",
      "True\n",
      "True\n"
     ]
    }
   ],
   "source": [
    "#Dictionary operations using built-in functions\n",
    "#in operator\n",
    "\n",
    "dict = {'name':'edy','age':26,'address':'london','education':'master'}\n",
    "print('one' in dict)\n",
    "print('address' in dict)\n",
    "print(26 in dict.values())"
   ]
  },
  {
   "cell_type": "code",
   "execution_count": 44,
   "metadata": {},
   "outputs": [
    {
     "name": "stdout",
     "output_type": "stream",
     "text": [
      "name\n",
      "edy\n",
      "name edy\n",
      "age\n",
      "26\n",
      "age 26\n",
      "address\n",
      "london\n",
      "address london\n",
      "education\n",
      "master\n",
      "education master\n"
     ]
    }
   ],
   "source": [
    "#for operator\n",
    "dict = {'name':'edy','age':26,'address':'london','education':'master'}\n",
    "for key in dict:\n",
    "    print(key)\n",
    "    print(dict[key])\n",
    "    print(key,dict[key])\n",
    "\n"
   ]
  },
  {
   "cell_type": "code",
   "execution_count": 49,
   "metadata": {},
   "outputs": [
    {
     "name": "stdout",
     "output_type": "stream",
     "text": [
      "True\n",
      "True\n",
      "True\n",
      "True\n"
     ]
    }
   ],
   "source": [
    "#all()\n",
    "dict = {1:True,2:True}\n",
    "print(all(dict))\n",
    "dict1= {1:True,2:False}\n",
    "print(all(dict1))\n",
    "dict2= {1:False,2:False}\n",
    "print(all(dict2))\n",
    " \n",
    "Dict = {}\n",
    "print(all(Dict))\n",
    "\n",
    "\n"
   ]
  },
  {
   "cell_type": "code",
   "execution_count": 50,
   "metadata": {},
   "outputs": [
    {
     "name": "stdout",
     "output_type": "stream",
     "text": [
      "True\n",
      "True\n",
      "True\n",
      "False\n"
     ]
    }
   ],
   "source": [
    "#any()\n",
    "dict = {1:True,2:True}\n",
    "print(any(dict))\n",
    "dict1= {1:True,2:False}\n",
    "print(any(dict1))\n",
    "dict2= {1:False,2:False}\n",
    "print(any(dict2))\n",
    " \n",
    "Dict = {}\n",
    "print(any(Dict))"
   ]
  },
  {
   "cell_type": "code",
   "execution_count": 53,
   "metadata": {},
   "outputs": [
    {
     "name": "stdout",
     "output_type": "stream",
     "text": [
      "[1, 2, 6, 7, 9]\n",
      "['address', 'age', 'education', 'name']\n",
      "['age', 'name', 'address', 'education']\n"
     ]
    }
   ],
   "source": [
    "#sorted()\n",
    "myDict = {1:'r',2:'v',7:'d',6:'e',9:'q'}\n",
    "print(sorted(myDict))\n",
    "dict = {'name':'edy','age':26,'address':'london','education':'master'}\n",
    "print(sorted(dict))\n",
    "\n",
    "print(sorted(dict,key = len))"
   ]
  },
  {
   "cell_type": "code",
   "execution_count": 54,
   "metadata": {},
   "outputs": [
    {
     "name": "stdout",
     "output_type": "stream",
     "text": [
      "1\n"
     ]
    }
   ],
   "source": [
    "a = {(1,2):1,(2,3):2}\n",
    "print(a[1,2])"
   ]
  },
  {
   "cell_type": "code",
   "execution_count": null,
   "metadata": {},
   "outputs": [],
   "source": []
  }
 ],
 "metadata": {
  "kernelspec": {
   "display_name": "Python 3",
   "language": "python",
   "name": "python3"
  },
  "language_info": {
   "codemirror_mode": {
    "name": "ipython",
    "version": 3
   },
   "file_extension": ".py",
   "mimetype": "text/x-python",
   "name": "python",
   "nbconvert_exporter": "python",
   "pygments_lexer": "ipython3",
   "version": "3.8.5"
  }
 },
 "nbformat": 4,
 "nbformat_minor": 4
}
