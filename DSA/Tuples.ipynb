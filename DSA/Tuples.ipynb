{
 "cells": [
  {
   "cell_type": "code",
   "execution_count": 3,
   "metadata": {},
   "outputs": [
    {
     "name": "stdout",
     "output_type": "stream",
     "text": [
      "('a', 'b', 'd', 'e', 'r')\n",
      "('a',)\n",
      "a\n",
      "('a', 'b', 'h', 'i', 'n', 'a', 'y')\n"
     ]
    }
   ],
   "source": [
    "newTuple = ('a','b','d','e','r')\n",
    "print(newTuple)\n",
    "\n",
    "t = ('a',)\n",
    "t1 = ('a')\n",
    "print(t)\n",
    "print(t1)\n",
    "\n",
    "Tuple = tuple('abhinay')\n",
    "print(Tuple)\n"
   ]
  },
  {
   "cell_type": "code",
   "execution_count": 5,
   "metadata": {},
   "outputs": [
    {
     "data": {
      "text/plain": [
       "('a', 'b', 'd')"
      ]
     },
     "execution_count": 5,
     "metadata": {},
     "output_type": "execute_result"
    }
   ],
   "source": [
    "#accessing elements from the tuples\n",
    "newTuple = ('a','b','d','e','r')\n",
    "newTuple[0:3]\n"
   ]
  },
  {
   "cell_type": "code",
   "execution_count": 6,
   "metadata": {},
   "outputs": [
    {
     "name": "stdout",
     "output_type": "stream",
     "text": [
      "a\n",
      "b\n",
      "d\n",
      "e\n",
      "r\n"
     ]
    }
   ],
   "source": [
    "#traversing through tuple\n",
    "newTuple = ('a','b','d','e','r')\n",
    "for i in newTuple:\n",
    "    print(i)\n"
   ]
  },
  {
   "cell_type": "code",
   "execution_count": 8,
   "metadata": {},
   "outputs": [
    {
     "name": "stdout",
     "output_type": "stream",
     "text": [
      "a\n",
      "b\n",
      "d\n",
      "e\n",
      "r\n"
     ]
    }
   ],
   "source": [
    "newTuple = ('a','b','d','e','r')\n",
    "for i in range(len(newTuple)):\n",
    "    print(newTuple[i])"
   ]
  },
  {
   "cell_type": "code",
   "execution_count": 11,
   "metadata": {},
   "outputs": [
    {
     "name": "stdout",
     "output_type": "stream",
     "text": [
      "False\n",
      "True\n"
     ]
    }
   ],
   "source": [
    "#how to search element in tuple\n",
    "newTuple = ('a','b','d','e','r')\n",
    "print('z' in newTuple)\n",
    "print('b' in newTuple)\n"
   ]
  },
  {
   "cell_type": "code",
   "execution_count": 12,
   "metadata": {},
   "outputs": [
    {
     "name": "stdout",
     "output_type": "stream",
     "text": [
      "3\n"
     ]
    }
   ],
   "source": [
    "newTuple = ('a','b','d','e','r')\n",
    "\n",
    "def search(Tuple,element):\n",
    "    for i in Tuple:\n",
    "        if i == element:\n",
    "            return Tuple.index(i)\n",
    "    return 'element is not present in tuple'\n",
    "print(search(newTuple,'e'))"
   ]
  },
  {
   "cell_type": "code",
   "execution_count": 18,
   "metadata": {},
   "outputs": [
    {
     "name": "stdout",
     "output_type": "stream",
     "text": [
      "(1, 6, 8, 3, 6, 9, 7, 3, 9, 2, 5, 9)\n",
      "(1, 6, 8, 3, 6, 9, 1, 6, 8, 3, 6, 9)\n",
      "2\n",
      "2\n",
      "6\n",
      "9\n"
     ]
    }
   ],
   "source": [
    "#Tuple operations and functions\n",
    "\n",
    "myTuple = (1,6,8,3,6,9)\n",
    "myTuple1 = (7,3,9,2,5,9)\n",
    "\n",
    "#concatenation\n",
    "print(myTuple + myTuple1)\n",
    "\n",
    "#repitition\n",
    "print(myTuple * 2)\n",
    "\n",
    "#count \n",
    "print(myTuple.count(6))\n",
    "\n",
    "#indexing\n",
    "print(myTuple.index(8))\n",
    "\n",
    "#length\n",
    "print(len(myTuple))\n",
    "\n",
    "#maximum element\n",
    "print(max(myTuple))"
   ]
  },
  {
   "cell_type": "code",
   "execution_count": 19,
   "metadata": {},
   "outputs": [
    {
     "name": "stdout",
     "output_type": "stream",
     "text": [
      "0\n"
     ]
    }
   ],
   "source": [
    "Tuple = ()\n",
    "print(len(Tuple))"
   ]
  },
  {
   "cell_type": "code",
   "execution_count": 22,
   "metadata": {},
   "outputs": [
    {
     "name": "stdout",
     "output_type": "stream",
     "text": [
      "True\n"
     ]
    }
   ],
   "source": [
    "t = 'a','b'\n",
    "t1 = ('a','b')\n",
    "print(t == t1)"
   ]
  },
  {
   "cell_type": "code",
   "execution_count": 24,
   "metadata": {},
   "outputs": [
    {
     "name": "stdout",
     "output_type": "stream",
     "text": [
      "10\n"
     ]
    },
    {
     "data": {
      "text/plain": [
       "[None]"
      ]
     },
     "execution_count": 24,
     "metadata": {},
     "output_type": "execute_result"
    }
   ],
   "source": [
    "t = 1,2\n",
    "t1 = (3,4)\n",
    "\n",
    "[print(sum(x)) for x in [t + t1]]"
   ]
  },
  {
   "cell_type": "code",
   "execution_count": 25,
   "metadata": {},
   "outputs": [],
   "source": [
    "init_tuple = [(0, 1), (1, 2), (2, 3)]\n",
    "result = sum(n for _, n in init_tuple)"
   ]
  },
  {
   "cell_type": "code",
   "execution_count": 27,
   "metadata": {},
   "outputs": [
    {
     "name": "stdout",
     "output_type": "stream",
     "text": [
      "()\n"
     ]
    }
   ],
   "source": [
    "l = [1, 2, 3]\n",
    "init_tuple = ('Python',) * (l.__len__() - l[::-1][0])\n",
    "print(init_tuple)"
   ]
  },
  {
   "cell_type": "code",
   "execution_count": 30,
   "metadata": {},
   "outputs": [
    {
     "name": "stdout",
     "output_type": "stream",
     "text": [
      "<class 'str'>\n"
     ]
    }
   ],
   "source": [
    "init_tuple = ('Python') * 3\n",
    "\n",
    "print(type(init_tuple))"
   ]
  },
  {
   "cell_type": "code",
   "execution_count": 31,
   "metadata": {},
   "outputs": [
    {
     "ename": "TypeError",
     "evalue": "'tuple' object does not support item assignment",
     "output_type": "error",
     "traceback": [
      "\u001b[0;31m---------------------------------------------------------------------------\u001b[0m",
      "\u001b[0;31mTypeError\u001b[0m                                 Traceback (most recent call last)",
      "\u001b[0;32m<ipython-input-31-a1efd45b4120>\u001b[0m in \u001b[0;36m<module>\u001b[0;34m\u001b[0m\n\u001b[1;32m      1\u001b[0m \u001b[0minit_tuple\u001b[0m \u001b[0;34m=\u001b[0m \u001b[0;34m(\u001b[0m\u001b[0;36m1\u001b[0m\u001b[0;34m,\u001b[0m\u001b[0;34m)\u001b[0m \u001b[0;34m*\u001b[0m \u001b[0;36m3\u001b[0m\u001b[0;34m\u001b[0m\u001b[0;34m\u001b[0m\u001b[0m\n\u001b[0;32m----> 2\u001b[0;31m \u001b[0minit_tuple\u001b[0m\u001b[0;34m[\u001b[0m\u001b[0;36m0\u001b[0m\u001b[0;34m]\u001b[0m \u001b[0;34m=\u001b[0m \u001b[0;36m2\u001b[0m\u001b[0;34m\u001b[0m\u001b[0;34m\u001b[0m\u001b[0m\n\u001b[0m\u001b[1;32m      3\u001b[0m \u001b[0mprint\u001b[0m\u001b[0;34m(\u001b[0m\u001b[0minit_tuple\u001b[0m\u001b[0;34m)\u001b[0m\u001b[0;34m\u001b[0m\u001b[0;34m\u001b[0m\u001b[0m\n",
      "\u001b[0;31mTypeError\u001b[0m: 'tuple' object does not support item assignment"
     ]
    }
   ],
   "source": [
    "init_tuple = (1,) * 3\n",
    "init_tuple[0] = 2\n",
    "print(init_tuple)"
   ]
  },
  {
   "cell_type": "code",
   "execution_count": 32,
   "metadata": {},
   "outputs": [
    {
     "name": "stdout",
     "output_type": "stream",
     "text": [
      "4\n"
     ]
    }
   ],
   "source": [
    "init_tuple = ((1, 2),) * 7\n",
    "print(len(init_tuple[3:8]))"
   ]
  },
  {
   "cell_type": "code",
   "execution_count": null,
   "metadata": {},
   "outputs": [],
   "source": []
  }
 ],
 "metadata": {
  "kernelspec": {
   "display_name": "Python 3",
   "language": "python",
   "name": "python3"
  },
  "language_info": {
   "codemirror_mode": {
    "name": "ipython",
    "version": 3
   },
   "file_extension": ".py",
   "mimetype": "text/x-python",
   "name": "python",
   "nbconvert_exporter": "python",
   "pygments_lexer": "ipython3",
   "version": "3.8.5"
  }
 },
 "nbformat": 4,
 "nbformat_minor": 4
}
