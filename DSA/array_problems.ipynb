{
 "cells": [
  {
   "cell_type": "code",
   "execution_count": 2,
   "metadata": {},
   "outputs": [
    {
     "name": "stdout",
     "output_type": "stream",
     "text": [
      "how many days temp:2\n",
      "day1's high temp:4\n",
      "day2's high temp:5\n",
      "average temp = 4.5\n"
     ]
    }
   ],
   "source": [
    "#calculate average temparature\n",
    "\n",
    "numdays = int(input(\"how many days temp:\"))\n",
    "total = 0\n",
    "for i in range(1,numdays+1):\n",
    "    nextday = int(input(\"day\"+str(i)+\"'s high temp:\"))\n",
    "    total = total+nextday\n",
    "\n",
    "avg = total/numdays\n",
    "print(\"average temp = \"+str(avg))\n",
    "    \n",
    "    \n"
   ]
  },
  {
   "cell_type": "code",
   "execution_count": 7,
   "metadata": {},
   "outputs": [
    {
     "name": "stdout",
     "output_type": "stream",
     "text": [
      "how many days temp:2\n",
      "day0's high temp:3\n",
      "day1's high temp:4\n",
      "average temp = 3.5\n",
      "1day(s) above average\n"
     ]
    }
   ],
   "source": [
    "numdays = int(input(\"how many days temp:\"))\n",
    "total = 0\n",
    "arr = []\n",
    "for i in range(numdays):\n",
    "    nextday = int(input(\"day\"+str(i)+\"'s high temp:\"))\n",
    "    arr.append(nextday)\n",
    "    total = total + arr[i]\n",
    "\n",
    "avg = total/numdays\n",
    "print(\"average temp = \"+str(avg))\n",
    "\n",
    "above = 0\n",
    "for i in arr:\n",
    "    if i>avg:\n",
    "        above = above+1\n",
    "print(str(above)+\"day(s) above average\")"
   ]
  },
  {
   "cell_type": "code",
   "execution_count": null,
   "metadata": {},
   "outputs": [],
   "source": []
  }
 ],
 "metadata": {
  "kernelspec": {
   "display_name": "Python 3",
   "language": "python",
   "name": "python3"
  },
  "language_info": {
   "codemirror_mode": {
    "name": "ipython",
    "version": 3
   },
   "file_extension": ".py",
   "mimetype": "text/x-python",
   "name": "python",
   "nbconvert_exporter": "python",
   "pygments_lexer": "ipython3",
   "version": "3.8.5"
  }
 },
 "nbformat": 4,
 "nbformat_minor": 4
}
